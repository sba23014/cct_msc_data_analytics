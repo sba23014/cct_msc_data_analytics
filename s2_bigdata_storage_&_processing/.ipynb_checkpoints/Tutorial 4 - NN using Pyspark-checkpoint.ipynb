{
 "cells": [
  {
   "cell_type": "markdown",
   "metadata": {},
   "source": [
    "# Tutorial 4 - NN using Pyspark"
   ]
  },
  {
   "cell_type": "code",
   "execution_count": 1,
   "metadata": {},
   "outputs": [],
   "source": [
    "from pyspark.sql.types import *"
   ]
  },
  {
   "cell_type": "markdown",
   "metadata": {},
   "source": [
    "* Move the file named as \"HeightAndWeight_.csv\" to hadoop inside the folder named as \"user1\" before next step."
   ]
  },
  {
   "cell_type": "code",
   "execution_count": 2,
   "metadata": {},
   "outputs": [
    {
     "name": "stdout",
     "output_type": "stream",
     "text": [
      "root\n",
      " |-- gender: string (nullable = true)\n",
      " |-- height: integer (nullable = true)\n",
      " |-- weight: integer (nullable = true)\n",
      "\n"
     ]
    }
   ],
   "source": [
    "customSchema = StructType([\n",
    "    StructField(\"gender\", StringType(), True), \n",
    "    StructField(\"height\", IntegerType(), True), \n",
    "    StructField(\"weight\", IntegerType(), True)])\n",
    "\n",
    "df = spark.read.load('hdfs://localhost:9000/user1/HeightAndWeight_.csv', format=\"csv\", header=\"true\", sep=',', schema=customSchema)\n",
    "df.printSchema()"
   ]
  },
  {
   "cell_type": "code",
   "execution_count": 3,
   "metadata": {},
   "outputs": [
    {
     "name": "stderr",
     "output_type": "stream",
     "text": [
      "\r",
      "[Stage 0:>                                                          (0 + 1) / 1]\r"
     ]
    },
    {
     "name": "stdout",
     "output_type": "stream",
     "text": [
      "+------+------+------+\n",
      "|gender|height|weight|\n",
      "+------+------+------+\n",
      "|Female|    67|   150|\n",
      "|Female|    65|   135|\n",
      "|Female|    68|   130|\n",
      "|  Male|    70|   160|\n",
      "|Female|    70|   130|\n",
      "+------+------+------+\n",
      "only showing top 5 rows\n",
      "\n"
     ]
    },
    {
     "name": "stderr",
     "output_type": "stream",
     "text": [
      "\r",
      "                                                                                \r"
     ]
    }
   ],
   "source": [
    "df.show(5)"
   ]
  },
  {
   "cell_type": "code",
   "execution_count": 4,
   "metadata": {},
   "outputs": [],
   "source": [
    "from pyspark.sql import functions "
   ]
  },
  {
   "cell_type": "code",
   "execution_count": 5,
   "metadata": {},
   "outputs": [],
   "source": [
    "df = df.withColumn('gender',functions.when(df['gender']=='Female',0).otherwise(1))"
   ]
  },
  {
   "cell_type": "code",
   "execution_count": 6,
   "metadata": {},
   "outputs": [],
   "source": [
    "df = df.select('height', 'weight', 'gender')"
   ]
  },
  {
   "cell_type": "code",
   "execution_count": 7,
   "metadata": {},
   "outputs": [
    {
     "name": "stdout",
     "output_type": "stream",
     "text": [
      "+------+------+------+\n",
      "|height|weight|gender|\n",
      "+------+------+------+\n",
      "|    67|   150|     0|\n",
      "|    65|   135|     0|\n",
      "|    68|   130|     0|\n",
      "|    70|   160|     1|\n",
      "|    70|   130|     0|\n",
      "|    69|   174|     1|\n",
      "|    65|   126|     1|\n",
      "|    74|   188|     1|\n",
      "|    60|   110|     0|\n",
      "|    63|   125|     0|\n",
      "|    70|   173|     1|\n",
      "|    70|   145|     0|\n",
      "|    68|   175|     1|\n",
      "|    65|   123|     0|\n",
      "|    71|   145|     1|\n",
      "|    74|   160|     1|\n",
      "|    64|   135|     0|\n",
      "|    71|   175|     1|\n",
      "|    67|   145|     1|\n",
      "|    67|   130|     1|\n",
      "+------+------+------+\n",
      "only showing top 20 rows\n",
      "\n"
     ]
    }
   ],
   "source": [
    "df.show()"
   ]
  },
  {
   "cell_type": "code",
   "execution_count": 8,
   "metadata": {},
   "outputs": [],
   "source": [
    "import numpy as np"
   ]
  },
  {
   "cell_type": "code",
   "execution_count": 9,
   "metadata": {
    "scrolled": false
   },
   "outputs": [
    {
     "data": {
      "text/plain": [
       "[Row(height=67, weight=150, gender=0),\n",
       " Row(height=65, weight=135, gender=0),\n",
       " Row(height=68, weight=130, gender=0),\n",
       " Row(height=70, weight=160, gender=1),\n",
       " Row(height=70, weight=130, gender=0),\n",
       " Row(height=69, weight=174, gender=1),\n",
       " Row(height=65, weight=126, gender=1),\n",
       " Row(height=74, weight=188, gender=1),\n",
       " Row(height=60, weight=110, gender=0),\n",
       " Row(height=63, weight=125, gender=0),\n",
       " Row(height=70, weight=173, gender=1),\n",
       " Row(height=70, weight=145, gender=0),\n",
       " Row(height=68, weight=175, gender=1),\n",
       " Row(height=65, weight=123, gender=0),\n",
       " Row(height=71, weight=145, gender=1),\n",
       " Row(height=74, weight=160, gender=1),\n",
       " Row(height=64, weight=135, gender=0),\n",
       " Row(height=71, weight=175, gender=1),\n",
       " Row(height=67, weight=145, gender=1),\n",
       " Row(height=67, weight=130, gender=1),\n",
       " Row(height=70, weight=162, gender=1),\n",
       " Row(height=64, weight=107, gender=0),\n",
       " Row(height=70, weight=175, gender=1),\n",
       " Row(height=64, weight=130, gender=1),\n",
       " Row(height=66, weight=163, gender=1),\n",
       " Row(height=63, weight=137, gender=0),\n",
       " Row(height=65, weight=165, gender=1),\n",
       " Row(height=65, weight=130, gender=0),\n",
       " Row(height=64, weight=109, gender=0)]"
      ]
     },
     "execution_count": 9,
     "metadata": {},
     "output_type": "execute_result"
    }
   ],
   "source": [
    "df.select(\"height\", \"weight\", \"gender\").collect()"
   ]
  },
  {
   "cell_type": "code",
   "execution_count": 10,
   "metadata": {},
   "outputs": [
    {
     "data": {
      "text/plain": [
       "array([[ 67, 150,   0],\n",
       "       [ 65, 135,   0],\n",
       "       [ 68, 130,   0],\n",
       "       [ 70, 160,   1],\n",
       "       [ 70, 130,   0],\n",
       "       [ 69, 174,   1],\n",
       "       [ 65, 126,   1],\n",
       "       [ 74, 188,   1],\n",
       "       [ 60, 110,   0],\n",
       "       [ 63, 125,   0],\n",
       "       [ 70, 173,   1],\n",
       "       [ 70, 145,   0],\n",
       "       [ 68, 175,   1],\n",
       "       [ 65, 123,   0],\n",
       "       [ 71, 145,   1],\n",
       "       [ 74, 160,   1],\n",
       "       [ 64, 135,   0],\n",
       "       [ 71, 175,   1],\n",
       "       [ 67, 145,   1],\n",
       "       [ 67, 130,   1],\n",
       "       [ 70, 162,   1],\n",
       "       [ 64, 107,   0],\n",
       "       [ 70, 175,   1],\n",
       "       [ 64, 130,   1],\n",
       "       [ 66, 163,   1],\n",
       "       [ 63, 137,   0],\n",
       "       [ 65, 165,   1],\n",
       "       [ 65, 130,   0],\n",
       "       [ 64, 109,   0]])"
      ]
     },
     "execution_count": 10,
     "metadata": {},
     "output_type": "execute_result"
    }
   ],
   "source": [
    "data_array =  np.array(df.select(\"height\", \"weight\", \"gender\").collect())\n",
    "data_array #view the array"
   ]
  },
  {
   "cell_type": "code",
   "execution_count": 11,
   "metadata": {},
   "outputs": [
    {
     "data": {
      "text/plain": [
       "(29, 3)"
      ]
     },
     "execution_count": 11,
     "metadata": {},
     "output_type": "execute_result"
    }
   ],
   "source": [
    "data_array.shape"
   ]
  },
  {
   "cell_type": "code",
   "execution_count": 12,
   "metadata": {},
   "outputs": [
    {
     "data": {
      "text/plain": [
       "array([ 67, 150,   0])"
      ]
     },
     "execution_count": 12,
     "metadata": {},
     "output_type": "execute_result"
    }
   ],
   "source": [
    "data_array[0]"
   ]
  },
  {
   "cell_type": "code",
   "execution_count": 13,
   "metadata": {},
   "outputs": [
    {
     "data": {
      "text/plain": [
       "array([ 64, 109,   0])"
      ]
     },
     "execution_count": 13,
     "metadata": {},
     "output_type": "execute_result"
    }
   ],
   "source": [
    "data_array[28]"
   ]
  },
  {
   "cell_type": "code",
   "execution_count": 14,
   "metadata": {},
   "outputs": [
    {
     "name": "stdout",
     "output_type": "stream",
     "text": [
      "[ 74 188   1]\n",
      "[ 60 107   0]\n"
     ]
    }
   ],
   "source": [
    "print(data_array.max(axis=0))\n",
    "print(data_array.min(axis=0))"
   ]
  },
  {
   "cell_type": "code",
   "execution_count": 15,
   "metadata": {},
   "outputs": [],
   "source": [
    "import matplotlib.pyplot as plt\n",
    "%matplotlib inline"
   ]
  },
  {
   "cell_type": "code",
   "execution_count": 16,
   "metadata": {},
   "outputs": [
    {
     "name": "stdout",
     "output_type": "stream",
     "text": [
      "50 84 97 198\n"
     ]
    }
   ],
   "source": [
    "min_x = data_array.min(axis=0)[0]-10\n",
    "max_x = data_array.max(axis=0)[0]+10\n",
    "min_y = data_array.min(axis=0)[1]-10\n",
    "max_y = data_array.max(axis=0)[1]+10\n",
    "\n",
    "print(min_x, max_x, min_y, max_y)"
   ]
  },
  {
   "cell_type": "code",
   "execution_count": 17,
   "metadata": {},
   "outputs": [
    {
     "data": {
      "image/png": "[encoded data removed]",
      "text/plain": [
       "<Figure size 675x300 with 1 Axes>"
      ]
     },
     "metadata": {
      "needs_background": "light"
     },
     "output_type": "display_data"
    }
   ],
   "source": [
    "# formatting the plot grid, scales, and figure size\n",
    "plt.figure(figsize=(9, 4), dpi= 75)\n",
    "plt.axis([min_x,max_x,min_y,max_y])\n",
    "plt.grid()\n",
    "for i in range(len(data_array)):\n",
    "    value = data_array[i]\n",
    "    # assign labels values to specific matrix elements\n",
    "    gender = value[2]\n",
    "    height = value[0]\n",
    "    weight = value[1]\n",
    "    \n",
    "    # filter data points by gender\n",
    "    a = plt.scatter(height[gender==0],weight[gender==0], marker = 'x', c= 'b', label = 'Female')\n",
    "    b = plt.scatter(height[gender==1],weight[gender==1], marker = 'o', c= 'b', label = 'Male')\n",
    "    \n",
    "    # plot values, title, legend, x and y axis\n",
    "    plt.title('Weight vs Height by Gender')\n",
    "    plt.xlabel('Height (in)')\n",
    "    plt.ylabel('Weight (lbs)')\n",
    "    plt.legend(handles=[a,b])\n",
    "    "
   ]
  },
  {
   "cell_type": "code",
   "execution_count": 18,
   "metadata": {},
   "outputs": [],
   "source": [
    "np.random.seed(12345)"
   ]
  },
  {
   "cell_type": "code",
   "execution_count": 19,
   "metadata": {},
   "outputs": [],
   "source": [
    "w1 = np.random.randn()\n",
    "w2 = np.random.randn()\n",
    "b= np.random.randn()"
   ]
  },
  {
   "cell_type": "code",
   "execution_count": 20,
   "metadata": {
    "scrolled": true
   },
   "outputs": [
    {
     "name": "stdout",
     "output_type": "stream",
     "text": [
      "-0.20470765948471295 0.47894333805754824 -0.5194387150567381\n"
     ]
    }
   ],
   "source": [
    "print(w1, w2, b)"
   ]
  },
  {
   "cell_type": "code",
   "execution_count": 21,
   "metadata": {},
   "outputs": [
    {
     "name": "stdout",
     "output_type": "stream",
     "text": [
      "[[ 67 150]\n",
      " [ 65 135]\n",
      " [ 68 130]\n",
      " [ 70 160]\n",
      " [ 70 130]\n",
      " [ 69 174]\n",
      " [ 65 126]\n",
      " [ 74 188]\n",
      " [ 60 110]\n",
      " [ 63 125]\n",
      " [ 70 173]\n",
      " [ 70 145]\n",
      " [ 68 175]\n",
      " [ 65 123]\n",
      " [ 71 145]\n",
      " [ 74 160]\n",
      " [ 64 135]\n",
      " [ 71 175]\n",
      " [ 67 145]\n",
      " [ 67 130]\n",
      " [ 70 162]\n",
      " [ 64 107]\n",
      " [ 70 175]\n",
      " [ 64 130]\n",
      " [ 66 163]\n",
      " [ 63 137]\n",
      " [ 65 165]\n",
      " [ 65 130]\n",
      " [ 64 109]] [0 0 0 1 0 1 1 1 0 0 1 0 1 0 1 1 0 1 1 1 1 0 1 1 1 0 1 0 0]\n"
     ]
    }
   ],
   "source": [
    "X = data_array[:,:2]\n",
    "y = data_array[:,2]\n",
    "print(X,y)"
   ]
  },
  {
   "cell_type": "code",
   "execution_count": 22,
   "metadata": {},
   "outputs": [
    {
     "name": "stdout",
     "output_type": "stream",
     "text": [
      "[ 67.20689655 145.24137931] [ 3.35671545 22.1743175 ]\n"
     ]
    }
   ],
   "source": [
    "x_mean = X.mean(axis=0)\n",
    "x_std = X.std(axis=0)\n",
    "print(x_mean, x_std)"
   ]
  },
  {
   "cell_type": "code",
   "execution_count": 23,
   "metadata": {},
   "outputs": [],
   "source": [
    "def normalize(X):\n",
    "    x_mean = X.mean(axis=0)\n",
    "    x_std = X.std(axis=0)\n",
    "    X = (X - X.mean(axis=0))/X.std(axis=0)\n",
    "    return X"
   ]
  },
  {
   "cell_type": "code",
   "execution_count": 24,
   "metadata": {
    "scrolled": true
   },
   "outputs": [
    {
     "name": "stdout",
     "output_type": "stream",
     "text": [
      "[[-0.06163661  0.21460055]\n",
      " [-0.65745714 -0.4618577 ]\n",
      " [ 0.23627366 -0.68734378]\n",
      " [ 0.8320942   0.66557271]\n",
      " [ 0.8320942  -0.68734378]\n",
      " [ 0.53418393  1.29693375]\n",
      " [-0.65745714 -0.86773265]\n",
      " [ 2.02373527  1.92829478]\n",
      " [-2.14700848 -1.58928812]\n",
      " [-1.25327768 -0.91282987]\n",
      " [ 0.8320942   1.25183653]\n",
      " [ 0.8320942  -0.01088554]\n",
      " [ 0.23627366  1.34203096]\n",
      " [-0.65745714 -1.0030243 ]\n",
      " [ 1.13000446 -0.01088554]\n",
      " [ 2.02373527  0.66557271]\n",
      " [-0.95536741 -0.4618577 ]\n",
      " [ 1.13000446  1.34203096]\n",
      " [-0.06163661 -0.01088554]\n",
      " [-0.06163661 -0.68734378]\n",
      " [ 0.8320942   0.75576715]\n",
      " [-0.95536741 -1.72457977]\n",
      " [ 0.8320942   1.34203096]\n",
      " [-0.95536741 -0.68734378]\n",
      " [-0.35954687  0.80086436]\n",
      " [-1.25327768 -0.37166327]\n",
      " [-0.65745714  0.8910588 ]\n",
      " [-0.65745714 -0.68734378]\n",
      " [-0.95536741 -1.63438533]]\n"
     ]
    }
   ],
   "source": [
    "X = normalize(X)\n",
    "print(X)"
   ]
  },
  {
   "cell_type": "code",
   "execution_count": 25,
   "metadata": {
    "scrolled": false
   },
   "outputs": [
    {
     "name": "stdout",
     "output_type": "stream",
     "text": [
      "standard deviation\n",
      "1.0\n",
      "mean\n",
      "-0.0\n"
     ]
    }
   ],
   "source": [
    "print('standard deviation')\n",
    "print(round(X[:,0].std(axis=0),0))\n",
    "print('mean')\n",
    "print(round(X[:,0].mean(axis=0),0))"
   ]
  },
  {
   "cell_type": "code",
   "execution_count": 26,
   "metadata": {
    "scrolled": true
   },
   "outputs": [
    {
     "name": "stdout",
     "output_type": "stream",
     "text": [
      "[[-0.06163661  0.21460055  0.        ]\n",
      " [-0.65745714 -0.4618577   0.        ]\n",
      " [ 0.23627366 -0.68734378  0.        ]\n",
      " [ 0.8320942   0.66557271  1.        ]\n",
      " [ 0.8320942  -0.68734378  0.        ]\n",
      " [ 0.53418393  1.29693375  1.        ]\n",
      " [-0.65745714 -0.86773265  1.        ]\n",
      " [ 2.02373527  1.92829478  1.        ]\n",
      " [-2.14700848 -1.58928812  0.        ]\n",
      " [-1.25327768 -0.91282987  0.        ]\n",
      " [ 0.8320942   1.25183653  1.        ]\n",
      " [ 0.8320942  -0.01088554  0.        ]\n",
      " [ 0.23627366  1.34203096  1.        ]\n",
      " [-0.65745714 -1.0030243   0.        ]\n",
      " [ 1.13000446 -0.01088554  1.        ]\n",
      " [ 2.02373527  0.66557271  1.        ]\n",
      " [-0.95536741 -0.4618577   0.        ]\n",
      " [ 1.13000446  1.34203096  1.        ]\n",
      " [-0.06163661 -0.01088554  1.        ]\n",
      " [-0.06163661 -0.68734378  1.        ]\n",
      " [ 0.8320942   0.75576715  1.        ]\n",
      " [-0.95536741 -1.72457977  0.        ]\n",
      " [ 0.8320942   1.34203096  1.        ]\n",
      " [-0.95536741 -0.68734378  1.        ]\n",
      " [-0.35954687  0.80086436  1.        ]\n",
      " [-1.25327768 -0.37166327  0.        ]\n",
      " [-0.65745714  0.8910588   1.        ]\n",
      " [-0.65745714 -0.68734378  0.        ]\n",
      " [-0.95536741 -1.63438533  0.        ]]\n"
     ]
    }
   ],
   "source": [
    "data_array = np.column_stack((X[:,0], X[:,1],y))\n",
    "print(data_array)"
   ]
  },
  {
   "cell_type": "code",
   "execution_count": 27,
   "metadata": {},
   "outputs": [
    {
     "data": {
      "image/png": "[encoded data removed]",
      "text/plain": [
       "<Figure size 675x300 with 1 Axes>"
      ]
     },
     "metadata": {
      "needs_background": "light"
     },
     "output_type": "display_data"
    }
   ],
   "source": [
    "# formatting the plot grid, scales, and figure size\n",
    "plt.figure(figsize=(9, 4), dpi= 75)\n",
    "# plt.axis([min_x,max_x,min_y,max_y])\n",
    "plt.grid()\n",
    "for i in range(len(data_array)):\n",
    "    value_n = data_array[i]\n",
    "    # assign labels values to specific matrix elements\n",
    "    gender_n = value_n[2]\n",
    "    height_n = value_n[0]\n",
    "    weight_n = value_n[1]\n",
    "    an = plt.scatter(height_n[gender_n==0.0],weight_n[gender_n==0.0], marker = 'x', c= 'b', label = 'Female')\n",
    "    bn = plt.scatter(height_n[gender_n==1.0],weight_n[gender_n==1.0], marker = 'o', c= 'b', label = 'Male')    \n",
    "    # plot values, title, legend, x and y axis\n",
    "    plt.title('Weight vs Height by Gender (normalized)')\n",
    "    plt.xlabel('Height (in)')\n",
    "    plt.ylabel('Weight (lbs)')\n",
    "    plt.legend(handles=[an,bn])\n"
   ]
  },
  {
   "cell_type": "code",
   "execution_count": 28,
   "metadata": {},
   "outputs": [],
   "source": [
    "def sigmoid(input):\n",
    "    return 1/(1+np.exp(-input))"
   ]
  },
  {
   "cell_type": "code",
   "execution_count": 29,
   "metadata": {},
   "outputs": [],
   "source": [
    "X = np.arange(-10,10,1)\n",
    "Y = sigmoid(X)"
   ]
  },
  {
   "cell_type": "code",
   "execution_count": 30,
   "metadata": {},
   "outputs": [
    {
     "data": {
      "image/png": "[encoded data removed]",
      "text/plain": [
       "<Figure size 450x300 with 1 Axes>"
      ]
     },
     "metadata": {
      "needs_background": "light"
     },
     "output_type": "display_data"
    }
   ],
   "source": [
    "plt.figure(figsize=(6, 4), dpi= 75)\n",
    "plt.axis([-10,10,-0.25,1.2])\n",
    "plt.grid()\n",
    "plt.plot(X,Y)\n",
    "plt.title('Sigmoid Function')\n",
    "plt.show()"
   ]
  },
  {
   "cell_type": "code",
   "execution_count": 31,
   "metadata": {},
   "outputs": [],
   "source": [
    "def sigmoid_derivative(x):\n",
    "    return sigmoid(x) * (1-sigmoid(x))"
   ]
  },
  {
   "cell_type": "code",
   "execution_count": 32,
   "metadata": {},
   "outputs": [
    {
     "data": {
      "image/png": "[encoded data removed]",
      "text/plain": [
       "<Figure size 450x300 with 1 Axes>"
      ]
     },
     "metadata": {
      "needs_background": "light"
     },
     "output_type": "display_data"
    }
   ],
   "source": [
    "plt.figure(figsize=(6, 4), dpi= 75)\n",
    "plt.axis([-10,10,-0.25,1.2])\n",
    "plt.grid()\n",
    "X = np.arange(-10,10,1)\n",
    "Y = sigmoid(X)\n",
    "Y_Prime = sigmoid_derivative(X)\n",
    "plt.plot(X, Y, label=\"Sigmoid\",c='b')\n",
    "plt.plot(X, Y_Prime, marker=\".\", label=\"Sigmoid Derivative\", c='b')\n",
    "plt.title('Sigmoid vs Sigmoid Derivative')\n",
    "plt.xlabel('X')\n",
    "plt.ylabel('Y')\n",
    "plt.legend()\n",
    "plt.show()"
   ]
  },
  {
   "cell_type": "code",
   "execution_count": 33,
   "metadata": {},
   "outputs": [
    {
     "data": {
      "text/plain": [
       "(29, 3)"
      ]
     },
     "execution_count": 33,
     "metadata": {},
     "output_type": "execute_result"
    }
   ],
   "source": [
    "data_array.shape"
   ]
  },
  {
   "cell_type": "code",
   "execution_count": 34,
   "metadata": {
    "scrolled": true
   },
   "outputs": [
    {
     "name": "stdout",
     "output_type": "stream",
     "text": [
      "0 [0.53418393 1.29693375 1.        ]\n",
      "1 [ 0.23627366 -0.68734378  0.        ]\n",
      "2 [-0.65745714 -0.4618577   0.        ]\n",
      "3 [0.8320942  1.34203096 1.        ]\n",
      "4 [1.13000446 1.34203096 1.        ]\n",
      "5 [-0.65745714 -0.68734378  0.        ]\n",
      "6 [ 1.13000446 -0.01088554  1.        ]\n",
      "7 [-1.25327768 -0.91282987  0.        ]\n",
      "8 [-0.65745714 -0.68734378  0.        ]\n",
      "9 [-0.95536741 -0.68734378  1.        ]\n",
      "10 [0.8320942  1.34203096 1.        ]\n",
      "11 [-0.95536741 -0.4618577   0.        ]\n",
      "12 [-0.06163661 -0.01088554  1.        ]\n",
      "13 [-1.25327768 -0.91282987  0.        ]\n",
      "14 [ 0.8320942  -0.01088554  0.        ]\n",
      "15 [-0.65745714 -1.0030243   0.        ]\n",
      "16 [0.8320942  1.25183653 1.        ]\n",
      "17 [1.13000446 1.34203096 1.        ]\n",
      "18 [-0.06163661 -0.01088554  1.        ]\n",
      "19 [-0.65745714 -0.86773265  1.        ]\n",
      "20 [2.02373527 1.92829478 1.        ]\n",
      "21 [ 0.8320942  -0.01088554  0.        ]\n",
      "22 [2.02373527 1.92829478 1.        ]\n",
      "23 [-0.95536741 -0.68734378  1.        ]\n",
      "24 [-0.35954687  0.80086436  1.        ]\n",
      "25 [-0.95536741 -0.68734378  1.        ]\n",
      "26 [-0.65745714 -0.4618577   0.        ]\n",
      "27 [-0.65745714 -0.68734378  0.        ]\n",
      "28 [-0.95536741 -0.68734378  1.        ]\n",
      "29 [ 0.8320942  -0.68734378  0.        ]\n",
      "30 [-0.06163661  0.21460055  0.        ]\n",
      "31 [2.02373527 0.66557271 1.        ]\n",
      "32 [0.8320942  0.66557271 1.        ]\n",
      "33 [-0.95536741 -1.63438533  0.        ]\n",
      "34 [-0.95536741 -1.63438533  0.        ]\n",
      "35 [0.53418393 1.29693375 1.        ]\n",
      "36 [2.02373527 0.66557271 1.        ]\n",
      "37 [-0.95536741 -0.68734378  1.        ]\n",
      "38 [ 0.8320942  -0.01088554  0.        ]\n",
      "39 [ 1.13000446 -0.01088554  1.        ]\n",
      "40 [-0.06163661 -0.68734378  1.        ]\n",
      "41 [1.13000446 1.34203096 1.        ]\n",
      "42 [ 0.8320942  -0.01088554  0.        ]\n",
      "43 [0.53418393 1.29693375 1.        ]\n",
      "44 [ 0.23627366 -0.68734378  0.        ]\n",
      "45 [-0.95536741 -1.72457977  0.        ]\n",
      "46 [-0.06163661 -0.68734378  1.        ]\n",
      "47 [-2.14700848 -1.58928812  0.        ]\n",
      "48 [0.53418393 1.29693375 1.        ]\n",
      "49 [ 0.23627366 -0.68734378  0.        ]\n",
      "50 [0.23627366 1.34203096 1.        ]\n",
      "51 [0.53418393 1.29693375 1.        ]\n",
      "52 [-0.65745714 -0.68734378  0.        ]\n",
      "53 [-0.06163661 -0.68734378  1.        ]\n",
      "54 [0.23627366 1.34203096 1.        ]\n",
      "55 [ 1.13000446 -0.01088554  1.        ]\n",
      "56 [-0.65745714 -0.68734378  0.        ]\n",
      "57 [-0.95536741 -0.4618577   0.        ]\n",
      "58 [-0.65745714 -0.68734378  0.        ]\n",
      "59 [-0.65745714 -0.86773265  1.        ]\n",
      "60 [-0.35954687  0.80086436  1.        ]\n",
      "61 [-0.06163661  0.21460055  0.        ]\n",
      "62 [ 0.8320942  -0.01088554  0.        ]\n",
      "63 [0.53418393 1.29693375 1.        ]\n",
      "64 [0.8320942  1.25183653 1.        ]\n",
      "65 [0.23627366 1.34203096 1.        ]\n",
      "66 [0.8320942  1.34203096 1.        ]\n",
      "67 [0.23627366 1.34203096 1.        ]\n",
      "68 [-0.35954687  0.80086436  1.        ]\n",
      "69 [-1.25327768 -0.91282987  0.        ]\n",
      "70 [-0.06163661 -0.01088554  1.        ]\n",
      "71 [-0.06163661 -0.01088554  1.        ]\n",
      "72 [-0.06163661 -0.01088554  1.        ]\n",
      "73 [-1.25327768 -0.37166327  0.        ]\n",
      "74 [ 1.13000446 -0.01088554  1.        ]\n",
      "75 [-0.65745714  0.8910588   1.        ]\n",
      "76 [-0.95536741 -0.68734378  1.        ]\n",
      "77 [-0.95536741 -1.72457977  0.        ]\n",
      "78 [2.02373527 1.92829478 1.        ]\n",
      "79 [1.13000446 1.34203096 1.        ]\n",
      "80 [-0.65745714 -0.68734378  0.        ]\n",
      "81 [-0.06163661  0.21460055  0.        ]\n",
      "82 [-0.65745714  0.8910588   1.        ]\n",
      "83 [0.23627366 1.34203096 1.        ]\n",
      "84 [-1.25327768 -0.37166327  0.        ]\n",
      "85 [ 1.13000446 -0.01088554  1.        ]\n",
      "86 [-0.65745714  0.8910588   1.        ]\n",
      "87 [ 0.8320942  -0.01088554  0.        ]\n",
      "88 [0.8320942  0.66557271 1.        ]\n",
      "89 [-0.06163661  0.21460055  0.        ]\n",
      "90 [0.8320942  0.66557271 1.        ]\n",
      "91 [-0.06163661  0.21460055  0.        ]\n",
      "92 [-0.65745714 -0.86773265  1.        ]\n",
      "93 [ 0.23627366 -0.68734378  0.        ]\n",
      "94 [1.13000446 1.34203096 1.        ]\n",
      "95 [-0.65745714 -0.68734378  0.        ]\n",
      "96 [-0.95536741 -1.63438533  0.        ]\n",
      "97 [0.23627366 1.34203096 1.        ]\n",
      "98 [0.53418393 1.29693375 1.        ]\n",
      "99 [-2.14700848 -1.58928812  0.        ]\n"
     ]
    }
   ],
   "source": [
    "for i in range(100):\n",
    "    random_index = np.random.randint(len(data_array))\n",
    "    point = data_array[random_index]\n",
    "    print(i, point)"
   ]
  },
  {
   "cell_type": "code",
   "execution_count": 35,
   "metadata": {
    "scrolled": false
   },
   "outputs": [],
   "source": [
    "learning_rate = 0.1\n",
    "\n",
    "all_costs = []\n",
    "\n",
    "for i in range(100000):\n",
    "    # set the random data points that will be used to calculate the summation\n",
    "    random_number = np.random.randint(len(data_array))\n",
    "    random_person = data_array[random_number]\n",
    "    \n",
    "    # the height and weight from the random individual are selected\n",
    "    height = random_person[0]\n",
    "    weight = random_person[1]\n",
    "\n",
    "    z = w1*height+w2*weight+b\n",
    "    predictedGender = sigmoid(z)\n",
    "    \n",
    "    actualGender = random_person[2]\n",
    "    \n",
    "    cost = (predictedGender-actualGender)**2\n",
    "    \n",
    "    # the cost value is appended to the list\n",
    "    all_costs.append(cost)\n",
    "    \n",
    "    # partial derivatives of the cost function and summation are calculated\n",
    "    dcost_predictedGender = 2 * (predictedGender-actualGender)\n",
    "    dpredictedGenger_dz = sigmoid_derivative(z)\n",
    "    dz_dw1 = height\n",
    "    dz_dw2 = weight\n",
    "    dz_db = 1\n",
    "    \n",
    "    dcost_dw1 = dcost_predictedGender * dpredictedGenger_dz * dz_dw1\n",
    "    dcost_dw2 = dcost_predictedGender * dpredictedGenger_dz * dz_dw2\n",
    "    dcost_db  = dcost_predictedGender * dpredictedGenger_dz * dz_db\n",
    "    \n",
    "    # gradient descent calculation\n",
    "    w1 = w1 - learning_rate * dcost_dw1\n",
    "    w2 = w2 - learning_rate * dcost_dw2\n",
    "    b  = b  - learning_rate * dcost_db"
   ]
  },
  {
   "cell_type": "code",
   "execution_count": 36,
   "metadata": {},
   "outputs": [
    {
     "data": {
      "image/png": "[encoded data removed]",
      "text/plain": [
       "<Figure size 432x288 with 1 Axes>"
      ]
     },
     "metadata": {
      "needs_background": "light"
     },
     "output_type": "display_data"
    }
   ],
   "source": [
    "plt.plot(all_costs)\n",
    "plt.title('Cost Value over 100,000 iterations')\n",
    "plt.xlabel('Iteration')\n",
    "plt.ylabel('Cost Value')\n",
    "plt.show()"
   ]
  },
  {
   "cell_type": "code",
   "execution_count": 37,
   "metadata": {},
   "outputs": [
    {
     "name": "stdout",
     "output_type": "stream",
     "text": [
      "The final values of w1, w2, and b\n",
      "---------------------------------\n",
      "w1 = 0.42782676841396\n",
      "w2 = 1.8977551930027234\n",
      "b  = 0.22502456985982955\n"
     ]
    }
   ],
   "source": [
    "print('The final values of w1, w2, and b')\n",
    "print('---------------------------------')\n",
    "print('w1 = {}'.format(w1))\n",
    "print('w2 = {}'.format(w2))\n",
    "print('b  = {}'.format(b))"
   ]
  },
  {
   "cell_type": "code",
   "execution_count": 38,
   "metadata": {
    "scrolled": true
   },
   "outputs": [
    {
     "name": "stdout",
     "output_type": "stream",
     "text": [
      "Individual #1 actual score: 0.0 predicted score: 0.6470081869541952\n",
      "Individual #2 actual score: 0.0 predicted score: 0.2823679335558656\n",
      "Individual #3 actual score: 0.0 predicted score: 0.2732289391563533\n",
      "Individual #4 actual score: 1.0 predicted score: 0.8634341613750248\n",
      "Individual #5 actual score: 0.0 predicted score: 0.32664615025385485\n",
      "Individual #6 actual score: 1.0 predicted score: 0.948574467530227\n",
      "Individual #7 actual score: 1.0 predicted score: 0.15407420064539062\n",
      "Individual #8 actual score: 1.0 predicted score: 0.9914247603624445\n",
      "Individual #9 actual score: 0.0 predicted score: 0.023901952077314957\n",
      "Individual #10 actual score: 0.0 predicted score: 0.11471195792273974\n",
      "Individual #11 actual score: 1.0 predicted score: 0.9505790084513505\n",
      "Individual #12 actual score: 0.0 predicted score: 0.6365355232635158\n",
      "Individual #13 actual score: 1.0 predicted score: 0.9464931979550331\n",
      "Individual #14 actual score: 0.0 predicted score: 0.12349434717153822\n",
      "Individual #15 actual score: 1.0 predicted score: 0.6654801627412604\n",
      "Individual #16 actual score: 1.0 predicted score: 0.9132458420191272\n",
      "Individual #17 actual score: 0.0 predicted score: 0.257271229962523\n",
      "Individual #18 actual score: 1.0 predicted score: 0.9628637007750025\n",
      "Individual #19 actual score: 1.0 predicted score: 0.544382057438036\n",
      "Individual #20 actual score: 1.0 predicted score: 0.24866304915206747\n",
      "Individual #21 actual score: 1.0 predicted score: 0.8823918369249776\n",
      "Individual #22 actual score: 0.0 predicted score: 0.030574497314341222\n",
      "Individual #23 actual score: 1.0 predicted score: 0.9580275454489712\n",
      "Individual #24 actual score: 1.0 predicted score: 0.18420446077357355\n",
      "Individual #25 actual score: 1.0 predicted score: 0.8307631184085099\n",
      "Individual #26 actual score: 0.0 predicted score: 0.265712242049811\n",
      "Individual #27 actual score: 1.0 predicted score: 0.8368204312010282\n",
      "Individual #28 actual score: 0.0 predicted score: 0.20413249848615775\n",
      "Individual #29 actual score: 0.0 predicted score: 0.03607649354826963\n"
     ]
    }
   ],
   "source": [
    "for i in range(len(data_array)):\n",
    "    random_individual = data_array[i]\n",
    "    height = random_individual[0]\n",
    "    weight = random_individual[1]\n",
    "    z = height*w1 + weight*w2 + b\n",
    "    predictedGender=sigmoid(z)\n",
    "    print(\"Individual #{} actual score: {} predicted score: {}\"\n",
    "          .format(i+1,random_individual[2],predictedGender))"
   ]
  },
  {
   "cell_type": "code",
   "execution_count": 39,
   "metadata": {},
   "outputs": [],
   "source": [
    "def input_normalize(height, weight):\n",
    "    inputHeight = (height - x_mean[0])/x_std[0]\n",
    "    inputWeight = (weight - x_mean[1])/x_std[1]\n",
    "    return inputHeight, inputWeight"
   ]
  },
  {
   "cell_type": "code",
   "execution_count": 40,
   "metadata": {},
   "outputs": [],
   "source": [
    "score = input_normalize(70, 180)"
   ]
  },
  {
   "cell_type": "code",
   "execution_count": 41,
   "metadata": {},
   "outputs": [],
   "source": [
    "def predict_gender(raw_score):\n",
    "    gender_summation = raw_score[0]*w1 + raw_score[1]*w2 + b\n",
    "    gender_score = sigmoid(gender_summation)\n",
    "    if gender_score <= 0.5:\n",
    "        gender = 'Female'\n",
    "    else:\n",
    "        gender = 'Male'\n",
    "    return gender, gender_score"
   ]
  },
  {
   "cell_type": "code",
   "execution_count": 42,
   "metadata": {},
   "outputs": [
    {
     "data": {
      "text/plain": [
       "('Male', 0.9722338944801183)"
      ]
     },
     "execution_count": 42,
     "metadata": {},
     "output_type": "execute_result"
    }
   ],
   "source": [
    "predict_gender(score)"
   ]
  },
  {
   "cell_type": "code",
   "execution_count": 43,
   "metadata": {},
   "outputs": [],
   "source": [
    "score = input_normalize(50,120)"
   ]
  },
  {
   "cell_type": "code",
   "execution_count": 44,
   "metadata": {},
   "outputs": [
    {
     "data": {
      "text/plain": [
       "('Female', 0.01585469303508635)"
      ]
     },
     "execution_count": 44,
     "metadata": {},
     "output_type": "execute_result"
    }
   ],
   "source": [
    "predict_gender(score)"
   ]
  },
  {
   "cell_type": "code",
   "execution_count": 45,
   "metadata": {},
   "outputs": [
    {
     "name": "stdout",
     "output_type": "stream",
     "text": [
      "-2.24700848158745 2.1237352673336227 -1.8245797669033634 2.028294779946051\n"
     ]
    }
   ],
   "source": [
    "x_min = min(data_array[:,0])-0.1\n",
    "x_max = max(data_array[:,0])+0.1\n",
    "y_min = min(data_array[:,1])-0.1\n",
    "y_max = max(data_array[:,1])+0.1\n",
    "increment= 0.05\n",
    "print(x_min, x_max, y_min, y_max)"
   ]
  },
  {
   "cell_type": "code",
   "execution_count": 46,
   "metadata": {
    "scrolled": true
   },
   "outputs": [],
   "source": [
    "x_data= np.arange(x_min, x_max, increment)"
   ]
  },
  {
   "cell_type": "code",
   "execution_count": 47,
   "metadata": {
    "scrolled": true
   },
   "outputs": [],
   "source": [
    "y_data= np.arange(y_min, y_max, increment)"
   ]
  },
  {
   "cell_type": "code",
   "execution_count": 48,
   "metadata": {},
   "outputs": [],
   "source": [
    "xy_data = [[x_all, y_all] for x_all in x_data for y_all in y_data]"
   ]
  },
  {
   "cell_type": "code",
   "execution_count": 49,
   "metadata": {},
   "outputs": [
    {
     "data": {
      "image/png": "[encoded data removed]",
      "text/plain": [
       "<Figure size 432x288 with 1 Axes>"
      ]
     },
     "metadata": {
      "needs_background": "light"
     },
     "output_type": "display_data"
    }
   ],
   "source": [
    "for i in range(len(xy_data)):\n",
    "    data = (xy_data[i])\n",
    "    height = data[0]\n",
    "    weight = data[1]  \n",
    "    z_new = height*w1 + weight*w2 + b\n",
    "    predictedGender_new=sigmoid(z_new)\n",
    "    # print(height, weight, predictedGender_new)\n",
    "    ax = plt.scatter(height[predictedGender_new<=0.5],\n",
    "                     weight[predictedGender_new<=0.5], \n",
    "                     marker = 'o', c= 'r', label = 'Female')\n",
    "    bx = plt.scatter(height[predictedGender_new > 0.5],\n",
    "                     weight[predictedGender_new>0.5], \n",
    "                     marker = 'o', c= 'b', label = 'Male')    \n",
    "    # plot values, title, legend, x and y axis\n",
    "    plt.title('Weight vs Height by Gender')\n",
    "    plt.xlabel('Height (in)')\n",
    "    plt.ylabel('Weight (lbs)')\n",
    "    plt.legend(handles=[ax,bx])"
   ]
  },
  {
   "cell_type": "markdown",
   "metadata": {},
   "source": [
    "## References:\n",
    "* Chapter No. 2, Apache Spark Deep Learning Cookbook, Ahmed Sherif, Amrith Ravindra, Packt Publishing, 12 Jul 2018."
   ]
  }
 ],
 "metadata": {
  "kernelspec": {
   "display_name": "Python 3 (ipykernel)",
   "language": "python",
   "name": "python3"
  },
  "language_info": {
   "codemirror_mode": {
    "name": "ipython",
    "version": 3
   },
   "file_extension": ".py",
   "mimetype": "text/x-python",
   "name": "python",
   "nbconvert_exporter": "python",
   "pygments_lexer": "ipython3",
   "version": "3.9.16"
  }
 },
 "nbformat": 4,
 "nbformat_minor": 2
}
