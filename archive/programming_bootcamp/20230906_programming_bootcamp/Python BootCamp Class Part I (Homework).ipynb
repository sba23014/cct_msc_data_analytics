{
 "cells": [
  {
   "cell_type": "markdown",
   "id": "d6e0fcde",
   "metadata": {},
   "source": [
    "# Python Programming BootCamp Saturday Session (10:00 am to 2:00 pm)"
   ]
  },
  {
   "cell_type": "code",
   "execution_count": 1,
   "id": "b8cc46b9",
   "metadata": {},
   "outputs": [
    {
     "name": "stdout",
     "output_type": "stream",
     "text": [
      "banana\n"
     ]
    }
   ],
   "source": [
    "# Declare and initialse the string\n",
    "fruit = 'banana'\n",
    "        # 0 1 2 3 \n",
    "\n",
    "# Display the string named as 'fruit'\n",
    "print(fruit)"
   ]
  },
  {
   "cell_type": "code",
   "execution_count": 2,
   "id": "64a0b9df",
   "metadata": {},
   "outputs": [
    {
     "name": "stdout",
     "output_type": "stream",
     "text": [
      "b a\n"
     ]
    }
   ],
   "source": [
    "# Use index to display the characters of the string\n",
    "print(fruit[0], fruit[1])"
   ]
  },
  {
   "cell_type": "code",
   "execution_count": 3,
   "id": "a8f631c4",
   "metadata": {},
   "outputs": [],
   "source": [
    "# Display the fruit string using float value\n",
    "# print(fruit[1.5])"
   ]
  },
  {
   "cell_type": "code",
   "execution_count": 4,
   "id": "c366ab0d",
   "metadata": {},
   "outputs": [
    {
     "name": "stdout",
     "output_type": "stream",
     "text": [
      "6\n"
     ]
    }
   ],
   "source": [
    "# Calculate the length of the string\n",
    "length = len(fruit)\n",
    "\n",
    "# Display the length of the string\n",
    "print(length)"
   ]
  },
  {
   "cell_type": "code",
   "execution_count": 5,
   "id": "d9c8af1a",
   "metadata": {},
   "outputs": [
    {
     "name": "stdout",
     "output_type": "stream",
     "text": [
      "b\n",
      "a\n",
      "n\n",
      "a\n",
      "n\n",
      "a\n"
     ]
    }
   ],
   "source": [
    "# Display all characters of the string using a for loop\n",
    "\n",
    "for i in fruit:\n",
    "    print(i)                 # Display the characters based on index in the for loop"
   ]
  },
  {
   "cell_type": "code",
   "execution_count": 6,
   "id": "a2bf8418",
   "metadata": {},
   "outputs": [
    {
     "name": "stdout",
     "output_type": "stream",
     "text": [
      "5   a\n",
      "4   n\n",
      "3   a\n",
      "2   n\n",
      "1   a\n",
      "0   b\n"
     ]
    }
   ],
   "source": [
    "# Display the string in the reverse order\n",
    "\n",
    "startindex = len(fruit) - 1    # Length of the string\n",
    "stopindex = -1                 # Stopping index value\n",
    "step = -1                      # 5, 4, 3, 2, 1, 0, step decrement\n",
    "\n",
    "for i in range(startindex, stopindex, step):                     # for loop using startindex, stopindex and step\n",
    "    print(i, ' ', fruit[i])                                      #  Display the index and Its value"
   ]
  },
  {
   "cell_type": "code",
   "execution_count": 7,
   "id": "22f5484d",
   "metadata": {},
   "outputs": [
    {
     "name": "stdout",
     "output_type": "stream",
     "text": [
      "Popular\n",
      " Python\n"
     ]
    }
   ],
   "source": [
    "# Declare a String named as 's'\n",
    "s = 'Popular Python'\n",
    "\n",
    "print(s[0:7])              # Display first 7 characters\n",
    "print(s[7:14])             # Display the characters from 7 to 14"
   ]
  },
  {
   "cell_type": "code",
   "execution_count": 8,
   "id": "62d664b8",
   "metadata": {},
   "outputs": [
    {
     "name": "stdout",
     "output_type": "stream",
     "text": [
      "ban\n",
      "ana\n"
     ]
    }
   ],
   "source": [
    "# Declare the string named as 'fruit'\n",
    "fruit = 'banana'\n",
    "\n",
    "print(fruit[:3])           # Display first three characters\n",
    "print(fruit[3:])           # Display the last three characters"
   ]
  },
  {
   "cell_type": "markdown",
   "id": "96ea4e25",
   "metadata": {},
   "source": [
    "# Strings are Immutable"
   ]
  },
  {
   "cell_type": "code",
   "execution_count": 9,
   "id": "e521c35d",
   "metadata": {},
   "outputs": [
    {
     "name": "stdout",
     "output_type": "stream",
     "text": [
      "16\n"
     ]
    }
   ],
   "source": [
    "# Delcare a string named as 'greeting'\n",
    "greeting = 'Welcome to Party'\n",
    "\n",
    "# Find the length of the string using len() method\n",
    "length = len(greeting)\n",
    "\n",
    "# Display the value of length\n",
    "print(length)"
   ]
  },
  {
   "cell_type": "code",
   "execution_count": 10,
   "id": "fdac614b",
   "metadata": {},
   "outputs": [
    {
     "ename": "TypeError",
     "evalue": "'str' object does not support item assignment",
     "output_type": "error",
     "traceback": [
      "\u001b[1;31m---------------------------------------------------------------------------\u001b[0m",
      "\u001b[1;31mTypeError\u001b[0m                                 Traceback (most recent call last)",
      "\u001b[1;32m~\\AppData\\Local\\Temp\\ipykernel_6892\\3523247658.py\u001b[0m in \u001b[0;36m<module>\u001b[1;34m\u001b[0m\n\u001b[0;32m      1\u001b[0m \u001b[1;31m# Assign 'P' at the index '0'\u001b[0m\u001b[1;33m\u001b[0m\u001b[1;33m\u001b[0m\u001b[0m\n\u001b[1;32m----> 2\u001b[1;33m \u001b[0mgreeting\u001b[0m\u001b[1;33m[\u001b[0m\u001b[1;36m0\u001b[0m\u001b[1;33m]\u001b[0m \u001b[1;33m=\u001b[0m \u001b[1;34m'P'\u001b[0m\u001b[1;33m\u001b[0m\u001b[1;33m\u001b[0m\u001b[0m\n\u001b[0m",
      "\u001b[1;31mTypeError\u001b[0m: 'str' object does not support item assignment"
     ]
    }
   ],
   "source": [
    "# Assign 'P' at the index '0'\n",
    "greeting[0] = 'P'"
   ]
  },
  {
   "cell_type": "code",
   "execution_count": 11,
   "id": "e812a157",
   "metadata": {},
   "outputs": [
    {
     "name": "stdout",
     "output_type": "stream",
     "text": [
      "PWelcome to Party\n"
     ]
    }
   ],
   "source": [
    "# Add the character 'P' at the start of the string\n",
    "new_greeting = 'P' + greeting\n",
    "\n",
    "# Display the string\n",
    "print(new_greeting)"
   ]
  },
  {
   "cell_type": "code",
   "execution_count": 12,
   "id": "f5080fe2",
   "metadata": {},
   "outputs": [
    {
     "name": "stdout",
     "output_type": "stream",
     "text": [
      "0   b\n",
      "1   a\n",
      "2   n\n",
      "3   a\n",
      "4   n\n",
      "5   a\n",
      "Count value:  3\n"
     ]
    }
   ],
   "source": [
    "word = 'banana'     # Declaration and initialization of string 'word'\n",
    "count = 0           # Initialise a counter\n",
    "\n",
    "# Display the string in the reverse order\n",
    "\n",
    "startindex = 0                             # Initialise startindex\n",
    "stopindex = len(word)                      # Initialise stopindex\n",
    "step = 1                                   # Initialise a step \n",
    "\n",
    "for i in range(startindex, stopindex, step):        # for loop\n",
    "    print(i, ' ', word[i])                          # Display the index and character\n",
    "    if (word[i] == 'a'):                            # Count the number of characyers in the string 'word' \n",
    "        count = count + 1                           # Increment the counter\n",
    "\n",
    "# Display the count\n",
    "print('Count value: ', count)"
   ]
  },
  {
   "cell_type": "markdown",
   "id": "19d29019",
   "metadata": {},
   "source": [
    "# Comparison of Strings"
   ]
  },
  {
   "cell_type": "code",
   "execution_count": 13,
   "id": "496f9f9a",
   "metadata": {},
   "outputs": [
    {
     "name": "stdout",
     "output_type": "stream",
     "text": [
      "Please provide a word for String comparisonapple\n",
      "Your word,  apple  comes before banana.\n"
     ]
    }
   ],
   "source": [
    "# Delcare the string named as 'word'\n",
    "word = input('Please provide a word for String comparison')\n",
    "\n",
    "# Convert the letters into lowercase using lower() method\n",
    "word = word.lower()\n",
    "\n",
    "# If else structure to compare the string values\n",
    "if word < 'banana':\n",
    "    print('Your word, ', word, ' comes before banana.')\n",
    "elif word > 'banana':\n",
    "    print('Your word, ', word, ' comes after banana.')\n",
    "else:\n",
    "    print('All right, banana.')"
   ]
  },
  {
   "cell_type": "markdown",
   "id": "4d80aeb5",
   "metadata": {},
   "source": [
    "# Lists"
   ]
  },
  {
   "cell_type": "code",
   "execution_count": 14,
   "id": "9463b686",
   "metadata": {},
   "outputs": [
    {
     "name": "stdout",
     "output_type": "stream",
     "text": [
      "[10, 20, 30, 40, 10] <class 'list'>\n",
      "['zebra', 'ram', 'lark'] <class 'list'>\n"
     ]
    }
   ],
   "source": [
    "# Declare the lists in Python\n",
    "\n",
    "c = [10, 20, 30, 40, 10]        # Enclose the values in square brackets\n",
    "d = ['zebra', 'ram', 'lark']    # Strings values in the list\n",
    "\n",
    "# Display the List (c) and Its type\n",
    "print(c, type(c))\n",
    "\n",
    "# Display the List (d) and Its type\n",
    "print(d, type(d))"
   ]
  },
  {
   "cell_type": "code",
   "execution_count": 15,
   "id": "8bec7d8b",
   "metadata": {},
   "outputs": [
    {
     "data": {
      "text/plain": [
       "10"
      ]
     },
     "execution_count": 15,
     "metadata": {},
     "output_type": "execute_result"
    }
   ],
   "source": [
    "# Find the minimum value from the list (c)\n",
    "min(c)"
   ]
  },
  {
   "cell_type": "code",
   "execution_count": 16,
   "id": "51431f43",
   "metadata": {},
   "outputs": [
    {
     "data": {
      "text/plain": [
       "'lark'"
      ]
     },
     "execution_count": 16,
     "metadata": {},
     "output_type": "execute_result"
    }
   ],
   "source": [
    "# Find the minimum value from the list (d)\n",
    "min(d)"
   ]
  },
  {
   "cell_type": "code",
   "execution_count": 17,
   "id": "655f3ae8",
   "metadata": {},
   "outputs": [
    {
     "data": {
      "text/plain": [
       "'zebra'"
      ]
     },
     "execution_count": 17,
     "metadata": {},
     "output_type": "execute_result"
    }
   ],
   "source": [
    "# Find the masimum value from the list (c)\n",
    "max(d)"
   ]
  },
  {
   "cell_type": "code",
   "execution_count": 18,
   "id": "cab562fe",
   "metadata": {},
   "outputs": [
    {
     "data": {
      "text/plain": [
       "2"
      ]
     },
     "execution_count": 18,
     "metadata": {},
     "output_type": "execute_result"
    }
   ],
   "source": [
    "# Count the values that appears one or more than one\n",
    "c.count(10)"
   ]
  },
  {
   "cell_type": "code",
   "execution_count": 19,
   "id": "8e504eb2",
   "metadata": {},
   "outputs": [
    {
     "data": {
      "text/plain": [
       "1"
      ]
     },
     "execution_count": 19,
     "metadata": {},
     "output_type": "execute_result"
    }
   ],
   "source": [
    "# Count the values that appears one or more than one\n",
    "c.count(20)"
   ]
  },
  {
   "cell_type": "code",
   "execution_count": 20,
   "id": "e754d1de",
   "metadata": {},
   "outputs": [
    {
     "name": "stdout",
     "output_type": "stream",
     "text": [
      "5\n"
     ]
    }
   ],
   "source": [
    "# Display the length of the list\n",
    "print(len(c))"
   ]
  },
  {
   "cell_type": "code",
   "execution_count": 21,
   "id": "1c8a68d5",
   "metadata": {},
   "outputs": [
    {
     "name": "stdout",
     "output_type": "stream",
     "text": [
      "['Dublin', 2.0, 5, [10, 20]]\n"
     ]
    }
   ],
   "source": [
    "s1 = ['Dublin', 2.0, 5, [10, 20]]      # Mix of different data types\n",
    "\n",
    "# Display the list (s1)\n",
    "print(s1)"
   ]
  },
  {
   "cell_type": "code",
   "execution_count": 22,
   "id": "3d1a3190",
   "metadata": {},
   "outputs": [
    {
     "name": "stdout",
     "output_type": "stream",
     "text": [
      "Dublin 2.0 5 [10, 20]\n"
     ]
    }
   ],
   "source": [
    "print(s1[0], s1[1], s1[2], s1[3])"
   ]
  },
  {
   "cell_type": "markdown",
   "id": "18ba3594",
   "metadata": {},
   "source": [
    "# Mutable Lists"
   ]
  },
  {
   "cell_type": "code",
   "execution_count": 23,
   "id": "4ffedb65",
   "metadata": {},
   "outputs": [
    {
     "name": "stdout",
     "output_type": "stream",
     "text": [
      "[17, 124]\n"
     ]
    }
   ],
   "source": [
    "# Declare the List named as 'numbers'\n",
    "numbers = [17, 124]\n",
    "\n",
    "# Display the list\n",
    "print(numbers)"
   ]
  },
  {
   "cell_type": "code",
   "execution_count": 24,
   "id": "8cdab5a4",
   "metadata": {},
   "outputs": [
    {
     "name": "stdout",
     "output_type": "stream",
     "text": [
      "[17, 35]\n"
     ]
    }
   ],
   "source": [
    "# Assign the value at index 1\n",
    "\n",
    "numbers[1] = 35\n",
    "\n",
    "# Display the list of numbers\n",
    "print(numbers)"
   ]
  },
  {
   "cell_type": "code",
   "execution_count": 25,
   "id": "feb7f285",
   "metadata": {},
   "outputs": [
    {
     "data": {
      "text/plain": [
       "True"
      ]
     },
     "execution_count": 25,
     "metadata": {},
     "output_type": "execute_result"
    }
   ],
   "source": [
    "# Declaration of list of words\n",
    "cheeses = ['chedder', 'Edam', 'Gouda']\n",
    "\n",
    "# Use 'in' operator to check the values in the list\n",
    "'Edam' in cheeses"
   ]
  },
  {
   "cell_type": "code",
   "execution_count": 26,
   "id": "4afccdda",
   "metadata": {},
   "outputs": [
    {
     "data": {
      "text/plain": [
       "False"
      ]
     },
     "execution_count": 26,
     "metadata": {},
     "output_type": "execute_result"
    }
   ],
   "source": [
    "'Brie' in cheeses"
   ]
  },
  {
   "cell_type": "code",
   "execution_count": 27,
   "id": "b9383518",
   "metadata": {},
   "outputs": [
    {
     "name": "stdout",
     "output_type": "stream",
     "text": [
      "['A', 'B', 'C', 'D'] 4\n"
     ]
    }
   ],
   "source": [
    "# Delcare the list named as 't'\n",
    "t = ['A', 'B', 'C']\n",
    "\n",
    "# Use append() method to add one more character into list 't'\n",
    "t.append('D')\n",
    "\n",
    "# Display the list and Its length\n",
    "print(t, len(t))\n",
    "\n",
    "# Store the length of String 't' into length\n",
    "length = len(t)"
   ]
  },
  {
   "cell_type": "code",
   "execution_count": 28,
   "id": "29765eed",
   "metadata": {},
   "outputs": [
    {
     "name": "stdout",
     "output_type": "stream",
     "text": [
      "a\n",
      "b\n",
      "c\n",
      "d\n"
     ]
    }
   ],
   "source": [
    "# Display the list named as 't' by converting it into lowercase\n",
    "for i in range(0, length):              # Start a for loop from 0 to the end of the loop\n",
    "    print(t[i].lower())                 # Convert the string 't' into lowercase using lower() method"
   ]
  },
  {
   "cell_type": "code",
   "execution_count": 29,
   "id": "4eea64bc",
   "metadata": {},
   "outputs": [
    {
     "name": "stdout",
     "output_type": "stream",
     "text": [
      "A\n",
      "B\n",
      "C\n",
      "D\n"
     ]
    }
   ],
   "source": [
    "# Display the list named as 't' by converting it into uppercase\n",
    "for i in range(0, length):              # Start a for loop from 0 to the end of the loop\n",
    "    print(t[i].upper())                 # Convert the string 't' into uppercase using upper() method"
   ]
  },
  {
   "cell_type": "code",
   "execution_count": 30,
   "id": "c7875751",
   "metadata": {},
   "outputs": [
    {
     "name": "stdout",
     "output_type": "stream",
     "text": [
      "['a', 'b', 'c', 'd', 'e']\n"
     ]
    }
   ],
   "source": [
    "# Declare two lists named as 't1' and 't2'\n",
    "t1 = ['a', 'b', 'c']\n",
    "t2 = ['d', 'e']\n",
    "\n",
    "# Extend t1 by using extend() function for t2\n",
    "t1.extend(t2)\n",
    "\n",
    "\n",
    "# Display t1\n",
    "print(t1)"
   ]
  },
  {
   "cell_type": "code",
   "execution_count": 31,
   "id": "c4f91a68",
   "metadata": {},
   "outputs": [
    {
     "name": "stdout",
     "output_type": "stream",
     "text": [
      "['Z', 'a', 'c', 'j']\n"
     ]
    }
   ],
   "source": [
    "# Delcare the string as 't'\n",
    "t = ['j', 'a', 'c', 'Z']\n",
    "\n",
    "# sort the list using sort() method\n",
    "t.sort()\n",
    "\n",
    "# Display the string list\n",
    "print(t)"
   ]
  },
  {
   "cell_type": "code",
   "execution_count": 32,
   "id": "64475cba",
   "metadata": {},
   "outputs": [
    {
     "name": "stdout",
     "output_type": "stream",
     "text": [
      "['Z', 'c', 'j']\n"
     ]
    }
   ],
   "source": [
    "# Remove the values from the list(t) using pop() method\n",
    "t.pop(1)\n",
    "\n",
    "# Display the list(t)\n",
    "print(t)"
   ]
  },
  {
   "cell_type": "code",
   "execution_count": 33,
   "id": "3a4bd978",
   "metadata": {},
   "outputs": [
    {
     "name": "stdout",
     "output_type": "stream",
     "text": [
      "['Z', 'c']\n"
     ]
    }
   ],
   "source": [
    "# Remove the values from the list(t) using pop() method\n",
    "t.pop(2)\n",
    "\n",
    "# Display the list(t)\n",
    "print(t)"
   ]
  },
  {
   "cell_type": "markdown",
   "id": "514f4763",
   "metadata": {},
   "source": [
    "# Can we store 4 numbers in the list and display the sum of numbers?"
   ]
  },
  {
   "cell_type": "code",
   "execution_count": 34,
   "id": "62628cf4",
   "metadata": {},
   "outputs": [
    {
     "name": "stdout",
     "output_type": "stream",
     "text": [
      "Sum of four numbers  100\n",
      "Average of four numbers  25.0\n"
     ]
    }
   ],
   "source": [
    "# Declare the list named as 'alpha_list'\n",
    "alpha_list = [10, 20, 30, 40]\n",
    "sum = 0                         # Initialise a variable named as 'sum'\n",
    "\n",
    "for i in alpha_list:\n",
    "    sum += i                    # sum = sum + i\n",
    "\n",
    "# Display the sum and average values of the list (alpha_list)\n",
    "print('Sum of four numbers ', sum)\n",
    "print('Average of four numbers ', sum/len(alpha_list))"
   ]
  },
  {
   "cell_type": "code",
   "execution_count": 35,
   "id": "4de25468",
   "metadata": {},
   "outputs": [
    {
     "name": "stdout",
     "output_type": "stream",
     "text": [
      "Zebra eats grass\n"
     ]
    }
   ],
   "source": [
    "# Student asked the question for string immutability regarding the replace() method\n",
    "# Create a string named 'Animals'\n",
    "Animals = \"Webra eats grass\"\n",
    "\n",
    "# Replace one character\n",
    "print(Animals.replace(\"W\", \"Z\"))"
   ]
  },
  {
   "cell_type": "markdown",
   "id": "86c55fb3",
   "metadata": {},
   "source": [
    "# Tuples"
   ]
  },
  {
   "cell_type": "code",
   "execution_count": 36,
   "id": "ad17f11c",
   "metadata": {},
   "outputs": [
    {
     "name": "stdout",
     "output_type": "stream",
     "text": [
      "(3, 4, 5) <class 'tuple'>\n"
     ]
    }
   ],
   "source": [
    "# Declare a tuple\n",
    "# Tuple is an immutable sequence of items\n",
    "\n",
    "a = (3, 4, 5)    # Parentheses used to enclose the values\n",
    "\n",
    "print(a, type(a))"
   ]
  },
  {
   "cell_type": "code",
   "execution_count": 37,
   "id": "4c690e7b",
   "metadata": {},
   "outputs": [
    {
     "name": "stdout",
     "output_type": "stream",
     "text": [
      "3 4\n"
     ]
    }
   ],
   "source": [
    "# Display two values\n",
    "print(a[0], a[1])"
   ]
  },
  {
   "cell_type": "code",
   "execution_count": 38,
   "id": "1a5ca8ae",
   "metadata": {},
   "outputs": [
    {
     "name": "stdout",
     "output_type": "stream",
     "text": [
      "[1, 2] <class 'list'>\n"
     ]
    }
   ],
   "source": [
    "# Declare a tuple named as 'b'\n",
    "b = ([1, 2])\n",
    "\n",
    "# Display tuple and Its type\n",
    "print(b, type(b))"
   ]
  },
  {
   "cell_type": "code",
   "execution_count": 39,
   "id": "646a7f1a",
   "metadata": {},
   "outputs": [
    {
     "name": "stdout",
     "output_type": "stream",
     "text": [
      "('John', 'Green', 3.3) <class 'tuple'>\n"
     ]
    }
   ],
   "source": [
    "# Declare and initialise a tuple named 'student_tuple'\n",
    "student_tuple = 'John', 'Green', 3.3\n",
    "\n",
    "# Display the tuple and Its values\n",
    "print(student_tuple, type(student_tuple))"
   ]
  },
  {
   "cell_type": "code",
   "execution_count": 40,
   "id": "cb4af01d",
   "metadata": {},
   "outputs": [
    {
     "name": "stdout",
     "output_type": "stream",
     "text": [
      "1   1   1\n",
      "2   4   8\n",
      "3   9   27\n"
     ]
    }
   ],
   "source": [
    "# Declaration and initialization of tupleA\n",
    "tupleA = (1, 2, 3)\n",
    "\n",
    "# Using for() loop to display the square values\n",
    "for i in tupleA:\n",
    "    print(i, ' ', i**2, ' ', i**3)"
   ]
  },
  {
   "cell_type": "markdown",
   "id": "a760b71b",
   "metadata": {},
   "source": [
    "# Slicing"
   ]
  },
  {
   "cell_type": "code",
   "execution_count": 41,
   "id": "ad3acf9c",
   "metadata": {},
   "outputs": [
    {
     "name": "stdout",
     "output_type": "stream",
     "text": [
      "(4, 5) (1, 2) (3, 4, 5)\n"
     ]
    }
   ],
   "source": [
    "# Declare the tuple named as 'a'\n",
    "a = (1, 2, 3, 4, 5)\n",
    "\n",
    "# Display the slices of the tuple\n",
    "print(a[-2:], a[:2], a[2:])"
   ]
  },
  {
   "cell_type": "code",
   "execution_count": 42,
   "id": "acc597bd",
   "metadata": {},
   "outputs": [
    {
     "name": "stdout",
     "output_type": "stream",
     "text": [
      "(5,) (4, 5) (3, 4, 5)\n"
     ]
    }
   ],
   "source": [
    "# Display the slices of the tuple\n",
    "print(a[-1:], a[-2:], a[-3:])"
   ]
  },
  {
   "cell_type": "code",
   "execution_count": 43,
   "id": "c4806d44",
   "metadata": {},
   "outputs": [
    {
     "name": "stdout",
     "output_type": "stream",
     "text": [
      "[1, 3, 4] <class 'list'> <class 'tuple'>\n"
     ]
    }
   ],
   "source": [
    "# Declare a tuple named as 'a'\n",
    "a = (3, 4, 1)\n",
    "\n",
    "# sort the tuple and stored into list (b)\n",
    "b = sorted(a)\n",
    "\n",
    "print(b, type(b), type(a))"
   ]
  },
  {
   "cell_type": "code",
   "execution_count": 44,
   "id": "03df3f16",
   "metadata": {},
   "outputs": [
    {
     "name": "stdout",
     "output_type": "stream",
     "text": [
      "(4, 5, 'x', 'y')\n"
     ]
    }
   ],
   "source": [
    "# Delcare two tuples\n",
    "a = (4, 5)\n",
    "b = ('x', 'y')\n",
    "\n",
    "# Concatenate the tuples\n",
    "c = a + b      # Concatenation\n",
    "\n",
    "# Display the concatenated tuples\n",
    "print(c)"
   ]
  },
  {
   "cell_type": "code",
   "execution_count": 45,
   "id": "7a4c31a9",
   "metadata": {},
   "outputs": [],
   "source": [
    "def count_sum(arr):                             # Name of function\n",
    "    count = len(arr)                            # Declaration of a variable count\n",
    "    sum = 0                                     # Declaration and initialization of a varaible nmaes as sum\n",
    "    for i in range(0, len(arr)):                # for loop starting from 0 to end of the array\n",
    "        sum += arr[i]                           # sum of all values of array\n",
    "    return count, sum                           # return the values"
   ]
  },
  {
   "cell_type": "code",
   "execution_count": 46,
   "id": "7a3eef2c",
   "metadata": {},
   "outputs": [
    {
     "name": "stdout",
     "output_type": "stream",
     "text": [
      "(8, 44)\n"
     ]
    }
   ],
   "source": [
    "arr = (2, 3, 4, 5, 6, 7, 8, 9)          # Declaraion of tuple\n",
    "array = list(arr)                       # Convert tuple to array\n",
    "a = count_sum(array)                    # Call a method count_sum()\n",
    "print(a)                                # Display the values"
   ]
  },
  {
   "cell_type": "markdown",
   "id": "89c5f2d4",
   "metadata": {},
   "source": [
    "# Dictionary"
   ]
  },
  {
   "cell_type": "code",
   "execution_count": 47,
   "id": "d8f681a2",
   "metadata": {},
   "outputs": [
    {
     "name": "stdout",
     "output_type": "stream",
     "text": [
      "{'name': 'Ken', 'age': 51, 'hobbies': ['reading', 'running']}\n"
     ]
    }
   ],
   "source": [
    "# Declare a dictionary named as 'dict'\n",
    "dict = {\"name\": \"Ken\", \"age\": 51, \"hobbies\": [\"reading\", \"running\"]}\n",
    "\n",
    "# Display the dictionary keys as well as values\n",
    "print(dict)"
   ]
  },
  {
   "cell_type": "code",
   "execution_count": 48,
   "id": "48a33ef1",
   "metadata": {},
   "outputs": [
    {
     "name": "stdout",
     "output_type": "stream",
     "text": [
      "name\n",
      "age\n",
      "hobbies\n"
     ]
    }
   ],
   "source": [
    "# Display th keys of the dictionary using for loop\n",
    "for key in {\"name\": \"Ken\", \"age\": 51, \"hobbies\": [\"reading\", \"running\"]}:\n",
    "    print(key)"
   ]
  },
  {
   "cell_type": "code",
   "execution_count": 49,
   "id": "8bb50edd",
   "metadata": {},
   "outputs": [
    {
     "name": "stdout",
     "output_type": "stream",
     "text": [
      "Ken\n",
      "51\n",
      "['reading', 'running']\n"
     ]
    }
   ],
   "source": [
    "# Iterating over all the values of a dictionary and printing them one by one\n",
    "for values in dict.values():\n",
    "    print(values)"
   ]
  },
  {
   "cell_type": "code",
   "execution_count": 50,
   "id": "d47d47d2",
   "metadata": {},
   "outputs": [
    {
     "name": "stdout",
     "output_type": "stream",
     "text": [
      "Ken 3\n"
     ]
    }
   ],
   "source": [
    "# Declare the dict with three key values\n",
    "dict = {\"name\": \"Ken\", \"age\": 51, \"hobbies\": [\"reading\", \"running\"]}\n",
    "\n",
    "# Display a key and Its value from the dictionary\n",
    "print(dict[\"name\"], len(dict))"
   ]
  },
  {
   "cell_type": "code",
   "execution_count": 51,
   "id": "86c11c58",
   "metadata": {},
   "outputs": [
    {
     "name": "stdout",
     "output_type": "stream",
     "text": [
      "False\n"
     ]
    }
   ],
   "source": [
    "# Declare a dictionary named as 'square'\n",
    "square = {1: \"1\", 3: \"9\", 5: \"25\", 7: \"49\", 9: \"81\"}\n",
    "\n",
    "# Display the key is present or not\n",
    "print(4 in square)"
   ]
  },
  {
   "cell_type": "code",
   "execution_count": 52,
   "id": "ed24fee1",
   "metadata": {},
   "outputs": [
    {
     "data": {
      "text/plain": [
       "[(0, 'red'), (1, 'orange'), (2, 'yellow')]"
      ]
     },
     "execution_count": 52,
     "metadata": {},
     "output_type": "execute_result"
    }
   ],
   "source": [
    "# Declare the list comprised of colors\n",
    "colors = ['red', 'orange', 'yellow']\n",
    "\n",
    "# Use enumerate to display add index along with string values\n",
    "list(enumerate(colors))"
   ]
  },
  {
   "cell_type": "code",
   "execution_count": 53,
   "id": "6a34f5e3",
   "metadata": {},
   "outputs": [
    {
     "name": "stdout",
     "output_type": "stream",
     "text": [
      "Corolla\n"
     ]
    }
   ],
   "source": [
    "# Declare the dictionary\n",
    "thisdict = {\"brand\": \"Toyota\", \"model\": \"Corolla\", \"year\": 2010}\n",
    "\n",
    "# Store the value of the particular key into x\n",
    "x = thisdict[\"model\"]\n",
    "\n",
    "# Display the value of x\n",
    "print(x)"
   ]
  },
  {
   "cell_type": "code",
   "execution_count": 54,
   "id": "0d790067",
   "metadata": {},
   "outputs": [
    {
     "name": "stdout",
     "output_type": "stream",
     "text": [
      "Corolla\n"
     ]
    }
   ],
   "source": [
    "# We can use get() method to get the values from dictionary based on keys\n",
    "x = thisdict.get(\"model\")\n",
    "\n",
    "# Display the value of 'x'\n",
    "print(x)"
   ]
  },
  {
   "cell_type": "code",
   "execution_count": 55,
   "id": "c91620fc",
   "metadata": {},
   "outputs": [
    {
     "name": "stdout",
     "output_type": "stream",
     "text": [
      "dict_items([('brand', 'Toyota'), ('model', 'Corolla'), ('year', 2010)])\n"
     ]
    }
   ],
   "source": [
    "# Display the values of dictionary using the method items()\n",
    "x = thisdict.items()\n",
    "\n",
    "# Display 'x'\n",
    "print(x)"
   ]
  },
  {
   "cell_type": "code",
   "execution_count": 56,
   "id": "69e9c17d",
   "metadata": {},
   "outputs": [
    {
     "name": "stdout",
     "output_type": "stream",
     "text": [
      "Shane\n"
     ]
    }
   ],
   "source": [
    "# Delcare the dictionary provided by the student in the chat window during online session\n",
    "Students = {\"Name\": \"Andrew\", \"Name\": \"Shane\"}\n",
    "\n",
    "# Display the key \"Name\"\n",
    "print(Students[\"Name\"])"
   ]
  },
  {
   "cell_type": "markdown",
   "id": "a22ad61a",
   "metadata": {},
   "source": [
    "# Exceptions"
   ]
  },
  {
   "cell_type": "code",
   "execution_count": 57,
   "id": "02b1e51d",
   "metadata": {},
   "outputs": [
    {
     "ename": "SyntaxError",
     "evalue": "Missing parentheses in call to 'print'. Did you mean print(\"hello\"    # Syntax error)? (3368586761.py, line 1)",
     "output_type": "error",
     "traceback": [
      "\u001b[1;36m  File \u001b[1;32m\"C:\\Users\\miqba\\AppData\\Local\\Temp\\ipykernel_6892\\3368586761.py\"\u001b[1;36m, line \u001b[1;32m1\u001b[0m\n\u001b[1;33m    print \"hello\"    # Syntax error\u001b[0m\n\u001b[1;37m          ^\u001b[0m\n\u001b[1;31mSyntaxError\u001b[0m\u001b[1;31m:\u001b[0m Missing parentheses in call to 'print'. Did you mean print(\"hello\"    # Syntax error)?\n"
     ]
    }
   ],
   "source": [
    "print \"hello\"    # Syntax error"
   ]
  },
  {
   "cell_type": "code",
   "execution_count": 58,
   "id": "c98cb988",
   "metadata": {},
   "outputs": [
    {
     "name": "stdout",
     "output_type": "stream",
     "text": [
      "Enter first number: 3\n",
      "Enter second number: 0\n"
     ]
    },
    {
     "ename": "ZeroDivisionError",
     "evalue": "division by zero",
     "output_type": "error",
     "traceback": [
      "\u001b[1;31m---------------------------------------------------------------------------\u001b[0m",
      "\u001b[1;31mZeroDivisionError\u001b[0m                         Traceback (most recent call last)",
      "\u001b[1;32m~\\AppData\\Local\\Temp\\ipykernel_6892\\2310640811.py\u001b[0m in \u001b[0;36m<module>\u001b[1;34m\u001b[0m\n\u001b[0;32m      6\u001b[0m     \u001b[0mprint\u001b[0m\u001b[1;33m(\u001b[0m\u001b[1;34m\"Result is \"\u001b[0m\u001b[1;33m,\u001b[0m \u001b[0mresult\u001b[0m\u001b[1;33m)\u001b[0m                           \u001b[1;31m# Display the results\u001b[0m\u001b[1;33m\u001b[0m\u001b[1;33m\u001b[0m\u001b[0m\n\u001b[0;32m      7\u001b[0m \u001b[1;33m\u001b[0m\u001b[0m\n\u001b[1;32m----> 8\u001b[1;33m \u001b[0mmain\u001b[0m\u001b[1;33m(\u001b[0m\u001b[1;33m)\u001b[0m                    \u001b[1;31m# Call the method named as 'main()'\u001b[0m\u001b[1;33m\u001b[0m\u001b[1;33m\u001b[0m\u001b[0m\n\u001b[0m",
      "\u001b[1;32m~\\AppData\\Local\\Temp\\ipykernel_6892\\2310640811.py\u001b[0m in \u001b[0;36mmain\u001b[1;34m()\u001b[0m\n\u001b[0;32m      3\u001b[0m     \u001b[0mnumber1\u001b[0m \u001b[1;33m=\u001b[0m \u001b[0mint\u001b[0m\u001b[1;33m(\u001b[0m\u001b[0minput\u001b[0m\u001b[1;33m(\u001b[0m\u001b[1;34m\"Enter first number: \"\u001b[0m\u001b[1;33m)\u001b[0m\u001b[1;33m)\u001b[0m          \u001b[1;31m# Get an input value from the user\u001b[0m\u001b[1;33m\u001b[0m\u001b[1;33m\u001b[0m\u001b[0m\n\u001b[0;32m      4\u001b[0m     \u001b[0mnumber2\u001b[0m \u001b[1;33m=\u001b[0m \u001b[0mint\u001b[0m\u001b[1;33m(\u001b[0m\u001b[0minput\u001b[0m\u001b[1;33m(\u001b[0m\u001b[1;34m\"Enter second number: \"\u001b[0m\u001b[1;33m)\u001b[0m\u001b[1;33m)\u001b[0m         \u001b[1;31m# Get an input value from the user\u001b[0m\u001b[1;33m\u001b[0m\u001b[1;33m\u001b[0m\u001b[0m\n\u001b[1;32m----> 5\u001b[1;33m     \u001b[0mresult\u001b[0m \u001b[1;33m=\u001b[0m \u001b[0mnumber1\u001b[0m \u001b[1;33m/\u001b[0m \u001b[0mnumber2\u001b[0m                            \u001b[1;31m# Process od division of numbers\u001b[0m\u001b[1;33m\u001b[0m\u001b[1;33m\u001b[0m\u001b[0m\n\u001b[0m\u001b[0;32m      6\u001b[0m     \u001b[0mprint\u001b[0m\u001b[1;33m(\u001b[0m\u001b[1;34m\"Result is \"\u001b[0m\u001b[1;33m,\u001b[0m \u001b[0mresult\u001b[0m\u001b[1;33m)\u001b[0m                           \u001b[1;31m# Display the results\u001b[0m\u001b[1;33m\u001b[0m\u001b[1;33m\u001b[0m\u001b[0m\n\u001b[0;32m      7\u001b[0m \u001b[1;33m\u001b[0m\u001b[0m\n",
      "\u001b[1;31mZeroDivisionError\u001b[0m: division by zero"
     ]
    }
   ],
   "source": [
    "# Declaration of a function\n",
    "def main():\n",
    "    number1 = int(input(\"Enter first number: \"))          # Get an input value from the user\n",
    "    number2 = int(input(\"Enter second number: \"))         # Get an input value from the user\n",
    "    result = number1 / number2                            # Process od division of numbers\n",
    "    print(\"Result is \", result)                           # Display the results\n",
    "\n",
    "main()                    # Call the method named as 'main()'"
   ]
  },
  {
   "cell_type": "code",
   "execution_count": 59,
   "id": "a0fe20cb",
   "metadata": {},
   "outputs": [
    {
     "name": "stdout",
     "output_type": "stream",
     "text": [
      "Enter first number: 3\n",
      "Enter second number: 0\n",
      "Division by zero is forbidden in Maths\n"
     ]
    }
   ],
   "source": [
    "# Declaration of a function\n",
    "def main():\n",
    "    try:                                                     # Start the block with try keyword for exception handling\n",
    "        number1 = int(input(\"Enter first number: \"))         # Get an input value from the user\n",
    "        number2 = int(input(\"Enter second number: \"))        # Get an input value from the user\n",
    "        result = number1 / number2                           # Division oepration\n",
    "        print(\"Result is \", result)                          # Display the results\n",
    "    except ZeroDivisionError:                                # named exception\n",
    "        print(\"Division by zero is forbidden in Maths\")      # Display the value\n",
    "\n",
    "main()         # Call the method main()"
   ]
  },
  {
   "cell_type": "markdown",
   "id": "01d9dfd6",
   "metadata": {},
   "source": [
    "# Multi dimensional Lists"
   ]
  },
  {
   "cell_type": "code",
   "execution_count": 60,
   "id": "208411f5",
   "metadata": {},
   "outputs": [
    {
     "name": "stdout",
     "output_type": "stream",
     "text": [
      "[[77, 68, 86, 73], [96, 87, 89, 81], [78, 90, 86, 81]]\n"
     ]
    }
   ],
   "source": [
    "# Declaration of a multi-dimensional array\n",
    "a = [ [77, 68, 86, 73], [96, 87, 89, 81], [78, 90, 86, 81] ]\n",
    "\n",
    "# Display the list named as 'a'\n",
    "print(a)"
   ]
  },
  {
   "cell_type": "code",
   "execution_count": 61,
   "id": "3521c1c8",
   "metadata": {},
   "outputs": [
    {
     "name": "stdout",
     "output_type": "stream",
     "text": [
      "3 4\n"
     ]
    }
   ],
   "source": [
    "matrix = [ [77, 68, 86, 73],         # Grades of first student\n",
    "           [96, 87, 89, 81],         # Grades of second student\n",
    "           [78, 90, 86, 81] ]        # Grades of third student\n",
    "\n",
    "# print(len(matrix))\n",
    "rows = len(matrix)                   # Store the rows into rows variable\n",
    "columns = len(matrix[rows - 1])      # Store the columns into columns\n",
    "\n",
    "# Display the rows and columns\n",
    "print(rows, columns)"
   ]
  },
  {
   "cell_type": "code",
   "execution_count": 62,
   "id": "0318f4fd",
   "metadata": {},
   "outputs": [
    {
     "name": "stdout",
     "output_type": "stream",
     "text": [
      "0 1 2 3 \n",
      "0 1 2 3 \n",
      "0 1 2 3 \n"
     ]
    }
   ],
   "source": [
    "# Nested for loop to display multi-dimensioanl list\n",
    "for row in range (0, len(matrix)):                             # Outer loop to handle rows of multi-dimensionam list (array)\n",
    "    for column in range(0, len(matrix[row])):                  # Inter loop to handle columns of multi-dimensionam list (array)\n",
    "        print(column, end = \" \")                               # Display the columns values with a space\n",
    "        #print(matrix[row][column], end = \" \")\n",
    "    print()                                                    # For newline"
   ]
  },
  {
   "cell_type": "code",
   "execution_count": 63,
   "id": "17430106",
   "metadata": {},
   "outputs": [
    {
     "name": "stdout",
     "output_type": "stream",
     "text": [
      "Total marks for student  1  =  304  Average =  76.0\n",
      "Total marks for student  2  =  353  Average =  88.25\n",
      "Total marks for student  3  =  335  Average =  83.75\n"
     ]
    }
   ],
   "source": [
    "total = 0\n",
    "# Nested for loop to display multi-dimensioanl list\n",
    "for row in range (0, len(matrix)):                                  # Outer loop\n",
    "    for column in range(0, len(matrix[row])):                       # Inner loop\n",
    "        total += matrix[row][column]                                # Add matrix values into total\n",
    "    print(\"Total marks for student \", row + 1, ' = ', total, ' Average = ', total/columns)       # Display the total and average\n",
    "    total = 0              # Reset the counter"
   ]
  },
  {
   "cell_type": "markdown",
   "id": "593e953c",
   "metadata": {},
   "source": [
    "# Objects and Classes"
   ]
  },
  {
   "cell_type": "markdown",
   "id": "9a95bcf8",
   "metadata": {},
   "source": [
    "A Python class uses variables to store data fields and methods to perform opeerations on the data."
   ]
  },
  {
   "cell_type": "code",
   "execution_count": 64,
   "id": "95789636",
   "metadata": {},
   "outputs": [
    {
     "name": "stdout",
     "output_type": "stream",
     "text": [
      "<class '__main__.MyClass'> <class 'type'>\n"
     ]
    }
   ],
   "source": [
    "# Declaration of a class named as 'MyClass'\n",
    "class MyClass:\n",
    "    x = 5       # Delcaration of a variable\n",
    "\n",
    "# Display the name of the class and Its type\n",
    "print(MyClass, type(MyClass))"
   ]
  },
  {
   "cell_type": "code",
   "execution_count": 65,
   "id": "fe73c0a2",
   "metadata": {},
   "outputs": [
    {
     "name": "stdout",
     "output_type": "stream",
     "text": [
      "Name of a person  John\n",
      "Age of a person  32\n",
      "Name of a person  Michael\n",
      "Age of a person  37\n"
     ]
    }
   ],
   "source": [
    "# Declaration of a class named as 'Person'\n",
    "class Person:\n",
    "    def __init__(self, name, age):            # Create a method named as '__init__()'\n",
    "        self.name = name                      # Store the name provided by the user into self.name \n",
    "        self.age = age                        # Store the age provided by the user into self.age\n",
    "\n",
    "# The __init__ method is the Python equivalent of the C++ constructor in an object-oriented approach. The __init__ function \n",
    "# is called every time an object is created from a class. The __init__ method lets the class initialize the object's \n",
    "# attributes and serves no other purpose. It is only used within classes.\n",
    "\n",
    "# Declaration of an object named as 'p1'\n",
    "p1 = Person(\"John\", 32)                      \n",
    "\n",
    "# Display the name and age of the person using object 'p1'\n",
    "print('Name of a person ', p1.name)\n",
    "print('Age of a person ', p1.age)\n",
    "\n",
    "# Declaration of an object named as 'p2'\n",
    "p2 = Person(\"Michael\", 37)\n",
    "\n",
    "# Display the name and age of the person using object 'p2'\n",
    "print('Name of a person ', p2.name)\n",
    "print('Age of a person ', p2.age)"
   ]
  },
  {
   "cell_type": "code",
   "execution_count": 66,
   "id": "e363aea6",
   "metadata": {},
   "outputs": [
    {
     "name": "stdout",
     "output_type": "stream",
     "text": [
      "Hello my name is  John  and age is  32\n",
      "Hello my name is  Michael  and age is  37\n"
     ]
    }
   ],
   "source": [
    "# Declaration of a class named as 'Person'\n",
    "class Person:\n",
    "    def __init__(self, name, age):\n",
    "        self.name = name                     # Store the name provided by the user into self.name \n",
    "        self.age = age                       # Store the age provided by the user into self.age \n",
    "        \n",
    "    def displayfunc(self):\n",
    "        print(\"Hello my name is \", self.name, ' and age is ', self.age)          # Display the self.name and self.age values\n",
    "\n",
    "# Declaration of an object named as 'p1'\n",
    "p1 = Person(\"John\", 32)\n",
    "\n",
    "# Call the method displayfunc() to display the name and age of a person using 'p1'\n",
    "p1.displayfunc()\n",
    "\n",
    "# Declaration of an object named as 'p2'\n",
    "p2 = Person(\"Michael\", 37)\n",
    "\n",
    "# Call the method displayfunc() to display the name and age of a person using 'p2'\n",
    "p2.displayfunc()"
   ]
  },
  {
   "cell_type": "markdown",
   "id": "46b2e555",
   "metadata": {},
   "source": [
    "# Libraries/ Modules and Packages"
   ]
  },
  {
   "cell_type": "code",
   "execution_count": 67,
   "id": "6a4356ab",
   "metadata": {},
   "outputs": [
    {
     "data": {
      "text/html": [
       "<div>\n",
       "<style scoped>\n",
       "    .dataframe tbody tr th:only-of-type {\n",
       "        vertical-align: middle;\n",
       "    }\n",
       "\n",
       "    .dataframe tbody tr th {\n",
       "        vertical-align: top;\n",
       "    }\n",
       "\n",
       "    .dataframe thead th {\n",
       "        text-align: right;\n",
       "    }\n",
       "</style>\n",
       "<table border=\"1\" class=\"dataframe\">\n",
       "  <thead>\n",
       "    <tr style=\"text-align: right;\">\n",
       "      <th></th>\n",
       "      <th>carat</th>\n",
       "      <th>cut</th>\n",
       "      <th>color</th>\n",
       "      <th>clarity</th>\n",
       "      <th>depth</th>\n",
       "      <th>table</th>\n",
       "      <th>price</th>\n",
       "      <th>x</th>\n",
       "      <th>y</th>\n",
       "      <th>z</th>\n",
       "    </tr>\n",
       "  </thead>\n",
       "  <tbody>\n",
       "    <tr>\n",
       "      <th>0</th>\n",
       "      <td>0.23</td>\n",
       "      <td>Ideal</td>\n",
       "      <td>E</td>\n",
       "      <td>SI2</td>\n",
       "      <td>61.5</td>\n",
       "      <td>55.0</td>\n",
       "      <td>326</td>\n",
       "      <td>3.95</td>\n",
       "      <td>3.98</td>\n",
       "      <td>2.43</td>\n",
       "    </tr>\n",
       "    <tr>\n",
       "      <th>1</th>\n",
       "      <td>0.21</td>\n",
       "      <td>Premium</td>\n",
       "      <td>E</td>\n",
       "      <td>SI1</td>\n",
       "      <td>59.8</td>\n",
       "      <td>61.0</td>\n",
       "      <td>326</td>\n",
       "      <td>3.89</td>\n",
       "      <td>3.84</td>\n",
       "      <td>2.31</td>\n",
       "    </tr>\n",
       "    <tr>\n",
       "      <th>2</th>\n",
       "      <td>0.23</td>\n",
       "      <td>Good</td>\n",
       "      <td>E</td>\n",
       "      <td>VS1</td>\n",
       "      <td>56.9</td>\n",
       "      <td>65.0</td>\n",
       "      <td>327</td>\n",
       "      <td>4.05</td>\n",
       "      <td>4.07</td>\n",
       "      <td>2.31</td>\n",
       "    </tr>\n",
       "    <tr>\n",
       "      <th>3</th>\n",
       "      <td>0.29</td>\n",
       "      <td>Premium</td>\n",
       "      <td>I</td>\n",
       "      <td>VS2</td>\n",
       "      <td>62.4</td>\n",
       "      <td>58.0</td>\n",
       "      <td>334</td>\n",
       "      <td>4.20</td>\n",
       "      <td>4.23</td>\n",
       "      <td>2.63</td>\n",
       "    </tr>\n",
       "    <tr>\n",
       "      <th>4</th>\n",
       "      <td>0.31</td>\n",
       "      <td>Good</td>\n",
       "      <td>J</td>\n",
       "      <td>SI2</td>\n",
       "      <td>63.3</td>\n",
       "      <td>58.0</td>\n",
       "      <td>335</td>\n",
       "      <td>4.34</td>\n",
       "      <td>4.35</td>\n",
       "      <td>2.75</td>\n",
       "    </tr>\n",
       "    <tr>\n",
       "      <th>...</th>\n",
       "      <td>...</td>\n",
       "      <td>...</td>\n",
       "      <td>...</td>\n",
       "      <td>...</td>\n",
       "      <td>...</td>\n",
       "      <td>...</td>\n",
       "      <td>...</td>\n",
       "      <td>...</td>\n",
       "      <td>...</td>\n",
       "      <td>...</td>\n",
       "    </tr>\n",
       "    <tr>\n",
       "      <th>95</th>\n",
       "      <td>0.70</td>\n",
       "      <td>Good</td>\n",
       "      <td>E</td>\n",
       "      <td>VS2</td>\n",
       "      <td>57.5</td>\n",
       "      <td>58.0</td>\n",
       "      <td>2759</td>\n",
       "      <td>5.85</td>\n",
       "      <td>5.90</td>\n",
       "      <td>3.38</td>\n",
       "    </tr>\n",
       "    <tr>\n",
       "      <th>96</th>\n",
       "      <td>0.70</td>\n",
       "      <td>Good</td>\n",
       "      <td>F</td>\n",
       "      <td>VS1</td>\n",
       "      <td>59.4</td>\n",
       "      <td>62.0</td>\n",
       "      <td>2759</td>\n",
       "      <td>5.71</td>\n",
       "      <td>5.76</td>\n",
       "      <td>3.40</td>\n",
       "    </tr>\n",
       "    <tr>\n",
       "      <th>97</th>\n",
       "      <td>0.96</td>\n",
       "      <td>Fair</td>\n",
       "      <td>F</td>\n",
       "      <td>SI2</td>\n",
       "      <td>66.3</td>\n",
       "      <td>62.0</td>\n",
       "      <td>2759</td>\n",
       "      <td>6.27</td>\n",
       "      <td>5.95</td>\n",
       "      <td>4.07</td>\n",
       "    </tr>\n",
       "    <tr>\n",
       "      <th>98</th>\n",
       "      <td>0.73</td>\n",
       "      <td>Very Good</td>\n",
       "      <td>E</td>\n",
       "      <td>SI1</td>\n",
       "      <td>61.6</td>\n",
       "      <td>59.0</td>\n",
       "      <td>2760</td>\n",
       "      <td>5.77</td>\n",
       "      <td>5.78</td>\n",
       "      <td>3.56</td>\n",
       "    </tr>\n",
       "    <tr>\n",
       "      <th>99</th>\n",
       "      <td>0.80</td>\n",
       "      <td>Premium</td>\n",
       "      <td>H</td>\n",
       "      <td>SI1</td>\n",
       "      <td>61.5</td>\n",
       "      <td>58.0</td>\n",
       "      <td>2760</td>\n",
       "      <td>5.97</td>\n",
       "      <td>5.93</td>\n",
       "      <td>3.66</td>\n",
       "    </tr>\n",
       "  </tbody>\n",
       "</table>\n",
       "<p>100 rows × 10 columns</p>\n",
       "</div>"
      ],
      "text/plain": [
       "    carat        cut color clarity  depth  table  price     x     y     z\n",
       "0    0.23      Ideal     E     SI2   61.5   55.0    326  3.95  3.98  2.43\n",
       "1    0.21    Premium     E     SI1   59.8   61.0    326  3.89  3.84  2.31\n",
       "2    0.23       Good     E     VS1   56.9   65.0    327  4.05  4.07  2.31\n",
       "3    0.29    Premium     I     VS2   62.4   58.0    334  4.20  4.23  2.63\n",
       "4    0.31       Good     J     SI2   63.3   58.0    335  4.34  4.35  2.75\n",
       "..    ...        ...   ...     ...    ...    ...    ...   ...   ...   ...\n",
       "95   0.70       Good     E     VS2   57.5   58.0   2759  5.85  5.90  3.38\n",
       "96   0.70       Good     F     VS1   59.4   62.0   2759  5.71  5.76  3.40\n",
       "97   0.96       Fair     F     SI2   66.3   62.0   2759  6.27  5.95  4.07\n",
       "98   0.73  Very Good     E     SI1   61.6   59.0   2760  5.77  5.78  3.56\n",
       "99   0.80    Premium     H     SI1   61.5   58.0   2760  5.97  5.93  3.66\n",
       "\n",
       "[100 rows x 10 columns]"
      ]
     },
     "execution_count": 67,
     "metadata": {},
     "output_type": "execute_result"
    }
   ],
   "source": [
    "# Load the libraries\n",
    "\n",
    "import pandas as pd\n",
    "import seaborn as sns\n",
    "\n",
    "# Store the web link address into diamonds_url\n",
    "diamonds_url = \"https://raw.githubusercontent.com/TrainingByPackt/Interactive-Data-Visualization-with-Python/master/datasets/diamonds.csv\"\n",
    "\n",
    "# Read csv file using read_csv() method and store into dataframe 'diamonds_df'\n",
    "diamonds_df = pd.read_csv(diamonds_url)\n",
    "\n",
    "# Display 100 records\n",
    "diamonds_df.head(100)"
   ]
  },
  {
   "cell_type": "code",
   "execution_count": 68,
   "id": "622eacee",
   "metadata": {},
   "outputs": [
    {
     "name": "stdout",
     "output_type": "stream",
     "text": [
      "<class 'pandas.core.frame.DataFrame'>\n",
      "RangeIndex: 53940 entries, 0 to 53939\n",
      "Data columns (total 10 columns):\n",
      " #   Column   Non-Null Count  Dtype  \n",
      "---  ------   --------------  -----  \n",
      " 0   carat    53940 non-null  float64\n",
      " 1   cut      53940 non-null  object \n",
      " 2   color    53940 non-null  object \n",
      " 3   clarity  53940 non-null  object \n",
      " 4   depth    53940 non-null  float64\n",
      " 5   table    53940 non-null  float64\n",
      " 6   price    53940 non-null  int64  \n",
      " 7   x        53940 non-null  float64\n",
      " 8   y        53940 non-null  float64\n",
      " 9   z        53940 non-null  float64\n",
      "dtypes: float64(6), int64(1), object(3)\n",
      "memory usage: 4.1+ MB\n"
     ]
    }
   ],
   "source": [
    "# Display the information of the dataframe\n",
    "diamonds_df.info()"
   ]
  },
  {
   "cell_type": "code",
   "execution_count": 69,
   "id": "1bbbafcf",
   "metadata": {},
   "outputs": [
    {
     "data": {
      "text/html": [
       "<div>\n",
       "<style scoped>\n",
       "    .dataframe tbody tr th:only-of-type {\n",
       "        vertical-align: middle;\n",
       "    }\n",
       "\n",
       "    .dataframe tbody tr th {\n",
       "        vertical-align: top;\n",
       "    }\n",
       "\n",
       "    .dataframe thead th {\n",
       "        text-align: right;\n",
       "    }\n",
       "</style>\n",
       "<table border=\"1\" class=\"dataframe\">\n",
       "  <thead>\n",
       "    <tr style=\"text-align: right;\">\n",
       "      <th></th>\n",
       "      <th>carat</th>\n",
       "      <th>cut</th>\n",
       "      <th>color</th>\n",
       "      <th>clarity</th>\n",
       "      <th>depth</th>\n",
       "      <th>table</th>\n",
       "      <th>price</th>\n",
       "      <th>x</th>\n",
       "      <th>y</th>\n",
       "      <th>z</th>\n",
       "    </tr>\n",
       "  </thead>\n",
       "  <tbody>\n",
       "    <tr>\n",
       "      <th>0</th>\n",
       "      <td>0.23</td>\n",
       "      <td>Ideal</td>\n",
       "      <td>E</td>\n",
       "      <td>SI2</td>\n",
       "      <td>61.5</td>\n",
       "      <td>55.0</td>\n",
       "      <td>326</td>\n",
       "      <td>3.95</td>\n",
       "      <td>3.98</td>\n",
       "      <td>2.43</td>\n",
       "    </tr>\n",
       "    <tr>\n",
       "      <th>1</th>\n",
       "      <td>0.21</td>\n",
       "      <td>Premium</td>\n",
       "      <td>E</td>\n",
       "      <td>SI1</td>\n",
       "      <td>59.8</td>\n",
       "      <td>61.0</td>\n",
       "      <td>326</td>\n",
       "      <td>3.89</td>\n",
       "      <td>3.84</td>\n",
       "      <td>2.31</td>\n",
       "    </tr>\n",
       "    <tr>\n",
       "      <th>2</th>\n",
       "      <td>0.23</td>\n",
       "      <td>Good</td>\n",
       "      <td>E</td>\n",
       "      <td>VS1</td>\n",
       "      <td>56.9</td>\n",
       "      <td>65.0</td>\n",
       "      <td>327</td>\n",
       "      <td>4.05</td>\n",
       "      <td>4.07</td>\n",
       "      <td>2.31</td>\n",
       "    </tr>\n",
       "    <tr>\n",
       "      <th>3</th>\n",
       "      <td>0.29</td>\n",
       "      <td>Premium</td>\n",
       "      <td>I</td>\n",
       "      <td>VS2</td>\n",
       "      <td>62.4</td>\n",
       "      <td>58.0</td>\n",
       "      <td>334</td>\n",
       "      <td>4.20</td>\n",
       "      <td>4.23</td>\n",
       "      <td>2.63</td>\n",
       "    </tr>\n",
       "    <tr>\n",
       "      <th>4</th>\n",
       "      <td>0.31</td>\n",
       "      <td>Good</td>\n",
       "      <td>J</td>\n",
       "      <td>SI2</td>\n",
       "      <td>63.3</td>\n",
       "      <td>58.0</td>\n",
       "      <td>335</td>\n",
       "      <td>4.34</td>\n",
       "      <td>4.35</td>\n",
       "      <td>2.75</td>\n",
       "    </tr>\n",
       "  </tbody>\n",
       "</table>\n",
       "</div>"
      ],
      "text/plain": [
       "   carat      cut color clarity  depth  table  price     x     y     z\n",
       "0   0.23    Ideal     E     SI2   61.5   55.0    326  3.95  3.98  2.43\n",
       "1   0.21  Premium     E     SI1   59.8   61.0    326  3.89  3.84  2.31\n",
       "2   0.23     Good     E     VS1   56.9   65.0    327  4.05  4.07  2.31\n",
       "3   0.29  Premium     I     VS2   62.4   58.0    334  4.20  4.23  2.63\n",
       "4   0.31     Good     J     SI2   63.3   58.0    335  4.34  4.35  2.75"
      ]
     },
     "execution_count": 69,
     "metadata": {},
     "output_type": "execute_result"
    }
   ],
   "source": [
    "# Download the file from Moodle and load the datafile using sns object from Seaborn library\n",
    "diamonds_df = sns.load_dataset('diamonds')\n",
    "\n",
    "# Display the first five records\n",
    "diamonds_df.head()"
   ]
  },
  {
   "cell_type": "markdown",
   "id": "22d31e33",
   "metadata": {},
   "source": [
    "## Thank you"
   ]
  }
 ],
 "metadata": {
  "kernelspec": {
   "display_name": "Python 3 (ipykernel)",
   "language": "python",
   "name": "python3"
  },
  "language_info": {
   "codemirror_mode": {
    "name": "ipython",
    "version": 3
   },
   "file_extension": ".py",
   "mimetype": "text/x-python",
   "name": "python",
   "nbconvert_exporter": "python",
   "pygments_lexer": "ipython3",
   "version": "3.9.13"
  }
 },
 "nbformat": 4,
 "nbformat_minor": 5
}
