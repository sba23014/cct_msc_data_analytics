{
 "cells": [
  {
   "cell_type": "markdown",
   "id": "3a694f16",
   "metadata": {},
   "source": [
    "# Bootcamp Python Programming"
   ]
  },
  {
   "cell_type": "markdown",
   "id": "cf4cc82d",
   "metadata": {},
   "source": [
    "## 12th Sept 2023"
   ]
  },
  {
   "cell_type": "code",
   "execution_count": 2,
   "id": "6184fada",
   "metadata": {},
   "outputs": [
    {
     "name": "stdout",
     "output_type": "stream",
     "text": [
      "Sum of all numbers:  150\n",
      "Average of all nubmers:  30.0\n"
     ]
    }
   ],
   "source": [
    "# Declare the list named as 'alpha_list'\n",
    "\n",
    "alpha_list = [10, 20, 30, 40, 50]\n",
    "sum = 0\n",
    "\n",
    "for i in alpha_list:\n",
    "    sum += i #sum = sum + i\n",
    "\n",
    "print('Sum of all numbers: ', sum)\n",
    "print('Average of all nubmers: ', sum/len(alpha_list))"
   ]
  },
  {
   "cell_type": "markdown",
   "id": "4f10d20c",
   "metadata": {},
   "source": [
    "## Tuples"
   ]
  },
  {
   "cell_type": "code",
   "execution_count": 3,
   "id": "914e993c",
   "metadata": {},
   "outputs": [
    {
     "name": "stdout",
     "output_type": "stream",
     "text": [
      "(3, 4, 5) <class 'tuple'> [10, 20, 30, 40, 50] <class 'list'>\n"
     ]
    }
   ],
   "source": [
    "# Declare a tuple\n",
    "a = (3, 4, 5)\n",
    "\n",
    "print(a, type(a), alpha_list, type(alpha_list))"
   ]
  },
  {
   "cell_type": "code",
   "execution_count": 10,
   "id": "f0dcc44d",
   "metadata": {},
   "outputs": [
    {
     "name": "stdout",
     "output_type": "stream",
     "text": [
      "(13, 14, 15) (12, 13, 14, 15) (10, 11) (11, 12)\n"
     ]
    }
   ],
   "source": [
    "a = (10, 11, 12, 13, 14, 15)\n",
    "\n",
    "# Display the slices of the tuple\n",
    "print(a[-3:], a[2:], a[:2], a[1:3])"
   ]
  },
  {
   "cell_type": "markdown",
   "id": "cca3fa61",
   "metadata": {},
   "source": [
    "## Dictionary"
   ]
  },
  {
   "cell_type": "code",
   "execution_count": 23,
   "id": "c247910c",
   "metadata": {},
   "outputs": [
    {
     "name": "stdout",
     "output_type": "stream",
     "text": [
      "{'name': 'Ken', 'age': 52, 'hobbies': ['reading', 'running']}\n"
     ]
    }
   ],
   "source": [
    "# Declare a dictionary named as 'dict'\n",
    "\n",
    "dict = {\"name\":\"Ken\", \"age\":52, \"hobbies\": [\"reading\", \"running\"]}\n",
    "print(dict)"
   ]
  },
  {
   "cell_type": "code",
   "execution_count": 24,
   "id": "e7f60c71",
   "metadata": {},
   "outputs": [
    {
     "name": "stdout",
     "output_type": "stream",
     "text": [
      "name\n",
      "age\n",
      "hobbies\n"
     ]
    }
   ],
   "source": [
    "for key in {\"name\":\"Ken\", \"age\":52, \"hobbies\": [\"reading\", \"running\"]}:\n",
    "    print(key)"
   ]
  },
  {
   "cell_type": "code",
   "execution_count": 25,
   "id": "41aea704",
   "metadata": {},
   "outputs": [
    {
     "name": "stdout",
     "output_type": "stream",
     "text": [
      "Ken\n",
      "52\n",
      "['reading', 'running']\n"
     ]
    }
   ],
   "source": [
    "for values in dict.values():\n",
    "    print(values)"
   ]
  },
  {
   "cell_type": "markdown",
   "id": "ded8b783",
   "metadata": {},
   "source": [
    "## Exceptions"
   ]
  },
  {
   "cell_type": "code",
   "execution_count": 29,
   "id": "89eefb7c",
   "metadata": {},
   "outputs": [
    {
     "name": "stdout",
     "output_type": "stream",
     "text": [
      "Enter first number: 5\n",
      "Enter second number: 0\n",
      "Division by zero is forbidden in Maths\n"
     ]
    }
   ],
   "source": [
    "# Declaration of a function\n",
    "def main():\n",
    "    try:\n",
    "        number1 = int(input(\"Enter first number: \"))\n",
    "        number2 = int(input(\"Enter second number: \"))\n",
    "        mul = number1 * number2\n",
    "        div = number1 / number2\n",
    "        print(\"Multiplication of two numbers is \", mul)\n",
    "        print(\"Division of two numbers is \", div)\n",
    "    except ZeroDivisionError:\n",
    "        print(\"Division by zero is forbidden in Maths\")\n",
    "\n",
    "# Call the function for the execution of the code\n",
    "main()"
   ]
  },
  {
   "cell_type": "code",
   "execution_count": 27,
   "id": "0dba4c80",
   "metadata": {},
   "outputs": [
    {
     "name": "stdout",
     "output_type": "stream",
     "text": [
      "Enter first number: 15\n",
      "Enter second number: 20\n"
     ]
    }
   ],
   "source": []
  },
  {
   "cell_type": "code",
   "execution_count": null,
   "id": "6e6ba4f3",
   "metadata": {},
   "outputs": [],
   "source": []
  },
  {
   "cell_type": "code",
   "execution_count": null,
   "id": "3a5b9a5b",
   "metadata": {},
   "outputs": [],
   "source": []
  }
 ],
 "metadata": {
  "kernelspec": {
   "display_name": "Python 3 (ipykernel)",
   "language": "python",
   "name": "python3"
  },
  "language_info": {
   "codemirror_mode": {
    "name": "ipython",
    "version": 3
   },
   "file_extension": ".py",
   "mimetype": "text/x-python",
   "name": "python",
   "nbconvert_exporter": "python",
   "pygments_lexer": "ipython3",
   "version": "3.9.16"
  }
 },
 "nbformat": 4,
 "nbformat_minor": 5
}
