{
 "cells": [
  {
   "cell_type": "markdown",
   "metadata": {},
   "source": [
    "# Tutorial 6\n",
    "# Artificial Neural Networks"
   ]
  },
  {
   "cell_type": "markdown",
   "metadata": {},
   "source": [
    "# Neural Networks using Keras\n",
    "Two well-known deep learning frameworks that are closely related to one another are Keras and TensorFlow. The primary distinction is that TensorFlow is just one deep learning framework that Keras, an open-source high-level neural networks API, operates on top of. "
   ]
  },
  {
   "cell_type": "markdown",
   "metadata": {},
   "source": [
    "Let's take a look at how we can use Keras to build the two-layer neural network that we introduced earlier. To build a linear collection of layers, first declare a Sequential model in Keras:"
   ]
  },
  {
   "cell_type": "code",
   "execution_count": 1,
   "metadata": {},
   "outputs": [],
   "source": [
    "#!pip install tensorflow\n",
    "#!pip install keras"
   ]
  },
  {
   "cell_type": "code",
   "execution_count": 2,
   "metadata": {},
   "outputs": [],
   "source": [
    "# Fixing a random seed ensures reproducible results\n",
    "import numpy as np\n",
    "import random\n",
    "import tensorflow\n",
    "tensorflow.random.set_seed(9)\n",
    "np.random.seed(1)\n",
    "random.seed(1)"
   ]
  },
  {
   "cell_type": "code",
   "execution_count": 3,
   "metadata": {},
   "outputs": [
    {
     "data": {
      "text/plain": [
       "array([[-100.1, 3240.1],\n",
       "       [-200.2, -234.1],\n",
       "       [5000.5,  150.1],\n",
       "       [6000.6, -125.1],\n",
       "       [9000.9, -673.1]])"
      ]
     },
     "execution_count": 3,
     "metadata": {},
     "output_type": "execute_result"
    }
   ],
   "source": [
    "#Load library\n",
    "from sklearn import preprocessing\n",
    "import  numpy  as  np\n",
    "\n",
    "import warnings\n",
    "warnings.filterwarnings('ignore') # We can suppress the warnings\n",
    "\n",
    "#Create features\n",
    "features = np.array([[-100.1, 3240.1],\n",
    "                     [-200.2, -234.1],\n",
    "                     [5000.5, 150.1],\n",
    "                     [6000.6, -125.1],\n",
    "                     [9000.9, -673.1]])\n",
    "features"
   ]
  },
  {
   "cell_type": "code",
   "execution_count": 4,
   "metadata": {},
   "outputs": [
    {
     "data": {
      "text/plain": [
       "array([[-1.12541308,  1.96429418],\n",
       "       [-1.15329466, -0.50068741],\n",
       "       [ 0.29529406, -0.22809346],\n",
       "       [ 0.57385917, -0.42335076],\n",
       "       [ 1.40955451, -0.81216255]])"
      ]
     },
     "execution_count": 4,
     "metadata": {},
     "output_type": "execute_result"
    }
   ],
   "source": [
    "#Create a standardizer\n",
    "scaler = preprocessing.StandardScaler()\n",
    "\n",
    "#Convert features\n",
    "features_standardized = scaler.fit_transform(features)\n",
    "\n",
    "#Display features\n",
    "features_standardized"
   ]
  },
  {
   "cell_type": "code",
   "execution_count": 5,
   "metadata": {},
   "outputs": [],
   "source": [
    "import warnings\n",
    "warnings.filterwarnings('ignore') # We can suppress the warnings"
   ]
  },
  {
   "cell_type": "code",
   "execution_count": 6,
   "metadata": {},
   "outputs": [],
   "source": [
    "from keras.models import Sequential\n",
    "# from keras import models\n",
    "model = Sequential()"
   ]
  },
  {
   "cell_type": "markdown",
   "metadata": {},
   "source": [
    "## Designing a Neural Network\n",
    "* We will create a two-layer neural network (when counting layers we don’t include the input layer because it does not have any parameters to learn) using Keras’ sequential model. \n",
    "* Each layer is “dense” (also called fully connected), meaning that all the units in the previous layer are connected to all the neurals in the next layer. \n",
    "* In the first hidden layer we set units=16, meaning that layer contains 16 units with ReLU activation functions: activation='relu'. \n",
    "* In Keras, the first hidden layer of any network has to include an input_shape parameter, which is the shape of feature data. For example, (10,) tells the first layer to expect each observation to have 10 feature values. \n",
    "* In second layer is the same as the first, without the need for the input_shape parameter. This network is designed for binary classification so the output layer contains only one unit with a sigmoid activation function, which constrains the output to between 0 and 1 (representing the probability an observation is class 1).\n",
    "\n",
    "* Finally, before we can train our model, we need to tell Keras how we want our network to learn. We do this using the compile method, with our optimization algorithm (RMSProp), loss function (binary_crossentropy), and one or more performance metrics."
   ]
  },
  {
   "cell_type": "code",
   "execution_count": 7,
   "metadata": {},
   "outputs": [],
   "source": [
    "#Load library\n",
    "from keras import models\n",
    "from keras import layers\n",
    "\n",
    "# Start creating neural network\n",
    "network = models.Sequential()\n",
    "\n",
    "# Added fully connected layer using ReLU as activation function\n",
    "network.add(layers.Dense(units = 16, activation = \"relu\", input_shape = (10,)))\n",
    "\n",
    "# Added fully connected layer using ReLU as activation function\n",
    "network.add(layers.Dense(units = 16, activation = \"relu\"))\n",
    "\n",
    "# Added fully connected layer that uses sigmoid function as activation function\n",
    "network.add(layers.Dense(units = 1, activation = \"sigmoid\"))\n",
    "\n",
    "#Compile neural network\n",
    "network . compile ( loss = \"binary_crossentropy\" , # cross entropy\n",
    "                optimizer = \"rmsprop\" ,   # root mean square propagation method\n",
    "                metrics = [ \"accuracy\" ]) # performance indicators は accuracy"
   ]
  },
  {
   "cell_type": "markdown",
   "metadata": {},
   "source": [
    "* For each layer in the hidden and output layers we must define the number of units to include in the layer and the activation function. Overall, the more units we have in a layer, the more our network is able to learn complex patterns. However, more units might make our network overfit the training data in a way detrimental to the performance on the test data.\n",
    "\n",
    "For hidden layers, a popular activation function is the rectified linear unit (ReLU):\n",
    "\n",
    "f ( z ) = max ( 0 , z )\n",
    "\n",
    "where z is the sum of the weighted inputs and bias. As we can see, if z is greater than 0, the activation function returns z; otherwise, the function returns 0. This simple activation function has a number of desirable properties (a discussion of which is beyond the scope of this book) and this has made it a popular choice in neural networks. We should be aware, however, that many dozens of activation functions exist.\n",
    "\n",
    "* Second, we need to define the number of hidden layers to use in the network. More layers allow the network to learn more complex relationships, but with a computational cost.\n",
    "\n",
    "* Third, we have to define the structure of the activation function (if any) of the output layer. The nature of the output function is often determined by the goal of the network. Here are some common output layer patterns:\n",
    "\n",
    "Binary classification: One unit with a sigmoid activation function.\n",
    "\n",
    "Multiclass classification: k units (where k is the number of target classes) and a softmax activation function.\n",
    "\n",
    "Regression: One unit with no activation function.\n",
    "\n",
    "* Fourth, we need to define a loss function (the function that measures how well a predicted value matches the true value); this is again often determined by the problem type:\n",
    "\n",
    "Binary classification: Binary cross-entropy.\n",
    "Multiclass classification: Categorical cross-entropy.\n",
    "Regression: Mean square error.\n",
    "\n",
    "* Fifth, we have to define an optimizer, which intuitively can be thought of as our strategy “walking around” the loss function to find the parameter values that produce the lowest error. Common choices for optimizers are stochastic gradient descent, stochastic gradient descent with momentum, root mean square propagation, and adaptive moment estimation (more information on these optimizers in “See Also”).\n",
    "\n",
    "* Sixth, we can select one or more metrics to use to evaluate the performance, such as accuracy.\n",
    "\n",
    "Keras offers two ways for creating neural networks. Keras’ sequential model creates neural networks by stacking together layers. An alternative method for creating neural networks is called the functional API, but that is more for researchers rather than practitioners."
   ]
  },
  {
   "cell_type": "markdown",
   "metadata": {},
   "source": [
    "# Rice (Cammeo and Osmancik) – understanding the problem\n",
    "\n",
    "A total of 3810 rice grain's images were taken for the two species, processed and feature inferences were made. 7 morphological features were obtained for each grain of rice.\n",
    "\n",
    "Among  the certified rice grown in TURKEY,  the  Osmancik species, which has a large planting area since 1997 and the Cammeo species grown since 2014 have been selected for the study. When looking at the general characteristics of Osmancik species, they have a wide, long, glassy and dull appearance. When looking at the general characteristics of the Cammeo species, they have wide and long, glassy and dull in appearance. A total of 3810 rice grain's images were taken for the two species, processed and feature inferences were made. 7 morphological features were obtained for each grain of rice. "
   ]
  },
  {
   "cell_type": "code",
   "execution_count": 8,
   "metadata": {},
   "outputs": [],
   "source": [
    "#pip install ucimlrepo"
   ]
  },
  {
   "cell_type": "code",
   "execution_count": 9,
   "metadata": {},
   "outputs": [
    {
     "name": "stdout",
     "output_type": "stream",
     "text": [
      "{'uci_id': 545, 'name': 'Rice (Cammeo and Osmancik)', 'repository_url': 'https://archive.ics.uci.edu/dataset/545/rice+cammeo+and+osmancik', 'data_url': 'https://archive.ics.uci.edu/static/public/545/data.csv', 'abstract': \"A total of 3810 rice grain's images were taken for the two species, processed and feature inferences were made. 7 morphological features were obtained for each grain of rice.\", 'area': 'Biology', 'tasks': ['Classification'], 'characteristics': ['Multivariate'], 'num_instances': 3810, 'num_features': 7, 'feature_types': ['Real'], 'demographics': [], 'target_col': ['Class'], 'index_col': None, 'has_missing_values': 'no', 'missing_values_symbol': None, 'year_of_dataset_creation': 2019, 'last_updated': 'Fri Nov 03 2023', 'dataset_doi': '10.24432/C5MW4Z', 'creators': [], 'intro_paper': {'title': 'Classification of Rice Varieties Using Artificial Intelligence Methods', 'authors': 'Ilkay Cinar, M. Koklu', 'published_in': 'International Journal of Intelligent Systems and Applications in Engineering', 'year': 2019, 'url': 'https://www.semanticscholar.org/paper/4e508bb906c8fdc04ead6f20bd8918fcb3605d1c', 'doi': '10.18201/ijisae.2019355381'}, 'additional_info': {'summary': \"Among  the certified rice grown in TURKEY,  the  Osmancik species, which has a large planting area since 1997 and the Cammeo species grown since 2014 have been selected for the study.  When  looking  at  the  general  characteristics  of  Osmancik species, they have a wide, long, glassy and dull appearance.  When looking at the general characteristics of the Cammeo species, they have wide and long, glassy and dull in appearance.  A total of 3810 rice grain's images were taken for the two species, processed and feature inferences were made. 7 morphological features were obtained for each grain of rice. \", 'purpose': None, 'funded_by': None, 'instances_represent': None, 'recommended_data_splits': None, 'sensitive_data': None, 'preprocessing_description': None, 'variable_info': '1.) Area: Returns  the  number  of  pixels  within  the boundaries of the rice grain.\\r\\n2.) Perimeter: Calculates the circumference by calculating  the  distance  between  pixels around the boundaries of the rice grain.\\r\\n3.) Major Axis Length: The longest line that can be drawn on the rice  grain,  i.e.  the  main  axis  distance, gives.\\r\\n4.) Minor Axis Length: The shortest line that can be drawn on the rice  grain,  i.e.  the  small  axis  distance, gives.\\r\\n5.) Eccentricity: It measures how round the ellipse, which has  the  same  moments  as  the  rice  grain, is.\\r\\n6.) Convex Area: Returns  the  pixel  count  of  the  smallest convex shell of the region formed by the rice grain.\\r\\n7.) Extent: Returns the ratio of the regionformed by the rice grain to the bounding box pixels.\\r\\n8.) Class: Cammeo and Osmancik rices', 'citation': None}}\n",
      "                name     role        type demographic  \\\n",
      "0               Area  Feature     Integer        None   \n",
      "1          Perimeter  Feature  Continuous        None   \n",
      "2  Major_Axis_Length  Feature  Continuous        None   \n",
      "3  Minor_Axis_Length  Feature  Continuous        None   \n",
      "4       Eccentricity  Feature  Continuous        None   \n",
      "5        Convex_Area  Feature     Integer        None   \n",
      "6             Extent  Feature  Continuous        None   \n",
      "7              Class   Target      Binary        None   \n",
      "\n",
      "                                         description units missing_values  \n",
      "0  Returns the number of pixels within the bounda...    px             no  \n",
      "1  Calculates the circumference by calculating th...    px             no  \n",
      "2  The longest line that can be drawn on the rice...  None             no  \n",
      "3  The shortest line that can be drawn on the ric...  None             no  \n",
      "4  It measures how round the ellipse, which has t...  None             no  \n",
      "5  Returns the pixel count of the smallest convex...  None             no  \n",
      "6  Returns the ratio of the region formed by the ...  None             no  \n",
      "7                                Cammeo and Osmancik  None             no  \n"
     ]
    }
   ],
   "source": [
    "from ucimlrepo import fetch_ucirepo \n",
    "  \n",
    "# fetch dataset \n",
    "rice_cammeo_and_osmancik = fetch_ucirepo(id=545) \n",
    "  \n",
    "# data (as pandas dataframes) \n",
    "X = rice_cammeo_and_osmancik.data.features \n",
    "y = rice_cammeo_and_osmancik.data.targets \n",
    "  \n",
    "# metadata \n",
    "print(rice_cammeo_and_osmancik.metadata) \n",
    "  \n",
    "# variable information \n",
    "print(rice_cammeo_and_osmancik.variables) \n"
   ]
  },
  {
   "cell_type": "code",
   "execution_count": 10,
   "metadata": {},
   "outputs": [
    {
     "name": "stdout",
     "output_type": "stream",
     "text": [
      "       Area   Perimeter  Major_Axis_Length  Minor_Axis_Length  Eccentricity  \\\n",
      "0     15231  525.578979         229.749878          85.093788      0.928882   \n",
      "1     14656  494.311005         206.020065          91.730972      0.895405   \n",
      "2     14634  501.122009         214.106781          87.768288      0.912118   \n",
      "3     13176  458.342987         193.337387          87.448395      0.891861   \n",
      "4     14688  507.166992         211.743378          89.312454      0.906691   \n",
      "...     ...         ...                ...                ...           ...   \n",
      "3805  11441  415.858002         170.486771          85.756592      0.864280   \n",
      "3806  11625  421.390015         167.714798          89.462570      0.845850   \n",
      "3807  12437  442.498993         183.572922          86.801979      0.881144   \n",
      "3808   9882  392.296997         161.193985          78.210480      0.874406   \n",
      "3809  11434  404.709992         161.079269          90.868195      0.825692   \n",
      "\n",
      "      Convex_Area    Extent  \n",
      "0           15617  0.572896  \n",
      "1           15072  0.615436  \n",
      "2           14954  0.693259  \n",
      "3           13368  0.640669  \n",
      "4           15262  0.646024  \n",
      "...           ...       ...  \n",
      "3805        11628  0.681012  \n",
      "3806        11904  0.694279  \n",
      "3807        12645  0.626739  \n",
      "3808        10097  0.659064  \n",
      "3809        11591  0.802949  \n",
      "\n",
      "[3810 rows x 7 columns]          Class\n",
      "0       Cammeo\n",
      "1       Cammeo\n",
      "2       Cammeo\n",
      "3       Cammeo\n",
      "4       Cammeo\n",
      "...        ...\n",
      "3805  Osmancik\n",
      "3806  Osmancik\n",
      "3807  Osmancik\n",
      "3808  Osmancik\n",
      "3809  Osmancik\n",
      "\n",
      "[3810 rows x 1 columns]\n"
     ]
    }
   ],
   "source": [
    "print(X, y)"
   ]
  },
  {
   "cell_type": "code",
   "execution_count": 11,
   "metadata": {},
   "outputs": [
    {
     "data": {
      "text/html": [
       "<div>\n",
       "<style scoped>\n",
       "    .dataframe tbody tr th:only-of-type {\n",
       "        vertical-align: middle;\n",
       "    }\n",
       "\n",
       "    .dataframe tbody tr th {\n",
       "        vertical-align: top;\n",
       "    }\n",
       "\n",
       "    .dataframe thead th {\n",
       "        text-align: right;\n",
       "    }\n",
       "</style>\n",
       "<table border=\"1\" class=\"dataframe\">\n",
       "  <thead>\n",
       "    <tr style=\"text-align: right;\">\n",
       "      <th></th>\n",
       "      <th>Area</th>\n",
       "      <th>Perimeter</th>\n",
       "      <th>Major_Axis_Length</th>\n",
       "      <th>Minor_Axis_Length</th>\n",
       "      <th>Eccentricity</th>\n",
       "      <th>Convex_Area</th>\n",
       "      <th>Extent</th>\n",
       "      <th>Class</th>\n",
       "    </tr>\n",
       "  </thead>\n",
       "  <tbody>\n",
       "    <tr>\n",
       "      <th>0</th>\n",
       "      <td>15231</td>\n",
       "      <td>525.578979</td>\n",
       "      <td>229.749878</td>\n",
       "      <td>85.093788</td>\n",
       "      <td>0.928882</td>\n",
       "      <td>15617</td>\n",
       "      <td>0.572896</td>\n",
       "      <td>Cammeo</td>\n",
       "    </tr>\n",
       "    <tr>\n",
       "      <th>1</th>\n",
       "      <td>14656</td>\n",
       "      <td>494.311005</td>\n",
       "      <td>206.020065</td>\n",
       "      <td>91.730972</td>\n",
       "      <td>0.895405</td>\n",
       "      <td>15072</td>\n",
       "      <td>0.615436</td>\n",
       "      <td>Cammeo</td>\n",
       "    </tr>\n",
       "    <tr>\n",
       "      <th>2</th>\n",
       "      <td>14634</td>\n",
       "      <td>501.122009</td>\n",
       "      <td>214.106781</td>\n",
       "      <td>87.768288</td>\n",
       "      <td>0.912118</td>\n",
       "      <td>14954</td>\n",
       "      <td>0.693259</td>\n",
       "      <td>Cammeo</td>\n",
       "    </tr>\n",
       "    <tr>\n",
       "      <th>3</th>\n",
       "      <td>13176</td>\n",
       "      <td>458.342987</td>\n",
       "      <td>193.337387</td>\n",
       "      <td>87.448395</td>\n",
       "      <td>0.891861</td>\n",
       "      <td>13368</td>\n",
       "      <td>0.640669</td>\n",
       "      <td>Cammeo</td>\n",
       "    </tr>\n",
       "    <tr>\n",
       "      <th>4</th>\n",
       "      <td>14688</td>\n",
       "      <td>507.166992</td>\n",
       "      <td>211.743378</td>\n",
       "      <td>89.312454</td>\n",
       "      <td>0.906691</td>\n",
       "      <td>15262</td>\n",
       "      <td>0.646024</td>\n",
       "      <td>Cammeo</td>\n",
       "    </tr>\n",
       "  </tbody>\n",
       "</table>\n",
       "</div>"
      ],
      "text/plain": [
       "    Area   Perimeter  Major_Axis_Length  Minor_Axis_Length  Eccentricity  \\\n",
       "0  15231  525.578979         229.749878          85.093788      0.928882   \n",
       "1  14656  494.311005         206.020065          91.730972      0.895405   \n",
       "2  14634  501.122009         214.106781          87.768288      0.912118   \n",
       "3  13176  458.342987         193.337387          87.448395      0.891861   \n",
       "4  14688  507.166992         211.743378          89.312454      0.906691   \n",
       "\n",
       "   Convex_Area    Extent   Class  \n",
       "0        15617  0.572896  Cammeo  \n",
       "1        15072  0.615436  Cammeo  \n",
       "2        14954  0.693259  Cammeo  \n",
       "3        13368  0.640669  Cammeo  \n",
       "4        15262  0.646024  Cammeo  "
      ]
     },
     "execution_count": 11,
     "metadata": {},
     "output_type": "execute_result"
    }
   ],
   "source": [
    "import pandas as pd \n",
    "\n",
    "# Concatenate X and y horizontally\n",
    "\n",
    "df = pd.concat([X, y], axis = 1)\n",
    "\n",
    "# Print the concatenated DataFrame\n",
    "df.head()"
   ]
  },
  {
   "cell_type": "code",
   "execution_count": 12,
   "metadata": {},
   "outputs": [
    {
     "data": {
      "text/plain": [
       "Area                 0\n",
       "Perimeter            0\n",
       "Major_Axis_Length    0\n",
       "Minor_Axis_Length    0\n",
       "Eccentricity         0\n",
       "Convex_Area          0\n",
       "Extent               0\n",
       "Class                0\n",
       "dtype: int64"
      ]
     },
     "execution_count": 12,
     "metadata": {},
     "output_type": "execute_result"
    }
   ],
   "source": [
    "df.isnull().sum()"
   ]
  },
  {
   "cell_type": "code",
   "execution_count": 13,
   "metadata": {},
   "outputs": [
    {
     "name": "stdout",
     "output_type": "stream",
     "text": [
      "<class 'pandas.core.frame.DataFrame'>\n",
      "RangeIndex: 3810 entries, 0 to 3809\n",
      "Data columns (total 8 columns):\n",
      " #   Column             Non-Null Count  Dtype  \n",
      "---  ------             --------------  -----  \n",
      " 0   Area               3810 non-null   int64  \n",
      " 1   Perimeter          3810 non-null   float64\n",
      " 2   Major_Axis_Length  3810 non-null   float64\n",
      " 3   Minor_Axis_Length  3810 non-null   float64\n",
      " 4   Eccentricity       3810 non-null   float64\n",
      " 5   Convex_Area        3810 non-null   int64  \n",
      " 6   Extent             3810 non-null   float64\n",
      " 7   Class              3810 non-null   object \n",
      "dtypes: float64(5), int64(2), object(1)\n",
      "memory usage: 238.3+ KB\n"
     ]
    }
   ],
   "source": [
    "df.info()"
   ]
  },
  {
   "cell_type": "code",
   "execution_count": 36,
   "metadata": {},
   "outputs": [
    {
     "data": {
      "text/html": [
       "<div>\n",
       "<style scoped>\n",
       "    .dataframe tbody tr th:only-of-type {\n",
       "        vertical-align: middle;\n",
       "    }\n",
       "\n",
       "    .dataframe tbody tr th {\n",
       "        vertical-align: top;\n",
       "    }\n",
       "\n",
       "    .dataframe thead th {\n",
       "        text-align: right;\n",
       "    }\n",
       "</style>\n",
       "<table border=\"1\" class=\"dataframe\">\n",
       "  <thead>\n",
       "    <tr style=\"text-align: right;\">\n",
       "      <th></th>\n",
       "    </tr>\n",
       "  </thead>\n",
       "  <tbody>\n",
       "    <tr>\n",
       "      <th>0</th>\n",
       "    </tr>\n",
       "    <tr>\n",
       "      <th>1</th>\n",
       "    </tr>\n",
       "    <tr>\n",
       "      <th>2</th>\n",
       "    </tr>\n",
       "    <tr>\n",
       "      <th>3</th>\n",
       "    </tr>\n",
       "    <tr>\n",
       "      <th>4</th>\n",
       "    </tr>\n",
       "  </tbody>\n",
       "</table>\n",
       "</div>"
      ],
      "text/plain": [
       "Empty DataFrame\n",
       "Columns: []\n",
       "Index: [0, 1, 2, 3, 4]"
      ]
     },
     "execution_count": 36,
     "metadata": {},
     "output_type": "execute_result"
    }
   ],
   "source": [
    "from sklearn import preprocessing\n",
    "\n",
    "# select all categorical variables\n",
    "df_categorical = df.select_dtypes(include=['object'])\n",
    "df_categorical.head()"
   ]
  },
  {
   "cell_type": "code",
   "execution_count": 39,
   "metadata": {},
   "outputs": [
    {
     "data": {
      "text/plain": [
       "Series([], dtype: float64)"
      ]
     },
     "execution_count": 39,
     "metadata": {},
     "output_type": "execute_result"
    }
   ],
   "source": [
    "# Apply Label encoder to df_categorical\n",
    "\n",
    "label_encoder = preprocessing.LabelEncoder()\n",
    "df_categorical = df_categorical.apply(label_encoder.fit_transform)\n",
    "df_categorical.head()"
   ]
  },
  {
   "cell_type": "code",
   "execution_count": 16,
   "metadata": {},
   "outputs": [
    {
     "data": {
      "text/html": [
       "<div>\n",
       "<style scoped>\n",
       "    .dataframe tbody tr th:only-of-type {\n",
       "        vertical-align: middle;\n",
       "    }\n",
       "\n",
       "    .dataframe tbody tr th {\n",
       "        vertical-align: top;\n",
       "    }\n",
       "\n",
       "    .dataframe thead th {\n",
       "        text-align: right;\n",
       "    }\n",
       "</style>\n",
       "<table border=\"1\" class=\"dataframe\">\n",
       "  <thead>\n",
       "    <tr style=\"text-align: right;\">\n",
       "      <th></th>\n",
       "      <th>Area</th>\n",
       "      <th>Perimeter</th>\n",
       "      <th>Major_Axis_Length</th>\n",
       "      <th>Minor_Axis_Length</th>\n",
       "      <th>Eccentricity</th>\n",
       "      <th>Convex_Area</th>\n",
       "      <th>Extent</th>\n",
       "      <th>Class</th>\n",
       "    </tr>\n",
       "  </thead>\n",
       "  <tbody>\n",
       "    <tr>\n",
       "      <th>0</th>\n",
       "      <td>15231</td>\n",
       "      <td>525.578979</td>\n",
       "      <td>229.749878</td>\n",
       "      <td>85.093788</td>\n",
       "      <td>0.928882</td>\n",
       "      <td>15617</td>\n",
       "      <td>0.572896</td>\n",
       "      <td>0</td>\n",
       "    </tr>\n",
       "    <tr>\n",
       "      <th>1</th>\n",
       "      <td>14656</td>\n",
       "      <td>494.311005</td>\n",
       "      <td>206.020065</td>\n",
       "      <td>91.730972</td>\n",
       "      <td>0.895405</td>\n",
       "      <td>15072</td>\n",
       "      <td>0.615436</td>\n",
       "      <td>0</td>\n",
       "    </tr>\n",
       "    <tr>\n",
       "      <th>2</th>\n",
       "      <td>14634</td>\n",
       "      <td>501.122009</td>\n",
       "      <td>214.106781</td>\n",
       "      <td>87.768288</td>\n",
       "      <td>0.912118</td>\n",
       "      <td>14954</td>\n",
       "      <td>0.693259</td>\n",
       "      <td>0</td>\n",
       "    </tr>\n",
       "    <tr>\n",
       "      <th>3</th>\n",
       "      <td>13176</td>\n",
       "      <td>458.342987</td>\n",
       "      <td>193.337387</td>\n",
       "      <td>87.448395</td>\n",
       "      <td>0.891861</td>\n",
       "      <td>13368</td>\n",
       "      <td>0.640669</td>\n",
       "      <td>0</td>\n",
       "    </tr>\n",
       "    <tr>\n",
       "      <th>4</th>\n",
       "      <td>14688</td>\n",
       "      <td>507.166992</td>\n",
       "      <td>211.743378</td>\n",
       "      <td>89.312454</td>\n",
       "      <td>0.906691</td>\n",
       "      <td>15262</td>\n",
       "      <td>0.646024</td>\n",
       "      <td>0</td>\n",
       "    </tr>\n",
       "  </tbody>\n",
       "</table>\n",
       "</div>"
      ],
      "text/plain": [
       "    Area   Perimeter  Major_Axis_Length  Minor_Axis_Length  Eccentricity  \\\n",
       "0  15231  525.578979         229.749878          85.093788      0.928882   \n",
       "1  14656  494.311005         206.020065          91.730972      0.895405   \n",
       "2  14634  501.122009         214.106781          87.768288      0.912118   \n",
       "3  13176  458.342987         193.337387          87.448395      0.891861   \n",
       "4  14688  507.166992         211.743378          89.312454      0.906691   \n",
       "\n",
       "   Convex_Area    Extent  Class  \n",
       "0        15617  0.572896      0  \n",
       "1        15072  0.615436      0  \n",
       "2        14954  0.693259      0  \n",
       "3        13368  0.640669      0  \n",
       "4        15262  0.646024      0  "
      ]
     },
     "execution_count": 16,
     "metadata": {},
     "output_type": "execute_result"
    }
   ],
   "source": [
    "# concat df_categorical with original df\n",
    "df = df.drop(df_categorical.columns, axis=1)\n",
    "df = pd.concat([df, df_categorical], axis=1)\n",
    "df.head()"
   ]
  },
  {
   "cell_type": "markdown",
   "metadata": {},
   "source": [
    "## Data standardization\n",
    "Data standardization is another important technique in data preprocessing. The goal of data standardization is to transform the numeric variables so that each variable has zero mean and unit variance."
   ]
  },
  {
   "cell_type": "code",
   "execution_count": 41,
   "metadata": {},
   "outputs": [],
   "source": [
    "from sklearn import preprocessing\n",
    "df_scaled = preprocessing.scale(df)"
   ]
  },
  {
   "cell_type": "markdown",
   "metadata": {},
   "source": [
    "#### Since the object returned by the preprocessing.scale() function is no longer a pandas DataFrame, let's convert it back:"
   ]
  },
  {
   "cell_type": "code",
   "execution_count": 43,
   "metadata": {},
   "outputs": [
    {
     "data": {
      "text/html": [
       "<div>\n",
       "<style scoped>\n",
       "    .dataframe tbody tr th:only-of-type {\n",
       "        vertical-align: middle;\n",
       "    }\n",
       "\n",
       "    .dataframe tbody tr th {\n",
       "        vertical-align: top;\n",
       "    }\n",
       "\n",
       "    .dataframe thead th {\n",
       "        text-align: right;\n",
       "    }\n",
       "</style>\n",
       "<table border=\"1\" class=\"dataframe\">\n",
       "  <thead>\n",
       "    <tr style=\"text-align: right;\">\n",
       "      <th></th>\n",
       "      <th>Area</th>\n",
       "      <th>Perimeter</th>\n",
       "      <th>Major_Axis_Length</th>\n",
       "      <th>Minor_Axis_Length</th>\n",
       "      <th>Eccentricity</th>\n",
       "      <th>Convex_Area</th>\n",
       "      <th>Extent</th>\n",
       "      <th>Class</th>\n",
       "    </tr>\n",
       "  </thead>\n",
       "  <tbody>\n",
       "    <tr>\n",
       "      <th>0</th>\n",
       "      <td>1.479830</td>\n",
       "      <td>2.004354</td>\n",
       "      <td>2.348547</td>\n",
       "      <td>-0.212943</td>\n",
       "      <td>2.018337</td>\n",
       "      <td>1.499659</td>\n",
       "      <td>-1.152921</td>\n",
       "      <td>-1.15647</td>\n",
       "    </tr>\n",
       "    <tr>\n",
       "      <th>1</th>\n",
       "      <td>1.147870</td>\n",
       "      <td>1.125853</td>\n",
       "      <td>0.988390</td>\n",
       "      <td>0.945568</td>\n",
       "      <td>0.410018</td>\n",
       "      <td>1.192918</td>\n",
       "      <td>-0.602079</td>\n",
       "      <td>-1.15647</td>\n",
       "    </tr>\n",
       "    <tr>\n",
       "      <th>2</th>\n",
       "      <td>1.135169</td>\n",
       "      <td>1.317214</td>\n",
       "      <td>1.451908</td>\n",
       "      <td>0.253887</td>\n",
       "      <td>1.212956</td>\n",
       "      <td>1.126504</td>\n",
       "      <td>0.405611</td>\n",
       "      <td>-1.15647</td>\n",
       "    </tr>\n",
       "    <tr>\n",
       "      <th>3</th>\n",
       "      <td>0.293436</td>\n",
       "      <td>0.115300</td>\n",
       "      <td>0.261439</td>\n",
       "      <td>0.198051</td>\n",
       "      <td>0.239751</td>\n",
       "      <td>0.233857</td>\n",
       "      <td>-0.275351</td>\n",
       "      <td>-1.15647</td>\n",
       "    </tr>\n",
       "    <tr>\n",
       "      <th>4</th>\n",
       "      <td>1.166345</td>\n",
       "      <td>1.487053</td>\n",
       "      <td>1.316442</td>\n",
       "      <td>0.523419</td>\n",
       "      <td>0.952221</td>\n",
       "      <td>1.299855</td>\n",
       "      <td>-0.206013</td>\n",
       "      <td>-1.15647</td>\n",
       "    </tr>\n",
       "  </tbody>\n",
       "</table>\n",
       "</div>"
      ],
      "text/plain": [
       "       Area  Perimeter  Major_Axis_Length  Minor_Axis_Length  Eccentricity  \\\n",
       "0  1.479830   2.004354           2.348547          -0.212943      2.018337   \n",
       "1  1.147870   1.125853           0.988390           0.945568      0.410018   \n",
       "2  1.135169   1.317214           1.451908           0.253887      1.212956   \n",
       "3  0.293436   0.115300           0.261439           0.198051      0.239751   \n",
       "4  1.166345   1.487053           1.316442           0.523419      0.952221   \n",
       "\n",
       "   Convex_Area    Extent    Class  \n",
       "0     1.499659 -1.152921 -1.15647  \n",
       "1     1.192918 -0.602079 -1.15647  \n",
       "2     1.126504  0.405611 -1.15647  \n",
       "3     0.233857 -0.275351 -1.15647  \n",
       "4     1.299855 -0.206013 -1.15647  "
      ]
     },
     "execution_count": 43,
     "metadata": {},
     "output_type": "execute_result"
    }
   ],
   "source": [
    "df_scaled = pd.DataFrame(df_scaled, columns = df.columns)\n",
    "\n",
    "#df_scaled.head()"
   ]
  },
  {
   "cell_type": "code",
   "execution_count": 45,
   "metadata": {},
   "outputs": [
    {
     "data": {
      "text/html": [
       "<div>\n",
       "<style scoped>\n",
       "    .dataframe tbody tr th:only-of-type {\n",
       "        vertical-align: middle;\n",
       "    }\n",
       "\n",
       "    .dataframe tbody tr th {\n",
       "        vertical-align: top;\n",
       "    }\n",
       "\n",
       "    .dataframe thead th {\n",
       "        text-align: right;\n",
       "    }\n",
       "</style>\n",
       "<table border=\"1\" class=\"dataframe\">\n",
       "  <thead>\n",
       "    <tr style=\"text-align: right;\">\n",
       "      <th></th>\n",
       "      <th>Area</th>\n",
       "      <th>Perimeter</th>\n",
       "      <th>Major_Axis_Length</th>\n",
       "      <th>Minor_Axis_Length</th>\n",
       "      <th>Eccentricity</th>\n",
       "      <th>Convex_Area</th>\n",
       "      <th>Extent</th>\n",
       "      <th>Class</th>\n",
       "    </tr>\n",
       "  </thead>\n",
       "  <tbody>\n",
       "    <tr>\n",
       "      <th>0</th>\n",
       "      <td>1.479830</td>\n",
       "      <td>2.004354</td>\n",
       "      <td>2.348547</td>\n",
       "      <td>-0.212943</td>\n",
       "      <td>2.018337</td>\n",
       "      <td>1.499659</td>\n",
       "      <td>-1.152921</td>\n",
       "      <td>0</td>\n",
       "    </tr>\n",
       "    <tr>\n",
       "      <th>1</th>\n",
       "      <td>1.147870</td>\n",
       "      <td>1.125853</td>\n",
       "      <td>0.988390</td>\n",
       "      <td>0.945568</td>\n",
       "      <td>0.410018</td>\n",
       "      <td>1.192918</td>\n",
       "      <td>-0.602079</td>\n",
       "      <td>0</td>\n",
       "    </tr>\n",
       "    <tr>\n",
       "      <th>2</th>\n",
       "      <td>1.135169</td>\n",
       "      <td>1.317214</td>\n",
       "      <td>1.451908</td>\n",
       "      <td>0.253887</td>\n",
       "      <td>1.212956</td>\n",
       "      <td>1.126504</td>\n",
       "      <td>0.405611</td>\n",
       "      <td>0</td>\n",
       "    </tr>\n",
       "    <tr>\n",
       "      <th>3</th>\n",
       "      <td>0.293436</td>\n",
       "      <td>0.115300</td>\n",
       "      <td>0.261439</td>\n",
       "      <td>0.198051</td>\n",
       "      <td>0.239751</td>\n",
       "      <td>0.233857</td>\n",
       "      <td>-0.275351</td>\n",
       "      <td>0</td>\n",
       "    </tr>\n",
       "    <tr>\n",
       "      <th>4</th>\n",
       "      <td>1.166345</td>\n",
       "      <td>1.487053</td>\n",
       "      <td>1.316442</td>\n",
       "      <td>0.523419</td>\n",
       "      <td>0.952221</td>\n",
       "      <td>1.299855</td>\n",
       "      <td>-0.206013</td>\n",
       "      <td>0</td>\n",
       "    </tr>\n",
       "  </tbody>\n",
       "</table>\n",
       "</div>"
      ],
      "text/plain": [
       "       Area  Perimeter  Major_Axis_Length  Minor_Axis_Length  Eccentricity  \\\n",
       "0  1.479830   2.004354           2.348547          -0.212943      2.018337   \n",
       "1  1.147870   1.125853           0.988390           0.945568      0.410018   \n",
       "2  1.135169   1.317214           1.451908           0.253887      1.212956   \n",
       "3  0.293436   0.115300           0.261439           0.198051      0.239751   \n",
       "4  1.166345   1.487053           1.316442           0.523419      0.952221   \n",
       "\n",
       "   Convex_Area    Extent  Class  \n",
       "0     1.499659 -1.152921      0  \n",
       "1     1.192918 -0.602079      0  \n",
       "2     1.126504  0.405611      0  \n",
       "3     0.233857 -0.275351      0  \n",
       "4     1.299855 -0.206013      0  "
      ]
     },
     "execution_count": 45,
     "metadata": {},
     "output_type": "execute_result"
    }
   ],
   "source": [
    "df_scaled['Class'] = df['Class']\n",
    "df = df_scaled\n",
    "\n",
    "df.head()"
   ]
  },
  {
   "cell_type": "markdown",
   "metadata": {},
   "source": [
    "## Splitting the data into training, testing, and validation sets                                                        \n",
    "The last step in data preprocessing is to split the data into training, testing, and validation sets:\n",
    "* Training set: The neural network will be trained on this subset of the data.\n",
    "* Validation set: This set of data allows us to perform hyperparameter tuning (that is, tuning the number of hidden layers) using an unbiased source of data.\n",
    "* Testing set: The final evaluation of the neural network will be based on this subset of the data."
   ]
  },
  {
   "cell_type": "markdown",
   "metadata": {},
   "source": [
    "### First, let's separate the dataset into X (input features) and y (target variable):"
   ]
  },
  {
   "cell_type": "code",
   "execution_count": 47,
   "metadata": {},
   "outputs": [
    {
     "data": {
      "text/html": [
       "<div>\n",
       "<style scoped>\n",
       "    .dataframe tbody tr th:only-of-type {\n",
       "        vertical-align: middle;\n",
       "    }\n",
       "\n",
       "    .dataframe tbody tr th {\n",
       "        vertical-align: top;\n",
       "    }\n",
       "\n",
       "    .dataframe thead th {\n",
       "        text-align: right;\n",
       "    }\n",
       "</style>\n",
       "<table border=\"1\" class=\"dataframe\">\n",
       "  <thead>\n",
       "    <tr style=\"text-align: right;\">\n",
       "      <th></th>\n",
       "      <th>Area</th>\n",
       "      <th>Perimeter</th>\n",
       "      <th>Major_Axis_Length</th>\n",
       "      <th>Minor_Axis_Length</th>\n",
       "      <th>Eccentricity</th>\n",
       "      <th>Convex_Area</th>\n",
       "      <th>Extent</th>\n",
       "    </tr>\n",
       "  </thead>\n",
       "  <tbody>\n",
       "    <tr>\n",
       "      <th>0</th>\n",
       "      <td>1.479830</td>\n",
       "      <td>2.004354</td>\n",
       "      <td>2.348547</td>\n",
       "      <td>-0.212943</td>\n",
       "      <td>2.018337</td>\n",
       "      <td>1.499659</td>\n",
       "      <td>-1.152921</td>\n",
       "    </tr>\n",
       "    <tr>\n",
       "      <th>1</th>\n",
       "      <td>1.147870</td>\n",
       "      <td>1.125853</td>\n",
       "      <td>0.988390</td>\n",
       "      <td>0.945568</td>\n",
       "      <td>0.410018</td>\n",
       "      <td>1.192918</td>\n",
       "      <td>-0.602079</td>\n",
       "    </tr>\n",
       "    <tr>\n",
       "      <th>2</th>\n",
       "      <td>1.135169</td>\n",
       "      <td>1.317214</td>\n",
       "      <td>1.451908</td>\n",
       "      <td>0.253887</td>\n",
       "      <td>1.212956</td>\n",
       "      <td>1.126504</td>\n",
       "      <td>0.405611</td>\n",
       "    </tr>\n",
       "    <tr>\n",
       "      <th>3</th>\n",
       "      <td>0.293436</td>\n",
       "      <td>0.115300</td>\n",
       "      <td>0.261439</td>\n",
       "      <td>0.198051</td>\n",
       "      <td>0.239751</td>\n",
       "      <td>0.233857</td>\n",
       "      <td>-0.275351</td>\n",
       "    </tr>\n",
       "    <tr>\n",
       "      <th>4</th>\n",
       "      <td>1.166345</td>\n",
       "      <td>1.487053</td>\n",
       "      <td>1.316442</td>\n",
       "      <td>0.523419</td>\n",
       "      <td>0.952221</td>\n",
       "      <td>1.299855</td>\n",
       "      <td>-0.206013</td>\n",
       "    </tr>\n",
       "    <tr>\n",
       "      <th>...</th>\n",
       "      <td>...</td>\n",
       "      <td>...</td>\n",
       "      <td>...</td>\n",
       "      <td>...</td>\n",
       "      <td>...</td>\n",
       "      <td>...</td>\n",
       "      <td>...</td>\n",
       "    </tr>\n",
       "    <tr>\n",
       "      <th>3805</th>\n",
       "      <td>-0.708215</td>\n",
       "      <td>-1.078353</td>\n",
       "      <td>-1.048323</td>\n",
       "      <td>-0.097251</td>\n",
       "      <td>-1.085282</td>\n",
       "      <td>-0.745465</td>\n",
       "      <td>0.247031</td>\n",
       "    </tr>\n",
       "    <tr>\n",
       "      <th>3806</th>\n",
       "      <td>-0.601988</td>\n",
       "      <td>-0.922926</td>\n",
       "      <td>-1.207208</td>\n",
       "      <td>0.549622</td>\n",
       "      <td>-1.970731</td>\n",
       "      <td>-0.590124</td>\n",
       "      <td>0.418815</td>\n",
       "    </tr>\n",
       "    <tr>\n",
       "      <th>3807</th>\n",
       "      <td>-0.133204</td>\n",
       "      <td>-0.329851</td>\n",
       "      <td>-0.298245</td>\n",
       "      <td>0.085220</td>\n",
       "      <td>-0.275099</td>\n",
       "      <td>-0.173068</td>\n",
       "      <td>-0.455731</td>\n",
       "    </tr>\n",
       "    <tr>\n",
       "      <th>3808</th>\n",
       "      <td>-1.608257</td>\n",
       "      <td>-1.740320</td>\n",
       "      <td>-1.580971</td>\n",
       "      <td>-1.414414</td>\n",
       "      <td>-0.598821</td>\n",
       "      <td>-1.607156</td>\n",
       "      <td>-0.037168</td>\n",
       "    </tr>\n",
       "    <tr>\n",
       "      <th>3809</th>\n",
       "      <td>-0.712256</td>\n",
       "      <td>-1.391566</td>\n",
       "      <td>-1.587546</td>\n",
       "      <td>0.794972</td>\n",
       "      <td>-2.939160</td>\n",
       "      <td>-0.766290</td>\n",
       "      <td>1.825947</td>\n",
       "    </tr>\n",
       "  </tbody>\n",
       "</table>\n",
       "<p>3810 rows × 7 columns</p>\n",
       "</div>"
      ],
      "text/plain": [
       "          Area  Perimeter  Major_Axis_Length  Minor_Axis_Length  Eccentricity  \\\n",
       "0     1.479830   2.004354           2.348547          -0.212943      2.018337   \n",
       "1     1.147870   1.125853           0.988390           0.945568      0.410018   \n",
       "2     1.135169   1.317214           1.451908           0.253887      1.212956   \n",
       "3     0.293436   0.115300           0.261439           0.198051      0.239751   \n",
       "4     1.166345   1.487053           1.316442           0.523419      0.952221   \n",
       "...        ...        ...                ...                ...           ...   \n",
       "3805 -0.708215  -1.078353          -1.048323          -0.097251     -1.085282   \n",
       "3806 -0.601988  -0.922926          -1.207208           0.549622     -1.970731   \n",
       "3807 -0.133204  -0.329851          -0.298245           0.085220     -0.275099   \n",
       "3808 -1.608257  -1.740320          -1.580971          -1.414414     -0.598821   \n",
       "3809 -0.712256  -1.391566          -1.587546           0.794972     -2.939160   \n",
       "\n",
       "      Convex_Area    Extent  \n",
       "0        1.499659 -1.152921  \n",
       "1        1.192918 -0.602079  \n",
       "2        1.126504  0.405611  \n",
       "3        0.233857 -0.275351  \n",
       "4        1.299855 -0.206013  \n",
       "...           ...       ...  \n",
       "3805    -0.745465  0.247031  \n",
       "3806    -0.590124  0.418815  \n",
       "3807    -0.173068 -0.455731  \n",
       "3808    -1.607156 -0.037168  \n",
       "3809    -0.766290  1.825947  \n",
       "\n",
       "[3810 rows x 7 columns]"
      ]
     },
     "execution_count": 47,
     "metadata": {},
     "output_type": "execute_result"
    }
   ],
   "source": [
    "from sklearn.model_selection import train_test_split\n",
    "X = df.loc[:, df.columns != 'Class']\n",
    "y = df.loc[:, 'Class']\n",
    "\n",
    "# Display the scaled data for independent columms\n",
    "X"
   ]
  },
  {
   "cell_type": "markdown",
   "metadata": {},
   "source": [
    "#### Then, make the first split to split the data into the training set (80%) and the testing set (20%) according to the preceding diagram:"
   ]
  },
  {
   "cell_type": "code",
   "execution_count": 48,
   "metadata": {},
   "outputs": [],
   "source": [
    "# split the data into training and testing\n",
    "X_train, X_test, y_train, y_test = train_test_split(X, y, test_size = 0.2, random_state = 1)"
   ]
  },
  {
   "cell_type": "code",
   "execution_count": 49,
   "metadata": {},
   "outputs": [
    {
     "data": {
      "text/plain": [
       "((3048, 7), (762, 7), (3048,), (762,))"
      ]
     },
     "execution_count": 49,
     "metadata": {},
     "output_type": "execute_result"
    }
   ],
   "source": [
    "X_train.shape, X_test.shape, y_train.shape, y_test.shape"
   ]
  },
  {
   "cell_type": "markdown",
   "metadata": {},
   "source": [
    "# Model building"
   ]
  },
  {
   "cell_type": "code",
   "execution_count": 50,
   "metadata": {},
   "outputs": [],
   "source": [
    "# Fixing a random seed ensures reproducible results\n",
    "import numpy as np\n",
    "import random\n",
    "import tensorflow\n",
    "tensorflow.random.set_seed(9)\n",
    "np.random.seed(1)\n",
    "random.seed(1)"
   ]
  },
  {
   "cell_type": "code",
   "execution_count": 55,
   "metadata": {},
   "outputs": [],
   "source": [
    "from keras.models import Sequential\n",
    "model = Sequential()"
   ]
  },
  {
   "cell_type": "code",
   "execution_count": null,
   "metadata": {},
   "outputs": [],
   "source": [
    "# Let's add the first hidden layer: *** Run After Class ***\n",
    "from keras.layers import Dense\n",
    "# Add the first hidden layer\n",
    "model.add(Dense(64, activation = 'relu', input_dim = 7))"
   ]
  },
  {
   "cell_type": "code",
   "execution_count": 56,
   "metadata": {},
   "outputs": [],
   "source": [
    "# Let's add the first hidden layer:\n",
    "from keras.layers import Dense\n",
    "# Add the first hidden layer\n",
    "#model.add(Dense(32, activation = 'relu', input_dim = 7))\n",
    "model.add(Dense(32, activation = 'relu'))"
   ]
  },
  {
   "cell_type": "code",
   "execution_count": 57,
   "metadata": {},
   "outputs": [],
   "source": [
    "# Let's add our second hidden layer:\n",
    "# Add the second hidden layer\n",
    "model.add(Dense(16, activation = 'relu'))"
   ]
  },
  {
   "cell_type": "code",
   "execution_count": 58,
   "metadata": {},
   "outputs": [],
   "source": [
    "# Now we add the output layer as follows:\n",
    "# Add the output layer\n",
    "model.add(Dense(1, activation = 'sigmoid'))"
   ]
  },
  {
   "cell_type": "markdown",
   "metadata": {},
   "source": [
    "# Model compilation"
   ]
  },
  {
   "cell_type": "code",
   "execution_count": 59,
   "metadata": {},
   "outputs": [],
   "source": [
    "# Then, we can run the compile() function as follows:\n",
    "    # Compile the model\n",
    "model.compile(optimizer = 'adam',\n",
    "              loss = 'binary_crossentropy',\n",
    "              metrics = ['accuracy'])"
   ]
  },
  {
   "cell_type": "markdown",
   "metadata": {},
   "source": [
    "# Model training"
   ]
  },
  {
   "cell_type": "code",
   "execution_count": 29,
   "metadata": {
    "scrolled": true
   },
   "outputs": [
    {
     "name": "stdout",
     "output_type": "stream",
     "text": [
      "Epoch 1/200\n",
      "96/96 [==============================] - 4s 9ms/step - loss: 0.3737 - accuracy: 0.8927\n",
      "Epoch 2/200\n",
      "96/96 [==============================] - 1s 13ms/step - loss: 0.1899 - accuracy: 0.9275\n",
      "Epoch 3/200\n",
      "96/96 [==============================] - 1s 14ms/step - loss: 0.1810 - accuracy: 0.9301\n",
      "Epoch 4/200\n",
      "96/96 [==============================] - 1s 11ms/step - loss: 0.1796 - accuracy: 0.9291\n",
      "Epoch 5/200\n",
      "96/96 [==============================] - 1s 13ms/step - loss: 0.1787 - accuracy: 0.9298\n",
      "Epoch 6/200\n",
      "96/96 [==============================] - 1s 9ms/step - loss: 0.1783 - accuracy: 0.9298\n",
      "Epoch 7/200\n",
      "96/96 [==============================] - 1s 7ms/step - loss: 0.1784 - accuracy: 0.9304\n",
      "Epoch 8/200\n",
      "96/96 [==============================] - 1s 8ms/step - loss: 0.1777 - accuracy: 0.9308\n",
      "Epoch 9/200\n",
      "96/96 [==============================] - 1s 9ms/step - loss: 0.1776 - accuracy: 0.9298\n",
      "Epoch 10/200\n",
      "96/96 [==============================] - 1s 8ms/step - loss: 0.1774 - accuracy: 0.9295\n",
      "Epoch 11/200\n",
      "96/96 [==============================] - 1s 9ms/step - loss: 0.1767 - accuracy: 0.9308\n",
      "Epoch 12/200\n",
      "96/96 [==============================] - 1s 11ms/step - loss: 0.1770 - accuracy: 0.9301\n",
      "Epoch 13/200\n",
      "96/96 [==============================] - 1s 10ms/step - loss: 0.1772 - accuracy: 0.9311\n",
      "Epoch 14/200\n",
      "96/96 [==============================] - 1s 11ms/step - loss: 0.1766 - accuracy: 0.9304\n",
      "Epoch 15/200\n",
      "96/96 [==============================] - 1s 10ms/step - loss: 0.1761 - accuracy: 0.9321\n",
      "Epoch 16/200\n",
      "96/96 [==============================] - 1s 8ms/step - loss: 0.1760 - accuracy: 0.9321\n",
      "Epoch 17/200\n",
      "96/96 [==============================] - 1s 8ms/step - loss: 0.1763 - accuracy: 0.9314\n",
      "Epoch 18/200\n",
      "96/96 [==============================] - 1s 10ms/step - loss: 0.1763 - accuracy: 0.9304\n",
      "Epoch 19/200\n",
      "96/96 [==============================] - 1s 13ms/step - loss: 0.1764 - accuracy: 0.9311\n",
      "Epoch 20/200\n",
      "96/96 [==============================] - 1s 14ms/step - loss: 0.1756 - accuracy: 0.9314\n",
      "Epoch 21/200\n",
      "96/96 [==============================] - 2s 17ms/step - loss: 0.1756 - accuracy: 0.9314\n",
      "Epoch 22/200\n",
      "96/96 [==============================] - 1s 9ms/step - loss: 0.1755 - accuracy: 0.9301\n",
      "Epoch 23/200\n",
      "96/96 [==============================] - 1s 10ms/step - loss: 0.1755 - accuracy: 0.9314\n",
      "Epoch 24/200\n",
      "96/96 [==============================] - 2s 19ms/step - loss: 0.1752 - accuracy: 0.9327\n",
      "Epoch 25/200\n",
      "96/96 [==============================] - 1s 10ms/step - loss: 0.1754 - accuracy: 0.9327\n",
      "Epoch 26/200\n",
      "96/96 [==============================] - 1s 6ms/step - loss: 0.1752 - accuracy: 0.9341\n",
      "Epoch 27/200\n",
      "96/96 [==============================] - 1s 6ms/step - loss: 0.1753 - accuracy: 0.9324\n",
      "Epoch 28/200\n",
      "96/96 [==============================] - 1s 6ms/step - loss: 0.1759 - accuracy: 0.9308\n",
      "Epoch 29/200\n",
      "96/96 [==============================] - 1s 6ms/step - loss: 0.1750 - accuracy: 0.9301\n",
      "Epoch 30/200\n",
      "96/96 [==============================] - 1s 6ms/step - loss: 0.1748 - accuracy: 0.9354\n",
      "Epoch 31/200\n",
      "96/96 [==============================] - 1s 6ms/step - loss: 0.1749 - accuracy: 0.9324\n",
      "Epoch 32/200\n",
      "96/96 [==============================] - 1s 7ms/step - loss: 0.1751 - accuracy: 0.9308\n",
      "Epoch 33/200\n",
      "96/96 [==============================] - 1s 6ms/step - loss: 0.1745 - accuracy: 0.9321\n",
      "Epoch 34/200\n",
      "96/96 [==============================] - 1s 6ms/step - loss: 0.1748 - accuracy: 0.9327\n",
      "Epoch 35/200\n",
      "96/96 [==============================] - 1s 6ms/step - loss: 0.1750 - accuracy: 0.9331\n",
      "Epoch 36/200\n",
      "96/96 [==============================] - 1s 7ms/step - loss: 0.1749 - accuracy: 0.9341\n",
      "Epoch 37/200\n",
      "96/96 [==============================] - 1s 13ms/step - loss: 0.1742 - accuracy: 0.9321\n",
      "Epoch 38/200\n",
      "96/96 [==============================] - 1s 6ms/step - loss: 0.1743 - accuracy: 0.9337\n",
      "Epoch 39/200\n",
      "96/96 [==============================] - 1s 8ms/step - loss: 0.1742 - accuracy: 0.9334\n",
      "Epoch 40/200\n",
      "96/96 [==============================] - 1s 7ms/step - loss: 0.1739 - accuracy: 0.9324\n",
      "Epoch 41/200\n",
      "96/96 [==============================] - 1s 13ms/step - loss: 0.1739 - accuracy: 0.9341\n",
      "Epoch 42/200\n",
      "96/96 [==============================] - 1s 16ms/step - loss: 0.1742 - accuracy: 0.9344\n",
      "Epoch 43/200\n",
      "96/96 [==============================] - 1s 15ms/step - loss: 0.1741 - accuracy: 0.9331\n",
      "Epoch 44/200\n",
      "96/96 [==============================] - 1s 12ms/step - loss: 0.1734 - accuracy: 0.9344\n",
      "Epoch 45/200\n",
      "96/96 [==============================] - 1s 15ms/step - loss: 0.1740 - accuracy: 0.9321\n",
      "Epoch 46/200\n",
      "96/96 [==============================] - 1s 8ms/step - loss: 0.1735 - accuracy: 0.9341\n",
      "Epoch 47/200\n",
      "96/96 [==============================] - 1s 7ms/step - loss: 0.1735 - accuracy: 0.9334\n",
      "Epoch 48/200\n",
      "96/96 [==============================] - 1s 7ms/step - loss: 0.1738 - accuracy: 0.9327\n",
      "Epoch 49/200\n",
      "96/96 [==============================] - 1s 7ms/step - loss: 0.1734 - accuracy: 0.9347\n",
      "Epoch 50/200\n",
      "96/96 [==============================] - 1s 8ms/step - loss: 0.1737 - accuracy: 0.9341\n",
      "Epoch 51/200\n",
      "96/96 [==============================] - 1s 7ms/step - loss: 0.1732 - accuracy: 0.9341\n",
      "Epoch 52/200\n",
      "96/96 [==============================] - 1s 8ms/step - loss: 0.1728 - accuracy: 0.9344\n",
      "Epoch 53/200\n",
      "96/96 [==============================] - 1s 7ms/step - loss: 0.1729 - accuracy: 0.9341\n",
      "Epoch 54/200\n",
      "96/96 [==============================] - 1s 7ms/step - loss: 0.1732 - accuracy: 0.9327\n",
      "Epoch 55/200\n",
      "96/96 [==============================] - 1s 12ms/step - loss: 0.1738 - accuracy: 0.9331\n",
      "Epoch 56/200\n",
      "96/96 [==============================] - 1s 8ms/step - loss: 0.1724 - accuracy: 0.9324\n",
      "Epoch 57/200\n",
      "96/96 [==============================] - 1s 10ms/step - loss: 0.1731 - accuracy: 0.9331\n",
      "Epoch 58/200\n",
      "96/96 [==============================] - 1s 8ms/step - loss: 0.1731 - accuracy: 0.9331\n",
      "Epoch 59/200\n",
      "96/96 [==============================] - 1s 9ms/step - loss: 0.1727 - accuracy: 0.9344\n",
      "Epoch 60/200\n",
      "96/96 [==============================] - 1s 11ms/step - loss: 0.1727 - accuracy: 0.9344\n",
      "Epoch 61/200\n",
      "96/96 [==============================] - 1s 13ms/step - loss: 0.1725 - accuracy: 0.9341\n",
      "Epoch 62/200\n",
      "96/96 [==============================] - 1s 11ms/step - loss: 0.1727 - accuracy: 0.9341\n",
      "Epoch 63/200\n",
      "96/96 [==============================] - 1s 10ms/step - loss: 0.1723 - accuracy: 0.9337\n",
      "Epoch 64/200\n",
      "96/96 [==============================] - 1s 8ms/step - loss: 0.1725 - accuracy: 0.9341\n",
      "Epoch 65/200\n",
      "96/96 [==============================] - 1s 9ms/step - loss: 0.1727 - accuracy: 0.9341\n",
      "Epoch 66/200\n",
      "96/96 [==============================] - 1s 8ms/step - loss: 0.1723 - accuracy: 0.9344\n",
      "Epoch 67/200\n",
      "96/96 [==============================] - 1s 9ms/step - loss: 0.1721 - accuracy: 0.9334\n",
      "Epoch 68/200\n",
      "96/96 [==============================] - 1s 9ms/step - loss: 0.1723 - accuracy: 0.9337\n",
      "Epoch 69/200\n",
      "96/96 [==============================] - 1s 8ms/step - loss: 0.1723 - accuracy: 0.9334\n",
      "Epoch 70/200\n",
      "96/96 [==============================] - 1s 9ms/step - loss: 0.1716 - accuracy: 0.9347\n",
      "Epoch 71/200\n",
      "96/96 [==============================] - 1s 8ms/step - loss: 0.1718 - accuracy: 0.9337\n",
      "Epoch 72/200\n",
      "96/96 [==============================] - 1s 8ms/step - loss: 0.1715 - accuracy: 0.9337\n",
      "Epoch 73/200\n",
      "96/96 [==============================] - 1s 9ms/step - loss: 0.1726 - accuracy: 0.9324\n",
      "Epoch 74/200\n",
      "96/96 [==============================] - 1s 8ms/step - loss: 0.1724 - accuracy: 0.9341\n",
      "Epoch 75/200\n",
      "96/96 [==============================] - 1s 8ms/step - loss: 0.1715 - accuracy: 0.9324\n",
      "Epoch 76/200\n",
      "96/96 [==============================] - 1s 11ms/step - loss: 0.1721 - accuracy: 0.9331\n",
      "Epoch 77/200\n",
      "96/96 [==============================] - 1s 12ms/step - loss: 0.1724 - accuracy: 0.9341\n",
      "Epoch 78/200\n",
      "96/96 [==============================] - 1s 9ms/step - loss: 0.1721 - accuracy: 0.9337\n",
      "Epoch 79/200\n",
      "96/96 [==============================] - 1s 9ms/step - loss: 0.1722 - accuracy: 0.9327\n",
      "Epoch 80/200\n",
      "96/96 [==============================] - 1s 12ms/step - loss: 0.1714 - accuracy: 0.9344\n",
      "Epoch 81/200\n",
      "96/96 [==============================] - 1s 13ms/step - loss: 0.1713 - accuracy: 0.9337\n",
      "Epoch 82/200\n"
     ]
    },
    {
     "name": "stdout",
     "output_type": "stream",
     "text": [
      "96/96 [==============================] - 1s 9ms/step - loss: 0.1715 - accuracy: 0.9337\n",
      "Epoch 83/200\n",
      "96/96 [==============================] - 1s 9ms/step - loss: 0.1718 - accuracy: 0.9344\n",
      "Epoch 84/200\n",
      "96/96 [==============================] - 1s 10ms/step - loss: 0.1713 - accuracy: 0.9331\n",
      "Epoch 85/200\n",
      "96/96 [==============================] - 1s 9ms/step - loss: 0.1709 - accuracy: 0.9324\n",
      "Epoch 86/200\n",
      "96/96 [==============================] - 1s 10ms/step - loss: 0.1714 - accuracy: 0.9350\n",
      "Epoch 87/200\n",
      "96/96 [==============================] - 1s 10ms/step - loss: 0.1710 - accuracy: 0.9350\n",
      "Epoch 88/200\n",
      "96/96 [==============================] - 1s 6ms/step - loss: 0.1713 - accuracy: 0.9344\n",
      "Epoch 89/200\n",
      "96/96 [==============================] - 1s 7ms/step - loss: 0.1709 - accuracy: 0.9337\n",
      "Epoch 90/200\n",
      "96/96 [==============================] - 1s 10ms/step - loss: 0.1710 - accuracy: 0.9337\n",
      "Epoch 91/200\n",
      "96/96 [==============================] - 1s 8ms/step - loss: 0.1714 - accuracy: 0.9334\n",
      "Epoch 92/200\n",
      "96/96 [==============================] - 1s 7ms/step - loss: 0.1714 - accuracy: 0.9331\n",
      "Epoch 93/200\n",
      "96/96 [==============================] - 1s 8ms/step - loss: 0.1707 - accuracy: 0.9324\n",
      "Epoch 94/200\n",
      "96/96 [==============================] - 1s 8ms/step - loss: 0.1711 - accuracy: 0.9337\n",
      "Epoch 95/200\n",
      "96/96 [==============================] - 1s 8ms/step - loss: 0.1704 - accuracy: 0.9331\n",
      "Epoch 96/200\n",
      "96/96 [==============================] - 1s 7ms/step - loss: 0.1706 - accuracy: 0.9350\n",
      "Epoch 97/200\n",
      "96/96 [==============================] - 1s 8ms/step - loss: 0.1703 - accuracy: 0.9347\n",
      "Epoch 98/200\n",
      "96/96 [==============================] - 1s 7ms/step - loss: 0.1702 - accuracy: 0.9341\n",
      "Epoch 99/200\n",
      "96/96 [==============================] - 1s 6ms/step - loss: 0.1700 - accuracy: 0.9344\n",
      "Epoch 100/200\n",
      "96/96 [==============================] - 1s 6ms/step - loss: 0.1705 - accuracy: 0.9360\n",
      "Epoch 101/200\n",
      "96/96 [==============================] - 1s 7ms/step - loss: 0.1696 - accuracy: 0.9347\n",
      "Epoch 102/200\n",
      "96/96 [==============================] - 1s 10ms/step - loss: 0.1697 - accuracy: 0.9331\n",
      "Epoch 103/200\n",
      "96/96 [==============================] - 1s 7ms/step - loss: 0.1707 - accuracy: 0.9337\n",
      "Epoch 104/200\n",
      "96/96 [==============================] - 1s 7ms/step - loss: 0.1701 - accuracy: 0.9350\n",
      "Epoch 105/200\n",
      "96/96 [==============================] - 1s 11ms/step - loss: 0.1696 - accuracy: 0.9337\n",
      "Epoch 106/200\n",
      "96/96 [==============================] - 1s 11ms/step - loss: 0.1699 - accuracy: 0.9360\n",
      "Epoch 107/200\n",
      "96/96 [==============================] - 1s 9ms/step - loss: 0.1696 - accuracy: 0.9331\n",
      "Epoch 108/200\n",
      "96/96 [==============================] - 1s 11ms/step - loss: 0.1685 - accuracy: 0.9344\n",
      "Epoch 109/200\n",
      "96/96 [==============================] - 1s 9ms/step - loss: 0.1697 - accuracy: 0.9344\n",
      "Epoch 110/200\n",
      "96/96 [==============================] - 1s 6ms/step - loss: 0.1692 - accuracy: 0.9347\n",
      "Epoch 111/200\n",
      "96/96 [==============================] - 1s 6ms/step - loss: 0.1690 - accuracy: 0.9344\n",
      "Epoch 112/200\n",
      "96/96 [==============================] - 1s 7ms/step - loss: 0.1694 - accuracy: 0.9354\n",
      "Epoch 113/200\n",
      "96/96 [==============================] - 1s 13ms/step - loss: 0.1693 - accuracy: 0.9344\n",
      "Epoch 114/200\n",
      "96/96 [==============================] - 1s 8ms/step - loss: 0.1693 - accuracy: 0.9337\n",
      "Epoch 115/200\n",
      "96/96 [==============================] - 1s 6ms/step - loss: 0.1688 - accuracy: 0.9357\n",
      "Epoch 116/200\n",
      "96/96 [==============================] - 0s 5ms/step - loss: 0.1692 - accuracy: 0.9331\n",
      "Epoch 117/200\n",
      "96/96 [==============================] - 1s 7ms/step - loss: 0.1687 - accuracy: 0.9318\n",
      "Epoch 118/200\n",
      "96/96 [==============================] - 1s 6ms/step - loss: 0.1691 - accuracy: 0.9344\n",
      "Epoch 119/200\n",
      "96/96 [==============================] - 1s 7ms/step - loss: 0.1682 - accuracy: 0.9341\n",
      "Epoch 120/200\n",
      "96/96 [==============================] - 1s 7ms/step - loss: 0.1683 - accuracy: 0.9344\n",
      "Epoch 121/200\n",
      "96/96 [==============================] - 1s 6ms/step - loss: 0.1682 - accuracy: 0.9337\n",
      "Epoch 122/200\n",
      "96/96 [==============================] - 1s 7ms/step - loss: 0.1683 - accuracy: 0.9347\n",
      "Epoch 123/200\n",
      "96/96 [==============================] - 1s 7ms/step - loss: 0.1697 - accuracy: 0.9347\n",
      "Epoch 124/200\n",
      "96/96 [==============================] - 1s 7ms/step - loss: 0.1673 - accuracy: 0.9350\n",
      "Epoch 125/200\n",
      "96/96 [==============================] - 1s 6ms/step - loss: 0.1681 - accuracy: 0.9337\n",
      "Epoch 126/200\n",
      "96/96 [==============================] - 1s 6ms/step - loss: 0.1679 - accuracy: 0.9354\n",
      "Epoch 127/200\n",
      "96/96 [==============================] - 1s 6ms/step - loss: 0.1680 - accuracy: 0.9347\n",
      "Epoch 128/200\n",
      "96/96 [==============================] - 1s 10ms/step - loss: 0.1689 - accuracy: 0.9347\n",
      "Epoch 129/200\n",
      "96/96 [==============================] - 1s 13ms/step - loss: 0.1678 - accuracy: 0.9337\n",
      "Epoch 130/200\n",
      "96/96 [==============================] - 1s 9ms/step - loss: 0.1686 - accuracy: 0.9364\n",
      "Epoch 131/200\n",
      "96/96 [==============================] - 1s 6ms/step - loss: 0.1678 - accuracy: 0.9334\n",
      "Epoch 132/200\n",
      "96/96 [==============================] - 1s 6ms/step - loss: 0.1675 - accuracy: 0.9341\n",
      "Epoch 133/200\n",
      "96/96 [==============================] - 1s 8ms/step - loss: 0.1675 - accuracy: 0.9347\n",
      "Epoch 134/200\n",
      "96/96 [==============================] - 1s 6ms/step - loss: 0.1682 - accuracy: 0.9334\n",
      "Epoch 135/200\n",
      "96/96 [==============================] - 1s 6ms/step - loss: 0.1675 - accuracy: 0.9334\n",
      "Epoch 136/200\n",
      "96/96 [==============================] - 1s 7ms/step - loss: 0.1667 - accuracy: 0.9350\n",
      "Epoch 137/200\n",
      "96/96 [==============================] - 1s 6ms/step - loss: 0.1671 - accuracy: 0.9334\n",
      "Epoch 138/200\n",
      "96/96 [==============================] - 1s 6ms/step - loss: 0.1677 - accuracy: 0.9354\n",
      "Epoch 139/200\n",
      "96/96 [==============================] - 1s 7ms/step - loss: 0.1666 - accuracy: 0.9350\n",
      "Epoch 140/200\n",
      "96/96 [==============================] - 1s 6ms/step - loss: 0.1663 - accuracy: 0.9337\n",
      "Epoch 141/200\n",
      "96/96 [==============================] - 1s 8ms/step - loss: 0.1674 - accuracy: 0.9347\n",
      "Epoch 142/200\n",
      "96/96 [==============================] - 1s 8ms/step - loss: 0.1673 - accuracy: 0.9350\n",
      "Epoch 143/200\n",
      "96/96 [==============================] - 1s 7ms/step - loss: 0.1670 - accuracy: 0.9344\n",
      "Epoch 144/200\n",
      "96/96 [==============================] - 1s 6ms/step - loss: 0.1664 - accuracy: 0.9337\n",
      "Epoch 145/200\n",
      "96/96 [==============================] - 1s 6ms/step - loss: 0.1661 - accuracy: 0.9350\n",
      "Epoch 146/200\n",
      "96/96 [==============================] - 1s 6ms/step - loss: 0.1664 - accuracy: 0.9354\n",
      "Epoch 147/200\n",
      "96/96 [==============================] - 1s 13ms/step - loss: 0.1664 - accuracy: 0.9337\n",
      "Epoch 148/200\n",
      "96/96 [==============================] - 1s 11ms/step - loss: 0.1672 - accuracy: 0.9341\n",
      "Epoch 149/200\n",
      "96/96 [==============================] - 1s 8ms/step - loss: 0.1658 - accuracy: 0.9347\n",
      "Epoch 150/200\n",
      "96/96 [==============================] - 1s 12ms/step - loss: 0.1660 - accuracy: 0.9347\n",
      "Epoch 151/200\n",
      "96/96 [==============================] - 1s 8ms/step - loss: 0.1664 - accuracy: 0.9354\n",
      "Epoch 152/200\n",
      "96/96 [==============================] - 1s 9ms/step - loss: 0.1670 - accuracy: 0.9350\n",
      "Epoch 153/200\n",
      "96/96 [==============================] - 1s 8ms/step - loss: 0.1657 - accuracy: 0.9347\n",
      "Epoch 154/200\n",
      "96/96 [==============================] - 1s 7ms/step - loss: 0.1661 - accuracy: 0.9331\n",
      "Epoch 155/200\n",
      "96/96 [==============================] - 1s 8ms/step - loss: 0.1661 - accuracy: 0.9341\n",
      "Epoch 156/200\n",
      "96/96 [==============================] - 1s 9ms/step - loss: 0.1658 - accuracy: 0.9344\n",
      "Epoch 157/200\n",
      "96/96 [==============================] - 1s 12ms/step - loss: 0.1655 - accuracy: 0.9344\n",
      "Epoch 158/200\n",
      "96/96 [==============================] - 1s 7ms/step - loss: 0.1653 - accuracy: 0.9347\n",
      "Epoch 159/200\n",
      "96/96 [==============================] - 1s 9ms/step - loss: 0.1657 - accuracy: 0.9331\n",
      "Epoch 160/200\n",
      "96/96 [==============================] - 1s 6ms/step - loss: 0.1663 - accuracy: 0.9357\n",
      "Epoch 161/200\n",
      "96/96 [==============================] - 1s 8ms/step - loss: 0.1655 - accuracy: 0.9350\n",
      "Epoch 162/200\n",
      "96/96 [==============================] - 1s 12ms/step - loss: 0.1658 - accuracy: 0.9364\n",
      "Epoch 163/200\n"
     ]
    },
    {
     "name": "stdout",
     "output_type": "stream",
     "text": [
      "96/96 [==============================] - 1s 8ms/step - loss: 0.1656 - accuracy: 0.9347\n",
      "Epoch 164/200\n",
      "96/96 [==============================] - 1s 6ms/step - loss: 0.1652 - accuracy: 0.9341\n",
      "Epoch 165/200\n",
      "96/96 [==============================] - 0s 5ms/step - loss: 0.1641 - accuracy: 0.9350\n",
      "Epoch 166/200\n",
      "96/96 [==============================] - 1s 7ms/step - loss: 0.1650 - accuracy: 0.9331\n",
      "Epoch 167/200\n",
      "96/96 [==============================] - 1s 9ms/step - loss: 0.1640 - accuracy: 0.9344\n",
      "Epoch 168/200\n",
      "96/96 [==============================] - 1s 7ms/step - loss: 0.1653 - accuracy: 0.9347\n",
      "Epoch 169/200\n",
      "96/96 [==============================] - 1s 7ms/step - loss: 0.1660 - accuracy: 0.9334\n",
      "Epoch 170/200\n",
      "96/96 [==============================] - 1s 7ms/step - loss: 0.1641 - accuracy: 0.9341\n",
      "Epoch 171/200\n",
      "96/96 [==============================] - 1s 8ms/step - loss: 0.1654 - accuracy: 0.9344\n",
      "Epoch 172/200\n",
      "96/96 [==============================] - 1s 6ms/step - loss: 0.1646 - accuracy: 0.9357\n",
      "Epoch 173/200\n",
      "96/96 [==============================] - 1s 7ms/step - loss: 0.1637 - accuracy: 0.9370\n",
      "Epoch 174/200\n",
      "96/96 [==============================] - 1s 6ms/step - loss: 0.1646 - accuracy: 0.9350\n",
      "Epoch 175/200\n",
      "96/96 [==============================] - 1s 9ms/step - loss: 0.1661 - accuracy: 0.9347\n",
      "Epoch 176/200\n",
      "96/96 [==============================] - 1s 9ms/step - loss: 0.1636 - accuracy: 0.9354\n",
      "Epoch 177/200\n",
      "96/96 [==============================] - 1s 10ms/step - loss: 0.1642 - accuracy: 0.9350\n",
      "Epoch 178/200\n",
      "96/96 [==============================] - 1s 8ms/step - loss: 0.1642 - accuracy: 0.9344\n",
      "Epoch 179/200\n",
      "96/96 [==============================] - 1s 6ms/step - loss: 0.1638 - accuracy: 0.9341\n",
      "Epoch 180/200\n",
      "96/96 [==============================] - 1s 11ms/step - loss: 0.1639 - accuracy: 0.9350\n",
      "Epoch 181/200\n",
      "96/96 [==============================] - 1s 9ms/step - loss: 0.1646 - accuracy: 0.9350\n",
      "Epoch 182/200\n",
      "96/96 [==============================] - 1s 7ms/step - loss: 0.1636 - accuracy: 0.9364\n",
      "Epoch 183/200\n",
      "96/96 [==============================] - 1s 10ms/step - loss: 0.1638 - accuracy: 0.9344\n",
      "Epoch 184/200\n",
      "96/96 [==============================] - 1s 6ms/step - loss: 0.1630 - accuracy: 0.9357\n",
      "Epoch 185/200\n",
      "96/96 [==============================] - 1s 11ms/step - loss: 0.1628 - accuracy: 0.9380\n",
      "Epoch 186/200\n",
      "96/96 [==============================] - 1s 10ms/step - loss: 0.1630 - accuracy: 0.9367\n",
      "Epoch 187/200\n",
      "96/96 [==============================] - 1s 10ms/step - loss: 0.1633 - accuracy: 0.9364\n",
      "Epoch 188/200\n",
      "96/96 [==============================] - 1s 11ms/step - loss: 0.1627 - accuracy: 0.9386\n",
      "Epoch 189/200\n",
      "96/96 [==============================] - 1s 7ms/step - loss: 0.1627 - accuracy: 0.9341\n",
      "Epoch 190/200\n",
      "96/96 [==============================] - 1s 7ms/step - loss: 0.1622 - accuracy: 0.9354\n",
      "Epoch 191/200\n",
      "96/96 [==============================] - 1s 9ms/step - loss: 0.1624 - accuracy: 0.9344\n",
      "Epoch 192/200\n",
      "96/96 [==============================] - 1s 8ms/step - loss: 0.1631 - accuracy: 0.9354\n",
      "Epoch 193/200\n",
      "96/96 [==============================] - 1s 7ms/step - loss: 0.1624 - accuracy: 0.9347\n",
      "Epoch 194/200\n",
      "96/96 [==============================] - 1s 7ms/step - loss: 0.1621 - accuracy: 0.9357\n",
      "Epoch 195/200\n",
      "96/96 [==============================] - 1s 6ms/step - loss: 0.1620 - accuracy: 0.9367\n",
      "Epoch 196/200\n",
      "96/96 [==============================] - 1s 10ms/step - loss: 0.1629 - accuracy: 0.9357\n",
      "Epoch 197/200\n",
      "96/96 [==============================] - 1s 9ms/step - loss: 0.1619 - accuracy: 0.9354\n",
      "Epoch 198/200\n",
      "96/96 [==============================] - 1s 11ms/step - loss: 0.1627 - accuracy: 0.9357\n",
      "Epoch 199/200\n",
      "96/96 [==============================] - 1s 8ms/step - loss: 0.1625 - accuracy: 0.9347\n",
      "Epoch 200/200\n",
      "96/96 [==============================] - 1s 7ms/step - loss: 0.1620 - accuracy: 0.9370\n"
     ]
    },
    {
     "data": {
      "text/plain": [
       "<keras.src.callbacks.History at 0x2135d3de490>"
      ]
     },
     "execution_count": 29,
     "metadata": {},
     "output_type": "execute_result"
    }
   ],
   "source": [
    "# To train our MLP model defined in earlier steps, let's call the fit function. Let's train our model for 200 iterations:\n",
    "# Train the model for 200 epochs\n",
    "model.fit(X_train, y_train, epochs = 200)"
   ]
  },
  {
   "cell_type": "markdown",
   "metadata": {},
   "source": [
    "# Results analysis\n",
    "#### Having successfully trained our MLP, let's evaluate our model based on the testing accuracy, confusion matrix, and receiver operating characteristic (ROC) curve."
   ]
  },
  {
   "cell_type": "markdown",
   "metadata": {},
   "source": [
    "# Testing accuracy\n",
    "#### We can evaluate our model on the training set and testing set using the evaluate() function:"
   ]
  },
  {
   "cell_type": "code",
   "execution_count": 30,
   "metadata": {
    "scrolled": true
   },
   "outputs": [
    {
     "name": "stdout",
     "output_type": "stream",
     "text": [
      "96/96 [==============================] - 1s 6ms/step - loss: 0.1602 - accuracy: 0.9364\n",
      "Training Accuracy: 93.64%\n",
      "\n",
      "24/24 [==============================] - 0s 6ms/step - loss: 0.2212 - accuracy: 0.9173\n",
      "Testing Accuracy: 91.73%\n",
      "\n"
     ]
    }
   ],
   "source": [
    "scores = model.evaluate(X_train, y_train)\n",
    "print(\"Training Accuracy: %.2f%%\\n\" % (scores[1]*100))\n",
    "\n",
    "scores = model.evaluate(X_test, y_test)\n",
    "print(\"Testing Accuracy: %.2f%%\\n\" % (scores[1]*100))"
   ]
  },
  {
   "cell_type": "markdown",
   "metadata": {},
   "source": [
    "The accuracy is 93.54% and 91.73% on the training set and testing set respectively. The difference in accuracy between the training and testing set isn't surprising since the model was trained on the training set."
   ]
  },
  {
   "cell_type": "markdown",
   "metadata": {},
   "source": [
    "# Confusion matrix\n",
    "The confusion matrix is a useful visualization tool that provides analysis on the true negative, false positive, false negative, and true positives made by our model. Beyond a simple accuracy metric, we should also look at the confusion matrix to understand the performance of the model.The definition of true negative, false positive, false negative, and true positives are as follows:\n",
    "\n",
    "- True negative: Actual class is negative (Cammeo), and the model predicted negative (Cammeo)\n",
    "- False positive: Actual class is negative (Cammeo), but the model predicted positive (Osmancik)\n",
    "- False negative: Actual class is positive (Osmancik), but the model predicted negative (Cammeo)\n",
    "- True positive: Actual class is positive (Osmancik), and the model predicted positive (Osmancik)"
   ]
  },
  {
   "cell_type": "code",
   "execution_count": 31,
   "metadata": {},
   "outputs": [
    {
     "name": "stdout",
     "output_type": "stream",
     "text": [
      "24/24 [==============================] - 0s 6ms/step\n"
     ]
    },
    {
     "data": {
      "text/plain": [
       "Text(50.722222222222214, 0.5, 'Actual')"
      ]
     },
     "execution_count": 31,
     "metadata": {},
     "output_type": "execute_result"
    },
    {
     "data": {
      "image/png": "[encoded data removed]",
      "text/plain": [
       "<Figure size 640x480 with 1 Axes>"
      ]
     },
     "metadata": {},
     "output_type": "display_data"
    }
   ],
   "source": [
    "from sklearn.metrics import confusion_matrix\n",
    "import seaborn as sns\n",
    "\n",
    "y_test_pred = model.predict(X_test)\n",
    "y_test_pred = y_test_pred.flatten()\n",
    "y_test_pred_new = np.where(y_test_pred.round(2) > 0.5, 1, 0)\n",
    "c_matrix = confusion_matrix(y_test, y_test_pred_new)\n",
    "ax = sns.heatmap(c_matrix, annot = True,  fmt = 'd',                \n",
    "                 xticklabels = ['Cammeo','Osmancik'],                \n",
    "                 yticklabels = ['Cammeo','Osmancik'],                  \n",
    "                 cbar = False, cmap = 'Blues')\n",
    "ax.set_xlabel(\"Prediction\")\n",
    "ax.set_ylabel(\"Actual\")"
   ]
  },
  {
   "cell_type": "code",
   "execution_count": 32,
   "metadata": {},
   "outputs": [
    {
     "name": "stdout",
     "output_type": "stream",
     "text": [
      "              precision    recall  f1-score   support\n",
      "\n",
      "           0       0.94      0.87      0.91       354\n",
      "           1       0.90      0.96      0.93       408\n",
      "\n",
      "    accuracy                           0.92       762\n",
      "   macro avg       0.92      0.91      0.92       762\n",
      "weighted avg       0.92      0.92      0.92       762\n",
      "\n"
     ]
    }
   ],
   "source": [
    "# Importing classification report and confusion matrix from sklearn metrics\n",
    "from sklearn.metrics import classification_report, confusion_matrix, accuracy_score\n",
    "\n",
    "# Making predictions\n",
    "y_test_pred_new = np.where(y_test_pred.round(2) > 0.5, 1, 0)\n",
    "\n",
    "# Printing classification report\n",
    "print(classification_report(y_test, y_test_pred_new))"
   ]
  },
  {
   "cell_type": "code",
   "execution_count": 33,
   "metadata": {},
   "outputs": [
    {
     "data": {
      "image/png": "[encoded data removed]",
      "text/plain": [
       "<IPython.core.display.Image object>"
      ]
     },
     "execution_count": 33,
     "metadata": {},
     "output_type": "execute_result"
    }
   ],
   "source": [
    "from IPython.display import Image\n",
    "Image(filename='Image.png') "
   ]
  },
  {
   "cell_type": "markdown",
   "metadata": {},
   "source": [
    "Example of confusion matrix usage to evaluate the quality of the output of a rice data set. The diagonal elements represent the number of points for which the predicted label is equal to the true label, while off-diagonal elements are those that are mislabeled by the classifier. The higher the diagonal values of the confusion matrix the better, indicating many correct predictions.\n",
    "\n",
    "A confusion matrix is a table that is often used to describe the performance of a classification model (or \"classifier\") on a set of test data for which the true values are known. The confusion matrix itself is relatively simple to understand, but the related terminology can be confusing."
   ]
  },
  {
   "cell_type": "markdown",
   "metadata": {},
   "source": [
    "## Task 1\n",
    "\n",
    "We are dealing with a dataset from the finance domain. We have a dataset where we are having 14 dimensions in total and 100000 records. The dimensions that we will be dealing with are as follows:-\n",
    "\n",
    "* RowNumber:- Represents the number of rows\n",
    "* CustomerId:- Represents customerId\n",
    "* Surname:- Represents surname of the customer\n",
    "* CreditScore:- Represents credit score of the customer\n",
    "* Geography:- Represents the city to which customers belongs to\n",
    "* Gender:- Represents Gender of the customer\n",
    "* Age:- Represents age of the customer\n",
    "* Tenure:- Represents tenure of the customer with a bank\n",
    "* Balance:- Represents balance hold by the customer\n",
    "* NumOfProducts:- Represents the number of bank services used by the customer\n",
    "* HasCrCard:- Represents if a customer has a credit card or not\n",
    "* IsActiveMember:- Represents if a customer is an active member or not\n",
    "* EstimatedSalary:- Represents estimated salary of the customer\n",
    "* Exited:- Represents if a customer is going to exit the bank or not.\n",
    "\n",
    "Apply Neural Network Model on the above-mentioned dataset provided in the Tutorial folder named as \"Churn_Modelling.csv\" and compare accuracy with other models, such as Decision Tree, Random Forest, Logistic Regression and Support Vector Machine."
   ]
  },
  {
   "cell_type": "markdown",
   "metadata": {},
   "source": [
    "# ANN Regression"
   ]
  },
  {
   "cell_type": "code",
   "execution_count": 65,
   "metadata": {},
   "outputs": [
    {
     "name": "stdout",
     "output_type": "stream",
     "text": [
      "Requirement already satisfied: scikeras in c:\\users\\stphn\\anaconda3\\lib\\site-packages (0.12.0)\n",
      "Requirement already satisfied: packaging>=0.21 in c:\\users\\stphn\\anaconda3\\lib\\site-packages (from scikeras) (23.0)\n",
      "Requirement already satisfied: scikit-learn>=1.0.0 in c:\\users\\stphn\\anaconda3\\lib\\site-packages (from scikeras) (1.3.0)\n",
      "Requirement already satisfied: tensorflow-io-gcs-filesystem<0.32,>=0.23.1 in c:\\users\\stphn\\anaconda3\\lib\\site-packages (from scikeras) (0.31.0)\n",
      "Requirement already satisfied: numpy>=1.17.3 in c:\\users\\stphn\\anaconda3\\lib\\site-packages (from scikit-learn>=1.0.0->scikeras) (1.24.3)\n",
      "Requirement already satisfied: scipy>=1.5.0 in c:\\users\\stphn\\anaconda3\\lib\\site-packages (from scikit-learn>=1.0.0->scikeras) (1.10.1)\n",
      "Requirement already satisfied: joblib>=1.1.1 in c:\\users\\stphn\\anaconda3\\lib\\site-packages (from scikit-learn>=1.0.0->scikeras) (1.2.0)\n",
      "Requirement already satisfied: threadpoolctl>=2.0.0 in c:\\users\\stphn\\anaconda3\\lib\\site-packages (from scikit-learn>=1.0.0->scikeras) (2.2.0)\n",
      "Note: you may need to restart the kernel to use updated packages.\n"
     ]
    }
   ],
   "source": [
    "pip install scikeras"
   ]
  },
  {
   "cell_type": "code",
   "execution_count": 66,
   "metadata": {},
   "outputs": [],
   "source": [
    "# Load the libraries\n",
    "import pandas as pd\n",
    "from keras.models import Sequential\n",
    "from keras.layers import Dense\n",
    "from scikeras.wrappers import KerasRegressor\n",
    "from sklearn.model_selection import cross_val_score\n",
    "from sklearn.model_selection import KFold\n",
    "from sklearn.preprocessing import StandardScaler\n",
    "from sklearn.pipeline import Pipeline"
   ]
  },
  {
   "cell_type": "markdown",
   "metadata": {},
   "source": [
    "The dataset describes 13 numerical properties of houses in Boston suburbs and is concerned with modeling the price of houses in those suburbs in thousands of dollars. As such, this is a regression predictive modeling problem. Input attributes include things like crime rate, proportion of nonretail business acres, chemical concentrations and more.\n",
    "\n",
    "This is a well-studied problem in machine learning. It is convenient to work with because all of the input and output attributes are numerical and there are 506 instances to work with.\n",
    "\n",
    "Reasonable performance for models evaluated using Mean Squared Error (MSE) are around 20 in squared thousands of dollars (or $4,500 if you take the square root). This is a nice target to aim for with our neural network model."
   ]
  },
  {
   "cell_type": "code",
   "execution_count": 67,
   "metadata": {},
   "outputs": [],
   "source": [
    "# load dataset\n",
    "dataframe = pd.read_csv(\"housing.csv\", delim_whitespace = True, header = None)\n",
    "df = dataframe.values\n",
    "\n",
    "# split into input (X) and output (Y) variables\n",
    "X = df[:,0:13]\n",
    "y = df[:,13]"
   ]
  },
  {
   "cell_type": "code",
   "execution_count": null,
   "metadata": {},
   "outputs": [],
   "source": [
    "print(X,y)"
   ]
  },
  {
   "cell_type": "code",
   "execution_count": null,
   "metadata": {},
   "outputs": [],
   "source": [
    "input_shape=(13,) # shape number"
   ]
  },
  {
   "cell_type": "code",
   "execution_count": 68,
   "metadata": {},
   "outputs": [],
   "source": [
    "# define base model\n",
    "def baseline_model():\n",
    "    # create model\n",
    "    model = Sequential()\n",
    "    model.add(Dense(13, input_shape=(13,), kernel_initializer='normal', activation='relu'))\n",
    "    model.add(Dense(1, kernel_initializer='normal'))\n",
    "    # Compile model\n",
    "    model.compile(loss='mean_squared_error', optimizer='adam')\n",
    "    return model"
   ]
  },
  {
   "cell_type": "code",
   "execution_count": 69,
   "metadata": {},
   "outputs": [],
   "source": [
    "# define wider model\n",
    "def wider_model():\n",
    "    # create model\n",
    "    # `Sequential` groups a linear stack of layers into a `tf.keras.Model`.\n",
    "    model = Sequential()\n",
    "    # Adds a layer instance on top of the layer stack. # Create a `Sequential` model and add a Dense layer as the first layer.\n",
    "    model.add(Dense(20, input_dim = 13, kernel_initializer = 'normal', activation = 'relu'))\n",
    "    model.add(Dense(1, kernel_initializer = 'normal'))\n",
    "    \n",
    "    # Compile model\n",
    "    # The efficient ADAM optimization algorithm is used and a mean squared error loss function is optimized. \n",
    "    # This will be the same metric that we will use to evaluate the performance of the model.\n",
    "    model.compile(loss = 'mean_squared_error', optimizer = 'adam')\n",
    "    return model"
   ]
  },
  {
   "cell_type": "code",
   "execution_count": 70,
   "metadata": {},
   "outputs": [
    {
     "name": "stdout",
     "output_type": "stream",
     "text": [
      "Results: 0.15 (0.60) MSE\n"
     ]
    }
   ],
   "source": [
    "# Evaluate model with standardized dataset\n",
    "estimators = []\n",
    "estimators.append(('standardize', StandardScaler()))\n",
    "estimators.append(('mlp', KerasRegressor(build_fn = wider_model, epochs = 100, \n",
    "                                         batch_size = 5, verbose = 0)))\n",
    "\n",
    "estimator = KerasRegressor(build_fn = baseline_model, epochs = 100, batch_size = 5, verbose = 0)\n",
    "kfold = KFold(n_splits = 10)\n",
    "results = cross_val_score(estimator, X, y, cv = kfold)\n",
    "print(\"Results: %.2f (%.2f) MSE\" % (results.mean(), results.std()))\n",
    "# Me Results: 0.15 (0.60) MSE\n",
    "# Muhammad Results: 0.12 (0.51) MSE\n"
   ]
  },
  {
   "cell_type": "markdown",
   "metadata": {},
   "source": [
    "# Task\n",
    "Apply ANN to Predict Average Daily Rates for Hotels. Data set (H1) is available on Moodle. Use the following features (independent) for ANN and target feature customer (ADR) from the given dataset.\n",
    "\n",
    "#### Independent Features\n",
    "* IsCanceled\n",
    "* Country\n",
    "* MarketSegment\n",
    "* DepositType\n",
    "* CustomerType\n",
    "* RequiredCarParkingSpaces\n",
    "* ArrivalDateWeekNumber"
   ]
  },
  {
   "cell_type": "code",
   "execution_count": null,
   "metadata": {},
   "outputs": [],
   "source": [
    "# Load the libraries\n",
    "import math\n",
    "import matplotlib.pyplot as plt\n",
    "import numpy as np\n",
    "from numpy.random import seed\n",
    "seed(1)\n",
    "import pandas as pd\n",
    "import statsmodels.api as sm\n",
    "import statsmodels.formula.api as smf\n",
    "import tensorflow\n",
    "tensorflow.random.set_seed(1)\n",
    "\n",
    "# Load the libraries\n",
    "import pandas as pd\n",
    "from keras.models import Sequential\n",
    "from keras.layers import Dense\n",
    "from tensorflow.keras.layers import Dropout\n",
    "from scikeras.wrappers import KerasRegressor\n",
    "from sklearn.model_selection import cross_val_score\n",
    "from sklearn.model_selection import KFold\n",
    "from sklearn.preprocessing import StandardScaler\n",
    "from sklearn.pipeline import Pipeline\n",
    "from sklearn.metrics import mean_absolute_error\n",
    "from sklearn.metrics import mean_squared_error\n",
    "from sklearn.model_selection import train_test_split\n",
    "from sklearn.preprocessing import MinMaxScaler"
   ]
  },
  {
   "cell_type": "code",
   "execution_count": null,
   "metadata": {},
   "outputs": [],
   "source": [
    "# Load the dataset named as 'H1.csv'\n",
    "train_df = pd.read_csv('H1.csv')\n",
    "\n",
    "# Displau the records\n",
    "a = train_df.head()\n",
    "\n",
    "# Store the training records into 'b' dataframe\n",
    "b = train_df\n",
    "\n",
    "# Sort the values of the dataframe (b)\n",
    "b.sort_values(['ArrivalDateYear','ArrivalDateWeekNumber'], ascending = True)\n",
    "\n",
    "# Display the dataframe "
   ]
  },
  {
   "cell_type": "markdown",
   "metadata": {},
   "source": [
    "## Reference: \n",
    "* Neural Network Projects with Python by James Loy Published by Packt Publishing, 2019\n",
    "* <p>https://archive.ics.uci.edu/dataset/545/rice+cammeo+and+osmancik</p>"
   ]
  }
 ],
 "metadata": {
  "kernelspec": {
   "display_name": "Python 3 (ipykernel)",
   "language": "python",
   "name": "python3"
  },
  "language_info": {
   "codemirror_mode": {
    "name": "ipython",
    "version": 3
   },
   "file_extension": ".py",
   "mimetype": "text/x-python",
   "name": "python",
   "nbconvert_exporter": "python",
   "pygments_lexer": "ipython3",
   "version": "3.11.4"
  }
 },
 "nbformat": 4,
 "nbformat_minor": 4
}
