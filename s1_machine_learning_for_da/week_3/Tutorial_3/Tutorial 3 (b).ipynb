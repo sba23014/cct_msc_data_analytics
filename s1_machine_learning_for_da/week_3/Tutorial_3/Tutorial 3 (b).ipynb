{
 "cells": [
  {
   "cell_type": "markdown",
   "id": "decreased-relation",
   "metadata": {},
   "source": [
    "# Tutorial 3 (b)\n",
    "# The Linear Regression using Time Series"
   ]
  },
  {
   "cell_type": "markdown",
   "id": "healthy-command",
   "metadata": {},
   "source": [
    "## Importing the data and plotting it"
   ]
  },
  {
   "cell_type": "code",
   "execution_count": 1,
   "id": "popular-stupid",
   "metadata": {},
   "outputs": [],
   "source": [
    "# Load the libraries\n",
    "import statsmodels.api as sm\n",
    "import pandas as pd\n",
    "import matplotlib.pyplot as plt\n",
    "\n",
    "import warnings\n",
    "warnings.filterwarnings('ignore') # We can suppress the warnings"
   ]
  },
  {
   "cell_type": "code",
   "execution_count": 2,
   "id": "9dbaae9b",
   "metadata": {},
   "outputs": [
    {
     "data": {
      "text/html": [
       "<div>\n",
       "<style scoped>\n",
       "    .dataframe tbody tr th:only-of-type {\n",
       "        vertical-align: middle;\n",
       "    }\n",
       "\n",
       "    .dataframe tbody tr th {\n",
       "        vertical-align: top;\n",
       "    }\n",
       "\n",
       "    .dataframe thead th {\n",
       "        text-align: right;\n",
       "    }\n",
       "</style>\n",
       "<table border=\"1\" class=\"dataframe\">\n",
       "  <thead>\n",
       "    <tr style=\"text-align: right;\">\n",
       "      <th></th>\n",
       "      <th>co2</th>\n",
       "    </tr>\n",
       "  </thead>\n",
       "  <tbody>\n",
       "    <tr>\n",
       "      <th>1958-03-29</th>\n",
       "      <td>316.1</td>\n",
       "    </tr>\n",
       "    <tr>\n",
       "      <th>1958-04-05</th>\n",
       "      <td>317.3</td>\n",
       "    </tr>\n",
       "    <tr>\n",
       "      <th>1958-04-12</th>\n",
       "      <td>317.6</td>\n",
       "    </tr>\n",
       "    <tr>\n",
       "      <th>1958-04-19</th>\n",
       "      <td>317.5</td>\n",
       "    </tr>\n",
       "    <tr>\n",
       "      <th>1958-04-26</th>\n",
       "      <td>316.4</td>\n",
       "    </tr>\n",
       "  </tbody>\n",
       "</table>\n",
       "</div>"
      ],
      "text/plain": [
       "              co2\n",
       "1958-03-29  316.1\n",
       "1958-04-05  317.3\n",
       "1958-04-12  317.6\n",
       "1958-04-19  317.5\n",
       "1958-04-26  316.4"
      ]
     },
     "execution_count": 2,
     "metadata": {},
     "output_type": "execute_result"
    }
   ],
   "source": [
    "# Load the data set for Co2 gas\n",
    "data = sm.datasets.co2.load_pandas()\n",
    "\n",
    "# Store data into dataframe (df_co2)\n",
    "df_co2 = data.data\n",
    "\n",
    "# Display first 5 records\n",
    "df_co2.head()"
   ]
  },
  {
   "cell_type": "code",
   "execution_count": 3,
   "id": "4e9217ca",
   "metadata": {},
   "outputs": [
    {
     "data": {
      "text/plain": [
       "(2284, 1)"
      ]
     },
     "execution_count": 3,
     "metadata": {},
     "output_type": "execute_result"
    }
   ],
   "source": [
    "# Display number of rows and columns\n",
    "df_co2.shape"
   ]
  },
  {
   "cell_type": "code",
   "execution_count": 4,
   "id": "cd29a1ec",
   "metadata": {},
   "outputs": [
    {
     "data": {
      "text/plain": [
       "co2    59\n",
       "dtype: int64"
      ]
     },
     "execution_count": 4,
     "metadata": {},
     "output_type": "execute_result"
    }
   ],
   "source": [
    "# Check the presence of Null values\n",
    "df_co2.isnull().sum()"
   ]
  },
  {
   "cell_type": "code",
   "execution_count": 5,
   "id": "f714be28",
   "metadata": {},
   "outputs": [
    {
     "data": {
      "text/plain": [
       "co2    0\n",
       "dtype: int64"
      ]
     },
     "execution_count": 5,
     "metadata": {},
     "output_type": "execute_result"
    }
   ],
   "source": [
    "# Drop NA values if present\n",
    "df_co2 = df_co2.dropna()\n",
    "\n",
    "# Check the presence of Null values\n",
    "df_co2.isnull().sum()"
   ]
  },
  {
   "cell_type": "code",
   "execution_count": 6,
   "id": "35d6097e",
   "metadata": {},
   "outputs": [
    {
     "data": {
      "image/png": "[encoded data removed]",
      "text/plain": [
       "<Figure size 432x288 with 1 Axes>"
      ]
     },
     "metadata": {
      "needs_background": "light"
     },
     "output_type": "display_data"
    }
   ],
   "source": [
    "# plot the dataset\n",
    "ax = df_co2.plot()\n",
    "ax.set_ylabel('CO2 level')\n",
    "plt.show()"
   ]
  },
  {
   "cell_type": "markdown",
   "id": "dimensional-collect",
   "metadata": {},
   "source": [
    "## Creating the variable month"
   ]
  },
  {
   "cell_type": "code",
   "execution_count": 7,
   "id": "ready-episode",
   "metadata": {},
   "outputs": [
    {
     "data": {
      "text/html": [
       "<div>\n",
       "<style scoped>\n",
       "    .dataframe tbody tr th:only-of-type {\n",
       "        vertical-align: middle;\n",
       "    }\n",
       "\n",
       "    .dataframe tbody tr th {\n",
       "        vertical-align: top;\n",
       "    }\n",
       "\n",
       "    .dataframe thead th {\n",
       "        text-align: right;\n",
       "    }\n",
       "</style>\n",
       "<table border=\"1\" class=\"dataframe\">\n",
       "  <thead>\n",
       "    <tr style=\"text-align: right;\">\n",
       "      <th></th>\n",
       "      <th>co2</th>\n",
       "      <th>month</th>\n",
       "    </tr>\n",
       "  </thead>\n",
       "  <tbody>\n",
       "    <tr>\n",
       "      <th>1958-03-29</th>\n",
       "      <td>316.1</td>\n",
       "      <td>3</td>\n",
       "    </tr>\n",
       "    <tr>\n",
       "      <th>1958-04-05</th>\n",
       "      <td>317.3</td>\n",
       "      <td>4</td>\n",
       "    </tr>\n",
       "    <tr>\n",
       "      <th>1958-04-12</th>\n",
       "      <td>317.6</td>\n",
       "      <td>4</td>\n",
       "    </tr>\n",
       "    <tr>\n",
       "      <th>1958-04-19</th>\n",
       "      <td>317.5</td>\n",
       "      <td>4</td>\n",
       "    </tr>\n",
       "    <tr>\n",
       "      <th>1958-04-26</th>\n",
       "      <td>316.4</td>\n",
       "      <td>4</td>\n",
       "    </tr>\n",
       "  </tbody>\n",
       "</table>\n",
       "</div>"
      ],
      "text/plain": [
       "              co2  month\n",
       "1958-03-29  316.1      3\n",
       "1958-04-05  317.3      4\n",
       "1958-04-12  317.6      4\n",
       "1958-04-19  317.5      4\n",
       "1958-04-26  316.4      4"
      ]
     },
     "execution_count": 7,
     "metadata": {},
     "output_type": "execute_result"
    }
   ],
   "source": [
    "# Add a new column into df_co2 called as 'month'\n",
    "df_co2['month'] = [x.month for x in df_co2.index] \n",
    "\n",
    "# Display first five records\n",
    "df_co2.head()"
   ]
  },
  {
   "cell_type": "markdown",
   "id": "irish-raising",
   "metadata": {},
   "source": [
    "## Creating the variable year"
   ]
  },
  {
   "cell_type": "code",
   "execution_count": 8,
   "id": "thermal-speaker",
   "metadata": {},
   "outputs": [
    {
     "data": {
      "text/html": [
       "<div>\n",
       "<style scoped>\n",
       "    .dataframe tbody tr th:only-of-type {\n",
       "        vertical-align: middle;\n",
       "    }\n",
       "\n",
       "    .dataframe tbody tr th {\n",
       "        vertical-align: top;\n",
       "    }\n",
       "\n",
       "    .dataframe thead th {\n",
       "        text-align: right;\n",
       "    }\n",
       "</style>\n",
       "<table border=\"1\" class=\"dataframe\">\n",
       "  <thead>\n",
       "    <tr style=\"text-align: right;\">\n",
       "      <th></th>\n",
       "      <th>co2</th>\n",
       "      <th>month</th>\n",
       "      <th>year</th>\n",
       "    </tr>\n",
       "  </thead>\n",
       "  <tbody>\n",
       "    <tr>\n",
       "      <th>1958-03-29</th>\n",
       "      <td>316.1</td>\n",
       "      <td>3</td>\n",
       "      <td>1958</td>\n",
       "    </tr>\n",
       "    <tr>\n",
       "      <th>1958-04-05</th>\n",
       "      <td>317.3</td>\n",
       "      <td>4</td>\n",
       "      <td>1958</td>\n",
       "    </tr>\n",
       "    <tr>\n",
       "      <th>1958-04-12</th>\n",
       "      <td>317.6</td>\n",
       "      <td>4</td>\n",
       "      <td>1958</td>\n",
       "    </tr>\n",
       "    <tr>\n",
       "      <th>1958-04-19</th>\n",
       "      <td>317.5</td>\n",
       "      <td>4</td>\n",
       "      <td>1958</td>\n",
       "    </tr>\n",
       "    <tr>\n",
       "      <th>1958-04-26</th>\n",
       "      <td>316.4</td>\n",
       "      <td>4</td>\n",
       "      <td>1958</td>\n",
       "    </tr>\n",
       "  </tbody>\n",
       "</table>\n",
       "</div>"
      ],
      "text/plain": [
       "              co2  month  year\n",
       "1958-03-29  316.1      3  1958\n",
       "1958-04-05  317.3      4  1958\n",
       "1958-04-12  317.6      4  1958\n",
       "1958-04-19  317.5      4  1958\n",
       "1958-04-26  316.4      4  1958"
      ]
     },
     "execution_count": 8,
     "metadata": {},
     "output_type": "execute_result"
    }
   ],
   "source": [
    "# Add a new column into df_co2 called as 'year'\n",
    "df_co2['year'] = [x.year for x in df_co2.index]\n",
    "\n",
    "# Display first five records\n",
    "df_co2.head()"
   ]
  },
  {
   "cell_type": "markdown",
   "id": "heard-thought",
   "metadata": {},
   "source": [
    "## Fitting a Linear Regression with two variables"
   ]
  },
  {
   "cell_type": "code",
   "execution_count": 9,
   "id": "delayed-hobby",
   "metadata": {},
   "outputs": [
    {
     "name": "stdout",
     "output_type": "stream",
     "text": [
      "0.9690528910892227 0.34332512339526633\n"
     ]
    },
    {
     "data": {
      "image/png": "[encoded data removed]",
      "text/plain": [
       "<Figure size 432x288 with 1 Axes>"
      ]
     },
     "metadata": {
      "needs_background": "light"
     },
     "output_type": "display_data"
    }
   ],
   "source": [
    "# Import the libraries\n",
    "from sklearn.model_selection import train_test_split\n",
    "from sklearn.linear_model import LinearRegression\n",
    "from sklearn.metrics import r2_score\n",
    "\n",
    "# Create X and y objects\n",
    "X = df_co2[['year', 'month']]\n",
    "y = df_co2['co2']\n",
    "\n",
    "# Create Train test split\n",
    "X_train, X_test, y_train, y_test = train_test_split(X, y, test_size = 0.20, random_state = 12345, shuffle = False)\n",
    "\n",
    "# Fit model\n",
    "my_lm = LinearRegression()\n",
    "my_lm.fit(X = X_train, y = y_train)\n",
    "\n",
    "train_fcst = my_lm.predict(X_train)\n",
    "test_fcst = my_lm.predict(X_test)\n",
    "\n",
    "# Store the R2 error into train_r2 and test_r2\n",
    "train_r2 = r2_score(y_train, train_fcst)\n",
    "test_r2 = r2_score(y_test, test_fcst)\n",
    "\n",
    "# Display the training and test score\n",
    "print(train_r2, test_r2)\n",
    "\n",
    "# Plot result\n",
    "plt.plot(list(test_fcst))\n",
    "plt.plot(list(y_test))\n",
    "plt.xlabel('Steps into the test set')\n",
    "plt.ylabel('CO2 levels')\n",
    "plt.show()"
   ]
  },
  {
   "cell_type": "markdown",
   "id": "statistical-explosion",
   "metadata": {},
   "source": [
    "## Adding lagged variables into the data"
   ]
  },
  {
   "cell_type": "code",
   "execution_count": 10,
   "id": "familiar-columbus",
   "metadata": {},
   "outputs": [
    {
     "data": {
      "text/html": [
       "<div>\n",
       "<style scoped>\n",
       "    .dataframe tbody tr th:only-of-type {\n",
       "        vertical-align: middle;\n",
       "    }\n",
       "\n",
       "    .dataframe tbody tr th {\n",
       "        vertical-align: top;\n",
       "    }\n",
       "\n",
       "    .dataframe thead th {\n",
       "        text-align: right;\n",
       "    }\n",
       "</style>\n",
       "<table border=\"1\" class=\"dataframe\">\n",
       "  <thead>\n",
       "    <tr style=\"text-align: right;\">\n",
       "      <th></th>\n",
       "      <th>co2</th>\n",
       "      <th>month</th>\n",
       "      <th>year</th>\n",
       "      <th>co2_l1</th>\n",
       "      <th>co2_l2</th>\n",
       "      <th>co2_l3</th>\n",
       "      <th>co2_l4</th>\n",
       "      <th>co2_l5</th>\n",
       "    </tr>\n",
       "  </thead>\n",
       "  <tbody>\n",
       "    <tr>\n",
       "      <th>1958-03-29</th>\n",
       "      <td>316.1</td>\n",
       "      <td>3</td>\n",
       "      <td>1958</td>\n",
       "      <td>NaN</td>\n",
       "      <td>NaN</td>\n",
       "      <td>NaN</td>\n",
       "      <td>NaN</td>\n",
       "      <td>NaN</td>\n",
       "    </tr>\n",
       "    <tr>\n",
       "      <th>1958-04-05</th>\n",
       "      <td>317.3</td>\n",
       "      <td>4</td>\n",
       "      <td>1958</td>\n",
       "      <td>316.1</td>\n",
       "      <td>NaN</td>\n",
       "      <td>NaN</td>\n",
       "      <td>NaN</td>\n",
       "      <td>NaN</td>\n",
       "    </tr>\n",
       "    <tr>\n",
       "      <th>1958-04-12</th>\n",
       "      <td>317.6</td>\n",
       "      <td>4</td>\n",
       "      <td>1958</td>\n",
       "      <td>317.3</td>\n",
       "      <td>316.1</td>\n",
       "      <td>NaN</td>\n",
       "      <td>NaN</td>\n",
       "      <td>NaN</td>\n",
       "    </tr>\n",
       "    <tr>\n",
       "      <th>1958-04-19</th>\n",
       "      <td>317.5</td>\n",
       "      <td>4</td>\n",
       "      <td>1958</td>\n",
       "      <td>317.6</td>\n",
       "      <td>317.3</td>\n",
       "      <td>316.1</td>\n",
       "      <td>NaN</td>\n",
       "      <td>NaN</td>\n",
       "    </tr>\n",
       "    <tr>\n",
       "      <th>1958-04-26</th>\n",
       "      <td>316.4</td>\n",
       "      <td>4</td>\n",
       "      <td>1958</td>\n",
       "      <td>317.5</td>\n",
       "      <td>317.6</td>\n",
       "      <td>317.3</td>\n",
       "      <td>316.1</td>\n",
       "      <td>NaN</td>\n",
       "    </tr>\n",
       "    <tr>\n",
       "      <th>1958-05-03</th>\n",
       "      <td>316.9</td>\n",
       "      <td>5</td>\n",
       "      <td>1958</td>\n",
       "      <td>316.4</td>\n",
       "      <td>317.5</td>\n",
       "      <td>317.6</td>\n",
       "      <td>317.3</td>\n",
       "      <td>316.1</td>\n",
       "    </tr>\n",
       "    <tr>\n",
       "      <th>1958-05-17</th>\n",
       "      <td>317.5</td>\n",
       "      <td>5</td>\n",
       "      <td>1958</td>\n",
       "      <td>316.9</td>\n",
       "      <td>316.4</td>\n",
       "      <td>317.5</td>\n",
       "      <td>317.6</td>\n",
       "      <td>317.3</td>\n",
       "    </tr>\n",
       "    <tr>\n",
       "      <th>1958-05-24</th>\n",
       "      <td>317.9</td>\n",
       "      <td>5</td>\n",
       "      <td>1958</td>\n",
       "      <td>317.5</td>\n",
       "      <td>316.9</td>\n",
       "      <td>316.4</td>\n",
       "      <td>317.5</td>\n",
       "      <td>317.6</td>\n",
       "    </tr>\n",
       "    <tr>\n",
       "      <th>1958-07-05</th>\n",
       "      <td>315.8</td>\n",
       "      <td>7</td>\n",
       "      <td>1958</td>\n",
       "      <td>317.9</td>\n",
       "      <td>317.5</td>\n",
       "      <td>316.9</td>\n",
       "      <td>316.4</td>\n",
       "      <td>317.5</td>\n",
       "    </tr>\n",
       "    <tr>\n",
       "      <th>1958-07-12</th>\n",
       "      <td>315.8</td>\n",
       "      <td>7</td>\n",
       "      <td>1958</td>\n",
       "      <td>315.8</td>\n",
       "      <td>317.9</td>\n",
       "      <td>317.5</td>\n",
       "      <td>316.9</td>\n",
       "      <td>316.4</td>\n",
       "    </tr>\n",
       "  </tbody>\n",
       "</table>\n",
       "</div>"
      ],
      "text/plain": [
       "              co2  month  year  co2_l1  co2_l2  co2_l3  co2_l4  co2_l5\n",
       "1958-03-29  316.1      3  1958     NaN     NaN     NaN     NaN     NaN\n",
       "1958-04-05  317.3      4  1958   316.1     NaN     NaN     NaN     NaN\n",
       "1958-04-12  317.6      4  1958   317.3   316.1     NaN     NaN     NaN\n",
       "1958-04-19  317.5      4  1958   317.6   317.3   316.1     NaN     NaN\n",
       "1958-04-26  316.4      4  1958   317.5   317.6   317.3   316.1     NaN\n",
       "1958-05-03  316.9      5  1958   316.4   317.5   317.6   317.3   316.1\n",
       "1958-05-17  317.5      5  1958   316.9   316.4   317.5   317.6   317.3\n",
       "1958-05-24  317.9      5  1958   317.5   316.9   316.4   317.5   317.6\n",
       "1958-07-05  315.8      7  1958   317.9   317.5   316.9   316.4   317.5\n",
       "1958-07-12  315.8      7  1958   315.8   317.9   317.5   316.9   316.4"
      ]
     },
     "execution_count": 10,
     "metadata": {},
     "output_type": "execute_result"
    }
   ],
   "source": [
    "df_co2['co2_l1'] = df_co2['co2'].shift(1)\n",
    "df_co2['co2_l2'] = df_co2['co2'].shift(2)\n",
    "df_co2['co2_l3'] = df_co2['co2'].shift(3)\n",
    "df_co2['co2_l4'] = df_co2['co2'].shift(4)\n",
    "df_co2['co2_l5'] = df_co2['co2'].shift(5)\n",
    "\n",
    "# Display the first 10 records\n",
    "df_co2.head(10)"
   ]
  },
  {
   "cell_type": "markdown",
   "id": "solar-moses",
   "metadata": {},
   "source": [
    "## Drop missing values"
   ]
  },
  {
   "cell_type": "code",
   "execution_count": 11,
   "id": "individual-lightning",
   "metadata": {},
   "outputs": [
    {
     "data": {
      "text/html": [
       "<div>\n",
       "<style scoped>\n",
       "    .dataframe tbody tr th:only-of-type {\n",
       "        vertical-align: middle;\n",
       "    }\n",
       "\n",
       "    .dataframe tbody tr th {\n",
       "        vertical-align: top;\n",
       "    }\n",
       "\n",
       "    .dataframe thead th {\n",
       "        text-align: right;\n",
       "    }\n",
       "</style>\n",
       "<table border=\"1\" class=\"dataframe\">\n",
       "  <thead>\n",
       "    <tr style=\"text-align: right;\">\n",
       "      <th></th>\n",
       "      <th>co2</th>\n",
       "      <th>month</th>\n",
       "      <th>year</th>\n",
       "      <th>co2_l1</th>\n",
       "      <th>co2_l2</th>\n",
       "      <th>co2_l3</th>\n",
       "      <th>co2_l4</th>\n",
       "      <th>co2_l5</th>\n",
       "    </tr>\n",
       "  </thead>\n",
       "  <tbody>\n",
       "    <tr>\n",
       "      <th>1958-05-03</th>\n",
       "      <td>316.9</td>\n",
       "      <td>5</td>\n",
       "      <td>1958</td>\n",
       "      <td>316.4</td>\n",
       "      <td>317.5</td>\n",
       "      <td>317.6</td>\n",
       "      <td>317.3</td>\n",
       "      <td>316.1</td>\n",
       "    </tr>\n",
       "    <tr>\n",
       "      <th>1958-05-17</th>\n",
       "      <td>317.5</td>\n",
       "      <td>5</td>\n",
       "      <td>1958</td>\n",
       "      <td>316.9</td>\n",
       "      <td>316.4</td>\n",
       "      <td>317.5</td>\n",
       "      <td>317.6</td>\n",
       "      <td>317.3</td>\n",
       "    </tr>\n",
       "    <tr>\n",
       "      <th>1958-05-24</th>\n",
       "      <td>317.9</td>\n",
       "      <td>5</td>\n",
       "      <td>1958</td>\n",
       "      <td>317.5</td>\n",
       "      <td>316.9</td>\n",
       "      <td>316.4</td>\n",
       "      <td>317.5</td>\n",
       "      <td>317.6</td>\n",
       "    </tr>\n",
       "    <tr>\n",
       "      <th>1958-07-05</th>\n",
       "      <td>315.8</td>\n",
       "      <td>7</td>\n",
       "      <td>1958</td>\n",
       "      <td>317.9</td>\n",
       "      <td>317.5</td>\n",
       "      <td>316.9</td>\n",
       "      <td>316.4</td>\n",
       "      <td>317.5</td>\n",
       "    </tr>\n",
       "    <tr>\n",
       "      <th>1958-07-12</th>\n",
       "      <td>315.8</td>\n",
       "      <td>7</td>\n",
       "      <td>1958</td>\n",
       "      <td>315.8</td>\n",
       "      <td>317.9</td>\n",
       "      <td>317.5</td>\n",
       "      <td>316.9</td>\n",
       "      <td>316.4</td>\n",
       "    </tr>\n",
       "    <tr>\n",
       "      <th>1958-07-19</th>\n",
       "      <td>315.4</td>\n",
       "      <td>7</td>\n",
       "      <td>1958</td>\n",
       "      <td>315.8</td>\n",
       "      <td>315.8</td>\n",
       "      <td>317.9</td>\n",
       "      <td>317.5</td>\n",
       "      <td>316.9</td>\n",
       "    </tr>\n",
       "    <tr>\n",
       "      <th>1958-07-26</th>\n",
       "      <td>315.5</td>\n",
       "      <td>7</td>\n",
       "      <td>1958</td>\n",
       "      <td>315.4</td>\n",
       "      <td>315.8</td>\n",
       "      <td>315.8</td>\n",
       "      <td>317.9</td>\n",
       "      <td>317.5</td>\n",
       "    </tr>\n",
       "    <tr>\n",
       "      <th>1958-08-02</th>\n",
       "      <td>315.6</td>\n",
       "      <td>8</td>\n",
       "      <td>1958</td>\n",
       "      <td>315.5</td>\n",
       "      <td>315.4</td>\n",
       "      <td>315.8</td>\n",
       "      <td>315.8</td>\n",
       "      <td>317.9</td>\n",
       "    </tr>\n",
       "    <tr>\n",
       "      <th>1958-08-09</th>\n",
       "      <td>315.1</td>\n",
       "      <td>8</td>\n",
       "      <td>1958</td>\n",
       "      <td>315.6</td>\n",
       "      <td>315.5</td>\n",
       "      <td>315.4</td>\n",
       "      <td>315.8</td>\n",
       "      <td>315.8</td>\n",
       "    </tr>\n",
       "    <tr>\n",
       "      <th>1958-08-16</th>\n",
       "      <td>315.0</td>\n",
       "      <td>8</td>\n",
       "      <td>1958</td>\n",
       "      <td>315.1</td>\n",
       "      <td>315.6</td>\n",
       "      <td>315.5</td>\n",
       "      <td>315.4</td>\n",
       "      <td>315.8</td>\n",
       "    </tr>\n",
       "  </tbody>\n",
       "</table>\n",
       "</div>"
      ],
      "text/plain": [
       "              co2  month  year  co2_l1  co2_l2  co2_l3  co2_l4  co2_l5\n",
       "1958-05-03  316.9      5  1958   316.4   317.5   317.6   317.3   316.1\n",
       "1958-05-17  317.5      5  1958   316.9   316.4   317.5   317.6   317.3\n",
       "1958-05-24  317.9      5  1958   317.5   316.9   316.4   317.5   317.6\n",
       "1958-07-05  315.8      7  1958   317.9   317.5   316.9   316.4   317.5\n",
       "1958-07-12  315.8      7  1958   315.8   317.9   317.5   316.9   316.4\n",
       "1958-07-19  315.4      7  1958   315.8   315.8   317.9   317.5   316.9\n",
       "1958-07-26  315.5      7  1958   315.4   315.8   315.8   317.9   317.5\n",
       "1958-08-02  315.6      8  1958   315.5   315.4   315.8   315.8   317.9\n",
       "1958-08-09  315.1      8  1958   315.6   315.5   315.4   315.8   315.8\n",
       "1958-08-16  315.0      8  1958   315.1   315.6   315.5   315.4   315.8"
      ]
     },
     "execution_count": 11,
     "metadata": {},
     "output_type": "execute_result"
    }
   ],
   "source": [
    "# Drop Null values from the dataframe\n",
    "df_co2 = df_co2.dropna()\n",
    "\n",
    "# Display the first 10 records\n",
    "df_co2.head(10)"
   ]
  },
  {
   "cell_type": "markdown",
   "id": "regional-combination",
   "metadata": {},
   "source": [
    "## Fitting the full Linear Regression model"
   ]
  },
  {
   "cell_type": "code",
   "execution_count": 12,
   "id": "second-cloud",
   "metadata": {},
   "outputs": [
    {
     "name": "stdout",
     "output_type": "stream",
     "text": [
      "0.998797756425323 0.99043701204628\n"
     ]
    },
    {
     "data": {
      "image/png": "[encoded data removed]",
      "text/plain": [
       "<Figure size 432x288 with 1 Axes>"
      ]
     },
     "metadata": {
      "needs_background": "light"
     },
     "output_type": "display_data"
    }
   ],
   "source": [
    "# Create X and y objects\n",
    "X = df_co2[['year', 'month', 'co2_l1', 'co2_l2', 'co2_l3', 'co2_l4', 'co2_l5']]\n",
    "y = df_co2['co2']\n",
    "\n",
    "# Train Test Split\n",
    "X_train, X_test, y_train, y_test = train_test_split(X, y, test_size = 0.20, random_state = 12345, shuffle = False)\n",
    "\n",
    "# Fit the model\n",
    "my_lm = LinearRegression()\n",
    "my_lm.fit(X = X_train, y = y_train)\n",
    "\n",
    "# Calculate the train Forecasting\n",
    "train_fcst = my_lm.predict(X_train)\n",
    "test_fcst = my_lm.predict(X_test)\n",
    "\n",
    "# Calculate teh r2 score for train and test\n",
    "train_r2 = r2_score(y_train, train_fcst)\n",
    "test_r2 = r2_score(y_test, test_fcst)\n",
    "\n",
    "# Display the results for train and test\n",
    "print(train_r2, test_r2)\n",
    "\n",
    "# Plot result\n",
    "plt.plot(list(test_fcst))\n",
    "plt.plot(list(y_test))\n",
    "plt.xlabel('Steps into the test set')\n",
    "plt.ylabel('CO2 levels')\n",
    "plt.show()"
   ]
  }
 ],
 "metadata": {
  "kernelspec": {
   "display_name": "Python 3",
   "language": "python",
   "name": "python3"
  },
  "language_info": {
   "codemirror_mode": {
    "name": "ipython",
    "version": 3
   },
   "file_extension": ".py",
   "mimetype": "text/x-python",
   "name": "python",
   "nbconvert_exporter": "python",
   "pygments_lexer": "ipython3",
   "version": "3.8.8"
  }
 },
 "nbformat": 4,
 "nbformat_minor": 5
}
