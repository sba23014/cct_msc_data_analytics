{
 "cells": [
  {
   "cell_type": "markdown",
   "id": "58ff2d9d",
   "metadata": {},
   "source": [
    "### Validate calculations in the dataset"
   ]
  },
  {
   "cell_type": "code",
   "execution_count": 1,
   "id": "b67b4b02",
   "metadata": {},
   "outputs": [
    {
     "ename": "NameError",
     "evalue": "name 'outer_merged_df' is not defined",
     "output_type": "error",
     "traceback": [
      "\u001b[1;31m---------------------------------------------------------------------------\u001b[0m",
      "\u001b[1;31mNameError\u001b[0m                                 Traceback (most recent call last)",
      "Cell \u001b[1;32mIn[1], line 1\u001b[0m\n\u001b[1;32m----> 1\u001b[0m \u001b[43mouter_merged_df\u001b[49m\u001b[38;5;241m.\u001b[39mhead()\n",
      "\u001b[1;31mNameError\u001b[0m: name 'outer_merged_df' is not defined"
     ]
    }
   ],
   "source": [
    "outer_merged_df.head()"
   ]
  },
  {
   "cell_type": "code",
   "execution_count": null,
   "id": "c8d087b1",
   "metadata": {},
   "outputs": [],
   "source": [
    "outer_merged_df.info()"
   ]
  },
  {
   "cell_type": "code",
   "execution_count": null,
   "id": "adca663b",
   "metadata": {},
   "outputs": [],
   "source": [
    "# Convert selected columns to int64 data type\n",
    "columns_to_convert = ['Annual births', 'Annual deaths', 'Emigrants', 'Immigrants','Natural increase', 'Net migration', \n",
    "                      'Population', 'Population change', 'Female', 'Male']\n",
    "\n",
    "# Convert to int64 and update the dataset\n",
    "outer_merged_df[columns_to_convert] = outer_merged_df[columns_to_convert].astype('int64')\n",
    "\n",
    "# Display data types to confirm conversion\n",
    "outer_merged_df[columns_to_convert].dtypes"
   ]
  },
  {
   "cell_type": "markdown",
   "id": "c06935d8",
   "metadata": {},
   "source": [
    "* Validate that indiviaul values match their summed total, some of them don't, due to rounding issues\n",
    "* Use your own calculated values instead"
   ]
  },
  {
   "cell_type": "code",
   "execution_count": 2,
   "id": "fc0ded8a",
   "metadata": {},
   "outputs": [
    {
     "ename": "NameError",
     "evalue": "name 'outer_merged_df' is not defined",
     "output_type": "error",
     "traceback": [
      "\u001b[1;31m---------------------------------------------------------------------------\u001b[0m",
      "\u001b[1;31mNameError\u001b[0m                                 Traceback (most recent call last)",
      "Cell \u001b[1;32mIn[2], line 2\u001b[0m\n\u001b[0;32m      1\u001b[0m \u001b[38;5;66;03m# Create new calculated columns to ensure that the data in the dataset is accurate\u001b[39;00m\n\u001b[1;32m----> 2\u001b[0m outer_merged_df[\u001b[38;5;124m'\u001b[39m\u001b[38;5;124mCalculated Natural Increase\u001b[39m\u001b[38;5;124m'\u001b[39m] \u001b[38;5;241m=\u001b[39m \u001b[43mouter_merged_df\u001b[49m[\u001b[38;5;124m'\u001b[39m\u001b[38;5;124mAnnual births\u001b[39m\u001b[38;5;124m'\u001b[39m] \u001b[38;5;241m-\u001b[39m outer_merged_df[\u001b[38;5;124m'\u001b[39m\u001b[38;5;124mAnnual deaths\u001b[39m\u001b[38;5;124m'\u001b[39m]\n\u001b[0;32m      3\u001b[0m outer_merged_df[\u001b[38;5;124m'\u001b[39m\u001b[38;5;124mCalculated Net Migration Check\u001b[39m\u001b[38;5;124m'\u001b[39m] \u001b[38;5;241m=\u001b[39m outer_merged_df[\u001b[38;5;124m'\u001b[39m\u001b[38;5;124mImmigrants\u001b[39m\u001b[38;5;124m'\u001b[39m] \u001b[38;5;241m-\u001b[39m outer_merged_df[\u001b[38;5;124m'\u001b[39m\u001b[38;5;124mEmigrants\u001b[39m\u001b[38;5;124m'\u001b[39m]\n\u001b[0;32m      4\u001b[0m outer_merged_df[\u001b[38;5;124m'\u001b[39m\u001b[38;5;124mCalculated Both Sexes\u001b[39m\u001b[38;5;124m'\u001b[39m] \u001b[38;5;241m=\u001b[39m outer_merged_df[\u001b[38;5;124m'\u001b[39m\u001b[38;5;124mFemale\u001b[39m\u001b[38;5;124m'\u001b[39m] \u001b[38;5;241m+\u001b[39m outer_merged_df[\u001b[38;5;124m'\u001b[39m\u001b[38;5;124mMale\u001b[39m\u001b[38;5;124m'\u001b[39m]\n",
      "\u001b[1;31mNameError\u001b[0m: name 'outer_merged_df' is not defined"
     ]
    }
   ],
   "source": [
    "# Create new calculated columns to ensure that the data in the dataset is accurate\n",
    "outer_merged_df['Calculated Natural Increase'] = outer_merged_df['Annual births'] - outer_merged_df['Annual deaths']\n",
    "outer_merged_df['Calculated Net Migration Check'] = outer_merged_df['Immigrants'] - outer_merged_df['Emigrants']\n",
    "\n",
    "# Compare calculated columsn to check if they are the same\n",
    "outer_merged_df['Natural Increase Check'] = outer_merged_df['Calculated Natural Increase'] == outer_merged_df['Natural increase']\n",
    "outer_merged_df['Net Migration Check'] = outer_merged_df['Calculated Net Migration Check'] == outer_merged_df['Net migration']\n",
    "\n",
    "# Display the new columns to verify the calculations and comparisons\n",
    "outer_merged_df.head(25)\n",
    "\n",
    "## Clear to see that the calcs in the data aren't correct so I will use my calcs"
   ]
  },
  {
   "cell_type": "code",
   "execution_count": null,
   "id": "f985163c",
   "metadata": {},
   "outputs": [],
   "source": [
    "# Create new calculated columns to ensure that the data in the dataset is accurate\n",
    "outer_merged_df['Calculated Population Change'] = outer_merged_df['Calculated Natural Increase'] + outer_merged_df['Calculated Net Migration Check']\n",
    "\n",
    "# Compare calculated columsn to check if they are the same\n",
    "outer_merged_df['Population Change Check'] = outer_merged_df['Calculated Population Change'] == outer_merged_df['Population change']\n",
    "\n",
    "# Display the new columns to verify the calculations and comparisons\n",
    "outer_merged_df.head(25)"
   ]
  },
  {
   "cell_type": "code",
   "execution_count": null,
   "id": "f3bd67c5",
   "metadata": {},
   "outputs": [],
   "source": [
    "# Initialize the 'Population' column with the first value as 3703100\n",
    "outer_merged_df.loc[1998, 'Calculated Population'] = 3703100\n",
    "\n",
    "# Calculate the 'Population' for each subsequent year\n",
    "for year in outer_merged_df.index[1:]:\n",
    "    previous_year = year - 1\n",
    "    outer_merged_df.loc[year, 'Calculated Population'] = outer_merged_df.loc[previous_year, 'Calculated Population'] + outer_merged_df.loc[year, 'Calculated Population Change']\n",
    "\n",
    "# Display the first few rows of the updated DataFrame with 'Year' as index\n",
    "outer_merged_df.head()"
   ]
  },
  {
   "cell_type": "code",
   "execution_count": null,
   "id": "3b9fc059",
   "metadata": {},
   "outputs": [],
   "source": [
    "# we don't need columns anymore\n",
    "outer_merged_df.drop(['Natural increase', 'Net migration', 'Both sexes', \n",
    "                       'Natural Increase Check', 'Net Migration Check', \n",
    "                       'Both Sexes Check', 'Population change', \n",
    "                      'Population Change Check', 'Population'], axis = 1, inplace = True)\n",
    "\n",
    "# Rename columns\n",
    "outer_merged_df.rename(columns = {'Calculated Natural Increase': 'Natural Increase', \n",
    "                                   'Calculated Net Migration Check': 'Net Migration',\n",
    "                                  'Calculated Both Sexes': 'Both Sexes', \n",
    "                                  'Calculated Population Change': 'Population Change',\n",
    "                                 'Calculated Population': 'Population',\n",
    "                                 'Annual births': 'Annual Births',\n",
    "                                 'Annual deaths': 'Annual Deaths'}, inplace = True)\n",
    "\n",
    "outer_merged_df"
   ]
  },
  {
   "cell_type": "code",
   "execution_count": null,
   "id": "051912a6",
   "metadata": {},
   "outputs": [],
   "source": []
  },
  {
   "cell_type": "code",
   "execution_count": null,
   "id": "4357b3c6",
   "metadata": {},
   "outputs": [],
   "source": []
  },
  {
   "cell_type": "code",
   "execution_count": null,
   "id": "4c49f12d",
   "metadata": {},
   "outputs": [],
   "source": []
  },
  {
   "cell_type": "code",
   "execution_count": null,
   "id": "c3be9ee6",
   "metadata": {},
   "outputs": [],
   "source": []
  },
  {
   "cell_type": "code",
   "execution_count": null,
   "id": "2d15a4fa",
   "metadata": {},
   "outputs": [],
   "source": []
  }
 ],
 "metadata": {
  "kernelspec": {
   "display_name": "Python 3 (ipykernel)",
   "language": "python",
   "name": "python3"
  },
  "language_info": {
   "codemirror_mode": {
    "name": "ipython",
    "version": 3
   },
   "file_extension": ".py",
   "mimetype": "text/x-python",
   "name": "python",
   "nbconvert_exporter": "python",
   "pygments_lexer": "ipython3",
   "version": "3.9.16"
  }
 },
 "nbformat": 4,
 "nbformat_minor": 5
}
