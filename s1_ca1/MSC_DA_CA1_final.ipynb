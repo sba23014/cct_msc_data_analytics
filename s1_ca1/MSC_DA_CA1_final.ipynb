{
 "cells": [
  {
   "cell_type": "markdown",
   "id": "98dadf6f",
   "metadata": {},
   "source": [
    "# Migration's Role in Shaping Ireland's Population and Economic Outlook ☘️\n",
    "***"
   ]
  },
  {
   "cell_type": "markdown",
   "id": "0352d99f",
   "metadata": {},
   "source": [
    "**Name:** \n",
    "Stephen Hasson\n",
    "\n",
    "**Student No:** \n",
    "sba23014\n",
    "\n",
    "**Student Email:**\n",
    "sba23014@student.cct.ie\n",
    "\n",
    "**Course:** \n",
    "CCT MSC in Data Analytics\n",
    "\n",
    "**Assignment:**\n",
    "MSC_DA_CA1\n",
    "\n",
    "**Year:**\n",
    "Sept-23 Intake\n",
    "\n",
    "**Primary Data Sources:**\n",
    "* https://data.cso.ie/product/pme\n",
    "* https://datacatalog.worldbank.org/search/dataset/0037712/World-Development-Indicators\n",
    "***"
   ]
  },
  {
   "cell_type": "markdown",
   "id": "8c99e146",
   "metadata": {},
   "source": [
    "## Table of Contents\n",
    "\n",
    "### 0. [CRISP-DM Framework Overview](#CRISP-DM-Framework-Overview)\n",
    "### 1. [Business/ Research Understanding Phase](#Business/-Research-Understanding-Phase)\n",
    "### 2. [Data Understanding Phase](#Data-Understanding-Phase)\n",
    "### 3. [Data Preparation Phase](#Data-Preparation-Phase)\n",
    "### 4. [Modelling Phase](#Modelling-Phase)\n",
    "### 5. [Evaluation Phase](#Evaluation-Phase)\n",
    "### 6. [Deplopyment-Phase](#Deployment-Phase)\n",
    "***"
   ]
  },
  {
   "cell_type": "markdown",
   "id": "dd3e2992",
   "metadata": {},
   "source": [
    "###  0. CRISP-DM Framework Overview\n",
    "***\n",
    "CRISP-DM, which stands for Cross-Industry Standard Process for Data Mining, is an industry-proven way to guide your data mining efforts.\n",
    "\n",
    "As a methodology , it includes descriptions of the typical phases of a project, the tasks involved with each phase, and an explanation of the relationships between these tasks.\n",
    "\n",
    "As a process model , CRISP-DM provides an overview of the data mining life cycle."
   ]
  },
  {
   "cell_type": "code",
   "execution_count": 4,
   "id": "0e6ab152",
   "metadata": {},
   "outputs": [
    {
     "ename": "FileNotFoundError",
     "evalue": "[Errno 2] No such file or directory: 'crisp-dm_framework.jpg'",
     "output_type": "error",
     "traceback": [
      "\u001b[1;31m---------------------------------------------------------------------------\u001b[0m",
      "\u001b[1;31mFileNotFoundError\u001b[0m                         Traceback (most recent call last)",
      "Cell \u001b[1;32mIn[4], line 2\u001b[0m\n\u001b[0;32m      1\u001b[0m \u001b[38;5;28;01mfrom\u001b[39;00m \u001b[38;5;21;01mIPython\u001b[39;00m\u001b[38;5;21;01m.\u001b[39;00m\u001b[38;5;21;01mdisplay\u001b[39;00m \u001b[38;5;28;01mimport\u001b[39;00m Image\n\u001b[1;32m----> 2\u001b[0m \u001b[43mImage\u001b[49m\u001b[43m(\u001b[49m\u001b[43mfilename\u001b[49m\u001b[43m \u001b[49m\u001b[38;5;241;43m=\u001b[39;49m\u001b[38;5;124;43mr\u001b[39;49m\u001b[38;5;124;43m'\u001b[39;49m\u001b[38;5;124;43mcrisp-dm_framework.jpg\u001b[39;49m\u001b[38;5;124;43m'\u001b[39;49m\u001b[43m,\u001b[49m\u001b[43m \u001b[49m\u001b[43mwidth\u001b[49m\u001b[43m \u001b[49m\u001b[38;5;241;43m=\u001b[39;49m\u001b[43m \u001b[49m\u001b[38;5;241;43m600\u001b[39;49m\u001b[43m,\u001b[49m\u001b[43m \u001b[49m\u001b[43mheight\u001b[49m\u001b[43m \u001b[49m\u001b[38;5;241;43m=\u001b[39;49m\u001b[43m \u001b[49m\u001b[38;5;241;43m300\u001b[39;49m\u001b[43m)\u001b[49m\n",
      "File \u001b[1;32m~\\anaconda3\\lib\\site-packages\\IPython\\core\\display.py:970\u001b[0m, in \u001b[0;36mImage.__init__\u001b[1;34m(self, data, url, filename, format, embed, width, height, retina, unconfined, metadata, alt)\u001b[0m\n\u001b[0;32m    968\u001b[0m \u001b[38;5;28mself\u001b[39m\u001b[38;5;241m.\u001b[39munconfined \u001b[38;5;241m=\u001b[39m unconfined\n\u001b[0;32m    969\u001b[0m \u001b[38;5;28mself\u001b[39m\u001b[38;5;241m.\u001b[39malt \u001b[38;5;241m=\u001b[39m alt\n\u001b[1;32m--> 970\u001b[0m \u001b[38;5;28;43msuper\u001b[39;49m\u001b[43m(\u001b[49m\u001b[43mImage\u001b[49m\u001b[43m,\u001b[49m\u001b[43m \u001b[49m\u001b[38;5;28;43mself\u001b[39;49m\u001b[43m)\u001b[49m\u001b[38;5;241;43m.\u001b[39;49m\u001b[38;5;21;43m__init__\u001b[39;49m\u001b[43m(\u001b[49m\u001b[43mdata\u001b[49m\u001b[38;5;241;43m=\u001b[39;49m\u001b[43mdata\u001b[49m\u001b[43m,\u001b[49m\u001b[43m \u001b[49m\u001b[43murl\u001b[49m\u001b[38;5;241;43m=\u001b[39;49m\u001b[43murl\u001b[49m\u001b[43m,\u001b[49m\u001b[43m \u001b[49m\u001b[43mfilename\u001b[49m\u001b[38;5;241;43m=\u001b[39;49m\u001b[43mfilename\u001b[49m\u001b[43m,\u001b[49m\n\u001b[0;32m    971\u001b[0m \u001b[43m        \u001b[49m\u001b[43mmetadata\u001b[49m\u001b[38;5;241;43m=\u001b[39;49m\u001b[43mmetadata\u001b[49m\u001b[43m)\u001b[49m\n\u001b[0;32m    973\u001b[0m \u001b[38;5;28;01mif\u001b[39;00m \u001b[38;5;28mself\u001b[39m\u001b[38;5;241m.\u001b[39mwidth \u001b[38;5;129;01mis\u001b[39;00m \u001b[38;5;28;01mNone\u001b[39;00m \u001b[38;5;129;01mand\u001b[39;00m \u001b[38;5;28mself\u001b[39m\u001b[38;5;241m.\u001b[39mmetadata\u001b[38;5;241m.\u001b[39mget(\u001b[38;5;124m'\u001b[39m\u001b[38;5;124mwidth\u001b[39m\u001b[38;5;124m'\u001b[39m, {}):\n\u001b[0;32m    974\u001b[0m     \u001b[38;5;28mself\u001b[39m\u001b[38;5;241m.\u001b[39mwidth \u001b[38;5;241m=\u001b[39m metadata[\u001b[38;5;124m'\u001b[39m\u001b[38;5;124mwidth\u001b[39m\u001b[38;5;124m'\u001b[39m]\n",
      "File \u001b[1;32m~\\anaconda3\\lib\\site-packages\\IPython\\core\\display.py:327\u001b[0m, in \u001b[0;36mDisplayObject.__init__\u001b[1;34m(self, data, url, filename, metadata)\u001b[0m\n\u001b[0;32m    324\u001b[0m \u001b[38;5;28;01melif\u001b[39;00m \u001b[38;5;28mself\u001b[39m\u001b[38;5;241m.\u001b[39mmetadata \u001b[38;5;129;01mis\u001b[39;00m \u001b[38;5;28;01mNone\u001b[39;00m:\n\u001b[0;32m    325\u001b[0m     \u001b[38;5;28mself\u001b[39m\u001b[38;5;241m.\u001b[39mmetadata \u001b[38;5;241m=\u001b[39m {}\n\u001b[1;32m--> 327\u001b[0m \u001b[38;5;28;43mself\u001b[39;49m\u001b[38;5;241;43m.\u001b[39;49m\u001b[43mreload\u001b[49m\u001b[43m(\u001b[49m\u001b[43m)\u001b[49m\n\u001b[0;32m    328\u001b[0m \u001b[38;5;28mself\u001b[39m\u001b[38;5;241m.\u001b[39m_check_data()\n",
      "File \u001b[1;32m~\\anaconda3\\lib\\site-packages\\IPython\\core\\display.py:1005\u001b[0m, in \u001b[0;36mImage.reload\u001b[1;34m(self)\u001b[0m\n\u001b[0;32m   1003\u001b[0m \u001b[38;5;250m\u001b[39m\u001b[38;5;124;03m\"\"\"Reload the raw data from file or URL.\"\"\"\u001b[39;00m\n\u001b[0;32m   1004\u001b[0m \u001b[38;5;28;01mif\u001b[39;00m \u001b[38;5;28mself\u001b[39m\u001b[38;5;241m.\u001b[39membed:\n\u001b[1;32m-> 1005\u001b[0m     \u001b[38;5;28;43msuper\u001b[39;49m\u001b[43m(\u001b[49m\u001b[43mImage\u001b[49m\u001b[43m,\u001b[49m\u001b[38;5;28;43mself\u001b[39;49m\u001b[43m)\u001b[49m\u001b[38;5;241;43m.\u001b[39;49m\u001b[43mreload\u001b[49m\u001b[43m(\u001b[49m\u001b[43m)\u001b[49m\n\u001b[0;32m   1006\u001b[0m     \u001b[38;5;28;01mif\u001b[39;00m \u001b[38;5;28mself\u001b[39m\u001b[38;5;241m.\u001b[39mretina:\n\u001b[0;32m   1007\u001b[0m         \u001b[38;5;28mself\u001b[39m\u001b[38;5;241m.\u001b[39m_retina_shape()\n",
      "File \u001b[1;32m~\\anaconda3\\lib\\site-packages\\IPython\\core\\display.py:353\u001b[0m, in \u001b[0;36mDisplayObject.reload\u001b[1;34m(self)\u001b[0m\n\u001b[0;32m    351\u001b[0m \u001b[38;5;28;01mif\u001b[39;00m \u001b[38;5;28mself\u001b[39m\u001b[38;5;241m.\u001b[39mfilename \u001b[38;5;129;01mis\u001b[39;00m \u001b[38;5;129;01mnot\u001b[39;00m \u001b[38;5;28;01mNone\u001b[39;00m:\n\u001b[0;32m    352\u001b[0m     encoding \u001b[38;5;241m=\u001b[39m \u001b[38;5;28;01mNone\u001b[39;00m \u001b[38;5;28;01mif\u001b[39;00m \u001b[38;5;124m\"\u001b[39m\u001b[38;5;124mb\u001b[39m\u001b[38;5;124m\"\u001b[39m \u001b[38;5;129;01min\u001b[39;00m \u001b[38;5;28mself\u001b[39m\u001b[38;5;241m.\u001b[39m_read_flags \u001b[38;5;28;01melse\u001b[39;00m \u001b[38;5;124m\"\u001b[39m\u001b[38;5;124mutf-8\u001b[39m\u001b[38;5;124m\"\u001b[39m\n\u001b[1;32m--> 353\u001b[0m     \u001b[38;5;28;01mwith\u001b[39;00m \u001b[38;5;28;43mopen\u001b[39;49m\u001b[43m(\u001b[49m\u001b[38;5;28;43mself\u001b[39;49m\u001b[38;5;241;43m.\u001b[39;49m\u001b[43mfilename\u001b[49m\u001b[43m,\u001b[49m\u001b[43m \u001b[49m\u001b[38;5;28;43mself\u001b[39;49m\u001b[38;5;241;43m.\u001b[39;49m\u001b[43m_read_flags\u001b[49m\u001b[43m,\u001b[49m\u001b[43m \u001b[49m\u001b[43mencoding\u001b[49m\u001b[38;5;241;43m=\u001b[39;49m\u001b[43mencoding\u001b[49m\u001b[43m)\u001b[49m \u001b[38;5;28;01mas\u001b[39;00m f:\n\u001b[0;32m    354\u001b[0m         \u001b[38;5;28mself\u001b[39m\u001b[38;5;241m.\u001b[39mdata \u001b[38;5;241m=\u001b[39m f\u001b[38;5;241m.\u001b[39mread()\n\u001b[0;32m    355\u001b[0m \u001b[38;5;28;01melif\u001b[39;00m \u001b[38;5;28mself\u001b[39m\u001b[38;5;241m.\u001b[39murl \u001b[38;5;129;01mis\u001b[39;00m \u001b[38;5;129;01mnot\u001b[39;00m \u001b[38;5;28;01mNone\u001b[39;00m:\n\u001b[0;32m    356\u001b[0m     \u001b[38;5;66;03m# Deferred import\u001b[39;00m\n",
      "\u001b[1;31mFileNotFoundError\u001b[0m: [Errno 2] No such file or directory: 'crisp-dm_framework.jpg'"
     ]
    }
   ],
   "source": [
    "from IPython.display import Image\n",
    "Image(filename =r'crisp-dm_framework.jpg', width = 600, height = 300)"
   ]
  },
  {
   "cell_type": "markdown",
   "id": "d372b65b",
   "metadata": {},
   "source": [
    "### 1. Business/ Research Understanding Phase\n",
    "* **Define project requirements and objectives**\n",
    "    * “Migration's Role in Shaping Ireland's Population and Economic Outlook”\n",
    "    * Objective: To quantify and understand the impact of migration on Ireland's population changes over the past 60 years, as well as its relationship with economic growth.\n",
    "    * Deliverables: A piece of analysis in the form of a report summarising key insights, charts and tables, and a machine learning predictive model.\n",
    "\n",
    "* **Translate objectives into data exploration problem definition**\n",
    "    * Primary objectives\n",
    "        * What is the trend of population in Ireland over a specific time period?\n",
    "        * What is the trend of migration in Ireland over a specific time period?\n",
    "        * What is the trend of natural increase in Ireland over a specific time period?\n",
    "        * What percentage of population change is due to net migration?\n",
    "        * What percentage of population change is due to natural increase?\n",
    "        * What correlation exists between migration and economic growth?\n",
    "        * What has caused changes to trends in population / migration / economic growth over the specific time period?\n",
    "    * Potential secondary objectives\n",
    "        * Where has immigrations & emigrants migration come from and moved to\n",
    "\n",
    "* **Prepare preliminary strategy to meet objectives**\n",
    "    * Data needed: Population, migration, natural increase, economic indicators like GDP\n",
    "    * Tools: Python for data preprocessing, analysis, visualisation, machine learning\n",
    "\n",
    "* **General Programming Requirements:**\n",
    "    * The project must be explored programmatically, this means that you must implement suita-ble Python tools (code and/or libraries) to complete the analysis required. All of this is to be implemented in a Jupyter Notebook. Your codebook should be properly annotated. The pro-ject documentation must include sound justifications and explanation of your code choices (code quality standards should also be applied). [0-50]\n",
    "    * Briefly discuss your use of aspects of various programming paradigms in the development of your project. For example, this may include (but is not limited to) how they influenced your design decisions or how they helped you solve problems. Note that marks may not be awarded if the discussion does not involve your specific project. [0-50]\n",
    "\n",
    "### 2. Data Understanding Phase\n",
    "* **Collect data**\n",
    "    * Obtain population related data from Ireland’s CSO website\n",
    "    * Obtain economic data either from Ireland’s CSO website or other source e.g., World Bank.\n",
    "* **Perform exploratory data analysis (EDA)**\n",
    "    * You must perform appropriate EDA on your dataset, rationalizing and detailing why you chose the specific methods and what insight you gained. [0-20]\n",
    "    * Summarise your dataset clearly, using relevant descriptive statistics and appropriate plots. These should be carefully motivated and justified, and clearly presented. You should critically analyse your findings, in addition to including the necessary Python code, output and plots in the report. You are required to plot at least three graphs. [0-35]\n",
    "    * Appropriate visualizations must be used to engender insight into the dataset and to illustrate your final insights gained in your analysis. [0-20]\n",
    "    * All design and implementation of your visualizations must be justified and detailed in full., making reference to Tufts Principles [0-30]\n",
    "* **Assess data quality**\n",
    "    * Check for missing values, duplicate records, and inconsistent data types.\n",
    "* **Optionally, select interesting subsets**\n",
    "    * Identify if there’s any particular areas which require further investigation, e.g., years that had major immigration / emigration events or inconsistent economic data\n",
    "\n",
    "### 3. Data Preparation Phase\n",
    "* **Prepares for modelling in subsequent phases**\n",
    "    * You must also rationalise justify and detail all the methods used to prepare the data for ML. [0-30]\n",
    "    * Explain which project management framework (CRISP-DM, KDD or SEMMA) is required for a data science project. Discuss and justify with real-life scenarios. Provide an explanation of why you chose a supervised, unsupervised, or semi-supervised machine learning technique for the dataset you used for ML modeling. [0 - 20]\n",
    "* **Select cases and variables appropriate for analysis**\n",
    "    * Choose relevant columns and subsets to include\n",
    "* **Cleanse and prepare data so it is ready for modeling tools**\n",
    "    * Handle missing values by imputation or removal.\n",
    "    * Standardise data formats.\n",
    "    * Summarise your dataset clearly, using relevant descriptive statistics and appropriate plots. These should be carefully motivated and justified, and clearly presented. You should critically analyse your findings, in addition to including the necessary Python code, output and plots in the report. You are required to plot at least three graphs. [0-35]\n",
    "    * Use two discrete distributions (Binomial and/or Poisson) in order to explain/identify some information about your dataset. You must explain your reasoning and the techniques you have used. Visualise your data and explain what happens with the large samples in these cases You must work with Python and your mathematical reasoning must be documented in your report. [0-30]\n",
    "    * Use Normal distribution to explain or identify some information about your dataset [0-20]\n",
    "    * Explain the importance of the distributions used in point 3 and 4 in your analysis. Justify the choice of the variables and explain if the variables used for the discrete distributions could be used as normal distribution in this case. [0-15]\n",
    "    * Appropriate visualizations must be used to engender insight into the dataset and to illustrate your final insights gained in your analysis. [0-20]\n",
    "    * All design and implementation of your visualizations must be justified and detailed in full., making reference to Tufts Principles [0-30]\n",
    "* **Perform transformation of certain variables, if needed**\n",
    "    * Create new variables if required such as ‘GDP per capita’, ‘Percentage Change’ etc.\n",
    "\n",
    "### 4. Modelling Phase\n",
    "* **Select and apply one or more modelling techniques**\n",
    "* Linear regression to establish relationships between migration and economic growth.\n",
    "* Time-series analysis for trend prediction.\n",
    "* Machine learning models have a wide range of uses, including prediction, classification, and clustering. It is advised that you assess several approaches (at least two), choose appropri-ate hyperparameters for the optimal outcomes of Machine Learning models using an ap-proach of hyperparameter tunning, such as GridSearchCV or RandomizedSearchCV. [0 - 30]\n",
    "* **Calibrate model settings to optimize results**\n",
    "* Adjust hyperparameters and validate the model using cross-validation.\n",
    "\n",
    "### 5. Evaluation Phase\n",
    "* **Evaluate one or more models for effectiveness**\n",
    "    * Assess the model using metrics like R-squared, MAE, or RMSE.\n",
    "    * Show the results of two or more ML modeling comparisons in a table or graph format. Re-view and critically examine the machine learning models' performance based on the selected metric for supervised, unsupervised, and semi-supervised approaches. [0 - 30]\n",
    "    * Demonstrate the similarities and differences between your Machine Learning modelling re-sults using the tables or visualizations. Provide a report along with an explanation and inter-pretation of the relevance and effectiveness of your findings. [0 - 20]\n",
    "* **Determine whether defined objectives achieved**\n",
    "    * Verify if the model answers the research questions effectively.\n",
    "* **Make decision regarding data exploration results before deploying to field**\n",
    "    * Assess whether the model accuracy could be deployeded in the field for this particular use case\n",
    "\n",
    "### 6. Deployment Phase\n",
    "* **Make use of models created**\n",
    "    * This will be completed whilst undergoing the analysis.\n",
    "* **Simple deployment example: generate report**\n",
    "    * Complete CA1 analysis accompanying report compiled with insights, charts, and tables into a comprehensive narrative.\n",
    "* **Complex deployment example: implement parallel data exploration effort in another department**\n",
    "    * N/A for the purposes of this analysis.\n",
    "* **In businesses, customer often carries out deployment based on your model**\n",
    "    * N/A for the purposes of this analysis.\n",
    "***"
   ]
  },
  {
   "cell_type": "markdown",
   "id": "aab78dbe",
   "metadata": {},
   "source": [
    "##  1. Data Understanding Phase"
   ]
  },
  {
   "cell_type": "markdown",
   "id": "9f5a2ff9",
   "metadata": {},
   "source": [
    "### Prepares for modelling in subsequent phases"
   ]
  },
  {
   "cell_type": "code",
   "execution_count": null,
   "id": "22fa18c0",
   "metadata": {},
   "outputs": [],
   "source": []
  },
  {
   "cell_type": "code",
   "execution_count": null,
   "id": "1a01b862",
   "metadata": {},
   "outputs": [],
   "source": []
  },
  {
   "cell_type": "code",
   "execution_count": null,
   "id": "bfdbc7be",
   "metadata": {},
   "outputs": [],
   "source": []
  },
  {
   "cell_type": "code",
   "execution_count": null,
   "id": "5c844f63",
   "metadata": {},
   "outputs": [],
   "source": []
  },
  {
   "cell_type": "code",
   "execution_count": null,
   "id": "d0384cc7",
   "metadata": {},
   "outputs": [],
   "source": []
  },
  {
   "cell_type": "markdown",
   "id": "dfce5962",
   "metadata": {},
   "source": [
    "### Select cases and variables appropriate for analysis"
   ]
  },
  {
   "cell_type": "code",
   "execution_count": null,
   "id": "1e662470",
   "metadata": {},
   "outputs": [],
   "source": []
  },
  {
   "cell_type": "code",
   "execution_count": null,
   "id": "6e3f84f7",
   "metadata": {},
   "outputs": [],
   "source": []
  },
  {
   "cell_type": "code",
   "execution_count": null,
   "id": "6a985eeb",
   "metadata": {},
   "outputs": [],
   "source": []
  },
  {
   "cell_type": "code",
   "execution_count": null,
   "id": "28614967",
   "metadata": {},
   "outputs": [],
   "source": []
  },
  {
   "cell_type": "code",
   "execution_count": null,
   "id": "8d603de3",
   "metadata": {},
   "outputs": [],
   "source": []
  },
  {
   "cell_type": "markdown",
   "id": "7b325dd3",
   "metadata": {},
   "source": [
    "### Cleanse and prepare data so it is ready for modeling tools"
   ]
  },
  {
   "cell_type": "code",
   "execution_count": null,
   "id": "5bf71d78",
   "metadata": {},
   "outputs": [],
   "source": []
  },
  {
   "cell_type": "code",
   "execution_count": null,
   "id": "dbb069e1",
   "metadata": {},
   "outputs": [],
   "source": []
  },
  {
   "cell_type": "code",
   "execution_count": null,
   "id": "86a0b60c",
   "metadata": {},
   "outputs": [],
   "source": []
  },
  {
   "cell_type": "code",
   "execution_count": null,
   "id": "f2231b7d",
   "metadata": {},
   "outputs": [],
   "source": []
  },
  {
   "cell_type": "code",
   "execution_count": null,
   "id": "8d6b7cd2",
   "metadata": {},
   "outputs": [],
   "source": []
  },
  {
   "cell_type": "markdown",
   "id": "959ad297",
   "metadata": {},
   "source": [
    "### Perform transformation of certain variables, if needed"
   ]
  },
  {
   "cell_type": "code",
   "execution_count": null,
   "id": "b86d3040",
   "metadata": {},
   "outputs": [],
   "source": []
  },
  {
   "cell_type": "code",
   "execution_count": null,
   "id": "c36e8f62",
   "metadata": {},
   "outputs": [],
   "source": []
  },
  {
   "cell_type": "code",
   "execution_count": null,
   "id": "d87b125a",
   "metadata": {},
   "outputs": [],
   "source": []
  },
  {
   "cell_type": "code",
   "execution_count": null,
   "id": "64db7004",
   "metadata": {},
   "outputs": [],
   "source": []
  },
  {
   "cell_type": "code",
   "execution_count": null,
   "id": "f050cd51",
   "metadata": {},
   "outputs": [],
   "source": []
  },
  {
   "cell_type": "markdown",
   "id": "0da5e017",
   "metadata": {},
   "source": [
    "##  2. Data Preparation Phase"
   ]
  },
  {
   "cell_type": "code",
   "execution_count": null,
   "id": "f8ae5d13",
   "metadata": {},
   "outputs": [],
   "source": []
  },
  {
   "cell_type": "code",
   "execution_count": null,
   "id": "7f787544",
   "metadata": {},
   "outputs": [],
   "source": []
  },
  {
   "cell_type": "code",
   "execution_count": null,
   "id": "89c018ea",
   "metadata": {},
   "outputs": [],
   "source": []
  },
  {
   "cell_type": "code",
   "execution_count": null,
   "id": "c1345414",
   "metadata": {},
   "outputs": [],
   "source": []
  },
  {
   "cell_type": "code",
   "execution_count": null,
   "id": "ecc978c0",
   "metadata": {},
   "outputs": [],
   "source": []
  },
  {
   "cell_type": "markdown",
   "id": "d7aa3ff9",
   "metadata": {},
   "source": [
    "##  3. Modelling Phase"
   ]
  },
  {
   "cell_type": "code",
   "execution_count": null,
   "id": "7dd63a23",
   "metadata": {},
   "outputs": [],
   "source": []
  },
  {
   "cell_type": "code",
   "execution_count": null,
   "id": "59a96389",
   "metadata": {},
   "outputs": [],
   "source": []
  },
  {
   "cell_type": "code",
   "execution_count": null,
   "id": "2203338a",
   "metadata": {},
   "outputs": [],
   "source": []
  },
  {
   "cell_type": "code",
   "execution_count": null,
   "id": "64be03a1",
   "metadata": {},
   "outputs": [],
   "source": []
  },
  {
   "cell_type": "code",
   "execution_count": null,
   "id": "29d23bfa",
   "metadata": {},
   "outputs": [],
   "source": []
  },
  {
   "cell_type": "markdown",
   "id": "9844787e",
   "metadata": {},
   "source": [
    "##  4. Evaluation Phase"
   ]
  },
  {
   "cell_type": "code",
   "execution_count": null,
   "id": "c0497b00",
   "metadata": {},
   "outputs": [],
   "source": []
  },
  {
   "cell_type": "code",
   "execution_count": null,
   "id": "a3e36555",
   "metadata": {},
   "outputs": [],
   "source": []
  },
  {
   "cell_type": "code",
   "execution_count": null,
   "id": "db00c886",
   "metadata": {},
   "outputs": [],
   "source": []
  },
  {
   "cell_type": "code",
   "execution_count": null,
   "id": "d683323a",
   "metadata": {},
   "outputs": [],
   "source": []
  },
  {
   "cell_type": "code",
   "execution_count": null,
   "id": "3f3ff51b",
   "metadata": {},
   "outputs": [],
   "source": []
  },
  {
   "cell_type": "markdown",
   "id": "a2deb4df",
   "metadata": {},
   "source": [
    "##  5. Deployment Phase"
   ]
  },
  {
   "cell_type": "code",
   "execution_count": null,
   "id": "52bc69e8",
   "metadata": {},
   "outputs": [],
   "source": []
  },
  {
   "cell_type": "code",
   "execution_count": null,
   "id": "d59fa9bd",
   "metadata": {},
   "outputs": [],
   "source": []
  },
  {
   "cell_type": "code",
   "execution_count": null,
   "id": "cf69e757",
   "metadata": {},
   "outputs": [],
   "source": []
  },
  {
   "cell_type": "code",
   "execution_count": null,
   "id": "db74938a",
   "metadata": {},
   "outputs": [],
   "source": []
  },
  {
   "cell_type": "code",
   "execution_count": null,
   "id": "7bf359c1",
   "metadata": {},
   "outputs": [],
   "source": []
  }
 ],
 "metadata": {
  "kernelspec": {
   "display_name": "Python 3 (ipykernel)",
   "language": "python",
   "name": "python3"
  },
  "language_info": {
   "codemirror_mode": {
    "name": "ipython",
    "version": 3
   },
   "file_extension": ".py",
   "mimetype": "text/x-python",
   "name": "python",
   "nbconvert_exporter": "python",
   "pygments_lexer": "ipython3",
   "version": "3.9.16"
  }
 },
 "nbformat": 4,
 "nbformat_minor": 5
}
