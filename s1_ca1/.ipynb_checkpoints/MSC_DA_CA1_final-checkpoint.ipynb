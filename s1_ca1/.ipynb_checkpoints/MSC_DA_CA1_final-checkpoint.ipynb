{
 "cells": [
  {
   "cell_type": "markdown",
   "id": "98dadf6f",
   "metadata": {},
   "source": [
    "# Migration's Role in Shaping Ireland's Population and Economic Outlook ☘️\n",
    "***"
   ]
  },
  {
   "cell_type": "markdown",
   "id": "0352d99f",
   "metadata": {},
   "source": [
    "**Name:** \n",
    "Stephen Hasson\n",
    "\n",
    "**Student No:** \n",
    "sba23014\n",
    "\n",
    "**Student Email:**\n",
    "sba23014@student.cct.ie\n",
    "\n",
    "**Course:** \n",
    "CCT MSC in Data Analytics\n",
    "\n",
    "**Assignment:**\n",
    "MSC_DA_CA1\n",
    "\n",
    "**Year:**\n",
    "Sept-23 Intake\n",
    "\n",
    "**Primary Data Sources:**\n",
    "* https://data.cso.ie/product/pme\n",
    "* https://datacatalog.worldbank.org/search/dataset/0037712/World-Development-Indicators\n",
    "***"
   ]
  },
  {
   "cell_type": "markdown",
   "id": "aee4ac6b",
   "metadata": {},
   "source": [
    "## README\n",
    "\n",
    "**Introduction**\n",
    "\n",
    "Welcome to this Jupyter Notebook where we will be conducting analysis regarding the role of migration in shaping Ireland's population and economic outlook. \n",
    "\n",
    "This README serves as a precursor to guide you through how to read and interpret this notebook.\n",
    "\n",
    "**Methodology Annotations**\n",
    "\n",
    "During the analysis, you will encounter coloured blocks that serve to explain the methodology used for certain tasks, calculations, or data manipulations. These coloured blocks are designed to:\n",
    "\n",
    "* Clarify the reasoning behind each step\n",
    "* Explain any assumptions being made\n",
    "* Provide additional resources or references if applicable\n",
    "\n",
    "**How to Navigate**\n",
    "\n",
    "* **Blue Blocks:** Specific methodology or rationale for a particular code cell\n",
    "* **Green Blocks:** General comments or explanations\n",
    "* **Yellow Blocks:** Warnings or limitations about a specific part of the code\n",
    "\n",
    "**Prerequisites**\n",
    "* Basic understanding of Python programming\n",
    "* Basic understanding of Python libraries such as:\n",
    "    * Pandas\n",
    "    * NumPy\n",
    "    * Matplotlib\n",
    "    * Seaborn\n",
    "    * Scikit-learn\n",
    "***"
   ]
  },
  {
   "cell_type": "markdown",
   "id": "9c588eda",
   "metadata": {},
   "source": [
    "<div class=\"alert alert-block alert-success\"> <b>Explanation:</b> The purpose of including this 'README' is to introduce the user to the Jupyter Notebook and provide them with a high level explanation of how to interpret it's contents. In particular I chose the use of coloured code blocks to annotate this analysis as it enhances readability, facilitates easier navigation, and allows for a more intuitive understanding of the methodology employed.</div>"
   ]
  },
  {
   "cell_type": "markdown",
   "id": "8c99e146",
   "metadata": {},
   "source": [
    "## Table of Contents\n",
    "\n",
    "### 0. [CRISP-DM Framework](#crisp-dm_framework)\n",
    "### 1. [Data Understanding Phase](#data_understanding_phase)\n",
    "### 2. [Data Preparation Phase](#data_preparation_phase)\n",
    "### 3. [Modelling Phase](#modelling_phase)\n",
    "### 4. [Evaluation Phase](#evaluation_phase)\n",
    "### 5. [Deplopyment-Phase](#deployment_phase)\n",
    "***"
   ]
  },
  {
   "cell_type": "markdown",
   "id": "dd3e2992",
   "metadata": {},
   "source": [
    "<a id='crisp-dm_framework'></a>\n",
    "###  0. CRISP-DM Framework\n",
    "***\n",
    "*\"CRISP-DM, which stands for Cross-Industry Standard Process for Data Mining, is an industry-proven way to guide your data mining efforts.*\n",
    "\n",
    "*As a methodology , it includes descriptions of the typical phases of a project, the tasks involved with each phase, and an explanation of the relationships between these tasks.*\n",
    "\n",
    "*As a process model , CRISP-DM provides an overview of the data mining life cycle.\"*\n",
    "\n",
    "##### sources: \n",
    "https://www.ibm.com/docs/ko/spss-modeler/18.1.0?topic=dm-crisp-help-overview\n",
    "https://www.ibm.com/docs/en/SS3RA7_18.1.0/modeler_crispdm_ddita/clementine/images/crisp_process.jpg"
   ]
  },
  {
   "cell_type": "code",
   "execution_count": 14,
   "id": "0e6ab152",
   "metadata": {},
   "outputs": [
    {
     "data": {
      "text/html": [
       "<center><img src=\"https://www.ibm.com/docs/en/SS3RA7_18.1.0/modeler_crispdm_ddita/clementine/images/crisp_process.jpg\" width=600 height=300 /></center>"
      ],
      "text/plain": [
       "<IPython.core.display.HTML object>"
      ]
     },
     "metadata": {},
     "output_type": "display_data"
    }
   ],
   "source": [
    "import warnings\n",
    "from IPython.display import display, HTML  # Update the import statement to resolve the deprecation warning\n",
    "\n",
    "# Suppress deprecation warnings only for this block\n",
    "with warnings.catch_warnings():\n",
    "    warnings.filterwarnings(\"ignore\", category=DeprecationWarning)\n",
    "    display(HTML('<center><img src=\"https://www.ibm.com/docs/en/SS3RA7_18.1.0/modeler_crispdm_ddita/clementine/images/crisp_process.jpg\" width=600 height=300 /></center>'))\n",
    "    "
   ]
  },
  {
   "cell_type": "markdown",
   "id": "d372b65b",
   "metadata": {},
   "source": [
    "### Business/ Research Understanding Phase\n",
    "\n",
    "* **Define project requirements and objectives**\n",
    "    * “Migration's Role in Shaping Ireland's Population and Economic Outlook”\n",
    "    * Objective: To quantify and understand the impact of migration on Ireland's population changes over the past 60 years, as well as its relationship with economic growth.\n",
    "    * Deliverables: A piece of analysis in the form of a report summarising key insights, charts and tables, and a machine learning predictive model.\n",
    "\n",
    "* **Translate objectives into data exploration problem definition**\n",
    "    * Primary objectives\n",
    "        * What is the trend of population in Ireland over a specific time period?\n",
    "        * What is the trend of migration in Ireland over a specific time period?\n",
    "        * What is the trend of natural increase in Ireland over a specific time period?\n",
    "        * What percentage of population change is due to net migration?\n",
    "        * What percentage of population change is due to natural increase?\n",
    "        * What correlation exists between migration and economic growth?\n",
    "        * What has caused changes to trends in population / migration / economic growth over the specific time period?\n",
    "    * Potential secondary objectives\n",
    "        * Where has immigrations & emigrants migration come from and moved to\n",
    "\n",
    "* **Prepare preliminary strategy to meet objectives**\n",
    "    * Data needed: Population, migration, natural increase, economic indicators like GDP\n",
    "    * Tools: Python for data preprocessing, analysis, visualisation, machine learning\n",
    "\n",
    "* **General Programming Requirements:**\n",
    "    * The project must be explored programmatically, this means that you must implement suita-ble Python tools (code and/or libraries) to complete the analysis required. All of this is to be implemented in a Jupyter Notebook. Your codebook should be properly annotated. The pro-ject documentation must include sound justifications and explanation of your code choices (code quality standards should also be applied). [0-50]\n",
    "    * Briefly discuss your use of aspects of various programming paradigms in the development of your project. For example, this may include (but is not limited to) how they influenced your design decisions or how they helped you solve problems. Note that marks may not be awarded if the discussion does not involve your specific project. [0-50]\n",
    "\n",
    "### Data Understanding Phase**\n",
    "* **Collect data**\n",
    "    * Obtain population related data from Ireland’s CSO website\n",
    "    * Obtain economic data either from Ireland’s CSO website or other source e.g., World Bank.\n",
    "* **Perform exploratory data analysis (EDA)**\n",
    "    * You must perform appropriate EDA on your dataset, rationalizing and detailing why you chose the specific methods and what insight you gained. [0-20]\n",
    "    * Summarise your dataset clearly, using relevant descriptive statistics and appropriate plots. These should be carefully motivated and justified, and clearly presented. You should critically analyse your findings, in addition to including the necessary Python code, output and plots in the report. You are required to plot at least three graphs. [0-35]\n",
    "    * Appropriate visualizations must be used to engender insight into the dataset and to illustrate your final insights gained in your analysis. [0-20]\n",
    "    * All design and implementation of your visualizations must be justified and detailed in full., making reference to Tufts Principles [0-30]\n",
    "* **Assess data quality**\n",
    "    * Check for missing values, duplicate records, and inconsistent data types.\n",
    "* **Optionally, select interesting subsets**\n",
    "    * Identify if there’s any particular areas which require further investigation, e.g., years that had major immigration / emigration events or inconsistent economic data\n",
    "\n",
    "### Data Preparation Phase\n",
    "* **Prepares for modelling in subsequent phases**\n",
    "    * You must also rationalise justify and detail all the methods used to prepare the data for ML. [0-30]\n",
    "    * Explain which project management framework (CRISP-DM, KDD or SEMMA) is required for a data science project. Discuss and justify with real-life scenarios. Provide an explanation of why you chose a supervised, unsupervised, or semi-supervised machine learning technique for the dataset you used for ML modeling. [0 - 20]\n",
    "* **Select cases and variables appropriate for analysis**\n",
    "    * Choose relevant columns and subsets to include\n",
    "* **Cleanse and prepare data so it is ready for modeling tools**\n",
    "    * Handle missing values by imputation or removal.\n",
    "    * Standardise data formats.\n",
    "    * Summarise your dataset clearly, using relevant descriptive statistics and appropriate plots. These should be carefully motivated and justified, and clearly presented. You should critically analyse your findings, in addition to including the necessary Python code, output and plots in the report. You are required to plot at least three graphs. [0-35]\n",
    "    * Use two discrete distributions (Binomial and/or Poisson) in order to explain/identify some information about your dataset. You must explain your reasoning and the techniques you have used. Visualise your data and explain what happens with the large samples in these cases You must work with Python and your mathematical reasoning must be documented in your report. [0-30]\n",
    "    * Use Normal distribution to explain or identify some information about your dataset [0-20]\n",
    "    * Explain the importance of the distributions used in point 3 and 4 in your analysis. Justify the choice of the variables and explain if the variables used for the discrete distributions could be used as normal distribution in this case. [0-15]\n",
    "    * Appropriate visualizations must be used to engender insight into the dataset and to illustrate your final insights gained in your analysis. [0-20]\n",
    "    * All design and implementation of your visualizations must be justified and detailed in full., making reference to Tufts Principles [0-30]\n",
    "* **Perform transformation of certain variables, if needed**\n",
    "    * Create new variables if required such as ‘GDP per capita’, ‘Percentage Change’ etc.\n",
    "\n",
    "### Modelling Phase\n",
    "* **Select and apply one or more modelling techniques**\n",
    "* Linear regression to establish relationships between migration and economic growth.\n",
    "* Time-series analysis for trend prediction.\n",
    "* Machine learning models have a wide range of uses, including prediction, classification, and clustering. It is advised that you assess several approaches (at least two), choose appropri-ate hyperparameters for the optimal outcomes of Machine Learning models using an ap-proach of hyperparameter tunning, such as GridSearchCV or RandomizedSearchCV. [0 - 30]\n",
    "* **Calibrate model settings to optimize results**\n",
    "* Adjust hyperparameters and validate the model using cross-validation.\n",
    "\n",
    "### Evaluation Phase\n",
    "* **Evaluate one or more models for effectiveness**\n",
    "    * Assess the model using metrics like R-squared, MAE, or RMSE.\n",
    "    * Show the results of two or more ML modeling comparisons in a table or graph format. Re-view and critically examine the machine learning models' performance based on the selected metric for supervised, unsupervised, and semi-supervised approaches. [0 - 30]\n",
    "    * Demonstrate the similarities and differences between your Machine Learning modelling re-sults using the tables or visualizations. Provide a report along with an explanation and inter-pretation of the relevance and effectiveness of your findings. [0 - 20]\n",
    "* **Determine whether defined objectives achieved**\n",
    "    * Verify if the model answers the research questions effectively.\n",
    "* **Make decision regarding data exploration results before deploying to field**\n",
    "    * Assess whether the model accuracy could be deployeded in the field for this particular use case\n",
    "\n",
    "### Deployment Phase\n",
    "* **Make use of models created**\n",
    "    * This will be completed whilst undergoing the analysis.\n",
    "* **Simple deployment example: generate report**\n",
    "    * Complete CA1 analysis accompanying report compiled with insights, charts, and tables into a comprehensive narrative.\n",
    "* **Complex deployment example: implement parallel data exploration effort in another department**\n",
    "    * N/A for the purposes of this analysis.\n",
    "* **In businesses, customer often carries out deployment based on your model**\n",
    "    * N/A for the purposes of this analysis.\n",
    "***"
   ]
  },
  {
   "cell_type": "markdown",
   "id": "975df57a",
   "metadata": {},
   "source": [
    "## 1. Business/ Research Understanding Phase"
   ]
  },
  {
   "cell_type": "markdown",
   "id": "189df165",
   "metadata": {},
   "source": [
    "* **Define project requirements and objectives**\n",
    "    * “Migration's Role in Shaping Ireland's Population and Economic Outlook”\n",
    "    * Objective: To quantify and understand the impact of migration on Ireland's population changes over the past 60 years, as well as its relationship with economic growth.\n",
    "    * Deliverables: A piece of analysis in the form of a report summarising key insights, charts and tables, and a machine learning predictive model.\n",
    "\n",
    "* **Translate objectives into data exploration problem definition**\n",
    "    * Primary objectives\n",
    "        * What is the trend of population in Ireland over a specific time period?\n",
    "        * What is the trend of migration in Ireland over a specific time period?\n",
    "        * What is the trend of natural increase in Ireland over a specific time period?\n",
    "        * What percentage of population change is due to net migration?\n",
    "        * What percentage of population change is due to natural increase?\n",
    "        * What correlation exists between migration and economic growth?\n",
    "        * What has caused changes to trends in population / migration / economic growth over the specific time period?\n",
    "    * Potential secondary objectives\n",
    "        * Where has immigrations & emigrants migration come from and moved to\n",
    "\n",
    "* **Prepare preliminary strategy to meet objectives**\n",
    "    * Data needed: Population, migration, natural increase, economic indicators like GDP\n",
    "    * Tools: Python for data preprocessing, analysis, visualisation, machine learning\n",
    "\n",
    "* **General Programming Requirements:**\n",
    "    * The project must be explored programmatically, this means that you must implement suita-ble Python tools (code and/or libraries) to complete the analysis required. All of this is to be implemented in a Jupyter Notebook. Your codebook should be properly annotated. The pro-ject documentation must include sound justifications and explanation of your code choices (code quality standards should also be applied). [0-50]\n",
    "    * Briefly discuss your use of aspects of various programming paradigms in the development of your project. For example, this may include (but is not limited to) how they influenced your design decisions or how they helped you solve problems. Note that marks may not be awarded if the discussion does not involve your specific project. [0-50]\n",
    "***"
   ]
  },
  {
   "cell_type": "markdown",
   "id": "aab78dbe",
   "metadata": {},
   "source": [
    "<a id='data_understanding_phase'></a>\n",
    "##  1. Data Understanding Phase"
   ]
  },
  {
   "cell_type": "markdown",
   "id": "9f5a2ff9",
   "metadata": {},
   "source": [
    "### Prepares for modelling in subsequent phases"
   ]
  },
  {
   "cell_type": "code",
   "execution_count": null,
   "id": "22fa18c0",
   "metadata": {},
   "outputs": [],
   "source": []
  },
  {
   "cell_type": "code",
   "execution_count": null,
   "id": "1a01b862",
   "metadata": {},
   "outputs": [],
   "source": []
  },
  {
   "cell_type": "code",
   "execution_count": null,
   "id": "bfdbc7be",
   "metadata": {},
   "outputs": [],
   "source": []
  },
  {
   "cell_type": "code",
   "execution_count": null,
   "id": "5c844f63",
   "metadata": {},
   "outputs": [],
   "source": []
  },
  {
   "cell_type": "code",
   "execution_count": null,
   "id": "d0384cc7",
   "metadata": {},
   "outputs": [],
   "source": []
  },
  {
   "cell_type": "markdown",
   "id": "dfce5962",
   "metadata": {},
   "source": [
    "### Select cases and variables appropriate for analysis"
   ]
  },
  {
   "cell_type": "code",
   "execution_count": null,
   "id": "1e662470",
   "metadata": {},
   "outputs": [],
   "source": []
  },
  {
   "cell_type": "code",
   "execution_count": null,
   "id": "6e3f84f7",
   "metadata": {},
   "outputs": [],
   "source": []
  },
  {
   "cell_type": "code",
   "execution_count": null,
   "id": "6a985eeb",
   "metadata": {},
   "outputs": [],
   "source": []
  },
  {
   "cell_type": "code",
   "execution_count": null,
   "id": "28614967",
   "metadata": {},
   "outputs": [],
   "source": []
  },
  {
   "cell_type": "code",
   "execution_count": null,
   "id": "8d603de3",
   "metadata": {},
   "outputs": [],
   "source": []
  },
  {
   "cell_type": "markdown",
   "id": "7b325dd3",
   "metadata": {},
   "source": [
    "### Cleanse and prepare data so it is ready for modeling tools"
   ]
  },
  {
   "cell_type": "code",
   "execution_count": null,
   "id": "5bf71d78",
   "metadata": {},
   "outputs": [],
   "source": []
  },
  {
   "cell_type": "code",
   "execution_count": null,
   "id": "dbb069e1",
   "metadata": {},
   "outputs": [],
   "source": []
  },
  {
   "cell_type": "code",
   "execution_count": null,
   "id": "86a0b60c",
   "metadata": {},
   "outputs": [],
   "source": []
  },
  {
   "cell_type": "code",
   "execution_count": null,
   "id": "f2231b7d",
   "metadata": {},
   "outputs": [],
   "source": []
  },
  {
   "cell_type": "code",
   "execution_count": null,
   "id": "8d6b7cd2",
   "metadata": {},
   "outputs": [],
   "source": []
  },
  {
   "cell_type": "markdown",
   "id": "959ad297",
   "metadata": {},
   "source": [
    "### Perform transformation of certain variables, if needed"
   ]
  },
  {
   "cell_type": "code",
   "execution_count": null,
   "id": "b86d3040",
   "metadata": {},
   "outputs": [],
   "source": []
  },
  {
   "cell_type": "code",
   "execution_count": null,
   "id": "c36e8f62",
   "metadata": {},
   "outputs": [],
   "source": []
  },
  {
   "cell_type": "code",
   "execution_count": null,
   "id": "d87b125a",
   "metadata": {},
   "outputs": [],
   "source": []
  },
  {
   "cell_type": "code",
   "execution_count": null,
   "id": "64db7004",
   "metadata": {},
   "outputs": [],
   "source": []
  },
  {
   "cell_type": "code",
   "execution_count": null,
   "id": "f050cd51",
   "metadata": {},
   "outputs": [],
   "source": []
  },
  {
   "cell_type": "markdown",
   "id": "0da5e017",
   "metadata": {},
   "source": [
    "<a id='data_preparation_phase'></a>\n",
    "##  2. Data Preparation Phase"
   ]
  },
  {
   "cell_type": "code",
   "execution_count": null,
   "id": "f8ae5d13",
   "metadata": {},
   "outputs": [],
   "source": []
  },
  {
   "cell_type": "code",
   "execution_count": null,
   "id": "7f787544",
   "metadata": {},
   "outputs": [],
   "source": []
  },
  {
   "cell_type": "code",
   "execution_count": null,
   "id": "89c018ea",
   "metadata": {},
   "outputs": [],
   "source": []
  },
  {
   "cell_type": "code",
   "execution_count": null,
   "id": "c1345414",
   "metadata": {},
   "outputs": [],
   "source": []
  },
  {
   "cell_type": "code",
   "execution_count": null,
   "id": "ecc978c0",
   "metadata": {},
   "outputs": [],
   "source": []
  },
  {
   "cell_type": "markdown",
   "id": "d7aa3ff9",
   "metadata": {},
   "source": [
    "<a id='modelling_phase'></a>\n",
    "##  3. Modelling Phase"
   ]
  },
  {
   "cell_type": "code",
   "execution_count": null,
   "id": "7dd63a23",
   "metadata": {},
   "outputs": [],
   "source": []
  },
  {
   "cell_type": "code",
   "execution_count": null,
   "id": "59a96389",
   "metadata": {},
   "outputs": [],
   "source": []
  },
  {
   "cell_type": "code",
   "execution_count": null,
   "id": "2203338a",
   "metadata": {},
   "outputs": [],
   "source": []
  },
  {
   "cell_type": "code",
   "execution_count": null,
   "id": "64be03a1",
   "metadata": {},
   "outputs": [],
   "source": []
  },
  {
   "cell_type": "code",
   "execution_count": null,
   "id": "29d23bfa",
   "metadata": {},
   "outputs": [],
   "source": []
  },
  {
   "cell_type": "markdown",
   "id": "9844787e",
   "metadata": {},
   "source": [
    "<a id='evaluation_phase'></a>\n",
    "##  4. Evaluation Phase"
   ]
  },
  {
   "cell_type": "code",
   "execution_count": null,
   "id": "c0497b00",
   "metadata": {},
   "outputs": [],
   "source": []
  },
  {
   "cell_type": "code",
   "execution_count": null,
   "id": "a3e36555",
   "metadata": {},
   "outputs": [],
   "source": []
  },
  {
   "cell_type": "code",
   "execution_count": null,
   "id": "db00c886",
   "metadata": {},
   "outputs": [],
   "source": []
  },
  {
   "cell_type": "code",
   "execution_count": null,
   "id": "d683323a",
   "metadata": {},
   "outputs": [],
   "source": []
  },
  {
   "cell_type": "code",
   "execution_count": null,
   "id": "3f3ff51b",
   "metadata": {},
   "outputs": [],
   "source": []
  },
  {
   "cell_type": "markdown",
   "id": "a2deb4df",
   "metadata": {},
   "source": [
    "<a id='deployment_phase'></a>\n",
    "##  5. Deployment Phase"
   ]
  },
  {
   "cell_type": "code",
   "execution_count": null,
   "id": "52bc69e8",
   "metadata": {},
   "outputs": [],
   "source": []
  },
  {
   "cell_type": "code",
   "execution_count": null,
   "id": "d59fa9bd",
   "metadata": {},
   "outputs": [],
   "source": []
  },
  {
   "cell_type": "code",
   "execution_count": null,
   "id": "cf69e757",
   "metadata": {},
   "outputs": [],
   "source": []
  },
  {
   "cell_type": "code",
   "execution_count": null,
   "id": "db74938a",
   "metadata": {},
   "outputs": [],
   "source": []
  },
  {
   "cell_type": "code",
   "execution_count": null,
   "id": "7bf359c1",
   "metadata": {},
   "outputs": [],
   "source": []
  }
 ],
 "metadata": {
  "kernelspec": {
   "display_name": "Python 3 (ipykernel)",
   "language": "python",
   "name": "python3"
  },
  "language_info": {
   "codemirror_mode": {
    "name": "ipython",
    "version": 3
   },
   "file_extension": ".py",
   "mimetype": "text/x-python",
   "name": "python",
   "nbconvert_exporter": "python",
   "pygments_lexer": "ipython3",
   "version": "3.9.16"
  }
 },
 "nbformat": 4,
 "nbformat_minor": 5
}
