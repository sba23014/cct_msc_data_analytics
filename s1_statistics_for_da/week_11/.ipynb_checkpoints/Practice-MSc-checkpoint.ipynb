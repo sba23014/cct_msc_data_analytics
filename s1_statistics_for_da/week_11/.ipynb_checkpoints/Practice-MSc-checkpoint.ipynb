{
 "cells": [
  {
   "cell_type": "code",
   "execution_count": 1,
   "id": "b72817ee",
   "metadata": {},
   "outputs": [],
   "source": [
    "#Importing the libraries\n",
    "\n",
    "import pandas as pd\n",
    "from scipy import stats\n",
    "import numpy as np\n",
    "import matplotlib.pyplot as plt\n",
    "import statsmodels.api as sm\n",
    "from statsmodels.formula.api import ols\n",
    "import scipy as scipy"
   ]
  },
  {
   "cell_type": "code",
   "execution_count": 2,
   "id": "c3bb4698",
   "metadata": {},
   "outputs": [
    {
     "data": {
      "text/html": [
       "<div>\n",
       "<style scoped>\n",
       "    .dataframe tbody tr th:only-of-type {\n",
       "        vertical-align: middle;\n",
       "    }\n",
       "\n",
       "    .dataframe tbody tr th {\n",
       "        vertical-align: top;\n",
       "    }\n",
       "\n",
       "    .dataframe thead th {\n",
       "        text-align: right;\n",
       "    }\n",
       "</style>\n",
       "<table border=\"1\" class=\"dataframe\">\n",
       "  <thead>\n",
       "    <tr style=\"text-align: right;\">\n",
       "      <th></th>\n",
       "      <th>LungCap</th>\n",
       "      <th>Age</th>\n",
       "      <th>Height</th>\n",
       "      <th>Smoke</th>\n",
       "      <th>Gender</th>\n",
       "    </tr>\n",
       "  </thead>\n",
       "  <tbody>\n",
       "    <tr>\n",
       "      <th>0</th>\n",
       "      <td>6.475</td>\n",
       "      <td>6</td>\n",
       "      <td>62.1</td>\n",
       "      <td>no</td>\n",
       "      <td>male</td>\n",
       "    </tr>\n",
       "    <tr>\n",
       "      <th>1</th>\n",
       "      <td>10.125</td>\n",
       "      <td>18</td>\n",
       "      <td>74.7</td>\n",
       "      <td>yes</td>\n",
       "      <td>female</td>\n",
       "    </tr>\n",
       "    <tr>\n",
       "      <th>2</th>\n",
       "      <td>9.550</td>\n",
       "      <td>16</td>\n",
       "      <td>69.7</td>\n",
       "      <td>no</td>\n",
       "      <td>female</td>\n",
       "    </tr>\n",
       "    <tr>\n",
       "      <th>3</th>\n",
       "      <td>11.125</td>\n",
       "      <td>14</td>\n",
       "      <td>71.0</td>\n",
       "      <td>no</td>\n",
       "      <td>male</td>\n",
       "    </tr>\n",
       "    <tr>\n",
       "      <th>4</th>\n",
       "      <td>4.800</td>\n",
       "      <td>5</td>\n",
       "      <td>56.9</td>\n",
       "      <td>no</td>\n",
       "      <td>male</td>\n",
       "    </tr>\n",
       "  </tbody>\n",
       "</table>\n",
       "</div>"
      ],
      "text/plain": [
       "   LungCap  Age  Height Smoke  Gender\n",
       "0    6.475    6    62.1    no    male\n",
       "1   10.125   18    74.7   yes  female\n",
       "2    9.550   16    69.7    no  female\n",
       "3   11.125   14    71.0    no    male\n",
       "4    4.800    5    56.9    no    male"
      ]
     },
     "execution_count": 2,
     "metadata": {},
     "output_type": "execute_result"
    }
   ],
   "source": [
    "# Importing the dataset\n",
    "dataset = pd.read_csv('C:/Users/miant/Desktop/Python/LungCapData.csv')\n",
    "dataset.head()"
   ]
  },
  {
   "cell_type": "code",
   "execution_count": 3,
   "id": "93ea5786",
   "metadata": {},
   "outputs": [
    {
     "data": {
      "text/plain": [
       "<Figure size 432x288 with 0 Axes>"
      ]
     },
     "execution_count": 3,
     "metadata": {},
     "output_type": "execute_result"
    },
    {
     "data": {
      "image/png": "[encoded data removed]",
      "text/plain": [
       "<Figure size 432x288 with 1 Axes>"
      ]
     },
     "metadata": {
      "needs_background": "light"
     },
     "output_type": "display_data"
    },
    {
     "data": {
      "text/plain": [
       "<Figure size 432x288 with 0 Axes>"
      ]
     },
     "metadata": {},
     "output_type": "display_data"
    }
   ],
   "source": [
    "#Step 1: Checking normality of the data to decide what test to use\n",
    "#QQ-plot\n",
    "\n",
    "stats.probplot(dataset.LungCap, plot = plt)\n",
    "plt.figure()"
   ]
  },
  {
   "cell_type": "code",
   "execution_count": 4,
   "id": "aa4dd7cc",
   "metadata": {},
   "outputs": [
    {
     "data": {
      "text/plain": [
       "ShapiroResult(statistic=0.9927485585212708, pvalue=0.07271353155374527)"
      ]
     },
     "execution_count": 4,
     "metadata": {},
     "output_type": "execute_result"
    }
   ],
   "source": [
    "#We perform and verify Shapiro Test to check normality for males\n",
    "\n",
    "#H0: data comes from normal distribution\n",
    "#H1: data does not come from normal distribution\n",
    "\n",
    "stats.shapiro(dataset.LungCap[dataset.Gender==\"male\"])"
   ]
  },
  {
   "cell_type": "markdown",
   "id": "c35d1a4c",
   "metadata": {},
   "source": [
    "As p-value is greater than alpha, we accept the null hypothesis, and thus, the data comes from normal distribution"
   ]
  },
  {
   "cell_type": "code",
   "execution_count": 5,
   "id": "1c407af0",
   "metadata": {},
   "outputs": [
    {
     "data": {
      "text/plain": [
       "ShapiroResult(statistic=0.9866778254508972, pvalue=0.0022451209370046854)"
      ]
     },
     "execution_count": 5,
     "metadata": {},
     "output_type": "execute_result"
    }
   ],
   "source": [
    "#We perform and verify Shapiro Test to check normality for females\n",
    "\n",
    "#H0: data comes from normal distribution\n",
    "#H1: data does not come from normal distribution\n",
    "\n",
    "stats.shapiro(dataset.LungCap[dataset.Gender==\"female\"])"
   ]
  },
  {
   "cell_type": "markdown",
   "id": "f76e83fd",
   "metadata": {},
   "source": [
    "As p-value is less than alpha, we cannot assume normality of the data in this case. Then, we need to look for a non-parametric test"
   ]
  },
  {
   "cell_type": "markdown",
   "id": "9c794fe5",
   "metadata": {},
   "source": [
    "We will use U-Mann Whitmann to compare these two variables (males and females)"
   ]
  },
  {
   "cell_type": "code",
   "execution_count": 6,
   "id": "5da6c156",
   "metadata": {},
   "outputs": [],
   "source": [
    "#Step 1: We state the hypothesis\n",
    "\n",
    "#H0: there is no difference in the Lung capacity between males and females\n",
    "#H1: there is a difference in the lung capacity between males and females\n",
    "\n",
    "#Step: We create the variables\n",
    "\n",
    "M = dataset.LungCap[dataset.Gender==\"male\"]\n",
    "F = dataset.LungCap[dataset.Gender==\"female\"]"
   ]
  },
  {
   "cell_type": "code",
   "execution_count": 7,
   "id": "6f28c822",
   "metadata": {},
   "outputs": [],
   "source": [
    "from scipy.stats import mannwhitneyu"
   ]
  },
  {
   "cell_type": "code",
   "execution_count": 8,
   "id": "4f63f9b5",
   "metadata": {},
   "outputs": [
    {
     "name": "stdout",
     "output_type": "stream",
     "text": [
      "Statistical Test: 53624.0\n",
      "p-value: 9.3192678331822e-06\n"
     ]
    }
   ],
   "source": [
    "stat, p = mannwhitneyu(M, F)\n",
    "\n",
    "print('Statistical Test:', stat)\n",
    "print(\"p-value:\", p)"
   ]
  },
  {
   "cell_type": "markdown",
   "id": "383f3764",
   "metadata": {},
   "source": [
    "Result: p-value < 0.05 --> I reject H0"
   ]
  },
  {
   "cell_type": "markdown",
   "id": "84278d4f",
   "metadata": {},
   "source": [
    "Interpretation: At a 5% significance level, there is no evidence to say that the lung capacity is the same for males and females"
   ]
  },
  {
   "cell_type": "markdown",
   "id": "e643c463",
   "metadata": {},
   "source": [
    "Let's say that we want to get the real average in terms of lung capacity for males at a 90% confidence level"
   ]
  },
  {
   "cell_type": "code",
   "execution_count": 10,
   "id": "3661dbc9",
   "metadata": {},
   "outputs": [
    {
     "data": {
      "text/plain": [
       "0       6.475\n",
       "3      11.125\n",
       "4       4.800\n",
       "6       4.950\n",
       "7       7.325\n",
       "        ...  \n",
       "716     7.075\n",
       "718     7.175\n",
       "719     7.325\n",
       "721     9.050\n",
       "724     7.100\n",
       "Name: LungCap, Length: 367, dtype: float64"
      ]
     },
     "execution_count": 10,
     "metadata": {},
     "output_type": "execute_result"
    }
   ],
   "source": [
    "#Step 1: I define my variable\n",
    "\n",
    "M\n"
   ]
  },
  {
   "cell_type": "code",
   "execution_count": 11,
   "id": "9cacab62",
   "metadata": {},
   "outputs": [],
   "source": [
    "#We create the confidence interval\n",
    "\n",
    "import scipy.stats as st #library for CI Student's T"
   ]
  },
  {
   "cell_type": "code",
   "execution_count": 14,
   "id": "f5678b5b",
   "metadata": {},
   "outputs": [
    {
     "data": {
      "text/plain": [
       "(8.078363200359638, 8.540301649776595)"
      ]
     },
     "execution_count": 14,
     "metadata": {},
     "output_type": "execute_result"
    }
   ],
   "source": [
    "st.t.interval(alpha = 0.90, df = len(M) - 1, loc = np.mean(M),scale = st.sem(M))"
   ]
  },
  {
   "cell_type": "markdown",
   "id": "971e09f7",
   "metadata": {},
   "source": [
    "At a 90% confidence we can say that the average of the lung capacity of the males is between 8.07 and 8.54 (unit of measurement)"
   ]
  },
  {
   "cell_type": "code",
   "execution_count": null,
   "id": "4cfbdd15",
   "metadata": {},
   "outputs": [],
   "source": []
  }
 ],
 "metadata": {
  "kernelspec": {
   "display_name": "Python 3 (ipykernel)",
   "language": "python",
   "name": "python3"
  },
  "language_info": {
   "codemirror_mode": {
    "name": "ipython",
    "version": 3
   },
   "file_extension": ".py",
   "mimetype": "text/x-python",
   "name": "python",
   "nbconvert_exporter": "python",
   "pygments_lexer": "ipython3",
   "version": "3.9.16"
  }
 },
 "nbformat": 4,
 "nbformat_minor": 5
}
