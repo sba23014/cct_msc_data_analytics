{
 "cells": [
  {
   "cell_type": "code",
   "execution_count": 1,
   "id": "c0adbef4",
   "metadata": {},
   "outputs": [],
   "source": [
    "##IMPORTING LIBRARIES\n",
    "import pandas as pd\n",
    "import statistics as stats\n",
    "import numpy as np\n",
    "import matplotlib.pyplot as plt\n",
    "import seaborn as sns"
   ]
  },
  {
   "cell_type": "code",
   "execution_count": 2,
   "id": "493759f7",
   "metadata": {},
   "outputs": [
    {
     "data": {
      "text/html": [
       "<div>\n",
       "<style scoped>\n",
       "    .dataframe tbody tr th:only-of-type {\n",
       "        vertical-align: middle;\n",
       "    }\n",
       "\n",
       "    .dataframe tbody tr th {\n",
       "        vertical-align: top;\n",
       "    }\n",
       "\n",
       "    .dataframe thead th {\n",
       "        text-align: right;\n",
       "    }\n",
       "</style>\n",
       "<table border=\"1\" class=\"dataframe\">\n",
       "  <thead>\n",
       "    <tr style=\"text-align: right;\">\n",
       "      <th></th>\n",
       "      <th>R&amp;D Spend</th>\n",
       "      <th>Administration</th>\n",
       "      <th>Marketing Spend</th>\n",
       "      <th>State</th>\n",
       "      <th>Profit</th>\n",
       "    </tr>\n",
       "  </thead>\n",
       "  <tbody>\n",
       "    <tr>\n",
       "      <th>0</th>\n",
       "      <td>165349.20</td>\n",
       "      <td>136897.80</td>\n",
       "      <td>471784.10</td>\n",
       "      <td>New York</td>\n",
       "      <td>192261.83</td>\n",
       "    </tr>\n",
       "    <tr>\n",
       "      <th>1</th>\n",
       "      <td>162597.70</td>\n",
       "      <td>151377.59</td>\n",
       "      <td>443898.53</td>\n",
       "      <td>California</td>\n",
       "      <td>191792.06</td>\n",
       "    </tr>\n",
       "    <tr>\n",
       "      <th>2</th>\n",
       "      <td>153441.51</td>\n",
       "      <td>101145.55</td>\n",
       "      <td>407934.54</td>\n",
       "      <td>Florida</td>\n",
       "      <td>191050.39</td>\n",
       "    </tr>\n",
       "    <tr>\n",
       "      <th>3</th>\n",
       "      <td>144372.41</td>\n",
       "      <td>118671.85</td>\n",
       "      <td>383199.62</td>\n",
       "      <td>New York</td>\n",
       "      <td>182901.99</td>\n",
       "    </tr>\n",
       "    <tr>\n",
       "      <th>4</th>\n",
       "      <td>142107.34</td>\n",
       "      <td>91391.77</td>\n",
       "      <td>366168.42</td>\n",
       "      <td>Florida</td>\n",
       "      <td>166187.94</td>\n",
       "    </tr>\n",
       "  </tbody>\n",
       "</table>\n",
       "</div>"
      ],
      "text/plain": [
       "   R&D Spend  Administration  Marketing Spend       State     Profit\n",
       "0  165349.20       136897.80        471784.10    New York  192261.83\n",
       "1  162597.70       151377.59        443898.53  California  191792.06\n",
       "2  153441.51       101145.55        407934.54     Florida  191050.39\n",
       "3  144372.41       118671.85        383199.62    New York  182901.99\n",
       "4  142107.34        91391.77        366168.42     Florida  166187.94"
      ]
     },
     "execution_count": 2,
     "metadata": {},
     "output_type": "execute_result"
    }
   ],
   "source": [
    "\n",
    "#IMPORTING DATASET\n",
    "# Importing the dataset\n",
    "dataset = pd.read_csv('C:/Users/miant/Desktop/Python/50_Startups.csv')\n",
    "\n",
    "dataset.head()"
   ]
  },
  {
   "cell_type": "markdown",
   "id": "8f8c84c4",
   "metadata": {},
   "source": [
    "Let's say that we want to verify whether the expenses are at the same level for R&D, Adm and Marketing. We will use 5% significance level"
   ]
  },
  {
   "cell_type": "code",
   "execution_count": 3,
   "id": "2a178bcd",
   "metadata": {},
   "outputs": [],
   "source": [
    "#Step 1: Hypothesis\n",
    "\n",
    "#H0: there is no difference in the level of expenses between the three departments\n",
    "#H1: there is at least one department that presents a different level of expenses\n",
    "\n",
    "#Step 2: we create the variables\n",
    "\n",
    "R = dataset['R&D Spend']\n",
    "A = dataset['Administration']\n",
    "M = dataset['Marketing Spend']"
   ]
  },
  {
   "cell_type": "code",
   "execution_count": 4,
   "id": "30155768",
   "metadata": {},
   "outputs": [],
   "source": [
    "from scipy.stats import kruskal"
   ]
  },
  {
   "cell_type": "code",
   "execution_count": 6,
   "id": "fa780349",
   "metadata": {},
   "outputs": [
    {
     "name": "stdout",
     "output_type": "stream",
     "text": [
      "Statistical Test: 48.315296761518745\n",
      "p-value: 3.224531415511226e-11\n"
     ]
    }
   ],
   "source": [
    "stat, p = kruskal(R, A, M)\n",
    "\n",
    "print('Statistical Test:', stat)\n",
    "print(\"p-value:\", p)"
   ]
  },
  {
   "cell_type": "markdown",
   "id": "dead85a3",
   "metadata": {},
   "source": [
    "Just to remember, when p-value < alpha, then we reject H0, and if p-value > alpha, then we accept it. "
   ]
  },
  {
   "cell_type": "markdown",
   "id": "60a4127b",
   "metadata": {},
   "source": [
    "In this case, p-value < 0.05, therefore we reject H0"
   ]
  },
  {
   "cell_type": "markdown",
   "id": "d1b9a4d3",
   "metadata": {},
   "source": [
    "Interpretation: at a 5% significance level we have no evidence to indicate that the expenses level is the same in the three departmens"
   ]
  },
  {
   "cell_type": "markdown",
   "id": "8a5f7ed2",
   "metadata": {},
   "source": [
    "# U-Mann Whitman Test"
   ]
  },
  {
   "cell_type": "markdown",
   "id": "f6becf0b",
   "metadata": {},
   "source": [
    "Let's say that we want to test whether the expenses in the Adm and Mkt department are the same. We will do this at a 5% significance level"
   ]
  },
  {
   "cell_type": "code",
   "execution_count": 7,
   "id": "e64fb69d",
   "metadata": {},
   "outputs": [],
   "source": [
    "#Step 1: Hypothesis\n",
    "#H0: there is no difference between the expenses level in Adm and Makt department\n",
    "#H1: the expenses between Adm and Mkt are different\n",
    "\n",
    "#Step 2: Creating the variables (we already created this before)\n",
    "\n",
    "#Step 3: Test"
   ]
  },
  {
   "cell_type": "code",
   "execution_count": 8,
   "id": "f98cb720",
   "metadata": {},
   "outputs": [],
   "source": [
    "from scipy.stats import mannwhitneyu\n"
   ]
  },
  {
   "cell_type": "code",
   "execution_count": 10,
   "id": "f52c3d31",
   "metadata": {},
   "outputs": [
    {
     "name": "stdout",
     "output_type": "stream",
     "text": [
      "Statistical Test: 633.0\n",
      "p-value: 1.0684186140099692e-05\n"
     ]
    }
   ],
   "source": [
    "stat, p = mannwhitneyu(A, M)\n",
    "print('Statistical Test:', stat)\n",
    "print(\"p-value:\", p)"
   ]
  },
  {
   "cell_type": "markdown",
   "id": "d4ade0f6",
   "metadata": {},
   "source": [
    "As p-value < 0.05, then we reject H0"
   ]
  },
  {
   "cell_type": "markdown",
   "id": "3f5797f3",
   "metadata": {},
   "source": [
    "Interpretation: at a 5% significante level, there is no evidence to say that the expenses in both departments are the same"
   ]
  },
  {
   "cell_type": "code",
   "execution_count": null,
   "id": "ec06f5b4",
   "metadata": {},
   "outputs": [],
   "source": []
  }
 ],
 "metadata": {
  "kernelspec": {
   "display_name": "Python 3",
   "language": "python",
   "name": "python3"
  },
  "language_info": {
   "codemirror_mode": {
    "name": "ipython",
    "version": 3
   },
   "file_extension": ".py",
   "mimetype": "text/x-python",
   "name": "python",
   "nbconvert_exporter": "python",
   "pygments_lexer": "ipython3",
   "version": "3.8.8"
  }
 },
 "nbformat": 4,
 "nbformat_minor": 5
}
