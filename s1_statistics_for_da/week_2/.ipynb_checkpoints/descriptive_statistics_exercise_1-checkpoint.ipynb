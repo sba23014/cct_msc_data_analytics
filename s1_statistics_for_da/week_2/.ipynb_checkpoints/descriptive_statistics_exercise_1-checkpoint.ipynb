{
 "cells": [
  {
   "cell_type": "markdown",
   "id": "96c39add",
   "metadata": {},
   "source": [
    "# Descriptive Statistics (W2 Exercise 1)"
   ]
  },
  {
   "cell_type": "markdown",
   "id": "c1af1ff1",
   "metadata": {},
   "source": [
    "## Import packages & load data"
   ]
  },
  {
   "cell_type": "code",
   "execution_count": 1,
   "id": "70388a7d",
   "metadata": {},
   "outputs": [],
   "source": [
    "# Import EDA & visualisation packages\n",
    "import pandas as pd\n",
    "import numpy as np\n",
    "import seaborn as sns\n",
    "import matplotlib.pyplot as plt\n",
    "%matplotlib inline\n",
    "\n",
    "# Configure default colour scheme for seaborn\n",
    "sns.set(color_codes=True)\n",
    "\n",
    "# Display all columns of the pandas df\n",
    "pd.set_option('display.max_columns', None)\n",
    "\n",
    "# Suppress warning messages\n",
    "import warnings\n",
    "warnings.filterwarnings('ignore')"
   ]
  },
  {
   "cell_type": "code",
   "execution_count": 2,
   "id": "9b048af2",
   "metadata": {},
   "outputs": [
    {
     "data": {
      "text/html": [
       "<div>\n",
       "<style scoped>\n",
       "    .dataframe tbody tr th:only-of-type {\n",
       "        vertical-align: middle;\n",
       "    }\n",
       "\n",
       "    .dataframe tbody tr th {\n",
       "        vertical-align: top;\n",
       "    }\n",
       "\n",
       "    .dataframe thead th {\n",
       "        text-align: right;\n",
       "    }\n",
       "</style>\n",
       "<table border=\"1\" class=\"dataframe\">\n",
       "  <thead>\n",
       "    <tr style=\"text-align: right;\">\n",
       "      <th></th>\n",
       "      <th>Customer ID</th>\n",
       "      <th>Entity</th>\n",
       "      <th>Name</th>\n",
       "      <th>Surname</th>\n",
       "      <th>Age at time of purchase</th>\n",
       "      <th>Y</th>\n",
       "      <th>Gender</th>\n",
       "      <th>Country</th>\n",
       "      <th>State</th>\n",
       "      <th>Purpose</th>\n",
       "      <th>Deal satisfaction</th>\n",
       "      <th>Mortgage</th>\n",
       "      <th>Source</th>\n",
       "    </tr>\n",
       "  </thead>\n",
       "  <tbody>\n",
       "    <tr>\n",
       "      <th>0</th>\n",
       "      <td>C0028</td>\n",
       "      <td>Individual</td>\n",
       "      <td>Madalyn</td>\n",
       "      <td>Mercer</td>\n",
       "      <td>19.0</td>\n",
       "      <td>1986.0</td>\n",
       "      <td>F</td>\n",
       "      <td>USA</td>\n",
       "      <td>California</td>\n",
       "      <td>Home</td>\n",
       "      <td>5</td>\n",
       "      <td>No</td>\n",
       "      <td>Website</td>\n",
       "    </tr>\n",
       "    <tr>\n",
       "      <th>1</th>\n",
       "      <td>C0027</td>\n",
       "      <td>Individual</td>\n",
       "      <td>Lara</td>\n",
       "      <td>Carrillo</td>\n",
       "      <td>22.0</td>\n",
       "      <td>1983.0</td>\n",
       "      <td>F</td>\n",
       "      <td>USA</td>\n",
       "      <td>California</td>\n",
       "      <td>Home</td>\n",
       "      <td>5</td>\n",
       "      <td>No</td>\n",
       "      <td>Website</td>\n",
       "    </tr>\n",
       "    <tr>\n",
       "      <th>2</th>\n",
       "      <td>C0112</td>\n",
       "      <td>Individual</td>\n",
       "      <td>Donavan</td>\n",
       "      <td>Flowers</td>\n",
       "      <td>22.0</td>\n",
       "      <td>1985.0</td>\n",
       "      <td>M</td>\n",
       "      <td>USA</td>\n",
       "      <td>California</td>\n",
       "      <td>Home</td>\n",
       "      <td>1</td>\n",
       "      <td>Yes</td>\n",
       "      <td>Client</td>\n",
       "    </tr>\n",
       "    <tr>\n",
       "      <th>3</th>\n",
       "      <td>C0160</td>\n",
       "      <td>Individual</td>\n",
       "      <td>Darien</td>\n",
       "      <td>Dorsey</td>\n",
       "      <td>22.0</td>\n",
       "      <td>1985.0</td>\n",
       "      <td>M</td>\n",
       "      <td>USA</td>\n",
       "      <td>California</td>\n",
       "      <td>Investment</td>\n",
       "      <td>3</td>\n",
       "      <td>Yes</td>\n",
       "      <td>Website</td>\n",
       "    </tr>\n",
       "    <tr>\n",
       "      <th>4</th>\n",
       "      <td>C0014</td>\n",
       "      <td>Individual</td>\n",
       "      <td>Alessandra</td>\n",
       "      <td>Perry</td>\n",
       "      <td>25.0</td>\n",
       "      <td>1979.0</td>\n",
       "      <td>F</td>\n",
       "      <td>USA</td>\n",
       "      <td>California</td>\n",
       "      <td>Home</td>\n",
       "      <td>4</td>\n",
       "      <td>No</td>\n",
       "      <td>Agency</td>\n",
       "    </tr>\n",
       "  </tbody>\n",
       "</table>\n",
       "</div>"
      ],
      "text/plain": [
       "  Customer ID      Entity        Name   Surname  Age at time of purchase  \\\n",
       "0       C0028  Individual     Madalyn    Mercer                     19.0   \n",
       "1       C0027  Individual        Lara  Carrillo                     22.0   \n",
       "2       C0112  Individual     Donavan   Flowers                     22.0   \n",
       "3       C0160  Individual      Darien    Dorsey                     22.0   \n",
       "4       C0014  Individual  Alessandra     Perry                     25.0   \n",
       "\n",
       "        Y Gender Country       State     Purpose  Deal satisfaction Mortgage  \\\n",
       "0  1986.0      F     USA  California        Home                  5       No   \n",
       "1  1983.0      F     USA  California        Home                  5       No   \n",
       "2  1985.0      M     USA  California        Home                  1      Yes   \n",
       "3  1985.0      M     USA  California  Investment                  3      Yes   \n",
       "4  1979.0      F     USA  California        Home                  4       No   \n",
       "\n",
       "    Source  \n",
       "0  Website  \n",
       "1  Website  \n",
       "2   Client  \n",
       "3  Website  \n",
       "4   Agency  "
      ]
     },
     "execution_count": 2,
     "metadata": {},
     "output_type": "execute_result"
    }
   ],
   "source": [
    "# Read Excel file into Pandas DataFrame (df)\n",
    "df = pd.read_excel('Exercise_1_Descriptive_Stats.xlsx')\n",
    "\n",
    "# Return the first 5 rows\n",
    "df.head()"
   ]
  },
  {
   "cell_type": "markdown",
   "id": "dc998e50",
   "metadata": {},
   "source": [
    "## Initial data exploration"
   ]
  },
  {
   "cell_type": "code",
   "execution_count": 3,
   "id": "9e396763",
   "metadata": {},
   "outputs": [
    {
     "data": {
      "text/plain": [
       "(195, 13)"
      ]
     },
     "execution_count": 3,
     "metadata": {},
     "output_type": "execute_result"
    }
   ],
   "source": [
    "# Print the dimensionality of the df\n",
    "df.shape"
   ]
  },
  {
   "cell_type": "code",
   "execution_count": 4,
   "id": "d24c14ee",
   "metadata": {},
   "outputs": [
    {
     "name": "stdout",
     "output_type": "stream",
     "text": [
      "<class 'pandas.core.frame.DataFrame'>\n",
      "RangeIndex: 195 entries, 0 to 194\n",
      "Data columns (total 13 columns):\n",
      " #   Column                   Non-Null Count  Dtype  \n",
      "---  ------                   --------------  -----  \n",
      " 0   Customer ID              195 non-null    object \n",
      " 1   Entity                   195 non-null    object \n",
      " 2   Name                     195 non-null    object \n",
      " 3   Surname                  195 non-null    object \n",
      " 4   Age at time of purchase  178 non-null    float64\n",
      " 5   Y                        178 non-null    float64\n",
      " 6   Gender                   178 non-null    object \n",
      " 7   Country                  195 non-null    object \n",
      " 8   State                    181 non-null    object \n",
      " 9   Purpose                  195 non-null    object \n",
      " 10  Deal satisfaction        195 non-null    int64  \n",
      " 11  Mortgage                 195 non-null    object \n",
      " 12  Source                   195 non-null    object \n",
      "dtypes: float64(2), int64(1), object(10)\n",
      "memory usage: 19.9+ KB\n"
     ]
    }
   ],
   "source": [
    "# Print a concise summary of the df\n",
    "df.info()"
   ]
  },
  {
   "cell_type": "code",
   "execution_count": 5,
   "id": "5c1520a0",
   "metadata": {},
   "outputs": [
    {
     "data": {
      "text/html": [
       "<div>\n",
       "<style scoped>\n",
       "    .dataframe tbody tr th:only-of-type {\n",
       "        vertical-align: middle;\n",
       "    }\n",
       "\n",
       "    .dataframe tbody tr th {\n",
       "        vertical-align: top;\n",
       "    }\n",
       "\n",
       "    .dataframe thead th {\n",
       "        text-align: right;\n",
       "    }\n",
       "</style>\n",
       "<table border=\"1\" class=\"dataframe\">\n",
       "  <thead>\n",
       "    <tr style=\"text-align: right;\">\n",
       "      <th></th>\n",
       "      <th>Customer ID</th>\n",
       "      <th>Entity</th>\n",
       "      <th>Name</th>\n",
       "      <th>Surname</th>\n",
       "      <th>Purchase Age</th>\n",
       "      <th>Year</th>\n",
       "      <th>Gender</th>\n",
       "      <th>Country</th>\n",
       "      <th>State</th>\n",
       "      <th>Purpose</th>\n",
       "      <th>Deal Satisfaction</th>\n",
       "      <th>Mortgage</th>\n",
       "      <th>Source</th>\n",
       "    </tr>\n",
       "  </thead>\n",
       "  <tbody>\n",
       "    <tr>\n",
       "      <th>0</th>\n",
       "      <td>C0028</td>\n",
       "      <td>Individual</td>\n",
       "      <td>Madalyn</td>\n",
       "      <td>Mercer</td>\n",
       "      <td>19.0</td>\n",
       "      <td>1986.0</td>\n",
       "      <td>F</td>\n",
       "      <td>USA</td>\n",
       "      <td>California</td>\n",
       "      <td>Home</td>\n",
       "      <td>5</td>\n",
       "      <td>No</td>\n",
       "      <td>Website</td>\n",
       "    </tr>\n",
       "    <tr>\n",
       "      <th>1</th>\n",
       "      <td>C0027</td>\n",
       "      <td>Individual</td>\n",
       "      <td>Lara</td>\n",
       "      <td>Carrillo</td>\n",
       "      <td>22.0</td>\n",
       "      <td>1983.0</td>\n",
       "      <td>F</td>\n",
       "      <td>USA</td>\n",
       "      <td>California</td>\n",
       "      <td>Home</td>\n",
       "      <td>5</td>\n",
       "      <td>No</td>\n",
       "      <td>Website</td>\n",
       "    </tr>\n",
       "    <tr>\n",
       "      <th>2</th>\n",
       "      <td>C0112</td>\n",
       "      <td>Individual</td>\n",
       "      <td>Donavan</td>\n",
       "      <td>Flowers</td>\n",
       "      <td>22.0</td>\n",
       "      <td>1985.0</td>\n",
       "      <td>M</td>\n",
       "      <td>USA</td>\n",
       "      <td>California</td>\n",
       "      <td>Home</td>\n",
       "      <td>1</td>\n",
       "      <td>Yes</td>\n",
       "      <td>Client</td>\n",
       "    </tr>\n",
       "    <tr>\n",
       "      <th>3</th>\n",
       "      <td>C0160</td>\n",
       "      <td>Individual</td>\n",
       "      <td>Darien</td>\n",
       "      <td>Dorsey</td>\n",
       "      <td>22.0</td>\n",
       "      <td>1985.0</td>\n",
       "      <td>M</td>\n",
       "      <td>USA</td>\n",
       "      <td>California</td>\n",
       "      <td>Investment</td>\n",
       "      <td>3</td>\n",
       "      <td>Yes</td>\n",
       "      <td>Website</td>\n",
       "    </tr>\n",
       "    <tr>\n",
       "      <th>4</th>\n",
       "      <td>C0014</td>\n",
       "      <td>Individual</td>\n",
       "      <td>Alessandra</td>\n",
       "      <td>Perry</td>\n",
       "      <td>25.0</td>\n",
       "      <td>1979.0</td>\n",
       "      <td>F</td>\n",
       "      <td>USA</td>\n",
       "      <td>California</td>\n",
       "      <td>Home</td>\n",
       "      <td>4</td>\n",
       "      <td>No</td>\n",
       "      <td>Agency</td>\n",
       "    </tr>\n",
       "  </tbody>\n",
       "</table>\n",
       "</div>"
      ],
      "text/plain": [
       "  Customer ID      Entity        Name   Surname  Purchase Age    Year Gender  \\\n",
       "0       C0028  Individual     Madalyn    Mercer          19.0  1986.0      F   \n",
       "1       C0027  Individual        Lara  Carrillo          22.0  1983.0      F   \n",
       "2       C0112  Individual     Donavan   Flowers          22.0  1985.0      M   \n",
       "3       C0160  Individual      Darien    Dorsey          22.0  1985.0      M   \n",
       "4       C0014  Individual  Alessandra     Perry          25.0  1979.0      F   \n",
       "\n",
       "  Country       State     Purpose  Deal Satisfaction Mortgage   Source  \n",
       "0     USA  California        Home                  5       No  Website  \n",
       "1     USA  California        Home                  5       No  Website  \n",
       "2     USA  California        Home                  1      Yes   Client  \n",
       "3     USA  California  Investment                  3      Yes  Website  \n",
       "4     USA  California        Home                  4       No   Agency  "
      ]
     },
     "execution_count": 5,
     "metadata": {},
     "output_type": "execute_result"
    }
   ],
   "source": [
    "# Rename a single column\n",
    "df.rename(columns = {'Y': 'Year', 'Age at time of purchase': 'Purchase Age', 'Deal satisfaction': 'Deal Satisfaction'}, inplace=True)\n",
    "\n",
    "# Validate changes\n",
    "df.head()"
   ]
  },
  {
   "cell_type": "code",
   "execution_count": 6,
   "id": "353bfa62",
   "metadata": {},
   "outputs": [
    {
     "data": {
      "text/html": [
       "<div>\n",
       "<style scoped>\n",
       "    .dataframe tbody tr th:only-of-type {\n",
       "        vertical-align: middle;\n",
       "    }\n",
       "\n",
       "    .dataframe tbody tr th {\n",
       "        vertical-align: top;\n",
       "    }\n",
       "\n",
       "    .dataframe thead th {\n",
       "        text-align: right;\n",
       "    }\n",
       "</style>\n",
       "<table border=\"1\" class=\"dataframe\">\n",
       "  <thead>\n",
       "    <tr style=\"text-align: right;\">\n",
       "      <th></th>\n",
       "      <th>Purchase Age</th>\n",
       "      <th>Year</th>\n",
       "      <th>Deal Satisfaction</th>\n",
       "    </tr>\n",
       "  </thead>\n",
       "  <tbody>\n",
       "    <tr>\n",
       "      <th>count</th>\n",
       "      <td>178.000000</td>\n",
       "      <td>178.000000</td>\n",
       "      <td>195.000000</td>\n",
       "    </tr>\n",
       "    <tr>\n",
       "      <th>mean</th>\n",
       "      <td>46.151685</td>\n",
       "      <td>1960.325843</td>\n",
       "      <td>3.605128</td>\n",
       "    </tr>\n",
       "    <tr>\n",
       "      <th>std</th>\n",
       "      <td>12.841692</td>\n",
       "      <td>12.835575</td>\n",
       "      <td>1.363355</td>\n",
       "    </tr>\n",
       "    <tr>\n",
       "      <th>min</th>\n",
       "      <td>19.000000</td>\n",
       "      <td>1931.000000</td>\n",
       "      <td>1.000000</td>\n",
       "    </tr>\n",
       "    <tr>\n",
       "      <th>25%</th>\n",
       "      <td>37.000000</td>\n",
       "      <td>1950.250000</td>\n",
       "      <td>3.000000</td>\n",
       "    </tr>\n",
       "    <tr>\n",
       "      <th>50%</th>\n",
       "      <td>45.000000</td>\n",
       "      <td>1962.000000</td>\n",
       "      <td>4.000000</td>\n",
       "    </tr>\n",
       "    <tr>\n",
       "      <th>75%</th>\n",
       "      <td>55.000000</td>\n",
       "      <td>1969.750000</td>\n",
       "      <td>5.000000</td>\n",
       "    </tr>\n",
       "    <tr>\n",
       "      <th>max</th>\n",
       "      <td>76.000000</td>\n",
       "      <td>1986.000000</td>\n",
       "      <td>5.000000</td>\n",
       "    </tr>\n",
       "  </tbody>\n",
       "</table>\n",
       "</div>"
      ],
      "text/plain": [
       "       Purchase Age         Year  Deal Satisfaction\n",
       "count    178.000000   178.000000         195.000000\n",
       "mean      46.151685  1960.325843           3.605128\n",
       "std       12.841692    12.835575           1.363355\n",
       "min       19.000000  1931.000000           1.000000\n",
       "25%       37.000000  1950.250000           3.000000\n",
       "50%       45.000000  1962.000000           4.000000\n",
       "75%       55.000000  1969.750000           5.000000\n",
       "max       76.000000  1986.000000           5.000000"
      ]
     },
     "execution_count": 6,
     "metadata": {},
     "output_type": "execute_result"
    }
   ],
   "source": [
    "# Generate descriptive statistics for numerical attributes\n",
    "df.describe()"
   ]
  },
  {
   "cell_type": "code",
   "execution_count": 1,
   "id": "c2ab8f6b",
   "metadata": {},
   "outputs": [
    {
     "ename": "NameError",
     "evalue": "name 'df' is not defined",
     "output_type": "error",
     "traceback": [
      "\u001b[1;31m---------------------------------------------------------------------------\u001b[0m",
      "\u001b[1;31mNameError\u001b[0m                                 Traceback (most recent call last)",
      "Cell \u001b[1;32mIn[1], line 2\u001b[0m\n\u001b[0;32m      1\u001b[0m \u001b[38;5;66;03m# Generate descriptive statistics for object attributes\u001b[39;00m\n\u001b[1;32m----> 2\u001b[0m \u001b[43mdf\u001b[49m\u001b[38;5;241m.\u001b[39mdescribe(include \u001b[38;5;241m=\u001b[39m \u001b[38;5;28mobject\u001b[39m)\n",
      "\u001b[1;31mNameError\u001b[0m: name 'df' is not defined"
     ]
    }
   ],
   "source": [
    "# Generate descriptive statistics for object attributes\n",
    "df.describe(include = object)"
   ]
  },
  {
   "cell_type": "markdown",
   "id": "7e0b0068",
   "metadata": {},
   "source": [
    "**Count:** there are 195 rows & several columns appear to have missing values\n",
    "\n",
    "**Mean vs Median (50%):** the mean and median values are observed to be approximately equivalent\n",
    "\n",
    "**- Age at time of purchase:** The standard deviation of approximately 12.84 suggests that the ages of individuals at the time of purchase are spread around the mean age of 46.15 years. This level of dispersion is moderate given the range of ages (19 to 76).\n",
    "\n",
    "**- Year (Y):** The standard deviation of around 12.84 years implies a moderate level of variability in the years represented in the data, relative to the mean year of 1960.32. This is within a range of years from 1931 to 1986.\n",
    "\n",
    "**- Deal Satisfaction:** The standard deviation of 1.36 on a scale of 1 to 5 indicates a moderate level of variability in deal satisfaction among the respondents."
   ]
  },
  {
   "cell_type": "markdown",
   "id": "6cba390f",
   "metadata": {},
   "source": [
    "***\n",
    "**Key Observations:**\n",
    "\n",
    "**Central Tendency and Dispersion:**\n",
    "\n",
    "The average age of individuals at the time of purchase is around 46 years with a moderate spread.\n",
    "\n",
    "The data regarding the year seems to center around 1960, also with a moderate spread.\n",
    "\n",
    "The mean deal satisfaction rating is 3.61, indicating a relatively high level of satisfaction on average, with a moderate spread in satisfaction levels.\n",
    "\n",
    "**Range of Data:**\n",
    "The age data ranges from 19 to 76, showing a wide range of ages in the dataset.\n",
    "\n",
    "The year data has a wide range spanning over five decades from 1931 to 1986.\n",
    "\n",
    "Deal satisfaction ratings cover the entire possible range from 1 to 5.\n",
    "\n",
    "**Distribution:**\n",
    "The 25th, 50th (median), and 75th percentiles suggest that the distributions of age and year are relatively symmetrical, while deal satisfaction is skewed towards higher ratings as the mean (3.61) is closer to the upper quartile (5).\n",
    "\n",
    "**Missing Data:**\n",
    "There are missing values in the dataset as the count of entries varies across the columns. It would be advisable to investigate and handle these missing values appropriately during your analysis.\n",
    "***"
   ]
  },
  {
   "cell_type": "code",
   "execution_count": 8,
   "id": "81f45dfd",
   "metadata": {},
   "outputs": [
    {
     "name": "stdout",
     "output_type": "stream",
     "text": [
      "Coefficient of Variation for Age at time of purchase: 27.82%\n",
      "Coefficient of Variation for Y: 0.65%\n",
      "Coefficient of Variation for Deal satisfaction: 37.82%\n"
     ]
    }
   ],
   "source": [
    "# Assuming df is your DataFrame\n",
    "vc = pd.DataFrame({\n",
    "    'Age at time of purchase': [46.151685],\n",
    "    'Y': [1960.325843],\n",
    "    'Deal satisfaction': [3.605128],\n",
    "    'std_age': [12.841692],\n",
    "    'std_Y': [12.835575],\n",
    "    'std_deal_satisfaction': [1.363355]\n",
    "})\n",
    "\n",
    "# Calculating Coefficient of Variation\n",
    "vc_age = (vc['std_age'] / vc['Age at time of purchase']) * 100\n",
    "vc_Y = (vc['std_Y'] / vc['Y']) * 100\n",
    "vc_deal_satisfaction = (vc['std_deal_satisfaction'] / vc['Deal satisfaction']) * 100\n",
    "\n",
    "# Outputting the results\n",
    "print(f'Coefficient of Variation for Age at time of purchase: {vc_age.iloc[0]:.2f}%')\n",
    "print(f'Coefficient of Variation for Y: {vc_Y.iloc[0]:.2f}%')\n",
    "print(f'Coefficient of Variation for Deal satisfaction: {vc_deal_satisfaction.iloc[0]:.2f}%')"
   ]
  },
  {
   "cell_type": "markdown",
   "id": "db471e19",
   "metadata": {},
   "source": [
    "Cofficient of Variation values indicate that numerical values are representative of the population. Deal satisfaction is on the border at 37.82% but given it's close proximity to 35% it is adequate for this analysis.\n",
    "\n",
    "VC <= 35% is sufficient as it is representative of the population. "
   ]
  },
  {
   "cell_type": "markdown",
   "id": "e63ff292",
   "metadata": {},
   "source": [
    "## Data cleaning & transformation"
   ]
  },
  {
   "cell_type": "code",
   "execution_count": 9,
   "id": "53408bea",
   "metadata": {},
   "outputs": [
    {
     "name": "stdout",
     "output_type": "stream",
     "text": [
      "df shape:\n",
      "(195, 13)\n",
      "\n",
      "Number of duplicate rows:\n",
      "(21, 13)\n",
      "\n",
      "Row count before removing duplicates:\n",
      "\n",
      "Customer ID          195\n",
      "Entity               195\n",
      "Name                 195\n",
      "Surname              195\n",
      "Purchase Age         178\n",
      "Year                 178\n",
      "Gender               178\n",
      "Country              195\n",
      "State                181\n",
      "Purpose              195\n",
      "Deal Satisfaction    195\n",
      "Mortgage             195\n",
      "Source               195\n",
      "dtype: int64\n",
      "\n",
      "Row count after removing duplicates:\n",
      "\n",
      "Customer ID          174\n",
      "Entity               174\n",
      "Name                 174\n",
      "Surname              174\n",
      "Purchase Age         165\n",
      "Year                 165\n",
      "Gender               165\n",
      "Country              174\n",
      "State                166\n",
      "Purpose              174\n",
      "Deal Satisfaction    174\n",
      "Mortgage             174\n",
      "Source               174\n",
      "dtype: int64\n",
      "\n"
     ]
    }
   ],
   "source": [
    "# Total number of rows and columns\n",
    "print('df shape:')\n",
    "print(df.shape)\n",
    "print()\n",
    "\n",
    "# Rows containing duplicate data\n",
    "duplicate_rows_df = df[df.duplicated()]\n",
    "print('Number of duplicate rows:')\n",
    "print(duplicate_rows_df.shape)\n",
    "print()\n",
    "\n",
    "# Used to count the number of rows before removing the data\n",
    "print('Row count before removing duplicates:')\n",
    "print()\n",
    "print(df.count())\n",
    "print()\n",
    "\n",
    "# Dropping the duplicates\n",
    "df = df.drop_duplicates()\n",
    "\n",
    "# Counting the number of rows after removing duplicates.\n",
    "print('Row count after removing duplicates:')\n",
    "print()\n",
    "print(df.count())\n",
    "print()"
   ]
  },
  {
   "cell_type": "code",
   "execution_count": 10,
   "id": "6d21defa",
   "metadata": {},
   "outputs": [
    {
     "name": "stdout",
     "output_type": "stream",
     "text": [
      "Customer ID          0\n",
      "Entity               0\n",
      "Name                 0\n",
      "Surname              0\n",
      "Purchase Age         9\n",
      "Year                 9\n",
      "Gender               9\n",
      "Country              0\n",
      "State                8\n",
      "Purpose              0\n",
      "Deal Satisfaction    0\n",
      "Mortgage             0\n",
      "Source               0\n",
      "dtype: int64\n"
     ]
    }
   ],
   "source": [
    "# Finding the null values.\n",
    "print(df.isnull().sum())"
   ]
  },
  {
   "cell_type": "code",
   "execution_count": 11,
   "id": "62095f3b",
   "metadata": {},
   "outputs": [
    {
     "data": {
      "text/html": [
       "<div>\n",
       "<style scoped>\n",
       "    .dataframe tbody tr th:only-of-type {\n",
       "        vertical-align: middle;\n",
       "    }\n",
       "\n",
       "    .dataframe tbody tr th {\n",
       "        vertical-align: top;\n",
       "    }\n",
       "\n",
       "    .dataframe thead th {\n",
       "        text-align: right;\n",
       "    }\n",
       "</style>\n",
       "<table border=\"1\" class=\"dataframe\">\n",
       "  <thead>\n",
       "    <tr style=\"text-align: right;\">\n",
       "      <th></th>\n",
       "      <th>Customer ID</th>\n",
       "      <th>Entity</th>\n",
       "      <th>Name</th>\n",
       "      <th>Surname</th>\n",
       "      <th>Purchase Age</th>\n",
       "      <th>Year</th>\n",
       "      <th>Gender</th>\n",
       "      <th>Country</th>\n",
       "      <th>State</th>\n",
       "      <th>Purpose</th>\n",
       "      <th>Deal Satisfaction</th>\n",
       "      <th>Mortgage</th>\n",
       "      <th>Source</th>\n",
       "    </tr>\n",
       "  </thead>\n",
       "  <tbody>\n",
       "    <tr>\n",
       "      <th>41</th>\n",
       "      <td>C0015</td>\n",
       "      <td>Individual</td>\n",
       "      <td>Lauryn</td>\n",
       "      <td>Patrick</td>\n",
       "      <td>36.0</td>\n",
       "      <td>1969.0</td>\n",
       "      <td>F</td>\n",
       "      <td>Belgium</td>\n",
       "      <td>NaN</td>\n",
       "      <td>Home</td>\n",
       "      <td>2</td>\n",
       "      <td>No</td>\n",
       "      <td>Agency</td>\n",
       "    </tr>\n",
       "    <tr>\n",
       "      <th>58</th>\n",
       "      <td>C0070</td>\n",
       "      <td>Individual</td>\n",
       "      <td>Aleksandra</td>\n",
       "      <td>Karenina</td>\n",
       "      <td>40.0</td>\n",
       "      <td>1967.0</td>\n",
       "      <td>F</td>\n",
       "      <td>Russia</td>\n",
       "      <td>NaN</td>\n",
       "      <td>Home</td>\n",
       "      <td>1</td>\n",
       "      <td>No</td>\n",
       "      <td>Agency</td>\n",
       "    </tr>\n",
       "    <tr>\n",
       "      <th>64</th>\n",
       "      <td>C0047</td>\n",
       "      <td>Individual</td>\n",
       "      <td>Alejandra</td>\n",
       "      <td>Greer</td>\n",
       "      <td>41.0</td>\n",
       "      <td>1965.0</td>\n",
       "      <td>F</td>\n",
       "      <td>Denmark</td>\n",
       "      <td>NaN</td>\n",
       "      <td>Investment</td>\n",
       "      <td>1</td>\n",
       "      <td>No</td>\n",
       "      <td>Agency</td>\n",
       "    </tr>\n",
       "    <tr>\n",
       "      <th>76</th>\n",
       "      <td>C0084</td>\n",
       "      <td>Individual</td>\n",
       "      <td>Diego</td>\n",
       "      <td>Mendez</td>\n",
       "      <td>42.0</td>\n",
       "      <td>1965.0</td>\n",
       "      <td>M</td>\n",
       "      <td>Mexico</td>\n",
       "      <td>NaN</td>\n",
       "      <td>Home</td>\n",
       "      <td>3</td>\n",
       "      <td>No</td>\n",
       "      <td>Agency</td>\n",
       "    </tr>\n",
       "    <tr>\n",
       "      <th>114</th>\n",
       "      <td>C0063</td>\n",
       "      <td>Individual</td>\n",
       "      <td>Piotr</td>\n",
       "      <td>Aleksandrov</td>\n",
       "      <td>51.0</td>\n",
       "      <td>1955.0</td>\n",
       "      <td>M</td>\n",
       "      <td>Russia</td>\n",
       "      <td>NaN</td>\n",
       "      <td>Investment</td>\n",
       "      <td>3</td>\n",
       "      <td>No</td>\n",
       "      <td>Agency</td>\n",
       "    </tr>\n",
       "    <tr>\n",
       "      <th>139</th>\n",
       "      <td>C0059</td>\n",
       "      <td>Individual</td>\n",
       "      <td>Elena</td>\n",
       "      <td>Petrova</td>\n",
       "      <td>57.0</td>\n",
       "      <td>1949.0</td>\n",
       "      <td>F</td>\n",
       "      <td>Russia</td>\n",
       "      <td>NaN</td>\n",
       "      <td>Home</td>\n",
       "      <td>3</td>\n",
       "      <td>Yes</td>\n",
       "      <td>Agency</td>\n",
       "    </tr>\n",
       "    <tr>\n",
       "      <th>146</th>\n",
       "      <td>C0079</td>\n",
       "      <td>Individual</td>\n",
       "      <td>Xavier</td>\n",
       "      <td>Faulkner</td>\n",
       "      <td>60.0</td>\n",
       "      <td>1947.0</td>\n",
       "      <td>M</td>\n",
       "      <td>Canada</td>\n",
       "      <td>NaN</td>\n",
       "      <td>Investment</td>\n",
       "      <td>5</td>\n",
       "      <td>No</td>\n",
       "      <td>Website</td>\n",
       "    </tr>\n",
       "    <tr>\n",
       "      <th>174</th>\n",
       "      <td>C0021</td>\n",
       "      <td>Individual</td>\n",
       "      <td>Kaylin</td>\n",
       "      <td>Villarreal</td>\n",
       "      <td>73.0</td>\n",
       "      <td>1932.0</td>\n",
       "      <td>F</td>\n",
       "      <td>Russia</td>\n",
       "      <td>NaN</td>\n",
       "      <td>Investment</td>\n",
       "      <td>3</td>\n",
       "      <td>No</td>\n",
       "      <td>Website</td>\n",
       "    </tr>\n",
       "    <tr>\n",
       "      <th>178</th>\n",
       "      <td>C0001</td>\n",
       "      <td>Firm</td>\n",
       "      <td>Kamd</td>\n",
       "      <td>Co</td>\n",
       "      <td>NaN</td>\n",
       "      <td>NaN</td>\n",
       "      <td>NaN</td>\n",
       "      <td>USA</td>\n",
       "      <td>California</td>\n",
       "      <td>Investment</td>\n",
       "      <td>5</td>\n",
       "      <td>No</td>\n",
       "      <td>Agency</td>\n",
       "    </tr>\n",
       "    <tr>\n",
       "      <th>179</th>\n",
       "      <td>C0012</td>\n",
       "      <td>Firm</td>\n",
       "      <td>Bridger CAL</td>\n",
       "      <td>Co</td>\n",
       "      <td>NaN</td>\n",
       "      <td>NaN</td>\n",
       "      <td>NaN</td>\n",
       "      <td>USA</td>\n",
       "      <td>Nevada</td>\n",
       "      <td>Investment</td>\n",
       "      <td>5</td>\n",
       "      <td>No</td>\n",
       "      <td>Website</td>\n",
       "    </tr>\n",
       "    <tr>\n",
       "      <th>180</th>\n",
       "      <td>C0012</td>\n",
       "      <td>Firm</td>\n",
       "      <td>Bridger CAL</td>\n",
       "      <td>Co</td>\n",
       "      <td>NaN</td>\n",
       "      <td>NaN</td>\n",
       "      <td>NaN</td>\n",
       "      <td>USA</td>\n",
       "      <td>Nevada</td>\n",
       "      <td>Investment</td>\n",
       "      <td>4</td>\n",
       "      <td>No</td>\n",
       "      <td>Website</td>\n",
       "    </tr>\n",
       "    <tr>\n",
       "      <th>181</th>\n",
       "      <td>C0025</td>\n",
       "      <td>Firm</td>\n",
       "      <td>Abdiel</td>\n",
       "      <td>Co</td>\n",
       "      <td>NaN</td>\n",
       "      <td>NaN</td>\n",
       "      <td>NaN</td>\n",
       "      <td>USA</td>\n",
       "      <td>Nevada</td>\n",
       "      <td>Investment</td>\n",
       "      <td>5</td>\n",
       "      <td>Yes</td>\n",
       "      <td>Website</td>\n",
       "    </tr>\n",
       "    <tr>\n",
       "      <th>182</th>\n",
       "      <td>C0029</td>\n",
       "      <td>Firm</td>\n",
       "      <td>Kenyon</td>\n",
       "      <td>Co</td>\n",
       "      <td>NaN</td>\n",
       "      <td>NaN</td>\n",
       "      <td>NaN</td>\n",
       "      <td>USA</td>\n",
       "      <td>Nevada</td>\n",
       "      <td>Investment</td>\n",
       "      <td>1</td>\n",
       "      <td>Yes</td>\n",
       "      <td>Website</td>\n",
       "    </tr>\n",
       "    <tr>\n",
       "      <th>183</th>\n",
       "      <td>C0029</td>\n",
       "      <td>Firm</td>\n",
       "      <td>Kenyon</td>\n",
       "      <td>Co</td>\n",
       "      <td>NaN</td>\n",
       "      <td>NaN</td>\n",
       "      <td>NaN</td>\n",
       "      <td>USA</td>\n",
       "      <td>California</td>\n",
       "      <td>Investment</td>\n",
       "      <td>1</td>\n",
       "      <td>Yes</td>\n",
       "      <td>Website</td>\n",
       "    </tr>\n",
       "    <tr>\n",
       "      <th>184</th>\n",
       "      <td>C0055</td>\n",
       "      <td>Firm</td>\n",
       "      <td>Kylax</td>\n",
       "      <td>Co</td>\n",
       "      <td>NaN</td>\n",
       "      <td>NaN</td>\n",
       "      <td>NaN</td>\n",
       "      <td>USA</td>\n",
       "      <td>California</td>\n",
       "      <td>Investment</td>\n",
       "      <td>5</td>\n",
       "      <td>No</td>\n",
       "      <td>Website</td>\n",
       "    </tr>\n",
       "    <tr>\n",
       "      <th>185</th>\n",
       "      <td>C0121</td>\n",
       "      <td>Firm</td>\n",
       "      <td>Esther</td>\n",
       "      <td>Co</td>\n",
       "      <td>NaN</td>\n",
       "      <td>NaN</td>\n",
       "      <td>NaN</td>\n",
       "      <td>USA</td>\n",
       "      <td>California</td>\n",
       "      <td>Home</td>\n",
       "      <td>3</td>\n",
       "      <td>Yes</td>\n",
       "      <td>Website</td>\n",
       "    </tr>\n",
       "    <tr>\n",
       "      <th>186</th>\n",
       "      <td>C0174</td>\n",
       "      <td>Firm</td>\n",
       "      <td>Marleez</td>\n",
       "      <td>Co</td>\n",
       "      <td>NaN</td>\n",
       "      <td>NaN</td>\n",
       "      <td>NaN</td>\n",
       "      <td>USA</td>\n",
       "      <td>California</td>\n",
       "      <td>Investment</td>\n",
       "      <td>5</td>\n",
       "      <td>No</td>\n",
       "      <td>Website</td>\n",
       "    </tr>\n",
       "  </tbody>\n",
       "</table>\n",
       "</div>"
      ],
      "text/plain": [
       "    Customer ID      Entity         Name      Surname  Purchase Age    Year  \\\n",
       "41        C0015  Individual       Lauryn      Patrick          36.0  1969.0   \n",
       "58        C0070  Individual   Aleksandra     Karenina          40.0  1967.0   \n",
       "64        C0047  Individual    Alejandra        Greer          41.0  1965.0   \n",
       "76        C0084  Individual        Diego       Mendez          42.0  1965.0   \n",
       "114       C0063  Individual        Piotr  Aleksandrov          51.0  1955.0   \n",
       "139       C0059  Individual        Elena      Petrova          57.0  1949.0   \n",
       "146       C0079  Individual       Xavier     Faulkner          60.0  1947.0   \n",
       "174       C0021  Individual       Kaylin   Villarreal          73.0  1932.0   \n",
       "178       C0001        Firm         Kamd           Co           NaN     NaN   \n",
       "179       C0012        Firm  Bridger CAL           Co           NaN     NaN   \n",
       "180       C0012        Firm  Bridger CAL           Co           NaN     NaN   \n",
       "181       C0025        Firm       Abdiel           Co           NaN     NaN   \n",
       "182       C0029        Firm       Kenyon           Co           NaN     NaN   \n",
       "183       C0029        Firm       Kenyon           Co           NaN     NaN   \n",
       "184       C0055        Firm        Kylax           Co           NaN     NaN   \n",
       "185       C0121        Firm       Esther           Co           NaN     NaN   \n",
       "186       C0174        Firm      Marleez           Co           NaN     NaN   \n",
       "\n",
       "    Gender  Country       State     Purpose  Deal Satisfaction Mortgage  \\\n",
       "41       F  Belgium         NaN        Home                  2       No   \n",
       "58       F   Russia         NaN        Home                  1       No   \n",
       "64       F  Denmark         NaN  Investment                  1       No   \n",
       "76       M   Mexico         NaN        Home                  3       No   \n",
       "114      M   Russia         NaN  Investment                  3       No   \n",
       "139      F   Russia         NaN        Home                  3      Yes   \n",
       "146      M   Canada         NaN  Investment                  5       No   \n",
       "174      F   Russia         NaN  Investment                  3       No   \n",
       "178    NaN      USA  California  Investment                  5       No   \n",
       "179    NaN      USA      Nevada  Investment                  5       No   \n",
       "180    NaN      USA      Nevada  Investment                  4       No   \n",
       "181    NaN      USA      Nevada  Investment                  5      Yes   \n",
       "182    NaN      USA      Nevada  Investment                  1      Yes   \n",
       "183    NaN      USA  California  Investment                  1      Yes   \n",
       "184    NaN      USA  California  Investment                  5       No   \n",
       "185    NaN      USA  California        Home                  3      Yes   \n",
       "186    NaN      USA  California  Investment                  5       No   \n",
       "\n",
       "      Source  \n",
       "41    Agency  \n",
       "58    Agency  \n",
       "64    Agency  \n",
       "76    Agency  \n",
       "114   Agency  \n",
       "139   Agency  \n",
       "146  Website  \n",
       "174  Website  \n",
       "178   Agency  \n",
       "179  Website  \n",
       "180  Website  \n",
       "181  Website  \n",
       "182  Website  \n",
       "183  Website  \n",
       "184  Website  \n",
       "185  Website  \n",
       "186  Website  "
      ]
     },
     "execution_count": 11,
     "metadata": {},
     "output_type": "execute_result"
    }
   ],
   "source": [
    "# Filter rows where any value is null\n",
    "null_rows_df = df[df.isnull().any(axis=1)]\n",
    "\n",
    "# Review null rows to identify trends and potential reasons\n",
    "null_rows_df"
   ]
  },
  {
   "cell_type": "markdown",
   "id": "af389ae2",
   "metadata": {},
   "source": [
    "1. **State**: missing values due to the row not being a USA country\n",
    "2. **Purchase Age, Year, Gender**: missing values due to the Entity being a Firm and not an Individual\n",
    "\n",
    "These missing values are legitimate so won't be replaced"
   ]
  },
  {
   "cell_type": "markdown",
   "id": "c015f587",
   "metadata": {},
   "source": [
    "## Calculating Relative Frequency"
   ]
  },
  {
   "cell_type": "code",
   "execution_count": 12,
   "id": "097c637a",
   "metadata": {},
   "outputs": [
    {
     "data": {
      "text/plain": [
       "USA        0.931034\n",
       "Russia     0.022989\n",
       "UK         0.011494\n",
       "Belgium    0.011494\n",
       "Denmark    0.005747\n",
       "Germany    0.005747\n",
       "Mexico     0.005747\n",
       "Canada     0.005747\n",
       "Name: Country, dtype: float64"
      ]
     },
     "execution_count": 12,
     "metadata": {},
     "output_type": "execute_result"
    }
   ],
   "source": [
    "# We count the values\n",
    "value_counts = df['Country'].value_counts()\n",
    "\n",
    "# Calculate relative frequencies\n",
    "relative_frequencies = value_counts / len(df)\n",
    "\n",
    "# Review results\n",
    "relative_frequencies"
   ]
  },
  {
   "cell_type": "code",
   "execution_count": 13,
   "id": "a50db736",
   "metadata": {},
   "outputs": [
    {
     "data": {
      "text/html": [
       "<div>\n",
       "<style scoped>\n",
       "    .dataframe tbody tr th:only-of-type {\n",
       "        vertical-align: middle;\n",
       "    }\n",
       "\n",
       "    .dataframe tbody tr th {\n",
       "        vertical-align: top;\n",
       "    }\n",
       "\n",
       "    .dataframe thead th {\n",
       "        text-align: right;\n",
       "    }\n",
       "</style>\n",
       "<table border=\"1\" class=\"dataframe\">\n",
       "  <thead>\n",
       "    <tr style=\"text-align: right;\">\n",
       "      <th></th>\n",
       "      <th>Country</th>\n",
       "      <th>Frequency</th>\n",
       "      <th>Relative Frequency</th>\n",
       "    </tr>\n",
       "  </thead>\n",
       "  <tbody>\n",
       "    <tr>\n",
       "      <th>0</th>\n",
       "      <td>USA</td>\n",
       "      <td>162</td>\n",
       "      <td>0.931034</td>\n",
       "    </tr>\n",
       "    <tr>\n",
       "      <th>1</th>\n",
       "      <td>Russia</td>\n",
       "      <td>4</td>\n",
       "      <td>0.022989</td>\n",
       "    </tr>\n",
       "    <tr>\n",
       "      <th>2</th>\n",
       "      <td>UK</td>\n",
       "      <td>2</td>\n",
       "      <td>0.011494</td>\n",
       "    </tr>\n",
       "    <tr>\n",
       "      <th>3</th>\n",
       "      <td>Belgium</td>\n",
       "      <td>2</td>\n",
       "      <td>0.011494</td>\n",
       "    </tr>\n",
       "    <tr>\n",
       "      <th>4</th>\n",
       "      <td>Denmark</td>\n",
       "      <td>1</td>\n",
       "      <td>0.005747</td>\n",
       "    </tr>\n",
       "    <tr>\n",
       "      <th>5</th>\n",
       "      <td>Germany</td>\n",
       "      <td>1</td>\n",
       "      <td>0.005747</td>\n",
       "    </tr>\n",
       "    <tr>\n",
       "      <th>6</th>\n",
       "      <td>Mexico</td>\n",
       "      <td>1</td>\n",
       "      <td>0.005747</td>\n",
       "    </tr>\n",
       "    <tr>\n",
       "      <th>7</th>\n",
       "      <td>Canada</td>\n",
       "      <td>1</td>\n",
       "      <td>0.005747</td>\n",
       "    </tr>\n",
       "  </tbody>\n",
       "</table>\n",
       "</div>"
      ],
      "text/plain": [
       "   Country  Frequency  Relative Frequency\n",
       "0      USA        162            0.931034\n",
       "1   Russia          4            0.022989\n",
       "2       UK          2            0.011494\n",
       "3  Belgium          2            0.011494\n",
       "4  Denmark          1            0.005747\n",
       "5  Germany          1            0.005747\n",
       "6   Mexico          1            0.005747\n",
       "7   Canada          1            0.005747"
      ]
     },
     "execution_count": 13,
     "metadata": {},
     "output_type": "execute_result"
    }
   ],
   "source": [
    "# We create the subtable to find the relative frequency\n",
    "# Calculating relative frequency helps determine the proportion of occurrences of a specific event within a dataset\n",
    "\n",
    "subtable = pd.DataFrame({'Country': value_counts.index, \n",
    "                         'Frequency': value_counts.values, \n",
    "                         'Relative Frequency': relative_frequencies.values})\n",
    "\n",
    "# Display a subtable of the results\n",
    "subtable"
   ]
  },
  {
   "cell_type": "code",
   "execution_count": 14,
   "id": "0f0f51c6",
   "metadata": {},
   "outputs": [
    {
     "data": {
      "text/plain": [
       "[Text(0.5, 0, 'Country'),\n",
       " Text(0, 0.5, 'Count'),\n",
       " Text(0.5, 1.0, 'Country Histogram')]"
      ]
     },
     "execution_count": 14,
     "metadata": {},
     "output_type": "execute_result"
    },
    {
     "data": {
      "image/png": "[encoded data removed]",
      "text/plain": [
       "<Figure size 640x480 with 1 Axes>"
      ]
     },
     "metadata": {},
     "output_type": "display_data"
    }
   ],
   "source": [
    "# Plot a histogram of the results\n",
    "ax = sns.histplot(df['Year'], kde = True, color = 'blue')\n",
    "ax.set(xlabel='Country', ylabel='Count', title ='Country Histogram')"
   ]
  },
  {
   "cell_type": "code",
   "execution_count": 15,
   "id": "29c5aea0",
   "metadata": {},
   "outputs": [
    {
     "data": {
      "text/plain": [
       "[Text(0.5, 0, 'Country'),\n",
       " Text(0, 0.5, 'Count'),\n",
       " Text(0.5, 1.0, 'Country Histogram')]"
      ]
     },
     "execution_count": 15,
     "metadata": {},
     "output_type": "execute_result"
    },
    {
     "data": {
      "image/png": "[encoded data removed]",
      "text/plain": [
       "<Figure size 640x480 with 1 Axes>"
      ]
     },
     "metadata": {},
     "output_type": "display_data"
    }
   ],
   "source": [
    "# Plot a histogram of the results\n",
    "ax = sns.histplot(df['Purchase Age'], kde = True, color = 'blue')\n",
    "ax.set(xlabel='Country', ylabel='Count', title ='Country Histogram')"
   ]
  },
  {
   "cell_type": "code",
   "execution_count": 16,
   "id": "56048171",
   "metadata": {},
   "outputs": [
    {
     "data": {
      "text/plain": [
       "[Text(0.5, 0, 'Country'),\n",
       " Text(0, 0.5, 'Count'),\n",
       " Text(0.5, 1.0, 'Country Histogram')]"
      ]
     },
     "execution_count": 16,
     "metadata": {},
     "output_type": "execute_result"
    },
    {
     "data": {
      "image/png": "[encoded data removed]",
      "text/plain": [
       "<Figure size 640x480 with 1 Axes>"
      ]
     },
     "metadata": {},
     "output_type": "display_data"
    }
   ],
   "source": [
    "# Plot a histogram of the results\n",
    "ax = sns.histplot(df['Deal Satisfaction'], color = 'blue')\n",
    "ax.set(xlabel='Country', ylabel='Count', title ='Country Histogram')"
   ]
  },
  {
   "cell_type": "code",
   "execution_count": 23,
   "id": "afdda70a",
   "metadata": {},
   "outputs": [
    {
     "data": {
      "image/png": "[encoded data removed]",
      "text/plain": [
       "<Figure size 640x480 with 1 Axes>"
      ]
     },
     "metadata": {},
     "output_type": "display_data"
    }
   ],
   "source": [
    "# Set the aesthetic style of the plots\n",
    "sns.set_style(\"whitegrid\")\n",
    "\n",
    "# Create the boxplots\n",
    "sns.boxplot(data = df, x = 'Country', y = 'Purchase Age')\n",
    "\n",
    "# Show the plot\n",
    "plt.show()"
   ]
  },
  {
   "cell_type": "code",
   "execution_count": 28,
   "id": "0c709d0b",
   "metadata": {},
   "outputs": [
    {
     "data": {
      "image/png": "[encoded data removed]",
      "text/plain": [
       "<Figure size 640x480 with 1 Axes>"
      ]
     },
     "metadata": {},
     "output_type": "display_data"
    }
   ],
   "source": [
    "# Set the aesthetic style of the plots\n",
    "sns.set_style(\"whitegrid\")\n",
    "\n",
    "# Create the boxplots\n",
    "sns.boxplot(data = df, x = 'Gender', y = 'Purchase Age')\n",
    "\n",
    "# Show the plot\n",
    "plt.show()"
   ]
  },
  {
   "cell_type": "code",
   "execution_count": 29,
   "id": "84cf868f",
   "metadata": {},
   "outputs": [
    {
     "data": {
      "image/png": "[encoded data removed]",
      "text/plain": [
       "<Figure size 640x480 with 1 Axes>"
      ]
     },
     "metadata": {},
     "output_type": "display_data"
    }
   ],
   "source": [
    "# Set the aesthetic style of the plots\n",
    "sns.set_style(\"whitegrid\")\n",
    "\n",
    "# Create the boxplots\n",
    "sns.boxplot(data = df, x = 'Entity', y = 'Purchase Age')\n",
    "\n",
    "# Show the plot\n",
    "plt.show()"
   ]
  },
  {
   "cell_type": "code",
   "execution_count": 31,
   "id": "bf5c1966",
   "metadata": {},
   "outputs": [
    {
     "data": {
      "image/png": "[encoded data removed]",
      "text/plain": [
       "<Figure size 640x480 with 1 Axes>"
      ]
     },
     "metadata": {},
     "output_type": "display_data"
    }
   ],
   "source": [
    "# Set the aesthetic style of the plots\n",
    "sns.set_style(\"whitegrid\")\n",
    "\n",
    "# Create the boxplots\n",
    "sns.boxplot(data = df, x = 'Country', y = 'Deal Satisfaction')\n",
    "\n",
    "# Show the plot\n",
    "plt.show()"
   ]
  },
  {
   "cell_type": "code",
   "execution_count": 32,
   "id": "9afbc3b3",
   "metadata": {},
   "outputs": [
    {
     "data": {
      "text/plain": [
       "[Text(0.5, 0, 'Year'), Text(0, 0.5, 'Count'), Text(0.5, 1.0, 'Year Histogram')]"
      ]
     },
     "execution_count": 32,
     "metadata": {},
     "output_type": "execute_result"
    },
    {
     "data": {
      "image/png": "[encoded data removed]",
      "text/plain": [
       "<Figure size 640x480 with 1 Axes>"
      ]
     },
     "metadata": {},
     "output_type": "display_data"
    }
   ],
   "source": [
    "# Plot a histogram of the results\n",
    "ax = sns.histplot(df['Year'], kde = True, color = 'blue')\n",
    "ax.set(xlabel='Year', ylabel='Count', title ='Year Histogram')"
   ]
  },
  {
   "cell_type": "code",
   "execution_count": 34,
   "id": "cc3187e1",
   "metadata": {},
   "outputs": [
    {
     "data": {
      "text/plain": [
       "[Text(0.5, 0, 'Deal Satisfaction'),\n",
       " Text(0, 0.5, 'Count'),\n",
       " Text(0.5, 1.0, 'Deal Satisfaction Histogram')]"
      ]
     },
     "execution_count": 34,
     "metadata": {},
     "output_type": "execute_result"
    },
    {
     "data": {
      "image/png": "[encoded data removed]",
      "text/plain": [
       "<Figure size 640x480 with 1 Axes>"
      ]
     },
     "metadata": {},
     "output_type": "display_data"
    }
   ],
   "source": [
    "# Plot a histogram of the results\n",
    "ax = sns.histplot(df['Deal Satisfaction'], kde = True, color = 'blue')\n",
    "ax.set(xlabel='Deal Satisfaction', ylabel='Count', title ='Deal Satisfaction Histogram')"
   ]
  }
 ],
 "metadata": {
  "kernelspec": {
   "display_name": "Python 3 (ipykernel)",
   "language": "python",
   "name": "python3"
  },
  "language_info": {
   "codemirror_mode": {
    "name": "ipython",
    "version": 3
   },
   "file_extension": ".py",
   "mimetype": "text/x-python",
   "name": "python",
   "nbconvert_exporter": "python",
   "pygments_lexer": "ipython3",
   "version": "3.9.16"
  }
 },
 "nbformat": 4,
 "nbformat_minor": 5
}
