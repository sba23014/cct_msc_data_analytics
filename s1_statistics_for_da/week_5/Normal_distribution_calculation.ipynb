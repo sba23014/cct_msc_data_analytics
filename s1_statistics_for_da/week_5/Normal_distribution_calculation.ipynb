{
 "cells": [
  {
   "cell_type": "code",
   "execution_count": 1,
   "id": "95502926",
   "metadata": {},
   "outputs": [],
   "source": [
    "from scipy.stats import norm"
   ]
  },
  {
   "cell_type": "code",
   "execution_count": 2,
   "id": "74f55712",
   "metadata": {},
   "outputs": [],
   "source": [
    "mean = 100\n",
    "std_dev = 10"
   ]
  },
  {
   "cell_type": "code",
   "execution_count": 3,
   "id": "d90dedf1",
   "metadata": {},
   "outputs": [
    {
     "data": {
      "text/plain": [
       "0.15865525393145707"
      ]
     },
     "execution_count": 3,
     "metadata": {},
     "output_type": "execute_result"
    }
   ],
   "source": [
    "# P(X < 90)\n",
    "\n",
    "norm.cdf(90, mean, std_dev)"
   ]
  },
  {
   "cell_type": "code",
   "execution_count": 4,
   "id": "2100aab8",
   "metadata": {},
   "outputs": [
    {
     "data": {
      "text/plain": [
       "0.6914624612740131"
      ]
     },
     "execution_count": 4,
     "metadata": {},
     "output_type": "execute_result"
    }
   ],
   "source": [
    "#P( X < 105)\n",
    "\n",
    "norm.cdf(105, mean, std_dev)"
   ]
  },
  {
   "cell_type": "code",
   "execution_count": 5,
   "id": "370cfe05",
   "metadata": {},
   "outputs": [
    {
     "data": {
      "text/plain": [
       "0.532807207342556"
      ]
     },
     "execution_count": 5,
     "metadata": {},
     "output_type": "execute_result"
    }
   ],
   "source": [
    "#P ( 90 < x < 105) BETWEEN\n",
    "\n",
    "norm.cdf(105, mean, std_dev) - norm.cdf(90, mean, std_dev)"
   ]
  },
  {
   "cell_type": "code",
   "execution_count": 6,
   "id": "cd3952cd",
   "metadata": {},
   "outputs": [],
   "source": [
    "V1 = norm.cdf(105, mean, std_dev)\n",
    "V2 = norm.cdf(90, mean, std_dev)"
   ]
  },
  {
   "cell_type": "code",
   "execution_count": 7,
   "id": "3a46abad",
   "metadata": {},
   "outputs": [
    {
     "data": {
      "text/plain": [
       "0.532807207342556"
      ]
     },
     "execution_count": 7,
     "metadata": {},
     "output_type": "execute_result"
    }
   ],
   "source": [
    "V1 - V2"
   ]
  },
  {
   "cell_type": "code",
   "execution_count": 8,
   "id": "41ee4703",
   "metadata": {},
   "outputs": [
    {
     "data": {
      "text/plain": [
       "0.15865525393145707"
      ]
     },
     "execution_count": 8,
     "metadata": {},
     "output_type": "execute_result"
    }
   ],
   "source": [
    "#P( X >110)\n",
    "\n",
    "norm.sf(110, mean, std_dev)"
   ]
  },
  {
   "cell_type": "code",
   "execution_count": 11,
   "id": "30dc57fd",
   "metadata": {},
   "outputs": [],
   "source": [
    "##### Binomial\n",
    "\n",
    "from scipy.stats import binom\n",
    "\n",
    "n = 3\n",
    "p = 0.16"
   ]
  },
  {
   "cell_type": "code",
   "execution_count": 13,
   "id": "d6cdbe33",
   "metadata": {},
   "outputs": [
    {
     "data": {
      "text/plain": [
       "0.064512"
      ]
     },
     "execution_count": 13,
     "metadata": {},
     "output_type": "execute_result"
    }
   ],
   "source": [
    "binom.pmf(k= 2, n = 3, p = 0.16 )"
   ]
  },
  {
   "cell_type": "code",
   "execution_count": null,
   "id": "637bcf6a",
   "metadata": {},
   "outputs": [],
   "source": []
  }
 ],
 "metadata": {
  "kernelspec": {
   "display_name": "Python 3",
   "language": "python",
   "name": "python3"
  },
  "language_info": {
   "codemirror_mode": {
    "name": "ipython",
    "version": 3
   },
   "file_extension": ".py",
   "mimetype": "text/x-python",
   "name": "python",
   "nbconvert_exporter": "python",
   "pygments_lexer": "ipython3",
   "version": "3.8.8"
  }
 },
 "nbformat": 4,
 "nbformat_minor": 5
}
