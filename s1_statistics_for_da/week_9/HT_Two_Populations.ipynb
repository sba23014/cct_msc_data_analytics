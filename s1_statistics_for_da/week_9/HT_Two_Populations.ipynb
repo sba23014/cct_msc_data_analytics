{
 "cells": [
  {
   "cell_type": "markdown",
   "id": "429d6879",
   "metadata": {},
   "source": [
    "# We work with Normal distribution"
   ]
  },
  {
   "cell_type": "code",
   "execution_count": 3,
   "id": "53167ae1",
   "metadata": {},
   "outputs": [],
   "source": [
    "def z_test(mean1, std1, n1, mean2, std2, n2):\n",
    "    from scipy.stats import norm\n",
    "    import numpy as np\n",
    "    \n",
    "    std_error = np.sqrt((std1**2/n1) + (std2**2/n2))\n",
    "    z_score = (mean1 - mean2)/std_error\n",
    "    p_value = 2 * norm.sf(abs(z_score))\n",
    "    \n",
    "    return z_score, p_value\n"
   ]
  },
  {
   "cell_type": "code",
   "execution_count": 4,
   "id": "2f31c5cd",
   "metadata": {},
   "outputs": [],
   "source": [
    "#We use the data that we have from the exercise\n",
    "\n",
    "mean_A, std_A, n_A = 0.9, 0.193, 9\n",
    "mean_B, std_B, n_B = 1.18, 0.245, 8"
   ]
  },
  {
   "cell_type": "code",
   "execution_count": 5,
   "id": "da6ae580",
   "metadata": {},
   "outputs": [
    {
     "data": {
      "text/plain": [
       "(-2.5950518957125714, 0.009457663770902592)"
      ]
     },
     "metadata": {},
     "output_type": "display_data"
    }
   ],
   "source": [
    "#Perform the HT with z\n",
    "\n",
    "z_score = z_test(mean_A, std_A, n_A, mean_B, std_B, n_B)\n",
    "display(z_score)"
   ]
  },
  {
   "cell_type": "markdown",
   "id": "6dafafa1",
   "metadata": {},
   "source": [
    "# We work now on the same exercise with Student's T"
   ]
  },
  {
   "cell_type": "code",
   "execution_count": 6,
   "id": "a2d03b61",
   "metadata": {},
   "outputs": [],
   "source": [
    "from scipy import stats"
   ]
  },
  {
   "cell_type": "code",
   "execution_count": 7,
   "id": "2bf40caf",
   "metadata": {},
   "outputs": [
    {
     "data": {
      "text/plain": [
       "Ttest_indResult(statistic=-2.5950518957125714, pvalue=0.021875897359240646)"
      ]
     },
     "metadata": {},
     "output_type": "display_data"
    }
   ],
   "source": [
    "#We perform the t test for two populations\n",
    "\n",
    "t_test = stats.ttest_ind_from_stats(mean1 = 0.9, std1 = 0.193, nobs1 = 9, mean2 = 1.18, std2 = 0.245, nobs2 = 8, equal_var = False)\n",
    "\n",
    "display(t_test)"
   ]
  },
  {
   "cell_type": "code",
   "execution_count": null,
   "id": "2b0d2e4a",
   "metadata": {},
   "outputs": [],
   "source": []
  }
 ],
 "metadata": {
  "kernelspec": {
   "display_name": "Python 3",
   "language": "python",
   "name": "python3"
  },
  "language_info": {
   "codemirror_mode": {
    "name": "ipython",
    "version": 3
   },
   "file_extension": ".py",
   "mimetype": "text/x-python",
   "name": "python",
   "nbconvert_exporter": "python",
   "pygments_lexer": "ipython3",
   "version": "3.8.8"
  }
 },
 "nbformat": 4,
 "nbformat_minor": 5
}
