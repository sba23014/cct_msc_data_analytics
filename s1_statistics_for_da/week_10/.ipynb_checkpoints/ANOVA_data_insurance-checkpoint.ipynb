{
 "cells": [
  {
   "cell_type": "code",
   "execution_count": 5,
   "id": "e97ad9a9",
   "metadata": {},
   "outputs": [],
   "source": [
    "#Importing the libraries\n",
    "\n",
    "import pandas as pd\n",
    "from scipy import stats\n",
    "import numpy as np\n",
    "import matplotlib.pyplot as plt\n",
    "import statsmodels.api as sm\n",
    "from statsmodels.formula.api import ols\n",
    "import scipy as scipy"
   ]
  },
  {
   "cell_type": "code",
   "execution_count": 6,
   "id": "3c6d6014",
   "metadata": {},
   "outputs": [
    {
     "data": {
      "text/html": [
       "<div>\n",
       "<style scoped>\n",
       "    .dataframe tbody tr th:only-of-type {\n",
       "        vertical-align: middle;\n",
       "    }\n",
       "\n",
       "    .dataframe tbody tr th {\n",
       "        vertical-align: top;\n",
       "    }\n",
       "\n",
       "    .dataframe thead th {\n",
       "        text-align: right;\n",
       "    }\n",
       "</style>\n",
       "<table border=\"1\" class=\"dataframe\">\n",
       "  <thead>\n",
       "    <tr style=\"text-align: right;\">\n",
       "      <th></th>\n",
       "      <th>age</th>\n",
       "      <th>bmi</th>\n",
       "      <th>charges</th>\n",
       "      <th>gender</th>\n",
       "      <th>region</th>\n",
       "    </tr>\n",
       "  </thead>\n",
       "  <tbody>\n",
       "    <tr>\n",
       "      <th>0</th>\n",
       "      <td>19</td>\n",
       "      <td>28</td>\n",
       "      <td>16885</td>\n",
       "      <td>female</td>\n",
       "      <td>southwest</td>\n",
       "    </tr>\n",
       "    <tr>\n",
       "      <th>1</th>\n",
       "      <td>62</td>\n",
       "      <td>26</td>\n",
       "      <td>27809</td>\n",
       "      <td>female</td>\n",
       "      <td>east</td>\n",
       "    </tr>\n",
       "    <tr>\n",
       "      <th>2</th>\n",
       "      <td>48</td>\n",
       "      <td>28</td>\n",
       "      <td>23568</td>\n",
       "      <td>male</td>\n",
       "      <td>southwest</td>\n",
       "    </tr>\n",
       "    <tr>\n",
       "      <th>3</th>\n",
       "      <td>53</td>\n",
       "      <td>23</td>\n",
       "      <td>23245</td>\n",
       "      <td>female</td>\n",
       "      <td>east</td>\n",
       "    </tr>\n",
       "    <tr>\n",
       "      <th>4</th>\n",
       "      <td>20</td>\n",
       "      <td>22</td>\n",
       "      <td>14712</td>\n",
       "      <td>female</td>\n",
       "      <td>northwest</td>\n",
       "    </tr>\n",
       "  </tbody>\n",
       "</table>\n",
       "</div>"
      ],
      "text/plain": [
       "   age  bmi  charges  gender     region\n",
       "0   19   28    16885  female  southwest\n",
       "1   62   26    27809  female       east\n",
       "2   48   28    23568    male  southwest\n",
       "3   53   23    23245  female       east\n",
       "4   20   22    14712  female  northwest"
      ]
     },
     "execution_count": 6,
     "metadata": {},
     "output_type": "execute_result"
    }
   ],
   "source": [
    "# Importing the dataset\n",
    "dataset = pd.read_csv('C:/Users/miant/Desktop/Python/insurance_data.csv')\n",
    "dataset.head()"
   ]
  },
  {
   "cell_type": "markdown",
   "id": "1f9fe42b",
   "metadata": {},
   "source": [
    "Our variable of interest is \"charges\""
   ]
  },
  {
   "cell_type": "markdown",
   "id": "e4d3e58b",
   "metadata": {},
   "source": [
    "We will check the normality of the data"
   ]
  },
  {
   "cell_type": "code",
   "execution_count": 7,
   "id": "5b0eb9c1",
   "metadata": {},
   "outputs": [
    {
     "data": {
      "text/plain": [
       "<Figure size 432x288 with 0 Axes>"
      ]
     },
     "execution_count": 7,
     "metadata": {},
     "output_type": "execute_result"
    },
    {
     "data": {
      "image/png": "[encoded data removed]",
      "text/plain": [
       "<Figure size 432x288 with 1 Axes>"
      ]
     },
     "metadata": {
      "needs_background": "light"
     },
     "output_type": "display_data"
    },
    {
     "data": {
      "text/plain": [
       "<Figure size 432x288 with 0 Axes>"
      ]
     },
     "metadata": {},
     "output_type": "display_data"
    }
   ],
   "source": [
    "#QQ-plot\n",
    "\n",
    "stats.probplot(dataset.charges, plot = plt)\n",
    "plt.figure()"
   ]
  },
  {
   "cell_type": "markdown",
   "id": "19b96f9a",
   "metadata": {},
   "source": [
    "Now we will perform a Shapiro Wilk test"
   ]
  },
  {
   "cell_type": "markdown",
   "id": "623943a3",
   "metadata": {},
   "source": [
    "H0: data comes from a normal distribution // H1: data does not come from a normal distribution"
   ]
  },
  {
   "cell_type": "code",
   "execution_count": 8,
   "id": "3ca1849c",
   "metadata": {},
   "outputs": [
    {
     "data": {
      "text/plain": [
       "ShapiroResult(statistic=0.9700243473052979, pvalue=0.10049082338809967)"
      ]
     },
     "execution_count": 8,
     "metadata": {},
     "output_type": "execute_result"
    }
   ],
   "source": [
    "#Shapiro test east\n",
    "stats.shapiro(dataset.charges[dataset.region==\"east\"])"
   ]
  },
  {
   "cell_type": "code",
   "execution_count": 9,
   "id": "ddc14a30",
   "metadata": {},
   "outputs": [
    {
     "data": {
      "text/plain": [
       "ShapiroResult(statistic=0.9592273235321045, pvalue=0.44794216752052307)"
      ]
     },
     "execution_count": 9,
     "metadata": {},
     "output_type": "execute_result"
    }
   ],
   "source": [
    "#Shapiro test southwest\n",
    "stats.shapiro(dataset.charges[dataset.region==\"southwest\"])"
   ]
  },
  {
   "cell_type": "code",
   "execution_count": 10,
   "id": "e475cf80",
   "metadata": {},
   "outputs": [
    {
     "data": {
      "text/plain": [
       "ShapiroResult(statistic=0.9469977021217346, pvalue=0.10870692878961563)"
      ]
     },
     "execution_count": 10,
     "metadata": {},
     "output_type": "execute_result"
    }
   ],
   "source": [
    "#Shapiro test northwest\n",
    "stats.shapiro(dataset.charges[dataset.region==\"northwest\"])"
   ]
  },
  {
   "cell_type": "markdown",
   "id": "443dfff8",
   "metadata": {},
   "source": [
    "Now we will check if we can assume equality of the variances"
   ]
  },
  {
   "cell_type": "code",
   "execution_count": 13,
   "id": "97393cac",
   "metadata": {},
   "outputs": [],
   "source": [
    "#we create the objects per region\n",
    "\n",
    "east = dataset.charges[dataset.region==\"east\"]"
   ]
  },
  {
   "cell_type": "code",
   "execution_count": 14,
   "id": "142528df",
   "metadata": {},
   "outputs": [],
   "source": [
    "south = dataset.charges[dataset.region==\"southwest\"]"
   ]
  },
  {
   "cell_type": "code",
   "execution_count": 15,
   "id": "0561a58f",
   "metadata": {},
   "outputs": [],
   "source": [
    "north = dataset.charges[dataset.region==\"northwest\"]"
   ]
  },
  {
   "cell_type": "code",
   "execution_count": 16,
   "id": "426d11c7",
   "metadata": {},
   "outputs": [
    {
     "data": {
      "text/plain": [
       "LeveneResult(statistic=0.9081132811476632, pvalue=0.40601496082599176)"
      ]
     },
     "execution_count": 16,
     "metadata": {},
     "output_type": "execute_result"
    }
   ],
   "source": [
    "#Homogeinity of the variances --> Levene test\n",
    "\n",
    "#H0: the variances are equal\n",
    "#H1: the variances are not equal\n",
    "\n",
    "from scipy.stats import levene\n",
    "\n",
    "levene(east,south,north,center = 'mean')"
   ]
  },
  {
   "cell_type": "markdown",
   "id": "18c06631",
   "metadata": {},
   "source": [
    "We set our hypothesis of ANOVA"
   ]
  },
  {
   "cell_type": "code",
   "execution_count": 17,
   "id": "cce8c09f",
   "metadata": {},
   "outputs": [
    {
     "name": "stdout",
     "output_type": "stream",
     "text": [
      "             df        sum_sq       mean_sq         F   PR(>F)\n",
      "region      2.0  4.396982e+07  2.198491e+07  1.334448  0.26715\n",
      "Residual  121.0  1.993463e+09  1.647490e+07       NaN      NaN\n"
     ]
    }
   ],
   "source": [
    "#H0 : mu east = mu south = mu north\n",
    "#H1 : there are at least 2 mu that are different oen to another one\n",
    "\n",
    "#We work with ANOVA One Way --> We analyse the charges based on one category (region)\n",
    "\n",
    "model = ols('charges~region', data=dataset).fit()\n",
    "aov = sm.stats.anova_lm(model, type = 2)\n",
    "print(aov)"
   ]
  },
  {
   "cell_type": "markdown",
   "id": "7d362cd7",
   "metadata": {},
   "source": [
    "# ANOVA two-ways"
   ]
  },
  {
   "cell_type": "code",
   "execution_count": 18,
   "id": "f2650103",
   "metadata": {},
   "outputs": [
    {
     "data": {
      "text/html": [
       "<div>\n",
       "<style scoped>\n",
       "    .dataframe tbody tr th:only-of-type {\n",
       "        vertical-align: middle;\n",
       "    }\n",
       "\n",
       "    .dataframe tbody tr th {\n",
       "        vertical-align: top;\n",
       "    }\n",
       "\n",
       "    .dataframe thead th {\n",
       "        text-align: right;\n",
       "    }\n",
       "</style>\n",
       "<table border=\"1\" class=\"dataframe\">\n",
       "  <thead>\n",
       "    <tr style=\"text-align: right;\">\n",
       "      <th></th>\n",
       "      <th>age</th>\n",
       "      <th>bmi</th>\n",
       "      <th>charges</th>\n",
       "      <th>gender</th>\n",
       "      <th>region</th>\n",
       "    </tr>\n",
       "  </thead>\n",
       "  <tbody>\n",
       "    <tr>\n",
       "      <th>0</th>\n",
       "      <td>62</td>\n",
       "      <td>26</td>\n",
       "      <td>27809</td>\n",
       "      <td>female</td>\n",
       "      <td>east</td>\n",
       "    </tr>\n",
       "    <tr>\n",
       "      <th>1</th>\n",
       "      <td>53</td>\n",
       "      <td>23</td>\n",
       "      <td>23245</td>\n",
       "      <td>female</td>\n",
       "      <td>east</td>\n",
       "    </tr>\n",
       "    <tr>\n",
       "      <th>2</th>\n",
       "      <td>28</td>\n",
       "      <td>24</td>\n",
       "      <td>17663</td>\n",
       "      <td>male</td>\n",
       "      <td>east</td>\n",
       "    </tr>\n",
       "    <tr>\n",
       "      <th>3</th>\n",
       "      <td>27</td>\n",
       "      <td>25</td>\n",
       "      <td>16578</td>\n",
       "      <td>female</td>\n",
       "      <td>east</td>\n",
       "    </tr>\n",
       "    <tr>\n",
       "      <th>4</th>\n",
       "      <td>59</td>\n",
       "      <td>30</td>\n",
       "      <td>30185</td>\n",
       "      <td>male</td>\n",
       "      <td>east</td>\n",
       "    </tr>\n",
       "  </tbody>\n",
       "</table>\n",
       "</div>"
      ],
      "text/plain": [
       "   age  bmi  charges  gender region\n",
       "0   62   26    27809  female   east\n",
       "1   53   23    23245  female   east\n",
       "2   28   24    17663    male   east\n",
       "3   27   25    16578  female   east\n",
       "4   59   30    30185    male   east"
      ]
     },
     "execution_count": 18,
     "metadata": {},
     "output_type": "execute_result"
    }
   ],
   "source": [
    "# Importing the dataset\n",
    "dataset2 = pd.read_csv('C:/Users/miant/Desktop/Python/insurance_data_twoways.csv')\n",
    "dataset2.head()"
   ]
  },
  {
   "cell_type": "code",
   "execution_count": 19,
   "id": "35b771df",
   "metadata": {},
   "outputs": [
    {
     "name": "stdout",
     "output_type": "stream",
     "text": [
      "            df        sum_sq       mean_sq         F    PR(>F)\n",
      "region     2.0  3.234401e+07  1.617200e+07  0.891993  0.414871\n",
      "gender     1.0  1.800509e+06  1.800509e+06  0.099310  0.753685\n",
      "Residual  64.0  1.160333e+09  1.813020e+07       NaN       NaN\n"
     ]
    }
   ],
   "source": [
    "#H0 = means are equal\n",
    "#H1 = at least one mean is different\n",
    "\n",
    "model2 = ols('charges~region+gender', data=dataset2).fit()\n",
    "aov2 = sm.stats.anova_lm(model2, type = 2)\n",
    "print(aov2)"
   ]
  },
  {
   "cell_type": "markdown",
   "id": "49be25db",
   "metadata": {},
   "source": [
    "Interpretation: we have no reason to believe that the means (charges) are not equal analysing the region where the customers live and their gender. "
   ]
  },
  {
   "cell_type": "code",
   "execution_count": null,
   "id": "c30ea3a9",
   "metadata": {},
   "outputs": [],
   "source": []
  }
 ],
 "metadata": {
  "kernelspec": {
   "display_name": "Python 3 (ipykernel)",
   "language": "python",
   "name": "python3"
  },
  "language_info": {
   "codemirror_mode": {
    "name": "ipython",
    "version": 3
   },
   "file_extension": ".py",
   "mimetype": "text/x-python",
   "name": "python",
   "nbconvert_exporter": "python",
   "pygments_lexer": "ipython3",
   "version": "3.9.16"
  }
 },
 "nbformat": 4,
 "nbformat_minor": 5
}
