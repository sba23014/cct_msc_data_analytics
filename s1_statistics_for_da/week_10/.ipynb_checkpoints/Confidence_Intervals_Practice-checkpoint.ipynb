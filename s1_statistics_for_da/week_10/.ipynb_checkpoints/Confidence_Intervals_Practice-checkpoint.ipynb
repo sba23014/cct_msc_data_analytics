{
 "cells": [
  {
   "cell_type": "code",
   "execution_count": 1,
   "id": "8a9aeefd",
   "metadata": {},
   "outputs": [],
   "source": [
    "#Import libraries\n",
    "\n",
    "import pandas as pd\n",
    "import numpy as np\n",
    "import scipy.stats as st"
   ]
  },
  {
   "cell_type": "code",
   "execution_count": 2,
   "id": "8d462f36",
   "metadata": {},
   "outputs": [
    {
     "data": {
      "text/html": [
       "<div>\n",
       "<style scoped>\n",
       "    .dataframe tbody tr th:only-of-type {\n",
       "        vertical-align: middle;\n",
       "    }\n",
       "\n",
       "    .dataframe tbody tr th {\n",
       "        vertical-align: top;\n",
       "    }\n",
       "\n",
       "    .dataframe thead th {\n",
       "        text-align: right;\n",
       "    }\n",
       "</style>\n",
       "<table border=\"1\" class=\"dataframe\">\n",
       "  <thead>\n",
       "    <tr style=\"text-align: right;\">\n",
       "      <th></th>\n",
       "      <th>age</th>\n",
       "      <th>bmi</th>\n",
       "      <th>charges</th>\n",
       "      <th>gender</th>\n",
       "      <th>region</th>\n",
       "    </tr>\n",
       "  </thead>\n",
       "  <tbody>\n",
       "    <tr>\n",
       "      <th>0</th>\n",
       "      <td>19</td>\n",
       "      <td>28</td>\n",
       "      <td>16885</td>\n",
       "      <td>female</td>\n",
       "      <td>southwest</td>\n",
       "    </tr>\n",
       "    <tr>\n",
       "      <th>1</th>\n",
       "      <td>62</td>\n",
       "      <td>26</td>\n",
       "      <td>27809</td>\n",
       "      <td>female</td>\n",
       "      <td>east</td>\n",
       "    </tr>\n",
       "    <tr>\n",
       "      <th>2</th>\n",
       "      <td>48</td>\n",
       "      <td>28</td>\n",
       "      <td>23568</td>\n",
       "      <td>male</td>\n",
       "      <td>southwest</td>\n",
       "    </tr>\n",
       "    <tr>\n",
       "      <th>3</th>\n",
       "      <td>53</td>\n",
       "      <td>23</td>\n",
       "      <td>23245</td>\n",
       "      <td>female</td>\n",
       "      <td>east</td>\n",
       "    </tr>\n",
       "    <tr>\n",
       "      <th>4</th>\n",
       "      <td>20</td>\n",
       "      <td>22</td>\n",
       "      <td>14712</td>\n",
       "      <td>female</td>\n",
       "      <td>northwest</td>\n",
       "    </tr>\n",
       "  </tbody>\n",
       "</table>\n",
       "</div>"
      ],
      "text/plain": [
       "   age  bmi  charges  gender     region\n",
       "0   19   28    16885  female  southwest\n",
       "1   62   26    27809  female       east\n",
       "2   48   28    23568    male  southwest\n",
       "3   53   23    23245  female       east\n",
       "4   20   22    14712  female  northwest"
      ]
     },
     "execution_count": 2,
     "metadata": {},
     "output_type": "execute_result"
    }
   ],
   "source": [
    "#IMPORTING DATASET\n",
    "# Importing the dataset\n",
    "dataset = pd.read_csv('C:/Users/miant/Desktop/Python/insurance_data.csv')\n",
    "dataset.head()"
   ]
  },
  {
   "cell_type": "markdown",
   "id": "76023fb5",
   "metadata": {},
   "source": [
    "We want to know the average charges of all the customers of the company. We will use 90% confidence"
   ]
  },
  {
   "cell_type": "code",
   "execution_count": 4,
   "id": "521e3f7c",
   "metadata": {},
   "outputs": [],
   "source": [
    "#We define our x (variable to analyse)\n",
    "\n",
    "X = dataset.iloc[:,2:3].values\n"
   ]
  },
  {
   "cell_type": "code",
   "execution_count": 6,
   "id": "92eeb936",
   "metadata": {},
   "outputs": [
    {
     "data": {
      "text/plain": [
       "(array([20089.28848335]), array([21300.77603278]))"
      ]
     },
     "execution_count": 6,
     "metadata": {},
     "output_type": "execute_result"
    }
   ],
   "source": [
    "#We create our confidence interval using Student's T at 90% confidence\n",
    "#st.t.interval(confidence=....)\n",
    "st.t.interval(alpha = 0.90, df=len(X)-1, loc= np.mean(X), scale = st.sem(X))"
   ]
  },
  {
   "cell_type": "markdown",
   "id": "c5b2382b",
   "metadata": {},
   "source": [
    "At a 90% confidence level, the customers of this insurance company pay in average between 20K and 21.3 K yearly for insurance"
   ]
  },
  {
   "cell_type": "markdown",
   "id": "2c11ca64",
   "metadata": {},
   "source": [
    "Now we will perform the same exercise but assuming that the distribution is Normal (just as example)"
   ]
  },
  {
   "cell_type": "code",
   "execution_count": 7,
   "id": "56cb7169",
   "metadata": {},
   "outputs": [
    {
     "data": {
      "text/plain": [
       "(array([20093.85084033]), array([21296.2136758]))"
      ]
     },
     "execution_count": 7,
     "metadata": {},
     "output_type": "execute_result"
    }
   ],
   "source": [
    "from scipy import stats\n",
    "\n",
    "stats.norm.interval(0.90, loc= np.mean(X), scale = st.sem(X))"
   ]
  },
  {
   "cell_type": "code",
   "execution_count": 8,
   "id": "43653263",
   "metadata": {},
   "outputs": [
    {
     "data": {
      "text/html": [
       "<div>\n",
       "<style scoped>\n",
       "    .dataframe tbody tr th:only-of-type {\n",
       "        vertical-align: middle;\n",
       "    }\n",
       "\n",
       "    .dataframe tbody tr th {\n",
       "        vertical-align: top;\n",
       "    }\n",
       "\n",
       "    .dataframe thead th {\n",
       "        text-align: right;\n",
       "    }\n",
       "</style>\n",
       "<table border=\"1\" class=\"dataframe\">\n",
       "  <thead>\n",
       "    <tr style=\"text-align: right;\">\n",
       "      <th></th>\n",
       "      <th>age</th>\n",
       "      <th>bmi</th>\n",
       "      <th>charges</th>\n",
       "    </tr>\n",
       "  </thead>\n",
       "  <tbody>\n",
       "    <tr>\n",
       "      <th>count</th>\n",
       "      <td>124.000000</td>\n",
       "      <td>124.000000</td>\n",
       "      <td>124.000000</td>\n",
       "    </tr>\n",
       "    <tr>\n",
       "      <th>mean</th>\n",
       "      <td>37.854839</td>\n",
       "      <td>25.379032</td>\n",
       "      <td>20695.032258</td>\n",
       "    </tr>\n",
       "    <tr>\n",
       "      <th>std</th>\n",
       "      <td>13.670152</td>\n",
       "      <td>3.148345</td>\n",
       "      <td>4069.950564</td>\n",
       "    </tr>\n",
       "    <tr>\n",
       "      <th>min</th>\n",
       "      <td>18.000000</td>\n",
       "      <td>17.000000</td>\n",
       "      <td>12829.000000</td>\n",
       "    </tr>\n",
       "    <tr>\n",
       "      <th>25%</th>\n",
       "      <td>27.000000</td>\n",
       "      <td>23.000000</td>\n",
       "      <td>17544.000000</td>\n",
       "    </tr>\n",
       "    <tr>\n",
       "      <th>50%</th>\n",
       "      <td>37.500000</td>\n",
       "      <td>26.000000</td>\n",
       "      <td>19987.500000</td>\n",
       "    </tr>\n",
       "    <tr>\n",
       "      <th>75%</th>\n",
       "      <td>48.000000</td>\n",
       "      <td>28.000000</td>\n",
       "      <td>23442.750000</td>\n",
       "    </tr>\n",
       "    <tr>\n",
       "      <th>max</th>\n",
       "      <td>64.000000</td>\n",
       "      <td>30.000000</td>\n",
       "      <td>30942.000000</td>\n",
       "    </tr>\n",
       "  </tbody>\n",
       "</table>\n",
       "</div>"
      ],
      "text/plain": [
       "              age         bmi       charges\n",
       "count  124.000000  124.000000    124.000000\n",
       "mean    37.854839   25.379032  20695.032258\n",
       "std     13.670152    3.148345   4069.950564\n",
       "min     18.000000   17.000000  12829.000000\n",
       "25%     27.000000   23.000000  17544.000000\n",
       "50%     37.500000   26.000000  19987.500000\n",
       "75%     48.000000   28.000000  23442.750000\n",
       "max     64.000000   30.000000  30942.000000"
      ]
     },
     "execution_count": 8,
     "metadata": {},
     "output_type": "execute_result"
    }
   ],
   "source": [
    "dataset.describe()"
   ]
  },
  {
   "cell_type": "code",
   "execution_count": 9,
   "id": "4594758f",
   "metadata": {},
   "outputs": [
    {
     "data": {
      "text/plain": [
       "20085.851445283955"
      ]
     },
     "execution_count": 9,
     "metadata": {},
     "output_type": "execute_result"
    }
   ],
   "source": [
    "#We can calculate the LL and UL with the formula\n",
    "\n",
    "LL = 20695.03 - (1.66 * 4069.95/ (123 ** 0.5))\n",
    "LL"
   ]
  },
  {
   "cell_type": "code",
   "execution_count": 10,
   "id": "17be42a9",
   "metadata": {},
   "outputs": [
    {
     "data": {
      "text/plain": [
       "21304.208554716042"
      ]
     },
     "execution_count": 10,
     "metadata": {},
     "output_type": "execute_result"
    }
   ],
   "source": [
    "UL = 20695.03 + (1.66 * 4069.95/ (123 ** 0.5))\n",
    "UL"
   ]
  },
  {
   "cell_type": "markdown",
   "id": "f9272426",
   "metadata": {},
   "source": [
    "# We will perform a HT to compare the average charges between males and females"
   ]
  },
  {
   "cell_type": "code",
   "execution_count": 11,
   "id": "4001d837",
   "metadata": {},
   "outputs": [],
   "source": [
    "F = dataset.charges[dataset.gender == \"female\"]\n",
    "M = dataset.charges[dataset.gender == \"male\"]"
   ]
  },
  {
   "cell_type": "markdown",
   "id": "6080ffd5",
   "metadata": {},
   "source": [
    "We work with data from the sample, so we can use a t test to verify whether the average charges is the same for both of them"
   ]
  },
  {
   "cell_type": "markdown",
   "id": "0a5f3bd9",
   "metadata": {},
   "source": [
    "We need x bar, we need S and the sample size to perform the hypothesis test"
   ]
  },
  {
   "cell_type": "markdown",
   "id": "907e64e4",
   "metadata": {},
   "source": [
    "H0 : mu female = mu males // \n",
    "H1: mu female =! mu male"
   ]
  },
  {
   "cell_type": "code",
   "execution_count": 12,
   "id": "a5fa8e29",
   "metadata": {},
   "outputs": [
    {
     "data": {
      "text/plain": [
       "count       62.000000\n",
       "mean     20881.887097\n",
       "std       4385.636074\n",
       "min      13845.000000\n",
       "25%      17475.750000\n",
       "50%      20066.000000\n",
       "75%      24052.250000\n",
       "max      30942.000000\n",
       "Name: charges, dtype: float64"
      ]
     },
     "execution_count": 12,
     "metadata": {},
     "output_type": "execute_result"
    }
   ],
   "source": [
    "F.describe()"
   ]
  },
  {
   "cell_type": "code",
   "execution_count": 13,
   "id": "7944935a",
   "metadata": {},
   "outputs": [
    {
     "data": {
      "text/plain": [
       "count       62.000000\n",
       "mean     20508.177419\n",
       "std       3754.432893\n",
       "min      12829.000000\n",
       "25%      17723.500000\n",
       "50%      19971.500000\n",
       "75%      22449.750000\n",
       "max      30185.000000\n",
       "Name: charges, dtype: float64"
      ]
     },
     "execution_count": 13,
     "metadata": {},
     "output_type": "execute_result"
    }
   ],
   "source": [
    "M.describe()"
   ]
  },
  {
   "cell_type": "code",
   "execution_count": 14,
   "id": "3e81e22a",
   "metadata": {},
   "outputs": [
    {
     "data": {
      "text/plain": [
       "Ttest_indResult(statistic=0.5097018341947361, pvalue=0.6112030163756715)"
      ]
     },
     "metadata": {},
     "output_type": "display_data"
    }
   ],
   "source": [
    "#We perform the t test for two populations\n",
    "\n",
    "t_test = stats.ttest_ind_from_stats(mean1 = 20881.88, std1 =4385.63, nobs1 = 62, mean2 = 20508.17, std2 = 3754.43, nobs2 = 62, equal_var = False)\n",
    "\n",
    "display(t_test)"
   ]
  },
  {
   "cell_type": "markdown",
   "id": "e4ea558b",
   "metadata": {},
   "source": [
    "As alpha was not given, so we assume 0.05 as alpha. "
   ]
  },
  {
   "cell_type": "markdown",
   "id": "e9978183",
   "metadata": {},
   "source": [
    "At a 5% significance level there is not evidence to say that women pay a different amount in average of charges than the men"
   ]
  },
  {
   "cell_type": "code",
   "execution_count": null,
   "id": "f5a2d691",
   "metadata": {},
   "outputs": [],
   "source": []
  }
 ],
 "metadata": {
  "kernelspec": {
   "display_name": "Python 3 (ipykernel)",
   "language": "python",
   "name": "python3"
  },
  "language_info": {
   "codemirror_mode": {
    "name": "ipython",
    "version": 3
   },
   "file_extension": ".py",
   "mimetype": "text/x-python",
   "name": "python",
   "nbconvert_exporter": "python",
   "pygments_lexer": "ipython3",
   "version": "3.9.16"
  }
 },
 "nbformat": 4,
 "nbformat_minor": 5
}
