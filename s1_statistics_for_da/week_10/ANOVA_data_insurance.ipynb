<!DOCTYPE html>
<html  dir="ltr" lang="en" xml:lang="en">
<head>
    <title>StatsData_MScData_Sept23_SB+: ANOVA_data_insurance_script</title>
    <link rel="shortcut icon" href="https://moodle.cct.ie/theme/image.php/lambda/theme/1700778230/favicon" />
    <meta http-equiv="Content-Type" content="text/html; charset=utf-8" />
<meta name="keywords" content="moodle, StatsData_MScData_Sept23_SB+: ANOVA_data_insurance_script" />
<link rel="stylesheet" type="text/css" href="https://moodle.cct.ie/theme/yui_combo.php?rollup/3.17.2/yui-moodlesimple-min.css" /><script id="firstthemesheet" type="text/css">/** Required in order to fix style inclusion problems in IE with YUI **/</script><link rel="stylesheet" type="text/css" href="https://moodle.cct.ie/theme/styles.php/lambda/1700778230_1698134479/all" />
<link rel="stylesheet" type="text/css" href="https://moodle.cct.ie/blocks/accessibility/userstyles.php?instance_id=37828" />
<script>
//<![CDATA[
var M = {}; M.yui = {};
M.pageloadstarttime = new Date();
M.cfg = {"wwwroot":"https:\/\/moodle.cct.ie","sesskey":"OADRTCVCU3","sessiontimeout":"7200","themerev":"1700778230","slasharguments":1,"theme":"lambda","iconsystemmodule":"core\/icon_system_standard","jsrev":"1700778232","admin":"admin","svgicons":true,"usertimezone":"Europe\/Dublin","contextid":234877,"langrev":1700778232,"templaterev":"1700778232"};var yui1ConfigFn = function(me) {if(/-skin|reset|fonts|grids|base/.test(me.name)){me.type='css';me.path=me.path.replace(/\.js/,'.css');me.path=me.path.replace(/\/yui2-skin/,'/assets/skins/sam/yui2-skin')}};
var yui2ConfigFn = function(me) {var parts=me.name.replace(/^moodle-/,'').split('-'),component=parts.shift(),module=parts[0],min='-min';if(/-(skin|core)$/.test(me.name)){parts.pop();me.type='css';min=''}
if(module){var filename=parts.join('-');me.path=component+'/'+module+'/'+filename+min+'.'+me.type}else{me.path=component+'/'+component+'.'+me.type}};
YUI_config = {"debug":false,"base":"https:\/\/moodle.cct.ie\/lib\/yuilib\/3.17.2\/","comboBase":"https:\/\/moodle.cct.ie\/theme\/yui_combo.php?","combine":true,"filter":null,"insertBefore":"firstthemesheet","groups":{"yui2":{"base":"https:\/\/moodle.cct.ie\/lib\/yuilib\/2in3\/2.9.0\/build\/","comboBase":"https:\/\/moodle.cct.ie\/theme\/yui_combo.php?","combine":true,"ext":false,"root":"2in3\/2.9.0\/build\/","patterns":{"yui2-":{"group":"yui2","configFn":yui1ConfigFn}}},"moodle":{"name":"moodle","base":"https:\/\/moodle.cct.ie\/theme\/yui_combo.php?m\/1700778232\/","combine":true,"comboBase":"https:\/\/moodle.cct.ie\/theme\/yui_combo.php?","ext":false,"root":"m\/1700778232\/","patterns":{"moodle-":{"group":"moodle","configFn":yui2ConfigFn}},"filter":null,"modules":{"moodle-core-blocks":{"requires":["base","node","io","dom","dd","dd-scroll","moodle-core-dragdrop","moodle-core-notification"]},"moodle-core-notification":{"requires":["moodle-core-notification-dialogue","moodle-core-notification-alert","moodle-core-notification-confirm","moodle-core-notification-exception","moodle-core-notification-ajaxexception"]},"moodle-core-notification-dialogue":{"requires":["base","node","panel","escape","event-key","dd-plugin","moodle-core-widget-focusafterclose","moodle-core-lockscroll"]},"moodle-core-notification-alert":{"requires":["moodle-core-notification-dialogue"]},"moodle-core-notification-confirm":{"requires":["moodle-core-notification-dialogue"]},"moodle-core-notification-exception":{"requires":["moodle-core-notification-dialogue"]},"moodle-core-notification-ajaxexception":{"requires":["moodle-core-notification-dialogue"]},"moodle-core-maintenancemodetimer":{"requires":["base","node"]},"moodle-core-languninstallconfirm":{"requires":["base","node","moodle-core-notification-confirm","moodle-core-notification-alert"]},"moodle-core-tooltip":{"requires":["base","node","io-base","moodle-core-notification-dialogue","json-parse","widget-position","widget-position-align","event-outside","cache-base"]},"moodle-core-handlebars":{"condition":{"trigger":"handlebars","when":"after"}},"moodle-core-dragdrop":{"requires":["base","node","io","dom","dd","event-key","event-focus","moodle-core-notification"]},"moodle-core-lockscroll":{"requires":["plugin","base-build"]},"moodle-core-popuphelp":{"requires":["moodle-core-tooltip"]},"moodle-core-formchangechecker":{"requires":["base","event-focus","moodle-core-event"]},"moodle-core-actionmenu":{"requires":["base","event","node-event-simulate"]},"moodle-core-chooserdialogue":{"requires":["base","panel","moodle-core-notification"]},"moodle-core-event":{"requires":["event-custom"]},"moodle-core_availability-form":{"requires":["base","node","event","event-delegate","panel","moodle-core-notification-dialogue","json"]},"moodle-backup-backupselectall":{"requires":["node","event","node-event-simulate","anim"]},"moodle-backup-confirmcancel":{"requires":["node","node-event-simulate","moodle-core-notification-confirm"]},"moodle-course-formatchooser":{"requires":["base","node","node-event-simulate"]},"moodle-course-management":{"requires":["base","node","io-base","moodle-core-notification-exception","json-parse","dd-constrain","dd-proxy","dd-drop","dd-delegate","node-event-delegate"]},"moodle-course-categoryexpander":{"requires":["node","event-key"]},"moodle-course-util":{"requires":["node"],"use":["moodle-course-util-base"],"submodules":{"moodle-course-util-base":{},"moodle-course-util-section":{"requires":["node","moodle-course-util-base"]},"moodle-course-util-cm":{"requires":["node","moodle-course-util-base"]}}},"moodle-course-dragdrop":{"requires":["base","node","io","dom","dd","dd-scroll","moodle-core-dragdrop","moodle-core-notification","moodle-course-coursebase","moodle-course-util"]},"moodle-form-dateselector":{"requires":["base","node","overlay","calendar"]},"moodle-form-passwordunmask":{"requires":[]},"moodle-form-shortforms":{"requires":["node","base","selector-css3","moodle-core-event"]},"moodle-question-searchform":{"requires":["base","node"]},"moodle-question-preview":{"requires":["base","dom","event-delegate","event-key","core_question_engine"]},"moodle-question-chooser":{"requires":["moodle-core-chooserdialogue"]},"moodle-availability_completion-form":{"requires":["base","node","event","moodle-core_availability-form"]},"moodle-availability_date-form":{"requires":["base","node","event","io","moodle-core_availability-form"]},"moodle-availability_grade-form":{"requires":["base","node","event","moodle-core_availability-form"]},"moodle-availability_group-form":{"requires":["base","node","event","moodle-core_availability-form"]},"moodle-availability_grouping-form":{"requires":["base","node","event","moodle-core_availability-form"]},"moodle-availability_profile-form":{"requires":["base","node","event","moodle-core_availability-form"]},"moodle-mod_assign-history":{"requires":["node","transition"]},"moodle-mod_bigbluebuttonbn-broker":{"requires":["base","node","datasource-get","datasource-jsonschema","datasource-polling","moodle-core-notification"]},"moodle-mod_bigbluebuttonbn-rooms":{"requires":["base","node","datasource-get","datasource-jsonschema","datasource-polling","moodle-core-notification"]},"moodle-mod_bigbluebuttonbn-imports":{"requires":["base","node"]},"moodle-mod_bigbluebuttonbn-recordings":{"requires":["base","node","datasource-get","datasource-jsonschema","datasource-polling","moodle-core-notification"]},"moodle-mod_bigbluebuttonbn-modform":{"requires":["base","node"]},"moodle-mod_checklist-linkselect":{"requires":["node","event-valuechange"]},"moodle-mod_customcert-rearrange":{"requires":["dd-delegate","dd-drag"]},"moodle-mod_quiz-toolboxes":{"requires":["base","node","event","event-key","io","moodle-mod_quiz-quizbase","moodle-mod_quiz-util-slot","moodle-core-notification-ajaxexception"]},"moodle-mod_quiz-autosave":{"requires":["base","node","event","event-valuechange","node-event-delegate","io-form"]},"moodle-mod_quiz-questionchooser":{"requires":["moodle-core-chooserdialogue","moodle-mod_quiz-util","querystring-parse"]},"moodle-mod_quiz-quizbase":{"requires":["base","node"]},"moodle-mod_quiz-modform":{"requires":["base","node","event"]},"moodle-mod_quiz-util":{"requires":["node","moodle-core-actionmenu"],"use":["moodle-mod_quiz-util-base"],"submodules":{"moodle-mod_quiz-util-base":{},"moodle-mod_quiz-util-slot":{"requires":["node","moodle-mod_quiz-util-base"]},"moodle-mod_quiz-util-page":{"requires":["node","moodle-mod_quiz-util-base"]}}},"moodle-mod_quiz-dragdrop":{"requires":["base","node","io","dom","dd","dd-scroll","moodle-core-dragdrop","moodle-core-notification","moodle-mod_quiz-quizbase","moodle-mod_quiz-util-base","moodle-mod_quiz-util-page","moodle-mod_quiz-util-slot","moodle-course-util"]},"moodle-message_airnotifier-toolboxes":{"requires":["base","node","io"]},"moodle-block_xp-rulepicker":{"requires":["base","node","handlebars","moodle-core-notification-dialogue"]},"moodle-block_xp-notification":{"requires":["base","node","handlebars","button-plugin","moodle-core-notification-dialogue"]},"moodle-block_xp-filters":{"requires":["base","node","moodle-core-dragdrop","moodle-block_xp-rulepicker"]},"moodle-filter_glossary-autolinker":{"requires":["base","node","io-base","json-parse","event-delegate","overlay","moodle-core-event","moodle-core-notification-alert","moodle-core-notification-exception","moodle-core-notification-ajaxexception"]},"moodle-filter_mathjaxloader-loader":{"requires":["moodle-core-event"]},"moodle-editor_atto-editor":{"requires":["node","transition","io","overlay","escape","event","event-simulate","event-custom","node-event-html5","node-event-simulate","yui-throttle","moodle-core-notification-dialogue","moodle-core-notification-confirm","moodle-editor_atto-rangy","handlebars","timers","querystring-stringify"]},"moodle-editor_atto-plugin":{"requires":["node","base","escape","event","event-outside","handlebars","event-custom","timers","moodle-editor_atto-menu"]},"moodle-editor_atto-menu":{"requires":["moodle-core-notification-dialogue","node","event","event-custom"]},"moodle-editor_atto-rangy":{"requires":[]},"moodle-format_grid-gridkeys":{"requires":["event-nav-keys"]},"moodle-report_eventlist-eventfilter":{"requires":["base","event","node","node-event-delegate","datatable","autocomplete","autocomplete-filters"]},"moodle-report_loglive-fetchlogs":{"requires":["base","event","node","io","node-event-delegate"]},"moodle-gradereport_grader-gradereporttable":{"requires":["base","node","event","handlebars","overlay","event-hover"]},"moodle-gradereport_history-userselector":{"requires":["escape","event-delegate","event-key","handlebars","io-base","json-parse","moodle-core-notification-dialogue"]},"moodle-tool_capability-search":{"requires":["base","node"]},"moodle-tool_lp-dragdrop-reorder":{"requires":["moodle-core-dragdrop"]},"moodle-tool_monitor-dropdown":{"requires":["base","event","node"]},"moodle-assignfeedback_editpdf-editor":{"requires":["base","event","node","io","graphics","json","event-move","event-resize","transition","querystring-stringify-simple","moodle-core-notification-dialog","moodle-core-notification-alert","moodle-core-notification-warning","moodle-core-notification-exception","moodle-core-notification-ajaxexception"]},"moodle-atto_accessibilitychecker-button":{"requires":["color-base","moodle-editor_atto-plugin"]},"moodle-atto_accessibilityhelper-button":{"requires":["moodle-editor_atto-plugin"]},"moodle-atto_align-button":{"requires":["moodle-editor_atto-plugin"]},"moodle-atto_bold-button":{"requires":["moodle-editor_atto-plugin"]},"moodle-atto_charmap-button":{"requires":["moodle-editor_atto-plugin"]},"moodle-atto_clear-button":{"requires":["moodle-editor_atto-plugin"]},"moodle-atto_collapse-button":{"requires":["moodle-editor_atto-plugin"]},"moodle-atto_emojipicker-button":{"requires":["moodle-editor_atto-plugin"]},"moodle-atto_emoticon-button":{"requires":["moodle-editor_atto-plugin"]},"moodle-atto_equation-button":{"requires":["moodle-editor_atto-plugin","moodle-core-event","io","event-valuechange","tabview","array-extras"]},"moodle-atto_h5p-button":{"requires":["moodle-editor_atto-plugin"]},"moodle-atto_html-beautify":{},"moodle-atto_html-button":{"requires":["promise","moodle-editor_atto-plugin","moodle-atto_html-beautify","moodle-atto_html-codemirror","event-valuechange"]},"moodle-atto_html-codemirror":{"requires":["moodle-atto_html-codemirror-skin"]},"moodle-atto_image-button":{"requires":["moodle-editor_atto-plugin"]},"moodle-atto_indent-button":{"requires":["moodle-editor_atto-plugin"]},"moodle-atto_italic-button":{"requires":["moodle-editor_atto-plugin"]},"moodle-atto_link-button":{"requires":["moodle-editor_atto-plugin"]},"moodle-atto_managefiles-button":{"requires":["moodle-editor_atto-plugin"]},"moodle-atto_managefiles-usedfiles":{"requires":["node","escape"]},"moodle-atto_media-button":{"requires":["moodle-editor_atto-plugin","moodle-form-shortforms"]},"moodle-atto_noautolink-button":{"requires":["moodle-editor_atto-plugin"]},"moodle-atto_orderedlist-button":{"requires":["moodle-editor_atto-plugin"]},"moodle-atto_recordrtc-button":{"requires":["moodle-editor_atto-plugin","moodle-atto_recordrtc-recording"]},"moodle-atto_recordrtc-recording":{"requires":["moodle-atto_recordrtc-button"]},"moodle-atto_rtl-button":{"requires":["moodle-editor_atto-plugin"]},"moodle-atto_strike-button":{"requires":["moodle-editor_atto-plugin"]},"moodle-atto_subscript-button":{"requires":["moodle-editor_atto-plugin"]},"moodle-atto_superscript-button":{"requires":["moodle-editor_atto-plugin"]},"moodle-atto_table-button":{"requires":["moodle-editor_atto-plugin","moodle-editor_atto-menu","event","event-valuechange"]},"moodle-atto_title-button":{"requires":["moodle-editor_atto-plugin"]},"moodle-atto_underline-button":{"requires":["moodle-editor_atto-plugin"]},"moodle-atto_undo-button":{"requires":["moodle-editor_atto-plugin"]},"moodle-atto_unorderedlist-button":{"requires":["moodle-editor_atto-plugin"]}}},"gallery":{"name":"gallery","base":"https:\/\/moodle.cct.ie\/lib\/yuilib\/gallery\/","combine":true,"comboBase":"https:\/\/moodle.cct.ie\/theme\/yui_combo.php?","ext":false,"root":"gallery\/1700778232\/","patterns":{"gallery-":{"group":"gallery"}}}},"modules":{"core_filepicker":{"name":"core_filepicker","fullpath":"https:\/\/moodle.cct.ie\/lib\/javascript.php\/1700778232\/repository\/filepicker.js","requires":["base","node","node-event-simulate","json","async-queue","io-base","io-upload-iframe","io-form","yui2-treeview","panel","cookie","datatable","datatable-sort","resize-plugin","dd-plugin","escape","moodle-core_filepicker","moodle-core-notification-dialogue"]},"core_comment":{"name":"core_comment","fullpath":"https:\/\/moodle.cct.ie\/lib\/javascript.php\/1700778232\/comment\/comment.js","requires":["base","io-base","node","json","yui2-animation","overlay","escape"]},"mathjax":{"name":"mathjax","fullpath":"https:\/\/cdn.jsdelivr.net\/npm\/mathjax@2.7.8\/MathJax.js?delayStartupUntil=configured"},"block_accessibility":{"name":"block_accessibility","fullpath":"https:\/\/moodle.cct.ie\/lib\/javascript.php\/1700778232\/blocks\/accessibility\/module.js","requires":["base","node","stylesheet"]}}};
M.yui.loader = {modules: {}};

//]]>
</script>

<script type="text/javascript">

  var _gaq = _gaq || [];
  _gaq.push(['_setAccount', 'UA-35083150-1']);
  _gaq.push(['_trackPageview']);

  (function() {
    var ga = document.createElement('script'); ga.type = 'text/javascript'; ga.async = true;
    ga.src = ('https:' == document.location.protocol ? 'https://ssl' : 'https://www') + '.google-analytics.com/ga.js';
    var s = document.getElementsByTagName('script')[0]; s.parentNode.insertBefore(ga, s);
  })();

</script>    <meta name="viewport" content="width=device-width, initial-scale=1.0">
    <!-- Google web fonts -->
    <link href="https://fonts.googleapis.com/css?family=Open+Sans:400%7COpen+Sans:700" rel="stylesheet">

</head>

<body  id="page-mod-resource-view" class="format-weeks  path-mod path-mod-resource chrome dir-ltr lang-en yui-skin-sam yui3-skin-sam moodle-cct-ie pagelayout-incourse course-2627 context-234877 cmid-147833 category-668 columns3 has-region-side-pre has-region-side-post used-region-side-pre used-region-side-post blockstyle-02 sidebar-enabled sidebar-closed">

<div>
    <a class="sr-only sr-only-focusable" href="#maincontent">Skip to main content</a>
</div><script src="https://moodle.cct.ie/lib/javascript.php/1700778232/lib/babel-polyfill/polyfill.min.js"></script>
<script src="https://moodle.cct.ie/lib/javascript.php/1700778232/lib/polyfills/polyfill.js"></script>
<script src="https://moodle.cct.ie/theme/yui_combo.php?rollup/3.17.2/yui-moodlesimple-min.js"></script><script src="https://moodle.cct.ie/theme/jquery.php/core/jquery-3.5.1.min.js"></script>
<script src="https://moodle.cct.ie/lib/javascript.php/1700778232/lib/javascript-static.js"></script>
<script>
//<![CDATA[
document.body.className += ' jsenabled';
//]]>
</script>


<div id="sidebar" class="">
	<aside id="block-region-side-pre" class="block-region" data-blockregion="side-pre" data-droptarget="1"><a href="#sb-1" class="sr-only sr-only-focusable">Skip CCT Hume Library Resources</a>

<section id="inst18117"
     class=" block_html block  card mb-3"
     role="complementary"
     data-block="html"
          aria-labelledby="instance-18117-header"
     >

    <div class="card-body p-3">

            <h5 id="instance-18117-header" class="card-title d-inline">CCT Hume Library Resources</h5>


        <div class="card-text content mt-3">
            <div class="no-overflow"><h5><a href="https://studenthub.cct.ie/" target="_blank">CCT Hub</a></h5><h5><a href="https://library.cct.ie/home" target="_blank" speechify-initial-font-size="13px" speechify-initial-font-family="&quot;Open Sans&quot;, sans-serif" style="font-family: &quot;Open Sans&quot;, sans-serif; font-size: 13px;">Library Website&nbsp;&amp; Search Catalogue</a></h5>
<h5><a href="https://sites.google.com/cct.ie/key-academic-dates/" target="_blank" speechify-initial-font-size="13px" speechify-initial-font-family="&quot;Open Sans&quot;, sans-serif" style="font-family: &quot;Open Sans&quot;, sans-serif; font-size: 13px;">Key Academic Dates</a></h5>
<h5><a href="https://arc.cct.ie" target="_blank" style="font-size: 13px; font-family: &quot;Open Sans&quot;, sans-serif;" speechify-initial-font-size="13px" speechify-initial-font-family="&quot;Open Sans&quot;, sans-serif">CCT ARC</a></h5><br speechify-initial-font-size="13px" style="font-size: 13px;"></div>
            <div class="footer"></div>
            
        </div>

    </div>

</section>

  <span id="sb-1"></span><a href="#sb-2" class="sr-only sr-only-focusable">Skip Navigation</a>

<section id="inst4"
     class=" block_navigation block  card mb-3"
     role="navigation"
     data-block="navigation"
          aria-labelledby="instance-4-header"
     >

    <div class="card-body p-3">

            <h5 id="instance-4-header" class="card-title d-inline">Navigation</h5>


        <div class="card-text content mt-3">
            <ul class="block_tree list" role="tree" data-ajax-loader="block_navigation/nav_loader"><li class="type_unknown depth_1 contains_branch" aria-labelledby="label_1_1"><p class="tree_item branch navigation_node" role="treeitem" aria-expanded="true" aria-owns="random6564f503160031_group" data-collapsible="false"><a tabindex="-1" id="label_1_1" href="https://moodle.cct.ie/">Home</a></p><ul id="random6564f503160031_group" role="group"><li class="type_setting depth_2 item_with_icon" aria-labelledby="label_2_2"><p class="tree_item hasicon" role="treeitem"><a tabindex="-1" id="label_2_2" href="https://moodle.cct.ie/my/"><img class="icon navicon" alt="" aria-hidden="true" src="https://moodle.cct.ie/theme/image.php/lambda/core/1700778230/i/dashboard" /><span class="item-content-wrap">Dashboard</span></a></p></li><li class="type_course depth_2 contains_branch" aria-labelledby="label_2_3"><p class="tree_item branch" role="treeitem" aria-expanded="false" aria-owns="random6564f503160033_group"><span tabindex="-1" id="label_2_3" title="CCT College Dublin">Site pages</span></p><ul id="random6564f503160033_group" role="group" aria-hidden="true"><li class="type_unknown depth_3 item_with_icon" aria-labelledby="label_3_5"><p class="tree_item hasicon" role="treeitem"><a tabindex="-1" id="label_3_5" href="https://moodle.cct.ie/blog/index.php"><img class="icon navicon" alt="" aria-hidden="true" src="https://moodle.cct.ie/theme/image.php/lambda/core/1700778230/i/navigationitem" /><span class="item-content-wrap">Site blogs</span></a></p></li><li class="type_custom depth_3 item_with_icon" aria-labelledby="label_3_6"><p class="tree_item hasicon" role="treeitem"><a tabindex="-1" id="label_3_6" href="https://moodle.cct.ie/badges/view.php?type=1"><img class="icon navicon" alt="" aria-hidden="true" src="https://moodle.cct.ie/theme/image.php/lambda/core/1700778230/i/navigationitem" /><span class="item-content-wrap">Site badges</span></a></p></li><li class="type_setting depth_3 item_with_icon" aria-labelledby="label_3_7"><p class="tree_item hasicon" role="treeitem"><a tabindex="-1" id="label_3_7" href="https://moodle.cct.ie/tag/search.php"><img class="icon navicon" alt="" aria-hidden="true" src="https://moodle.cct.ie/theme/image.php/lambda/core/1700778230/i/navigationitem" /><span class="item-content-wrap">Tags</span></a></p></li><li class="type_custom depth_3 item_with_icon" aria-labelledby="label_3_8"><p class="tree_item hasicon" role="treeitem"><a tabindex="-1" id="label_3_8" href="https://moodle.cct.ie/calendar/view.php?view=month&amp;course=2627"><img class="icon navicon" alt="" aria-hidden="true" src="https://moodle.cct.ie/theme/image.php/lambda/core/1700778230/i/calendar" /><span class="item-content-wrap">Calendar</span></a></p></li><li class="type_activity depth_3 item_with_icon" aria-labelledby="label_3_10"><p class="tree_item hasicon" role="treeitem"><a tabindex="-1" id="label_3_10" title="Forum" href="https://moodle.cct.ie/mod/forum/view.php?id=190"><img class="icon navicon" alt="Forum" title="Forum" src="https://moodle.cct.ie/theme/image.php/lambda/forum/1700778230/icon" /><span class="item-content-wrap">Site news</span></a></p></li><li class="type_activity depth_3 item_with_icon" aria-labelledby="label_3_11"><p class="tree_item hasicon" role="treeitem"><a tabindex="-1" id="label_3_11" title="Folder" href="https://moodle.cct.ie/mod/folder/view.php?id=40046"><img class="icon navicon" alt="Folder" title="Folder" src="https://moodle.cct.ie/theme/image.php/lambda/folder/1700778230/icon" /><span class="item-content-wrap">Dashboard images</span></a></p></li></ul></li><li class="type_system depth_2 contains_branch" aria-labelledby="label_2_12"><p class="tree_item branch canexpand" role="treeitem" aria-expanded="true" aria-owns="random6564f5031600310_group"><span tabindex="-1" id="label_2_12">My courses</span></p><ul id="random6564f5031600310_group" role="group"><li class="type_course depth_3 contains_branch" aria-labelledby="label_3_13"><p class="tree_item branch" role="treeitem" id="expandable_branch_20_2521" aria-expanded="false" data-requires-ajax="true" data-loaded="false" data-node-id="expandable_branch_20_2521" data-node-key="2521" data-node-type="20"><a tabindex="-1" id="label_3_13" title="Essentials 3 - Career Skills" href="https://moodle.cct.ie/course/view.php?id=2521">Essentials3</a></p></li><li class="type_course depth_3 contains_branch" aria-labelledby="label_3_14"><p class="tree_item branch" role="treeitem" id="expandable_branch_20_2520" aria-expanded="false" data-requires-ajax="true" data-loaded="false" data-node-id="expandable_branch_20_2520" data-node-key="2520" data-node-type="20"><a tabindex="-1" id="label_3_14" title="Essentials 2 - Research Skills" href="https://moodle.cct.ie/course/view.php?id=2520">Essentials2</a></p></li><li class="type_course depth_3 contains_branch" aria-labelledby="label_3_15"><p class="tree_item branch" role="treeitem" id="expandable_branch_20_2519" aria-expanded="false" data-requires-ajax="true" data-loaded="false" data-node-id="expandable_branch_20_2519" data-node-key="2519" data-node-type="20"><a tabindex="-1" id="label_3_15" title="Essentials 1- Study Skills" href="https://moodle.cct.ie/course/view.php?id=2519">Essentials1</a></p></li><li class="type_course depth_3 contains_branch" aria-labelledby="label_3_16"><p class="tree_item branch" role="treeitem" id="expandable_branch_20_1607" aria-expanded="false" data-requires-ajax="true" data-loaded="false" data-node-id="expandable_branch_20_1607" data-node-key="1607" data-node-type="20"><a tabindex="-1" id="label_3_16" title="Student Induction" href="https://moodle.cct.ie/course/view.php?id=1607">Induction</a></p></li><li class="type_course depth_3 contains_branch" aria-labelledby="label_3_17"><p class="tree_item branch" role="treeitem" id="expandable_branch_20_190" aria-expanded="false" data-requires-ajax="true" data-loaded="false" data-node-id="expandable_branch_20_190" data-node-key="190" data-node-type="20"><a tabindex="-1" id="label_3_17" title="Computing Student Information" href="https://moodle.cct.ie/course/view.php?id=190">Computing Student Information</a></p></li><li class="type_course depth_3 contains_branch" aria-labelledby="label_3_18"><p class="tree_item branch" role="treeitem" id="expandable_branch_20_2629" aria-expanded="false" data-requires-ajax="true" data-loaded="false" data-node-id="expandable_branch_20_2629" data-node-key="2629" data-node-type="20"><a tabindex="-1" id="label_3_18" title="Machine Learning for Data Analytics (MSc in Data Analytics - Sept 2023 - SB+ cohort)" href="https://moodle.cct.ie/course/view.php?id=2629">MLData_MScData_Sept23_SB+</a></p></li><li class="type_course depth_3 contains_branch" aria-labelledby="label_3_19"><p class="tree_item branch" role="treeitem" id="expandable_branch_20_2628" aria-expanded="false" data-requires-ajax="true" data-loaded="false" data-node-id="expandable_branch_20_2628" data-node-key="2628" data-node-type="20"><a tabindex="-1" id="label_3_19" title="Data Preparation &amp; Visualisation (MSc in Data Analytics - Sept 2023 - SB+ cohort)" href="https://moodle.cct.ie/course/view.php?id=2628">DataPrepVis_MScData_Sept23_SB+</a></p></li><li class="type_course depth_3 contains_branch" aria-labelledby="label_3_20"><p class="tree_item branch canexpand" role="treeitem" aria-expanded="true" aria-owns="random6564f5031600311_group"><a tabindex="-1" id="label_3_20" title="Statistics for Data Analytics (MSc in Data Analytics - Sept 2023 - SB+ cohort)" href="https://moodle.cct.ie/course/view.php?id=2627">StatsData_MScData_Sept23_SB+</a></p><ul id="random6564f5031600311_group" role="group"><li class="type_container depth_4 contains_branch" aria-labelledby="label_4_21"><p class="tree_item branch" role="treeitem" aria-expanded="false" aria-owns="random6564f5031600312_group"><a tabindex="-1" id="label_4_21" href="https://moodle.cct.ie/user/index.php?id=2627">Participants</a></p><ul id="random6564f5031600312_group" role="group" aria-hidden="true"><li class="type_setting depth_5 item_with_icon" aria-labelledby="label_5_22"><p class="tree_item hasicon" role="treeitem"><a tabindex="-1" id="label_5_22" href="https://moodle.cct.ie/blog/index.php?courseid=2627"><img class="icon navicon" alt="" aria-hidden="true" src="https://moodle.cct.ie/theme/image.php/lambda/core/1700778230/i/navigationitem" /><span class="item-content-wrap">Course blogs</span></a></p></li><li class="type_user depth_5 item_with_icon" aria-labelledby="label_5_23"><p class="tree_item hasicon" role="treeitem"><a tabindex="-1" id="label_5_23" href="https://moodle.cct.ie/user/view.php?id=13045&amp;course=2627"><img class="icon navicon" alt="" aria-hidden="true" src="https://moodle.cct.ie/theme/image.php/lambda/core/1700778230/i/navigationitem" /><span class="item-content-wrap">Stephen Hasson</span></a></p></li></ul></li><li class="type_setting depth_4 item_with_icon" aria-labelledby="label_4_24"><p class="tree_item hasicon" role="treeitem"><a tabindex="-1" id="label_4_24" href="https://moodle.cct.ie/badges/view.php?type=2&amp;id=2627"><img class="icon navicon" alt="Badges" title="Badges" src="https://moodle.cct.ie/theme/image.php/lambda/core/1700778230/i/badge" /><span class="item-content-wrap">Badges</span></a></p></li><li class="type_setting depth_4 item_with_icon" aria-labelledby="label_4_25"><p class="tree_item hasicon" role="treeitem"><a tabindex="-1" id="label_4_25" href="https://moodle.cct.ie/admin/tool/lp/coursecompetencies.php?courseid=2627"><img class="icon navicon" alt="" aria-hidden="true" src="https://moodle.cct.ie/theme/image.php/lambda/core/1700778230/i/competencies" /><span class="item-content-wrap">Competencies</span></a></p></li><li class="type_setting depth_4 item_with_icon" aria-labelledby="label_4_26"><p class="tree_item hasicon" role="treeitem"><a tabindex="-1" id="label_4_26" href="https://moodle.cct.ie/grade/report/index.php?id=2627"><img class="icon navicon" alt="" aria-hidden="true" src="https://moodle.cct.ie/theme/image.php/lambda/core/1700778230/i/grades" /><span class="item-content-wrap">Grades</span></a></p></li><li class="type_structure depth_4 contains_branch" aria-labelledby="label_4_27"><p class="tree_item branch" role="treeitem" id="expandable_branch_30_40800" aria-expanded="false" data-requires-ajax="true" data-loaded="false" data-node-id="expandable_branch_30_40800" data-node-key="40800" data-node-type="30"><span tabindex="-1" id="label_4_27">Module Information</span></p></li><li class="type_structure depth_4 contains_branch" aria-labelledby="label_4_28"><p class="tree_item branch" role="treeitem" id="expandable_branch_30_40801" aria-expanded="false" data-requires-ajax="true" data-loaded="false" data-node-id="expandable_branch_30_40801" data-node-key="40801" data-node-type="30"><span tabindex="-1" id="label_4_28">18 September - 24 September</span></p></li><li class="type_structure depth_4 contains_branch" aria-labelledby="label_4_29"><p class="tree_item branch" role="treeitem" id="expandable_branch_30_40802" aria-expanded="false" data-requires-ajax="true" data-loaded="false" data-node-id="expandable_branch_30_40802" data-node-key="40802" data-node-type="30"><span tabindex="-1" id="label_4_29">25 September - 1 October</span></p></li><li class="type_structure depth_4 contains_branch" aria-labelledby="label_4_30"><p class="tree_item branch" role="treeitem" id="expandable_branch_30_40803" aria-expanded="false" data-requires-ajax="true" data-loaded="false" data-node-id="expandable_branch_30_40803" data-node-key="40803" data-node-type="30"><span tabindex="-1" id="label_4_30">2 October - 8 October</span></p></li><li class="type_structure depth_4 contains_branch" aria-labelledby="label_4_31"><p class="tree_item branch" role="treeitem" id="expandable_branch_30_40804" aria-expanded="false" data-requires-ajax="true" data-loaded="false" data-node-id="expandable_branch_30_40804" data-node-key="40804" data-node-type="30"><span tabindex="-1" id="label_4_31">9 October - 15 October</span></p></li><li class="type_structure depth_4 contains_branch" aria-labelledby="label_4_32"><p class="tree_item branch" role="treeitem" id="expandable_branch_30_40805" aria-expanded="false" data-requires-ajax="true" data-loaded="false" data-node-id="expandable_branch_30_40805" data-node-key="40805" data-node-type="30"><span tabindex="-1" id="label_4_32">16 October - 22 October</span></p></li><li class="type_structure depth_4 contains_branch" aria-labelledby="label_4_33"><p class="tree_item branch" role="treeitem" id="expandable_branch_30_40806" aria-expanded="false" data-requires-ajax="true" data-loaded="false" data-node-id="expandable_branch_30_40806" data-node-key="40806" data-node-type="30"><span tabindex="-1" id="label_4_33">23 October - 29 October</span></p></li><li class="type_structure depth_4 contains_branch" aria-labelledby="label_4_34"><p class="tree_item branch" role="treeitem" id="expandable_branch_30_40807" aria-expanded="false" data-requires-ajax="true" data-loaded="false" data-node-id="expandable_branch_30_40807" data-node-key="40807" data-node-type="30"><span tabindex="-1" id="label_4_34">30 October - 5 November</span></p></li><li class="type_structure depth_4 contains_branch" aria-labelledby="label_4_35"><p class="tree_item branch" role="treeitem" id="expandable_branch_30_40808" aria-expanded="false" data-requires-ajax="true" data-loaded="false" data-node-id="expandable_branch_30_40808" data-node-key="40808" data-node-type="30"><span tabindex="-1" id="label_4_35">6 November - 12 November</span></p></li><li class="type_structure depth_4 contains_branch" aria-labelledby="label_4_36"><p class="tree_item branch" role="treeitem" id="expandable_branch_30_40809" aria-expanded="false" data-requires-ajax="true" data-loaded="false" data-node-id="expandable_branch_30_40809" data-node-key="40809" data-node-type="30"><span tabindex="-1" id="label_4_36">13 November - 19 November</span></p></li><li class="type_structure depth_4 contains_branch" aria-labelledby="label_4_37"><p class="tree_item branch" role="treeitem" aria-expanded="true" aria-owns="random6564f5031600318_group"><span tabindex="-1" id="label_4_37">20 November - 26 November</span></p><ul id="random6564f5031600318_group" role="group"><li class="type_activity depth_5 item_with_icon" aria-labelledby="label_5_38"><p class="tree_item hasicon" role="treeitem"><a href="https://moodle.cct.ie/mod/resource/view.php?id=146517" id="label_5_38" class=""  tabindex="-1"  title="File" ><img class="icon navicon" alt="File" title="File" src="https://moodle.cct.ie/theme/image.php/lambda/core/1700778230/f/pdf-24" /><span class="item-content-wrap">ANOVA Two ways</span></a></p></li><li class="type_activity depth_5 item_with_icon" aria-labelledby="label_5_39"><p class="tree_item hasicon" role="treeitem"><a href="https://moodle.cct.ie/mod/resource/view.php?id=146516" id="label_5_39" class=""  tabindex="-1"  title="File" ><img class="icon navicon" alt="File" title="File" src="https://moodle.cct.ie/theme/image.php/lambda/core/1700778230/f/pdf-24" /><span class="item-content-wrap">ANOVA</span></a></p></li><li class="type_activity depth_5 item_with_icon" aria-labelledby="label_5_40"><p class="tree_item hasicon" role="treeitem"><a href="https://moodle.cct.ie/mod/resource/view.php?id=147829" id="label_5_40" class=""  tabindex="-1"  title="File" ><img class="icon navicon" alt="File" title="File" src="https://moodle.cct.ie/theme/image.php/lambda/core/1700778230/f/spreadsheet-24" /><span class="item-content-wrap">Insurance Data</span></a></p></li><li class="type_activity depth_5 item_with_icon" aria-labelledby="label_5_41"><p class="tree_item hasicon" role="treeitem"><a href="https://moodle.cct.ie/mod/resource/view.php?id=147831" id="label_5_41" class=""  tabindex="-1"  title="File" ><img class="icon navicon" alt="File" title="File" src="https://moodle.cct.ie/theme/image.php/lambda/core/1700778230/f/spreadsheet-24" /><span class="item-content-wrap">Insurance Data Two Ways</span></a></p></li><li class="type_activity depth_5 item_with_icon" aria-labelledby="label_5_42"><p class="tree_item hasicon" role="treeitem"><a href="https://moodle.cct.ie/mod/resource/view.php?id=147832" id="label_5_42" class=""  tabindex="-1"  title="File" ><img class="icon navicon" alt="File" title="File" src="https://moodle.cct.ie/theme/image.php/lambda/core/1700778230/f/spreadsheet-24" /><span class="item-content-wrap">performance detergent</span></a></p></li><li class="type_activity depth_5 item_with_icon current_branch" aria-labelledby="label_5_43"><p class="tree_item hasicon active_tree_node" role="treeitem"><a href="https://moodle.cct.ie/mod/resource/view.php?id=147833" id="label_5_43" class=""  tabindex="-1"  title="File" ><img class="icon navicon" alt="File" title="File" src="https://moodle.cct.ie/theme/image.php/lambda/core/1700778230/f/html-24" /><span class="item-content-wrap">ANOVA_data_insurance_script</span></a></p></li></ul></li><li class="type_structure depth_4 contains_branch" aria-labelledby="label_4_44"><p class="tree_item branch" role="treeitem" id="expandable_branch_30_40811" aria-expanded="false" data-requires-ajax="true" data-loaded="false" data-node-id="expandable_branch_30_40811" data-node-key="40811" data-node-type="30"><span tabindex="-1" id="label_4_44">27 November - 3 December</span></p></li><li class="type_structure depth_4 contains_branch" aria-labelledby="label_4_45"><p class="tree_item branch" role="treeitem" id="expandable_branch_30_40812" aria-expanded="false" data-requires-ajax="true" data-loaded="false" data-node-id="expandable_branch_30_40812" data-node-key="40812" data-node-type="30"><span tabindex="-1" id="label_4_45">4 December - 10 December</span></p></li><li class="type_structure depth_4 contains_branch" aria-labelledby="label_4_46"><p class="tree_item branch" role="treeitem" id="expandable_branch_30_40813" aria-expanded="false" data-requires-ajax="true" data-loaded="false" data-node-id="expandable_branch_30_40813" data-node-key="40813" data-node-type="30"><span tabindex="-1" id="label_4_46">11 December - 17 December</span></p></li><li class="type_structure depth_4 contains_branch" aria-labelledby="label_4_47"><p class="tree_item branch" role="treeitem" id="expandable_branch_30_40814" aria-expanded="false" data-requires-ajax="true" data-loaded="false" data-node-id="expandable_branch_30_40814" data-node-key="40814" data-node-type="30"><span tabindex="-1" id="label_4_47">Christmas / Exam Period</span></p></li></ul></li><li class="type_course depth_3 contains_branch" aria-labelledby="label_3_48"><p class="tree_item branch" role="treeitem" id="expandable_branch_20_2626" aria-expanded="false" data-requires-ajax="true" data-loaded="false" data-node-id="expandable_branch_20_2626" data-node-key="2626" data-node-type="20"><a tabindex="-1" id="label_3_48" title="Programming for Data Analytics (MSc in Data Analytics - Sept 2023 - SB+ cohort)" href="https://moodle.cct.ie/course/view.php?id=2626">ProgData_MScData_Sept23_SB+</a></p></li><li class="type_course depth_3 contains_branch" aria-labelledby="label_3_49"><p class="tree_item branch" role="treeitem" id="expandable_branch_20_1562" aria-expanded="false" data-requires-ajax="true" data-loaded="false" data-node-id="expandable_branch_20_1562" data-node-key="1562" data-node-type="20"><a tabindex="-1" id="label_3_49" title="Student Mentoring Academy" href="https://moodle.cct.ie/course/view.php?id=1562">SMA</a></p></li></ul></li></ul></li></ul>
            <div class="footer"></div>
            
        </div>

    </div>

</section>

  <span id="sb-2"></span></aside>    <div id="sidebar-btn"><span></span><span></span><span></span></div>
</div>

<div id="wrapper">



<header id="page-header" class="clearfix">              	
		<div class="container-fluid">    
	<div class="row-fluid">

				<div class="span6">
			<div class="logo-header">
				<a class="logo" href="https://moodle.cct.ie" title="Home">
					<img src="//moodle.cct.ie/pluginfile.php/1/theme_lambda/logo/1700778230/CCT_Logo_New_Aug_17.png" class="img-responsive" alt="logo" />				</a>
			</div>
		</div>
		      	

		<div class="span6 login-header">
			<div class="profileblock">

				<div id="loggedin-user"><div class="popover-region collapsed popover-region-notifications"
    id="nav-notification-popover-container" data-userid="13045"
    data-region="popover-region">
    <div class="popover-region-toggle nav-link"
        data-region="popover-region-toggle"
        role="button"
        aria-controls="popover-region-container-6564f503243aa6564f5031600329"
        aria-haspopup="true"
        aria-label="Show notification window with no new notifications"
        tabindex="0">
                <img class="icon " alt="Toggle notifications menu" title="Toggle notifications menu" src="https://moodle.cct.ie/theme/image.php/lambda/core/1700778230/i/notifications" />
        <div class="count-container hidden" data-region="count-container"
        aria-label="There are 0 unread notifications">0</div>

    </div>
    <div 
        id="popover-region-container-6564f503243aa6564f5031600329"
        class="popover-region-container"
        data-region="popover-region-container"
        aria-expanded="false"
        aria-hidden="true"
        aria-label="Notification window"
        role="region">
        <div class="popover-region-header-container">
            <h3 class="popover-region-header-text" data-region="popover-region-header-text">Notifications</h3>
            <div class="popover-region-header-actions" data-region="popover-region-header-actions">        <a class="mark-all-read-button"
           href="#"
           title="Mark all as read"
           data-action="mark-all-read"
           role="button"
           aria-label="Mark all as read">
            <span class="normal-icon"><img class="icon " alt="" aria-hidden="true" src="https://moodle.cct.ie/theme/image.php/lambda/core/1700778230/t/markasread" /></span>
            <span class="loading-icon icon-no-margin"><img class="icon " alt="Loading" title="Loading" src="https://moodle.cct.ie/theme/image.php/lambda/core/1700778230/i/loading" /></span>
        </a>
        <a href="https://moodle.cct.ie/message/notificationpreferences.php?userid=13045"
           title="Notification preferences"
           aria-label="Notification preferences">
            <img class="icon " alt="" aria-hidden="true" src="https://moodle.cct.ie/theme/image.php/lambda/core/1700778230/i/settings" />
        </a>
</div>
        </div>
        <div class="popover-region-content-container" data-region="popover-region-content-container">
            <div class="popover-region-content" data-region="popover-region-content">
                        <div class="all-notifications"
            data-region="all-notifications"
            role="log"
            aria-busy="false"
            aria-atomic="false"
            aria-relevant="additions"></div>
        <div class="empty-message" tabindex="0" data-region="empty-message">You have no notifications</div>

            </div>
            <span class="loading-icon icon-no-margin"><img class="icon " alt="Loading" title="Loading" src="https://moodle.cct.ie/theme/image.php/lambda/core/1700778230/i/loading" /></span>
        </div>
                <a class="see-all-link"
                    href="https://moodle.cct.ie/message/output/popup/notifications.php">
                    <div class="popover-region-footer-container">
                        <div class="popover-region-seeall-text">See all</div>
                    </div>
                </a>
    </div>
</div><div class="popover-region collapsed" data-region="popover-region-messages">
    <a id="message-drawer-toggle-6564f50325c686564f5031600330" class="nav-link d-inline-block popover-region-toggle position-relative" href="#"
            role="button">
        <img class="icon " alt="Toggle messaging drawer" title="Toggle messaging drawer" src="https://moodle.cct.ie/theme/image.php/lambda/core/1700778230/t/message" />
        <div class="count-container hidden" data-region="count-container"
        aria-label="There are 0 unread conversations">0</div>
    </a>
    <span class="sr-only sr-only-focusable" data-region="jumpto" tabindex="-1"></span></div><div class="usermenu"><div class="action-menu moodle-actionmenu nowrap-items d-inline" id="action-menu-0" data-enhance="moodle-core-actionmenu">

        <div class="menubar d-flex " id="action-menu-0-menubar" role="menubar">

            


                <div class="action-menu-trigger">
                    <div class="dropdown">
                        <a href="javascript:void(0)" tabindex="0" class="d-inline-block  dropdown-toggle icon-no-margin" id="action-menu-toggle-0" aria-label="User menu" data-toggle="dropdown" role="button" aria-haspopup="true" aria-expanded="false" aria-controls="action-menu-0-menu">
                            
                            <span class="userbutton"><span class="usertext mr-1">Stephen Hasson</span><span class="avatars"><span class="avatar current"><img src="https://moodle.cct.ie/pluginfile.php/219975/user/icon/lambda/f2?rev=4274396" class="userpicture" width="35" height="35" alt="" /></span></span></span>
                                
                            <b class="caret"></b>
                        </a>
                            <div class="dropdown-menu dropdown-menu-right menu  align-tr-br" id="action-menu-0-menu" data-rel="menu-content" aria-labelledby="action-menu-toggle-0" role="menu" data-align="tr-br">
                                        <a href="https://moodle.cct.ie/my/" class="dropdown-item menu-action" role="menuitem" data-title="mymoodle,admin" aria-labelledby="actionmenuaction-1">
                                                <img class="icon " alt="" aria-hidden="true" src="https://moodle.cct.ie/theme/image.php/lambda/core/1700778230/i/dashboard" />
                                            <span class="menu-action-text" id="actionmenuaction-1">
                                                Dashboard
                                            </span>
                                        </a>
                                        <div class="dropdown-divider" role="presentation"><span class="filler">&nbsp;</span></div>
                                        <a href="https://moodle.cct.ie/user/profile.php?id=13045" class="dropdown-item menu-action" role="menuitem" data-title="profile,moodle" aria-labelledby="actionmenuaction-2">
                                                <img class="icon " alt="" aria-hidden="true" src="https://moodle.cct.ie/theme/image.php/lambda/core/1700778230/i/user" />
                                            <span class="menu-action-text" id="actionmenuaction-2">
                                                Profile
                                            </span>
                                        </a>
                                        <a href="https://moodle.cct.ie/grade/report/overview/index.php" class="dropdown-item menu-action" role="menuitem" data-title="grades,grades" aria-labelledby="actionmenuaction-3">
                                                <img class="icon " alt="" aria-hidden="true" src="https://moodle.cct.ie/theme/image.php/lambda/core/1700778230/t/grades" />
                                            <span class="menu-action-text" id="actionmenuaction-3">
                                                Grades
                                            </span>
                                        </a>
                                        <a href="https://moodle.cct.ie/message/index.php" class="dropdown-item menu-action" role="menuitem" data-title="messages,message" aria-labelledby="actionmenuaction-4">
                                                <img class="icon " alt="" aria-hidden="true" src="https://moodle.cct.ie/theme/image.php/lambda/core/1700778230/t/message" />
                                            <span class="menu-action-text" id="actionmenuaction-4">
                                                Messages
                                            </span>
                                        </a>
                                        <a href="https://moodle.cct.ie/user/preferences.php" class="dropdown-item menu-action" role="menuitem" data-title="preferences,moodle" aria-labelledby="actionmenuaction-5">
                                                <img class="icon " alt="" aria-hidden="true" src="https://moodle.cct.ie/theme/image.php/lambda/core/1700778230/t/preferences" />
                                            <span class="menu-action-text" id="actionmenuaction-5">
                                                Preferences
                                            </span>
                                        </a>
                                        <div class="dropdown-divider" role="presentation"><span class="filler">&nbsp;</span></div>
                                        <a href="https://moodle.cct.ie/login/logout.php?sesskey=OADRTCVCU3" class="dropdown-item menu-action" role="menuitem" data-title="logout,moodle" aria-labelledby="actionmenuaction-6">
                                                <img class="icon " alt="" aria-hidden="true" src="https://moodle.cct.ie/theme/image.php/lambda/core/1700778230/a/logout" />
                                            <span class="menu-action-text" id="actionmenuaction-6">
                                                Log out
                                            </span>
                                        </a>
                            </div>
                    </div>
                </div>

        </div>

</div></div><a href="https://moodle.cct.ie/user/view.php?id=13045&amp;course=2627" class="d-inline-block aabtn"><img src="https://moodle.cct.ie/pluginfile.php/219975/user/icon/lambda/f1?rev=4274396" class="welcome_userpicture" width="80" height="80" alt="Profile Picture" title="Profile Picture" /></a></div>
						</div>
					</div>

				</div>
			</div>               
</header>
<header class="navbar">
    <nav class="navbar-inner">
        <div class="lambda-custom-menu container-fluid">
            <a class="brand" href="https://moodle.cct.ie">Home</a>            <a class="btn btn-navbar" data-toggle="collapse" data-target=".nav-collapse">
                <span class="icon-bar"></span>
                <span class="icon-bar"></span>
                <span class="icon-bar"></span>
            </a>
            <div class="nav-collapse collapse">
            	<ul class="nav">
                <ul class="nav"><li><a href="https://www.cct.ie">CCT.ie</a></li></ul>                </ul>
                <ul class="nav pull-right">
                    <li></li>
                </ul>
                
                                
                                <form id="search" action="https://moodle.cct.ie/course/search.php" >
                	<label for="coursesearchbox" class="lambda-sr-only">Search courses</label>						
					<input id="coursesearchbox" type="text" onFocus="if(this.value =='Search courses' ) this.value=''" onBlur="if(this.value=='') this.value='Search courses'" value="Search courses" name="search" >
					<button type="submit"><span class="lambda-sr-only">Submit</span></button>						
				</form>
                                
            </div>
        </div>
    </nav>
</header>


<!-- Start Main Regions -->
<div id="page" class="container-fluid">

    <div id ="page-header-nav" class="clearfix">
    	        <div id="page-navbar" class="clearfix">
            <div class="breadcrumb-nav"><span class="accesshide" id="navbar-label">Page path</span><nav aria-labelledby="navbar-label"><ul class="breadcrumb"><li><span itemscope="" itemtype="http://data-vocabulary.org/Breadcrumb"><a itemprop="url" href="https://moodle.cct.ie/"><span itemprop="title">Home</span></a></span> <span class="divider"> <span class="accesshide " ><span class="arrow_text">/</span>&nbsp;</span><span class="arrow sep">&#x25BA;</span> </span></li><li><span tabindex="0">My courses</span> <span class="divider"> <span class="accesshide " ><span class="arrow_text">/</span>&nbsp;</span><span class="arrow sep">&#x25BA;</span> </span></li><li><span itemscope="" itemtype="http://data-vocabulary.org/Breadcrumb"><a itemprop="url" title="Statistics for Data Analytics (MSc in Data Analytics - Sept 2023 - SB+ cohort)" href="https://moodle.cct.ie/course/view.php?id=2627"><span itemprop="title">StatsData_MScData_Sept23_SB+</span></a></span> <span class="divider"> <span class="accesshide " ><span class="arrow_text">/</span>&nbsp;</span><span class="arrow sep">&#x25BA;</span> </span></li><li><span tabindex="0">20 November - 26 November</span> <span class="divider"> <span class="accesshide " ><span class="arrow_text">/</span>&nbsp;</span><span class="arrow sep">&#x25BA;</span> </span></li><li><a href="https://moodle.cct.ie/mod/resource/view.php?id=147833" id="label_5_43" class=""  tabindex="-1"  title="File" >ANOVA_data_insurance_script</a></li></ul></nav></div>
            <nav class="breadcrumb-button"></nav>
        </div>
            </div>

    <div id="page-content" class="row-fluid">
        <div id="region-bs-main-and-pre" class="span9">
            <div class="row-fluid">
            	                <section id="region-main" class="span8">
                                    <span class="notifications" id="user-notifications"></span><div role="main"><span id="maincontent"></span><h2>ANOVA_data_insurance_script</h2><div class="resourceworkaround">Click <a href="https://moodle.cct.ie/pluginfile.php/234877/mod_resource/content/1/ANOVA_data_insurance.ipynb" onclick="this.target='_blank'">ANOVA_data_insurance.ipynb</a> link to view the file.</div></div><div class="mt-5 mb-1 activity-navigation container-fluid">
<div class="row">
    <div class="col-md-4">        <div class="float-left">
                <a href="https://moodle.cct.ie/mod/resource/view.php?id=147832&forceview=1" id="prev-activity-link" class="btn btn-link"  title="performance detergent" >&#x25C4; performance detergent</a>

        </div>
</div>
    <div class="col-md-4">        <div class="mdl-align">
            <div class="urlselect">
    <form method="post" action="https://moodle.cct.ie/course/jumpto.php" class="form-inline" id="url_select_f6564f5031600339">
        <input type="hidden" name="sesskey" value="OADRTCVCU3">
            <label for="jump-to-activity" class="sr-only">
                Jump to...
            </label>
        <select  id="jump-to-activity" class="custom-select urlselect" name="jump"
                 >
                    <option value="" selected>Jump to...</option>
                    <option value="/mod/zoom/view.php?id=141013&amp;forceview=1" >[Thurs 17:45] Statistics for Data Analytics</option>
                    <option value="/mod/forum/view.php?id=139505&amp;forceview=1" >Announcements</option>
                    <option value="/mod/resource/view.php?id=139509&amp;forceview=1" >CCT Generic Grading Descriptor</option>
                    <option value="/mod/forum/view.php?id=139510&amp;forceview=1" >Announcements</option>
                    <option value="/mod/resource/view.php?id=142836&amp;forceview=1" >Introductory Statistics</option>
                    <option value="/mod/resource/view.php?id=142837&amp;forceview=1" >Statistics for Machine Learning</option>
                    <option value="/mod/url/view.php?id=142838&amp;forceview=1" >Data Science With Python | Python for Data Science | Python Data Science Tutorial |</option>
                    <option value="/mod/url/view.php?id=142839&amp;forceview=1" >Data Science Roadmap 2023</option>
                    <option value="/mod/resource/view.php?id=142820&amp;forceview=1" >Introduction to the module</option>
                    <option value="/mod/resource/view.php?id=142821&amp;forceview=1" >Class 1 - Probabilities</option>
                    <option value="/mod/resource/view.php?id=142822&amp;forceview=1" >Activity Book: Probability</option>
                    <option value="/mod/resource/view.php?id=142823&amp;forceview=1" >Activity Book Solutions: Probabilities</option>
                    <option value="/mod/resource/view.php?id=142825&amp;forceview=1" >Class 2 - Descriptive Statistics</option>
                    <option value="/mod/resource/view.php?id=144862&amp;forceview=1" >50_Startups</option>
                    <option value="/mod/resource/view.php?id=144863&amp;forceview=1" >50Startups_Script</option>
                    <option value="/mod/url/view.php?id=144864&amp;forceview=1" >seaborn: statistical data visualization</option>
                    <option value="/mod/resource/view.php?id=144867&amp;forceview=1" >Class 2 - How to read a box plot?</option>
                    <option value="/mod/folder/view.php?id=144877&amp;forceview=1" >Datasets for exercises</option>
                    <option value="/mod/resource/view.php?id=142826&amp;forceview=1" >Class 3 - Random Variables + Binomial Distribution</option>
                    <option value="/mod/resource/view.php?id=142827&amp;forceview=1" >Activity Book: Random Variables</option>
                    <option value="/mod/resource/view.php?id=142828&amp;forceview=1" >Activity Book: Binomial Distribution</option>
                    <option value="/mod/resource/view.php?id=144756&amp;forceview=1" >Activity Book Solutions: Binomial</option>
                    <option value="/mod/resource/view.php?id=145584&amp;forceview=1" >Binomial_Script</option>
                    <option value="/mod/resource/view.php?id=142829&amp;forceview=1" >Class 4 - Poisson Distribution</option>
                    <option value="/mod/resource/view.php?id=142830&amp;forceview=1" >Activity Book: Poisson Distribution + Combined Exercises</option>
                    <option value="/mod/resource/view.php?id=142832&amp;forceview=1" >Activity Book Solutions: Poisson and Combined</option>
                    <option value="/mod/folder/view.php?id=144898&amp;forceview=1" >Datasets for exercises</option>
                    <option value="/mod/resource/view.php?id=146023&amp;forceview=1" >Poisson_dist_script</option>
                    <option value="/mod/resource/view.php?id=144899&amp;forceview=1" >Class 5 - Normal Distribution</option>
                    <option value="/mod/resource/view.php?id=146015&amp;forceview=1" >Activity Book: Normal Distribution</option>
                    <option value="/mod/folder/view.php?id=146461&amp;forceview=1" >Scripts</option>
                    <option value="/mod/resource/view.php?id=144900&amp;forceview=1" >Class 6 - Inferential Statistics + HT</option>
                    <option value="/mod/resource/view.php?id=146521&amp;forceview=1" >HT - One Population</option>
                    <option value="/mod/resource/view.php?id=147176&amp;forceview=1" >Hypothesis Test - Practice</option>
                    <option value="/mod/folder/view.php?id=147186&amp;forceview=1" >Scripts</option>
                    <option value="/mod/resource/view.php?id=146517&amp;forceview=1" >ANOVA Two ways</option>
                    <option value="/mod/resource/view.php?id=146516&amp;forceview=1" >ANOVA</option>
                    <option value="/mod/resource/view.php?id=147829&amp;forceview=1" >Insurance Data</option>
                    <option value="/mod/resource/view.php?id=147831&amp;forceview=1" >Insurance Data Two Ways</option>
                    <option value="/mod/resource/view.php?id=147832&amp;forceview=1" >performance detergent</option>
                    <option value="/mod/resource/view.php?id=146518&amp;forceview=1" >Non parametric tests</option>
                    <option value="/mod/resource/view.php?id=147860&amp;forceview=1" >Confidence Intervals</option>
                    <option value="/mod/resource/view.php?id=147861&amp;forceview=1" >insurance_data</option>
                    <option value="/mod/resource/view.php?id=147862&amp;forceview=1" >CI_Practice</option>
        </select>
            <noscript>
                <input type="submit" class="btn btn-secondary ml-1" value="Go">
            </noscript>
    </form>
</div>

        </div>
</div>
    <div class="col-md-4">        <div class="float-right">
                <a href="https://moodle.cct.ie/mod/resource/view.php?id=146518&forceview=1" id="next-activity-link" class="btn btn-link"  title="Non parametric tests" >Non parametric tests &#x25BA;</a>

        </div>
</div>
</div>
</div>                </section>
                            </div>
        </div>
        <aside id="block-region-side-post" class="span3 block-region" data-blockregion="side-post" data-droptarget="1"><a href="#sb-4" class="sr-only sr-only-focusable">Skip Calendar</a>

<section id="inst3"
     class=" block_calendar_month block  card mb-3"
     role="complementary"
     data-block="calendar_month"
          aria-labelledby="instance-3-header"
     >

    <div class="card-body p-3">

            <h5 id="instance-3-header" class="card-title d-inline">Calendar</h5>


        <div class="card-text content mt-3">
            <div id="calendar-month-2023-11-6564f5031cd1b6564f5031600325"  data-template="core_calendar/month_mini"  data-includenavigation="true" data-mini="true">
    <div id="month-mini-2023-11-6564f5031cd1b6564f5031600325" class="calendarwrapper" data-courseid="2627" data-categoryid="668" data-month="11" data-year="2023" data-day="27" data-view="month">
        <span class="overlay-icon-container hidden" data-region="overlay-icon-container">
            <span class="loading-icon icon-no-margin"><img class="icon " alt="Loading" title="Loading" src="https://moodle.cct.ie/theme/image.php/lambda/core/1700778230/i/loading" /></span>
        </span>
        <table class="minicalendar calendartable">
            <caption class="calendar-controls">
                    <a href="#" class="arrow_link previous" title="Previous month" data-year="2023" data-month="10">
                        <span class="arrow">&#x25C4;</span>
                    </a>
                    <span class="hide"> | </span>
                    <span class="current">
                        <a href="https://moodle.cct.ie/calendar/view.php?view=month&time=1701115139&course=2627" title="This month">November 2023</a>
                    </span>
                    <span class="hide"> | </span>
                    <a href="#" class="arrow_link next" title="Next month" data-year="2023" data-month="12">
                        <span class="arrow">&#x25BA;</span>
                    </a>
            </caption>
            <thead>
              <tr>
                    <th class="header text-xs-center">
                        <span class="sr-only">Sunday</span>
                        <span aria-hidden="true">Sun</span>
                    </th>
                    <th class="header text-xs-center">
                        <span class="sr-only">Monday</span>
                        <span aria-hidden="true">Mon</span>
                    </th>
                    <th class="header text-xs-center">
                        <span class="sr-only">Tuesday</span>
                        <span aria-hidden="true">Tue</span>
                    </th>
                    <th class="header text-xs-center">
                        <span class="sr-only">Wednesday</span>
                        <span aria-hidden="true">Wed</span>
                    </th>
                    <th class="header text-xs-center">
                        <span class="sr-only">Thursday</span>
                        <span aria-hidden="true">Thu</span>
                    </th>
                    <th class="header text-xs-center">
                        <span class="sr-only">Friday</span>
                        <span aria-hidden="true">Fri</span>
                    </th>
                    <th class="header text-xs-center">
                        <span class="sr-only">Saturday</span>
                        <span aria-hidden="true">Sat</span>
                    </th>
                </tr>
            </thead>
            <tbody>
                <tr data-region="month-view-week">
                        <td class="dayblank">&nbsp;</td>
                        <td class="dayblank">&nbsp;</td>
                        <td class="dayblank">&nbsp;</td>
                        <td class="day text-center" data-day-timestamp="1698796800"><span class="sr-only">No events, Wednesday, 1 November</span>

                                <span aria-hidden="true">1</span>
                            </td>
                        <td class="day text-center" data-day-timestamp="1698883200"><span class="sr-only">No events, Thursday, 2 November</span>

                                <span aria-hidden="true">2</span>
                            </td>
                        <td class="day text-center" data-day-timestamp="1698969600"><span class="sr-only">No events, Friday, 3 November</span>

                                <span aria-hidden="true">3</span>
                            </td>
                        <td class="day text-center weekend" data-day-timestamp="1699056000"><span class="sr-only">No events, Saturday, 4 November</span>

                                <span aria-hidden="true">4</span>
                            </td>
                </tr>
                <tr data-region="month-view-week">
                        <td class="day text-center weekend" data-day-timestamp="1699142400"><span class="sr-only">No events, Sunday, 5 November</span>

                                <span aria-hidden="true">5</span>
                            </td>
                        <td class="day text-center" data-day-timestamp="1699228800"><span class="sr-only">No events, Monday, 6 November</span>

                                <span aria-hidden="true">6</span>
                            </td>
                        <td class="day text-center" data-day-timestamp="1699315200"><span class="sr-only">No events, Tuesday, 7 November</span>

                                <span aria-hidden="true">7</span>
                            </td>
                        <td class="day text-center" data-day-timestamp="1699401600"><span class="sr-only">No events, Wednesday, 8 November</span>

                                <span aria-hidden="true">8</span>
                            </td>
                        <td class="day text-center" data-day-timestamp="1699488000"><span class="sr-only">No events, Thursday, 9 November</span>

                                <span aria-hidden="true">9</span>
                            </td>
                        <td class="day text-center" data-day-timestamp="1699574400"><span class="sr-only">No events, Friday, 10 November</span>

                                <span aria-hidden="true">10</span>
                            </td>
                        <td class="day text-center weekend" data-day-timestamp="1699660800"><span class="sr-only">No events, Saturday, 11 November</span>

                                <span aria-hidden="true">11</span>
                            </td>
                </tr>
                <tr data-region="month-view-week">
                        <td class="day text-center weekend" data-day-timestamp="1699747200"><span class="sr-only">No events, Sunday, 12 November</span>

                                <span aria-hidden="true">12</span>
                            </td>
                        <td class="day text-center" data-day-timestamp="1699833600"><span class="sr-only">No events, Monday, 13 November</span>

                                <span aria-hidden="true">13</span>
                            </td>
                        <td class="day text-center" data-day-timestamp="1699920000"><span class="sr-only">No events, Tuesday, 14 November</span>

                                <span aria-hidden="true">14</span>
                            </td>
                        <td class="day text-center" data-day-timestamp="1700006400"><span class="sr-only">No events, Wednesday, 15 November</span>

                                <span aria-hidden="true">15</span>
                            </td>
                        <td class="day text-center" data-day-timestamp="1700092800"><span class="sr-only">No events, Thursday, 16 November</span>

                                <span aria-hidden="true">16</span>
                            </td>
                        <td class="day text-center" data-day-timestamp="1700179200"><span class="sr-only">No events, Friday, 17 November</span>

                                <span aria-hidden="true">17</span>
                            </td>
                        <td class="day text-center weekend" data-day-timestamp="1700265600"><span class="sr-only">No events, Saturday, 18 November</span>

                                <span aria-hidden="true">18</span>
                            </td>
                </tr>
                <tr data-region="month-view-week">
                        <td class="day text-center weekend" data-day-timestamp="1700352000"><span class="sr-only">No events, Sunday, 19 November</span>

                                <span aria-hidden="true">19</span>
                            </td>
                        <td class="day text-center" data-day-timestamp="1700438400"><span class="sr-only">No events, Monday, 20 November</span>

                                <span aria-hidden="true">20</span>
                            </td>
                        <td class="day text-center" data-day-timestamp="1700524800"><span class="sr-only">No events, Tuesday, 21 November</span>

                                <span aria-hidden="true">21</span>
                            </td>
                        <td class="day text-center" data-day-timestamp="1700611200"><span class="sr-only">No events, Wednesday, 22 November</span>

                                <span aria-hidden="true">22</span>
                            </td>
                        <td class="day text-center" data-day-timestamp="1700697600"><span class="sr-only">No events, Thursday, 23 November</span>

                                <span aria-hidden="true">23</span>
                            </td>
                        <td class="day text-center" data-day-timestamp="1700784000"><span class="sr-only">No events, Friday, 24 November</span>

                                <span aria-hidden="true">24</span>
                            </td>
                        <td class="day text-center weekend" data-day-timestamp="1700870400"><span class="sr-only">No events, Saturday, 25 November</span>

                                <span aria-hidden="true">25</span>
                            </td>
                </tr>
                <tr data-region="month-view-week">
                        <td class="day text-center weekend" data-day-timestamp="1700956800"><span class="sr-only">No events, Sunday, 26 November</span>

                                <span aria-hidden="true">26</span>
                            </td>
                        <td class="day text-center today" data-day-timestamp="1701043200"><span class="sr-only">No events, Monday, 27 November</span>
                                    <a  id="calendar-day-popover-link-2627-2023-330-6564f5031cd1b6564f5031600325" href="https://moodle.cct.ie/calendar/view.php?view=day&amp;time=1701043200&amp;course=2627" data-container="body" data-toggle="popover" data-html="true" data-region="mini-day-link" data-trigger="hover focus" data-placement="top" data-year="2023" data-month="11" data-courseid="2627" data-categoryid="668" data-title="Today Monday, 27 November" data-alternate="No events" aria-label="Today Monday, 27 November">27</a>
    <div class="hidden">
        
    </div>
                            </td>
                        <td class="day text-center" data-day-timestamp="1701129600"><span class="sr-only">No events, Tuesday, 28 November</span>

                                <span aria-hidden="true">28</span>
                            </td>
                        <td class="day text-center" data-day-timestamp="1701216000"><span class="sr-only">No events, Wednesday, 29 November</span>

                                <span aria-hidden="true">29</span>
                            </td>
                        <td class="day text-center" data-day-timestamp="1701302400"><span class="sr-only">No events, Thursday, 30 November</span>

                                <span aria-hidden="true">30</span>
                            </td>
                        <td class="dayblank">&nbsp;</td>
                        <td class="dayblank">&nbsp;</td>
                </tr>
            </tbody>
        </table>
    </div>
</div><div id="event-filter-6564f5031d84f6564f5031600326" class="calendar_filters mt-2">
    <ul>
            <li>
                <a href="#" data-action="filter-event-type" data-eventtype="site" data-eventtype-hidden="">
                        <span class="calendar_event_site">
                            <img class="icon " alt="Hide site events" title="Hide site events" src="https://moodle.cct.ie/theme/image.php/lambda/core/1700778230/i/hide" />
                        </span>
                            <img class="icon " alt="" aria-hidden="true" src="https://moodle.cct.ie/theme/image.php/lambda/core/1700778230/i/siteevent" />
                        <span class="eventname">Hide site events</span>
                
                </a>
            </li>
            <li>
                <a href="#" data-action="filter-event-type" data-eventtype="category" data-eventtype-hidden="">
                        <span class="calendar_event_category">
                            <img class="icon " alt="Hide category events" title="Hide category events" src="https://moodle.cct.ie/theme/image.php/lambda/core/1700778230/i/hide" />
                        </span>
                            <img class="icon " alt="" aria-hidden="true" src="https://moodle.cct.ie/theme/image.php/lambda/core/1700778230/i/categoryevent" />
                        <span class="eventname">Hide category events</span>
                
                </a>
            </li>
            <li>
                <a href="#" data-action="filter-event-type" data-eventtype="course" data-eventtype-hidden="">
                        <span class="calendar_event_course">
                            <img class="icon " alt="Hide course events" title="Hide course events" src="https://moodle.cct.ie/theme/image.php/lambda/core/1700778230/i/hide" />
                        </span>
                            <img class="icon " alt="" aria-hidden="true" src="https://moodle.cct.ie/theme/image.php/lambda/core/1700778230/i/courseevent" />
                        <span class="eventname">Hide course events</span>
                
                </a>
            </li>
            <li>
                <a href="#" data-action="filter-event-type" data-eventtype="group" data-eventtype-hidden="">
                        <span class="calendar_event_group">
                            <img class="icon " alt="Hide group events" title="Hide group events" src="https://moodle.cct.ie/theme/image.php/lambda/core/1700778230/i/hide" />
                        </span>
                            <img class="icon " alt="" aria-hidden="true" src="https://moodle.cct.ie/theme/image.php/lambda/core/1700778230/i/groupevent" />
                        <span class="eventname">Hide group events</span>
                
                </a>
            </li>
            <li>
                <a href="#" data-action="filter-event-type" data-eventtype="user" data-eventtype-hidden="">
                        <span class="calendar_event_user">
                            <img class="icon " alt="Hide user events" title="Hide user events" src="https://moodle.cct.ie/theme/image.php/lambda/core/1700778230/i/hide" />
                        </span>
                            <img class="icon " alt="" aria-hidden="true" src="https://moodle.cct.ie/theme/image.php/lambda/core/1700778230/i/userevent" />
                        <span class="eventname">Hide user events</span>
                
                </a>
            </li>
            <li>
                <a href="#" data-action="filter-event-type" data-eventtype="other" data-eventtype-hidden="">
                        <span class="calendar_event_other">
                            <img class="icon " alt="Hide other events" title="Hide other events" src="https://moodle.cct.ie/theme/image.php/lambda/core/1700778230/i/hide" />
                        </span>
                            <img class="icon " alt="" aria-hidden="true" src="https://moodle.cct.ie/theme/image.php/lambda/core/1700778230/i/otherevent" />
                        <span class="eventname">Hide other events</span>
                
                </a>
            </li>
    </ul>
</div>
            <div class="footer"></div>
            
        </div>

    </div>

</section>

  <span id="sb-4"></span><a href="#sb-5" class="sr-only sr-only-focusable">Skip Accessibility</a>

<section id="inst37828"
     class=" block_accessibility block  card mb-3"
     role="complementary"
     data-block="accessibility"
          aria-labelledby="instance-37828-header"
     >

    <div class="card-body p-3">

            <h5 id="instance-37828-header" class="card-title d-inline">Accessibility</h5>


        <div class="card-text content mt-3">
            <div id="accessibility_controls" class="content"><ul id="block_accessibility_textresize" class="button_row"><li class="access-button"><a title="Decrease Text Size" id="block_accessibility_dec" href="https://moodle.cct.ie/blocks/accessibility/changesize.php?redirect=https%3A%2F%2Fmoodle.cct.ie%2Fmod%2Fresource%2Fview.php%3Fid%3D147833&amp;op=dec">A-</a></li><li class="access-button"><a id="block_accessibility_reset" title="Reset Text Size (Clears Saved Setting)" href="https://moodle.cct.ie/blocks/accessibility/changesize.php?redirect=https%3A%2F%2Fmoodle.cct.ie%2Fmod%2Fresource%2Fview.php%3Fid%3D147833&amp;op=reset" class="disabled">A</a></li><li class="access-button"><a title="Increase Text Size" id="block_accessibility_inc" href="https://moodle.cct.ie/blocks/accessibility/changesize.php?redirect=https%3A%2F%2Fmoodle.cct.ie%2Fmod%2Fresource%2Fview.php%3Fid%3D147833&amp;op=inc">A+</a></li><li class="access-button"><a title="Save Setting" id="block_accessibility_save" href="https://moodle.cct.ie/blocks/accessibility/database.php?redirect=https%3A%2F%2Fmoodle.cct.ie%2Fmod%2Fresource%2Fview.php%3Fid%3D147833&amp;op=save&amp;size=1&amp;scheme=1">&nbsp</a></li></ul><ul id="block_accessibility_changecolour"><li class="access-button"><a title="Deafult Colour Scheme (Clears Saved Setting)" id="block_accessibility_colour1" href="https://moodle.cct.ie/blocks/accessibility/changecolour.php?redirect=https%3A%2F%2Fmoodle.cct.ie%2Fmod%2Fresource%2Fview.php%3Fid%3D147833&amp;scheme=1" class="disabled">R</a></li><li class="access-button"><a title="Lowered Contrast 1" id="block_accessibility_colour2" href="https://moodle.cct.ie/blocks/accessibility/changecolour.php?redirect=https%3A%2F%2Fmoodle.cct.ie%2Fmod%2Fresource%2Fview.php%3Fid%3D147833&amp;scheme=2">A</a></li><li class="access-button"><a title="Lowered Contrast 2" id="block_accessibility_colour3" href="https://moodle.cct.ie/blocks/accessibility/changecolour.php?redirect=https%3A%2F%2Fmoodle.cct.ie%2Fmod%2Fresource%2Fview.php%3Fid%3D147833&amp;scheme=3">A</a></li><li class="access-button"><a title="High Contrast" id="block_accessibility_colour4" href="https://moodle.cct.ie/blocks/accessibility/changecolour.php?redirect=https%3A%2F%2Fmoodle.cct.ie%2Fmod%2Fresource%2Fview.php%3Fid%3D147833&amp;scheme=4">A</a></li></ul><div id="block_accessibility_message" class="clearfix"></div><input type="button" value="Launch ATbar" id="block_accessibility_launchtoolbar" class="atbar_control access-button" /><span class="atbar-always"><input type="checkbox" value="1" id="atbar_auto" name="atbar_auto" class="atbar_control" /><label for="atbar_auto" class="atbar_control">(always?)</label></span></div><span id="loader-icon"></span>
            <div class="footer"></div>
            
        </div>

    </div>

</section>

  <span id="sb-5"></span></aside>    </div>
    
    <!-- End Main Regions -->

    <a href="#top" class="back-to-top"><span class="lambda-sr-only">Back</span></a>

	</div>
	<div
    id="drawer-6564f5032c79b6564f5031600340"
    class=" drawer bg-white hidden"
    aria-expanded="false"
    aria-hidden="true"
    data-region="right-hand-drawer"
    role="region"
    tabindex="0"
>
            <div id="message-drawer-6564f5032c79b6564f5031600340" class="message-app" data-region="message-drawer" role="region">
    		<div class="drawer-top p-2 border-bottom bg-secondary text-right">
        		<a id="message-drawer-close-6564f5032c79b6564f5031600340" class="" href="#">
            		<img class="icon " alt="Toggle messaging drawer" title="Toggle messaging drawer" src="https://moodle.cct.ie/theme/image.php/lambda/core/1700778230/i/window_close" />
        		</a>
    		</div>
            <div class="header-container position-relative" data-region="header-container">
                <div class="hidden border-bottom px-2 py-3" aria-hidden="true" data-region="view-contacts">
                    <div class="d-flex align-items-center">
                        <div class="align-self-stretch">
                            <a class="h-100 d-flex align-items-center mr-2" href="#" data-route-back role="button">
                                <span class="dir-rtl-hide"><img class="icon " alt="" aria-hidden="true" src="https://moodle.cct.ie/theme/image.php/lambda/core/1700778230/t/collapsed_rtl" /></span>
                                <span class="dir-ltr-hide"><img class="icon " alt="" aria-hidden="true" src="https://moodle.cct.ie/theme/image.php/lambda/core/1700778230/t/collapsed" /></span>                            </a>
                        </div>
                        <div>
                            Contacts
                        </div>
                        <div class="ml-auto">
                            <a href="#" data-route="view-search" role="button" aria-label="Search">
                                <img class="icon " alt="" aria-hidden="true" src="https://moodle.cct.ie/theme/image.php/lambda/core/1700778230/a/search" />
                            </a>
                        </div>
                    </div>
                </div>                
                <div
                    class="hidden bg-white position-relative border-bottom p-1 p-sm-2"
                    aria-hidden="true"
                    data-region="view-conversation"
                >
                    <div class="hidden" data-region="header-content"></div>
                    <div class="hidden" data-region="header-edit-mode">
                        
                        <div class="d-flex p-2 align-items-center">
                            Messages selected:
                            <span class="ml-1" data-region="message-selected-court">1</span>
                            <button type="button" class="ml-auto close" aria-label="Cancel message selection"
                                data-action="cancel-edit-mode">
                                    <span aria-hidden="true">&times;</span>
                            </button>
                        </div>
                    </div>
                    <div data-region="header-placeholder">
                        <div class="d-flex">
                            <div
                                class="ml-2 rounded-circle bg-pulse-grey align-self-center"
                                style="height: 38px; width: 38px"
                            >
                            </div>
                            <div class="ml-2 " style="flex: 1">
                                <div
                                    class="mt-1 bg-pulse-grey w-75"
                                    style="height: 16px;"
                                >
                                </div>
                            </div>
                            <div
                                class="ml-2 bg-pulse-grey align-self-center"
                                style="height: 16px; width: 20px"
                            >
                            </div>
                        </div>
                    </div>
                    <div
                        class="hidden position-absolute z-index-1"
                        data-region="confirm-dialogue-container"
                        style="top: 0; bottom: -1px; right: 0; left: 0; background: rgba(0,0,0,0.3);"
                    ></div>
                </div>                <div class="border-bottom px-2 py-3" aria-hidden="false"  data-region="view-overview">
                    <div class="d-flex align-items-center">
                        <div class="input-prepend d-flex flex-grow m-0">
                            <span class="add-on bg-white pr-0">
                                <img class="icon " alt="" aria-hidden="true" src="https://moodle.cct.ie/theme/image.php/lambda/core/1700778230/a/search" />
                            </span>
                            <input
                                type="text"
                                class="form-control border-left-0 searchinput"
                                placeholder="Search"
                                aria-label="Search"
                                data-region="view-overview-search-input"
                            >
                        </div>
                        <div class="ml-2">
                            <a
                                href="#"
                                data-route="view-settings"
                                data-route-param="13045"
                            >
                                <img class="icon " alt="" aria-hidden="true" src="https://moodle.cct.ie/theme/image.php/lambda/core/1700778230/t/edit" />
                            </a>
                        </div>
                    </div>
                    <div class="text-right mt-3">
                        <a href="#" data-route="view-contacts" role="button">
                            <img class="icon " alt="" aria-hidden="true" src="https://moodle.cct.ie/theme/image.php/lambda/core/1700778230/i/user" />
                            Contacts
                            <span class="badge bg-primary ml-2 hidden"
                            data-region="contact-request-count"
                            aria-label="There are 0 pending contact requests">
                                0
                            </span>
                        </a>
                    </div>
                </div>
                
                <div class="hidden border-bottom px-2 py-3 view-search"  aria-hidden="true" data-region="view-search">
                    <div class="d-flex align-items-center">
                        <a
                            class="mr-2 align-self-stretch d-flex align-items-center"
                            href="#"
                            data-route-back
                            data-action="cancel-search"
                        >
                            <span class="dir-rtl-hide"><img class="icon " alt="" aria-hidden="true" src="https://moodle.cct.ie/theme/image.php/lambda/core/1700778230/t/collapsed_rtl" /></span>
                            <span class="dir-ltr-hide"><img class="icon " alt="" aria-hidden="true" src="https://moodle.cct.ie/theme/image.php/lambda/core/1700778230/t/collapsed" /></span>                        </a>
                        <div class="input-append m-0 d-flex flex-grow">
                            <input
                                type="text"
                                class="form-control border-right-0 searchinput"
                                placeholder="Search"
                                aria-label="Search"
                                data-region="search-input"
                            >
                            <button
                                class="btn m-0"
                                type="button"
                                data-action="search"
                            >
                                <span data-region="search-icon-container">
                                    <img class="icon " alt="" aria-hidden="true" src="https://moodle.cct.ie/theme/image.php/lambda/core/1700778230/a/search" />
                                </span>
                                <span class="hidden" data-region="loading-icon-container">
                                    <span class="loading-icon icon-no-margin"><img class="icon " alt="Loading" title="Loading" src="https://moodle.cct.ie/theme/image.php/lambda/core/1700778230/i/loading" /></span>
                                </span>
                            </button>
                        </div>
                    </div>
                </div>                
                <div class="hidden border-bottom px-2 py-3" aria-hidden="true" data-region="view-settings">
                    <div class="d-flex align-items-center">
                        <div class="align-self-stretch" >
                            <a class="h-100 d-flex mr-2 align-items-center" href="#" data-route-back role="button">
                                <span class="dir-rtl-hide"><img class="icon " alt="" aria-hidden="true" src="https://moodle.cct.ie/theme/image.php/lambda/core/1700778230/t/collapsed_rtl" /></span>
                                <span class="dir-ltr-hide"><img class="icon " alt="" aria-hidden="true" src="https://moodle.cct.ie/theme/image.php/lambda/core/1700778230/t/collapsed" /></span>                            </a>
                        </div>
                        <div>
                            Settings
                        </div>
                    </div>
                </div>
            </div>
            <div class="body-container position-relative" data-region="body-container">
                
                <div
                    class="hidden"
                    data-region="view-contact"
                    aria-hidden="true"
                >
                    <div class="p-2 pt-3" data-region="content-container"></div>
                </div>                <div class="hidden h-100" aria-hidden="true" data-region="view-contacts" data-user-id="13045">
                    <div class="d-flex flex-column h-100">
                        <div class="p-3 border-bottom">
                            <ul class="nav nav-pills d-flex m-0" role="tablist">
                                <li class="nav-item w-50 align-self-stretch text-center active">
                                    <a
                                        id="contacts-tab-6564f5032c79b6564f5031600340"
                                        class="nav-link"
                                        href="#contacts-tab-panel-6564f5032c79b6564f5031600340"
                                        data-toggle="tab"
                                        data-action="show-contacts-section"
                                        role="tab"
                                        aria-controls="contacts-tab-panel-6564f5032c79b6564f5031600340"
                                        aria-selected="true"
                                    >
                                        Contacts
                                    </a>
                                </li>
                                <li class="nav-item w-50 text-center">
                                    <a
                                        id="requests-tab-6564f5032c79b6564f5031600340"
                                        class="nav-link"
                                        href="#requests-tab-panel-6564f5032c79b6564f5031600340"
                                        data-toggle="tab"
                                        data-action="show-requests-section"
                                        role="tab"
                                        aria-controls="requests-tab-panel-6564f5032c79b6564f5031600340"
                                        aria-selected="false"
                                    >
                                        Requests
                                        <span class="badge bg-primary ml-2 hidden" data-region="contact-request-count">
                                            0
                                        </span>
                                    </a>
                                </li>
                            </ul>
                        </div>
                        <div class="tab-content d-flex flex-column h-100">
                                            <div
                    class="tab-pane fade in active h-100"
                    style="overflow-y: auto"
                    aria-live="polite"
                    data-region="lazy-load-list"
                    data-user-id="13045"
                                        id="contacts-tab-panel-6564f5032c79b6564f5031600340"
                    data-section="contacts"
                    role="tabpanel"
                    aria-labelledby="contacts-tab-6564f5032c79b6564f5031600340"

                >
                    <div class="onepix" style="height: 1px;">&nbsp;</div>
                    
                    <div class="hidden text-center p-2" data-region="empty-message-container">
                        No contacts
                    </div>
                    <div class="hidden list-group" data-region="content-container">
                        
                    </div>
                    <div class="list-group" data-region="placeholder-container">
                        
                    </div>
                    <div class="w-100 text-center p-3 hidden" data-region="loading-icon-container" >
                        <span class="loading-icon icon-no-margin"><img class="icon " alt="Loading" title="Loading" src="https://moodle.cct.ie/theme/image.php/lambda/core/1700778230/i/loading" /></span>
                    </div>
                </div>
                
                                            <div
                    class="tab-pane fade h-100"
                    style="overflow-y: auto"
                    aria-live="polite"
                    data-region="lazy-load-list"
                    data-user-id="13045"
                                        id="requests-tab-panel-6564f5032c79b6564f5031600340"
                    data-section="requests"
                    role="tabpanel"
                    aria-labelledby="requests-tab-6564f5032c79b6564f5031600340"

                >
                    <div class="onepix" style="height: 1px;">&nbsp;</div>
                    
                    <div class="hidden text-center p-2" data-region="empty-message-container">
                        No contact requests
                    </div>
                    <div class="hidden list-group" data-region="content-container">
                        
                    </div>
                    <div class="list-group" data-region="placeholder-container">
                        
                    </div>
                    <div class="w-100 text-center p-3 hidden" data-region="loading-icon-container" >
                        <span class="loading-icon icon-no-margin"><img class="icon " alt="Loading" title="Loading" src="https://moodle.cct.ie/theme/image.php/lambda/core/1700778230/i/loading" /></span>
                    </div>
                </div>
                        </div>
                    </div>
                </div>                
                <div
                    class="view-conversation hidden h-100"
                    aria-hidden="true"
                    data-region="view-conversation"
                    data-user-id="13045"
                    data-midnight="1701043200"
                    data-message-poll-min="10"
                    data-message-poll-max="120"
                    data-message-poll-after-max="300"
                    style="overflow-y: auto; overflow-x: hidden"
                >
                    <div class="position-relative h-100" data-region="content-container" style="overflow-y: auto; overflow-x: hidden">
                        <div class="content-message-container hidden h-100 px-2 pt-0" data-region="content-message-container" role="log" style="overflow-y: auto; overflow-x: hidden">
                            <div class="py-3 sticky-top z-index-1 border-bottom text-center hidden" data-region="contact-request-sent-message-container">
                                <p class="m-0">Contact request sent</p>
                                <p class="font-italic font-weight-light" data-region="text"></p>
                            </div>
                            <div class="p-3 text-center hidden" data-region="self-conversation-message-container">
                                <p class="m-0">Personal space</p>
                                <p class="font-italic font-weight-light" data-region="text">Save draft messages, links, notes etc. to access later.</p>
                           </div>
                            <div class="hidden text-center p-3" data-region="more-messages-loading-icon-container"><span class="loading-icon icon-no-margin"><img class="icon " alt="Loading" title="Loading" src="https://moodle.cct.ie/theme/image.php/lambda/core/1700778230/i/loading" /></span>
</div>
                        </div>
                        <div class="p-4 w-100 h-100 hidden position-absolute z-index-1" data-region="confirm-dialogue-container" style="top: 0; background: rgba(0,0,0,0.3);">
                            
                            <div class="p-3 bg-white" data-region="confirm-dialogue" role="alert">
                                <p class="text-muted" data-region="dialogue-text"></p>
                                <div class="mb-2 custom-control custom-checkbox hidden" data-region="delete-messages-for-all-users-toggle-container">
                                    <input type="checkbox" class="custom-control-input" id="delete-messages-for-all-users" data-region="delete-messages-for-all-users-toggle">
                                    <label class="custom-control-label text-muted" for="delete-messages-for-all-users">
                                        Delete for me and for everyone else
                                    </label>
                                </div>
                                <button type="button" class="btn btn-primary btn-block hidden" data-action="confirm-block">
                                    <span data-region="dialogue-button-text">Block</span>
                                    <span class="hidden" data-region="loading-icon-container"><span class="loading-icon icon-no-margin"><img class="icon " alt="Loading" title="Loading" src="https://moodle.cct.ie/theme/image.php/lambda/core/1700778230/i/loading" /></span>
</span>
                                </button>
                                <button type="button" class="btn btn-primary btn-block hidden" data-action="confirm-unblock">
                                    <span data-region="dialogue-button-text">Unblock</span>
                                    <span class="hidden" data-region="loading-icon-container"><span class="loading-icon icon-no-margin"><img class="icon " alt="Loading" title="Loading" src="https://moodle.cct.ie/theme/image.php/lambda/core/1700778230/i/loading" /></span>
</span>
                                </button>
                                <button type="button" class="btn btn-primary btn-block hidden" data-action="confirm-remove-contact">
                                    <span data-region="dialogue-button-text">Remove</span>
                                    <span class="hidden" data-region="loading-icon-container"><span class="loading-icon icon-no-margin"><img class="icon " alt="Loading" title="Loading" src="https://moodle.cct.ie/theme/image.php/lambda/core/1700778230/i/loading" /></span>
</span>
                                </button>
                                <button type="button" class="btn btn-primary btn-block hidden" data-action="confirm-add-contact">
                                    <span data-region="dialogue-button-text">Add</span>
                                    <span class="hidden" data-region="loading-icon-container"><span class="loading-icon icon-no-margin"><img class="icon " alt="Loading" title="Loading" src="https://moodle.cct.ie/theme/image.php/lambda/core/1700778230/i/loading" /></span>
</span>
                                </button>
                                <button type="button" class="btn btn-primary btn-block hidden" data-action="confirm-delete-selected-messages">
                                    <span data-region="dialogue-button-text">Delete</span>
                                    <span class="hidden" data-region="loading-icon-container"><span class="loading-icon icon-no-margin"><img class="icon " alt="Loading" title="Loading" src="https://moodle.cct.ie/theme/image.php/lambda/core/1700778230/i/loading" /></span>
</span>
                                </button>
                                <button type="button" class="btn btn-primary btn-block hidden" data-action="confirm-delete-conversation">
                                    <span data-region="dialogue-button-text">Delete</span>
                                    <span class="hidden" data-region="loading-icon-container"><span class="loading-icon icon-no-margin"><img class="icon " alt="Loading" title="Loading" src="https://moodle.cct.ie/theme/image.php/lambda/core/1700778230/i/loading" /></span>
</span>
                                </button>
                                <button type="button" class="btn btn-primary btn-block hidden" data-action="request-add-contact">
                                    <span data-region="dialogue-button-text">Send contact request</span>
                                    <span class="hidden" data-region="loading-icon-container"><span class="loading-icon icon-no-margin"><img class="icon " alt="Loading" title="Loading" src="https://moodle.cct.ie/theme/image.php/lambda/core/1700778230/i/loading" /></span>
</span>
                                </button>
                                <button type="button" class="btn btn-primary btn-block hidden" data-action="accept-contact-request">
                                    <span data-region="dialogue-button-text">Accept and add to contacts</span>
                                    <span class="hidden" data-region="loading-icon-container"><span class="loading-icon icon-no-margin"><img class="icon " alt="Loading" title="Loading" src="https://moodle.cct.ie/theme/image.php/lambda/core/1700778230/i/loading" /></span>
</span>
                                </button>
                                <button type="button" class="btn btn-secondary btn-block hidden" data-action="decline-contact-request">
                                    <span data-region="dialogue-button-text">Decline</span>
                                    <span class="hidden" data-region="loading-icon-container"><span class="loading-icon icon-no-margin"><img class="icon " alt="Loading" title="Loading" src="https://moodle.cct.ie/theme/image.php/lambda/core/1700778230/i/loading" /></span>
</span>
                                </button>
                                <button type="button" class="btn btn-primary btn-block" data-action="okay-confirm">OK</button>
                                <button type="button" class="btn btn-secondary btn-block" data-action="cancel-confirm">Cancel</button>
                            </div>
                        </div>
                        <div class="px-2 pb-2 pt-0" data-region="content-placeholder">
                            <div class="h-100 d-flex flex-column">
                                <div
                                    class="px-2 pb-2 pt-0 bg-light h-100"
                                    style="overflow-y: auto"
                                >
                                    <div class="mt-4">
                                        <div class="mb-4">
                                            <div class="mx-auto bg-white" style="height: 25px; width: 100px"></div>
                                        </div>
                                        <div class="d-flex flex-column p-2 bg-white rounded mb-2">
                                            <div class="d-flex align-items-center mb-2">
                                                <div class="mr-2">
                                                    <div class="rounded-circle bg-pulse-grey" style="height: 35px; width: 35px"></div>
                                                </div>
                                                <div class="mr-4 w-75 bg-pulse-grey" style="height: 16px"></div>
                                                <div class="ml-auto bg-pulse-grey" style="width: 35px; height: 16px"></div>
                                            </div>
                                            <div class="bg-pulse-grey w-100" style="height: 16px"></div>
                                            <div class="bg-pulse-grey w-100 mt-2" style="height: 16px"></div>
                                            <div class="bg-pulse-grey w-100 mt-2" style="height: 16px"></div>
                                            <div class="bg-pulse-grey w-100 mt-2" style="height: 16px"></div>
                                            <div class="bg-pulse-grey w-75 mt-2" style="height: 16px"></div>
                                        </div>
                                        <div class="d-flex flex-column p-2 bg-white rounded mb-2">
                                            <div class="d-flex align-items-center mb-2">
                                                <div class="mr-2">
                                                    <div class="rounded-circle bg-pulse-grey" style="height: 35px; width: 35px"></div>
                                                </div>
                                                <div class="mr-4 w-75 bg-pulse-grey" style="height: 16px"></div>
                                                <div class="ml-auto bg-pulse-grey" style="width: 35px; height: 16px"></div>
                                            </div>
                                            <div class="bg-pulse-grey w-100" style="height: 16px"></div>
                                            <div class="bg-pulse-grey w-100 mt-2" style="height: 16px"></div>
                                            <div class="bg-pulse-grey w-100 mt-2" style="height: 16px"></div>
                                            <div class="bg-pulse-grey w-100 mt-2" style="height: 16px"></div>
                                            <div class="bg-pulse-grey w-75 mt-2" style="height: 16px"></div>
                                        </div>
                                        <div class="d-flex flex-column p-2 bg-white rounded mb-2">
                                            <div class="d-flex align-items-center mb-2">
                                                <div class="mr-2">
                                                    <div class="rounded-circle bg-pulse-grey" style="height: 35px; width: 35px"></div>
                                                </div>
                                                <div class="mr-4 w-75 bg-pulse-grey" style="height: 16px"></div>
                                                <div class="ml-auto bg-pulse-grey" style="width: 35px; height: 16px"></div>
                                            </div>
                                            <div class="bg-pulse-grey w-100" style="height: 16px"></div>
                                            <div class="bg-pulse-grey w-100 mt-2" style="height: 16px"></div>
                                            <div class="bg-pulse-grey w-100 mt-2" style="height: 16px"></div>
                                            <div class="bg-pulse-grey w-100 mt-2" style="height: 16px"></div>
                                            <div class="bg-pulse-grey w-75 mt-2" style="height: 16px"></div>
                                        </div>
                                    </div>                                    <div class="mt-4">
                                        <div class="mb-4">
                                            <div class="mx-auto bg-white" style="height: 25px; width: 100px"></div>
                                        </div>
                                        <div class="d-flex flex-column p-2 bg-white rounded mb-2">
                                            <div class="d-flex align-items-center mb-2">
                                                <div class="mr-2">
                                                    <div class="rounded-circle bg-pulse-grey" style="height: 35px; width: 35px"></div>
                                                </div>
                                                <div class="mr-4 w-75 bg-pulse-grey" style="height: 16px"></div>
                                                <div class="ml-auto bg-pulse-grey" style="width: 35px; height: 16px"></div>
                                            </div>
                                            <div class="bg-pulse-grey w-100" style="height: 16px"></div>
                                            <div class="bg-pulse-grey w-100 mt-2" style="height: 16px"></div>
                                            <div class="bg-pulse-grey w-100 mt-2" style="height: 16px"></div>
                                            <div class="bg-pulse-grey w-100 mt-2" style="height: 16px"></div>
                                            <div class="bg-pulse-grey w-75 mt-2" style="height: 16px"></div>
                                        </div>
                                        <div class="d-flex flex-column p-2 bg-white rounded mb-2">
                                            <div class="d-flex align-items-center mb-2">
                                                <div class="mr-2">
                                                    <div class="rounded-circle bg-pulse-grey" style="height: 35px; width: 35px"></div>
                                                </div>
                                                <div class="mr-4 w-75 bg-pulse-grey" style="height: 16px"></div>
                                                <div class="ml-auto bg-pulse-grey" style="width: 35px; height: 16px"></div>
                                            </div>
                                            <div class="bg-pulse-grey w-100" style="height: 16px"></div>
                                            <div class="bg-pulse-grey w-100 mt-2" style="height: 16px"></div>
                                            <div class="bg-pulse-grey w-100 mt-2" style="height: 16px"></div>
                                            <div class="bg-pulse-grey w-100 mt-2" style="height: 16px"></div>
                                            <div class="bg-pulse-grey w-75 mt-2" style="height: 16px"></div>
                                        </div>
                                        <div class="d-flex flex-column p-2 bg-white rounded mb-2">
                                            <div class="d-flex align-items-center mb-2">
                                                <div class="mr-2">
                                                    <div class="rounded-circle bg-pulse-grey" style="height: 35px; width: 35px"></div>
                                                </div>
                                                <div class="mr-4 w-75 bg-pulse-grey" style="height: 16px"></div>
                                                <div class="ml-auto bg-pulse-grey" style="width: 35px; height: 16px"></div>
                                            </div>
                                            <div class="bg-pulse-grey w-100" style="height: 16px"></div>
                                            <div class="bg-pulse-grey w-100 mt-2" style="height: 16px"></div>
                                            <div class="bg-pulse-grey w-100 mt-2" style="height: 16px"></div>
                                            <div class="bg-pulse-grey w-100 mt-2" style="height: 16px"></div>
                                            <div class="bg-pulse-grey w-75 mt-2" style="height: 16px"></div>
                                        </div>
                                    </div>                                    <div class="mt-4">
                                        <div class="mb-4">
                                            <div class="mx-auto bg-white" style="height: 25px; width: 100px"></div>
                                        </div>
                                        <div class="d-flex flex-column p-2 bg-white rounded mb-2">
                                            <div class="d-flex align-items-center mb-2">
                                                <div class="mr-2">
                                                    <div class="rounded-circle bg-pulse-grey" style="height: 35px; width: 35px"></div>
                                                </div>
                                                <div class="mr-4 w-75 bg-pulse-grey" style="height: 16px"></div>
                                                <div class="ml-auto bg-pulse-grey" style="width: 35px; height: 16px"></div>
                                            </div>
                                            <div class="bg-pulse-grey w-100" style="height: 16px"></div>
                                            <div class="bg-pulse-grey w-100 mt-2" style="height: 16px"></div>
                                            <div class="bg-pulse-grey w-100 mt-2" style="height: 16px"></div>
                                            <div class="bg-pulse-grey w-100 mt-2" style="height: 16px"></div>
                                            <div class="bg-pulse-grey w-75 mt-2" style="height: 16px"></div>
                                        </div>
                                        <div class="d-flex flex-column p-2 bg-white rounded mb-2">
                                            <div class="d-flex align-items-center mb-2">
                                                <div class="mr-2">
                                                    <div class="rounded-circle bg-pulse-grey" style="height: 35px; width: 35px"></div>
                                                </div>
                                                <div class="mr-4 w-75 bg-pulse-grey" style="height: 16px"></div>
                                                <div class="ml-auto bg-pulse-grey" style="width: 35px; height: 16px"></div>
                                            </div>
                                            <div class="bg-pulse-grey w-100" style="height: 16px"></div>
                                            <div class="bg-pulse-grey w-100 mt-2" style="height: 16px"></div>
                                            <div class="bg-pulse-grey w-100 mt-2" style="height: 16px"></div>
                                            <div class="bg-pulse-grey w-100 mt-2" style="height: 16px"></div>
                                            <div class="bg-pulse-grey w-75 mt-2" style="height: 16px"></div>
                                        </div>
                                        <div class="d-flex flex-column p-2 bg-white rounded mb-2">
                                            <div class="d-flex align-items-center mb-2">
                                                <div class="mr-2">
                                                    <div class="rounded-circle bg-pulse-grey" style="height: 35px; width: 35px"></div>
                                                </div>
                                                <div class="mr-4 w-75 bg-pulse-grey" style="height: 16px"></div>
                                                <div class="ml-auto bg-pulse-grey" style="width: 35px; height: 16px"></div>
                                            </div>
                                            <div class="bg-pulse-grey w-100" style="height: 16px"></div>
                                            <div class="bg-pulse-grey w-100 mt-2" style="height: 16px"></div>
                                            <div class="bg-pulse-grey w-100 mt-2" style="height: 16px"></div>
                                            <div class="bg-pulse-grey w-100 mt-2" style="height: 16px"></div>
                                            <div class="bg-pulse-grey w-75 mt-2" style="height: 16px"></div>
                                        </div>
                                    </div>                                    <div class="mt-4">
                                        <div class="mb-4">
                                            <div class="mx-auto bg-white" style="height: 25px; width: 100px"></div>
                                        </div>
                                        <div class="d-flex flex-column p-2 bg-white rounded mb-2">
                                            <div class="d-flex align-items-center mb-2">
                                                <div class="mr-2">
                                                    <div class="rounded-circle bg-pulse-grey" style="height: 35px; width: 35px"></div>
                                                </div>
                                                <div class="mr-4 w-75 bg-pulse-grey" style="height: 16px"></div>
                                                <div class="ml-auto bg-pulse-grey" style="width: 35px; height: 16px"></div>
                                            </div>
                                            <div class="bg-pulse-grey w-100" style="height: 16px"></div>
                                            <div class="bg-pulse-grey w-100 mt-2" style="height: 16px"></div>
                                            <div class="bg-pulse-grey w-100 mt-2" style="height: 16px"></div>
                                            <div class="bg-pulse-grey w-100 mt-2" style="height: 16px"></div>
                                            <div class="bg-pulse-grey w-75 mt-2" style="height: 16px"></div>
                                        </div>
                                        <div class="d-flex flex-column p-2 bg-white rounded mb-2">
                                            <div class="d-flex align-items-center mb-2">
                                                <div class="mr-2">
                                                    <div class="rounded-circle bg-pulse-grey" style="height: 35px; width: 35px"></div>
                                                </div>
                                                <div class="mr-4 w-75 bg-pulse-grey" style="height: 16px"></div>
                                                <div class="ml-auto bg-pulse-grey" style="width: 35px; height: 16px"></div>
                                            </div>
                                            <div class="bg-pulse-grey w-100" style="height: 16px"></div>
                                            <div class="bg-pulse-grey w-100 mt-2" style="height: 16px"></div>
                                            <div class="bg-pulse-grey w-100 mt-2" style="height: 16px"></div>
                                            <div class="bg-pulse-grey w-100 mt-2" style="height: 16px"></div>
                                            <div class="bg-pulse-grey w-75 mt-2" style="height: 16px"></div>
                                        </div>
                                        <div class="d-flex flex-column p-2 bg-white rounded mb-2">
                                            <div class="d-flex align-items-center mb-2">
                                                <div class="mr-2">
                                                    <div class="rounded-circle bg-pulse-grey" style="height: 35px; width: 35px"></div>
                                                </div>
                                                <div class="mr-4 w-75 bg-pulse-grey" style="height: 16px"></div>
                                                <div class="ml-auto bg-pulse-grey" style="width: 35px; height: 16px"></div>
                                            </div>
                                            <div class="bg-pulse-grey w-100" style="height: 16px"></div>
                                            <div class="bg-pulse-grey w-100 mt-2" style="height: 16px"></div>
                                            <div class="bg-pulse-grey w-100 mt-2" style="height: 16px"></div>
                                            <div class="bg-pulse-grey w-100 mt-2" style="height: 16px"></div>
                                            <div class="bg-pulse-grey w-75 mt-2" style="height: 16px"></div>
                                        </div>
                                    </div>                                    <div class="mt-4">
                                        <div class="mb-4">
                                            <div class="mx-auto bg-white" style="height: 25px; width: 100px"></div>
                                        </div>
                                        <div class="d-flex flex-column p-2 bg-white rounded mb-2">
                                            <div class="d-flex align-items-center mb-2">
                                                <div class="mr-2">
                                                    <div class="rounded-circle bg-pulse-grey" style="height: 35px; width: 35px"></div>
                                                </div>
                                                <div class="mr-4 w-75 bg-pulse-grey" style="height: 16px"></div>
                                                <div class="ml-auto bg-pulse-grey" style="width: 35px; height: 16px"></div>
                                            </div>
                                            <div class="bg-pulse-grey w-100" style="height: 16px"></div>
                                            <div class="bg-pulse-grey w-100 mt-2" style="height: 16px"></div>
                                            <div class="bg-pulse-grey w-100 mt-2" style="height: 16px"></div>
                                            <div class="bg-pulse-grey w-100 mt-2" style="height: 16px"></div>
                                            <div class="bg-pulse-grey w-75 mt-2" style="height: 16px"></div>
                                        </div>
                                        <div class="d-flex flex-column p-2 bg-white rounded mb-2">
                                            <div class="d-flex align-items-center mb-2">
                                                <div class="mr-2">
                                                    <div class="rounded-circle bg-pulse-grey" style="height: 35px; width: 35px"></div>
                                                </div>
                                                <div class="mr-4 w-75 bg-pulse-grey" style="height: 16px"></div>
                                                <div class="ml-auto bg-pulse-grey" style="width: 35px; height: 16px"></div>
                                            </div>
                                            <div class="bg-pulse-grey w-100" style="height: 16px"></div>
                                            <div class="bg-pulse-grey w-100 mt-2" style="height: 16px"></div>
                                            <div class="bg-pulse-grey w-100 mt-2" style="height: 16px"></div>
                                            <div class="bg-pulse-grey w-100 mt-2" style="height: 16px"></div>
                                            <div class="bg-pulse-grey w-75 mt-2" style="height: 16px"></div>
                                        </div>
                                        <div class="d-flex flex-column p-2 bg-white rounded mb-2">
                                            <div class="d-flex align-items-center mb-2">
                                                <div class="mr-2">
                                                    <div class="rounded-circle bg-pulse-grey" style="height: 35px; width: 35px"></div>
                                                </div>
                                                <div class="mr-4 w-75 bg-pulse-grey" style="height: 16px"></div>
                                                <div class="ml-auto bg-pulse-grey" style="width: 35px; height: 16px"></div>
                                            </div>
                                            <div class="bg-pulse-grey w-100" style="height: 16px"></div>
                                            <div class="bg-pulse-grey w-100 mt-2" style="height: 16px"></div>
                                            <div class="bg-pulse-grey w-100 mt-2" style="height: 16px"></div>
                                            <div class="bg-pulse-grey w-100 mt-2" style="height: 16px"></div>
                                            <div class="bg-pulse-grey w-75 mt-2" style="height: 16px"></div>
                                        </div>
                                    </div>                                </div>
                            </div>                        </div>
                    </div>
                </div>
                
                <div
                    class="hidden"
                    aria-hidden="true"
                    data-region="view-group-info"
                >
                    <div
                        class="pt-3 h-100 d-flex flex-column"
                        data-region="group-info-content-container"
                        style="overflow-y: auto"
                    ></div>
                </div>                <div class="h-100 view-overview-body" aria-hidden="false" data-region="view-overview"  data-user-id="13045">
                    <div id="message-drawer-view-overview-container-6564f5032c79b6564f5031600340" class="d-flex flex-column h-100" style="overflow-y: auto">
                            
                            <div
                                class="accordion-group section border-0 "
                                data-region="view-overview-favourites"
                            >
                                <div id="view-overview-favourites-toggle" class="accordion-heading" data-region="toggle">
                                    <button
                                        class="btn btn-link w-100 text-left p-2 m-0 d-flex align-items-center overview-section-toggle collapsed"
                                        data-toggle="collapse"
                                        data-parent="#message-drawer-view-overview-container-6564f5032c79b6564f5031600340"
                                        data-target="#view-overview-favourites-target"
                                        aria-expanded="false"
                                        aria-controls="view-overview-favourites-target"
                                    >
                                        <span class="collapsed-icon-container">
                                            <img class="icon " alt="" aria-hidden="true" src="https://moodle.cct.ie/theme/image.php/lambda/core/1700778230/t/collapsed" />
                                        </span>
                                        <span class="expanded-icon-container">
                                            <img class="icon " alt="" aria-hidden="true" src="https://moodle.cct.ie/theme/image.php/lambda/core/1700778230/t/expanded" />
                                        </span>
                                        <strong>Starred</strong>
                                        <small class="hidden ml-1" data-region="section-total-count-container">
                                            (<span data-region="section-total-count"></span>)
                                        </small>
                                        <span class="hidden ml-2" data-region="loading-icon-container">
                                            <span class="loading-icon icon-no-margin"><img class="icon " alt="Loading" title="Loading" src="https://moodle.cct.ie/theme/image.php/lambda/core/1700778230/i/loading" /></span>
                                        </span>
                                        <span class="hidden badge badge-pill badge-primary ml-auto bg-primary" data-region="section-unread-count">
                                            
                                        </span>
                                    </button>
                                </div>
                                                            <div
                                class=" accordion-body collapse border-bottom "
                                style="overflow-y: auto"
                                aria-live="polite"
                                data-region="lazy-load-list"
                                data-user-id="13045"
                                            id="view-overview-favourites-target"
            aria-labelledby="view-overview-favourites-toggle"
            data-parent="#message-drawer-view-overview-container"

                            >
                                <div class="onepix" style="height: 1px;">&nbsp;</div>
                                
                                <div class="hidden text-center p-2" data-region="empty-message-container">
                                            <p class="text-muted mt-2">No starred conversations</p>

                                </div>
                                <div class="hidden list-group" data-region="content-container">
                                    
                                </div>
                                <div class="list-group" data-region="placeholder-container">
                                            <div class="text-center py-2"><span class="loading-icon icon-no-margin"><img class="icon " alt="Loading" title="Loading" src="https://moodle.cct.ie/theme/image.php/lambda/core/1700778230/i/loading" /></span>
</div>

                                </div>
                                <div class="w-100 text-center p-3 hidden" data-region="loading-icon-container" >
                                    <span class="loading-icon icon-no-margin"><img class="icon " alt="Loading" title="Loading" src="https://moodle.cct.ie/theme/image.php/lambda/core/1700778230/i/loading" /></span>
                                </div>
                            </div>
                            </div>
                            
                            <div
                                class="accordion-group section border-0 "
                                data-region="view-overview-group-messages"
                            >
                                <div id="view-overview-group-messages-toggle" class="accordion-heading" data-region="toggle">
                                    <button
                                        class="btn btn-link w-100 text-left p-2 m-0 d-flex align-items-center overview-section-toggle collapsed"
                                        data-toggle="collapse"
                                        data-parent="#message-drawer-view-overview-container-6564f5032c79b6564f5031600340"
                                        data-target="#view-overview-group-messages-target"
                                        aria-expanded="false"
                                        aria-controls="view-overview-group-messages-target"
                                    >
                                        <span class="collapsed-icon-container">
                                            <img class="icon " alt="" aria-hidden="true" src="https://moodle.cct.ie/theme/image.php/lambda/core/1700778230/t/collapsed" />
                                        </span>
                                        <span class="expanded-icon-container">
                                            <img class="icon " alt="" aria-hidden="true" src="https://moodle.cct.ie/theme/image.php/lambda/core/1700778230/t/expanded" />
                                        </span>
                                        <strong>Group</strong>
                                        <small class="hidden ml-1" data-region="section-total-count-container">
                                            (<span data-region="section-total-count"></span>)
                                        </small>
                                        <span class="hidden ml-2" data-region="loading-icon-container">
                                            <span class="loading-icon icon-no-margin"><img class="icon " alt="Loading" title="Loading" src="https://moodle.cct.ie/theme/image.php/lambda/core/1700778230/i/loading" /></span>
                                        </span>
                                        <span class="hidden badge badge-pill badge-primary ml-auto bg-primary" data-region="section-unread-count">
                                            
                                        </span>
                                    </button>
                                </div>
                                                            <div
                                class=" accordion-body collapse border-bottom "
                                style="overflow-y: auto"
                                aria-live="polite"
                                data-region="lazy-load-list"
                                data-user-id="13045"
                                            id="view-overview-group-messages-target"
            aria-labelledby="view-overview-group-messages-toggle"
            data-parent="#message-drawer-view-overview-container"

                            >
                                <div class="onepix" style="height: 1px;">&nbsp;</div>
                                
                                <div class="hidden text-center p-2" data-region="empty-message-container">
                                            <p class="text-muted mt-2">No group conversations</p>

                                </div>
                                <div class="hidden list-group" data-region="content-container">
                                    
                                </div>
                                <div class="list-group" data-region="placeholder-container">
                                            <div class="text-center py-2"><span class="loading-icon icon-no-margin"><img class="icon " alt="Loading" title="Loading" src="https://moodle.cct.ie/theme/image.php/lambda/core/1700778230/i/loading" /></span>
</div>

                                </div>
                                <div class="w-100 text-center p-3 hidden" data-region="loading-icon-container" >
                                    <span class="loading-icon icon-no-margin"><img class="icon " alt="Loading" title="Loading" src="https://moodle.cct.ie/theme/image.php/lambda/core/1700778230/i/loading" /></span>
                                </div>
                            </div>
                            </div>
                            
                            <div
                                class="accordion-group section border-0 "
                                data-region="view-overview-messages"
                            >
                                <div id="view-overview-messages-toggle" class="accordion-heading" data-region="toggle">
                                    <button
                                        class="btn btn-link w-100 text-left p-2 m-0 d-flex align-items-center overview-section-toggle collapsed"
                                        data-toggle="collapse"
                                        data-parent="#message-drawer-view-overview-container-6564f5032c79b6564f5031600340"
                                        data-target="#view-overview-messages-target"
                                        aria-expanded="false"
                                        aria-controls="view-overview-messages-target"
                                    >
                                        <span class="collapsed-icon-container">
                                            <img class="icon " alt="" aria-hidden="true" src="https://moodle.cct.ie/theme/image.php/lambda/core/1700778230/t/collapsed" />
                                        </span>
                                        <span class="expanded-icon-container">
                                            <img class="icon " alt="" aria-hidden="true" src="https://moodle.cct.ie/theme/image.php/lambda/core/1700778230/t/expanded" />
                                        </span>
                                        <strong>Private</strong>
                                        <small class="hidden ml-1" data-region="section-total-count-container">
                                            (<span data-region="section-total-count"></span>)
                                        </small>
                                        <span class="hidden ml-2" data-region="loading-icon-container">
                                            <span class="loading-icon icon-no-margin"><img class="icon " alt="Loading" title="Loading" src="https://moodle.cct.ie/theme/image.php/lambda/core/1700778230/i/loading" /></span>
                                        </span>
                                        <span class="hidden badge badge-pill badge-primary ml-auto bg-primary" data-region="section-unread-count">
                                            
                                        </span>
                                    </button>
                                </div>
                                                            <div
                                class=" accordion-body collapse border-bottom "
                                style="overflow-y: auto"
                                aria-live="polite"
                                data-region="lazy-load-list"
                                data-user-id="13045"
                                            id="view-overview-messages-target"
            aria-labelledby="view-overview-messages-toggle"
            data-parent="#message-drawer-view-overview-container"

                            >
                                <div class="onepix" style="height: 1px;">&nbsp;</div>
                                
                                <div class="hidden text-center p-2" data-region="empty-message-container">
                                            <p class="text-muted mt-2">No private conversations</p>

                                </div>
                                <div class="hidden list-group" data-region="content-container">
                                    
                                </div>
                                <div class="list-group" data-region="placeholder-container">
                                            <div class="text-center py-2"><span class="loading-icon icon-no-margin"><img class="icon " alt="Loading" title="Loading" src="https://moodle.cct.ie/theme/image.php/lambda/core/1700778230/i/loading" /></span>
</div>

                                </div>
                                <div class="w-100 text-center p-3 hidden" data-region="loading-icon-container" >
                                    <span class="loading-icon icon-no-margin"><img class="icon " alt="Loading" title="Loading" src="https://moodle.cct.ie/theme/image.php/lambda/core/1700778230/i/loading" /></span>
                                </div>
                            </div>
                            </div>
                    </div>
                </div>
                
                <div
                    data-region="view-search"
                    aria-hidden="true"
                    class="h-100 hidden"
                    data-user-id="13045"
                    data-users-offset="0"
                    data-messages-offset="0"
                    style="overflow-y: auto"
                    
                >
                    <div class="hidden" data-region="search-results-container" style="overflow-y: auto">
                        
                        <div class="d-flex flex-column">
                            <div class="mb-3 bg-white" data-region="all-contacts-container">
                                <div data-region="contacts-container"  class="pt-2">
                                    <h4 class="h6 px-2">Contacts</h4>
                                    <div class="list-group" data-region="list"></div>
                                </div>
                                <div data-region="non-contacts-container" class="pt-2 border-top">
                                    <h4 class="h6 px-2">Non-contacts</h4>
                                    <div class="list-group" data-region="list"></div>
                                </div>
                                <div class="text-right">
                                    <button class="btn btn-link text-primary" data-action="load-more-users">
                                        <span data-region="button-text">Load more</span>
                                        <span data-region="loading-icon-container" class="hidden"><span class="loading-icon icon-no-margin"><img class="icon " alt="Loading" title="Loading" src="https://moodle.cct.ie/theme/image.php/lambda/core/1700778230/i/loading" /></span>
</span>
                                    </button>
                                </div>
                            </div>
                            <div class="bg-white" data-region="messages-container">
                                <h4 class="h6 px-2 pt-2">Messages</h4>
                                <div class="list-group" data-region="list"></div>
                                <div class="text-right">
                                    <button class="btn btn-link text-primary" data-action="load-more-messages">
                                        <span data-region="button-text">Load more</span>
                                        <span data-region="loading-icon-container" class="hidden"><span class="loading-icon icon-no-margin"><img class="icon " alt="Loading" title="Loading" src="https://moodle.cct.ie/theme/image.php/lambda/core/1700778230/i/loading" /></span>
</span>
                                    </button>
                                </div>
                            </div>
                            <p class="hidden p-3 text-center" data-region="no-results-container">No results</p>
                        </div>                    </div>
                    <div class="hidden" data-region="loading-placeholder">
                        <div class="text-center pt-3 icon-size-4"><span class="loading-icon icon-no-margin"><img class="icon " alt="Loading" title="Loading" src="https://moodle.cct.ie/theme/image.php/lambda/core/1700778230/i/loading" /></span>
</div>
                    </div>
                    <div class="p-3 text-center" data-region="empty-message-container">
                        <p>Search people and messages</p>
                    </div>
                </div>                
                <div class="h-100 hidden bg-white" aria-hidden="true" data-region="view-settings">
                    <div class="hidden" data-region="content-container">
                        
                        <div data-region="settings" class="p-3">
                            <h3 class="h6 font-weight-bold">Privacy</h3>
                            <p>You can restrict who can message you</p>
                            <div data-preference="blocknoncontacts" class="mb-3">
                                <fieldset>
                                    <legend class="sr-only">Accept messages from:</legend>
                                        <div class="custom-control custom-radio mb-2">
                                            <input
                                                type="radio"
                                                name="message_blocknoncontacts"
                                                class="custom-control-input"
                                                id="block-noncontacts-6564f5032c79b6564f5031600340-1"
                                                value="1"
                                            >
                                            <label class="custom-control-label ml-2" for="block-noncontacts-6564f5032c79b6564f5031600340-1">
                                                My contacts only
                                            </label>
                                        </div>
                                        <div class="custom-control custom-radio mb-2">
                                            <input
                                                type="radio"
                                                name="message_blocknoncontacts"
                                                class="custom-control-input"
                                                id="block-noncontacts-6564f5032c79b6564f5031600340-0"
                                                value="0"
                                            >
                                            <label class="custom-control-label ml-2" for="block-noncontacts-6564f5032c79b6564f5031600340-0">
                                                My contacts and anyone in my courses
                                            </label>
                                        </div>
                                </fieldset>
                            </div>
                        
                            <div class="hidden" data-region="notification-preference-container">
                                <h3 class="mb-2 mt-4 h6 font-weight-bold">Notification preferences</h3>
                            </div>
                        
                            <h3 class="mb-2 mt-4 h6 font-weight-bold">General</h3>
                            <div data-preference="entertosend">
                                <div class="custom-control custom-switch">
                                    <input type="checkbox" class="custom-control-input" id="enter-to-send-6564f5032c79b6564f5031600340" >
                                    <label class="custom-control-label" for="enter-to-send-6564f5032c79b6564f5031600340">
                                        Use enter to send
                                    </label>
                                </div>
                            </div>
                        </div>
                    </div>
                    <div data-region="placeholder-container">
                        
                        <div class="d-flex flex-column p-3">
                            <div class="w-25 bg-pulse-grey h6" style="height: 18px"></div>
                            <div class="w-75 bg-pulse-grey mb-4" style="height: 18px"></div>
                            <div class="mb-3">
                                <div class="w-100 d-flex mb-3">
                                    <div class="bg-pulse-grey rounded-circle" style="width: 18px; height: 18px"></div>
                                    <div class="bg-pulse-grey w-50 ml-2" style="height: 18px"></div>
                                </div>
                                <div class="w-100 d-flex mb-3">
                                    <div class="bg-pulse-grey rounded-circle" style="width: 18px; height: 18px"></div>
                                    <div class="bg-pulse-grey w-50 ml-2" style="height: 18px"></div>
                                </div>
                                <div class="w-100 d-flex mb-3">
                                    <div class="bg-pulse-grey rounded-circle" style="width: 18px; height: 18px"></div>
                                    <div class="bg-pulse-grey w-50 ml-2" style="height: 18px"></div>
                                </div>
                            </div>
                            <div class="w-50 bg-pulse-grey h6 mb-3 mt-2" style="height: 18px"></div>
                            <div class="mb-4">
                                <div class="w-100 d-flex mb-2 align-items-center">
                                    <div class="bg-pulse-grey w-25" style="width: 18px; height: 27px"></div>
                                    <div class="bg-pulse-grey w-25 ml-2" style="height: 18px"></div>
                                </div>
                                <div class="w-100 d-flex mb-2 align-items-center">
                                    <div class="bg-pulse-grey w-25" style="width: 18px; height: 27px"></div>
                                    <div class="bg-pulse-grey w-25 ml-2" style="height: 18px"></div>
                                </div>
                            </div>
                            <div class="w-25 bg-pulse-grey h6 mb-3 mt-2" style="height: 18px"></div>
                            <div class="mb-3">
                                <div class="w-100 d-flex mb-2 align-items-center">
                                    <div class="bg-pulse-grey w-25" style="width: 18px; height: 27px"></div>
                                    <div class="bg-pulse-grey w-50 ml-2" style="height: 18px"></div>
                                </div>
                            </div>
                        </div>                    </div>
                </div>            </div>
            <div class="footer-container position-relative" data-region="footer-container">
                
                <div
                    class="hidden border-top bg-white position-relative"
                    aria-hidden="true"
                    data-region="view-conversation"
                    data-enter-to-send="0"
                >
                    <div class="hidden p-sm-2" data-region="content-messages-footer-container">
                        
                            <div
                                class="emoji-auto-complete-container w-100 hidden"
                                data-region="emoji-auto-complete-container"
                                aria-live="polite"
                                aria-hidden="true"
                            >
                            </div>
                        <div class="d-flex mt-sm-1">
                            <textarea
                                dir="auto"
                                data-region="send-message-txt"
                                class="form-control bg-light"
                                rows="3"
                                data-auto-rows
                                data-min-rows="3"
                                data-max-rows="5"
                                aria-label="Write a message..."
                                placeholder="Write a message..."
                                style="resize: none"
                                maxlength="4096"
                            ></textarea>
                        
                            <div class="position-relative d-flex flex-column">
                                    <div
                                        data-region="emoji-picker-container"
                                        class="emoji-picker-container hidden"
                                        aria-hidden="true"
                                    >
                                        
                                        <div
                                            data-region="emoji-picker"
                                            class="card shadow emoji-picker"
                                        >
                                            <div class="card-header px-1 pt-1 pb-0 d-flex justify-content-between flex-shrink-0">
                                                <button
                                                    class="btn btn-outline-secondary icon-no-margin category-button selected"
                                                    data-action="show-category"
                                                    data-category="Recent"
                                                    title="Recent"
                                                >
                                                    <img class="icon " alt="" aria-hidden="true" src="https://moodle.cct.ie/theme/image.php/lambda/core/1700778230/i/emojicategoryrecent" />
                                                </button>
                                                <button
                                                    class="btn btn-outline-secondary icon-no-margin category-button"
                                                    data-action="show-category"
                                                    data-category="Smileys & People"
                                                    title="Smileys & people"
                                                >
                                                    <img class="icon " alt="" aria-hidden="true" src="https://moodle.cct.ie/theme/image.php/lambda/core/1700778230/i/emojicategorysmileyspeople" />
                                                </button>
                                                <button
                                                    class="btn btn-outline-secondary icon-no-margin category-button"
                                                    data-action="show-category"
                                                    data-category="Animals & Nature"
                                                    title="Animals & nature"
                                                >
                                                    <img class="icon " alt="" aria-hidden="true" src="https://moodle.cct.ie/theme/image.php/lambda/core/1700778230/i/emojicategoryanimalsnature" />
                                                </button>
                                                <button
                                                    class="btn btn-outline-secondary icon-no-margin category-button"
                                                    data-action="show-category"
                                                    data-category="Food & Drink"
                                                    title="Food & drink"
                                                >
                                                    <img class="icon " alt="" aria-hidden="true" src="https://moodle.cct.ie/theme/image.php/lambda/core/1700778230/i/emojicategoryfooddrink" />
                                                </button>
                                                <button
                                                    class="btn btn-outline-secondary icon-no-margin category-button"
                                                    data-action="show-category"
                                                    data-category="Travel & Places"
                                                    title="Travel & places"
                                                >
                                                    <img class="icon " alt="" aria-hidden="true" src="https://moodle.cct.ie/theme/image.php/lambda/core/1700778230/i/emojicategorytravelplaces" />
                                                </button>
                                                <button
                                                    class="btn btn-outline-secondary icon-no-margin category-button"
                                                    data-action="show-category"
                                                    data-category="Activities"
                                                    title="Activities"
                                                >
                                                    <img class="icon " alt="" aria-hidden="true" src="https://moodle.cct.ie/theme/image.php/lambda/core/1700778230/i/emojicategoryactivities" />
                                                </button>
                                                <button
                                                    class="btn btn-outline-secondary icon-no-margin category-button"
                                                    data-action="show-category"
                                                    data-category="Objects"
                                                    title="Objects"
                                                >
                                                    <img class="icon " alt="" aria-hidden="true" src="https://moodle.cct.ie/theme/image.php/lambda/core/1700778230/i/emojicategoryobjects" />
                                                </button>
                                                <button
                                                    class="btn btn-outline-secondary icon-no-margin category-button"
                                                    data-action="show-category"
                                                    data-category="Symbols"
                                                    title="Symbols"
                                                >
                                                    <img class="icon " alt="" aria-hidden="true" src="https://moodle.cct.ie/theme/image.php/lambda/core/1700778230/i/emojicategorysymbols" />
                                                </button>
                                                <button
                                                    class="btn btn-outline-secondary icon-no-margin category-button"
                                                    data-action="show-category"
                                                    data-category="Flags"
                                                    title="Flags"
                                                >
                                                    <img class="icon " alt="" aria-hidden="true" src="https://moodle.cct.ie/theme/image.php/lambda/core/1700778230/i/emojicategoryflags" />
                                                </button>
                                            </div>
                                            <div class="card-body p-2 d-flex flex-column overflow-hidden">
                                                <div class="input-group mb-1 flex-shrink-0">
                                                    <div class="input-group-prepend">
                                                        <span class="input-group-text pr-0 bg-white text-muted">
                                                            <img class="icon " alt="" aria-hidden="true" src="https://moodle.cct.ie/theme/image.php/lambda/core/1700778230/i/search" />
                                                        </span>
                                                    </div>
                                                    <input
                                                        type="text"
                                                        class="form-control border-left-0"
                                                        placeholder="Search"
                                                        aria-label="Search"
                                                        data-region="search-input"
                                                    >
                                                </div>
                                                <div class="flex-grow-1 overflow-auto emojis-container h-100" data-region="emojis-container">
                                                    <div class="position-relative" data-region="row-container"></div>
                                                </div>
                                                <div class="flex-grow-1 overflow-auto search-results-container h-100 hidden" data-region="search-results-container">
                                                    <div class="position-relative" data-region="row-container"></div>
                                                </div>
                                            </div>
                                            <div
                                                class="card-footer d-flex flex-shrink-0"
                                                data-region="footer"
                                            >
                                                <div class="emoji-preview" data-region="emoji-preview"></div>
                                                <div data-region="emoji-short-name" class="emoji-short-name text-muted text-wrap ml-2"></div>
                                            </div>
                                        </div>
                                    </div>
                                    <button
                                        class="btn btn-link btn-icon icon-size-3 ml-1"
                                        aria-label="Toggle emoji picker"
                                        data-action="toggle-emoji-picker"
                                    >
                                        <img class="icon " alt="" aria-hidden="true" src="https://moodle.cct.ie/theme/image.php/lambda/core/1700778230/e/emoticons" />
                                    </button>
                                <button
                                    class="btn btn-link btn-icon icon-size-3 ml-1 mt-auto"
                                    aria-label="Send message"
                                    data-action="send-message"
                                >
                                    <span data-region="send-icon-container"><img class="icon " alt="" aria-hidden="true" src="https://moodle.cct.ie/theme/image.php/lambda/core/1700778230/i/sendmessage" /></span>
                                    <span class="hidden" data-region="loading-icon-container"><span class="loading-icon icon-no-margin"><img class="icon " alt="Loading" title="Loading" src="https://moodle.cct.ie/theme/image.php/lambda/core/1700778230/i/loading" /></span>
</span>
                                </button>
                            </div>
                        </div>
                    </div>
                    <div class="hidden p-sm-2" data-region="content-messages-footer-edit-mode-container">
                        
                        <div class="d-flex p-3">
                            <button
                                class="btn btn-link btn-icon my-1 icon-size-4 ml-auto"
                                data-action="delete-selected-messages"
                                data-toggle="tooltip"
                                data-placement="top"
                                title="Delete selected messages"
                            >
                                <span data-region="icon-container"><img class="icon " alt="" aria-hidden="true" src="https://moodle.cct.ie/theme/image.php/lambda/core/1700778230/i/trash" /></span>
                                <span class="hidden" data-region="loading-icon-container"><span class="loading-icon icon-no-margin"><img class="icon " alt="Loading" title="Loading" src="https://moodle.cct.ie/theme/image.php/lambda/core/1700778230/i/loading" /></span>
</span>
                                <span class="sr-only">Delete selected messages</span>
                            </button>
                        </div>
                    </div>
                    <div class="hidden bg-secondary p-sm-3" data-region="content-messages-footer-require-contact-container">
                        
                        <div class="p-3 bg-white">
                            <p data-region="title"></p>
                            <p class="text-muted" data-region="text"></p>
                            <button type="button" class="btn btn-primary btn-block" data-action="request-add-contact">
                                <span data-region="dialogue-button-text">Send contact request</span>
                                <span class="hidden" data-region="loading-icon-container"><span class="loading-icon icon-no-margin"><img class="icon " alt="Loading" title="Loading" src="https://moodle.cct.ie/theme/image.php/lambda/core/1700778230/i/loading" /></span>
</span>
                            </button>
                        </div>
                    </div>
                    <div class="hidden bg-secondary p-sm-3" data-region="content-messages-footer-require-unblock-container">
                        
                        <div class="p-3 bg-white">
                            <p class="text-muted" data-region="text">You have blocked this user.</p>
                            <button type="button" class="btn btn-primary btn-block" data-action="request-unblock">
                                <span data-region="dialogue-button-text">Unblock user</span>
                                <span class="hidden" data-region="loading-icon-container"><span class="loading-icon icon-no-margin"><img class="icon " alt="Loading" title="Loading" src="https://moodle.cct.ie/theme/image.php/lambda/core/1700778230/i/loading" /></span>
</span>
                            </button>
                        </div>
                    </div>
                    <div class="hidden bg-secondary p-sm-3" data-region="content-messages-footer-unable-to-message">
                        
                        <div class="p-3 bg-white">
                            <p class="text-muted" data-region="text">You are unable to message this user</p>
                        </div>
                    </div>
                    <div class="p-sm-2" data-region="placeholder-container">
                        <div class="d-flex">
                            <div class="bg-pulse-grey w-100" style="height: 80px"></div>
                            <div class="mx-2 mb-2 align-self-end bg-pulse-grey" style="height: 20px; width: 20px"></div>
                        </div>                    </div>
                    <div
                        class="hidden position-absolute z-index-1"
                        data-region="confirm-dialogue-container"
                        style="top: -1px; bottom: 0; right: 0; left: 0; background: rgba(0,0,0,0.3);"
                    ></div>
                </div>                    <div data-region="view-overview" class="text-center">
                        <a href="https://moodle.cct.ie/message/index.php">
                            See all
                        </a>
                    </div>
            </div>
        </div>

</div>	<footer id="page-footer" class="container-fluid">
			<div class="row-fluid">
		<aside id="block-region-footer-left" class="span4 block-region" data-blockregion="footer-left" data-droptarget="1"></aside><aside id="block-region-footer-middle" class="span4 block-region" data-blockregion="footer-middle" data-droptarget="1"></aside><aside id="block-region-footer-right" class="span4 block-region" data-blockregion="footer-right" data-droptarget="1"></aside> 	</div>

	<div class="footerlinks">
    	<div class="row-fluid">
		<p class="helplink">
		  		<div class="container" style="padding-left: 20px;">
		  <div class="homelink"><a href="https://moodle.cct.ie/course/view.php?id=2627">StatsData_MScData_Sept23_SB+</a></div><div id="customfotter">Powered by <a href="http://www.enovation.ie" target="_blank">Enovation</a></div>		</div>
		</p>
    				</div>
        
            		
	<div class="socials row-fluid">
    
    		<div class="span12"> 
		        	<div class="social_icons pull-right">
                                                <a class="social fa fa-twitter" href='https://twitter.com/cctcollege?lang=en' target='_blank'> </a>                                                                                <a class="social fa fa-linkedin" href='https://www.linkedin.com/school/college-of-computer-training-cct-/' target='_blank'> </a>            </div>
        </div>
        
    </div>
    	        
   	</div>
<div class="logininfo">You are logged in as <a href="https://moodle.cct.ie/user/profile.php?id=13045" title="View profile">Stephen Hasson</a> (<a href="https://moodle.cct.ie/login/logout.php?sesskey=OADRTCVCU3">Log out</a>)</div>	</footer>
</div>
<script>(function($) {
 	$(document).ready(function(){

	var offset = 220;
    var duration = 500;
    jQuery(window).scroll(function() {
        if (jQuery(this).scrollTop() > offset) {
            jQuery('.back-to-top').fadeIn(duration);
        } else {
            jQuery('.back-to-top').fadeOut(duration);
        }
	});
	jQuery('.back-to-top').click(function(event) {
    	event.preventDefault();
    	jQuery('html, body').animate({scrollTop: 0}, duration);
    	return false;
	});
	
	$(document).on('click', 'button[data-toggle="dropdown"], .action-menu a[data-toggle="dropdown"], .lambda-custom-menu .nav-collapse.in a[data-toggle="dropdown"], .ml-auto.dropdown a[data-toggle="dropdown"]', function(event) {
		event.preventDefault();
  		$(this).next('.dropdown-menu').slideToggle("fast");
	});
	$(document).on('click', function (e) {
    	if(!$('button[data-toggle="dropdown"]').is(e.target) && !$('button[data-toggle="dropdown"]').has(e.target).length && !$('a[data-toggle="dropdown"]').is(e.target) && !$('a[data-toggle="dropdown"]').has(e.target).length && !$(".atto_hasmenu").is(e.target)){
        	$('.dropdown .dropdown-menu:not(.lambda-login)').slideUp("fast");
    	}                       
	});
	$(document).on('click', '.modchooser button[data-action="show-option-summary"], .modchooser button.closeoptionsummary', function(event) {
		$('.carousel-item[data-region="modules"]').toggleClass("active");
		$('.carousel-item[data-region="help"]').toggleClass("active");
	});

	});
}) (jQuery);


var togglesidebar = function() {
  var sidebar_open = Y.one('body').hasClass('sidebar-open');
  if (sidebar_open) {
    Y.one('body').removeClass('sidebar-open');
    M.util.set_user_preference('theme_lambda_sidebar', 'sidebar-closed');
  } else {
    Y.one('body').addClass('sidebar-open');
    M.util.set_user_preference('theme_lambda_sidebar', 'sidebar-open');
  }
};

M.theme_lambda = M.theme_lambda || {};
M.theme_lambda.sidebar =  {
  init: function() {
    Y.one('body').delegate('click', togglesidebar, '#sidebar-btn');
  }
};</script><script>
//<![CDATA[
var require = {
    baseUrl : 'https://moodle.cct.ie/lib/requirejs.php/1700778232/',
    // We only support AMD modules with an explicit define() statement.
    enforceDefine: true,
    skipDataMain: true,
    waitSeconds : 0,

    paths: {
        jquery: 'https://moodle.cct.ie/lib/javascript.php/1700778232/lib/jquery/jquery-3.5.1.min',
        jqueryui: 'https://moodle.cct.ie/lib/javascript.php/1700778232/lib/jquery/ui-1.13.2/jquery-ui.min',
        jqueryprivate: 'https://moodle.cct.ie/lib/javascript.php/1700778232/lib/requirejs/jquery-private'
    },

    // Custom jquery config map.
    map: {
      // '*' means all modules will get 'jqueryprivate'
      // for their 'jquery' dependency.
      '*': { jquery: 'jqueryprivate' },
      // Stub module for 'process'. This is a workaround for a bug in MathJax (see MDL-60458).
      '*': { process: 'core/first' },

      // 'jquery-private' wants the real jQuery module
      // though. If this line was not here, there would
      // be an unresolvable cyclic dependency.
      jqueryprivate: { jquery: 'jquery' }
    }
};

//]]>
</script>
<script src="https://moodle.cct.ie/lib/javascript.php/1700778232/lib/requirejs/require.min.js"></script>
<script>
//<![CDATA[
M.util.js_pending("core/first");require(['core/first'], function() {
require(['core/prefetch']);
;
require(["media_videojs/loader"], function(loader) {
    loader.setUp(function(videojs) {
        videojs.options.flash.swf = "https://moodle.cct.ie/media/player/videojs/videojs/video-js.swf";
videojs.addLanguage('en', {
  "Audio Player": "Audio Player",
  "Video Player": "Video Player",
  "Play": "Play",
  "Pause": "Pause",
  "Replay": "Replay",
  "Current Time": "Current Time",
  "Duration": "Duration",
  "Remaining Time": "Remaining Time",
  "Stream Type": "Stream Type",
  "LIVE": "LIVE",
  "Seek to live, currently behind live": "Seek to live, currently behind live",
  "Seek to live, currently playing live": "Seek to live, currently playing live",
  "Loaded": "Loaded",
  "Progress": "Progress",
  "Progress Bar": "Progress Bar",
  "progress bar timing: currentTime={1} duration={2}": "{1} of {2}",
  "Fullscreen": "Fullscreen",
  "Non-Fullscreen": "Non-Fullscreen",
  "Mute": "Mute",
  "Unmute": "Unmute",
  "Playback Rate": "Playback Rate",
  "Subtitles": "Subtitles",
  "subtitles off": "subtitles off",
  "Captions": "Captions",
  "captions off": "captions off",
  "Chapters": "Chapters",
  "Descriptions": "Descriptions",
  "descriptions off": "descriptions off",
  "Audio Track": "Audio Track",
  "Volume Level": "Volume Level",
  "You aborted the media playback": "You aborted the media playback",
  "A network error caused the media download to fail part-way.": "A network error caused the media download to fail part-way.",
  "The media could not be loaded, either because the server or network failed or because the format is not supported.": "The media could not be loaded, either because the server or network failed or because the format is not supported.",
  "The media playback was aborted due to a corruption problem or because the media used features your browser did not support.": "The media playback was aborted due to a corruption problem or because the media used features your browser did not support.",
  "No compatible source was found for this media.": "No compatible source was found for this media.",
  "The media is encrypted and we do not have the keys to decrypt it.": "The media is encrypted and we do not have the keys to decrypt it.",
  "Play Video": "Play Video",
  "Close": "Close",
  "Close Modal Dialog": "Close Modal Dialog",
  "Modal Window": "Modal Window",
  "This is a modal window": "This is a modal window",
  "This modal can be closed by pressing the Escape key or activating the close button.": "This modal can be closed by pressing the Escape key or activating the close button.",
  ", opens captions settings dialog": ", opens captions settings dialog",
  ", opens subtitles settings dialog": ", opens subtitles settings dialog",
  ", opens descriptions settings dialog": ", opens descriptions settings dialog",
  ", selected": ", selected",
  "captions settings": "captions settings",
  "subtitles settings": "subtitles settings",
  "descriptions settings": "descriptions settings",
  "Text": "Text",
  "White": "White",
  "Black": "Black",
  "Red": "Red",
  "Green": "Green",
  "Blue": "Blue",
  "Yellow": "Yellow",
  "Magenta": "Magenta",
  "Cyan": "Cyan",
  "Background": "Background",
  "Window": "Window",
  "Transparent": "Transparent",
  "Semi-Transparent": "Semi-Transparent",
  "Opaque": "Opaque",
  "Font Size": "Font Size",
  "Text Edge Style": "Text Edge Style",
  "None": "None",
  "Raised": "Raised",
  "Depressed": "Depressed",
  "Uniform": "Uniform",
  "Dropshadow": "Dropshadow",
  "Font Family": "Font Family",
  "Proportional Sans-Serif": "Proportional Sans-Serif",
  "Monospace Sans-Serif": "Monospace Sans-Serif",
  "Proportional Serif": "Proportional Serif",
  "Monospace Serif": "Monospace Serif",
  "Casual": "Casual",
  "Script": "Script",
  "Small Caps": "Small Caps",
  "Reset": "Reset",
  "restore all settings to the default values": "restore all settings to the default values",
  "Done": "Done",
  "Caption Settings Dialog": "Caption Settings Dialog",
  "Beginning of dialog window. Escape will cancel and close the window.": "Beginning of dialog window. Escape will cancel and close the window.",
  "End of dialog window.": "End of dialog window.",
  "{1} is loading.": "{1} is loading.",
  "Exit Picture-in-Picture": "Exit Picture-in-Picture",
  "Picture-in-Picture": "Picture-in-Picture"
});

    });
});;
function legacy_activity_onclick_handler_1(e) { e.halt(); window.open('https://moodle.cct.ie/mod/resource/view.php?id=146517&redirect=1'); return false; };
function legacy_activity_onclick_handler_2(e) { e.halt(); window.open('https://moodle.cct.ie/mod/resource/view.php?id=146516&redirect=1'); return false; };
function legacy_activity_onclick_handler_3(e) { e.halt(); window.open('https://moodle.cct.ie/mod/resource/view.php?id=147829&redirect=1'); return false; };
function legacy_activity_onclick_handler_4(e) { e.halt(); window.open('https://moodle.cct.ie/mod/resource/view.php?id=147831&redirect=1'); return false; };
function legacy_activity_onclick_handler_5(e) { e.halt(); window.open('https://moodle.cct.ie/mod/resource/view.php?id=147832&redirect=1'); return false; };
function legacy_activity_onclick_handler_6(e) { e.halt(); window.open('https://moodle.cct.ie/mod/resource/view.php?id=147833&redirect=1'); return false; };

    require(['core/yui'], function(Y) {
            Y.on('click', legacy_activity_onclick_handler_1, '#label_5_38', null);
    });
;

    require(['core/yui'], function(Y) {
            Y.on('click', legacy_activity_onclick_handler_2, '#label_5_39', null);
    });
;

    require(['core/yui'], function(Y) {
            Y.on('click', legacy_activity_onclick_handler_3, '#label_5_40', null);
    });
;

    require(['core/yui'], function(Y) {
            Y.on('click', legacy_activity_onclick_handler_4, '#label_5_41', null);
    });
;

    require(['core/yui'], function(Y) {
            Y.on('click', legacy_activity_onclick_handler_5, '#label_5_42', null);
    });
;

    require(['core/yui'], function(Y) {
            Y.on('click', legacy_activity_onclick_handler_6, '#label_5_43', null);
    });
;
M.util.js_pending('block_navigation/navblock'); require(['block_navigation/navblock'], function(amd) {amd.init("4"); M.util.js_complete('block_navigation/navblock');});;
M.util.js_pending('block_settings/settingsblock'); require(['block_settings/settingsblock'], function(amd) {amd.init("18109", null); M.util.js_complete('block_settings/settingsblock');});;

require(['jquery'], function($) {
    require(['theme_boost/bootstrap/popover'], function() {
        var target = $("#calendar-day-popover-link-2627-2023-330-6564f5031cd1b6564f5031600325");
        target.popover({
            content: function() {
                var source = target.next().find("> *:not('.hidden')");
                var content = $('<div>');

                if (source.length) {
                    content.html(source.clone(false));
                } else {
                    content.html(target.data('alternate'));
                }

                return content.html();
            }
        });
    });
});
;

require([
    'jquery',
    'core_calendar/selectors',
    'core_calendar/events',
], function(
    $,
    CalendarSelectors,
    CalendarEvents
) {

    $('body').on(CalendarEvents.filterChanged, function(e, data) {
        M.util.js_pending("month-mini-6564f5031cd1b6564f5031600325-filterChanged");
        // A filter value has been changed.
        // Find all matching cells in the popover data, and hide them.
        $("#month-mini-2023-11-6564f5031cd1b6564f5031600325")
            .find(CalendarSelectors.popoverType[data.type])
            .toggleClass('hidden', !!data.hidden);
        M.util.js_complete("month-mini-6564f5031cd1b6564f5031600325-filterChanged");
    });
});
;

require(['jquery', 'core_calendar/calendar_mini'], function($, CalendarMini) {
    CalendarMini.init($("#calendar-month-2023-11-6564f5031cd1b6564f5031600325"), !0);
});
;

require(['jquery', 'core_calendar/calendar_filter'], function($, CalendarFilter) {
    CalendarFilter.init($("#event-filter-6564f5031d84f6564f5031600326"));
});
;

require(['jquery', 'message_popup/notification_popover_controller'], function($, controller) {
    var container = $('#nav-notification-popover-container');
    var controller = new controller(container);
    controller.registerEventListeners();
    controller.registerListNavigationEventListeners();
});
;

require(
[
    'jquery',
    'core_message/message_popover'
],
function(
    $,
    Popover
) {
    var toggle = $('#message-drawer-toggle-6564f50325c686564f5031600330');
    Popover.init(toggle);
});
;

    require(['core/yui'], function(Y) {
            Y.on('click', legacy_activity_onclick_handler_6, '#label_5_43', null);
    });
;

        require(['jquery', 'core/custom_interaction_events'], function($, CustomEvents) {
            CustomEvents.define('#jump-to-activity', [CustomEvents.events.accessibleChange]);
            $('#jump-to-activity').on(CustomEvents.events.accessibleChange, function() {
                if (!$(this).val()) {
                    return false;
                }
                $('#url_select_f6564f5031600339').submit();
            });
        });
    ;

require(
[
    'jquery',
    'core_message/message_drawer',
    'core_message/message_popover'
],
function(
    $,
    MessageDrawer,
    Popover
) {

    var root = $('#message-drawer-6564f5032c79b6564f5031600340');
    MessageDrawer.init(root);

    var toggle = $('#message-drawer-close-6564f5032c79b6564f5031600340');
    Popover.init(toggle);
});
;
M.util.js_pending('core/log'); require(['core/log'], function(amd) {amd.setConfig({"level":"warn"}); M.util.js_complete('core/log');});;
M.util.js_pending('core/page_global'); require(['core/page_global'], function(amd) {amd.init(); M.util.js_complete('core/page_global');});M.util.js_complete("core/first");
});
//]]>
</script>
<script src="https://moodle.cct.ie/theme/javascript.php/lambda/1700778230/footer"></script>
<script>
//<![CDATA[
M.str = {"moodle":{"lastmodified":"Last modified","name":"Name","error":"Error","info":"Information","yes":"Yes","no":"No","viewallcourses":"View all courses","cancel":"Cancel","morehelp":"More help","loadinghelp":"Loading...","confirm":"Confirm","areyousure":"Are you sure?","closebuttontitle":"Close","unknownerror":"Unknown error","file":"File","url":"URL"},"repository":{"type":"Type","size":"Size","invalidjson":"Invalid JSON string","nofilesattached":"No files attached","filepicker":"File picker","logout":"Logout","nofilesavailable":"No files available","norepositoriesavailable":"Sorry, none of your current repositories can return files in the required format.","fileexistsdialogheader":"File exists","fileexistsdialog_editor":"A file with that name has already been attached to the text you are editing.","fileexistsdialog_filemanager":"A file with that name has already been attached","renameto":"Rename to \"{$a}\"","referencesexist":"There are {$a} links to this file","select":"Select"},"admin":{"confirmdeletecomments":"You are about to delete comments, are you sure?","confirmation":"Confirmation"},"block_accessibility":{"saved":"Setting Saved","jsnosave":"Error saving settings","reset":"Setting Cleared","jsnosizereset":"Error resetting text size","jsnocolourreset":"Error resetting colour scheme","jsnosize":"Error changing size","jsnocolour":"Error changing colour scheme","jsnotloggedin":"Error! Please check if you are logged-in to the system or contact your administrator","launchtoolbar":"Launch ATbar"},"debug":{"debuginfo":"Debug info","line":"Line","stacktrace":"Stack trace"},"langconfig":{"labelsep":": "}};
//]]>
</script>
<script>
//<![CDATA[
(function() {Y.use("moodle-filter_mathjaxloader-loader",function() {M.filter_mathjaxloader.configure({"mathjaxconfig":"\nMathJax.Hub.Config({\n    config: [\"Accessible.js\", \"Safe.js\"],\n    errorSettings: { message: [\"!\"] },\n    skipStartupTypeset: true,\n    messageStyle: \"none\"\n});\n","lang":"en"});
});
 M.util.js_pending('random6564f5031600327'); Y.use('block_accessibility', function(Y) { M.block_accessibility.init(Y, false, "37828");  M.util.js_complete('random6564f5031600327'); });
Y.use("moodle-theme_lambda-sidebar",function() {M.theme_lambda.sidebar.init();
});
M.util.help_popups.setup(Y);
Y.use("moodle-core-popuphelp",function() {M.core.init_popuphelp();
});
 M.util.js_pending('random6564f5031600341'); Y.on('domready', function() { M.util.js_complete("init");  M.util.js_complete('random6564f5031600341'); });
})();
//]]>
</script>

</body>
</html>