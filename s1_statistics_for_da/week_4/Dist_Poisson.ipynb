{
 "cells": [
  {
   "cell_type": "code",
   "execution_count": 1,
   "id": "3c9b3de9",
   "metadata": {},
   "outputs": [],
   "source": [
    "from scipy.stats import poisson\n"
   ]
  },
  {
   "cell_type": "code",
   "execution_count": 2,
   "id": "a5f9bb3d",
   "metadata": {},
   "outputs": [
    {
     "data": {
      "text/plain": [
       "0.18044704431548356"
      ]
     },
     "execution_count": 2,
     "metadata": {},
     "output_type": "execute_result"
    }
   ],
   "source": [
    "# Exactly 3 --> P( X = 3)\n",
    "\n",
    "poisson.pmf(k = 3, mu = 2)"
   ]
  },
  {
   "cell_type": "code",
   "execution_count": 3,
   "id": "85fea04f",
   "metadata": {},
   "outputs": [
    {
     "data": {
      "text/plain": [
       "0.6766764161830634"
      ]
     },
     "execution_count": 3,
     "metadata": {},
     "output_type": "execute_result"
    }
   ],
   "source": [
    "# Less than 3 --> P( x < 3) or P( x =< 2)\n",
    "\n",
    "poisson.cdf(k = 2, mu= 2)"
   ]
  },
  {
   "cell_type": "code",
   "execution_count": 4,
   "id": "50b214ea",
   "metadata": {},
   "outputs": [
    {
     "data": {
      "text/plain": [
       "0.32332358381693654"
      ]
     },
     "execution_count": 4,
     "metadata": {},
     "output_type": "execute_result"
    }
   ],
   "source": [
    "#Greater than 2 --> P( x >2) or P( X >= 3)\n",
    "\n",
    "poisson.sf(k = 2, mu = 2)"
   ]
  },
  {
   "cell_type": "code",
   "execution_count": 5,
   "id": "08ae1e17",
   "metadata": {},
   "outputs": [
    {
     "data": {
      "text/plain": [
       "0.5774305418095476"
      ]
     },
     "execution_count": 5,
     "metadata": {},
     "output_type": "execute_result"
    }
   ],
   "source": [
    "#Between 2 and 5 inclusive\n",
    "# P(x=<5) - P(x=<1)\n",
    "\n",
    "poisson.cdf(k = 5, mu = 2) - poisson.cdf(k = 1, mu = 2)\n"
   ]
  },
  {
   "cell_type": "code",
   "execution_count": null,
   "id": "56d803ad",
   "metadata": {},
   "outputs": [],
   "source": []
  }
 ],
 "metadata": {
  "kernelspec": {
   "display_name": "Python 3",
   "language": "python",
   "name": "python3"
  },
  "language_info": {
   "codemirror_mode": {
    "name": "ipython",
    "version": 3
   },
   "file_extension": ".py",
   "mimetype": "text/x-python",
   "name": "python",
   "nbconvert_exporter": "python",
   "pygments_lexer": "ipython3",
   "version": "3.8.8"
  }
 },
 "nbformat": 4,
 "nbformat_minor": 5
}
