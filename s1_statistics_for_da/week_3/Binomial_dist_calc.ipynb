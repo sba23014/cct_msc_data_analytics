{
 "cells": [
  {
   "cell_type": "code",
   "execution_count": 1,
   "id": "e7c39477",
   "metadata": {},
   "outputs": [],
   "source": [
    "from scipy.stats import binom"
   ]
  },
  {
   "cell_type": "code",
   "execution_count": 2,
   "id": "3af78086",
   "metadata": {},
   "outputs": [
    {
     "data": {
      "text/plain": [
       "0.20132659200000022"
      ]
     },
     "execution_count": 2,
     "metadata": {},
     "output_type": "execute_result"
    }
   ],
   "source": [
    "#P(X = 3)\n",
    "\n",
    "binom.pmf(k = 3, n= 10, p =0.20)"
   ]
  },
  {
   "cell_type": "code",
   "execution_count": 3,
   "id": "fb44c334",
   "metadata": {},
   "outputs": [
    {
     "data": {
      "text/plain": [
       "0.6777995264000001"
      ]
     },
     "execution_count": 3,
     "metadata": {},
     "output_type": "execute_result"
    }
   ],
   "source": [
    "#P(x < 3) \n",
    "\n",
    "binom.cdf( k = 2, n = 10, p = 0.20)"
   ]
  },
  {
   "cell_type": "code",
   "execution_count": 4,
   "id": "ada341a7",
   "metadata": {},
   "outputs": [
    {
     "data": {
      "text/plain": [
       "0.8791261184000001"
      ]
     },
     "execution_count": 4,
     "metadata": {},
     "output_type": "execute_result"
    }
   ],
   "source": [
    "# P(x =<3)\n",
    "\n",
    "binom.cdf( k = 3, n = 10, p = 0.2)"
   ]
  },
  {
   "cell_type": "code",
   "execution_count": 5,
   "id": "ed42f86c",
   "metadata": {},
   "outputs": [
    {
     "data": {
      "text/plain": [
       "0.12087388160000005"
      ]
     },
     "execution_count": 5,
     "metadata": {},
     "output_type": "execute_result"
    }
   ],
   "source": [
    "# P( X >3)\n",
    "\n",
    "binom.sf(k = 3, n = 10, p = 0.20 )"
   ]
  },
  {
   "cell_type": "code",
   "execution_count": null,
   "id": "f6e6555e",
   "metadata": {},
   "outputs": [],
   "source": []
  }
 ],
 "metadata": {
  "kernelspec": {
   "display_name": "Python 3",
   "language": "python",
   "name": "python3"
  },
  "language_info": {
   "codemirror_mode": {
    "name": "ipython",
    "version": 3
   },
   "file_extension": ".py",
   "mimetype": "text/x-python",
   "name": "python",
   "nbconvert_exporter": "python",
   "pygments_lexer": "ipython3",
   "version": "3.8.8"
  }
 },
 "nbformat": 4,
 "nbformat_minor": 5
}
