{
 "cells": [
  {
   "cell_type": "code",
   "execution_count": 1,
   "id": "e7c39477",
   "metadata": {},
   "outputs": [],
   "source": [
    "from scipy.stats import binom"
   ]
  },
  {
   "cell_type": "code",
   "execution_count": 2,
   "id": "3af78086",
   "metadata": {},
   "outputs": [
    {
     "data": {
      "text/plain": [
       "0.20132659200000022"
      ]
     },
     "execution_count": 2,
     "metadata": {},
     "output_type": "execute_result"
    }
   ],
   "source": [
    "#P(X = 3)\n",
    "\n",
    "binom.pmf(k = 3, n= 10, p =0.20)"
   ]
  },
  {
   "cell_type": "code",
   "execution_count": 3,
   "id": "fb44c334",
   "metadata": {},
   "outputs": [
    {
     "data": {
      "text/plain": [
       "0.6777995264000001"
      ]
     },
     "execution_count": 3,
     "metadata": {},
     "output_type": "execute_result"
    }
   ],
   "source": [
    "#P(x < 3) \n",
    "\n",
    "binom.cdf(k = 2, n = 10, p = 0.20)"
   ]
  },
  {
   "cell_type": "code",
   "execution_count": 4,
   "id": "ada341a7",
   "metadata": {},
   "outputs": [
    {
     "data": {
      "text/plain": [
       "0.8791261184000001"
      ]
     },
     "execution_count": 4,
     "metadata": {},
     "output_type": "execute_result"
    }
   ],
   "source": [
    "# P(x =<3)\n",
    "\n",
    "binom.cdf( k = 3, n = 10, p = 0.2)"
   ]
  },
  {
   "cell_type": "code",
   "execution_count": 5,
   "id": "ed42f86c",
   "metadata": {},
   "outputs": [
    {
     "data": {
      "text/plain": [
       "0.12087388160000005"
      ]
     },
     "execution_count": 5,
     "metadata": {},
     "output_type": "execute_result"
    }
   ],
   "source": [
    "# P( X >3)\n",
    "\n",
    "binom.sf(k = 3, n = 10, p = 0.20)"
   ]
  },
  {
   "cell_type": "markdown",
   "id": "40a8e897",
   "metadata": {},
   "source": [
    "The code you provided uses the scipy.stats.binom function to calculate the probability of various events under the binomial distribution. The binomial distribution is a discrete probability distribution that models the number of successes in a sequence of n independent Bernoulli trials, where each trial has two possible outcomes (success or failure) and the probability of success is constant for each trial.\n",
    "\n",
    "The first line of code imports the binom function from the scipy.stats library. The remaining lines call the binom function with different arguments to calculate different probabilities.\n",
    "\n",
    "binom.pmf(k = 3, n= 10, p =0.20)\n",
    "\n",
    "This line calculates the probability of getting exactly 3 successes in 10 trials with a probability of success of 0.2. The function returns the value 0.20132659200000003, which is the probability of this event.\n",
    "\n",
    "binom.cdf( k = 2, n = 10, p = 0.20)\n",
    "\n",
    "This line calculates the probability of getting at most 2 successes in 10 trials with a probability of success of 0.2. The function returns the value 0.6777995264, which is the probability of this event.\n",
    "\n",
    "binom.cdf( k = 3, n = 10, p = 0.2)\n",
    "\n",
    "This line calculates the probability of getting at least 3 successes in 10 trials with a probability of success of 0.2. The function returns the value 0.8791261184, which is the probability of this event.\n",
    "\n",
    "binom.sf(k = 3, n = 10, p = 0.20)\n",
    "\n",
    "This line calculates the probability of not getting 3 successes in 10 trials with a probability of success of 0.2. The function returns the value 0.12087388160000002, which is the probability of this event.\n",
    "\n",
    "Note that the sum of the last two probabilities is 1, which is always the case for complementary events."
   ]
  }
 ],
 "metadata": {
  "kernelspec": {
   "display_name": "Python 3 (ipykernel)",
   "language": "python",
   "name": "python3"
  },
  "language_info": {
   "codemirror_mode": {
    "name": "ipython",
    "version": 3
   },
   "file_extension": ".py",
   "mimetype": "text/x-python",
   "name": "python",
   "nbconvert_exporter": "python",
   "pygments_lexer": "ipython3",
   "version": "3.9.16"
  }
 },
 "nbformat": 4,
 "nbformat_minor": 5
}
