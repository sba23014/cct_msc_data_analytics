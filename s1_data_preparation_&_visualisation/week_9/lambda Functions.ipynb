{
 "cells": [
  {
   "cell_type": "markdown",
   "metadata": {},
   "source": [
    "In Python, an anonymous function means that a function is without a name. \n",
    "As we already know that the def keyword is used to define a normal function in Python. Similarly, the lambda keyword is used to define an anonymous function in Python. It has the following syntax: \n",
    "\n",
    "##### Syntax: lambda arguments: expression\n",
    "\n",
    "This function can have any number of arguments but only one expression, which is evaluated and returned.\n",
    "One is free to use lambda functions wherever function objects are required.\n",
    "You need to keep in your knowledge that lambda functions are syntactically restricted to a single expression.\n",
    "It has various uses in particular fields of programming besides other types of expressions in functions."
   ]
  },
  {
   "cell_type": "code",
   "execution_count": 1,
   "metadata": {},
   "outputs": [
    {
     "name": "stdout",
     "output_type": "stream",
     "text": [
      "15\n"
     ]
    }
   ],
   "source": [
    "x = lambda a : a + 10\n",
    "print(x(5))"
   ]
  },
  {
   "cell_type": "code",
   "execution_count": 4,
   "metadata": {},
   "outputs": [
    {
     "name": "stdout",
     "output_type": "stream",
     "text": [
      "David\n"
     ]
    }
   ],
   "source": [
    "myname = lambda name : print(name)\n",
    "myname(\"David\")"
   ]
  },
  {
   "cell_type": "code",
   "execution_count": 27,
   "metadata": {},
   "outputs": [
    {
     "name": "stdout",
     "output_type": "stream",
     "text": [
      "[13, 17, 5]\n"
     ]
    }
   ],
   "source": [
    "ages = [13, 90, 17, 59, 21, 60, 5]\n",
    "adults = list(filter(lambda x: x<18, ages))\n",
    "print(adults)"
   ]
  },
  {
   "cell_type": "code",
   "execution_count": 31,
   "metadata": {},
   "outputs": [
    {
     "name": "stdout",
     "output_type": "stream",
     "text": [
      "[46, 277, 58, 184, 70, 187, 22]\n"
     ]
    }
   ],
   "source": [
    "ages = [13, 90, 17, 59, 21, 60, 5]\n",
    "adults = list(map(lambda x: (x*3)+7, ages))\n",
    "print(adults)"
   ]
  },
  {
   "cell_type": "code",
   "execution_count": 14,
   "metadata": {},
   "outputs": [
    {
     "name": "stdout",
     "output_type": "stream",
     "text": [
      "193\n"
     ]
    }
   ],
   "source": [
    "from functools import reduce\n",
    "li = [5, 8, 10, 20, 50, 100]\n",
    "sum = reduce((lambda x, y: x + y), li)\n",
    "print (sum)\n"
   ]
  },
  {
   "cell_type": "code",
   "execution_count": 32,
   "metadata": {},
   "outputs": [
    {
     "name": "stdout",
     "output_type": "stream",
     "text": [
      "The maximum element of the list is : 6\n"
     ]
    }
   ],
   "source": [
    "# initializing list\n",
    "lis = [ 1 , 3, 5, 6, 2 ]\n",
    "\n",
    "# using reduce to compute maximum element from list\n",
    "print (\"The maximum element of the list is : \",end=\"\")\n",
    "print (reduce(lambda a,b : a if a > b else b, lis))"
   ]
  },
  {
   "cell_type": "code",
   "execution_count": 33,
   "metadata": {},
   "outputs": [
    {
     "name": "stdout",
     "output_type": "stream",
     "text": [
      "The minimum element of the list is : 3\n"
     ]
    }
   ],
   "source": [
    "# initializing list\n",
    "lis = [ 10 , 3, 15, 6, 211 ]\n",
    "\n",
    "# using reduce to compute minimum element from list\n",
    "print (\"The minimum element of the list is : \",end=\"\")\n",
    "print (reduce(lambda a,b : a if a < b else b, lis))"
   ]
  },
  {
   "cell_type": "code",
   "execution_count": null,
   "metadata": {},
   "outputs": [],
   "source": []
  }
 ],
 "metadata": {
  "kernelspec": {
   "display_name": "Python 3",
   "language": "python",
   "name": "python3"
  },
  "language_info": {
   "codemirror_mode": {
    "name": "ipython",
    "version": 3
   },
   "file_extension": ".py",
   "mimetype": "text/x-python",
   "name": "python",
   "nbconvert_exporter": "python",
   "pygments_lexer": "ipython3",
   "version": "3.8.5"
  }
 },
 "nbformat": 4,
 "nbformat_minor": 4
}
