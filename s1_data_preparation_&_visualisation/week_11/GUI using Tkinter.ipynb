{
 "cells": [
  {
   "cell_type": "code",
   "execution_count": 1,
   "metadata": {},
   "outputs": [],
   "source": [
    "import tkinter as tk\n",
    "from matplotlib.backends.backend_tkagg import FigureCanvasTkAgg\n",
    "from matplotlib.figure import Figure"
   ]
  },
  {
   "cell_type": "code",
   "execution_count": 2,
   "metadata": {},
   "outputs": [
    {
     "data": {
      "text/plain": [
       "4"
      ]
     },
     "execution_count": 2,
     "metadata": {},
     "output_type": "execute_result"
    }
   ],
   "source": [
    "root= tk.Tk()\n",
    "  \n",
    "canvas1 = tk.Canvas(root, width = 800, height = 300)\n",
    "canvas1.pack()\n",
    "\n",
    "label1 = tk.Label(root, text='Graphical User Interface')\n",
    "label1.config(font=('Arial', 20))\n",
    "canvas1.create_window(400, 50, window=label1)\n",
    "   \n",
    "entry1 = tk.Entry (root)\n",
    "canvas1.create_window(400, 100, window=entry1) \n",
    "  \n",
    "entry2 = tk.Entry (root)\n",
    "canvas1.create_window(400, 120, window=entry2) \n",
    "          \n",
    "entry3 = tk.Entry (root)\n",
    "canvas1.create_window(400, 140, window=entry3) "
   ]
  },
  {
   "cell_type": "code",
   "execution_count": 3,
   "metadata": {},
   "outputs": [],
   "source": [
    "def create_charts():\n",
    "    global x1\n",
    "    global x2\n",
    "    global x3\n",
    "    global bar1\n",
    "    global pie2\n",
    "    x1 = float(entry1.get())\n",
    "    x2 = float(entry2.get())\n",
    "    x3 = float(entry3.get())\n",
    "\n",
    "    figure1 = Figure(figsize=(4,3), dpi=100) \n",
    "    subplot1 = figure1.add_subplot(111) \n",
    "    xAxis = [float(x1),float(x2),float(x3)] \n",
    "    yAxis = [float(x1),float(x2),float(x3)] \n",
    "    subplot1.bar(xAxis,yAxis, color = 'lightsteelblue') \n",
    "    bar1 = FigureCanvasTkAgg(figure1, root) \n",
    "    bar1.get_tk_widget().pack(side=tk.LEFT, fill=tk.BOTH, expand=0)\n",
    "      \n",
    "    figure2 = Figure(figsize=(4,3), dpi=100) \n",
    "    subplot2 = figure2.add_subplot(111) \n",
    "    labels2 = 'Label1', 'Label2', 'Label3' \n",
    "    pieSizes = [float(x1),float(x2),float(x3)]\n",
    "    my_colors2 = ['lightblue','lightsteelblue','silver']\n",
    "    explode2 = (0, 0.1, 0)  \n",
    "    subplot2.pie(pieSizes, colors=my_colors2, explode=explode2, labels=labels2, autopct='%1.1f%%', shadow=True, startangle=90) \n",
    "    subplot2.axis('equal')  \n",
    "    pie2 = FigureCanvasTkAgg(figure2, root)\n",
    "    pie2.get_tk_widget().pack()"
   ]
  },
  {
   "cell_type": "code",
   "execution_count": 4,
   "metadata": {},
   "outputs": [],
   "source": [
    "def clear_charts():\n",
    "    bar1.get_tk_widget().pack_forget()\n",
    "    pie2.get_tk_widget().pack_forget()"
   ]
  },
  {
   "cell_type": "code",
   "execution_count": 5,
   "metadata": {},
   "outputs": [
    {
     "data": {
      "text/plain": [
       "7"
      ]
     },
     "execution_count": 5,
     "metadata": {},
     "output_type": "execute_result"
    }
   ],
   "source": [
    "button1 = tk.Button (root, text=' Create Charts ',command=create_charts, bg='palegreen2', font=('Arial', 11, 'bold')) \n",
    "canvas1.create_window(400, 180, window=button1)\n",
    "\n",
    "button2 = tk.Button (root, text='  Clear Charts  ', command=clear_charts, bg='lightskyblue2', font=('Arial', 11, 'bold'))\n",
    "canvas1.create_window(400, 220, window=button2)\n",
    "\n",
    "button3 = tk.Button (root, text='Exit Application', command=root.destroy, bg='lightsteelblue2', font=('Arial', 11, 'bold'))\n",
    "canvas1.create_window(400, 260, window=button3)"
   ]
  },
  {
   "cell_type": "code",
   "execution_count": 6,
   "metadata": {},
   "outputs": [],
   "source": [
    "root.mainloop()"
   ]
  },
  {
   "cell_type": "code",
   "execution_count": null,
   "metadata": {},
   "outputs": [],
   "source": []
  }
 ],
 "metadata": {
  "kernelspec": {
   "display_name": "Python 3",
   "language": "python",
   "name": "python3"
  },
  "language_info": {
   "codemirror_mode": {
    "name": "ipython",
    "version": 3
   },
   "file_extension": ".py",
   "mimetype": "text/x-python",
   "name": "python",
   "nbconvert_exporter": "python",
   "pygments_lexer": "ipython3",
   "version": "3.8.5"
  }
 },
 "nbformat": 4,
 "nbformat_minor": 4
}
