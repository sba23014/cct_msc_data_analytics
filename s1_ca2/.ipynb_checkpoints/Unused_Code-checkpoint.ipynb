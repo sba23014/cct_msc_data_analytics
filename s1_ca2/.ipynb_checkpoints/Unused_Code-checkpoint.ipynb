{
 "cells": [
  {
   "cell_type": "code",
   "execution_count": null,
   "id": "9602fc23",
   "metadata": {},
   "outputs": [],
   "source": [
    "# Combine 'Year' and 'Month' into a single 'Date' column\n",
    "ire_dub_bus_months_passengers['Date'] = pd.to_datetime(ire_dub_bus_months_passengers['Year'].astype(str) + ' ' \n",
    "                                                       + ire_dub_bus_months_passengers['Month'])\n",
    "\n",
    "# Display the first few rows of the updated dataframe\n",
    "ire_dub_bus_months_passengers.head()"
   ]
  },
  {
   "cell_type": "code",
   "execution_count": null,
   "id": "ec8693f6",
   "metadata": {},
   "outputs": [],
   "source": [
    "# Set the plot size\n",
    "plt.figure(figsize=(12, 5))\n",
    "\n",
    "# Create the line plot\n",
    "plt.plot(ire_dub_bus_months_passengers['Date'], ire_dub_bus_months_passengers['Passengers (Mn.)'], linewidth = 1.5)\n",
    "plt.title('Yearly Dublin Bus Passengers (Mn.) by Season Trend: 2014 to 2022', size = 14)\n",
    "plt.xlabel(\"Year\", size = 12)\n",
    "plt.ylabel(\"Passengers (Mn.)\", size = 12)\n",
    "plt.tight_layout()\n",
    "plt.gca().yaxis.grid(True, color = 'lightgrey', linestyle = '-', linewidth = 0.8)\n",
    "plt.gca().xaxis.grid(False)\n",
    "plt.show()"
   ]
  },
  {
   "cell_type": "code",
   "execution_count": null,
   "id": "45504110",
   "metadata": {},
   "outputs": [],
   "source": [
    "# Use the query function in Pandas to exclude year's 2020 and 2021 due to COVID and skew\n",
    "ire_dub_bus_months_passengers_filtered = ire_dub_bus_months_passengers.query('Year != 2020 and Year != 2021 and Year != 2022' )\n",
    "\n",
    "ire_dub_bus_months_passengers_filtered.tail()"
   ]
  },
  {
   "cell_type": "code",
   "execution_count": null,
   "id": "c2bede3c",
   "metadata": {},
   "outputs": [],
   "source": [
    "# Set the plot size\n",
    "plt.figure(figsize=(12, 5))\n",
    "\n",
    "# Create the line plot\n",
    "plt.plot(ire_dub_bus_months_passengers_filtered['Date'], ire_dub_bus_months_passengers_filtered['Passengers (Mn.)'], linewidth = 1.5)\n",
    "plt.title('Yearly Dublin Bus Passengers (Mn.) by Season Trend: 2014 to 2022', size = 14)\n",
    "plt.xlabel(\"Year\", size = 12)\n",
    "plt.ylabel(\"Passengers (Mn.)\", size = 12)\n",
    "plt.tight_layout()\n",
    "plt.gca().yaxis.grid(True, color = 'lightgrey', linestyle = '-', linewidth = 0.8)\n",
    "plt.gca().xaxis.grid(False)\n",
    "plt.show()"
   ]
  },
  {
   "cell_type": "code",
   "execution_count": null,
   "id": "905d9007",
   "metadata": {},
   "outputs": [],
   "source": [
    "# Ensure the date column is in datetime format\n",
    "ire_dub_bus_months_passengers_filtered['Date'] = pd.to_datetime(ire_dub_bus_months_passengers_filtered['Date'])\n",
    "\n",
    "# Convert the date to an ordinal number\n",
    "ire_dub_bus_months_passengers_filtered['Date (Int)'] = ire_dub_bus_months_passengers_filtered['Date'].apply(lambda x: x.toordinal())\n",
    "\n",
    "# Display the DataFrame to verify the changes\n",
    "ire_dub_bus_months_passengers_filtered.head()"
   ]
  },
  {
   "cell_type": "code",
   "execution_count": null,
   "id": "94e69480",
   "metadata": {},
   "outputs": [],
   "source": [
    "# Extract the relevant features\n",
    "X = ire_dub_bus_months_passengers_filtered['Date (Int)'].values.reshape(-1, 1)\n",
    "y = ire_dub_bus_months_passengers_filtered['Passengers (Mn.)'].values"
   ]
  },
  {
   "cell_type": "code",
   "execution_count": null,
   "id": "ce8fa61c",
   "metadata": {},
   "outputs": [],
   "source": [
    "import matplotlib.pyplot as plt\n",
    "from sklearn.model_selection import train_test_split\n",
    "from datetime import datetime\n",
    "import numpy as np\n",
    "plt.style.use('seaborn-whitegrid')\n",
    "\n",
    "# Function to evaluate and plot a regressor on a given feature set\n",
    "def eval_on_features(features, target, regressor, n_train):\n",
    "    X_train, X_test = features[:n_train], features[n_train:] # Split the given features and target into training and test sets\n",
    "    y_train, y_test = target[:n_train], target[n_train:] #Split the target array\n",
    "\n",
    "    regressor.fit(X_train, y_train) # Fit the regressor\n",
    "    print('Test-set R^2: {:.2f}'.format(regressor.score(X_test, y_test))) # Print the Test-set R^2 score\n",
    "\n",
    "    y_pred = regressor.predict(X_test)\n",
    "    y_pred_train = regressor.predict(X_train)\n",
    "\n",
    "    # Convert integer dates to datetime for plotting the x-axis\n",
    "    date_ticks = np.vectorize(lambda x: datetime.fromordinal(x))(features.flatten())\n",
    "\n",
    "    # Create the plot\n",
    "    plt.figure(figsize = (12, 5))\n",
    "    plt.plot(date_ticks[:n_train], y_train, label = 'train')\n",
    "    plt.plot(date_ticks[n_train:], y_test, '-', label = 'test')\n",
    "    plt.plot(date_ticks[:n_train], y_pred_train, '--', label = 'prediction train')\n",
    "    plt.plot(date_ticks[n_train:], y_pred, '--', label = 'prediction test')\n",
    "    plt.gca().yaxis.grid(True, color = 'lightgrey', linestyle = '-', linewidth = 0.8)\n",
    "    plt.gca().xaxis.grid(False)\n",
    "    plt.legend(loc=(1.01, 0))\n",
    "    plt.xlabel('Date')\n",
    "    plt.ylabel('Passengers (Mn.)')\n",
    "\n",
    "    # Adjusting x-ticks to make them readable\n",
    "    plt.xticks(rotation=45)\n",
    "    plt.tight_layout()\n",
    "    plt.show()"
   ]
  },
  {
   "cell_type": "code",
   "execution_count": null,
   "id": "9fa35496",
   "metadata": {},
   "outputs": [],
   "source": [
    "# Set the training value 70% of data for training\n",
    "n_train = int(len(X) * 0.7) \n",
    "\n",
    "# Create an object 'regressor' by calling a method RandomForestRegressor()\n",
    "regressor = RandomForestRegressor(n_estimators = 100, random_state = 0)\n",
    "\n",
    "eval_on_features(X, y, regressor, n_train)"
   ]
  },
  {
   "cell_type": "code",
   "execution_count": null,
   "id": "ebe19a10",
   "metadata": {},
   "outputs": [],
   "source": []
  },
  {
   "cell_type": "code",
   "execution_count": null,
   "id": "70d28d59",
   "metadata": {},
   "outputs": [],
   "source": []
  },
  {
   "cell_type": "code",
   "execution_count": null,
   "id": "98438baf",
   "metadata": {},
   "outputs": [],
   "source": []
  },
  {
   "cell_type": "code",
   "execution_count": null,
   "id": "d196118e",
   "metadata": {},
   "outputs": [],
   "source": []
  },
  {
   "cell_type": "code",
   "execution_count": null,
   "id": "50e05744",
   "metadata": {},
   "outputs": [],
   "source": []
  },
  {
   "cell_type": "code",
   "execution_count": null,
   "id": "3cb5ed4c",
   "metadata": {},
   "outputs": [],
   "source": []
  }
 ],
 "metadata": {
  "kernelspec": {
   "display_name": "Python 3 (ipykernel)",
   "language": "python",
   "name": "python3"
  },
  "language_info": {
   "codemirror_mode": {
    "name": "ipython",
    "version": 3
   },
   "file_extension": ".py",
   "mimetype": "text/x-python",
   "name": "python",
   "nbconvert_exporter": "python",
   "pygments_lexer": "ipython3",
   "version": "3.9.16"
  }
 },
 "nbformat": 4,
 "nbformat_minor": 5
}
