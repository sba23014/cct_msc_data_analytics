{
 "cells": [
  {
   "cell_type": "markdown",
   "id": "49fee00e",
   "metadata": {},
   "source": [
    "## Reddit API Extraction"
   ]
  },
  {
   "cell_type": "code",
   "execution_count": null,
   "id": "8b89294d",
   "metadata": {},
   "outputs": [],
   "source": [
    "# Define your search query\n",
    "query = 'dublin bus'\n",
    "\n",
    "# Search for the query in posts\n",
    "for submission in reddit.subreddit('all').search(query, sort='new', limit=500):\n",
    "    print(submission.title, submission.url)"
   ]
  },
  {
   "cell_type": "code",
   "execution_count": null,
   "id": "7e3c6a7e",
   "metadata": {},
   "outputs": [],
   "source": [
    "import datetime as dt\n",
    "\n",
    "# Function to search Reddit within a specific time range\n",
    "def search_reddit(query, after, before):\n",
    "    posts = []\n",
    "    for submission in reddit.subreddit('all').search(query, sort='new', \n",
    "                                                     limit=None, time_filter='all', syntax='cloudsearch', \n",
    "                                                     params={'after': after, 'before': before}):\n",
    "        posts.append([submission.title, submission.score, submission.id, submission.subreddit, submission.url, \n",
    "                      submission.num_comments, submission.selftext, submission.created])\n",
    "    return posts\n",
    "\n",
    "# Define your search query\n",
    "query = 'dublin bus'\n",
    "\n",
    "# Define time periods (for example, monthly)\n",
    "start_date = dt.datetime(2020, 1, 1)  # Start date\n",
    "end_date = dt.datetime(2023, 12, 2)   # End date\n",
    "current_date = start_date\n",
    "\n",
    "posts = []\n",
    "while current_date < end_date:\n",
    "    next_month = current_date + dt.timedelta(days=30)\n",
    "    posts.extend(search_reddit(query, current_date.strftime('%Y-%m-%d'), next_month.strftime('%Y-%m-%d')))\n",
    "    current_date = next_month\n",
    "\n",
    "# Create a DataFrame\n",
    "columns = ['title', 'score', 'id', 'subreddit', 'url', 'num_comments', 'body', 'created']\n",
    "df = pd.DataFrame(posts, columns=columns)\n",
    "\n",
    "# Convert the timestamp from UNIX to a readable format\n",
    "df['created'] = pd.to_datetime(df['created'], unit='s')\n",
    "\n",
    "# Display the DataFrame\n",
    "print(df)\n",
    "\n",
    "df.to_csv('reddit_comments.csv', index=False)"
   ]
  },
  {
   "cell_type": "code",
   "execution_count": null,
   "id": "cfcadd45",
   "metadata": {},
   "outputs": [],
   "source": [
    "# Define your search query\n",
    "query = 'dublin bus'\n",
    "\n",
    "# Prepare a list to store data\n",
    "posts = []\n",
    "\n",
    "# Search for the query in posts\n",
    "for submission in reddit.subreddit('Ireland').search(query, sort='all', limit=None):\n",
    "    posts.append([submission.title, submission.score, submission.id, submission.subreddit, submission.url, submission.num_comments, submission.selftext, submission.created])\n",
    "\n",
    "# Create a DataFrame\n",
    "columns = ['title', 'score', 'id', 'subreddit', 'url', 'num_comments', 'body', 'created']\n",
    "df = pd.DataFrame(posts, columns=columns)\n",
    "\n",
    "# Convert the timestamp from UNIX to a readable format\n",
    "df['created'] = pd.to_datetime(df['created'], unit='s')\n",
    "\n",
    "# Display the DataFrame\n",
    "print(df)"
   ]
  },
  {
   "cell_type": "code",
   "execution_count": null,
   "id": "ab4550ef",
   "metadata": {},
   "outputs": [],
   "source": [
    "from praw.models import MoreComments\n",
    "\n",
    "for top_level_comment in submission.comments:\n",
    "    if isinstance(top_level_comment, MoreComments):\n",
    "        continue\n",
    "    print(top_level_comment.body)"
   ]
  },
  {
   "cell_type": "code",
   "execution_count": null,
   "id": "b88ec0f3",
   "metadata": {},
   "outputs": [],
   "source": [
    "submission.comments.replace_more(limit=None)\n",
    "for comment in submission.comments.list():\n",
    "    print(comment.body)"
   ]
  },
  {
   "cell_type": "code",
   "execution_count": null,
   "id": "ddda9bb0",
   "metadata": {},
   "outputs": [],
   "source": []
  },
  {
   "cell_type": "markdown",
   "id": "4ecaf863",
   "metadata": {},
   "source": [
    "## WorldBank API Extraction"
   ]
  },
  {
   "cell_type": "code",
   "execution_count": null,
   "id": "04c7e898",
   "metadata": {},
   "outputs": [],
   "source": [
    "response = requests.get(\"http://api.worldbank.org/v2/country?format=json\")"
   ]
  },
  {
   "cell_type": "code",
   "execution_count": null,
   "id": "6aca1729",
   "metadata": {},
   "outputs": [],
   "source": [
    "if response.status_code == 200:\n",
    "    # Request was successful\n",
    "    data = response.json()\n",
    "else:\n",
    "    print(\"Failed to retrieve data\")"
   ]
  },
  {
   "cell_type": "code",
   "execution_count": null,
   "id": "d9c45cb6",
   "metadata": {},
   "outputs": [],
   "source": [
    "if 'data' in response:\n",
    "    for country in data[1]:  # Data is usually in the second item of the list\n",
    "        print(country['name'])"
   ]
  },
  {
   "cell_type": "code",
   "execution_count": null,
   "id": "3d650e46",
   "metadata": {},
   "outputs": [],
   "source": [
    "import requests\n",
    "\n",
    "def get_world_bank_countries():\n",
    "    url = \"http://api.worldbank.org/v2/country?format=json\"\n",
    "    response = requests.get(url)\n",
    "\n",
    "    if response.status_code == 200:\n",
    "        data = response.json()\n",
    "        for country in data[1]:  # Data is usually in the second item of the list\n",
    "            print(country['name'])\n",
    "    else:\n",
    "        print(\"Failed to retrieve data\")\n",
    "\n",
    "get_world_bank_countries()"
   ]
  },
  {
   "cell_type": "code",
   "execution_count": null,
   "id": "ddb2507b",
   "metadata": {},
   "outputs": [],
   "source": []
  },
  {
   "cell_type": "markdown",
   "id": "965ed329",
   "metadata": {},
   "source": [
    "## TFI GTFS Data Extraction"
   ]
  },
  {
   "cell_type": "code",
   "execution_count": null,
   "id": "f8a14877",
   "metadata": {},
   "outputs": [],
   "source": [
    "url = \"https://api.nationaltransport.ie/gtfsr/v2/gtfsr?format=json\"\n",
    "headers = {\n",
    "    'x-api-key': '6b4dfc1f70694d73a89672faa1142d76'\n",
    "}\n",
    "response = requests.get(url, headers=headers)"
   ]
  },
  {
   "cell_type": "code",
   "execution_count": null,
   "id": "9030039b",
   "metadata": {},
   "outputs": [],
   "source": [
    "if response.status_code == 200:\n",
    "    # Request was successful\n",
    "    data = response.json()\n",
    "else:\n",
    "    print(\"Failed to retrieve data:\", response.status_code)"
   ]
  },
  {
   "cell_type": "code",
   "execution_count": null,
   "id": "c52bfcbf",
   "metadata": {},
   "outputs": [],
   "source": [
    "import requests\n",
    "\n",
    "def get_dublin_bus_data():\n",
    "    url = \"https://api.nationaltransport.ie/gtfsr/v2/gtfsr?format=json HTTP/1.1\"\n",
    "    headers = {\n",
    "        'Authorization': 'Bearer YOUR_API_KEY'\n",
    "    }\n",
    "    response = requests.get(url, headers=headers)\n",
    "\n",
    "    if response.status_code == 200:\n",
    "        data = response.json()\n",
    "        print(data)\n",
    "    else:\n",
    "        print(\"Failed to retrieve data:\", response.status_code)\n",
    "\n",
    "get_dublin_bus_data()"
   ]
  },
  {
   "cell_type": "code",
   "execution_count": null,
   "id": "129d83bc",
   "metadata": {},
   "outputs": [],
   "source": [
    "########### Python 3.2 #############\n",
    "import urllib.request, json\n",
    "\n",
    "try:\n",
    "    url = \"https://api.nationaltransport.ie/gtfsr/v2/gtfsr?format=json\"\n",
    "\n",
    "    hdr ={\n",
    "    # Request headers\n",
    "    'Cache-Control': 'no-cache',\n",
    "    'x-api-key': '6b4dfc1f70694d73a89672faa1142d76',\n",
    "    }\n",
    "\n",
    "    req = urllib.request.Request(url, headers=hdr)\n",
    "\n",
    "    req.get_method = lambda: 'GET'\n",
    "    response = urllib.request.urlopen(req)\n",
    "    print(response.getcode())\n",
    "    print(response.read())\n",
    "except Exception as e:\n",
    "    print(e)\n",
    "####################################"
   ]
  },
  {
   "cell_type": "code",
   "execution_count": null,
   "id": "ec44b340",
   "metadata": {},
   "outputs": [],
   "source": [
    "########### Python 3.2 #############\n",
    "import urllib.request, json\n",
    "\n",
    "try:\n",
    "    url = \"https://api.nationaltransport.ie/gtfsr/v2/gtfsr?format=json\"\n",
    "\n",
    "    hdr = {\n",
    "        # Request headers\n",
    "        'Cache-Control': 'no-cache',\n",
    "        'x-api-key': '6b4dfc1f70694d73a89672faa1142d76',\n",
    "    }\n",
    "\n",
    "    req = urllib.request.Request(url, headers=hdr)\n",
    "\n",
    "    req.get_method = lambda: 'GET'\n",
    "    response = urllib.request.urlopen(req)\n",
    "\n",
    "    # Saving the response data to a file\n",
    "    with open('response.json', 'wb') as file:\n",
    "        file.write(response.read())\n",
    "    print(\"Data saved to 'response.json'\")\n",
    "\n",
    "except Exception as e:\n",
    "    print(e)\n",
    "####################################"
   ]
  },
  {
   "cell_type": "code",
   "execution_count": null,
   "id": "4fa8f1a3",
   "metadata": {},
   "outputs": [],
   "source": [
    "import json\n",
    "\n",
    "def load_and_interpret_json(file_path):\n",
    "    try:\n",
    "        # Step 1: Read the File\n",
    "        with open(file_path, 'r') as file:\n",
    "            # Step 2: Parse the JSON\n",
    "            data = json.load(file)\n",
    "\n",
    "        # Step 3: Process the Data\n",
    "        # This will depend on the structure of your JSON\n",
    "        # For example, if you have a list of bus data, you might do something like:\n",
    "        for item in data:\n",
    "            print(item)  # Replace this with specific fields you're interested in\n",
    "\n",
    "    except FileNotFoundError:\n",
    "        print(f\"File {file_path} not found.\")\n",
    "    except json.JSONDecodeError:\n",
    "        print(\"Error decoding JSON.\")\n",
    "    except Exception as e:\n",
    "        print(f\"An error occurred: {e}\")\n",
    "\n",
    "# Replace 'response.json' with your actual file path if different\n",
    "load_and_interpret_json('response.json')"
   ]
  },
  {
   "cell_type": "code",
   "execution_count": null,
   "id": "98a30c0c",
   "metadata": {},
   "outputs": [],
   "source": []
  },
  {
   "cell_type": "code",
   "execution_count": null,
   "id": "353e4552",
   "metadata": {},
   "outputs": [],
   "source": []
  },
  {
   "cell_type": "code",
   "execution_count": null,
   "id": "498f9808",
   "metadata": {},
   "outputs": [],
   "source": []
  },
  {
   "cell_type": "code",
   "execution_count": null,
   "id": "91ba61c1",
   "metadata": {},
   "outputs": [],
   "source": []
  },
  {
   "cell_type": "code",
   "execution_count": null,
   "id": "ebda84ec",
   "metadata": {},
   "outputs": [],
   "source": []
  }
 ],
 "metadata": {
  "kernelspec": {
   "display_name": "Python 3 (ipykernel)",
   "language": "python",
   "name": "python3"
  },
  "language_info": {
   "codemirror_mode": {
    "name": "ipython",
    "version": 3
   },
   "file_extension": ".py",
   "mimetype": "text/x-python",
   "name": "python",
   "nbconvert_exporter": "python",
   "pygments_lexer": "ipython3",
   "version": "3.9.16"
  }
 },
 "nbformat": 4,
 "nbformat_minor": 5
}
