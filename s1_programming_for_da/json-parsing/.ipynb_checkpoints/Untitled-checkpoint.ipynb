{
 "cells": [
  {
   "cell_type": "code",
   "execution_count": 54,
   "id": "f87ea2b2-a28e-4aec-934e-7902c780d0f1",
   "metadata": {},
   "outputs": [
    {
     "name": "stdout",
     "output_type": "stream",
     "text": [
      "Requirement already satisfied: pyjstat in ./lib/python3.12/site-packages (2.4.0)\n",
      "Collecting fastparquet\n",
      "  Obtaining dependency information for fastparquet from https://files.pythonhosted.org/packages/ff/c8/3c1f1bfebe1cf039d8b45d900d010f9dddc434ee74058bf6b92a07b11d50/fastparquet-2023.10.1-cp312-cp312-manylinux_2_17_x86_64.manylinux2014_x86_64.whl.metadata\n",
      "  Downloading fastparquet-2023.10.1-cp312-cp312-manylinux_2_17_x86_64.manylinux2014_x86_64.whl.metadata (4.1 kB)\n",
      "Requirement already satisfied: pandas in ./lib/python3.12/site-packages (from pyjstat) (2.1.3)\n",
      "Requirement already satisfied: requests in ./lib/python3.12/site-packages (from pyjstat) (2.31.0)\n",
      "Requirement already satisfied: numpy>=1.20.3 in ./lib/python3.12/site-packages (from fastparquet) (1.26.2)\n",
      "Collecting cramjam>=2.3 (from fastparquet)\n",
      "  Obtaining dependency information for cramjam>=2.3 from https://files.pythonhosted.org/packages/19/c5/760d661e450abf76535e7db543cc15f85333dba4846fec21e3d7981b98ce/cramjam-2.7.0-cp312-cp312-manylinux_2_17_x86_64.manylinux2014_x86_64.whl.metadata\n",
      "  Downloading cramjam-2.7.0-cp312-cp312-manylinux_2_17_x86_64.manylinux2014_x86_64.whl.metadata (4.0 kB)\n",
      "Collecting fsspec (from fastparquet)\n",
      "  Obtaining dependency information for fsspec from https://files.pythonhosted.org/packages/e8/f6/3eccfb530aac90ad1301c582da228e4763f19e719ac8200752a4841b0b2d/fsspec-2023.10.0-py3-none-any.whl.metadata\n",
      "  Downloading fsspec-2023.10.0-py3-none-any.whl.metadata (6.8 kB)\n",
      "Requirement already satisfied: packaging in ./lib/python3.12/site-packages (from fastparquet) (23.2)\n",
      "Requirement already satisfied: python-dateutil>=2.8.2 in ./lib/python3.12/site-packages (from pandas->pyjstat) (2.8.2)\n",
      "Requirement already satisfied: pytz>=2020.1 in ./lib/python3.12/site-packages (from pandas->pyjstat) (2023.3.post1)\n",
      "Requirement already satisfied: tzdata>=2022.1 in ./lib/python3.12/site-packages (from pandas->pyjstat) (2023.3)\n",
      "Requirement already satisfied: charset-normalizer<4,>=2 in ./lib/python3.12/site-packages (from requests->pyjstat) (3.3.2)\n",
      "Requirement already satisfied: idna<4,>=2.5 in ./lib/python3.12/site-packages (from requests->pyjstat) (3.6)\n",
      "Requirement already satisfied: urllib3<3,>=1.21.1 in ./lib/python3.12/site-packages (from requests->pyjstat) (2.1.0)\n",
      "Requirement already satisfied: certifi>=2017.4.17 in ./lib/python3.12/site-packages (from requests->pyjstat) (2023.11.17)\n",
      "Requirement already satisfied: six>=1.5 in ./lib/python3.12/site-packages (from python-dateutil>=2.8.2->pandas->pyjstat) (1.16.0)\n",
      "Downloading fastparquet-2023.10.1-cp312-cp312-manylinux_2_17_x86_64.manylinux2014_x86_64.whl (1.8 MB)\n",
      "\u001b[2K   \u001b[90m━━━━━━━━━━━━━━━━━━━━━━━━━━━━━━━━━━━━━━━━\u001b[0m \u001b[32m1.8/1.8 MB\u001b[0m \u001b[31m7.7 MB/s\u001b[0m eta \u001b[36m0:00:00\u001b[0ma \u001b[36m0:00:01\u001b[0m\n",
      "\u001b[?25hDownloading cramjam-2.7.0-cp312-cp312-manylinux_2_17_x86_64.manylinux2014_x86_64.whl (1.7 MB)\n",
      "\u001b[2K   \u001b[90m━━━━━━━━━━━━━━━━━━━━━━━━━━━━━━━━━━━━━━━━\u001b[0m \u001b[32m1.7/1.7 MB\u001b[0m \u001b[31m20.6 MB/s\u001b[0m eta \u001b[36m0:00:00\u001b[0m00:01\u001b[0m00:01\u001b[0m\n",
      "\u001b[?25hUsing cached fsspec-2023.10.0-py3-none-any.whl (166 kB)\n",
      "Installing collected packages: fsspec, cramjam, fastparquet\n",
      "Successfully installed cramjam-2.7.0 fastparquet-2023.10.1 fsspec-2023.10.0\n",
      "\n",
      "\u001b[1m[\u001b[0m\u001b[34;49mnotice\u001b[0m\u001b[1;39;49m]\u001b[0m\u001b[39;49m A new release of pip is available: \u001b[0m\u001b[31;49m23.2.1\u001b[0m\u001b[39;49m -> \u001b[0m\u001b[32;49m23.3.1\u001b[0m\n",
      "\u001b[1m[\u001b[0m\u001b[34;49mnotice\u001b[0m\u001b[1;39;49m]\u001b[0m\u001b[39;49m To update, run: \u001b[0m\u001b[32;49mpip install --upgrade pip\u001b[0m\n"
     ]
    }
   ],
   "source": [
    "!pip install pyjstat fastparquet"
   ]
  },
  {
   "cell_type": "code",
   "execution_count": 66,
   "id": "68860b2c-f432-4991-a062-8fe6498e5034",
   "metadata": {},
   "outputs": [
    {
     "data": {
      "text/plain": [
       "'[1, 2, 3]'"
      ]
     },
     "execution_count": 66,
     "metadata": {},
     "output_type": "execute_result"
    }
   ],
   "source": [
    "from pyjstat import pyjstat\n",
    "\n",
    "\n",
    "EXAMPLE_URL = 'https://ws.cso.ie/public/api.restful/PxStat.Data.Cube_API.ReadDataset/IMA04/JSON-stat/2.0/'\n",
    "\n",
    "# read from json-stat\n",
    "dataset = pyjstat.Dataset.read(EXAMPLE_URL)\n",
    "\n",
    "df = dataset.write('dataframe')\n",
    "df.to_json('dataframe_to_json.json')\n",
    "\n",
    "dictionary = {\"a\": 3, \"b\": 27}\n",
    "json.dumps([1, 2, 3])"
   ]
  },
  {
   "cell_type": "code",
   "execution_count": 56,
   "id": "f8b33cb2-29f1-4910-bf8a-0f35a247982f",
   "metadata": {},
   "outputs": [
    {
     "name": "stdout",
     "output_type": "stream",
     "text": [
      "[{'name': 'Irene', 'surname': 'McDonnell', 'age': 29}, {'name': 'Svetlana', 'surname': 'Platonova', 'age': 32}, {'name': 'Yvonne', 'surname': 'Smyth', 'age': 28}, {'name': 'Sean', 'surname': 'O Donoghe', 'age': 35}, {'name': 'Irene', 'surname': 'McDonnell', 'age': 29}, {'name': 'Svetlana', 'surname': 'Platonova', 'age': 32}, {'name': 'Yvonne', 'surname': 'Smyth', 'age': 28}, {'name': 'Sean', 'surname': 'O Donoghe', 'age': 35}, {'name': 'Irene', 'surname': 'McDonnell', 'age': 29}, {'name': 'Svetlana', 'surname': 'Platonova', 'age': 32}, {'name': 'Yvonne', 'surname': 'Smyth', 'age': 28}, {'name': 'Sean', 'surname': 'O Donoghe', 'age': 35}, {'name': 'Irene', 'surname': 'McDonnell', 'age': 29}, {'name': 'Svetlana', 'surname': 'Platonova', 'age': 32}, {'name': 'Yvonne', 'surname': 'Smyth', 'age': 28}, {'name': 'Sean', 'surname': 'O Donoghe', 'age': 35}, {'name': 'Irene', 'surname': 'McDonnell', 'age': 29}, {'name': 'Svetlana', 'surname': 'Platonova', 'age': 32}, {'name': 'Yvonne', 'surname': 'Smyth', 'age': 28}, {'name': 'Sean', 'surname': 'O Donoghe', 'age': 35}, {'name': 'Irene', 'surname': 'McDonnell', 'age': 29}, {'name': 'Svetlana', 'surname': 'Platonova', 'age': 32}, {'name': 'Yvonne', 'surname': 'Smyth', 'age': 28}, {'name': 'Sean', 'surname': 'O Donoghe', 'age': 35}, {'name': 'Irene', 'surname': 'McDonnell', 'age': 29}, {'name': 'Svetlana', 'surname': 'Platonova', 'age': 32}, {'name': 'Yvonne', 'surname': 'Smyth', 'age': 28}, {'name': 'Sean', 'surname': 'O Donoghe', 'age': 35}, {'name': 'Irene', 'surname': 'McDonnell', 'age': 29}, {'name': 'Svetlana', 'surname': 'Platonova', 'age': 32}, {'name': 'Yvonne', 'surname': 'Smyth', 'age': 28}, {'name': 'Sean', 'surname': 'O Donoghe', 'age': 35}, {'name': 'Irene', 'surname': 'McDonnell', 'age': 29}, {'name': 'Svetlana', 'surname': 'Platonova', 'age': 32}, {'name': 'Yvonne', 'surname': 'Smyth', 'age': 28}, {'name': 'Sean', 'surname': 'O Donoghe', 'age': 35}, {'name': 'Irene', 'surname': 'McDonnell', 'age': 29}, {'name': 'Svetlana', 'surname': 'Platonova', 'age': 32}, {'name': 'Yvonne', 'surname': 'Smyth', 'age': 28}, {'name': 'Sean', 'surname': 'O Donoghe', 'age': 35}, {'name': 'Irene', 'surname': 'McDonnell', 'age': 29}, {'name': 'Svetlana', 'surname': 'Platonova', 'age': 32}, {'name': 'Yvonne', 'surname': 'Smyth', 'age': 28}, {'name': 'Sean', 'surname': 'O Donoghe', 'age': 35}, {'name': 'Irene', 'surname': 'McDonnell', 'age': 29}, {'name': 'Svetlana', 'surname': 'Platonova', 'age': 32}, {'name': 'Yvonne', 'surname': 'Smyth', 'age': 28}, {'name': 'Sean', 'surname': 'O Donoghe', 'age': 35}, {'name': 'Irene', 'surname': 'McDonnell', 'age': 29}, {'name': 'Svetlana', 'surname': 'Platonova', 'age': 32}, {'name': 'Yvonne', 'surname': 'Smyth', 'age': 28}, {'name': 'Sean', 'surname': 'O Donoghe', 'age': 35}, {'name': 'Irene', 'surname': 'McDonnell', 'age': 29}, {'name': 'Svetlana', 'surname': 'Platonova', 'age': 32}, {'name': 'Yvonne', 'surname': 'Smyth', 'age': 28}, {'name': 'Sean', 'surname': 'O Donoghe', 'age': 35}, {'name': 'Irene', 'surname': 'McDonnell', 'age': 29}, {'name': 'Svetlana', 'surname': 'Platonova', 'age': 32}, {'name': 'Yvonne', 'surname': 'Smyth', 'age': 28}, {'name': 'Sean', 'surname': 'O Donoghe', 'age': 35}, {'name': 'Irene', 'surname': 'McDonnell', 'age': 29}, {'name': 'Svetlana', 'surname': 'Platonova', 'age': 32}, {'name': 'Yvonne', 'surname': 'Smyth', 'age': 28}, {'name': 'Sean', 'surname': 'O Donoghe', 'age': 35}, {'name': 'Irene', 'surname': 'McDonnell', 'age': 29}, {'name': 'Svetlana', 'surname': 'Platonova', 'age': 32}, {'name': 'Yvonne', 'surname': 'Smyth', 'age': 28}, {'name': 'Sean', 'surname': 'O Donoghe', 'age': 35}, {'name': 'Irene', 'surname': 'McDonnell', 'age': 29}, {'name': 'Svetlana', 'surname': 'Platonova', 'age': 32}, {'name': 'Yvonne', 'surname': 'Smyth', 'age': 28}, {'name': 'Sean', 'surname': 'O Donoghe', 'age': 35}, {'name': 'Irene', 'surname': 'McDonnell', 'age': 29}, {'name': 'Svetlana', 'surname': 'Platonova', 'age': 32}, {'name': 'Yvonne', 'surname': 'Smyth', 'age': 28}, {'name': 'Sean', 'surname': 'O Donoghe', 'age': 35}, {'name': 'Irene', 'surname': 'McDonnell', 'age': 29}, {'name': 'Svetlana', 'surname': 'Platonova', 'age': 32}, {'name': 'Yvonne', 'surname': 'Smyth', 'age': 28}, {'name': 'Sean', 'surname': 'O Donoghe', 'age': 35}, {'name': 'Irene', 'surname': 'McDonnell', 'age': 29}, {'name': 'Svetlana', 'surname': 'Platonova', 'age': 32}, {'name': 'Yvonne', 'surname': 'Smyth', 'age': 28}, {'name': 'Sean', 'surname': 'O Donoghe', 'age': 35}, {'name': 'Irene', 'surname': 'McDonnell', 'age': 29}, {'name': 'Svetlana', 'surname': 'Platonova', 'age': 32}, {'name': 'Yvonne', 'surname': 'Smyth', 'age': 28}, {'name': 'Sean', 'surname': 'O Donoghe', 'age': 35}]\n",
      "<class 'list'>\n"
     ]
    }
   ],
   "source": [
    "with open('students.json') as file:\n",
    "    students = json.load(file)\n",
    "    print(students)\n",
    "    print(type(students))"
   ]
  },
  {
   "cell_type": "code",
   "execution_count": 61,
   "id": "9c9dcdc1-2dbd-4b1c-898e-fe5b01f792f4",
   "metadata": {},
   "outputs": [],
   "source": [
    "import pandas as pd\n",
    "\n",
    "dataframe = pd.read_json('./students.json')\n",
    "dataframe.to_parquet('./students.parquet')"
   ]
  },
  {
   "cell_type": "code",
   "execution_count": 49,
   "id": "02b4a57f-ad37-4391-9dd1-25762ff185b2",
   "metadata": {},
   "outputs": [
    {
     "name": "stdout",
     "output_type": "stream",
     "text": [
      "I am  GB number 0 of ram\n",
      "I am  GB number 1 of ram\n",
      "I am  GB number 2 of ram\n",
      "I am  GB number 3 of ram\n",
      "I am  GB number 4 of ram\n",
      "I am  GB number 5 of ram\n",
      "I am  GB number 6 of ram\n",
      "I am  GB number 7 of ram\n",
      "I am  GB number 8 of ram\n",
      "I am  GB number 9 of ram\n",
      "I am  GB number 10 of ram\n",
      "I am  GB number 11 of ram\n",
      "I am  GB number 12 of ram\n",
      "I am  GB number 13 of ram\n",
      "I am  GB number 14 of ram\n",
      "I am  GB number 15 of ram\n",
      "I am  GB number 16 of ram\n",
      "I am  GB number 17 of ram\n",
      "I am  GB number 18 of ram\n",
      "I am  GB number 19 of ram\n",
      "I am  GB number 20 of ram\n",
      "I am  GB number 21 of ram\n",
      "I am  GB number 22 of ram\n",
      "I am  GB number 23 of ram\n",
      "I am  GB number 24 of ram\n",
      "I am  GB number 25 of ram\n",
      "I am  GB number 26 of ram\n",
      "I am  GB number 27 of ram\n",
      "I am  GB number 28 of ram\n",
      "I am  GB number 29 of ram\n",
      "I am  GB number 30 of ram\n",
      "I am  GB number 31 of ram\n"
     ]
    }
   ],
   "source": [
    "with open('./configuration.json') as configuration:\n",
    "    data = json.load(configuration)\n",
    "    for cpu in range(0, data['ram']):\n",
    "        print(f'I am  GB number {cpu} of ram')"
   ]
  },
  {
   "cell_type": "code",
   "execution_count": 62,
   "id": "d85c2a6f-37d6-4304-87ac-d5961841c228",
   "metadata": {},
   "outputs": [
    {
     "ename": "ValueError",
     "evalue": "All arrays must be of the same length",
     "output_type": "error",
     "traceback": [
      "\u001b[0;31m---------------------------------------------------------------------------\u001b[0m",
      "\u001b[0;31mValueError\u001b[0m                                Traceback (most recent call last)",
      "Cell \u001b[0;32mIn[62], line 1\u001b[0m\n\u001b[0;32m----> 1\u001b[0m dataframe \u001b[38;5;241m=\u001b[39m \u001b[43mpd\u001b[49m\u001b[38;5;241;43m.\u001b[39;49m\u001b[43mread_json\u001b[49m\u001b[43m(\u001b[49m\u001b[38;5;124;43m\"\u001b[39;49m\u001b[38;5;124;43mhttps://ws.cso.ie/public/api.restful/PxStat.Data.Cube_API.ReadDataset/IMA04/JSON-stat/2.0/\u001b[39;49m\u001b[38;5;124;43m\"\u001b[39;49m\u001b[43m)\u001b[49m\n\u001b[1;32m      3\u001b[0m dataframe\u001b[38;5;241m.\u001b[39mto_json(\u001b[38;5;124m'\u001b[39m\u001b[38;5;124mdataframe_to_json.json\u001b[39m\u001b[38;5;124m'\u001b[39m)\n",
      "File \u001b[0;32m~/CCT/programming-data/json-files/lib/python3.12/site-packages/pandas/io/json/_json.py:804\u001b[0m, in \u001b[0;36mread_json\u001b[0;34m(path_or_buf, orient, typ, dtype, convert_axes, convert_dates, keep_default_dates, precise_float, date_unit, encoding, encoding_errors, lines, chunksize, compression, nrows, storage_options, dtype_backend, engine)\u001b[0m\n\u001b[1;32m    802\u001b[0m     \u001b[38;5;28;01mreturn\u001b[39;00m json_reader\n\u001b[1;32m    803\u001b[0m \u001b[38;5;28;01melse\u001b[39;00m:\n\u001b[0;32m--> 804\u001b[0m     \u001b[38;5;28;01mreturn\u001b[39;00m \u001b[43mjson_reader\u001b[49m\u001b[38;5;241;43m.\u001b[39;49m\u001b[43mread\u001b[49m\u001b[43m(\u001b[49m\u001b[43m)\u001b[49m\n",
      "File \u001b[0;32m~/CCT/programming-data/json-files/lib/python3.12/site-packages/pandas/io/json/_json.py:1014\u001b[0m, in \u001b[0;36mJsonReader.read\u001b[0;34m(self)\u001b[0m\n\u001b[1;32m   1012\u001b[0m         obj \u001b[38;5;241m=\u001b[39m \u001b[38;5;28mself\u001b[39m\u001b[38;5;241m.\u001b[39m_get_object_parser(\u001b[38;5;28mself\u001b[39m\u001b[38;5;241m.\u001b[39m_combine_lines(data_lines))\n\u001b[1;32m   1013\u001b[0m \u001b[38;5;28;01melse\u001b[39;00m:\n\u001b[0;32m-> 1014\u001b[0m     obj \u001b[38;5;241m=\u001b[39m \u001b[38;5;28;43mself\u001b[39;49m\u001b[38;5;241;43m.\u001b[39;49m\u001b[43m_get_object_parser\u001b[49m\u001b[43m(\u001b[49m\u001b[38;5;28;43mself\u001b[39;49m\u001b[38;5;241;43m.\u001b[39;49m\u001b[43mdata\u001b[49m\u001b[43m)\u001b[49m\n\u001b[1;32m   1015\u001b[0m \u001b[38;5;28;01mif\u001b[39;00m \u001b[38;5;28mself\u001b[39m\u001b[38;5;241m.\u001b[39mdtype_backend \u001b[38;5;129;01mis\u001b[39;00m \u001b[38;5;129;01mnot\u001b[39;00m lib\u001b[38;5;241m.\u001b[39mno_default:\n\u001b[1;32m   1016\u001b[0m     \u001b[38;5;28;01mreturn\u001b[39;00m obj\u001b[38;5;241m.\u001b[39mconvert_dtypes(\n\u001b[1;32m   1017\u001b[0m         infer_objects\u001b[38;5;241m=\u001b[39m\u001b[38;5;28;01mFalse\u001b[39;00m, dtype_backend\u001b[38;5;241m=\u001b[39m\u001b[38;5;28mself\u001b[39m\u001b[38;5;241m.\u001b[39mdtype_backend\n\u001b[1;32m   1018\u001b[0m     )\n",
      "File \u001b[0;32m~/CCT/programming-data/json-files/lib/python3.12/site-packages/pandas/io/json/_json.py:1040\u001b[0m, in \u001b[0;36mJsonReader._get_object_parser\u001b[0;34m(self, json)\u001b[0m\n\u001b[1;32m   1038\u001b[0m obj \u001b[38;5;241m=\u001b[39m \u001b[38;5;28;01mNone\u001b[39;00m\n\u001b[1;32m   1039\u001b[0m \u001b[38;5;28;01mif\u001b[39;00m typ \u001b[38;5;241m==\u001b[39m \u001b[38;5;124m\"\u001b[39m\u001b[38;5;124mframe\u001b[39m\u001b[38;5;124m\"\u001b[39m:\n\u001b[0;32m-> 1040\u001b[0m     obj \u001b[38;5;241m=\u001b[39m \u001b[43mFrameParser\u001b[49m\u001b[43m(\u001b[49m\u001b[43mjson\u001b[49m\u001b[43m,\u001b[49m\u001b[43m \u001b[49m\u001b[38;5;241;43m*\u001b[39;49m\u001b[38;5;241;43m*\u001b[39;49m\u001b[43mkwargs\u001b[49m\u001b[43m)\u001b[49m\u001b[38;5;241;43m.\u001b[39;49m\u001b[43mparse\u001b[49m\u001b[43m(\u001b[49m\u001b[43m)\u001b[49m\n\u001b[1;32m   1042\u001b[0m \u001b[38;5;28;01mif\u001b[39;00m typ \u001b[38;5;241m==\u001b[39m \u001b[38;5;124m\"\u001b[39m\u001b[38;5;124mseries\u001b[39m\u001b[38;5;124m\"\u001b[39m \u001b[38;5;129;01mor\u001b[39;00m obj \u001b[38;5;129;01mis\u001b[39;00m \u001b[38;5;28;01mNone\u001b[39;00m:\n\u001b[1;32m   1043\u001b[0m     \u001b[38;5;28;01mif\u001b[39;00m \u001b[38;5;129;01mnot\u001b[39;00m \u001b[38;5;28misinstance\u001b[39m(dtype, \u001b[38;5;28mbool\u001b[39m):\n",
      "File \u001b[0;32m~/CCT/programming-data/json-files/lib/python3.12/site-packages/pandas/io/json/_json.py:1173\u001b[0m, in \u001b[0;36mParser.parse\u001b[0;34m(self)\u001b[0m\n\u001b[1;32m   1172\u001b[0m \u001b[38;5;28;01mdef\u001b[39;00m \u001b[38;5;21mparse\u001b[39m(\u001b[38;5;28mself\u001b[39m):\n\u001b[0;32m-> 1173\u001b[0m     \u001b[38;5;28;43mself\u001b[39;49m\u001b[38;5;241;43m.\u001b[39;49m\u001b[43m_parse\u001b[49m\u001b[43m(\u001b[49m\u001b[43m)\u001b[49m\n\u001b[1;32m   1175\u001b[0m     \u001b[38;5;28;01mif\u001b[39;00m \u001b[38;5;28mself\u001b[39m\u001b[38;5;241m.\u001b[39mobj \u001b[38;5;129;01mis\u001b[39;00m \u001b[38;5;28;01mNone\u001b[39;00m:\n\u001b[1;32m   1176\u001b[0m         \u001b[38;5;28;01mreturn\u001b[39;00m \u001b[38;5;28;01mNone\u001b[39;00m\n",
      "File \u001b[0;32m~/CCT/programming-data/json-files/lib/python3.12/site-packages/pandas/io/json/_json.py:1365\u001b[0m, in \u001b[0;36mFrameParser._parse\u001b[0;34m(self)\u001b[0m\n\u001b[1;32m   1362\u001b[0m orient \u001b[38;5;241m=\u001b[39m \u001b[38;5;28mself\u001b[39m\u001b[38;5;241m.\u001b[39morient\n\u001b[1;32m   1364\u001b[0m \u001b[38;5;28;01mif\u001b[39;00m orient \u001b[38;5;241m==\u001b[39m \u001b[38;5;124m\"\u001b[39m\u001b[38;5;124mcolumns\u001b[39m\u001b[38;5;124m\"\u001b[39m:\n\u001b[0;32m-> 1365\u001b[0m     \u001b[38;5;28mself\u001b[39m\u001b[38;5;241m.\u001b[39mobj \u001b[38;5;241m=\u001b[39m \u001b[43mDataFrame\u001b[49m\u001b[43m(\u001b[49m\n\u001b[1;32m   1366\u001b[0m \u001b[43m        \u001b[49m\u001b[43mujson_loads\u001b[49m\u001b[43m(\u001b[49m\u001b[43mjson\u001b[49m\u001b[43m,\u001b[49m\u001b[43m \u001b[49m\u001b[43mprecise_float\u001b[49m\u001b[38;5;241;43m=\u001b[39;49m\u001b[38;5;28;43mself\u001b[39;49m\u001b[38;5;241;43m.\u001b[39;49m\u001b[43mprecise_float\u001b[49m\u001b[43m)\u001b[49m\u001b[43m,\u001b[49m\u001b[43m \u001b[49m\u001b[43mdtype\u001b[49m\u001b[38;5;241;43m=\u001b[39;49m\u001b[38;5;28;43;01mNone\u001b[39;49;00m\n\u001b[1;32m   1367\u001b[0m \u001b[43m    \u001b[49m\u001b[43m)\u001b[49m\n\u001b[1;32m   1368\u001b[0m \u001b[38;5;28;01melif\u001b[39;00m orient \u001b[38;5;241m==\u001b[39m \u001b[38;5;124m\"\u001b[39m\u001b[38;5;124msplit\u001b[39m\u001b[38;5;124m\"\u001b[39m:\n\u001b[1;32m   1369\u001b[0m     decoded \u001b[38;5;241m=\u001b[39m {\n\u001b[1;32m   1370\u001b[0m         \u001b[38;5;28mstr\u001b[39m(k): v\n\u001b[1;32m   1371\u001b[0m         \u001b[38;5;28;01mfor\u001b[39;00m k, v \u001b[38;5;129;01min\u001b[39;00m ujson_loads(json, precise_float\u001b[38;5;241m=\u001b[39m\u001b[38;5;28mself\u001b[39m\u001b[38;5;241m.\u001b[39mprecise_float)\u001b[38;5;241m.\u001b[39mitems()\n\u001b[1;32m   1372\u001b[0m     }\n",
      "File \u001b[0;32m~/CCT/programming-data/json-files/lib/python3.12/site-packages/pandas/core/frame.py:733\u001b[0m, in \u001b[0;36mDataFrame.__init__\u001b[0;34m(self, data, index, columns, dtype, copy)\u001b[0m\n\u001b[1;32m    727\u001b[0m     mgr \u001b[38;5;241m=\u001b[39m \u001b[38;5;28mself\u001b[39m\u001b[38;5;241m.\u001b[39m_init_mgr(\n\u001b[1;32m    728\u001b[0m         data, axes\u001b[38;5;241m=\u001b[39m{\u001b[38;5;124m\"\u001b[39m\u001b[38;5;124mindex\u001b[39m\u001b[38;5;124m\"\u001b[39m: index, \u001b[38;5;124m\"\u001b[39m\u001b[38;5;124mcolumns\u001b[39m\u001b[38;5;124m\"\u001b[39m: columns}, dtype\u001b[38;5;241m=\u001b[39mdtype, copy\u001b[38;5;241m=\u001b[39mcopy\n\u001b[1;32m    729\u001b[0m     )\n\u001b[1;32m    731\u001b[0m \u001b[38;5;28;01melif\u001b[39;00m \u001b[38;5;28misinstance\u001b[39m(data, \u001b[38;5;28mdict\u001b[39m):\n\u001b[1;32m    732\u001b[0m     \u001b[38;5;66;03m# GH#38939 de facto copy defaults to False only in non-dict cases\u001b[39;00m\n\u001b[0;32m--> 733\u001b[0m     mgr \u001b[38;5;241m=\u001b[39m \u001b[43mdict_to_mgr\u001b[49m\u001b[43m(\u001b[49m\u001b[43mdata\u001b[49m\u001b[43m,\u001b[49m\u001b[43m \u001b[49m\u001b[43mindex\u001b[49m\u001b[43m,\u001b[49m\u001b[43m \u001b[49m\u001b[43mcolumns\u001b[49m\u001b[43m,\u001b[49m\u001b[43m \u001b[49m\u001b[43mdtype\u001b[49m\u001b[38;5;241;43m=\u001b[39;49m\u001b[43mdtype\u001b[49m\u001b[43m,\u001b[49m\u001b[43m \u001b[49m\u001b[43mcopy\u001b[49m\u001b[38;5;241;43m=\u001b[39;49m\u001b[43mcopy\u001b[49m\u001b[43m,\u001b[49m\u001b[43m \u001b[49m\u001b[43mtyp\u001b[49m\u001b[38;5;241;43m=\u001b[39;49m\u001b[43mmanager\u001b[49m\u001b[43m)\u001b[49m\n\u001b[1;32m    734\u001b[0m \u001b[38;5;28;01melif\u001b[39;00m \u001b[38;5;28misinstance\u001b[39m(data, ma\u001b[38;5;241m.\u001b[39mMaskedArray):\n\u001b[1;32m    735\u001b[0m     \u001b[38;5;28;01mfrom\u001b[39;00m \u001b[38;5;21;01mnumpy\u001b[39;00m\u001b[38;5;21;01m.\u001b[39;00m\u001b[38;5;21;01mma\u001b[39;00m \u001b[38;5;28;01mimport\u001b[39;00m mrecords\n",
      "File \u001b[0;32m~/CCT/programming-data/json-files/lib/python3.12/site-packages/pandas/core/internals/construction.py:503\u001b[0m, in \u001b[0;36mdict_to_mgr\u001b[0;34m(data, index, columns, dtype, typ, copy)\u001b[0m\n\u001b[1;32m    499\u001b[0m     \u001b[38;5;28;01melse\u001b[39;00m:\n\u001b[1;32m    500\u001b[0m         \u001b[38;5;66;03m# dtype check to exclude e.g. range objects, scalars\u001b[39;00m\n\u001b[1;32m    501\u001b[0m         arrays \u001b[38;5;241m=\u001b[39m [x\u001b[38;5;241m.\u001b[39mcopy() \u001b[38;5;28;01mif\u001b[39;00m \u001b[38;5;28mhasattr\u001b[39m(x, \u001b[38;5;124m\"\u001b[39m\u001b[38;5;124mdtype\u001b[39m\u001b[38;5;124m\"\u001b[39m) \u001b[38;5;28;01melse\u001b[39;00m x \u001b[38;5;28;01mfor\u001b[39;00m x \u001b[38;5;129;01min\u001b[39;00m arrays]\n\u001b[0;32m--> 503\u001b[0m \u001b[38;5;28;01mreturn\u001b[39;00m \u001b[43marrays_to_mgr\u001b[49m\u001b[43m(\u001b[49m\u001b[43marrays\u001b[49m\u001b[43m,\u001b[49m\u001b[43m \u001b[49m\u001b[43mcolumns\u001b[49m\u001b[43m,\u001b[49m\u001b[43m \u001b[49m\u001b[43mindex\u001b[49m\u001b[43m,\u001b[49m\u001b[43m \u001b[49m\u001b[43mdtype\u001b[49m\u001b[38;5;241;43m=\u001b[39;49m\u001b[43mdtype\u001b[49m\u001b[43m,\u001b[49m\u001b[43m \u001b[49m\u001b[43mtyp\u001b[49m\u001b[38;5;241;43m=\u001b[39;49m\u001b[43mtyp\u001b[49m\u001b[43m,\u001b[49m\u001b[43m \u001b[49m\u001b[43mconsolidate\u001b[49m\u001b[38;5;241;43m=\u001b[39;49m\u001b[43mcopy\u001b[49m\u001b[43m)\u001b[49m\n",
      "File \u001b[0;32m~/CCT/programming-data/json-files/lib/python3.12/site-packages/pandas/core/internals/construction.py:114\u001b[0m, in \u001b[0;36marrays_to_mgr\u001b[0;34m(arrays, columns, index, dtype, verify_integrity, typ, consolidate)\u001b[0m\n\u001b[1;32m    111\u001b[0m \u001b[38;5;28;01mif\u001b[39;00m verify_integrity:\n\u001b[1;32m    112\u001b[0m     \u001b[38;5;66;03m# figure out the index, if necessary\u001b[39;00m\n\u001b[1;32m    113\u001b[0m     \u001b[38;5;28;01mif\u001b[39;00m index \u001b[38;5;129;01mis\u001b[39;00m \u001b[38;5;28;01mNone\u001b[39;00m:\n\u001b[0;32m--> 114\u001b[0m         index \u001b[38;5;241m=\u001b[39m \u001b[43m_extract_index\u001b[49m\u001b[43m(\u001b[49m\u001b[43marrays\u001b[49m\u001b[43m)\u001b[49m\n\u001b[1;32m    115\u001b[0m     \u001b[38;5;28;01melse\u001b[39;00m:\n\u001b[1;32m    116\u001b[0m         index \u001b[38;5;241m=\u001b[39m ensure_index(index)\n",
      "File \u001b[0;32m~/CCT/programming-data/json-files/lib/python3.12/site-packages/pandas/core/internals/construction.py:677\u001b[0m, in \u001b[0;36m_extract_index\u001b[0;34m(data)\u001b[0m\n\u001b[1;32m    675\u001b[0m lengths \u001b[38;5;241m=\u001b[39m \u001b[38;5;28mlist\u001b[39m(\u001b[38;5;28mset\u001b[39m(raw_lengths))\n\u001b[1;32m    676\u001b[0m \u001b[38;5;28;01mif\u001b[39;00m \u001b[38;5;28mlen\u001b[39m(lengths) \u001b[38;5;241m>\u001b[39m \u001b[38;5;241m1\u001b[39m:\n\u001b[0;32m--> 677\u001b[0m     \u001b[38;5;28;01mraise\u001b[39;00m \u001b[38;5;167;01mValueError\u001b[39;00m(\u001b[38;5;124m\"\u001b[39m\u001b[38;5;124mAll arrays must be of the same length\u001b[39m\u001b[38;5;124m\"\u001b[39m)\n\u001b[1;32m    679\u001b[0m \u001b[38;5;28;01mif\u001b[39;00m have_dicts:\n\u001b[1;32m    680\u001b[0m     \u001b[38;5;28;01mraise\u001b[39;00m \u001b[38;5;167;01mValueError\u001b[39;00m(\n\u001b[1;32m    681\u001b[0m         \u001b[38;5;124m\"\u001b[39m\u001b[38;5;124mMixing dicts with non-Series may lead to ambiguous ordering.\u001b[39m\u001b[38;5;124m\"\u001b[39m\n\u001b[1;32m    682\u001b[0m     )\n",
      "\u001b[0;31mValueError\u001b[0m: All arrays must be of the same length"
     ]
    }
   ],
   "source": [
    "dataframe = pd.read_json(\"https://ws.cso.ie/public/api.restful/PxStat.Data.Cube_API.ReadDataset/IMA04/JSON-stat/2.0/\")\n"
   ]
  },
  {
   "cell_type": "code",
   "execution_count": null,
   "id": "78c86d61-9b89-4eff-9893-fbe7a9dc9c6b",
   "metadata": {},
   "outputs": [],
   "source": []
  }
 ],
 "metadata": {
  "kernelspec": {
   "display_name": "Python 3 (ipykernel)",
   "language": "python",
   "name": "python3"
  },
  "language_info": {
   "codemirror_mode": {
    "name": "ipython",
    "version": 3
   },
   "file_extension": ".py",
   "mimetype": "text/x-python",
   "name": "python",
   "nbconvert_exporter": "python",
   "pygments_lexer": "ipython3",
   "version": "3.9.16"
  }
 },
 "nbformat": 4,
 "nbformat_minor": 5
}
