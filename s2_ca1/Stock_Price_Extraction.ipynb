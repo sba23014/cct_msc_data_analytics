{
 "cells": [
  {
   "cell_type": "markdown",
   "id": "fd9ae240-38c9-44dd-84e8-2b78e54c930a",
   "metadata": {},
   "source": [
    "# GSK Historical Stock Price Data Extraction"
   ]
  },
  {
   "cell_type": "markdown",
   "id": "ab5a805e-9a0f-49b6-8779-0979401434b9",
   "metadata": {},
   "source": [
    "I decided to create the below notebook in Ubuntu Linux to extract historical time-series stock price data for GSK so that it can be leveraged for deep learning predictive analytics.\n",
    "\n",
    "By extracting this stock data directly in Ubuntu Linux I am able to store the output in my local drive making it more efficient to then load directly to Hadoop via the terminal to benefit from Hadoops data storage capabilities and ability to handle large datasets.\n",
    "\n",
    "Apache Spark will then be utilised in the next notebook to pre-process this data prior to deep learning being undertaken on the dataset.\n",
    "\n",
    "I chose GSK after researching some of the longest listed stocks on the NYSE as I felt it would give me a large time-series dataset to work with.\n",
    "\n",
    "The Yahoo Finance package was leveraged to pull this data directly for the stock for the max available time period and exported to my local directory for further analysis."
   ]
  },
  {
   "cell_type": "code",
   "execution_count": 8,
   "id": "4716721c-cfdd-4635-8dc7-2304374b141c",
   "metadata": {},
   "outputs": [],
   "source": [
    "# pip install yfinance"
   ]
  },
  {
   "cell_type": "code",
   "execution_count": 9,
   "id": "9e3d9fcc-7421-40f4-adf4-bdfb249d222d",
   "metadata": {},
   "outputs": [],
   "source": [
    "# Import package\n",
    "import yfinance as yf"
   ]
  },
  {
   "cell_type": "code",
   "execution_count": 10,
   "id": "a5738c9b-de05-4c4d-b94e-c796d73edf4d",
   "metadata": {},
   "outputs": [],
   "source": [
    "# Define company ticker\n",
    "ticker_symbol = \"GSK\""
   ]
  },
  {
   "cell_type": "code",
   "execution_count": 11,
   "id": "3f16fdd0-c226-4491-82a9-2eda11edd8e9",
   "metadata": {},
   "outputs": [],
   "source": [
    "# Fetch GSK data\n",
    "gsk = yf.Ticker(ticker_symbol)"
   ]
  },
  {
   "cell_type": "code",
   "execution_count": 12,
   "id": "8e30df03-a05c-4d28-a743-20f5dc030f5c",
   "metadata": {},
   "outputs": [],
   "source": [
    "# Get historical market data for max available time period\n",
    "hist = gsk.history(period = \"max\")"
   ]
  },
  {
   "cell_type": "code",
   "execution_count": 13,
   "id": "f5b44981-cfd2-404c-98a1-9023bee25d75",
   "metadata": {},
   "outputs": [
    {
     "data": {
      "text/html": [
       "<div>\n",
       "<style scoped>\n",
       "    .dataframe tbody tr th:only-of-type {\n",
       "        vertical-align: middle;\n",
       "    }\n",
       "\n",
       "    .dataframe tbody tr th {\n",
       "        vertical-align: top;\n",
       "    }\n",
       "\n",
       "    .dataframe thead th {\n",
       "        text-align: right;\n",
       "    }\n",
       "</style>\n",
       "<table border=\"1\" class=\"dataframe\">\n",
       "  <thead>\n",
       "    <tr style=\"text-align: right;\">\n",
       "      <th></th>\n",
       "      <th>Open</th>\n",
       "      <th>High</th>\n",
       "      <th>Low</th>\n",
       "      <th>Close</th>\n",
       "      <th>Volume</th>\n",
       "      <th>Dividends</th>\n",
       "      <th>Stock Splits</th>\n",
       "    </tr>\n",
       "    <tr>\n",
       "      <th>Date</th>\n",
       "      <th></th>\n",
       "      <th></th>\n",
       "      <th></th>\n",
       "      <th></th>\n",
       "      <th></th>\n",
       "      <th></th>\n",
       "      <th></th>\n",
       "    </tr>\n",
       "  </thead>\n",
       "  <tbody>\n",
       "    <tr>\n",
       "      <th>1980-03-28 00:00:00-05:00</th>\n",
       "      <td>0.000000</td>\n",
       "      <td>0.149641</td>\n",
       "      <td>0.139201</td>\n",
       "      <td>0.139201</td>\n",
       "      <td>2400</td>\n",
       "      <td>0.0</td>\n",
       "      <td>0.0</td>\n",
       "    </tr>\n",
       "    <tr>\n",
       "      <th>1980-03-31 00:00:00-05:00</th>\n",
       "      <td>0.139201</td>\n",
       "      <td>0.139201</td>\n",
       "      <td>0.139201</td>\n",
       "      <td>0.139201</td>\n",
       "      <td>0</td>\n",
       "      <td>0.0</td>\n",
       "      <td>0.0</td>\n",
       "    </tr>\n",
       "    <tr>\n",
       "      <th>1980-04-01 00:00:00-05:00</th>\n",
       "      <td>0.139201</td>\n",
       "      <td>0.139201</td>\n",
       "      <td>0.139201</td>\n",
       "      <td>0.139201</td>\n",
       "      <td>0</td>\n",
       "      <td>0.0</td>\n",
       "      <td>0.0</td>\n",
       "    </tr>\n",
       "    <tr>\n",
       "      <th>1980-04-02 00:00:00-05:00</th>\n",
       "      <td>0.000000</td>\n",
       "      <td>0.149641</td>\n",
       "      <td>0.139201</td>\n",
       "      <td>0.139201</td>\n",
       "      <td>800</td>\n",
       "      <td>0.0</td>\n",
       "      <td>0.0</td>\n",
       "    </tr>\n",
       "    <tr>\n",
       "      <th>1980-04-03 00:00:00-05:00</th>\n",
       "      <td>0.139201</td>\n",
       "      <td>0.139201</td>\n",
       "      <td>0.139201</td>\n",
       "      <td>0.139201</td>\n",
       "      <td>0</td>\n",
       "      <td>0.0</td>\n",
       "      <td>0.0</td>\n",
       "    </tr>\n",
       "  </tbody>\n",
       "</table>\n",
       "</div>"
      ],
      "text/plain": [
       "                               Open      High       Low     Close  Volume  \\\n",
       "Date                                                                        \n",
       "1980-03-28 00:00:00-05:00  0.000000  0.149641  0.139201  0.139201    2400   \n",
       "1980-03-31 00:00:00-05:00  0.139201  0.139201  0.139201  0.139201       0   \n",
       "1980-04-01 00:00:00-05:00  0.139201  0.139201  0.139201  0.139201       0   \n",
       "1980-04-02 00:00:00-05:00  0.000000  0.149641  0.139201  0.139201     800   \n",
       "1980-04-03 00:00:00-05:00  0.139201  0.139201  0.139201  0.139201       0   \n",
       "\n",
       "                           Dividends  Stock Splits  \n",
       "Date                                                \n",
       "1980-03-28 00:00:00-05:00        0.0           0.0  \n",
       "1980-03-31 00:00:00-05:00        0.0           0.0  \n",
       "1980-04-01 00:00:00-05:00        0.0           0.0  \n",
       "1980-04-02 00:00:00-05:00        0.0           0.0  \n",
       "1980-04-03 00:00:00-05:00        0.0           0.0  "
      ]
     },
     "execution_count": 13,
     "metadata": {},
     "output_type": "execute_result"
    }
   ],
   "source": [
    "# Validate results\n",
    "hist.head()"
   ]
  },
  {
   "cell_type": "code",
   "execution_count": 14,
   "id": "4e55d5f3-567e-43d6-9ce9-886ec040878b",
   "metadata": {},
   "outputs": [],
   "source": [
    "# Save output as csv\n",
    "hist.to_csv('GSK_stock_data.csv')"
   ]
  }
 ],
 "metadata": {
  "kernelspec": {
   "display_name": "Python 3 (ipykernel)",
   "language": "python",
   "name": "python3"
  },
  "language_info": {
   "codemirror_mode": {
    "name": "ipython",
    "version": 3
   },
   "file_extension": ".py",
   "mimetype": "text/x-python",
   "name": "python",
   "nbconvert_exporter": "python",
   "pygments_lexer": "ipython3",
   "version": "3.10.12"
  }
 },
 "nbformat": 4,
 "nbformat_minor": 5
}
