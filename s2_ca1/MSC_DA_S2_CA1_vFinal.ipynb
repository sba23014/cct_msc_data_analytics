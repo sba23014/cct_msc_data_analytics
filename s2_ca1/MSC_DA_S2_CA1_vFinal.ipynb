{
 "cells": [
  {
   "cell_type": "markdown",
   "id": "45098d71",
   "metadata": {},
   "source": [
    "# Exploring the Dynamics of Transportation in Ireland & Abroad🚂"
   ]
  },
  {
   "cell_type": "markdown",
   "id": "6a1fdf38",
   "metadata": {},
   "source": [
    "**Name:** \n",
    "Stephen Hasson\n",
    "\n",
    "**Student No:** \n",
    "sba23014\n",
    "\n",
    "**Student Email:**\n",
    "sba23014@student.cct.ie\n",
    "\n",
    "**Course:** \n",
    "CCT MSC in Data Analytics\n",
    "\n",
    "**Assignment:**\n",
    "MSC_DA_CA2\n",
    "\n",
    "**Year:**\n",
    "Sept-23 Intake"
   ]
  },
  {
   "cell_type": "markdown",
   "id": "0e1f0dff",
   "metadata": {},
   "source": [
    "## Table of Contents\n",
    "\n",
    "### [Time-Series Forecasting](#time-series-forecasting)\n",
    "### [Data Understanding Phase & Data Preparation Phase](#data_understanding_phase)\n",
    "### [Modelling Phase & Evaluation Phase](#modelling_phase)\n",
    "### [Deplopyment-Phase](#deployment_phase)\n",
    "***"
   ]
  },
  {
   "cell_type": "markdown",
   "id": "78c84bf5",
   "metadata": {},
   "source": [
    "<a id='time-series-forecasting'></a>\n",
    "###  Time Series Forecasting\n",
    "***\n",
    "*\"Time series forecasting is the process of analyzing time series data using statistics and modeling to make predictions and inform strategic decision-making\"* (2023, Tableau)\n",
    "\n",
    "Below Image Credit (2023, Nguyen)"
   ]
  },
  {
   "cell_type": "code",
   "execution_count": 1,
   "id": "06850ac9",
   "metadata": {},
   "outputs": [
    {
     "data": {
      "text/html": [
       "<center><img src = \"https://github.com/sba23014/cct_msc_data_analytics/raw/main/s2_ca1/rnn_example_picture.png\" width = 600 height = 300 /></center>"
      ],
      "text/plain": [
       "<IPython.core.display.HTML object>"
      ]
     },
     "metadata": {},
     "output_type": "display_data"
    }
   ],
   "source": [
    "# Suppress warning messages\n",
    "import warnings\n",
    "warnings.filterwarnings('ignore')\n",
    "\n",
    "# Suppress deprecation warnings\n",
    "with warnings.catch_warnings():\n",
    "    warnings.filterwarnings(\"ignore\", category = DeprecationWarning)\n",
    "\n",
    "# Import necessary libraries\n",
    "from IPython.display import display, HTML\n",
    "\n",
    "# Image URL\n",
    "image_url = \"https://github.com/sba23014/cct_msc_data_analytics/raw/main/s2_ca1/rnn_example_picture.png\"\n",
    "\n",
    "# Display the image\n",
    "display(HTML(f'<center><img src = \"{image_url}\" width = 600 height = 300 /></center>'))"
   ]
  },
  {
   "cell_type": "code",
   "execution_count": 2,
   "id": "471248fd",
   "metadata": {},
   "outputs": [],
   "source": [
    "# Import EDA & visualisation libraries\n",
    "import pandas as pd\n",
    "import numpy as np\n",
    "import matplotlib.pyplot as plt\n",
    "import seaborn as sns\n",
    "\n",
    "from sklearn.preprocessing import MinMaxScaler\n",
    "\n",
    "from tensorflow.keras.models import Sequential\n",
    "from tensorflow.keras.layers import Dense\n",
    "from tensorflow.keras.layers import LSTM\n",
    "from tensorflow.keras.layers import Dropout\n",
    "\n",
    "# Display all columns of the pandas df\n",
    "pd.set_option('display.max_columns', None)\n",
    "\n",
    "# Configure default colour scheme for seaborn\n",
    "sns.set(color_codes = True)\n",
    "\n",
    "# Apply the Seaborn Whitegrid style\n",
    "plt.style.use('seaborn-whitegrid')\n",
    "\n",
    "# Suppress warning messages\n",
    "import warnings\n",
    "warnings.filterwarnings('ignore')"
   ]
  },
  {
   "cell_type": "markdown",
   "id": "8fef6337",
   "metadata": {},
   "source": [
    "##  Notebook Requirements"
   ]
  },
  {
   "cell_type": "code",
   "execution_count": 3,
   "id": "9c04b9d5",
   "metadata": {},
   "outputs": [],
   "source": [
    "# Export requirements.txt file\n",
    "# !pip freeze > requirements.txt"
   ]
  },
  {
   "cell_type": "markdown",
   "id": "49d08bcc",
   "metadata": {},
   "source": [
    "For the purpose of enhanced readability, dependency clarity and easier debugging I have centralised all of the Python libraries and default settings used in this analysis at the beginning of my code. I will explain why specific libraries have been used as appropriate as they are utilised in the clode.\n",
    "\n",
    "I have chosen to remove the default column restrictions with regards to the Pandas DataFrame (df) so that it will be easier to review all of the series in the one cell.\n",
    "\n",
    "The option to suppress warning messages was applied as a default setting retrospectively once analysis was complete, the rationale for this decision is to help enhance readability by eliminating non-critical alerts and streamlining output display.\n",
    "\n",
    "I used the below 4 core libraries as my primary libraries for data analysis & visualisation:\n",
    "\n",
    "* **Pandas** - I used this library as it makes it really easy to load and manipulate structured data through the use of Pandas dataframes & it has a lot of great functions for data cleaning & transformation which allows me to get my data ready for deeper analysis and modelling. \n",
    "* **Numpy** - I used this library for it's numerical functions & for it's ability to prepare data in particular for Machine Learning modelling due to the different data structures required for those models such as arrays and matrices. \n",
    "* **Matplotlib** - I used this library when I need to plot more low level detailed data visualisation that Seaborn is too high level to provide. It gives me a great level of customisation though generally is more tedious & time consuming to produce effective visualisations than Seaborn. \n",
    "* **Seaborn** - I prefer to use Seaborn as it's an easier, more efficient & aesthetically pleasing method for plotting data visualisations when I don't require the deeper level of customisation or detail that some visualisations need.\n",
    "\n",
    "**References**:\n",
    "* https://pandas.pydata.org/\n",
    "* https://numpy.org/\n",
    "* https://matplotlib.org/\n",
    "* https://seaborn.pydata.org/"
   ]
  },
  {
   "cell_type": "markdown",
   "id": "88647d7e",
   "metadata": {},
   "source": [
    "<a id='data_understanding_phase'></a>\n",
    "##  Data Understanding Phase & Data Preparation Phase"
   ]
  },
  {
   "cell_type": "markdown",
   "id": "4edd2520",
   "metadata": {},
   "source": [
    "#### Pre-Processed GSK Daily Stock Price Data"
   ]
  },
  {
   "cell_type": "code",
   "execution_count": 4,
   "id": "ba04f277",
   "metadata": {},
   "outputs": [
    {
     "data": {
      "text/html": [
       "<div>\n",
       "<style scoped>\n",
       "    .dataframe tbody tr th:only-of-type {\n",
       "        vertical-align: middle;\n",
       "    }\n",
       "\n",
       "    .dataframe tbody tr th {\n",
       "        vertical-align: top;\n",
       "    }\n",
       "\n",
       "    .dataframe thead th {\n",
       "        text-align: right;\n",
       "    }\n",
       "</style>\n",
       "<table border=\"1\" class=\"dataframe\">\n",
       "  <thead>\n",
       "    <tr style=\"text-align: right;\">\n",
       "      <th></th>\n",
       "      <th>Date</th>\n",
       "      <th>Open</th>\n",
       "      <th>High</th>\n",
       "      <th>Low</th>\n",
       "      <th>Close</th>\n",
       "      <th>Volume</th>\n",
       "      <th>Dividends</th>\n",
       "      <th>Stock Splits</th>\n",
       "      <th>Year</th>\n",
       "      <th>Month</th>\n",
       "      <th>Day</th>\n",
       "      <th>DailyChange</th>\n",
       "      <th>PriceTrend</th>\n",
       "    </tr>\n",
       "  </thead>\n",
       "  <tbody>\n",
       "    <tr>\n",
       "      <th>0</th>\n",
       "      <td>1980-03-28</td>\n",
       "      <td>0.000000</td>\n",
       "      <td>0.149641</td>\n",
       "      <td>0.139201</td>\n",
       "      <td>0.139201</td>\n",
       "      <td>2400</td>\n",
       "      <td>0.0</td>\n",
       "      <td>0.0</td>\n",
       "      <td>1980</td>\n",
       "      <td>3</td>\n",
       "      <td>28</td>\n",
       "      <td>0.139201</td>\n",
       "      <td>Up</td>\n",
       "    </tr>\n",
       "    <tr>\n",
       "      <th>1</th>\n",
       "      <td>1980-03-31</td>\n",
       "      <td>0.139201</td>\n",
       "      <td>0.139201</td>\n",
       "      <td>0.139201</td>\n",
       "      <td>0.139201</td>\n",
       "      <td>0</td>\n",
       "      <td>0.0</td>\n",
       "      <td>0.0</td>\n",
       "      <td>1980</td>\n",
       "      <td>3</td>\n",
       "      <td>31</td>\n",
       "      <td>0.000000</td>\n",
       "      <td>Down</td>\n",
       "    </tr>\n",
       "    <tr>\n",
       "      <th>2</th>\n",
       "      <td>1980-04-01</td>\n",
       "      <td>0.139201</td>\n",
       "      <td>0.139201</td>\n",
       "      <td>0.139201</td>\n",
       "      <td>0.139201</td>\n",
       "      <td>0</td>\n",
       "      <td>0.0</td>\n",
       "      <td>0.0</td>\n",
       "      <td>1980</td>\n",
       "      <td>4</td>\n",
       "      <td>1</td>\n",
       "      <td>0.000000</td>\n",
       "      <td>Down</td>\n",
       "    </tr>\n",
       "    <tr>\n",
       "      <th>3</th>\n",
       "      <td>1980-04-02</td>\n",
       "      <td>0.000000</td>\n",
       "      <td>0.149641</td>\n",
       "      <td>0.139201</td>\n",
       "      <td>0.139201</td>\n",
       "      <td>800</td>\n",
       "      <td>0.0</td>\n",
       "      <td>0.0</td>\n",
       "      <td>1980</td>\n",
       "      <td>4</td>\n",
       "      <td>2</td>\n",
       "      <td>0.139201</td>\n",
       "      <td>Up</td>\n",
       "    </tr>\n",
       "    <tr>\n",
       "      <th>4</th>\n",
       "      <td>1980-04-03</td>\n",
       "      <td>0.139201</td>\n",
       "      <td>0.139201</td>\n",
       "      <td>0.139201</td>\n",
       "      <td>0.139201</td>\n",
       "      <td>0</td>\n",
       "      <td>0.0</td>\n",
       "      <td>0.0</td>\n",
       "      <td>1980</td>\n",
       "      <td>4</td>\n",
       "      <td>3</td>\n",
       "      <td>0.000000</td>\n",
       "      <td>Down</td>\n",
       "    </tr>\n",
       "  </tbody>\n",
       "</table>\n",
       "</div>"
      ],
      "text/plain": [
       "         Date      Open      High       Low     Close  Volume  Dividends  \\\n",
       "0  1980-03-28  0.000000  0.149641  0.139201  0.139201    2400        0.0   \n",
       "1  1980-03-31  0.139201  0.139201  0.139201  0.139201       0        0.0   \n",
       "2  1980-04-01  0.139201  0.139201  0.139201  0.139201       0        0.0   \n",
       "3  1980-04-02  0.000000  0.149641  0.139201  0.139201     800        0.0   \n",
       "4  1980-04-03  0.139201  0.139201  0.139201  0.139201       0        0.0   \n",
       "\n",
       "   Stock Splits  Year  Month  Day  DailyChange PriceTrend  \n",
       "0           0.0  1980      3   28     0.139201         Up  \n",
       "1           0.0  1980      3   31     0.000000       Down  \n",
       "2           0.0  1980      4    1     0.000000       Down  \n",
       "3           0.0  1980      4    2     0.139201         Up  \n",
       "4           0.0  1980      4    3     0.000000       Down  "
      ]
     },
     "execution_count": 4,
     "metadata": {},
     "output_type": "execute_result"
    }
   ],
   "source": [
    "# Create variable to store the raw url of cso dataset uploaded to personal github account\n",
    "df_url = 'https://raw.githubusercontent.com/sba23014/cct_msc_data_analytics/main/s2_ca1/pyspark_df.csv'\n",
    "\n",
    "# Read file from github url into Pandas DataFrame (df)\n",
    "df_all = pd.read_csv(df_url)\n",
    "\n",
    "# Return first 5 rows to validate 'data' df creation\n",
    "df_all.head()"
   ]
  },
  {
   "cell_type": "code",
   "execution_count": 5,
   "id": "c57a4a4b",
   "metadata": {},
   "outputs": [
    {
     "name": "stdout",
     "output_type": "stream",
     "text": [
      "<class 'pandas.core.frame.DataFrame'>\n",
      "RangeIndex: 11079 entries, 0 to 11078\n",
      "Data columns (total 13 columns):\n",
      " #   Column        Non-Null Count  Dtype  \n",
      "---  ------        --------------  -----  \n",
      " 0   Date          11079 non-null  object \n",
      " 1   Open          11079 non-null  float64\n",
      " 2   High          11079 non-null  float64\n",
      " 3   Low           11079 non-null  float64\n",
      " 4   Close         11079 non-null  float64\n",
      " 5   Volume        11079 non-null  int64  \n",
      " 6   Dividends     11079 non-null  float64\n",
      " 7   Stock Splits  11079 non-null  float64\n",
      " 8   Year          11079 non-null  int64  \n",
      " 9   Month         11079 non-null  int64  \n",
      " 10  Day           11079 non-null  int64  \n",
      " 11  DailyChange   11079 non-null  float64\n",
      " 12  PriceTrend    11079 non-null  object \n",
      "dtypes: float64(7), int64(4), object(2)\n",
      "memory usage: 1.1+ MB\n"
     ]
    }
   ],
   "source": [
    "# Generate df info\n",
    "df_all.info()"
   ]
  },
  {
   "cell_type": "code",
   "execution_count": 6,
   "id": "3284bdb0",
   "metadata": {},
   "outputs": [
    {
     "data": {
      "text/html": [
       "<div>\n",
       "<style scoped>\n",
       "    .dataframe tbody tr th:only-of-type {\n",
       "        vertical-align: middle;\n",
       "    }\n",
       "\n",
       "    .dataframe tbody tr th {\n",
       "        vertical-align: top;\n",
       "    }\n",
       "\n",
       "    .dataframe thead th {\n",
       "        text-align: right;\n",
       "    }\n",
       "</style>\n",
       "<table border=\"1\" class=\"dataframe\">\n",
       "  <thead>\n",
       "    <tr style=\"text-align: right;\">\n",
       "      <th></th>\n",
       "      <th>Open</th>\n",
       "      <th>High</th>\n",
       "      <th>Low</th>\n",
       "      <th>Close</th>\n",
       "      <th>Volume</th>\n",
       "      <th>Dividends</th>\n",
       "      <th>Stock Splits</th>\n",
       "      <th>Year</th>\n",
       "      <th>Month</th>\n",
       "      <th>Day</th>\n",
       "      <th>DailyChange</th>\n",
       "    </tr>\n",
       "  </thead>\n",
       "  <tbody>\n",
       "    <tr>\n",
       "      <th>count</th>\n",
       "      <td>11079.000000</td>\n",
       "      <td>11079.000000</td>\n",
       "      <td>11079.000000</td>\n",
       "      <td>11079.000000</td>\n",
       "      <td>1.107900e+04</td>\n",
       "      <td>11079.000000</td>\n",
       "      <td>11079.000000</td>\n",
       "      <td>11079.000000</td>\n",
       "      <td>11079.000000</td>\n",
       "      <td>11079.000000</td>\n",
       "      <td>11079.000000</td>\n",
       "    </tr>\n",
       "    <tr>\n",
       "      <th>mean</th>\n",
       "      <td>15.990020</td>\n",
       "      <td>16.187681</td>\n",
       "      <td>15.962644</td>\n",
       "      <td>16.077199</td>\n",
       "      <td>1.938349e+06</td>\n",
       "      <td>0.005215</td>\n",
       "      <td>0.000724</td>\n",
       "      <td>2001.686253</td>\n",
       "      <td>6.542016</td>\n",
       "      <td>15.734904</td>\n",
       "      <td>0.087180</td>\n",
       "    </tr>\n",
       "    <tr>\n",
       "      <th>std</th>\n",
       "      <td>11.896278</td>\n",
       "      <td>11.851240</td>\n",
       "      <td>11.717893</td>\n",
       "      <td>11.785982</td>\n",
       "      <td>1.832171e+06</td>\n",
       "      <td>0.052790</td>\n",
       "      <td>0.035723</td>\n",
       "      <td>12.692025</td>\n",
       "      <td>3.430903</td>\n",
       "      <td>8.750387</td>\n",
       "      <td>0.318798</td>\n",
       "    </tr>\n",
       "    <tr>\n",
       "      <th>min</th>\n",
       "      <td>0.000000</td>\n",
       "      <td>0.114841</td>\n",
       "      <td>0.114841</td>\n",
       "      <td>0.114841</td>\n",
       "      <td>0.000000e+00</td>\n",
       "      <td>0.000000</td>\n",
       "      <td>0.000000</td>\n",
       "      <td>1980.000000</td>\n",
       "      <td>1.000000</td>\n",
       "      <td>1.000000</td>\n",
       "      <td>-1.957562</td>\n",
       "    </tr>\n",
       "    <tr>\n",
       "      <th>25%</th>\n",
       "      <td>4.326063</td>\n",
       "      <td>4.374434</td>\n",
       "      <td>4.292525</td>\n",
       "      <td>4.341544</td>\n",
       "      <td>7.470500e+05</td>\n",
       "      <td>0.000000</td>\n",
       "      <td>0.000000</td>\n",
       "      <td>1991.000000</td>\n",
       "      <td>4.000000</td>\n",
       "      <td>8.000000</td>\n",
       "      <td>-0.055856</td>\n",
       "    </tr>\n",
       "    <tr>\n",
       "      <th>50%</th>\n",
       "      <td>17.354406</td>\n",
       "      <td>17.525377</td>\n",
       "      <td>17.200454</td>\n",
       "      <td>17.381336</td>\n",
       "      <td>1.450200e+06</td>\n",
       "      <td>0.000000</td>\n",
       "      <td>0.000000</td>\n",
       "      <td>2002.000000</td>\n",
       "      <td>7.000000</td>\n",
       "      <td>16.000000</td>\n",
       "      <td>0.018224</td>\n",
       "    </tr>\n",
       "    <tr>\n",
       "      <th>75%</th>\n",
       "      <td>25.686454</td>\n",
       "      <td>25.868550</td>\n",
       "      <td>25.558481</td>\n",
       "      <td>25.713539</td>\n",
       "      <td>2.581550e+06</td>\n",
       "      <td>0.000000</td>\n",
       "      <td>0.000000</td>\n",
       "      <td>2013.000000</td>\n",
       "      <td>10.000000</td>\n",
       "      <td>23.000000</td>\n",
       "      <td>0.158265</td>\n",
       "    </tr>\n",
       "    <tr>\n",
       "      <th>max</th>\n",
       "      <td>43.680000</td>\n",
       "      <td>43.840000</td>\n",
       "      <td>43.480000</td>\n",
       "      <td>43.580002</td>\n",
       "      <td>3.538990e+07</td>\n",
       "      <td>1.252000</td>\n",
       "      <td>2.000000</td>\n",
       "      <td>2024.000000</td>\n",
       "      <td>12.000000</td>\n",
       "      <td>31.000000</td>\n",
       "      <td>3.027242</td>\n",
       "    </tr>\n",
       "  </tbody>\n",
       "</table>\n",
       "</div>"
      ],
      "text/plain": [
       "               Open          High           Low         Close        Volume  \\\n",
       "count  11079.000000  11079.000000  11079.000000  11079.000000  1.107900e+04   \n",
       "mean      15.990020     16.187681     15.962644     16.077199  1.938349e+06   \n",
       "std       11.896278     11.851240     11.717893     11.785982  1.832171e+06   \n",
       "min        0.000000      0.114841      0.114841      0.114841  0.000000e+00   \n",
       "25%        4.326063      4.374434      4.292525      4.341544  7.470500e+05   \n",
       "50%       17.354406     17.525377     17.200454     17.381336  1.450200e+06   \n",
       "75%       25.686454     25.868550     25.558481     25.713539  2.581550e+06   \n",
       "max       43.680000     43.840000     43.480000     43.580002  3.538990e+07   \n",
       "\n",
       "          Dividends  Stock Splits          Year         Month           Day  \\\n",
       "count  11079.000000  11079.000000  11079.000000  11079.000000  11079.000000   \n",
       "mean       0.005215      0.000724   2001.686253      6.542016     15.734904   \n",
       "std        0.052790      0.035723     12.692025      3.430903      8.750387   \n",
       "min        0.000000      0.000000   1980.000000      1.000000      1.000000   \n",
       "25%        0.000000      0.000000   1991.000000      4.000000      8.000000   \n",
       "50%        0.000000      0.000000   2002.000000      7.000000     16.000000   \n",
       "75%        0.000000      0.000000   2013.000000     10.000000     23.000000   \n",
       "max        1.252000      2.000000   2024.000000     12.000000     31.000000   \n",
       "\n",
       "        DailyChange  \n",
       "count  11079.000000  \n",
       "mean       0.087180  \n",
       "std        0.318798  \n",
       "min       -1.957562  \n",
       "25%       -0.055856  \n",
       "50%        0.018224  \n",
       "75%        0.158265  \n",
       "max        3.027242  "
      ]
     },
     "execution_count": 6,
     "metadata": {},
     "output_type": "execute_result"
    }
   ],
   "source": [
    "# Generate descriptive statistics\n",
    "df_all.describe()"
   ]
  },
  {
   "cell_type": "code",
   "execution_count": 7,
   "id": "2c63d3d9",
   "metadata": {},
   "outputs": [
    {
     "data": {
      "image/png": "[encoded data removed]",
      "text/plain": [
       "<Figure size 1400x700 with 1 Axes>"
      ]
     },
     "metadata": {},
     "output_type": "display_data"
    }
   ],
   "source": [
    "# Convert 'Date' to datetime format for plotting\n",
    "df_all['Date'] = pd.to_datetime(df_all['Date'])\n",
    "\n",
    "# Line plot for Close price over time\n",
    "plt.figure(figsize=(14, 7))\n",
    "sns.lineplot(x='Date', y='Close', data = df_all, color  ='b')\n",
    "plt.title('Closing Price Trend Over Time')\n",
    "plt.xlabel('Date')\n",
    "plt.ylabel('Closing Price')\n",
    "plt.grid(False)\n",
    "plt.tight_layout()\n",
    "plt.show()"
   ]
  },
  {
   "cell_type": "code",
   "execution_count": null,
   "id": "b35fc051",
   "metadata": {},
   "outputs": [],
   "source": []
  },
  {
   "cell_type": "code",
   "execution_count": null,
   "id": "ba9b183b",
   "metadata": {},
   "outputs": [],
   "source": []
  },
  {
   "cell_type": "code",
   "execution_count": null,
   "id": "da46eb46",
   "metadata": {},
   "outputs": [],
   "source": []
  },
  {
   "cell_type": "code",
   "execution_count": null,
   "id": "4714407b",
   "metadata": {},
   "outputs": [],
   "source": []
  },
  {
   "cell_type": "code",
   "execution_count": null,
   "id": "f92dcd8e",
   "metadata": {},
   "outputs": [],
   "source": []
  },
  {
   "cell_type": "code",
   "execution_count": null,
   "id": "76cf6a60",
   "metadata": {},
   "outputs": [],
   "source": []
  },
  {
   "cell_type": "markdown",
   "id": "7cbaac86",
   "metadata": {},
   "source": [
    "#### Pre-Processed GSK Aggregated Stock Price Data"
   ]
  },
  {
   "cell_type": "code",
   "execution_count": 8,
   "id": "7440321c",
   "metadata": {},
   "outputs": [
    {
     "data": {
      "text/html": [
       "<div>\n",
       "<style scoped>\n",
       "    .dataframe tbody tr th:only-of-type {\n",
       "        vertical-align: middle;\n",
       "    }\n",
       "\n",
       "    .dataframe tbody tr th {\n",
       "        vertical-align: top;\n",
       "    }\n",
       "\n",
       "    .dataframe thead th {\n",
       "        text-align: right;\n",
       "    }\n",
       "</style>\n",
       "<table border=\"1\" class=\"dataframe\">\n",
       "  <thead>\n",
       "    <tr style=\"text-align: right;\">\n",
       "      <th></th>\n",
       "      <th>Year</th>\n",
       "      <th>Month</th>\n",
       "      <th>TotalVolume</th>\n",
       "      <th>MaxHigh</th>\n",
       "      <th>MinLow</th>\n",
       "      <th>AvgClose</th>\n",
       "    </tr>\n",
       "  </thead>\n",
       "  <tbody>\n",
       "    <tr>\n",
       "      <th>0</th>\n",
       "      <td>1990</td>\n",
       "      <td>7</td>\n",
       "      <td>35596600</td>\n",
       "      <td>3.86</td>\n",
       "      <td>3.48</td>\n",
       "      <td>3.68</td>\n",
       "    </tr>\n",
       "    <tr>\n",
       "      <th>1</th>\n",
       "      <td>1997</td>\n",
       "      <td>11</td>\n",
       "      <td>8155100</td>\n",
       "      <td>14.67</td>\n",
       "      <td>12.73</td>\n",
       "      <td>13.77</td>\n",
       "    </tr>\n",
       "    <tr>\n",
       "      <th>2</th>\n",
       "      <td>2022</td>\n",
       "      <td>10</td>\n",
       "      <td>125076700</td>\n",
       "      <td>31.56</td>\n",
       "      <td>28.06</td>\n",
       "      <td>29.47</td>\n",
       "    </tr>\n",
       "    <tr>\n",
       "      <th>3</th>\n",
       "      <td>1980</td>\n",
       "      <td>8</td>\n",
       "      <td>42400</td>\n",
       "      <td>0.16</td>\n",
       "      <td>0.14</td>\n",
       "      <td>0.15</td>\n",
       "    </tr>\n",
       "    <tr>\n",
       "      <th>4</th>\n",
       "      <td>1987</td>\n",
       "      <td>10</td>\n",
       "      <td>65422000</td>\n",
       "      <td>3.25</td>\n",
       "      <td>1.76</td>\n",
       "      <td>2.56</td>\n",
       "    </tr>\n",
       "  </tbody>\n",
       "</table>\n",
       "</div>"
      ],
      "text/plain": [
       "   Year  Month  TotalVolume  MaxHigh  MinLow  AvgClose\n",
       "0  1990      7     35596600     3.86    3.48      3.68\n",
       "1  1997     11      8155100    14.67   12.73     13.77\n",
       "2  2022     10    125076700    31.56   28.06     29.47\n",
       "3  1980      8        42400     0.16    0.14      0.15\n",
       "4  1987     10     65422000     3.25    1.76      2.56"
      ]
     },
     "execution_count": 8,
     "metadata": {},
     "output_type": "execute_result"
    }
   ],
   "source": [
    "# Create variable to store the raw url of cso dataset uploaded to personal github account\n",
    "df_grouped_url = 'https://raw.githubusercontent.com/sba23014/cct_msc_data_analytics/main/s2_ca1/pyspark_df_grouped.csv'\n",
    "\n",
    "# Read file from github url into Pandas DataFrame (df)\n",
    "df_grouped = pd.read_csv(df_grouped_url)\n",
    "\n",
    "# Return first 5 rows to validate 'data' df creation\n",
    "df_grouped.head()"
   ]
  },
  {
   "cell_type": "code",
   "execution_count": 9,
   "id": "19781e16",
   "metadata": {},
   "outputs": [
    {
     "name": "stdout",
     "output_type": "stream",
     "text": [
      "<class 'pandas.core.frame.DataFrame'>\n",
      "RangeIndex: 529 entries, 0 to 528\n",
      "Data columns (total 6 columns):\n",
      " #   Column       Non-Null Count  Dtype  \n",
      "---  ------       --------------  -----  \n",
      " 0   Year         529 non-null    int64  \n",
      " 1   Month        529 non-null    int64  \n",
      " 2   TotalVolume  529 non-null    int64  \n",
      " 3   MaxHigh      529 non-null    float64\n",
      " 4   MinLow       529 non-null    float64\n",
      " 5   AvgClose     529 non-null    float64\n",
      "dtypes: float64(3), int64(3)\n",
      "memory usage: 24.9 KB\n"
     ]
    }
   ],
   "source": [
    "# Generate df info\n",
    "df_grouped.info()"
   ]
  },
  {
   "cell_type": "code",
   "execution_count": 10,
   "id": "286fc645",
   "metadata": {},
   "outputs": [
    {
     "data": {
      "text/html": [
       "<div>\n",
       "<style scoped>\n",
       "    .dataframe tbody tr th:only-of-type {\n",
       "        vertical-align: middle;\n",
       "    }\n",
       "\n",
       "    .dataframe tbody tr th {\n",
       "        vertical-align: top;\n",
       "    }\n",
       "\n",
       "    .dataframe thead th {\n",
       "        text-align: right;\n",
       "    }\n",
       "</style>\n",
       "<table border=\"1\" class=\"dataframe\">\n",
       "  <thead>\n",
       "    <tr style=\"text-align: right;\">\n",
       "      <th></th>\n",
       "      <th>Year</th>\n",
       "      <th>Month</th>\n",
       "      <th>TotalVolume</th>\n",
       "      <th>MaxHigh</th>\n",
       "      <th>MinLow</th>\n",
       "      <th>AvgClose</th>\n",
       "    </tr>\n",
       "  </thead>\n",
       "  <tbody>\n",
       "    <tr>\n",
       "      <th>count</th>\n",
       "      <td>529.000000</td>\n",
       "      <td>529.000000</td>\n",
       "      <td>5.290000e+02</td>\n",
       "      <td>529.000000</td>\n",
       "      <td>529.000000</td>\n",
       "      <td>529.000000</td>\n",
       "    </tr>\n",
       "    <tr>\n",
       "      <th>mean</th>\n",
       "      <td>2001.708885</td>\n",
       "      <td>6.493384</td>\n",
       "      <td>4.059540e+07</td>\n",
       "      <td>16.828828</td>\n",
       "      <td>15.361758</td>\n",
       "      <td>16.112987</td>\n",
       "    </tr>\n",
       "    <tr>\n",
       "      <th>std</th>\n",
       "      <td>12.740948</td>\n",
       "      <td>3.455405</td>\n",
       "      <td>2.984867e+07</td>\n",
       "      <td>12.276267</td>\n",
       "      <td>11.363538</td>\n",
       "      <td>11.829311</td>\n",
       "    </tr>\n",
       "    <tr>\n",
       "      <th>min</th>\n",
       "      <td>1980.000000</td>\n",
       "      <td>1.000000</td>\n",
       "      <td>2.400000e+03</td>\n",
       "      <td>0.130000</td>\n",
       "      <td>0.110000</td>\n",
       "      <td>0.120000</td>\n",
       "    </tr>\n",
       "    <tr>\n",
       "      <th>25%</th>\n",
       "      <td>1991.000000</td>\n",
       "      <td>3.000000</td>\n",
       "      <td>1.840280e+07</td>\n",
       "      <td>4.740000</td>\n",
       "      <td>4.050000</td>\n",
       "      <td>4.330000</td>\n",
       "    </tr>\n",
       "    <tr>\n",
       "      <th>50%</th>\n",
       "      <td>2002.000000</td>\n",
       "      <td>6.000000</td>\n",
       "      <td>3.390780e+07</td>\n",
       "      <td>18.400000</td>\n",
       "      <td>16.370000</td>\n",
       "      <td>17.340000</td>\n",
       "    </tr>\n",
       "    <tr>\n",
       "      <th>75%</th>\n",
       "      <td>2013.000000</td>\n",
       "      <td>9.000000</td>\n",
       "      <td>5.608960e+07</td>\n",
       "      <td>26.480000</td>\n",
       "      <td>24.890000</td>\n",
       "      <td>25.630000</td>\n",
       "    </tr>\n",
       "    <tr>\n",
       "      <th>max</th>\n",
       "      <td>2024.000000</td>\n",
       "      <td>12.000000</td>\n",
       "      <td>1.868247e+08</td>\n",
       "      <td>43.840000</td>\n",
       "      <td>41.780000</td>\n",
       "      <td>42.730000</td>\n",
       "    </tr>\n",
       "  </tbody>\n",
       "</table>\n",
       "</div>"
      ],
      "text/plain": [
       "              Year       Month   TotalVolume     MaxHigh      MinLow  \\\n",
       "count   529.000000  529.000000  5.290000e+02  529.000000  529.000000   \n",
       "mean   2001.708885    6.493384  4.059540e+07   16.828828   15.361758   \n",
       "std      12.740948    3.455405  2.984867e+07   12.276267   11.363538   \n",
       "min    1980.000000    1.000000  2.400000e+03    0.130000    0.110000   \n",
       "25%    1991.000000    3.000000  1.840280e+07    4.740000    4.050000   \n",
       "50%    2002.000000    6.000000  3.390780e+07   18.400000   16.370000   \n",
       "75%    2013.000000    9.000000  5.608960e+07   26.480000   24.890000   \n",
       "max    2024.000000   12.000000  1.868247e+08   43.840000   41.780000   \n",
       "\n",
       "         AvgClose  \n",
       "count  529.000000  \n",
       "mean    16.112987  \n",
       "std     11.829311  \n",
       "min      0.120000  \n",
       "25%      4.330000  \n",
       "50%     17.340000  \n",
       "75%     25.630000  \n",
       "max     42.730000  "
      ]
     },
     "execution_count": 10,
     "metadata": {},
     "output_type": "execute_result"
    }
   ],
   "source": [
    "# Generate descriptive statistics\n",
    "df_grouped.describe()"
   ]
  },
  {
   "cell_type": "code",
   "execution_count": 11,
   "id": "c71420e5",
   "metadata": {},
   "outputs": [
    {
     "data": {
      "image/png": "[encoded data removed]",
      "text/plain": [
       "<Figure size 1200x600 with 1 Axes>"
      ]
     },
     "metadata": {},
     "output_type": "display_data"
    }
   ],
   "source": [
    "# Create a datetime column for plotting\n",
    "df_grouped['Date'] = pd.to_datetime(df_grouped[['Year', 'Month']].assign(DAY=1))\n",
    "\n",
    "# Line plot for AvgClose over time\n",
    "plt.figure(figsize=(12, 6))\n",
    "sns.lineplot(x='Date', y='AvgClose', data=df_grouped, linestyle='-', color='b')\n",
    "plt.title('Average Close Price Over Time')\n",
    "plt.xlabel('Date')\n",
    "plt.ylabel('Average Close Price')\n",
    "plt.xticks(rotation=45)\n",
    "plt.tight_layout()\n",
    "plt.grid(False)\n",
    "plt.show()"
   ]
  },
  {
   "cell_type": "code",
   "execution_count": 12,
   "id": "370a6915",
   "metadata": {},
   "outputs": [
    {
     "data": {
      "image/png": "[encoded data removed]",
      "text/plain": [
       "<Figure size 1400x1000 with 4 Axes>"
      ]
     },
     "metadata": {},
     "output_type": "display_data"
    }
   ],
   "source": [
    "# Histograms for TotalVolume, MaxHigh, MinLow, and AvgClose\n",
    "fig, axs = plt.subplots(2, 2, figsize=(14, 10))\n",
    "\n",
    "# TotalVolume\n",
    "sns.histplot(df_grouped['TotalVolume'], bins=30, kde=True, ax=axs[0, 0], color='skyblue')\n",
    "axs[0, 0].set_title('Distribution of Total Volume')\n",
    "\n",
    "# MaxHigh\n",
    "sns.histplot(df_grouped['MaxHigh'], bins=30, kde=True, ax=axs[0, 1], color='salmon')\n",
    "axs[0, 1].set_title('Distribution of Max High')\n",
    "\n",
    "# MinLow\n",
    "sns.histplot(df_grouped['MinLow'], bins=30, kde=True, ax=axs[1, 0], color='lightgreen')\n",
    "axs[1, 0].set_title('Distribution of Min Low')\n",
    "\n",
    "# AvgClose\n",
    "sns.histplot(df_grouped['AvgClose'], bins=30, kde=True, ax=axs[1, 1], color='gold')\n",
    "axs[1, 1].set_title('Distribution of Avg Close')\n",
    "\n",
    "plt.tight_layout()\n",
    "plt.grid(False)\n",
    "plt.show()"
   ]
  },
  {
   "cell_type": "code",
   "execution_count": 13,
   "id": "98b38e27",
   "metadata": {},
   "outputs": [
    {
     "data": {
      "image/png": "[encoded data removed]",
      "text/plain": [
       "<Figure size 1000x600 with 1 Axes>"
      ]
     },
     "metadata": {},
     "output_type": "display_data"
    }
   ],
   "source": [
    "# Scatter plot for TotalVolume vs. AvgClose\n",
    "plt.figure(figsize=(10, 6))\n",
    "sns.scatterplot(x='TotalVolume', y='AvgClose', data=df_grouped, color='b')\n",
    "plt.title('Total Volume vs. Average Close Price')\n",
    "plt.xlabel('Total Volume')\n",
    "plt.ylabel('Average Close Price')\n",
    "plt.grid(False)\n",
    "plt.show()"
   ]
  },
  {
   "cell_type": "code",
   "execution_count": null,
   "id": "ae8b82d3",
   "metadata": {},
   "outputs": [],
   "source": []
  },
  {
   "cell_type": "code",
   "execution_count": null,
   "id": "86f1a7f2",
   "metadata": {},
   "outputs": [],
   "source": []
  },
  {
   "cell_type": "code",
   "execution_count": 14,
   "id": "51274fbb",
   "metadata": {},
   "outputs": [],
   "source": [
    "#### EXCLUDE"
   ]
  },
  {
   "cell_type": "code",
   "execution_count": 15,
   "id": "cfada40e",
   "metadata": {},
   "outputs": [],
   "source": [
    "# Calculate the split index for an 80:20 split\n",
    "#split_index = int(len(df) * 0.8)\n",
    "\n",
    "# Split the data whilst maintaining the sequence\n",
    "#training_data = df[:split_index]\n",
    "#testing_data = df[split_index:]\n",
    "\n",
    "# Ensure testing_data has 20% of the records\n",
    "#if len(testing_data) > int(len(df) * 0.2):\n",
    "#    testing_data = testing_data[:int(len(df) * 0.2)]"
   ]
  },
  {
   "cell_type": "code",
   "execution_count": 16,
   "id": "aa343283",
   "metadata": {},
   "outputs": [],
   "source": [
    "# Calculate the split index for the training data\n",
    "#split_index = len(df) - 40\n",
    "\n",
    "# Split the data whilst maintaining the sequence\n",
    "#training_data = df[:split_index]"
   ]
  },
  {
   "cell_type": "code",
   "execution_count": 17,
   "id": "a6f25863",
   "metadata": {},
   "outputs": [],
   "source": [
    "# Calculate the split index for the training data\n",
    "#split_index = len(df) - 80\n",
    "\n",
    "#testing_data = df[split_index:]"
   ]
  },
  {
   "cell_type": "code",
   "execution_count": 18,
   "id": "f185ca9e",
   "metadata": {},
   "outputs": [],
   "source": [
    "#### EXCLUDE"
   ]
  },
  {
   "cell_type": "code",
   "execution_count": null,
   "id": "786b5df4",
   "metadata": {},
   "outputs": [],
   "source": []
  },
  {
   "cell_type": "code",
   "execution_count": null,
   "id": "d2e5c60c",
   "metadata": {},
   "outputs": [],
   "source": []
  },
  {
   "cell_type": "code",
   "execution_count": 19,
   "id": "8d6941aa",
   "metadata": {},
   "outputs": [
    {
     "data": {
      "text/html": [
       "<div>\n",
       "<style scoped>\n",
       "    .dataframe tbody tr th:only-of-type {\n",
       "        vertical-align: middle;\n",
       "    }\n",
       "\n",
       "    .dataframe tbody tr th {\n",
       "        vertical-align: top;\n",
       "    }\n",
       "\n",
       "    .dataframe thead th {\n",
       "        text-align: right;\n",
       "    }\n",
       "</style>\n",
       "<table border=\"1\" class=\"dataframe\">\n",
       "  <thead>\n",
       "    <tr style=\"text-align: right;\">\n",
       "      <th></th>\n",
       "      <th>Date</th>\n",
       "      <th>Open</th>\n",
       "      <th>High</th>\n",
       "      <th>Low</th>\n",
       "      <th>Close</th>\n",
       "      <th>Volume</th>\n",
       "      <th>Dividends</th>\n",
       "      <th>Stock Splits</th>\n",
       "      <th>Year</th>\n",
       "      <th>Month</th>\n",
       "      <th>Day</th>\n",
       "      <th>DailyChange</th>\n",
       "      <th>PriceTrend</th>\n",
       "    </tr>\n",
       "  </thead>\n",
       "  <tbody>\n",
       "    <tr>\n",
       "      <th>0</th>\n",
       "      <td>28/03/1980</td>\n",
       "      <td>0.000000</td>\n",
       "      <td>0.149641</td>\n",
       "      <td>0.139201</td>\n",
       "      <td>0.139201</td>\n",
       "      <td>2400</td>\n",
       "      <td>0.0</td>\n",
       "      <td>0.0</td>\n",
       "      <td>1980</td>\n",
       "      <td>3</td>\n",
       "      <td>28</td>\n",
       "      <td>0.139201</td>\n",
       "      <td>Up</td>\n",
       "    </tr>\n",
       "    <tr>\n",
       "      <th>1</th>\n",
       "      <td>31/03/1980</td>\n",
       "      <td>0.139201</td>\n",
       "      <td>0.139201</td>\n",
       "      <td>0.139201</td>\n",
       "      <td>0.139201</td>\n",
       "      <td>0</td>\n",
       "      <td>0.0</td>\n",
       "      <td>0.0</td>\n",
       "      <td>1980</td>\n",
       "      <td>3</td>\n",
       "      <td>31</td>\n",
       "      <td>0.000000</td>\n",
       "      <td>Down</td>\n",
       "    </tr>\n",
       "    <tr>\n",
       "      <th>2</th>\n",
       "      <td>01/04/1980</td>\n",
       "      <td>0.139201</td>\n",
       "      <td>0.139201</td>\n",
       "      <td>0.139201</td>\n",
       "      <td>0.139201</td>\n",
       "      <td>0</td>\n",
       "      <td>0.0</td>\n",
       "      <td>0.0</td>\n",
       "      <td>1980</td>\n",
       "      <td>4</td>\n",
       "      <td>1</td>\n",
       "      <td>0.000000</td>\n",
       "      <td>Down</td>\n",
       "    </tr>\n",
       "    <tr>\n",
       "      <th>3</th>\n",
       "      <td>02/04/1980</td>\n",
       "      <td>0.000000</td>\n",
       "      <td>0.149641</td>\n",
       "      <td>0.139201</td>\n",
       "      <td>0.139201</td>\n",
       "      <td>800</td>\n",
       "      <td>0.0</td>\n",
       "      <td>0.0</td>\n",
       "      <td>1980</td>\n",
       "      <td>4</td>\n",
       "      <td>2</td>\n",
       "      <td>0.139201</td>\n",
       "      <td>Up</td>\n",
       "    </tr>\n",
       "    <tr>\n",
       "      <th>4</th>\n",
       "      <td>03/04/1980</td>\n",
       "      <td>0.139201</td>\n",
       "      <td>0.139201</td>\n",
       "      <td>0.139201</td>\n",
       "      <td>0.139201</td>\n",
       "      <td>0</td>\n",
       "      <td>0.0</td>\n",
       "      <td>0.0</td>\n",
       "      <td>1980</td>\n",
       "      <td>4</td>\n",
       "      <td>3</td>\n",
       "      <td>0.000000</td>\n",
       "      <td>Down</td>\n",
       "    </tr>\n",
       "  </tbody>\n",
       "</table>\n",
       "</div>"
      ],
      "text/plain": [
       "         Date      Open      High       Low     Close  Volume  Dividends  \\\n",
       "0  28/03/1980  0.000000  0.149641  0.139201  0.139201    2400        0.0   \n",
       "1  31/03/1980  0.139201  0.139201  0.139201  0.139201       0        0.0   \n",
       "2  01/04/1980  0.139201  0.139201  0.139201  0.139201       0        0.0   \n",
       "3  02/04/1980  0.000000  0.149641  0.139201  0.139201     800        0.0   \n",
       "4  03/04/1980  0.139201  0.139201  0.139201  0.139201       0        0.0   \n",
       "\n",
       "   Stock Splits  Year  Month  Day  DailyChange PriceTrend  \n",
       "0           0.0  1980      3   28     0.139201         Up  \n",
       "1           0.0  1980      3   31     0.000000       Down  \n",
       "2           0.0  1980      4    1     0.000000       Down  \n",
       "3           0.0  1980      4    2     0.139201         Up  \n",
       "4           0.0  1980      4    3     0.000000       Down  "
      ]
     },
     "execution_count": 19,
     "metadata": {},
     "output_type": "execute_result"
    }
   ],
   "source": [
    "# Create variable to store the raw url of cso dataset uploaded to personal github account\n",
    "train_data_url = 'https://raw.githubusercontent.com/sba23014/cct_msc_data_analytics/main/s2_ca1/pyspark_df_train.csv'\n",
    "\n",
    "# Read file from github url into Pandas DataFrame (df)\n",
    "training_data = pd.read_csv(train_data_url)\n",
    "\n",
    "# Return first 5 rows to validate 'data' df creation\n",
    "training_data.head()"
   ]
  },
  {
   "cell_type": "code",
   "execution_count": 20,
   "id": "a55d8393",
   "metadata": {},
   "outputs": [
    {
     "data": {
      "text/html": [
       "<div>\n",
       "<style scoped>\n",
       "    .dataframe tbody tr th:only-of-type {\n",
       "        vertical-align: middle;\n",
       "    }\n",
       "\n",
       "    .dataframe tbody tr th {\n",
       "        vertical-align: top;\n",
       "    }\n",
       "\n",
       "    .dataframe thead th {\n",
       "        text-align: right;\n",
       "    }\n",
       "</style>\n",
       "<table border=\"1\" class=\"dataframe\">\n",
       "  <thead>\n",
       "    <tr style=\"text-align: right;\">\n",
       "      <th></th>\n",
       "      <th>Date</th>\n",
       "      <th>Open</th>\n",
       "      <th>High</th>\n",
       "      <th>Low</th>\n",
       "      <th>Close</th>\n",
       "      <th>Volume</th>\n",
       "      <th>Dividends</th>\n",
       "      <th>Stock Splits</th>\n",
       "      <th>Year</th>\n",
       "      <th>Month</th>\n",
       "      <th>Day</th>\n",
       "      <th>DailyChange</th>\n",
       "      <th>PriceTrend</th>\n",
       "    </tr>\n",
       "  </thead>\n",
       "  <tbody>\n",
       "    <tr>\n",
       "      <th>0</th>\n",
       "      <td>09/02/2024</td>\n",
       "      <td>41.553807</td>\n",
       "      <td>41.652841</td>\n",
       "      <td>41.365647</td>\n",
       "      <td>41.504292</td>\n",
       "      <td>3503400</td>\n",
       "      <td>0.0</td>\n",
       "      <td>0</td>\n",
       "      <td>2024</td>\n",
       "      <td>2</td>\n",
       "      <td>9</td>\n",
       "      <td>-0.049515</td>\n",
       "      <td>Down</td>\n",
       "    </tr>\n",
       "    <tr>\n",
       "      <th>1</th>\n",
       "      <td>12/02/2024</td>\n",
       "      <td>41.009129</td>\n",
       "      <td>41.009129</td>\n",
       "      <td>40.484261</td>\n",
       "      <td>40.672421</td>\n",
       "      <td>6688800</td>\n",
       "      <td>0.0</td>\n",
       "      <td>0</td>\n",
       "      <td>2024</td>\n",
       "      <td>2</td>\n",
       "      <td>12</td>\n",
       "      <td>-0.336709</td>\n",
       "      <td>Down</td>\n",
       "    </tr>\n",
       "    <tr>\n",
       "      <th>2</th>\n",
       "      <td>13/02/2024</td>\n",
       "      <td>41.167580</td>\n",
       "      <td>41.197289</td>\n",
       "      <td>40.682326</td>\n",
       "      <td>40.989323</td>\n",
       "      <td>7056800</td>\n",
       "      <td>0.0</td>\n",
       "      <td>0</td>\n",
       "      <td>2024</td>\n",
       "      <td>2</td>\n",
       "      <td>13</td>\n",
       "      <td>-0.178258</td>\n",
       "      <td>Down</td>\n",
       "    </tr>\n",
       "    <tr>\n",
       "      <th>3</th>\n",
       "      <td>14/02/2024</td>\n",
       "      <td>41.355742</td>\n",
       "      <td>41.524098</td>\n",
       "      <td>41.187389</td>\n",
       "      <td>41.395355</td>\n",
       "      <td>7442600</td>\n",
       "      <td>0.0</td>\n",
       "      <td>0</td>\n",
       "      <td>2024</td>\n",
       "      <td>2</td>\n",
       "      <td>14</td>\n",
       "      <td>0.039614</td>\n",
       "      <td>Up</td>\n",
       "    </tr>\n",
       "    <tr>\n",
       "      <th>4</th>\n",
       "      <td>15/02/2024</td>\n",
       "      <td>41.375548</td>\n",
       "      <td>41.613226</td>\n",
       "      <td>41.276517</td>\n",
       "      <td>41.365646</td>\n",
       "      <td>4145000</td>\n",
       "      <td>0.0</td>\n",
       "      <td>0</td>\n",
       "      <td>2024</td>\n",
       "      <td>2</td>\n",
       "      <td>15</td>\n",
       "      <td>-0.009902</td>\n",
       "      <td>Down</td>\n",
       "    </tr>\n",
       "  </tbody>\n",
       "</table>\n",
       "</div>"
      ],
      "text/plain": [
       "         Date       Open       High        Low      Close   Volume  Dividends  \\\n",
       "0  09/02/2024  41.553807  41.652841  41.365647  41.504292  3503400        0.0   \n",
       "1  12/02/2024  41.009129  41.009129  40.484261  40.672421  6688800        0.0   \n",
       "2  13/02/2024  41.167580  41.197289  40.682326  40.989323  7056800        0.0   \n",
       "3  14/02/2024  41.355742  41.524098  41.187389  41.395355  7442600        0.0   \n",
       "4  15/02/2024  41.375548  41.613226  41.276517  41.365646  4145000        0.0   \n",
       "\n",
       "   Stock Splits  Year  Month  Day  DailyChange PriceTrend  \n",
       "0             0  2024      2    9    -0.049515       Down  \n",
       "1             0  2024      2   12    -0.336709       Down  \n",
       "2             0  2024      2   13    -0.178258       Down  \n",
       "3             0  2024      2   14     0.039614         Up  \n",
       "4             0  2024      2   15    -0.009902       Down  "
      ]
     },
     "execution_count": 20,
     "metadata": {},
     "output_type": "execute_result"
    }
   ],
   "source": [
    "# Create variable to store the raw url of cso dataset uploaded to personal github account\n",
    "test_data_url = 'https://raw.githubusercontent.com/sba23014/cct_msc_data_analytics/main/s2_ca1/pyspark_df_test.csv'\n",
    "\n",
    "# Read file from github url into Pandas DataFrame (df)\n",
    "testing_data = pd.read_csv(test_data_url)\n",
    "\n",
    "# Return first 5 rows to validate 'data' df creation\n",
    "testing_data.head()"
   ]
  },
  {
   "cell_type": "code",
   "execution_count": null,
   "id": "82780e0c",
   "metadata": {},
   "outputs": [],
   "source": []
  },
  {
   "cell_type": "code",
   "execution_count": null,
   "id": "74d89ca8",
   "metadata": {},
   "outputs": [],
   "source": []
  },
  {
   "cell_type": "code",
   "execution_count": 21,
   "id": "db03e8c2",
   "metadata": {},
   "outputs": [
    {
     "name": "stdout",
     "output_type": "stream",
     "text": [
      "Training Data Size: 11059\n",
      "Testing Data Size: 20\n"
     ]
    }
   ],
   "source": [
    "# Validate length of training & testing df splits\n",
    "print(f\"Training Data Size: {len(training_data)}\")\n",
    "print(f\"Testing Data Size: {len(testing_data)}\")"
   ]
  },
  {
   "cell_type": "code",
   "execution_count": 22,
   "id": "7d988096",
   "metadata": {},
   "outputs": [
    {
     "data": {
      "text/html": [
       "<div>\n",
       "<style scoped>\n",
       "    .dataframe tbody tr th:only-of-type {\n",
       "        vertical-align: middle;\n",
       "    }\n",
       "\n",
       "    .dataframe tbody tr th {\n",
       "        vertical-align: top;\n",
       "    }\n",
       "\n",
       "    .dataframe thead th {\n",
       "        text-align: right;\n",
       "    }\n",
       "</style>\n",
       "<table border=\"1\" class=\"dataframe\">\n",
       "  <thead>\n",
       "    <tr style=\"text-align: right;\">\n",
       "      <th></th>\n",
       "      <th>Date</th>\n",
       "      <th>Open</th>\n",
       "      <th>High</th>\n",
       "      <th>Low</th>\n",
       "      <th>Close</th>\n",
       "      <th>Volume</th>\n",
       "      <th>Dividends</th>\n",
       "      <th>Stock Splits</th>\n",
       "      <th>Year</th>\n",
       "      <th>Month</th>\n",
       "      <th>Day</th>\n",
       "      <th>DailyChange</th>\n",
       "      <th>PriceTrend</th>\n",
       "    </tr>\n",
       "  </thead>\n",
       "  <tbody>\n",
       "    <tr>\n",
       "      <th>11054</th>\n",
       "      <td>02/02/2024</td>\n",
       "      <td>40.216874</td>\n",
       "      <td>40.454548</td>\n",
       "      <td>40.018809</td>\n",
       "      <td>40.325809</td>\n",
       "      <td>3925000</td>\n",
       "      <td>0.0</td>\n",
       "      <td>0.0</td>\n",
       "      <td>2024</td>\n",
       "      <td>2</td>\n",
       "      <td>2</td>\n",
       "      <td>0.108936</td>\n",
       "      <td>Up</td>\n",
       "    </tr>\n",
       "    <tr>\n",
       "      <th>11055</th>\n",
       "      <td>05/02/2024</td>\n",
       "      <td>41.365644</td>\n",
       "      <td>41.484482</td>\n",
       "      <td>41.009129</td>\n",
       "      <td>41.167580</td>\n",
       "      <td>7985100</td>\n",
       "      <td>0.0</td>\n",
       "      <td>0.0</td>\n",
       "      <td>2024</td>\n",
       "      <td>2</td>\n",
       "      <td>5</td>\n",
       "      <td>-0.198065</td>\n",
       "      <td>Down</td>\n",
       "    </tr>\n",
       "    <tr>\n",
       "      <th>11056</th>\n",
       "      <td>06/02/2024</td>\n",
       "      <td>41.286420</td>\n",
       "      <td>41.365647</td>\n",
       "      <td>40.900196</td>\n",
       "      <td>41.345840</td>\n",
       "      <td>3671600</td>\n",
       "      <td>0.0</td>\n",
       "      <td>0.0</td>\n",
       "      <td>2024</td>\n",
       "      <td>2</td>\n",
       "      <td>6</td>\n",
       "      <td>0.059421</td>\n",
       "      <td>Up</td>\n",
       "    </tr>\n",
       "    <tr>\n",
       "      <th>11057</th>\n",
       "      <td>07/02/2024</td>\n",
       "      <td>41.524095</td>\n",
       "      <td>41.801383</td>\n",
       "      <td>41.494387</td>\n",
       "      <td>41.613224</td>\n",
       "      <td>6042800</td>\n",
       "      <td>0.0</td>\n",
       "      <td>0.0</td>\n",
       "      <td>2024</td>\n",
       "      <td>2</td>\n",
       "      <td>7</td>\n",
       "      <td>0.089129</td>\n",
       "      <td>Up</td>\n",
       "    </tr>\n",
       "    <tr>\n",
       "      <th>11058</th>\n",
       "      <td>08/02/2024</td>\n",
       "      <td>41.415161</td>\n",
       "      <td>41.484483</td>\n",
       "      <td>41.048744</td>\n",
       "      <td>41.415161</td>\n",
       "      <td>4303300</td>\n",
       "      <td>0.0</td>\n",
       "      <td>0.0</td>\n",
       "      <td>2024</td>\n",
       "      <td>2</td>\n",
       "      <td>8</td>\n",
       "      <td>0.000000</td>\n",
       "      <td>Down</td>\n",
       "    </tr>\n",
       "  </tbody>\n",
       "</table>\n",
       "</div>"
      ],
      "text/plain": [
       "             Date       Open       High        Low      Close   Volume  \\\n",
       "11054  02/02/2024  40.216874  40.454548  40.018809  40.325809  3925000   \n",
       "11055  05/02/2024  41.365644  41.484482  41.009129  41.167580  7985100   \n",
       "11056  06/02/2024  41.286420  41.365647  40.900196  41.345840  3671600   \n",
       "11057  07/02/2024  41.524095  41.801383  41.494387  41.613224  6042800   \n",
       "11058  08/02/2024  41.415161  41.484483  41.048744  41.415161  4303300   \n",
       "\n",
       "       Dividends  Stock Splits  Year  Month  Day  DailyChange PriceTrend  \n",
       "11054        0.0           0.0  2024      2    2     0.108936         Up  \n",
       "11055        0.0           0.0  2024      2    5    -0.198065       Down  \n",
       "11056        0.0           0.0  2024      2    6     0.059421         Up  \n",
       "11057        0.0           0.0  2024      2    7     0.089129         Up  \n",
       "11058        0.0           0.0  2024      2    8     0.000000       Down  "
      ]
     },
     "execution_count": 22,
     "metadata": {},
     "output_type": "execute_result"
    }
   ],
   "source": [
    "training_data.tail()"
   ]
  },
  {
   "cell_type": "code",
   "execution_count": 23,
   "id": "07f9fbbd",
   "metadata": {},
   "outputs": [
    {
     "data": {
      "text/html": [
       "<div>\n",
       "<style scoped>\n",
       "    .dataframe tbody tr th:only-of-type {\n",
       "        vertical-align: middle;\n",
       "    }\n",
       "\n",
       "    .dataframe tbody tr th {\n",
       "        vertical-align: top;\n",
       "    }\n",
       "\n",
       "    .dataframe thead th {\n",
       "        text-align: right;\n",
       "    }\n",
       "</style>\n",
       "<table border=\"1\" class=\"dataframe\">\n",
       "  <thead>\n",
       "    <tr style=\"text-align: right;\">\n",
       "      <th></th>\n",
       "      <th>Date</th>\n",
       "      <th>Open</th>\n",
       "      <th>High</th>\n",
       "      <th>Low</th>\n",
       "      <th>Close</th>\n",
       "      <th>Volume</th>\n",
       "      <th>Dividends</th>\n",
       "      <th>Stock Splits</th>\n",
       "      <th>Year</th>\n",
       "      <th>Month</th>\n",
       "      <th>Day</th>\n",
       "      <th>DailyChange</th>\n",
       "      <th>PriceTrend</th>\n",
       "    </tr>\n",
       "  </thead>\n",
       "  <tbody>\n",
       "    <tr>\n",
       "      <th>15</th>\n",
       "      <td>04/03/2024</td>\n",
       "      <td>42.040001</td>\n",
       "      <td>42.439999</td>\n",
       "      <td>42.020000</td>\n",
       "      <td>42.439999</td>\n",
       "      <td>2404300</td>\n",
       "      <td>0.0</td>\n",
       "      <td>0</td>\n",
       "      <td>2024</td>\n",
       "      <td>3</td>\n",
       "      <td>4</td>\n",
       "      <td>0.399998</td>\n",
       "      <td>Up</td>\n",
       "    </tr>\n",
       "    <tr>\n",
       "      <th>16</th>\n",
       "      <td>05/03/2024</td>\n",
       "      <td>42.630001</td>\n",
       "      <td>42.779999</td>\n",
       "      <td>42.490002</td>\n",
       "      <td>42.599998</td>\n",
       "      <td>2635200</td>\n",
       "      <td>0.0</td>\n",
       "      <td>0</td>\n",
       "      <td>2024</td>\n",
       "      <td>3</td>\n",
       "      <td>5</td>\n",
       "      <td>-0.030003</td>\n",
       "      <td>Down</td>\n",
       "    </tr>\n",
       "    <tr>\n",
       "      <th>17</th>\n",
       "      <td>06/03/2024</td>\n",
       "      <td>42.380001</td>\n",
       "      <td>42.709999</td>\n",
       "      <td>42.330002</td>\n",
       "      <td>42.619999</td>\n",
       "      <td>3247400</td>\n",
       "      <td>0.0</td>\n",
       "      <td>0</td>\n",
       "      <td>2024</td>\n",
       "      <td>3</td>\n",
       "      <td>6</td>\n",
       "      <td>0.239998</td>\n",
       "      <td>Up</td>\n",
       "    </tr>\n",
       "    <tr>\n",
       "      <th>18</th>\n",
       "      <td>07/03/2024</td>\n",
       "      <td>43.680000</td>\n",
       "      <td>43.840000</td>\n",
       "      <td>43.480000</td>\n",
       "      <td>43.580002</td>\n",
       "      <td>4382300</td>\n",
       "      <td>0.0</td>\n",
       "      <td>0</td>\n",
       "      <td>2024</td>\n",
       "      <td>3</td>\n",
       "      <td>7</td>\n",
       "      <td>-0.099998</td>\n",
       "      <td>Down</td>\n",
       "    </tr>\n",
       "    <tr>\n",
       "      <th>19</th>\n",
       "      <td>08/03/2024</td>\n",
       "      <td>43.020000</td>\n",
       "      <td>43.220001</td>\n",
       "      <td>42.910000</td>\n",
       "      <td>43.139999</td>\n",
       "      <td>3308100</td>\n",
       "      <td>0.0</td>\n",
       "      <td>0</td>\n",
       "      <td>2024</td>\n",
       "      <td>3</td>\n",
       "      <td>8</td>\n",
       "      <td>0.119999</td>\n",
       "      <td>Up</td>\n",
       "    </tr>\n",
       "  </tbody>\n",
       "</table>\n",
       "</div>"
      ],
      "text/plain": [
       "          Date       Open       High        Low      Close   Volume  \\\n",
       "15  04/03/2024  42.040001  42.439999  42.020000  42.439999  2404300   \n",
       "16  05/03/2024  42.630001  42.779999  42.490002  42.599998  2635200   \n",
       "17  06/03/2024  42.380001  42.709999  42.330002  42.619999  3247400   \n",
       "18  07/03/2024  43.680000  43.840000  43.480000  43.580002  4382300   \n",
       "19  08/03/2024  43.020000  43.220001  42.910000  43.139999  3308100   \n",
       "\n",
       "    Dividends  Stock Splits  Year  Month  Day  DailyChange PriceTrend  \n",
       "15        0.0             0  2024      3    4     0.399998         Up  \n",
       "16        0.0             0  2024      3    5    -0.030003       Down  \n",
       "17        0.0             0  2024      3    6     0.239998         Up  \n",
       "18        0.0             0  2024      3    7    -0.099998       Down  \n",
       "19        0.0             0  2024      3    8     0.119999         Up  "
      ]
     },
     "execution_count": 23,
     "metadata": {},
     "output_type": "execute_result"
    }
   ],
   "source": [
    "testing_data.tail()"
   ]
  },
  {
   "cell_type": "code",
   "execution_count": 24,
   "id": "34006e05",
   "metadata": {},
   "outputs": [],
   "source": [
    "# Apply the Seaborn Whitegrid style\n",
    "#plt.style.use('seaborn-whitegrid')\n",
    "\n",
    "#plt.plot(training_data, color = \"b\", label = 'Training')\n",
    "#plt.plot(testing_data, color = \"o\", label = 'Testing')\n",
    "#plt.ylabel('GSK Close Price')\n",
    "#plt.xlabel('Date')\n",
    "#plt.xticks(rotation = 45)\n",
    "#plt.grid(False)\n",
    "#plt.title(\"Train/Test split for GSK Stock Price Data: 28-Mar-1980 to 08-Mar-2024\")\n",
    "#plt.show()"
   ]
  },
  {
   "cell_type": "markdown",
   "id": "a1d042cf",
   "metadata": {},
   "source": [
    "Training data"
   ]
  },
  {
   "cell_type": "code",
   "execution_count": 25,
   "id": "2c0b3fd8",
   "metadata": {},
   "outputs": [
    {
     "name": "stdout",
     "output_type": "stream",
     "text": [
      "[ 0.1392013   0.1392013   0.1392013  ... 41.34584045 41.61322403\n",
      " 41.41516113]\n"
     ]
    }
   ],
   "source": [
    "training_data = training_data.iloc[:, 4].values\n",
    "\n",
    "print(training_data)"
   ]
  },
  {
   "cell_type": "code",
   "execution_count": 26,
   "id": "4ac82b50",
   "metadata": {},
   "outputs": [
    {
     "data": {
      "image/png": "[encoded data removed]",
      "text/plain": [
       "<Figure size 640x480 with 1 Axes>"
      ]
     },
     "metadata": {},
     "output_type": "display_data"
    }
   ],
   "source": [
    "plt.plot(training_data)\n",
    "plt.title(\"Unscaled Training Data\")\n",
    "plt.show()"
   ]
  },
  {
   "cell_type": "code",
   "execution_count": 27,
   "id": "4f1d5366",
   "metadata": {},
   "outputs": [],
   "source": [
    "scaler = MinMaxScaler()"
   ]
  },
  {
   "cell_type": "code",
   "execution_count": 28,
   "id": "6b07c559",
   "metadata": {},
   "outputs": [],
   "source": [
    "training_data = scaler.fit_transform(training_data.reshape(-1, 1))"
   ]
  },
  {
   "cell_type": "code",
   "execution_count": 29,
   "id": "bd75b904",
   "metadata": {},
   "outputs": [
    {
     "data": {
      "image/png": "[encoded data removed]",
      "text/plain": [
       "<Figure size 640x480 with 1 Axes>"
      ]
     },
     "metadata": {},
     "output_type": "display_data"
    }
   ],
   "source": [
    "plt.plot(training_data)\n",
    "plt.title(\"Scaled Training Data\")\n",
    "plt.show()"
   ]
  },
  {
   "cell_type": "markdown",
   "id": "a4910b1b",
   "metadata": {},
   "source": [
    "Testing data"
   ]
  },
  {
   "cell_type": "code",
   "execution_count": 30,
   "id": "4f7e3cd1",
   "metadata": {},
   "outputs": [],
   "source": [
    "x_training_data = []\n",
    "y_training_data =[]"
   ]
  },
  {
   "cell_type": "code",
   "execution_count": 31,
   "id": "5f604424",
   "metadata": {},
   "outputs": [],
   "source": [
    "for i in range(40, len(training_data)):\n",
    "    x_training_data.append(training_data[i-40:i, 0])\n",
    "    y_training_data.append(training_data[i, 0])"
   ]
  },
  {
   "cell_type": "code",
   "execution_count": 32,
   "id": "fe840642",
   "metadata": {},
   "outputs": [],
   "source": [
    "x_training_data = np.array(x_training_data)\n",
    "y_training_data = np.array(y_training_data)"
   ]
  },
  {
   "cell_type": "code",
   "execution_count": 33,
   "id": "86ef8d95",
   "metadata": {},
   "outputs": [
    {
     "name": "stdout",
     "output_type": "stream",
     "text": [
      "(11019, 40)\n",
      "(11019,)\n"
     ]
    }
   ],
   "source": [
    "print(x_training_data.shape)\n",
    "print(y_training_data.shape)"
   ]
  },
  {
   "cell_type": "code",
   "execution_count": 34,
   "id": "be363580",
   "metadata": {},
   "outputs": [],
   "source": [
    "x_training_data = np.reshape(x_training_data, (x_training_data.shape[0], \n",
    "                                               x_training_data.shape[1], \n",
    "                                               1))"
   ]
  },
  {
   "cell_type": "code",
   "execution_count": 35,
   "id": "e81042e2",
   "metadata": {},
   "outputs": [
    {
     "name": "stdout",
     "output_type": "stream",
     "text": [
      "(11019, 40, 1)\n"
     ]
    }
   ],
   "source": [
    "print(x_training_data.shape)"
   ]
  },
  {
   "cell_type": "code",
   "execution_count": 36,
   "id": "3ecb9cc3",
   "metadata": {},
   "outputs": [],
   "source": [
    "rnn = Sequential()"
   ]
  },
  {
   "cell_type": "code",
   "execution_count": 37,
   "id": "ebf6f0d8",
   "metadata": {},
   "outputs": [],
   "source": [
    "rnn.add(LSTM(units = 45, return_sequences = True, input_shape = (x_training_data.shape[1], 1)))"
   ]
  },
  {
   "cell_type": "code",
   "execution_count": 38,
   "id": "960641c5",
   "metadata": {},
   "outputs": [],
   "source": [
    "rnn.add(Dropout(0.2))"
   ]
  },
  {
   "cell_type": "code",
   "execution_count": 39,
   "id": "2ba1d13a",
   "metadata": {},
   "outputs": [],
   "source": [
    "rnn.add(LSTM(units = 45, return_sequences = True))\n",
    "\n",
    "rnn.add(Dropout(0.2))\n",
    "\n",
    "rnn.add(LSTM(units = 45, return_sequences = True))\n",
    "\n",
    "rnn.add(Dropout(0.2))\n",
    "\n",
    "rnn.add(LSTM(units = 45))\n",
    "\n",
    "rnn.add(Dropout(0.2))"
   ]
  },
  {
   "cell_type": "code",
   "execution_count": 40,
   "id": "da6baa1b",
   "metadata": {},
   "outputs": [],
   "source": [
    "rnn.add(Dense(units = 1))"
   ]
  },
  {
   "cell_type": "code",
   "execution_count": 41,
   "id": "4e9e628d",
   "metadata": {},
   "outputs": [],
   "source": [
    "rnn.compile(optimizer = 'adam', loss = 'mean_squared_error')"
   ]
  },
  {
   "cell_type": "code",
   "execution_count": 42,
   "id": "5bf661b6",
   "metadata": {
    "scrolled": true
   },
   "outputs": [
    {
     "name": "stdout",
     "output_type": "stream",
     "text": [
      "Epoch 1/100\n",
      "345/345 [==============================] - 20s 39ms/step - loss: 0.0059\n",
      "Epoch 2/100\n",
      "345/345 [==============================] - 14s 40ms/step - loss: 0.0022\n",
      "Epoch 3/100\n",
      "345/345 [==============================] - 14s 39ms/step - loss: 0.0018\n",
      "Epoch 4/100\n",
      "345/345 [==============================] - 13s 39ms/step - loss: 0.0016\n",
      "Epoch 5/100\n",
      "345/345 [==============================] - 14s 39ms/step - loss: 0.0015\n",
      "Epoch 6/100\n",
      "345/345 [==============================] - 14s 39ms/step - loss: 0.0013\n",
      "Epoch 7/100\n",
      "345/345 [==============================] - 13s 39ms/step - loss: 0.0011\n",
      "Epoch 8/100\n",
      "345/345 [==============================] - 13s 39ms/step - loss: 0.0011\n",
      "Epoch 9/100\n",
      "345/345 [==============================] - 14s 39ms/step - loss: 0.0011\n",
      "Epoch 10/100\n",
      "345/345 [==============================] - 14s 39ms/step - loss: 0.0010\n",
      "Epoch 11/100\n",
      "345/345 [==============================] - 14s 39ms/step - loss: 9.8497e-04\n",
      "Epoch 12/100\n",
      "345/345 [==============================] - 13s 39ms/step - loss: 9.3504e-04\n",
      "Epoch 13/100\n",
      "345/345 [==============================] - 14s 40ms/step - loss: 9.4420e-04\n",
      "Epoch 14/100\n",
      "345/345 [==============================] - 14s 39ms/step - loss: 8.9786e-04\n",
      "Epoch 15/100\n",
      "345/345 [==============================] - 14s 40ms/step - loss: 8.8862e-04\n",
      "Epoch 16/100\n",
      "345/345 [==============================] - 14s 40ms/step - loss: 8.8680e-04\n",
      "Epoch 17/100\n",
      "345/345 [==============================] - 14s 39ms/step - loss: 8.3321e-04\n",
      "Epoch 18/100\n",
      "345/345 [==============================] - 13s 39ms/step - loss: 8.2265e-04\n",
      "Epoch 19/100\n",
      "345/345 [==============================] - 14s 39ms/step - loss: 8.6468e-04\n",
      "Epoch 20/100\n",
      "345/345 [==============================] - 13s 39ms/step - loss: 8.3042e-04\n",
      "Epoch 21/100\n",
      "345/345 [==============================] - 14s 39ms/step - loss: 8.0971e-04\n",
      "Epoch 22/100\n",
      "345/345 [==============================] - 14s 39ms/step - loss: 7.7559e-04\n",
      "Epoch 23/100\n",
      "345/345 [==============================] - 14s 39ms/step - loss: 7.8405e-04\n",
      "Epoch 24/100\n",
      "345/345 [==============================] - 14s 39ms/step - loss: 7.9878e-04\n",
      "Epoch 25/100\n",
      "345/345 [==============================] - 14s 39ms/step - loss: 7.7031e-04\n",
      "Epoch 26/100\n",
      "345/345 [==============================] - 14s 39ms/step - loss: 7.9235e-04\n",
      "Epoch 27/100\n",
      "345/345 [==============================] - 14s 40ms/step - loss: 8.8260e-04\n",
      "Epoch 28/100\n",
      "345/345 [==============================] - 14s 40ms/step - loss: 7.8381e-04\n",
      "Epoch 29/100\n",
      "345/345 [==============================] - 14s 39ms/step - loss: 7.8499e-04\n",
      "Epoch 30/100\n",
      "345/345 [==============================] - 14s 39ms/step - loss: 7.7070e-04\n",
      "Epoch 31/100\n",
      "345/345 [==============================] - 14s 39ms/step - loss: 7.4861e-04\n",
      "Epoch 32/100\n",
      "345/345 [==============================] - 14s 40ms/step - loss: 7.6882e-04\n",
      "Epoch 33/100\n",
      "345/345 [==============================] - 14s 39ms/step - loss: 8.0908e-04\n",
      "Epoch 34/100\n",
      "345/345 [==============================] - 14s 39ms/step - loss: 7.0787e-04\n",
      "Epoch 35/100\n",
      "345/345 [==============================] - 14s 39ms/step - loss: 7.4507e-04\n",
      "Epoch 36/100\n",
      "345/345 [==============================] - 14s 39ms/step - loss: 7.2023e-04\n",
      "Epoch 37/100\n",
      "345/345 [==============================] - 14s 39ms/step - loss: 7.1509e-04\n",
      "Epoch 38/100\n",
      "345/345 [==============================] - 14s 39ms/step - loss: 7.3267e-04\n",
      "Epoch 39/100\n",
      "345/345 [==============================] - 14s 39ms/step - loss: 7.2986e-04\n",
      "Epoch 40/100\n",
      "345/345 [==============================] - 14s 39ms/step - loss: 7.3584e-04\n",
      "Epoch 41/100\n",
      "345/345 [==============================] - 14s 39ms/step - loss: 6.7898e-04\n",
      "Epoch 42/100\n",
      "345/345 [==============================] - 14s 40ms/step - loss: 7.1465e-04\n",
      "Epoch 43/100\n",
      "345/345 [==============================] - 14s 40ms/step - loss: 6.8120e-04\n",
      "Epoch 44/100\n",
      "345/345 [==============================] - 14s 40ms/step - loss: 6.7977e-04\n",
      "Epoch 45/100\n",
      "345/345 [==============================] - 14s 39ms/step - loss: 6.8583e-04\n",
      "Epoch 46/100\n",
      "345/345 [==============================] - 14s 39ms/step - loss: 6.7466e-04\n",
      "Epoch 47/100\n",
      "345/345 [==============================] - 14s 39ms/step - loss: 6.3544e-04\n",
      "Epoch 48/100\n",
      "345/345 [==============================] - 14s 40ms/step - loss: 6.6354e-04\n",
      "Epoch 49/100\n",
      "345/345 [==============================] - 14s 39ms/step - loss: 6.8705e-04\n",
      "Epoch 50/100\n",
      "345/345 [==============================] - 14s 39ms/step - loss: 6.8015e-04\n",
      "Epoch 51/100\n",
      "345/345 [==============================] - 14s 39ms/step - loss: 6.4217e-04\n",
      "Epoch 52/100\n",
      "345/345 [==============================] - 14s 39ms/step - loss: 6.1137e-04\n",
      "Epoch 53/100\n",
      "345/345 [==============================] - 14s 39ms/step - loss: 6.4792e-04\n",
      "Epoch 54/100\n",
      "345/345 [==============================] - 14s 40ms/step - loss: 6.2746e-04\n",
      "Epoch 55/100\n",
      "345/345 [==============================] - 14s 40ms/step - loss: 6.2177e-04\n",
      "Epoch 56/100\n",
      "345/345 [==============================] - 14s 39ms/step - loss: 6.3442e-04\n",
      "Epoch 57/100\n",
      "345/345 [==============================] - 14s 39ms/step - loss: 6.2010e-04\n",
      "Epoch 58/100\n",
      "345/345 [==============================] - 14s 39ms/step - loss: 5.9402e-04\n",
      "Epoch 59/100\n",
      "345/345 [==============================] - 14s 39ms/step - loss: 6.1957e-04\n",
      "Epoch 60/100\n",
      "345/345 [==============================] - 14s 39ms/step - loss: 6.2789e-04\n",
      "Epoch 61/100\n",
      "345/345 [==============================] - 14s 39ms/step - loss: 6.1274e-04\n",
      "Epoch 62/100\n",
      "345/345 [==============================] - 14s 40ms/step - loss: 5.9520e-04\n",
      "Epoch 63/100\n",
      "345/345 [==============================] - 14s 40ms/step - loss: 6.2751e-04\n",
      "Epoch 64/100\n",
      "345/345 [==============================] - 14s 39ms/step - loss: 6.1092e-04\n",
      "Epoch 65/100\n",
      "345/345 [==============================] - 14s 40ms/step - loss: 5.9352e-04\n",
      "Epoch 66/100\n",
      "345/345 [==============================] - 14s 39ms/step - loss: 6.0045e-04\n",
      "Epoch 67/100\n",
      "345/345 [==============================] - 14s 39ms/step - loss: 5.9097e-04\n",
      "Epoch 68/100\n",
      "345/345 [==============================] - 14s 40ms/step - loss: 6.0540e-04\n",
      "Epoch 69/100\n",
      "345/345 [==============================] - 14s 40ms/step - loss: 5.8809e-04\n",
      "Epoch 70/100\n",
      "345/345 [==============================] - 14s 39ms/step - loss: 6.1569e-04\n",
      "Epoch 71/100\n",
      "345/345 [==============================] - 14s 39ms/step - loss: 6.0126e-04\n",
      "Epoch 72/100\n",
      "345/345 [==============================] - 14s 39ms/step - loss: 6.1596e-04\n",
      "Epoch 73/100\n",
      "345/345 [==============================] - 14s 40ms/step - loss: 6.0751e-04\n",
      "Epoch 74/100\n",
      "345/345 [==============================] - 14s 40ms/step - loss: 5.7459e-04\n",
      "Epoch 75/100\n",
      "345/345 [==============================] - 14s 39ms/step - loss: 5.8881e-04\n",
      "Epoch 76/100\n",
      "345/345 [==============================] - 14s 40ms/step - loss: 5.9564e-04\n",
      "Epoch 77/100\n",
      "345/345 [==============================] - 14s 39ms/step - loss: 5.9129e-04\n",
      "Epoch 78/100\n",
      "345/345 [==============================] - 14s 39ms/step - loss: 6.0472e-04\n",
      "Epoch 79/100\n",
      "345/345 [==============================] - 14s 39ms/step - loss: 5.7783e-04\n",
      "Epoch 80/100\n",
      "345/345 [==============================] - 14s 39ms/step - loss: 5.8013e-04\n",
      "Epoch 81/100\n",
      "345/345 [==============================] - 14s 40ms/step - loss: 5.7664e-04\n",
      "Epoch 82/100\n",
      "345/345 [==============================] - 14s 40ms/step - loss: 5.7441e-04\n",
      "Epoch 83/100\n",
      "345/345 [==============================] - 14s 39ms/step - loss: 5.8010e-04\n",
      "Epoch 84/100\n",
      "345/345 [==============================] - 14s 39ms/step - loss: 5.9392e-04\n",
      "Epoch 85/100\n",
      "345/345 [==============================] - 14s 39ms/step - loss: 6.0889e-04\n",
      "Epoch 86/100\n",
      "345/345 [==============================] - 14s 40ms/step - loss: 5.7159e-04\n",
      "Epoch 87/100\n",
      "345/345 [==============================] - 14s 39ms/step - loss: 5.7989e-04\n",
      "Epoch 88/100\n",
      "345/345 [==============================] - 13s 39ms/step - loss: 5.9660e-04\n",
      "Epoch 89/100\n",
      "345/345 [==============================] - 14s 39ms/step - loss: 5.7757e-04\n",
      "Epoch 90/100\n",
      "345/345 [==============================] - 14s 40ms/step - loss: 5.6339e-04\n",
      "Epoch 91/100\n",
      "345/345 [==============================] - 14s 39ms/step - loss: 5.7109e-04\n",
      "Epoch 92/100\n",
      "345/345 [==============================] - 14s 39ms/step - loss: 5.9715e-04\n",
      "Epoch 93/100\n"
     ]
    },
    {
     "name": "stdout",
     "output_type": "stream",
     "text": [
      "345/345 [==============================] - 14s 39ms/step - loss: 5.8614e-04\n",
      "Epoch 94/100\n",
      "345/345 [==============================] - 14s 39ms/step - loss: 5.6789e-04\n",
      "Epoch 95/100\n",
      "345/345 [==============================] - 14s 39ms/step - loss: 5.7273e-04\n",
      "Epoch 96/100\n",
      "345/345 [==============================] - 14s 40ms/step - loss: 5.7693e-04\n",
      "Epoch 97/100\n",
      "345/345 [==============================] - 14s 39ms/step - loss: 5.7839e-04\n",
      "Epoch 98/100\n",
      "345/345 [==============================] - 14s 39ms/step - loss: 5.5622e-04\n",
      "Epoch 99/100\n",
      "345/345 [==============================] - 14s 39ms/step - loss: 5.7090e-04\n",
      "Epoch 100/100\n",
      "345/345 [==============================] - 14s 39ms/step - loss: 5.6682e-04\n"
     ]
    },
    {
     "data": {
      "text/plain": [
       "<keras.src.callbacks.History at 0x1886586abe0>"
      ]
     },
     "execution_count": 42,
     "metadata": {},
     "output_type": "execute_result"
    }
   ],
   "source": [
    "rnn.fit(x_training_data, y_training_data, epochs = 100, batch_size = 32)"
   ]
  },
  {
   "cell_type": "code",
   "execution_count": 43,
   "id": "3d17c786",
   "metadata": {},
   "outputs": [
    {
     "name": "stdout",
     "output_type": "stream",
     "text": [
      "[41.50429153 40.6724205  40.98932266 41.39535522 41.36564636 41.53399658\n",
      " 41.61322403 41.53399658 42.15999985 42.22000122 42.34000015 42.38000107\n",
      " 42.34000015 41.90000153 42.02999878 42.43999863 42.59999847 42.61999893\n",
      " 43.58000183 43.13999939]\n"
     ]
    }
   ],
   "source": [
    "testing_data = testing_data.iloc[:, 4].values\n",
    "\n",
    "print(testing_data)"
   ]
  },
  {
   "cell_type": "code",
   "execution_count": 44,
   "id": "27c57325",
   "metadata": {},
   "outputs": [
    {
     "name": "stdout",
     "output_type": "stream",
     "text": [
      "(20,)\n"
     ]
    }
   ],
   "source": [
    "print(testing_data.shape)"
   ]
  },
  {
   "cell_type": "code",
   "execution_count": 45,
   "id": "e33c6919",
   "metadata": {},
   "outputs": [
    {
     "data": {
      "text/html": [
       "<div>\n",
       "<style scoped>\n",
       "    .dataframe tbody tr th:only-of-type {\n",
       "        vertical-align: middle;\n",
       "    }\n",
       "\n",
       "    .dataframe tbody tr th {\n",
       "        vertical-align: top;\n",
       "    }\n",
       "\n",
       "    .dataframe thead th {\n",
       "        text-align: right;\n",
       "    }\n",
       "</style>\n",
       "<table border=\"1\" class=\"dataframe\">\n",
       "  <thead>\n",
       "    <tr style=\"text-align: right;\">\n",
       "      <th></th>\n",
       "      <th>Date</th>\n",
       "      <th>Open</th>\n",
       "      <th>High</th>\n",
       "      <th>Low</th>\n",
       "      <th>Close</th>\n",
       "      <th>Volume</th>\n",
       "      <th>Dividends</th>\n",
       "      <th>Stock Splits</th>\n",
       "      <th>Year</th>\n",
       "      <th>Month</th>\n",
       "      <th>Day</th>\n",
       "      <th>DailyChange</th>\n",
       "      <th>PriceTrend</th>\n",
       "    </tr>\n",
       "  </thead>\n",
       "  <tbody>\n",
       "    <tr>\n",
       "      <th>0</th>\n",
       "      <td>28/03/1980</td>\n",
       "      <td>0.000000</td>\n",
       "      <td>0.149641</td>\n",
       "      <td>0.139201</td>\n",
       "      <td>0.139201</td>\n",
       "      <td>2400</td>\n",
       "      <td>0.0</td>\n",
       "      <td>0.0</td>\n",
       "      <td>1980</td>\n",
       "      <td>3</td>\n",
       "      <td>28</td>\n",
       "      <td>0.139201</td>\n",
       "      <td>Up</td>\n",
       "    </tr>\n",
       "    <tr>\n",
       "      <th>1</th>\n",
       "      <td>31/03/1980</td>\n",
       "      <td>0.139201</td>\n",
       "      <td>0.139201</td>\n",
       "      <td>0.139201</td>\n",
       "      <td>0.139201</td>\n",
       "      <td>0</td>\n",
       "      <td>0.0</td>\n",
       "      <td>0.0</td>\n",
       "      <td>1980</td>\n",
       "      <td>3</td>\n",
       "      <td>31</td>\n",
       "      <td>0.000000</td>\n",
       "      <td>Down</td>\n",
       "    </tr>\n",
       "    <tr>\n",
       "      <th>2</th>\n",
       "      <td>01/04/1980</td>\n",
       "      <td>0.139201</td>\n",
       "      <td>0.139201</td>\n",
       "      <td>0.139201</td>\n",
       "      <td>0.139201</td>\n",
       "      <td>0</td>\n",
       "      <td>0.0</td>\n",
       "      <td>0.0</td>\n",
       "      <td>1980</td>\n",
       "      <td>4</td>\n",
       "      <td>1</td>\n",
       "      <td>0.000000</td>\n",
       "      <td>Down</td>\n",
       "    </tr>\n",
       "    <tr>\n",
       "      <th>3</th>\n",
       "      <td>02/04/1980</td>\n",
       "      <td>0.000000</td>\n",
       "      <td>0.149641</td>\n",
       "      <td>0.139201</td>\n",
       "      <td>0.139201</td>\n",
       "      <td>800</td>\n",
       "      <td>0.0</td>\n",
       "      <td>0.0</td>\n",
       "      <td>1980</td>\n",
       "      <td>4</td>\n",
       "      <td>2</td>\n",
       "      <td>0.139201</td>\n",
       "      <td>Up</td>\n",
       "    </tr>\n",
       "    <tr>\n",
       "      <th>4</th>\n",
       "      <td>03/04/1980</td>\n",
       "      <td>0.139201</td>\n",
       "      <td>0.139201</td>\n",
       "      <td>0.139201</td>\n",
       "      <td>0.139201</td>\n",
       "      <td>0</td>\n",
       "      <td>0.0</td>\n",
       "      <td>0.0</td>\n",
       "      <td>1980</td>\n",
       "      <td>4</td>\n",
       "      <td>3</td>\n",
       "      <td>0.000000</td>\n",
       "      <td>Down</td>\n",
       "    </tr>\n",
       "  </tbody>\n",
       "</table>\n",
       "</div>"
      ],
      "text/plain": [
       "         Date      Open      High       Low     Close  Volume  Dividends  \\\n",
       "0  28/03/1980  0.000000  0.149641  0.139201  0.139201    2400        0.0   \n",
       "1  31/03/1980  0.139201  0.139201  0.139201  0.139201       0        0.0   \n",
       "2  01/04/1980  0.139201  0.139201  0.139201  0.139201       0        0.0   \n",
       "3  02/04/1980  0.000000  0.149641  0.139201  0.139201     800        0.0   \n",
       "4  03/04/1980  0.139201  0.139201  0.139201  0.139201       0        0.0   \n",
       "\n",
       "   Stock Splits  Year  Month  Day  DailyChange PriceTrend  \n",
       "0           0.0  1980      3   28     0.139201         Up  \n",
       "1           0.0  1980      3   31     0.000000       Down  \n",
       "2           0.0  1980      4    1     0.000000       Down  \n",
       "3           0.0  1980      4    2     0.139201         Up  \n",
       "4           0.0  1980      4    3     0.000000       Down  "
      ]
     },
     "execution_count": 45,
     "metadata": {},
     "output_type": "execute_result"
    }
   ],
   "source": [
    "# Create variable to store the raw url of cso dataset uploaded to personal github account\n",
    "train_data_url = 'https://raw.githubusercontent.com/sba23014/cct_msc_data_analytics/main/s2_ca1/pyspark_df_train.csv'\n",
    "\n",
    "# Read file from github url into Pandas DataFrame (df)\n",
    "unscaled_training_data = pd.read_csv(train_data_url)\n",
    "\n",
    "# Return first 5 rows to validate 'data' df creation\n",
    "unscaled_training_data.head()"
   ]
  },
  {
   "cell_type": "code",
   "execution_count": 46,
   "id": "1cef3bf3",
   "metadata": {},
   "outputs": [
    {
     "data": {
      "text/html": [
       "<div>\n",
       "<style scoped>\n",
       "    .dataframe tbody tr th:only-of-type {\n",
       "        vertical-align: middle;\n",
       "    }\n",
       "\n",
       "    .dataframe tbody tr th {\n",
       "        vertical-align: top;\n",
       "    }\n",
       "\n",
       "    .dataframe thead th {\n",
       "        text-align: right;\n",
       "    }\n",
       "</style>\n",
       "<table border=\"1\" class=\"dataframe\">\n",
       "  <thead>\n",
       "    <tr style=\"text-align: right;\">\n",
       "      <th></th>\n",
       "      <th>Date</th>\n",
       "      <th>Open</th>\n",
       "      <th>High</th>\n",
       "      <th>Low</th>\n",
       "      <th>Close</th>\n",
       "      <th>Volume</th>\n",
       "      <th>Dividends</th>\n",
       "      <th>Stock Splits</th>\n",
       "      <th>Year</th>\n",
       "      <th>Month</th>\n",
       "      <th>Day</th>\n",
       "      <th>DailyChange</th>\n",
       "      <th>PriceTrend</th>\n",
       "    </tr>\n",
       "  </thead>\n",
       "  <tbody>\n",
       "    <tr>\n",
       "      <th>0</th>\n",
       "      <td>09/02/2024</td>\n",
       "      <td>41.553807</td>\n",
       "      <td>41.652841</td>\n",
       "      <td>41.365647</td>\n",
       "      <td>41.504292</td>\n",
       "      <td>3503400</td>\n",
       "      <td>0.0</td>\n",
       "      <td>0</td>\n",
       "      <td>2024</td>\n",
       "      <td>2</td>\n",
       "      <td>9</td>\n",
       "      <td>-0.049515</td>\n",
       "      <td>Down</td>\n",
       "    </tr>\n",
       "    <tr>\n",
       "      <th>1</th>\n",
       "      <td>12/02/2024</td>\n",
       "      <td>41.009129</td>\n",
       "      <td>41.009129</td>\n",
       "      <td>40.484261</td>\n",
       "      <td>40.672421</td>\n",
       "      <td>6688800</td>\n",
       "      <td>0.0</td>\n",
       "      <td>0</td>\n",
       "      <td>2024</td>\n",
       "      <td>2</td>\n",
       "      <td>12</td>\n",
       "      <td>-0.336709</td>\n",
       "      <td>Down</td>\n",
       "    </tr>\n",
       "    <tr>\n",
       "      <th>2</th>\n",
       "      <td>13/02/2024</td>\n",
       "      <td>41.167580</td>\n",
       "      <td>41.197289</td>\n",
       "      <td>40.682326</td>\n",
       "      <td>40.989323</td>\n",
       "      <td>7056800</td>\n",
       "      <td>0.0</td>\n",
       "      <td>0</td>\n",
       "      <td>2024</td>\n",
       "      <td>2</td>\n",
       "      <td>13</td>\n",
       "      <td>-0.178258</td>\n",
       "      <td>Down</td>\n",
       "    </tr>\n",
       "    <tr>\n",
       "      <th>3</th>\n",
       "      <td>14/02/2024</td>\n",
       "      <td>41.355742</td>\n",
       "      <td>41.524098</td>\n",
       "      <td>41.187389</td>\n",
       "      <td>41.395355</td>\n",
       "      <td>7442600</td>\n",
       "      <td>0.0</td>\n",
       "      <td>0</td>\n",
       "      <td>2024</td>\n",
       "      <td>2</td>\n",
       "      <td>14</td>\n",
       "      <td>0.039614</td>\n",
       "      <td>Up</td>\n",
       "    </tr>\n",
       "    <tr>\n",
       "      <th>4</th>\n",
       "      <td>15/02/2024</td>\n",
       "      <td>41.375548</td>\n",
       "      <td>41.613226</td>\n",
       "      <td>41.276517</td>\n",
       "      <td>41.365646</td>\n",
       "      <td>4145000</td>\n",
       "      <td>0.0</td>\n",
       "      <td>0</td>\n",
       "      <td>2024</td>\n",
       "      <td>2</td>\n",
       "      <td>15</td>\n",
       "      <td>-0.009902</td>\n",
       "      <td>Down</td>\n",
       "    </tr>\n",
       "  </tbody>\n",
       "</table>\n",
       "</div>"
      ],
      "text/plain": [
       "         Date       Open       High        Low      Close   Volume  Dividends  \\\n",
       "0  09/02/2024  41.553807  41.652841  41.365647  41.504292  3503400        0.0   \n",
       "1  12/02/2024  41.009129  41.009129  40.484261  40.672421  6688800        0.0   \n",
       "2  13/02/2024  41.167580  41.197289  40.682326  40.989323  7056800        0.0   \n",
       "3  14/02/2024  41.355742  41.524098  41.187389  41.395355  7442600        0.0   \n",
       "4  15/02/2024  41.375548  41.613226  41.276517  41.365646  4145000        0.0   \n",
       "\n",
       "   Stock Splits  Year  Month  Day  DailyChange PriceTrend  \n",
       "0             0  2024      2    9    -0.049515       Down  \n",
       "1             0  2024      2   12    -0.336709       Down  \n",
       "2             0  2024      2   13    -0.178258       Down  \n",
       "3             0  2024      2   14     0.039614         Up  \n",
       "4             0  2024      2   15    -0.009902       Down  "
      ]
     },
     "execution_count": 46,
     "metadata": {},
     "output_type": "execute_result"
    }
   ],
   "source": [
    "# Create variable to store the raw url of cso dataset uploaded to personal github account\n",
    "test_data_url = 'https://raw.githubusercontent.com/sba23014/cct_msc_data_analytics/main/s2_ca1/pyspark_df_test.csv'\n",
    "\n",
    "# Read file from github url into Pandas DataFrame (df)\n",
    "unscaled_testing_data = pd.read_csv(test_data_url)\n",
    "\n",
    "# Return first 5 rows to validate 'data' df creation\n",
    "unscaled_testing_data.head()"
   ]
  },
  {
   "cell_type": "code",
   "execution_count": 47,
   "id": "deadd129",
   "metadata": {},
   "outputs": [],
   "source": [
    "all_data = pd.concat((unscaled_training_data['Close'], unscaled_testing_data['Close']), axis = 0)"
   ]
  },
  {
   "cell_type": "code",
   "execution_count": 48,
   "id": "7932e753",
   "metadata": {},
   "outputs": [],
   "source": [
    "x_test_data = all_data[len(all_data) - len(testing_data) - 40:].values"
   ]
  },
  {
   "cell_type": "code",
   "execution_count": 49,
   "id": "23913a5e",
   "metadata": {},
   "outputs": [
    {
     "data": {
      "text/plain": [
       "60"
      ]
     },
     "execution_count": 49,
     "metadata": {},
     "output_type": "execute_result"
    }
   ],
   "source": [
    "len(x_test_data)"
   ]
  },
  {
   "cell_type": "code",
   "execution_count": 50,
   "id": "06eb0ad6",
   "metadata": {},
   "outputs": [],
   "source": [
    "x_test_data = np.reshape(x_test_data, (-1, 1))"
   ]
  },
  {
   "cell_type": "code",
   "execution_count": 51,
   "id": "435ab71a",
   "metadata": {},
   "outputs": [],
   "source": [
    "x_test_data = scaler.transform(x_test_data)"
   ]
  },
  {
   "cell_type": "code",
   "execution_count": 52,
   "id": "86f50961",
   "metadata": {},
   "outputs": [],
   "source": [
    "final_x_test_data = []\n",
    "\n",
    "for i in range(40, len(x_test_data)):\n",
    "\n",
    "    final_x_test_data.append(x_test_data[i-40:i, 0])\n",
    "\n",
    "final_x_test_data = np.array(final_x_test_data)"
   ]
  },
  {
   "cell_type": "code",
   "execution_count": 53,
   "id": "d25f87f2",
   "metadata": {},
   "outputs": [],
   "source": [
    "final_x_test_data = np.reshape(final_x_test_data, (final_x_test_data.shape[0], final_x_test_data.shape[1],1))"
   ]
  },
  {
   "cell_type": "code",
   "execution_count": 54,
   "id": "fabd92b5",
   "metadata": {},
   "outputs": [
    {
     "name": "stdout",
     "output_type": "stream",
     "text": [
      "1/1 [==============================] - 1s 1s/step\n"
     ]
    }
   ],
   "source": [
    "predictions = rnn.predict(final_x_test_data)"
   ]
  },
  {
   "cell_type": "code",
   "execution_count": 55,
   "id": "203aebbd",
   "metadata": {},
   "outputs": [
    {
     "data": {
      "text/plain": [
       "[<matplotlib.lines.Line2D at 0x188770124f0>]"
      ]
     },
     "execution_count": 55,
     "metadata": {},
     "output_type": "execute_result"
    },
    {
     "data": {
      "image/png": "[encoded data removed]",
      "text/plain": [
       "<Figure size 640x480 with 1 Axes>"
      ]
     },
     "metadata": {},
     "output_type": "display_data"
    }
   ],
   "source": [
    "plt.plot(predictions) "
   ]
  },
  {
   "cell_type": "code",
   "execution_count": 56,
   "id": "5a7552fe",
   "metadata": {},
   "outputs": [
    {
     "data": {
      "text/plain": [
       "[<matplotlib.lines.Line2D at 0x18877047850>]"
      ]
     },
     "execution_count": 56,
     "metadata": {},
     "output_type": "execute_result"
    },
    {
     "data": {
      "image/png": "[encoded data removed]",
      "text/plain": [
       "<Figure size 640x480 with 1 Axes>"
      ]
     },
     "metadata": {},
     "output_type": "display_data"
    }
   ],
   "source": [
    "unscaled_predictions = scaler.inverse_transform(predictions)\n",
    "\n",
    "plt.plot(unscaled_predictions)"
   ]
  },
  {
   "cell_type": "code",
   "execution_count": 57,
   "id": "5b53bbaf",
   "metadata": {},
   "outputs": [
    {
     "data": {
      "text/plain": [
       "<matplotlib.legend.Legend at 0x18877187850>"
      ]
     },
     "execution_count": 57,
     "metadata": {},
     "output_type": "execute_result"
    },
    {
     "data": {
      "image/png": "[encoded data removed]",
      "text/plain": [
       "<Figure size 640x480 with 1 Axes>"
      ]
     },
     "metadata": {},
     "output_type": "display_data"
    }
   ],
   "source": [
    "plt.plot(unscaled_predictions, color = '#135485', label = \"Predictions\")\n",
    "\n",
    "plt.plot(testing_data, color = 'black', label = \"Real Data\")\n",
    "\n",
    "plt.title('Facebook Stock Price Predictions')\n",
    "\n",
    "plt.legend()"
   ]
  },
  {
   "cell_type": "code",
   "execution_count": 58,
   "id": "43ef4a10",
   "metadata": {},
   "outputs": [
    {
     "name": "stdout",
     "output_type": "stream",
     "text": [
      "The first trading day price prediction is for Mar 2024 is:  [40.11161]\n",
      "The real first trading day price for Mar 2024 is:  41.50429153\n"
     ]
    }
   ],
   "source": [
    "print(\"The first trading day price prediction is for Mar 2024 is: \", unscaled_predictions[0])\n",
    "print(\"The real first trading day price for Mar 2024 is: \", testing_data[0])"
   ]
  },
  {
   "cell_type": "code",
   "execution_count": 59,
   "id": "d3b57347",
   "metadata": {},
   "outputs": [
    {
     "ename": "IndexError",
     "evalue": "index 20 is out of bounds for axis 0 with size 20",
     "output_type": "error",
     "traceback": [
      "\u001b[1;31m---------------------------------------------------------------------------\u001b[0m",
      "\u001b[1;31mIndexError\u001b[0m                                Traceback (most recent call last)",
      "Cell \u001b[1;32mIn[59], line 1\u001b[0m\n\u001b[1;32m----> 1\u001b[0m \u001b[38;5;28mprint\u001b[39m(\u001b[38;5;124m\"\u001b[39m\u001b[38;5;124mThe last trading day price prediction is for Mar 2024 is: \u001b[39m\u001b[38;5;124m\"\u001b[39m, \u001b[43munscaled_predictions\u001b[49m\u001b[43m[\u001b[49m\u001b[38;5;241;43m20\u001b[39;49m\u001b[43m]\u001b[49m)\n\u001b[0;32m      2\u001b[0m \u001b[38;5;28mprint\u001b[39m(\u001b[38;5;124m\"\u001b[39m\u001b[38;5;124mThe real last trading day price for Mar 2024 is: \u001b[39m\u001b[38;5;124m\"\u001b[39m,testing_data[\u001b[38;5;241m20\u001b[39m])\n",
      "\u001b[1;31mIndexError\u001b[0m: index 20 is out of bounds for axis 0 with size 20"
     ]
    }
   ],
   "source": [
    "print(\"The last trading day price prediction is for Mar 2024 is: \", unscaled_predictions[20])\n",
    "print(\"The real last trading day price for Mar 2024 is: \",testing_data[20])"
   ]
  },
  {
   "cell_type": "code",
   "execution_count": null,
   "id": "1274c9fd",
   "metadata": {},
   "outputs": [],
   "source": [
    "unscaled_predictions.shape"
   ]
  },
  {
   "cell_type": "code",
   "execution_count": null,
   "id": "aff612b0",
   "metadata": {},
   "outputs": [],
   "source": [
    "testing_data.shape"
   ]
  },
  {
   "cell_type": "code",
   "execution_count": null,
   "id": "19533fbc",
   "metadata": {},
   "outputs": [],
   "source": []
  },
  {
   "cell_type": "code",
   "execution_count": null,
   "id": "da208bd3",
   "metadata": {},
   "outputs": [],
   "source": []
  },
  {
   "cell_type": "code",
   "execution_count": null,
   "id": "1ba51993",
   "metadata": {},
   "outputs": [],
   "source": []
  },
  {
   "cell_type": "code",
   "execution_count": null,
   "id": "72852b1a",
   "metadata": {},
   "outputs": [],
   "source": []
  },
  {
   "cell_type": "code",
   "execution_count": null,
   "id": "65c1c15b",
   "metadata": {},
   "outputs": [],
   "source": [
    "plt.plot(testing_data)\n",
    "plt.title(\"Unscaled Testing Data\")\n",
    "plt.show()"
   ]
  },
  {
   "cell_type": "code",
   "execution_count": null,
   "id": "b3ef4460",
   "metadata": {},
   "outputs": [],
   "source": [
    "testing_data = scaler.transform(training_data.reshape(-1, 1))"
   ]
  },
  {
   "cell_type": "code",
   "execution_count": null,
   "id": "3c448c4e",
   "metadata": {},
   "outputs": [],
   "source": [
    "plt.plot(testing_data)\n",
    "plt.title(\"Scaled Testing Data\")\n",
    "plt.show()"
   ]
  },
  {
   "cell_type": "code",
   "execution_count": null,
   "id": "bb66b37c",
   "metadata": {},
   "outputs": [],
   "source": [
    "final_testing_data = []\n",
    "\n",
    "for i in range(40, len(testing_data)):\n",
    "\n",
    "     final_testing_data.append(testing_data[i-40:i, 0])\n",
    "\n",
    "final_testing_data = np.array(final_testing_data)"
   ]
  },
  {
   "cell_type": "code",
   "execution_count": null,
   "id": "0793c32f",
   "metadata": {},
   "outputs": [],
   "source": [
    "final_testing_data = np.reshape(final_testing_data, (final_testing_data.shape[0], final_testing_data.shape[1],1))"
   ]
  },
  {
   "cell_type": "code",
   "execution_count": null,
   "id": "489fbf50",
   "metadata": {},
   "outputs": [],
   "source": [
    "predictions = rnn.predict(final_testing_data)"
   ]
  },
  {
   "cell_type": "code",
   "execution_count": null,
   "id": "2c3eca6c",
   "metadata": {},
   "outputs": [],
   "source": [
    "#predictions = rnn.predict(testing_data)"
   ]
  },
  {
   "cell_type": "code",
   "execution_count": null,
   "id": "99c56a54",
   "metadata": {},
   "outputs": [],
   "source": [
    "plt.plot(predictions)"
   ]
  },
  {
   "cell_type": "code",
   "execution_count": null,
   "id": "0efccefc",
   "metadata": {},
   "outputs": [],
   "source": [
    "unscaled_predictions = scaler.inverse_transform(predictions)\n",
    "\n",
    "plt.plot(unscaled_predictions)"
   ]
  },
  {
   "cell_type": "code",
   "execution_count": null,
   "id": "9c1c6e49",
   "metadata": {},
   "outputs": [],
   "source": [
    "unscaled_testing_data = scaler.inverse_transform(testing_data)\n",
    "\n",
    "plt.plot(unscaled_testing_data)"
   ]
  },
  {
   "cell_type": "code",
   "execution_count": null,
   "id": "ac6c7b46",
   "metadata": {},
   "outputs": [],
   "source": [
    "# Apply the Seaborn Whitegrid style\n",
    "plt.style.use('seaborn-whitegrid')\n",
    "\n",
    "plt.plot(unscaled_predictions, color = 'orange', label = \"Predictions\")\n",
    "\n",
    "plt.plot(unscaled_testing_data, color = 'blue', label = \"Real Data\")\n",
    "\n",
    "plt.title('Facebook Stock Price Predictions')\n",
    "\n",
    "plt.legend()"
   ]
  },
  {
   "cell_type": "code",
   "execution_count": null,
   "id": "bcdbabb5",
   "metadata": {},
   "outputs": [],
   "source": [
    "#print(\"The first trading day price prediction is: \",unscaled_predictions[0])\n",
    "#print(\"The real first trading day price: \",unscaled_testing_data[0])"
   ]
  },
  {
   "cell_type": "code",
   "execution_count": null,
   "id": "0163816d",
   "metadata": {},
   "outputs": [],
   "source": [
    "#print(\"The last trading day price prediction: \",unscaled_predictions[])\n",
    "#print(\"The real last trading day price: \",unscaled_testing_data[])"
   ]
  },
  {
   "cell_type": "code",
   "execution_count": null,
   "id": "e64820e6",
   "metadata": {},
   "outputs": [],
   "source": []
  }
 ],
 "metadata": {
  "kernelspec": {
   "display_name": "Python 3 (ipykernel)",
   "language": "python",
   "name": "python3"
  },
  "language_info": {
   "codemirror_mode": {
    "name": "ipython",
    "version": 3
   },
   "file_extension": ".py",
   "mimetype": "text/x-python",
   "name": "python",
   "nbconvert_exporter": "python",
   "pygments_lexer": "ipython3",
   "version": "3.9.16"
  }
 },
 "nbformat": 4,
 "nbformat_minor": 5
}
