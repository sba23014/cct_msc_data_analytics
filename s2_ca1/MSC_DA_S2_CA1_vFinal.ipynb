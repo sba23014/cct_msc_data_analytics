{
 "cells": [
  {
   "cell_type": "markdown",
   "id": "45098d71",
   "metadata": {},
   "source": [
    "# Exploring the Dynamics of Transportation in Ireland & Abroad🚂"
   ]
  },
  {
   "cell_type": "markdown",
   "id": "6a1fdf38",
   "metadata": {},
   "source": [
    "**Name:** \n",
    "Stephen Hasson\n",
    "\n",
    "**Student No:** \n",
    "sba23014\n",
    "\n",
    "**Student Email:**\n",
    "sba23014@student.cct.ie\n",
    "\n",
    "**Course:** \n",
    "CCT MSC in Data Analytics\n",
    "\n",
    "**Assignment:**\n",
    "MSC_DA_CA2\n",
    "\n",
    "**Year:**\n",
    "Sept-23 Intake"
   ]
  },
  {
   "cell_type": "markdown",
   "id": "0e1f0dff",
   "metadata": {},
   "source": [
    "## Table of Contents\n",
    "\n",
    "### [Time-Series Forecasting](#time-series-forecasting)\n",
    "### [Data Understanding Phase & Data Preparation Phase](#data_understanding_phase)\n",
    "### [Modelling Phase & Evaluation Phase](#modelling_phase)\n",
    "### [Deplopyment-Phase](#deployment_phase)\n",
    "***"
   ]
  },
  {
   "cell_type": "markdown",
   "id": "78c84bf5",
   "metadata": {},
   "source": [
    "<a id='time-series-forecasting'></a>\n",
    "###  Time Series Forecasting\n",
    "***\n",
    "*\"Time series forecasting is the process of analyzing time series data using statistics and modeling to make predictions and inform strategic decision-making\"* (2023, Tableau)\n",
    "\n",
    "Below Image Credit (2023, Nguyen)"
   ]
  },
  {
   "cell_type": "code",
   "execution_count": 2,
   "id": "c4af35f4",
   "metadata": {},
   "outputs": [
    {
     "ename": "NameError",
     "evalue": "name 'HTML' is not defined",
     "output_type": "error",
     "traceback": [
      "\u001b[1;31m---------------------------------------------------------------------------\u001b[0m",
      "\u001b[1;31mNameError\u001b[0m                                 Traceback (most recent call last)",
      "Cell \u001b[1;32mIn[2], line 8\u001b[0m\n\u001b[0;32m      6\u001b[0m \u001b[38;5;28;01mwith\u001b[39;00m warnings\u001b[38;5;241m.\u001b[39mcatch_warnings():\n\u001b[0;32m      7\u001b[0m     warnings\u001b[38;5;241m.\u001b[39mfilterwarnings(\u001b[38;5;124m\"\u001b[39m\u001b[38;5;124mignore\u001b[39m\u001b[38;5;124m\"\u001b[39m, category\u001b[38;5;241m=\u001b[39m\u001b[38;5;167;01mDeprecationWarning\u001b[39;00m)\n\u001b[1;32m----> 8\u001b[0m     display(\u001b[43mHTML\u001b[49m(\u001b[38;5;124m'\u001b[39m\u001b[38;5;124m<center><img src=\u001b[39m\u001b[38;5;124m\"\u001b[39m\u001b[38;5;124mhttps://raw.githubusercontent.com/tn16jv/Stock-Price-Prediction/master/Images/NewPrediction.png\u001b[39m\u001b[38;5;124m\"\u001b[39m\u001b[38;5;124m width=600 height=300 /></center>\u001b[39m\u001b[38;5;124m'\u001b[39m))\n",
      "\u001b[1;31mNameError\u001b[0m: name 'HTML' is not defined"
     ]
    }
   ],
   "source": [
    "# Suppress warning messages\n",
    "import warnings\n",
    "warnings.filterwarnings('ignore')\n",
    "\n",
    "# Suppress deprecation warnings\n",
    "with warnings.catch_warnings():\n",
    "    warnings.filterwarnings(\"ignore\", category=DeprecationWarning)\n",
    "    display(HTML('<center><img src=\"https://raw.githubusercontent.com/tn16jv/Stock-Price-Prediction/master/Images/NewPrediction.png\" width=600 height=300 /></center>'))\n"
   ]
  },
  {
   "cell_type": "markdown",
   "id": "8fef6337",
   "metadata": {},
   "source": [
    "##  Notebook Requirements"
   ]
  },
  {
   "cell_type": "code",
   "execution_count": 3,
   "id": "9c04b9d5",
   "metadata": {},
   "outputs": [],
   "source": [
    "# Export requirements.txt file\n",
    "# !pip freeze > requirements.txt"
   ]
  },
  {
   "cell_type": "code",
   "execution_count": 4,
   "id": "471248fd",
   "metadata": {},
   "outputs": [],
   "source": [
    "# Import EDA & visualisation libraries\n",
    "import pandas as pd\n",
    "import numpy as np\n",
    "import matplotlib.pyplot as plt\n",
    "import seaborn as sns\n",
    "\n",
    "from sklearn.preprocessing import MinMaxScaler\n",
    "\n",
    "from tensorflow.keras.models import Sequential\n",
    "from tensorflow.keras.layers import Dense\n",
    "from tensorflow.keras.layers import LSTM\n",
    "from tensorflow.keras.layers import Dropout\n",
    "\n",
    "# Display all columns of the pandas df\n",
    "pd.set_option('display.max_columns', None)\n",
    "\n",
    "# Configure default colour scheme for seaborn\n",
    "sns.set(color_codes = True)\n",
    "\n",
    "# Suppress warning messages\n",
    "import warnings\n",
    "warnings.filterwarnings('ignore')"
   ]
  },
  {
   "cell_type": "markdown",
   "id": "49d08bcc",
   "metadata": {},
   "source": [
    "For the purpose of enhanced readability, dependency clarity and easier debugging I have centralised all of the Python libraries and default settings used in this analysis at the beginning of my code. I will explain why specific libraries have been used as appropriate as they are utilised in the clode.\n",
    "\n",
    "I have chosen to remove the default column restrictions with regards to the Pandas DataFrame (df) so that it will be easier to review all of the series in the one cell.\n",
    "\n",
    "The option to suppress warning messages was applied as a default setting retrospectively once analysis was complete, the rationale for this decision is to help enhance readability by eliminating non-critical alerts and streamlining output display.\n",
    "\n",
    "I used the below 4 core libraries as my primary libraries for data analysis & visualisation:\n",
    "\n",
    "* **Pandas** - I used this library as it makes it really easy to load and manipulate structured data through the use of Pandas dataframes & it has a lot of great functions for data cleaning & transformation which allows me to get my data ready for deeper analysis and modelling. \n",
    "* **Numpy** - I used this library for it's numerical functions & for it's ability to prepare data in particular for Machine Learning modelling due to the different data structures required for those models such as arrays and matrices. \n",
    "* **Matplotlib** - I used this library when I need to plot more low level detailed data visualisation that Seaborn is too high level to provide. It gives me a great level of customisation though generally is more tedious & time consuming to produce effective visualisations than Seaborn. \n",
    "* **Seaborn** - I prefer to use Seaborn as it's an easier, more efficient & aesthetically pleasing method for plotting data visualisations when I don't require the deeper level of customisation or detail that some visualisations need.\n",
    "\n",
    "**References**:\n",
    "* https://pandas.pydata.org/\n",
    "* https://numpy.org/\n",
    "* https://matplotlib.org/\n",
    "* https://seaborn.pydata.org/"
   ]
  },
  {
   "cell_type": "markdown",
   "id": "88647d7e",
   "metadata": {},
   "source": [
    "<a id='data_understanding_phase'></a>\n",
    "##  Data Understanding Phase & Data Preparation Phase"
   ]
  },
  {
   "cell_type": "markdown",
   "id": "4edd2520",
   "metadata": {},
   "source": [
    "#### Pre-Processed GSK Daily Stock Price Data"
   ]
  },
  {
   "cell_type": "code",
   "execution_count": 5,
   "id": "ba04f277",
   "metadata": {},
   "outputs": [
    {
     "data": {
      "text/html": [
       "<div>\n",
       "<style scoped>\n",
       "    .dataframe tbody tr th:only-of-type {\n",
       "        vertical-align: middle;\n",
       "    }\n",
       "\n",
       "    .dataframe tbody tr th {\n",
       "        vertical-align: top;\n",
       "    }\n",
       "\n",
       "    .dataframe thead th {\n",
       "        text-align: right;\n",
       "    }\n",
       "</style>\n",
       "<table border=\"1\" class=\"dataframe\">\n",
       "  <thead>\n",
       "    <tr style=\"text-align: right;\">\n",
       "      <th></th>\n",
       "      <th>Date</th>\n",
       "      <th>Open</th>\n",
       "      <th>High</th>\n",
       "      <th>Low</th>\n",
       "      <th>Close</th>\n",
       "      <th>Volume</th>\n",
       "      <th>Dividends</th>\n",
       "      <th>Stock Splits</th>\n",
       "      <th>Year</th>\n",
       "      <th>Month</th>\n",
       "      <th>Day</th>\n",
       "      <th>DailyChange</th>\n",
       "      <th>PriceTrend</th>\n",
       "    </tr>\n",
       "  </thead>\n",
       "  <tbody>\n",
       "    <tr>\n",
       "      <th>0</th>\n",
       "      <td>1980-03-28</td>\n",
       "      <td>0.000000</td>\n",
       "      <td>0.149641</td>\n",
       "      <td>0.139201</td>\n",
       "      <td>0.139201</td>\n",
       "      <td>2400</td>\n",
       "      <td>0.0</td>\n",
       "      <td>0.0</td>\n",
       "      <td>1980</td>\n",
       "      <td>3</td>\n",
       "      <td>28</td>\n",
       "      <td>0.139201</td>\n",
       "      <td>Up</td>\n",
       "    </tr>\n",
       "    <tr>\n",
       "      <th>1</th>\n",
       "      <td>1980-03-31</td>\n",
       "      <td>0.139201</td>\n",
       "      <td>0.139201</td>\n",
       "      <td>0.139201</td>\n",
       "      <td>0.139201</td>\n",
       "      <td>0</td>\n",
       "      <td>0.0</td>\n",
       "      <td>0.0</td>\n",
       "      <td>1980</td>\n",
       "      <td>3</td>\n",
       "      <td>31</td>\n",
       "      <td>0.000000</td>\n",
       "      <td>Down</td>\n",
       "    </tr>\n",
       "    <tr>\n",
       "      <th>2</th>\n",
       "      <td>1980-04-01</td>\n",
       "      <td>0.139201</td>\n",
       "      <td>0.139201</td>\n",
       "      <td>0.139201</td>\n",
       "      <td>0.139201</td>\n",
       "      <td>0</td>\n",
       "      <td>0.0</td>\n",
       "      <td>0.0</td>\n",
       "      <td>1980</td>\n",
       "      <td>4</td>\n",
       "      <td>1</td>\n",
       "      <td>0.000000</td>\n",
       "      <td>Down</td>\n",
       "    </tr>\n",
       "    <tr>\n",
       "      <th>3</th>\n",
       "      <td>1980-04-02</td>\n",
       "      <td>0.000000</td>\n",
       "      <td>0.149641</td>\n",
       "      <td>0.139201</td>\n",
       "      <td>0.139201</td>\n",
       "      <td>800</td>\n",
       "      <td>0.0</td>\n",
       "      <td>0.0</td>\n",
       "      <td>1980</td>\n",
       "      <td>4</td>\n",
       "      <td>2</td>\n",
       "      <td>0.139201</td>\n",
       "      <td>Up</td>\n",
       "    </tr>\n",
       "    <tr>\n",
       "      <th>4</th>\n",
       "      <td>1980-04-03</td>\n",
       "      <td>0.139201</td>\n",
       "      <td>0.139201</td>\n",
       "      <td>0.139201</td>\n",
       "      <td>0.139201</td>\n",
       "      <td>0</td>\n",
       "      <td>0.0</td>\n",
       "      <td>0.0</td>\n",
       "      <td>1980</td>\n",
       "      <td>4</td>\n",
       "      <td>3</td>\n",
       "      <td>0.000000</td>\n",
       "      <td>Down</td>\n",
       "    </tr>\n",
       "  </tbody>\n",
       "</table>\n",
       "</div>"
      ],
      "text/plain": [
       "         Date      Open      High       Low     Close  Volume  Dividends  \\\n",
       "0  1980-03-28  0.000000  0.149641  0.139201  0.139201    2400        0.0   \n",
       "1  1980-03-31  0.139201  0.139201  0.139201  0.139201       0        0.0   \n",
       "2  1980-04-01  0.139201  0.139201  0.139201  0.139201       0        0.0   \n",
       "3  1980-04-02  0.000000  0.149641  0.139201  0.139201     800        0.0   \n",
       "4  1980-04-03  0.139201  0.139201  0.139201  0.139201       0        0.0   \n",
       "\n",
       "   Stock Splits  Year  Month  Day  DailyChange PriceTrend  \n",
       "0           0.0  1980      3   28     0.139201         Up  \n",
       "1           0.0  1980      3   31     0.000000       Down  \n",
       "2           0.0  1980      4    1     0.000000       Down  \n",
       "3           0.0  1980      4    2     0.139201         Up  \n",
       "4           0.0  1980      4    3     0.000000       Down  "
      ]
     },
     "execution_count": 5,
     "metadata": {},
     "output_type": "execute_result"
    }
   ],
   "source": [
    "# Create variable to store the raw url of cso dataset uploaded to personal github account\n",
    "df_url = 'https://raw.githubusercontent.com/sba23014/cct_msc_data_analytics/main/s2_ca1/pyspark_df_part-00000-ea201b3a-d704-4c4d-9b19-1eba8ce2e065-c000.csv'\n",
    "\n",
    "# Read file from github url into Pandas DataFrame (df)\n",
    "df = pd.read_csv(df_url)\n",
    "\n",
    "# Return first 5 rows to validate 'data' df creation\n",
    "df.head()"
   ]
  },
  {
   "cell_type": "markdown",
   "id": "7cbaac86",
   "metadata": {},
   "source": [
    "#### Pre-Processed GSK Aggregated Stock Price Data"
   ]
  },
  {
   "cell_type": "code",
   "execution_count": 6,
   "id": "7440321c",
   "metadata": {},
   "outputs": [
    {
     "data": {
      "text/html": [
       "<div>\n",
       "<style scoped>\n",
       "    .dataframe tbody tr th:only-of-type {\n",
       "        vertical-align: middle;\n",
       "    }\n",
       "\n",
       "    .dataframe tbody tr th {\n",
       "        vertical-align: top;\n",
       "    }\n",
       "\n",
       "    .dataframe thead th {\n",
       "        text-align: right;\n",
       "    }\n",
       "</style>\n",
       "<table border=\"1\" class=\"dataframe\">\n",
       "  <thead>\n",
       "    <tr style=\"text-align: right;\">\n",
       "      <th></th>\n",
       "      <th>Year</th>\n",
       "      <th>Month</th>\n",
       "      <th>TotalVolume</th>\n",
       "      <th>MaxHigh</th>\n",
       "      <th>MinLow</th>\n",
       "      <th>AvgClose</th>\n",
       "    </tr>\n",
       "  </thead>\n",
       "  <tbody>\n",
       "    <tr>\n",
       "      <th>0</th>\n",
       "      <td>1990</td>\n",
       "      <td>7</td>\n",
       "      <td>35596600</td>\n",
       "      <td>3.86</td>\n",
       "      <td>3.48</td>\n",
       "      <td>3.68</td>\n",
       "    </tr>\n",
       "    <tr>\n",
       "      <th>1</th>\n",
       "      <td>1997</td>\n",
       "      <td>11</td>\n",
       "      <td>8155100</td>\n",
       "      <td>14.67</td>\n",
       "      <td>12.73</td>\n",
       "      <td>13.77</td>\n",
       "    </tr>\n",
       "    <tr>\n",
       "      <th>2</th>\n",
       "      <td>2022</td>\n",
       "      <td>10</td>\n",
       "      <td>125076700</td>\n",
       "      <td>31.56</td>\n",
       "      <td>28.06</td>\n",
       "      <td>29.47</td>\n",
       "    </tr>\n",
       "    <tr>\n",
       "      <th>3</th>\n",
       "      <td>1980</td>\n",
       "      <td>8</td>\n",
       "      <td>42400</td>\n",
       "      <td>0.16</td>\n",
       "      <td>0.14</td>\n",
       "      <td>0.15</td>\n",
       "    </tr>\n",
       "    <tr>\n",
       "      <th>4</th>\n",
       "      <td>1987</td>\n",
       "      <td>10</td>\n",
       "      <td>65422000</td>\n",
       "      <td>3.25</td>\n",
       "      <td>1.76</td>\n",
       "      <td>2.56</td>\n",
       "    </tr>\n",
       "  </tbody>\n",
       "</table>\n",
       "</div>"
      ],
      "text/plain": [
       "   Year  Month  TotalVolume  MaxHigh  MinLow  AvgClose\n",
       "0  1990      7     35596600     3.86    3.48      3.68\n",
       "1  1997     11      8155100    14.67   12.73     13.77\n",
       "2  2022     10    125076700    31.56   28.06     29.47\n",
       "3  1980      8        42400     0.16    0.14      0.15\n",
       "4  1987     10     65422000     3.25    1.76      2.56"
      ]
     },
     "execution_count": 6,
     "metadata": {},
     "output_type": "execute_result"
    }
   ],
   "source": [
    "# Create variable to store the raw url of cso dataset uploaded to personal github account\n",
    "df_grouped_url = 'https://raw.githubusercontent.com/sba23014/cct_msc_data_analytics/main/s2_ca1/pyspark_df_grouped_part-00000-578a57f7-32d7-4116-a2ea-40bdaa806f1e-c000.csv'\n",
    "\n",
    "# Read file from github url into Pandas DataFrame (df)\n",
    "df_grouped = pd.read_csv(df_grouped_url)\n",
    "\n",
    "# Return first 5 rows to validate 'data' df creation\n",
    "df_grouped.head()"
   ]
  },
  {
   "cell_type": "code",
   "execution_count": 7,
   "id": "ad5cfd50",
   "metadata": {},
   "outputs": [
    {
     "data": {
      "text/plain": [
       "(11079, 13)"
      ]
     },
     "execution_count": 7,
     "metadata": {},
     "output_type": "execute_result"
    }
   ],
   "source": [
    "df.shape"
   ]
  },
  {
   "cell_type": "code",
   "execution_count": null,
   "id": "51274fbb",
   "metadata": {},
   "outputs": [],
   "source": []
  },
  {
   "cell_type": "code",
   "execution_count": null,
   "id": "c33fa822",
   "metadata": {},
   "outputs": [],
   "source": []
  },
  {
   "cell_type": "code",
   "execution_count": 8,
   "id": "82953d90",
   "metadata": {},
   "outputs": [],
   "source": [
    "# df size\n",
    "total_data_points = 11079"
   ]
  },
  {
   "cell_type": "code",
   "execution_count": 9,
   "id": "63ef34fc",
   "metadata": {},
   "outputs": [],
   "source": [
    "# Calculate the split index, based on a training/testing split of 80:20\n",
    "split_index = int(total_data_points * 0.8)"
   ]
  },
  {
   "cell_type": "code",
   "execution_count": 10,
   "id": "cfada40e",
   "metadata": {},
   "outputs": [],
   "source": [
    "# Split the data whilst maintaining the sequence\n",
    "training_data = df[:split_index]\n",
    "testing_data = df[split_index:]"
   ]
  },
  {
   "cell_type": "code",
   "execution_count": 11,
   "id": "db03e8c2",
   "metadata": {},
   "outputs": [
    {
     "name": "stdout",
     "output_type": "stream",
     "text": [
      "Training Data Size: 8863\n",
      "Testing Data Size: 2216\n"
     ]
    }
   ],
   "source": [
    "# Validate length of training & testing df splits\n",
    "print(f\"Training Data Size: {len(training_data)}\")\n",
    "print(f\"Testing Data Size: {len(testing_data)}\")"
   ]
  },
  {
   "cell_type": "code",
   "execution_count": 12,
   "id": "7d988096",
   "metadata": {},
   "outputs": [
    {
     "data": {
      "text/html": [
       "<div>\n",
       "<style scoped>\n",
       "    .dataframe tbody tr th:only-of-type {\n",
       "        vertical-align: middle;\n",
       "    }\n",
       "\n",
       "    .dataframe tbody tr th {\n",
       "        vertical-align: top;\n",
       "    }\n",
       "\n",
       "    .dataframe thead th {\n",
       "        text-align: right;\n",
       "    }\n",
       "</style>\n",
       "<table border=\"1\" class=\"dataframe\">\n",
       "  <thead>\n",
       "    <tr style=\"text-align: right;\">\n",
       "      <th></th>\n",
       "      <th>Date</th>\n",
       "      <th>Open</th>\n",
       "      <th>High</th>\n",
       "      <th>Low</th>\n",
       "      <th>Close</th>\n",
       "      <th>Volume</th>\n",
       "      <th>Dividends</th>\n",
       "      <th>Stock Splits</th>\n",
       "      <th>Year</th>\n",
       "      <th>Month</th>\n",
       "      <th>Day</th>\n",
       "      <th>DailyChange</th>\n",
       "      <th>PriceTrend</th>\n",
       "    </tr>\n",
       "  </thead>\n",
       "  <tbody>\n",
       "    <tr>\n",
       "      <th>8858</th>\n",
       "      <td>2015-05-13</td>\n",
       "      <td>28.638762</td>\n",
       "      <td>28.721679</td>\n",
       "      <td>28.396384</td>\n",
       "      <td>28.402761</td>\n",
       "      <td>4185000</td>\n",
       "      <td>0.577</td>\n",
       "      <td>0.0</td>\n",
       "      <td>2015</td>\n",
       "      <td>5</td>\n",
       "      <td>13</td>\n",
       "      <td>-0.236000</td>\n",
       "      <td>Down</td>\n",
       "    </tr>\n",
       "    <tr>\n",
       "      <th>8859</th>\n",
       "      <td>2015-05-14</td>\n",
       "      <td>28.721680</td>\n",
       "      <td>28.798222</td>\n",
       "      <td>28.568602</td>\n",
       "      <td>28.696169</td>\n",
       "      <td>3080400</td>\n",
       "      <td>0.000</td>\n",
       "      <td>0.0</td>\n",
       "      <td>2015</td>\n",
       "      <td>5</td>\n",
       "      <td>14</td>\n",
       "      <td>-0.025512</td>\n",
       "      <td>Down</td>\n",
       "    </tr>\n",
       "    <tr>\n",
       "      <th>8860</th>\n",
       "      <td>2015-05-15</td>\n",
       "      <td>28.472922</td>\n",
       "      <td>28.581355</td>\n",
       "      <td>28.345355</td>\n",
       "      <td>28.555841</td>\n",
       "      <td>2348200</td>\n",
       "      <td>0.000</td>\n",
       "      <td>0.0</td>\n",
       "      <td>2015</td>\n",
       "      <td>5</td>\n",
       "      <td>15</td>\n",
       "      <td>0.082919</td>\n",
       "      <td>Up</td>\n",
       "    </tr>\n",
       "    <tr>\n",
       "      <th>8861</th>\n",
       "      <td>2015-05-18</td>\n",
       "      <td>28.428286</td>\n",
       "      <td>28.651527</td>\n",
       "      <td>28.415529</td>\n",
       "      <td>28.485691</td>\n",
       "      <td>2646500</td>\n",
       "      <td>0.000</td>\n",
       "      <td>0.0</td>\n",
       "      <td>2015</td>\n",
       "      <td>5</td>\n",
       "      <td>18</td>\n",
       "      <td>0.057405</td>\n",
       "      <td>Up</td>\n",
       "    </tr>\n",
       "    <tr>\n",
       "      <th>8862</th>\n",
       "      <td>2015-05-19</td>\n",
       "      <td>28.402762</td>\n",
       "      <td>28.613248</td>\n",
       "      <td>28.377250</td>\n",
       "      <td>28.498438</td>\n",
       "      <td>2640500</td>\n",
       "      <td>0.000</td>\n",
       "      <td>0.0</td>\n",
       "      <td>2015</td>\n",
       "      <td>5</td>\n",
       "      <td>19</td>\n",
       "      <td>0.095676</td>\n",
       "      <td>Up</td>\n",
       "    </tr>\n",
       "  </tbody>\n",
       "</table>\n",
       "</div>"
      ],
      "text/plain": [
       "            Date       Open       High        Low      Close   Volume  \\\n",
       "8858  2015-05-13  28.638762  28.721679  28.396384  28.402761  4185000   \n",
       "8859  2015-05-14  28.721680  28.798222  28.568602  28.696169  3080400   \n",
       "8860  2015-05-15  28.472922  28.581355  28.345355  28.555841  2348200   \n",
       "8861  2015-05-18  28.428286  28.651527  28.415529  28.485691  2646500   \n",
       "8862  2015-05-19  28.402762  28.613248  28.377250  28.498438  2640500   \n",
       "\n",
       "      Dividends  Stock Splits  Year  Month  Day  DailyChange PriceTrend  \n",
       "8858      0.577           0.0  2015      5   13    -0.236000       Down  \n",
       "8859      0.000           0.0  2015      5   14    -0.025512       Down  \n",
       "8860      0.000           0.0  2015      5   15     0.082919         Up  \n",
       "8861      0.000           0.0  2015      5   18     0.057405         Up  \n",
       "8862      0.000           0.0  2015      5   19     0.095676         Up  "
      ]
     },
     "execution_count": 12,
     "metadata": {},
     "output_type": "execute_result"
    }
   ],
   "source": [
    "training_data.tail()"
   ]
  },
  {
   "cell_type": "code",
   "execution_count": 13,
   "id": "07f9fbbd",
   "metadata": {},
   "outputs": [
    {
     "data": {
      "text/html": [
       "<div>\n",
       "<style scoped>\n",
       "    .dataframe tbody tr th:only-of-type {\n",
       "        vertical-align: middle;\n",
       "    }\n",
       "\n",
       "    .dataframe tbody tr th {\n",
       "        vertical-align: top;\n",
       "    }\n",
       "\n",
       "    .dataframe thead th {\n",
       "        text-align: right;\n",
       "    }\n",
       "</style>\n",
       "<table border=\"1\" class=\"dataframe\">\n",
       "  <thead>\n",
       "    <tr style=\"text-align: right;\">\n",
       "      <th></th>\n",
       "      <th>Date</th>\n",
       "      <th>Open</th>\n",
       "      <th>High</th>\n",
       "      <th>Low</th>\n",
       "      <th>Close</th>\n",
       "      <th>Volume</th>\n",
       "      <th>Dividends</th>\n",
       "      <th>Stock Splits</th>\n",
       "      <th>Year</th>\n",
       "      <th>Month</th>\n",
       "      <th>Day</th>\n",
       "      <th>DailyChange</th>\n",
       "      <th>PriceTrend</th>\n",
       "    </tr>\n",
       "  </thead>\n",
       "  <tbody>\n",
       "    <tr>\n",
       "      <th>11074</th>\n",
       "      <td>2024-03-04</td>\n",
       "      <td>42.040001</td>\n",
       "      <td>42.439999</td>\n",
       "      <td>42.020000</td>\n",
       "      <td>42.439999</td>\n",
       "      <td>2404300</td>\n",
       "      <td>0.0</td>\n",
       "      <td>0.0</td>\n",
       "      <td>2024</td>\n",
       "      <td>3</td>\n",
       "      <td>4</td>\n",
       "      <td>0.399998</td>\n",
       "      <td>Up</td>\n",
       "    </tr>\n",
       "    <tr>\n",
       "      <th>11075</th>\n",
       "      <td>2024-03-05</td>\n",
       "      <td>42.630001</td>\n",
       "      <td>42.779999</td>\n",
       "      <td>42.490002</td>\n",
       "      <td>42.599998</td>\n",
       "      <td>2635200</td>\n",
       "      <td>0.0</td>\n",
       "      <td>0.0</td>\n",
       "      <td>2024</td>\n",
       "      <td>3</td>\n",
       "      <td>5</td>\n",
       "      <td>-0.030003</td>\n",
       "      <td>Down</td>\n",
       "    </tr>\n",
       "    <tr>\n",
       "      <th>11076</th>\n",
       "      <td>2024-03-06</td>\n",
       "      <td>42.380001</td>\n",
       "      <td>42.709999</td>\n",
       "      <td>42.330002</td>\n",
       "      <td>42.619999</td>\n",
       "      <td>3247400</td>\n",
       "      <td>0.0</td>\n",
       "      <td>0.0</td>\n",
       "      <td>2024</td>\n",
       "      <td>3</td>\n",
       "      <td>6</td>\n",
       "      <td>0.239998</td>\n",
       "      <td>Up</td>\n",
       "    </tr>\n",
       "    <tr>\n",
       "      <th>11077</th>\n",
       "      <td>2024-03-07</td>\n",
       "      <td>43.680000</td>\n",
       "      <td>43.840000</td>\n",
       "      <td>43.480000</td>\n",
       "      <td>43.580002</td>\n",
       "      <td>4382300</td>\n",
       "      <td>0.0</td>\n",
       "      <td>0.0</td>\n",
       "      <td>2024</td>\n",
       "      <td>3</td>\n",
       "      <td>7</td>\n",
       "      <td>-0.099998</td>\n",
       "      <td>Down</td>\n",
       "    </tr>\n",
       "    <tr>\n",
       "      <th>11078</th>\n",
       "      <td>2024-03-08</td>\n",
       "      <td>43.020000</td>\n",
       "      <td>43.220001</td>\n",
       "      <td>42.910000</td>\n",
       "      <td>43.139999</td>\n",
       "      <td>3308100</td>\n",
       "      <td>0.0</td>\n",
       "      <td>0.0</td>\n",
       "      <td>2024</td>\n",
       "      <td>3</td>\n",
       "      <td>8</td>\n",
       "      <td>0.119999</td>\n",
       "      <td>Up</td>\n",
       "    </tr>\n",
       "  </tbody>\n",
       "</table>\n",
       "</div>"
      ],
      "text/plain": [
       "             Date       Open       High        Low      Close   Volume  \\\n",
       "11074  2024-03-04  42.040001  42.439999  42.020000  42.439999  2404300   \n",
       "11075  2024-03-05  42.630001  42.779999  42.490002  42.599998  2635200   \n",
       "11076  2024-03-06  42.380001  42.709999  42.330002  42.619999  3247400   \n",
       "11077  2024-03-07  43.680000  43.840000  43.480000  43.580002  4382300   \n",
       "11078  2024-03-08  43.020000  43.220001  42.910000  43.139999  3308100   \n",
       "\n",
       "       Dividends  Stock Splits  Year  Month  Day  DailyChange PriceTrend  \n",
       "11074        0.0           0.0  2024      3    4     0.399998         Up  \n",
       "11075        0.0           0.0  2024      3    5    -0.030003       Down  \n",
       "11076        0.0           0.0  2024      3    6     0.239998         Up  \n",
       "11077        0.0           0.0  2024      3    7    -0.099998       Down  \n",
       "11078        0.0           0.0  2024      3    8     0.119999         Up  "
      ]
     },
     "execution_count": 13,
     "metadata": {},
     "output_type": "execute_result"
    }
   ],
   "source": [
    "testing_data.tail()"
   ]
  },
  {
   "cell_type": "code",
   "execution_count": 14,
   "id": "2c0b3fd8",
   "metadata": {},
   "outputs": [
    {
     "name": "stdout",
     "output_type": "stream",
     "text": [
      "[ 0.1392013   0.1392013   0.1392013  ... 28.55584145 28.48569107\n",
      " 28.49843788]\n"
     ]
    }
   ],
   "source": [
    "training_data = training_data.iloc[:, 4].values\n",
    "\n",
    "print(training_data)"
   ]
  },
  {
   "cell_type": "code",
   "execution_count": 15,
   "id": "b0b257f8",
   "metadata": {},
   "outputs": [
    {
     "data": {
      "text/plain": [
       "numpy.ndarray"
      ]
     },
     "execution_count": 15,
     "metadata": {},
     "output_type": "execute_result"
    }
   ],
   "source": [
    "type(training_data)"
   ]
  },
  {
   "cell_type": "code",
   "execution_count": 16,
   "id": "4f1d5366",
   "metadata": {},
   "outputs": [],
   "source": [
    "scaler = MinMaxScaler()"
   ]
  },
  {
   "cell_type": "code",
   "execution_count": 17,
   "id": "6b07c559",
   "metadata": {},
   "outputs": [],
   "source": [
    "training_data = scaler.fit_transform(training_data.reshape(-1, 1))"
   ]
  },
  {
   "cell_type": "code",
   "execution_count": 18,
   "id": "4f7e3cd1",
   "metadata": {},
   "outputs": [],
   "source": [
    "x_training_data = []\n",
    "y_training_data =[]"
   ]
  },
  {
   "cell_type": "code",
   "execution_count": 19,
   "id": "5f604424",
   "metadata": {},
   "outputs": [],
   "source": [
    "for i in range(40, len(training_data)):\n",
    "    x_training_data.append(training_data[i-40:i, 0])\n",
    "    y_training_data.append(training_data[i, 0])"
   ]
  },
  {
   "cell_type": "code",
   "execution_count": 20,
   "id": "fe840642",
   "metadata": {},
   "outputs": [],
   "source": [
    "x_training_data = np.array(x_training_data)\n",
    "y_training_data = np.array(y_training_data)"
   ]
  },
  {
   "cell_type": "code",
   "execution_count": 21,
   "id": "86ef8d95",
   "metadata": {},
   "outputs": [
    {
     "name": "stdout",
     "output_type": "stream",
     "text": [
      "(8823, 40)\n",
      "(8823,)\n"
     ]
    }
   ],
   "source": [
    "print(x_training_data.shape)\n",
    "print(y_training_data.shape)"
   ]
  },
  {
   "cell_type": "code",
   "execution_count": 22,
   "id": "be363580",
   "metadata": {},
   "outputs": [],
   "source": [
    "x_training_data = np.reshape(x_training_data, (x_training_data.shape[0], \n",
    "                                               x_training_data.shape[1], \n",
    "                                               1))"
   ]
  },
  {
   "cell_type": "code",
   "execution_count": 23,
   "id": "e81042e2",
   "metadata": {},
   "outputs": [
    {
     "name": "stdout",
     "output_type": "stream",
     "text": [
      "(8823, 40, 1)\n"
     ]
    }
   ],
   "source": [
    "print(x_training_data.shape)"
   ]
  },
  {
   "cell_type": "code",
   "execution_count": 24,
   "id": "3ecb9cc3",
   "metadata": {},
   "outputs": [],
   "source": [
    "rnn = Sequential()"
   ]
  },
  {
   "cell_type": "code",
   "execution_count": 25,
   "id": "ebf6f0d8",
   "metadata": {},
   "outputs": [],
   "source": [
    "rnn.add(LSTM(units = 45, return_sequences = True, input_shape = (x_training_data.shape[1], 1)))"
   ]
  },
  {
   "cell_type": "code",
   "execution_count": 26,
   "id": "960641c5",
   "metadata": {},
   "outputs": [],
   "source": [
    "rnn.add(Dropout(0.2))"
   ]
  },
  {
   "cell_type": "code",
   "execution_count": 27,
   "id": "2ba1d13a",
   "metadata": {},
   "outputs": [],
   "source": [
    "rnn.add(LSTM(units = 45, return_sequences = True))\n",
    "\n",
    "rnn.add(Dropout(0.2))\n",
    "\n",
    "rnn.add(LSTM(units = 45, return_sequences = True))\n",
    "\n",
    "rnn.add(Dropout(0.2))\n",
    "\n",
    "rnn.add(LSTM(units = 45))\n",
    "\n",
    "rnn.add(Dropout(0.2))"
   ]
  },
  {
   "cell_type": "code",
   "execution_count": 28,
   "id": "da6baa1b",
   "metadata": {},
   "outputs": [],
   "source": [
    "rnn.add(Dense(units = 1))"
   ]
  },
  {
   "cell_type": "code",
   "execution_count": 29,
   "id": "4e9e628d",
   "metadata": {},
   "outputs": [],
   "source": [
    "rnn.compile(optimizer = 'adam', loss = 'mean_squared_error')"
   ]
  },
  {
   "cell_type": "code",
   "execution_count": 30,
   "id": "5bf661b6",
   "metadata": {
    "scrolled": true
   },
   "outputs": [
    {
     "name": "stdout",
     "output_type": "stream",
     "text": [
      "Epoch 1/100\n",
      "276/276 [==============================] - 16s 38ms/step - loss: 0.0067\n",
      "Epoch 2/100\n",
      "276/276 [==============================] - 10s 38ms/step - loss: 0.0022\n",
      "Epoch 3/100\n",
      "276/276 [==============================] - 11s 38ms/step - loss: 0.0019\n",
      "Epoch 4/100\n",
      "276/276 [==============================] - 10s 38ms/step - loss: 0.0017\n",
      "Epoch 5/100\n",
      "276/276 [==============================] - 10s 38ms/step - loss: 0.0015\n",
      "Epoch 6/100\n",
      "276/276 [==============================] - 10s 38ms/step - loss: 0.0014\n",
      "Epoch 7/100\n",
      "276/276 [==============================] - 10s 38ms/step - loss: 0.0014\n",
      "Epoch 8/100\n",
      "276/276 [==============================] - 10s 38ms/step - loss: 0.0013\n",
      "Epoch 9/100\n",
      "276/276 [==============================] - 10s 38ms/step - loss: 0.0012\n",
      "Epoch 10/100\n",
      "276/276 [==============================] - 10s 37ms/step - loss: 0.0012\n",
      "Epoch 11/100\n",
      "276/276 [==============================] - 11s 38ms/step - loss: 0.0011\n",
      "Epoch 12/100\n",
      "276/276 [==============================] - 12s 43ms/step - loss: 0.0011\n",
      "Epoch 13/100\n",
      "276/276 [==============================] - 11s 40ms/step - loss: 9.9021e-04\n",
      "Epoch 14/100\n",
      "276/276 [==============================] - 11s 39ms/step - loss: 0.0010\n",
      "Epoch 15/100\n",
      "276/276 [==============================] - 11s 38ms/step - loss: 9.7592e-04\n",
      "Epoch 16/100\n",
      "276/276 [==============================] - 11s 39ms/step - loss: 9.3203e-04\n",
      "Epoch 17/100\n",
      "276/276 [==============================] - 11s 39ms/step - loss: 9.5404e-04\n",
      "Epoch 18/100\n",
      "276/276 [==============================] - 11s 38ms/step - loss: 9.8723e-04\n",
      "Epoch 19/100\n",
      "276/276 [==============================] - 10s 38ms/step - loss: 8.7681e-04\n",
      "Epoch 20/100\n",
      "276/276 [==============================] - 12s 42ms/step - loss: 8.8188e-04\n",
      "Epoch 21/100\n",
      "276/276 [==============================] - 11s 39ms/step - loss: 9.0680e-04\n",
      "Epoch 22/100\n",
      "276/276 [==============================] - 11s 39ms/step - loss: 8.3475e-04\n",
      "Epoch 23/100\n",
      "276/276 [==============================] - 11s 40ms/step - loss: 9.2902e-04\n",
      "Epoch 24/100\n",
      "276/276 [==============================] - 11s 39ms/step - loss: 9.0228e-04\n",
      "Epoch 25/100\n",
      "276/276 [==============================] - 11s 39ms/step - loss: 8.8289e-04\n",
      "Epoch 26/100\n",
      "276/276 [==============================] - 11s 38ms/step - loss: 8.6201e-04\n",
      "Epoch 27/100\n",
      "276/276 [==============================] - 11s 38ms/step - loss: 8.2622e-04\n",
      "Epoch 28/100\n",
      "276/276 [==============================] - 10s 38ms/step - loss: 8.4072e-04\n",
      "Epoch 29/100\n",
      "276/276 [==============================] - 11s 38ms/step - loss: 8.2384e-04\n",
      "Epoch 30/100\n",
      "276/276 [==============================] - 10s 38ms/step - loss: 8.6144e-04\n",
      "Epoch 31/100\n",
      "276/276 [==============================] - 10s 38ms/step - loss: 8.0255e-04\n",
      "Epoch 32/100\n",
      "276/276 [==============================] - 10s 38ms/step - loss: 8.6430e-04\n",
      "Epoch 33/100\n",
      "276/276 [==============================] - 11s 38ms/step - loss: 8.0492e-04\n",
      "Epoch 34/100\n",
      "276/276 [==============================] - 11s 38ms/step - loss: 7.7752e-04\n",
      "Epoch 35/100\n",
      "276/276 [==============================] - 10s 38ms/step - loss: 7.9388e-04\n",
      "Epoch 36/100\n",
      "276/276 [==============================] - 10s 37ms/step - loss: 7.8014e-04\n",
      "Epoch 37/100\n",
      "276/276 [==============================] - 10s 37ms/step - loss: 7.7866e-04\n",
      "Epoch 38/100\n",
      "276/276 [==============================] - 10s 38ms/step - loss: 7.8199e-04\n",
      "Epoch 39/100\n",
      "276/276 [==============================] - 10s 37ms/step - loss: 8.1992e-04\n",
      "Epoch 40/100\n",
      "276/276 [==============================] - 10s 38ms/step - loss: 7.8302e-04\n",
      "Epoch 41/100\n",
      "276/276 [==============================] - 11s 39ms/step - loss: 7.9036e-04\n",
      "Epoch 42/100\n",
      "276/276 [==============================] - 10s 38ms/step - loss: 7.4663e-04\n",
      "Epoch 43/100\n",
      "276/276 [==============================] - 10s 38ms/step - loss: 7.4310e-04\n",
      "Epoch 44/100\n",
      "276/276 [==============================] - 11s 40ms/step - loss: 7.4149e-04\n",
      "Epoch 45/100\n",
      "276/276 [==============================] - 11s 38ms/step - loss: 7.6248e-04\n",
      "Epoch 46/100\n",
      "276/276 [==============================] - 10s 38ms/step - loss: 7.5763e-04\n",
      "Epoch 47/100\n",
      "276/276 [==============================] - 10s 38ms/step - loss: 7.1911e-04\n",
      "Epoch 48/100\n",
      "276/276 [==============================] - 10s 37ms/step - loss: 7.9437e-04\n",
      "Epoch 49/100\n",
      "276/276 [==============================] - 10s 37ms/step - loss: 7.2426e-04\n",
      "Epoch 50/100\n",
      "276/276 [==============================] - 11s 38ms/step - loss: 7.2894e-04\n",
      "Epoch 51/100\n",
      "276/276 [==============================] - 11s 39ms/step - loss: 7.1366e-04\n",
      "Epoch 52/100\n",
      "276/276 [==============================] - 11s 38ms/step - loss: 7.0109e-04\n",
      "Epoch 53/100\n",
      "276/276 [==============================] - 10s 38ms/step - loss: 6.7298e-04\n",
      "Epoch 54/100\n",
      "276/276 [==============================] - 10s 38ms/step - loss: 7.2508e-04\n",
      "Epoch 55/100\n",
      "276/276 [==============================] - 10s 37ms/step - loss: 7.3752e-04\n",
      "Epoch 56/100\n",
      "276/276 [==============================] - 10s 37ms/step - loss: 7.5875e-04\n",
      "Epoch 57/100\n",
      "276/276 [==============================] - 10s 38ms/step - loss: 6.9902e-04\n",
      "Epoch 58/100\n",
      "276/276 [==============================] - 11s 41ms/step - loss: 6.9913e-04\n",
      "Epoch 59/100\n",
      "276/276 [==============================] - 10s 38ms/step - loss: 7.0325e-04\n",
      "Epoch 60/100\n",
      "276/276 [==============================] - 10s 37ms/step - loss: 6.9870e-04\n",
      "Epoch 61/100\n",
      "276/276 [==============================] - 10s 37ms/step - loss: 6.7574e-04\n",
      "Epoch 62/100\n",
      "276/276 [==============================] - 10s 38ms/step - loss: 7.2686e-04\n",
      "Epoch 63/100\n",
      "276/276 [==============================] - 11s 38ms/step - loss: 7.2215e-04\n",
      "Epoch 64/100\n",
      "276/276 [==============================] - 10s 38ms/step - loss: 6.9100e-04\n",
      "Epoch 65/100\n",
      "276/276 [==============================] - 10s 38ms/step - loss: 6.9644e-04\n",
      "Epoch 66/100\n",
      "276/276 [==============================] - 10s 38ms/step - loss: 6.6741e-04\n",
      "Epoch 67/100\n",
      "276/276 [==============================] - 11s 38ms/step - loss: 7.0210e-04\n",
      "Epoch 68/100\n",
      "276/276 [==============================] - 10s 37ms/step - loss: 6.4541e-04\n",
      "Epoch 69/100\n",
      "276/276 [==============================] - 10s 38ms/step - loss: 6.4451e-04\n",
      "Epoch 70/100\n",
      "276/276 [==============================] - 10s 38ms/step - loss: 6.4284e-04\n",
      "Epoch 71/100\n",
      "276/276 [==============================] - 10s 37ms/step - loss: 6.5967e-04\n",
      "Epoch 72/100\n",
      "276/276 [==============================] - 10s 37ms/step - loss: 6.4046e-04\n",
      "Epoch 73/100\n",
      "276/276 [==============================] - 10s 37ms/step - loss: 6.4533e-04\n",
      "Epoch 74/100\n",
      "276/276 [==============================] - 11s 38ms/step - loss: 6.7270e-04\n",
      "Epoch 75/100\n",
      "276/276 [==============================] - 11s 41ms/step - loss: 6.2279e-04\n",
      "Epoch 76/100\n",
      "276/276 [==============================] - 10s 38ms/step - loss: 6.7388e-04\n",
      "Epoch 77/100\n",
      "276/276 [==============================] - 10s 38ms/step - loss: 6.4522e-04\n",
      "Epoch 78/100\n",
      "276/276 [==============================] - 11s 39ms/step - loss: 6.4155e-04\n",
      "Epoch 79/100\n",
      "276/276 [==============================] - 11s 39ms/step - loss: 6.4069e-04\n",
      "Epoch 80/100\n",
      "276/276 [==============================] - 11s 39ms/step - loss: 6.3816e-04\n",
      "Epoch 81/100\n",
      "276/276 [==============================] - 11s 38ms/step - loss: 6.8550e-04\n",
      "Epoch 82/100\n",
      "276/276 [==============================] - 11s 39ms/step - loss: 6.6964e-04\n",
      "Epoch 83/100\n",
      "276/276 [==============================] - 11s 39ms/step - loss: 6.3350e-04\n",
      "Epoch 84/100\n",
      "276/276 [==============================] - 11s 39ms/step - loss: 6.1127e-04\n",
      "Epoch 85/100\n",
      "276/276 [==============================] - 11s 39ms/step - loss: 6.2976e-04\n",
      "Epoch 86/100\n",
      "276/276 [==============================] - 11s 39ms/step - loss: 6.6161e-04\n",
      "Epoch 87/100\n",
      "276/276 [==============================] - 11s 38ms/step - loss: 6.1308e-04\n",
      "Epoch 88/100\n",
      "276/276 [==============================] - 10s 37ms/step - loss: 6.5113e-04\n",
      "Epoch 89/100\n",
      "276/276 [==============================] - 10s 37ms/step - loss: 6.0804e-04\n",
      "Epoch 90/100\n",
      "276/276 [==============================] - 10s 37ms/step - loss: 6.1156e-04\n",
      "Epoch 91/100\n",
      "276/276 [==============================] - 10s 37ms/step - loss: 6.3900e-04\n",
      "Epoch 92/100\n",
      "276/276 [==============================] - 11s 38ms/step - loss: 6.4002e-04\n",
      "Epoch 93/100\n"
     ]
    },
    {
     "name": "stdout",
     "output_type": "stream",
     "text": [
      "276/276 [==============================] - 11s 38ms/step - loss: 6.1821e-04\n",
      "Epoch 94/100\n",
      "276/276 [==============================] - 11s 38ms/step - loss: 6.1471e-04\n",
      "Epoch 95/100\n",
      "276/276 [==============================] - 11s 38ms/step - loss: 6.3912e-04\n",
      "Epoch 96/100\n",
      "276/276 [==============================] - 10s 38ms/step - loss: 6.0274e-04\n",
      "Epoch 97/100\n",
      "276/276 [==============================] - 11s 38ms/step - loss: 5.7790e-04\n",
      "Epoch 98/100\n",
      "276/276 [==============================] - 11s 38ms/step - loss: 6.1088e-04\n",
      "Epoch 99/100\n",
      "276/276 [==============================] - 10s 37ms/step - loss: 5.8872e-04\n",
      "Epoch 100/100\n",
      "276/276 [==============================] - 10s 38ms/step - loss: 6.1761e-04\n"
     ]
    },
    {
     "data": {
      "text/plain": [
       "<keras.src.callbacks.History at 0x1b56f50cc40>"
      ]
     },
     "execution_count": 30,
     "metadata": {},
     "output_type": "execute_result"
    }
   ],
   "source": [
    "rnn.fit(x_training_data, y_training_data, epochs = 100, batch_size = 32)"
   ]
  },
  {
   "cell_type": "code",
   "execution_count": 31,
   "id": "3d17c786",
   "metadata": {},
   "outputs": [
    {
     "name": "stdout",
     "output_type": "stream",
     "text": [
      "[28.62600136 29.05973816 28.86838341 ... 42.61999893 43.58000183\n",
      " 43.13999939]\n"
     ]
    }
   ],
   "source": [
    "testing_data = testing_data.iloc[:, 4].values\n",
    "\n",
    "print(testing_data)"
   ]
  },
  {
   "cell_type": "code",
   "execution_count": 32,
   "id": "65c1c15b",
   "metadata": {},
   "outputs": [
    {
     "data": {
      "text/plain": [
       "[<matplotlib.lines.Line2D at 0x1b577cd1e80>]"
      ]
     },
     "execution_count": 32,
     "metadata": {},
     "output_type": "execute_result"
    },
    {
     "data": {
      "image/png": "[encoded data removed]",
      "text/plain": [
       "<Figure size 640x480 with 1 Axes>"
      ]
     },
     "metadata": {},
     "output_type": "display_data"
    }
   ],
   "source": [
    "plt.plot(testing_data)"
   ]
  },
  {
   "cell_type": "code",
   "execution_count": 33,
   "id": "b3ef4460",
   "metadata": {},
   "outputs": [],
   "source": [
    "testing_data = np.reshape(testing_data, (-1, 1))"
   ]
  },
  {
   "cell_type": "code",
   "execution_count": 34,
   "id": "6d9e1e1d",
   "metadata": {},
   "outputs": [
    {
     "ename": "AttributeError",
     "evalue": "'numpy.ndarray' object has no attribute 'values'",
     "output_type": "error",
     "traceback": [
      "\u001b[1;31m---------------------------------------------------------------------------\u001b[0m",
      "\u001b[1;31mAttributeError\u001b[0m                            Traceback (most recent call last)",
      "Cell \u001b[1;32mIn[34], line 1\u001b[0m\n\u001b[1;32m----> 1\u001b[0m testing_data_v2 \u001b[38;5;241m=\u001b[39m \u001b[43mtesting_data\u001b[49m\u001b[43m[\u001b[49m\u001b[38;5;28;43mlen\u001b[39;49m\u001b[43m(\u001b[49m\u001b[43mtesting_data\u001b[49m\u001b[43m)\u001b[49m\u001b[43m \u001b[49m\u001b[38;5;241;43m-\u001b[39;49m\u001b[43m \u001b[49m\u001b[38;5;28;43mlen\u001b[39;49m\u001b[43m(\u001b[49m\u001b[43mtesting_data\u001b[49m\u001b[43m)\u001b[49m\u001b[43m \u001b[49m\u001b[38;5;241;43m-\u001b[39;49m\u001b[43m \u001b[49m\u001b[38;5;241;43m40\u001b[39;49m\u001b[43m:\u001b[49m\u001b[43m]\u001b[49m\u001b[38;5;241;43m.\u001b[39;49m\u001b[43mvalues\u001b[49m\n",
      "\u001b[1;31mAttributeError\u001b[0m: 'numpy.ndarray' object has no attribute 'values'"
     ]
    }
   ],
   "source": [
    "testing_data_v2 = testing_data[len(testing_data) - len(testing_data) - 40:].values"
   ]
  },
  {
   "cell_type": "code",
   "execution_count": null,
   "id": "e1794ac1",
   "metadata": {},
   "outputs": [],
   "source": [
    "len(testing_data_v2)"
   ]
  },
  {
   "cell_type": "code",
   "execution_count": 68,
   "id": "624b20b2",
   "metadata": {},
   "outputs": [],
   "source": [
    "testing_data = scaler.transform(testing_data)"
   ]
  },
  {
   "cell_type": "code",
   "execution_count": 70,
   "id": "bb66b37c",
   "metadata": {},
   "outputs": [],
   "source": [
    "final_testing_data = []\n",
    "\n",
    "for i in range(40, len(testing_data)):\n",
    "\n",
    "    final_testing_data.append(testing_data[i-40:i, 0])\n",
    "\n",
    "final_testing_data = np.array(final_testing_data)"
   ]
  },
  {
   "cell_type": "code",
   "execution_count": 71,
   "id": "0793c32f",
   "metadata": {},
   "outputs": [],
   "source": [
    "final_testing_data = np.reshape(final_testing_data, (final_testing_data.shape[0], final_testing_data.shape[1],1))"
   ]
  },
  {
   "cell_type": "code",
   "execution_count": 72,
   "id": "489fbf50",
   "metadata": {},
   "outputs": [
    {
     "name": "stdout",
     "output_type": "stream",
     "text": [
      "68/68 [==============================] - 2s 14ms/step\n"
     ]
    }
   ],
   "source": [
    "predictions = rnn.predict(final_testing_data)"
   ]
  },
  {
   "cell_type": "code",
   "execution_count": 99,
   "id": "99c56a54",
   "metadata": {},
   "outputs": [
    {
     "data": {
      "text/plain": [
       "[<matplotlib.lines.Line2D at 0x23fe4761100>]"
      ]
     },
     "execution_count": 99,
     "metadata": {},
     "output_type": "execute_result"
    },
    {
     "data": {
      "image/png": "[encoded data removed]",
      "text/plain": [
       "<Figure size 640x480 with 1 Axes>"
      ]
     },
     "metadata": {},
     "output_type": "display_data"
    }
   ],
   "source": [
    "plt.plot(predictions)"
   ]
  },
  {
   "cell_type": "code",
   "execution_count": 98,
   "id": "ef0990f7",
   "metadata": {},
   "outputs": [
    {
     "data": {
      "text/plain": [
       "[<matplotlib.lines.Line2D at 0x23fe46ec520>]"
      ]
     },
     "execution_count": 98,
     "metadata": {},
     "output_type": "execute_result"
    },
    {
     "data": {
      "image/png": "[encoded data removed]",
      "text/plain": [
       "<Figure size 640x480 with 1 Axes>"
      ]
     },
     "metadata": {},
     "output_type": "display_data"
    }
   ],
   "source": [
    "unscaled_predictions = scaler.inverse_transform(predictions)\n",
    "\n",
    "plt.plot(unscaled_predictions)"
   ]
  },
  {
   "cell_type": "code",
   "execution_count": 97,
   "id": "9c1c6e49",
   "metadata": {},
   "outputs": [
    {
     "data": {
      "text/plain": [
       "[<matplotlib.lines.Line2D at 0x23fe36a2bb0>]"
      ]
     },
     "execution_count": 97,
     "metadata": {},
     "output_type": "execute_result"
    },
    {
     "data": {
      "image/png": "[encoded data removed]",
      "text/plain": [
       "<Figure size 640x480 with 1 Axes>"
      ]
     },
     "metadata": {},
     "output_type": "display_data"
    }
   ],
   "source": [
    "unscaled_testing_data = scaler.inverse_transform(testing_data)\n",
    "\n",
    "plt.plot(unscaled_testing_data)"
   ]
  },
  {
   "cell_type": "code",
   "execution_count": 96,
   "id": "ac6c7b46",
   "metadata": {},
   "outputs": [
    {
     "data": {
      "text/plain": [
       "<matplotlib.legend.Legend at 0x23fe35c9f40>"
      ]
     },
     "execution_count": 96,
     "metadata": {},
     "output_type": "execute_result"
    },
    {
     "data": {
      "image/png": "[encoded data removed]",
      "text/plain": [
       "<Figure size 640x480 with 1 Axes>"
      ]
     },
     "metadata": {},
     "output_type": "display_data"
    }
   ],
   "source": [
    "# Apply the Seaborn Whitegrid style\n",
    "plt.style.use('seaborn-whitegrid')\n",
    "\n",
    "plt.plot(unscaled_predictions, color = 'orange', label = \"Predictions\")\n",
    "\n",
    "plt.plot(unscaled_testing_data, color = 'blue', label = \"Real Data\")\n",
    "\n",
    "plt.title('Facebook Stock Price Predictions')\n",
    "\n",
    "plt.legend()"
   ]
  },
  {
   "cell_type": "code",
   "execution_count": 85,
   "id": "bcdbabb5",
   "metadata": {},
   "outputs": [
    {
     "name": "stdout",
     "output_type": "stream",
     "text": [
      "The first trading day price prediction is for Jan 2020 is:  [26.858156]\n",
      "The real first trading day price for Jan 2020 is:  [28.62600136]\n"
     ]
    }
   ],
   "source": [
    "print(\"The first trading day price prediction is for Jan 2020 is: \",unscaled_predictions[0])\n",
    "print(\"The real first trading day price for Jan 2020 is: \",unscaled_testing_data[0])"
   ]
  },
  {
   "cell_type": "code",
   "execution_count": 91,
   "id": "0163816d",
   "metadata": {},
   "outputs": [
    {
     "name": "stdout",
     "output_type": "stream",
     "text": [
      "The last trading day price prediction is for Jan 2020 is:  [35.10634]\n",
      "The real last trading day price for Jan 2020 is:  [39.60287857]\n"
     ]
    }
   ],
   "source": [
    "print(\"The last trading day price prediction is for Jan 2020 is: \",unscaled_predictions[2175])\n",
    "print(\"The real last trading day price for Jan 2020 is: \",unscaled_testing_data[2175])"
   ]
  }
 ],
 "metadata": {
  "kernelspec": {
   "display_name": "Python 3 (ipykernel)",
   "language": "python",
   "name": "python3"
  },
  "language_info": {
   "codemirror_mode": {
    "name": "ipython",
    "version": 3
   },
   "file_extension": ".py",
   "mimetype": "text/x-python",
   "name": "python",
   "nbconvert_exporter": "python",
   "pygments_lexer": "ipython3",
   "version": "3.9.16"
  }
 },
 "nbformat": 4,
 "nbformat_minor": 5
}
